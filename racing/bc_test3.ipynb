{
 "cells": [
  {
   "cell_type": "code",
   "execution_count": 1,
   "metadata": {},
   "outputs": [
    {
     "name": "stderr",
     "output_type": "stream",
     "text": [
      "/home/anubis/miniconda3/envs/env38/lib/python3.8/site-packages/tqdm/auto.py:21: TqdmWarning: IProgress not found. Please update jupyter and ipywidgets. See https://ipywidgets.readthedocs.io/en/stable/user_install.html\n",
      "  from .autonotebook import tqdm as notebook_tqdm\n"
     ]
    }
   ],
   "source": [
    "import numpy as np\n",
    "import gymnasium\n",
    "from gymnasium.wrappers import TimeLimit\n",
    "from imitation.data import rollout\n",
    "from imitation.policies.serialize import load_policy\n",
    "from imitation.util.util import make_vec_env\n",
    "from imitation.data.wrappers import RolloutInfoWrapper\n",
    "from stable_baselines3.common.vec_env import VecVideoRecorder, DummyVecEnv\n",
    "from stable_baselines3.common.policies import ActorCriticCnnPolicy\n",
    "from stable_baselines3.common.evaluation import evaluate_policy\n",
    "\n",
    "from gymnasium.spaces import Box\n",
    "from gymnasium.envs.registration import register\n",
    "import racing_gym\n",
    "import os\n",
    "import json\n",
    "from PIL import Image\n",
    "import torch\n",
    "import time\n",
    "\n",
    "rng = np.random.default_rng()\n"
   ]
  },
  {
   "cell_type": "code",
   "execution_count": 2,
   "metadata": {},
   "outputs": [],
   "source": [
    "import os\n",
    "import json\n",
    "import numpy as np\n",
    "from PIL import Image\n",
    "\n",
    "def load_expert_data_directory(parent_directory):\n",
    "    # parent_directory内のすべてのディレクトリを取得\n",
    "    subdirectories = [os.path.join(parent_directory, d) for d in os.listdir(parent_directory) if os.path.isdir(os.path.join(parent_directory, d))]\n",
    "    \n",
    "    all_expert_data = []  # すべてのディレクトリのexpert_dataを格納するリスト\n",
    "\n",
    "    for data_path in subdirectories:\n",
    "        # ディレクトリごとにexpert_dataの初期化\n",
    "        expert_data = {'images': [], 'actions': []}\n",
    "\n",
    "        # 画像ファイルに対応するJSONファイルを取得\n",
    "        json_file_list = [json_file for json_file in os.listdir(data_path) if json_file.startswith('record_') and json_file.endswith('.json')]\n",
    "\n",
    "        for json_file in json_file_list:\n",
    "            # レコードのファイルパスを構築\n",
    "            json_path = os.path.join(data_path, json_file)\n",
    "\n",
    "            # レコードの読み込み\n",
    "            try:\n",
    "                with open(json_path, 'r') as json_file:\n",
    "                    record_data = json.load(json_file)\n",
    "            except FileNotFoundError:\n",
    "                print(f\"エラー：{json_path} でJSONファイルが見つかりませんでした。\")\n",
    "                continue\n",
    "            except json.JSONDecodeError:\n",
    "                print(f\"エラー：{json_path} のJSONファイルのデコードに失敗しました。\")\n",
    "                continue\n",
    "\n",
    "            # 画像データの読み込み\n",
    "            image_file = record_data.get('cam/image_array', '')  # 画像ファイル名をJSONから取得\n",
    "            image_path = os.path.join(data_path, image_file)\n",
    "            try:\n",
    "                image_data = np.array(Image.open(image_path))\n",
    "            except FileNotFoundError:\n",
    "                print(f\"エラー：{image_path} で画像ファイルが見つかりませんでした。\")\n",
    "                continue\n",
    "\n",
    "            # expert_dataに追加\n",
    "            expert_data['images'].append(image_data)\n",
    "            expert_data['actions'].append([record_data.get('user/angle', 0), record_data.get('user/throttle', 0)])\n",
    "        \n",
    "        # すべてのディレクトリのexpert_dataをリストに追加\n",
    "        all_expert_data.append(expert_data)\n",
    "\n",
    "\n",
    "    return all_expert_data\n"
   ]
  },
  {
   "cell_type": "code",
   "execution_count": 3,
   "metadata": {},
   "outputs": [],
   "source": [
    "all_expert_data = load_expert_data_directory('../../autorace/data/S1/')"
   ]
  },
  {
   "cell_type": "code",
   "execution_count": 4,
   "metadata": {},
   "outputs": [],
   "source": [
    "from imitation.data.types import Transitions\n",
    "\n",
    "def convert_to_transitions(expert_data):\n",
    "    obs_array = []\n",
    "    next_obs_array = []\n",
    "    action_array = []\n",
    "    done_array = []\n",
    "    info_array = []\n",
    "    # expert_dataの画像と行動をTrajectoryに変換\n",
    "    for data in expert_data:\n",
    "        data_size = len(data['images'])\n",
    "        obs_array+=data['images']\n",
    "        n_obs = data['images'].copy()\n",
    "        n_obs.pop(0)\n",
    "        x, y, z = data['images'][-1].shape\n",
    "        n_obs.append(np.zeros((x, y, z), dtype=np.uint8))\n",
    "        next_obs_array+=(n_obs)\n",
    "        action_array+=data['actions']\n",
    "        done_array+=[False]*(data_size-1)+[True]\n",
    "        info_array+=[{}]*data_size\n",
    "    transitions=Transitions( \n",
    "        obs=np.array(obs_array),\n",
    "        acts=np.array(action_array),\n",
    "        next_obs=np.array(next_obs_array),\n",
    "        dones=np.array(done_array),\n",
    "        infos=np.array(info_array))\n",
    "\n",
    "\n",
    "    return transitions"
   ]
  },
  {
   "cell_type": "code",
   "execution_count": 5,
   "metadata": {},
   "outputs": [
    {
     "name": "stdout",
     "output_type": "stream",
     "text": [
      "(3, 224, 224)\n"
     ]
    }
   ],
   "source": [
    "reshaped_all_expert_data = all_expert_data.copy()\n",
    "# すべてのディレクトリに対して\n",
    "for i in range(len(reshaped_all_expert_data)):\n",
    "    # すべての画像を変換\n",
    "    for j in range(len(reshaped_all_expert_data[i]['images'])):\n",
    "        # 画像の軸の順序を変更\n",
    "        reshaped_image = np.transpose(reshaped_all_expert_data[i]['images'][j], (2, 0, 1))\n",
    "        \n",
    "        # expert_dataに変更を反映\n",
    "        reshaped_all_expert_data[i]['images'][j] = reshaped_image.copy()\n",
    "\n",
    "# 形状を確認\n",
    "print(reshaped_all_expert_data[0]['images'][0].shape)\n",
    "\n",
    "for i in range(len(reshaped_all_expert_data)):\n",
    "    for j in range(len(reshaped_all_expert_data[i]['images'])):\n",
    "        if reshaped_all_expert_data[i]['images'][j].shape != (3, 224, 224):\n",
    "            print(i, j)"
   ]
  },
  {
   "cell_type": "code",
   "execution_count": 6,
   "metadata": {},
   "outputs": [
    {
     "name": "stdout",
     "output_type": "stream",
     "text": [
      "(3, 224, 224)\n",
      "(3, 224, 224)\n"
     ]
    }
   ],
   "source": [
    "print(reshaped_all_expert_data[0]['images'][0].shape)\n",
    "print(all_expert_data[0]['images'][0].shape)"
   ]
  },
  {
   "cell_type": "code",
   "execution_count": 7,
   "metadata": {},
   "outputs": [
    {
     "name": "stdout",
     "output_type": "stream",
     "text": [
      "Transitions(obs=array([[[[158, 155, 154, ..., 143, 137, 128],\n",
      "         [156, 156, 156, ..., 139, 135, 127],\n",
      "         [154, 156, 158, ..., 136, 133, 127],\n",
      "         ...,\n",
      "         [106, 109, 112, ..., 113, 112, 112],\n",
      "         [108, 111, 113, ..., 113, 112, 114],\n",
      "         [111, 113, 115, ..., 113, 112, 114]],\n",
      "\n",
      "        [[103, 100,  99, ..., 141, 135, 126],\n",
      "         [101, 101, 101, ..., 137, 133, 125],\n",
      "         [ 99, 101, 103, ..., 134, 131, 125],\n",
      "         ...,\n",
      "         [ 55,  58,  61, ..., 116, 115, 115],\n",
      "         [ 57,  60,  62, ..., 116, 115, 117],\n",
      "         [ 60,  62,  64, ..., 116, 115, 117]],\n",
      "\n",
      "        [[ 73,  70,  69, ..., 154, 148, 139],\n",
      "         [ 71,  71,  71, ..., 150, 146, 138],\n",
      "         [ 69,  71,  73, ..., 147, 144, 138],\n",
      "         ...,\n",
      "         [ 34,  37,  40, ..., 135, 134, 134],\n",
      "         [ 36,  39,  41, ..., 135, 134, 136],\n",
      "         [ 39,  41,  43, ..., 135, 134, 136]]],\n",
      "\n",
      "\n",
      "       [[[169, 170, 171, ..., 138, 145, 150],\n",
      "         [170, 171, 172, ..., 135, 140, 143],\n",
      "         [171, 171, 173, ..., 134, 137, 138],\n",
      "         ...,\n",
      "         [ 86,  84,  83, ..., 124, 129, 122],\n",
      "         [ 84,  84,  83, ..., 121, 125, 116],\n",
      "         [ 83,  83,  83, ..., 118, 120, 110]],\n",
      "\n",
      "        [[110, 111, 112, ..., 123, 130, 135],\n",
      "         [111, 112, 113, ..., 120, 125, 128],\n",
      "         [112, 112, 114, ..., 119, 122, 123],\n",
      "         ...,\n",
      "         [ 50,  48,  47, ..., 125, 130, 123],\n",
      "         [ 48,  48,  47, ..., 122, 126, 117],\n",
      "         [ 46,  46,  46, ..., 119, 121, 111]],\n",
      "\n",
      "        [[ 78,  79,  80, ..., 126, 133, 138],\n",
      "         [ 79,  80,  81, ..., 123, 128, 131],\n",
      "         [ 80,  80,  82, ..., 122, 125, 126],\n",
      "         ...,\n",
      "         [ 38,  36,  35, ..., 146, 151, 144],\n",
      "         [ 36,  36,  35, ..., 143, 147, 138],\n",
      "         [ 37,  37,  37, ..., 140, 142, 132]]],\n",
      "\n",
      "\n",
      "       [[[141, 145, 144, ..., 254, 254, 254],\n",
      "         [145, 148, 147, ..., 254, 254, 254],\n",
      "         [150, 151, 149, ..., 254, 254, 254],\n",
      "         ...,\n",
      "         [ 78,  79,  80, ..., 127, 127, 127],\n",
      "         [ 78,  79,  80, ..., 126, 128, 131],\n",
      "         [ 78,  79,  80, ..., 124, 128, 133]],\n",
      "\n",
      "        [[148, 152, 153, ..., 255, 255, 255],\n",
      "         [152, 155, 156, ..., 255, 255, 255],\n",
      "         [157, 158, 158, ..., 255, 255, 255],\n",
      "         ...,\n",
      "         [ 80,  81,  82, ..., 130, 130, 130],\n",
      "         [ 80,  81,  82, ..., 129, 131, 134],\n",
      "         [ 80,  81,  82, ..., 127, 131, 136]],\n",
      "\n",
      "        [[154, 158, 158, ..., 255, 255, 255],\n",
      "         [158, 161, 161, ..., 255, 255, 255],\n",
      "         [163, 164, 163, ..., 255, 255, 255],\n",
      "         ...,\n",
      "         [ 92,  93,  94, ..., 161, 161, 161],\n",
      "         [ 92,  93,  94, ..., 160, 164, 167],\n",
      "         [ 92,  93,  94, ..., 158, 164, 169]]],\n",
      "\n",
      "\n",
      "       ...,\n",
      "\n",
      "\n",
      "       [[[ 91,  89,  88, ..., 124, 123, 129],\n",
      "         [ 99,  97,  94, ..., 130, 131, 136],\n",
      "         [104, 102,  99, ..., 139, 139, 142],\n",
      "         ...,\n",
      "         [ 29,  33,  30, ..., 103, 104, 106],\n",
      "         [ 30,  38,  39, ..., 101, 102, 103],\n",
      "         [ 31,  42,  46, ...,  97,  97,  98]],\n",
      "\n",
      "        [[ 64,  62,  61, ..., 109, 110, 116],\n",
      "         [ 71,  69,  66, ..., 115, 116, 121],\n",
      "         [ 74,  72,  69, ..., 122, 122, 125],\n",
      "         ...,\n",
      "         [ 26,  30,  25, ...,  94,  95,  97],\n",
      "         [ 25,  33,  34, ...,  92,  93,  94],\n",
      "         [ 26,  37,  41, ...,  88,  88,  89]],\n",
      "\n",
      "        [[ 53,  51,  50, ..., 102, 102, 108],\n",
      "         [ 60,  58,  55, ..., 108, 109, 114],\n",
      "         [ 63,  61,  58, ..., 114, 114, 117],\n",
      "         ...,\n",
      "         [ 19,  23,  19, ...,  99, 100, 102],\n",
      "         [ 19,  27,  28, ...,  97,  98,  99],\n",
      "         [ 20,  31,  37, ...,  93,  93,  94]]],\n",
      "\n",
      "\n",
      "       [[[140, 140, 138, ..., 137, 142, 146],\n",
      "         [141, 141, 139, ..., 144, 146, 148],\n",
      "         [142, 142, 139, ..., 148, 148, 149],\n",
      "         ...,\n",
      "         [ 76,  77,  79, ..., 118, 116, 112],\n",
      "         [ 77,  77,  77, ..., 117, 116, 111],\n",
      "         [ 75,  75,  74, ..., 117, 116, 110]],\n",
      "\n",
      "        [[130, 130, 130, ..., 140, 146, 148],\n",
      "         [131, 131, 131, ..., 147, 150, 150],\n",
      "         [132, 132, 131, ..., 151, 152, 151],\n",
      "         ...,\n",
      "         [ 85,  86,  88, ..., 133, 131, 127],\n",
      "         [ 86,  86,  86, ..., 132, 131, 126],\n",
      "         [ 84,  84,  83, ..., 132, 131, 125]],\n",
      "\n",
      "        [[131, 129, 128, ..., 155, 158, 161],\n",
      "         [132, 130, 129, ..., 162, 162, 163],\n",
      "         [133, 131, 129, ..., 166, 164, 164],\n",
      "         ...,\n",
      "         [102, 103, 105, ..., 166, 164, 160],\n",
      "         [103, 103, 103, ..., 165, 164, 159],\n",
      "         [101, 101, 100, ..., 165, 164, 158]]],\n",
      "\n",
      "\n",
      "       [[[139, 148, 154, ..., 177, 181, 176],\n",
      "         [143, 151, 157, ..., 178, 181, 175],\n",
      "         [145, 152, 157, ..., 180, 182, 174],\n",
      "         ...,\n",
      "         [116, 115, 115, ..., 102, 101, 100],\n",
      "         [116, 115, 114, ..., 105, 102,  99],\n",
      "         [117, 115, 114, ..., 107, 103,  99]],\n",
      "\n",
      "        [[ 76,  85,  91, ..., 166, 170, 165],\n",
      "         [ 80,  88,  94, ..., 167, 170, 164],\n",
      "         [ 82,  89,  94, ..., 169, 171, 163],\n",
      "         ...,\n",
      "         [ 70,  69,  69, ..., 100,  99,  98],\n",
      "         [ 70,  69,  68, ..., 103, 100,  97],\n",
      "         [ 71,  69,  68, ..., 105, 101,  97]],\n",
      "\n",
      "        [[ 45,  52,  58, ..., 172, 174, 169],\n",
      "         [ 47,  55,  61, ..., 173, 174, 168],\n",
      "         [ 49,  56,  59, ..., 175, 175, 167],\n",
      "         ...,\n",
      "         [ 46,  45,  45, ..., 113, 112, 111],\n",
      "         [ 46,  45,  44, ..., 116, 113, 110],\n",
      "         [ 47,  45,  44, ..., 118, 114, 110]]]], dtype=uint8), acts=array([[0.        , 0.74230171],\n",
      "       [1.        , 0.74230171],\n",
      "       [1.        , 0.73198645],\n",
      "       ...,\n",
      "       [1.        , 1.        ],\n",
      "       [1.        , 1.        ],\n",
      "       [1.        , 1.        ]]), infos=array([{}, {}, {}, ..., {}, {}, {}], dtype=object), next_obs=array([[[[169, 170, 171, ..., 138, 145, 150],\n",
      "         [170, 171, 172, ..., 135, 140, 143],\n",
      "         [171, 171, 173, ..., 134, 137, 138],\n",
      "         ...,\n",
      "         [ 86,  84,  83, ..., 124, 129, 122],\n",
      "         [ 84,  84,  83, ..., 121, 125, 116],\n",
      "         [ 83,  83,  83, ..., 118, 120, 110]],\n",
      "\n",
      "        [[110, 111, 112, ..., 123, 130, 135],\n",
      "         [111, 112, 113, ..., 120, 125, 128],\n",
      "         [112, 112, 114, ..., 119, 122, 123],\n",
      "         ...,\n",
      "         [ 50,  48,  47, ..., 125, 130, 123],\n",
      "         [ 48,  48,  47, ..., 122, 126, 117],\n",
      "         [ 46,  46,  46, ..., 119, 121, 111]],\n",
      "\n",
      "        [[ 78,  79,  80, ..., 126, 133, 138],\n",
      "         [ 79,  80,  81, ..., 123, 128, 131],\n",
      "         [ 80,  80,  82, ..., 122, 125, 126],\n",
      "         ...,\n",
      "         [ 38,  36,  35, ..., 146, 151, 144],\n",
      "         [ 36,  36,  35, ..., 143, 147, 138],\n",
      "         [ 37,  37,  37, ..., 140, 142, 132]]],\n",
      "\n",
      "\n",
      "       [[[141, 145, 144, ..., 254, 254, 254],\n",
      "         [145, 148, 147, ..., 254, 254, 254],\n",
      "         [150, 151, 149, ..., 254, 254, 254],\n",
      "         ...,\n",
      "         [ 78,  79,  80, ..., 127, 127, 127],\n",
      "         [ 78,  79,  80, ..., 126, 128, 131],\n",
      "         [ 78,  79,  80, ..., 124, 128, 133]],\n",
      "\n",
      "        [[148, 152, 153, ..., 255, 255, 255],\n",
      "         [152, 155, 156, ..., 255, 255, 255],\n",
      "         [157, 158, 158, ..., 255, 255, 255],\n",
      "         ...,\n",
      "         [ 80,  81,  82, ..., 130, 130, 130],\n",
      "         [ 80,  81,  82, ..., 129, 131, 134],\n",
      "         [ 80,  81,  82, ..., 127, 131, 136]],\n",
      "\n",
      "        [[154, 158, 158, ..., 255, 255, 255],\n",
      "         [158, 161, 161, ..., 255, 255, 255],\n",
      "         [163, 164, 163, ..., 255, 255, 255],\n",
      "         ...,\n",
      "         [ 92,  93,  94, ..., 161, 161, 161],\n",
      "         [ 92,  93,  94, ..., 160, 164, 167],\n",
      "         [ 92,  93,  94, ..., 158, 164, 169]]],\n",
      "\n",
      "\n",
      "       [[[149, 152, 156, ..., 217, 214, 212],\n",
      "         [149, 152, 156, ..., 211, 210, 210],\n",
      "         [148, 151, 155, ..., 208, 209, 210],\n",
      "         ...,\n",
      "         [ 77,  82,  87, ..., 123, 122, 121],\n",
      "         [ 81,  86,  93, ..., 124, 122, 121],\n",
      "         [ 84,  90,  97, ..., 125, 123, 121]],\n",
      "\n",
      "        [[128, 131, 135, ..., 187, 183, 181],\n",
      "         [128, 131, 135, ..., 181, 179, 179],\n",
      "         [127, 130, 134, ..., 178, 178, 179],\n",
      "         ...,\n",
      "         [ 69,  74,  79, ..., 117, 116, 115],\n",
      "         [ 73,  78,  85, ..., 118, 116, 115],\n",
      "         [ 76,  82,  89, ..., 119, 117, 115]],\n",
      "\n",
      "        [[109, 112, 114, ..., 163, 162, 160],\n",
      "         [109, 112, 114, ..., 157, 158, 158],\n",
      "         [108, 109, 113, ..., 154, 157, 158],\n",
      "         ...,\n",
      "         [ 67,  72,  77, ..., 121, 120, 119],\n",
      "         [ 71,  76,  83, ..., 122, 120, 119],\n",
      "         [ 74,  80,  87, ..., 123, 121, 119]]],\n",
      "\n",
      "\n",
      "       ...,\n",
      "\n",
      "\n",
      "       [[[140, 140, 138, ..., 137, 142, 146],\n",
      "         [141, 141, 139, ..., 144, 146, 148],\n",
      "         [142, 142, 139, ..., 148, 148, 149],\n",
      "         ...,\n",
      "         [ 76,  77,  79, ..., 118, 116, 112],\n",
      "         [ 77,  77,  77, ..., 117, 116, 111],\n",
      "         [ 75,  75,  74, ..., 117, 116, 110]],\n",
      "\n",
      "        [[130, 130, 130, ..., 140, 146, 148],\n",
      "         [131, 131, 131, ..., 147, 150, 150],\n",
      "         [132, 132, 131, ..., 151, 152, 151],\n",
      "         ...,\n",
      "         [ 85,  86,  88, ..., 133, 131, 127],\n",
      "         [ 86,  86,  86, ..., 132, 131, 126],\n",
      "         [ 84,  84,  83, ..., 132, 131, 125]],\n",
      "\n",
      "        [[131, 129, 128, ..., 155, 158, 161],\n",
      "         [132, 130, 129, ..., 162, 162, 163],\n",
      "         [133, 131, 129, ..., 166, 164, 164],\n",
      "         ...,\n",
      "         [102, 103, 105, ..., 166, 164, 160],\n",
      "         [103, 103, 103, ..., 165, 164, 159],\n",
      "         [101, 101, 100, ..., 165, 164, 158]]],\n",
      "\n",
      "\n",
      "       [[[139, 148, 154, ..., 177, 181, 176],\n",
      "         [143, 151, 157, ..., 178, 181, 175],\n",
      "         [145, 152, 157, ..., 180, 182, 174],\n",
      "         ...,\n",
      "         [116, 115, 115, ..., 102, 101, 100],\n",
      "         [116, 115, 114, ..., 105, 102,  99],\n",
      "         [117, 115, 114, ..., 107, 103,  99]],\n",
      "\n",
      "        [[ 76,  85,  91, ..., 166, 170, 165],\n",
      "         [ 80,  88,  94, ..., 167, 170, 164],\n",
      "         [ 82,  89,  94, ..., 169, 171, 163],\n",
      "         ...,\n",
      "         [ 70,  69,  69, ..., 100,  99,  98],\n",
      "         [ 70,  69,  68, ..., 103, 100,  97],\n",
      "         [ 71,  69,  68, ..., 105, 101,  97]],\n",
      "\n",
      "        [[ 45,  52,  58, ..., 172, 174, 169],\n",
      "         [ 47,  55,  61, ..., 173, 174, 168],\n",
      "         [ 49,  56,  59, ..., 175, 175, 167],\n",
      "         ...,\n",
      "         [ 46,  45,  45, ..., 113, 112, 111],\n",
      "         [ 46,  45,  44, ..., 116, 113, 110],\n",
      "         [ 47,  45,  44, ..., 118, 114, 110]]],\n",
      "\n",
      "\n",
      "       [[[  0,   0,   0, ...,   0,   0,   0],\n",
      "         [  0,   0,   0, ...,   0,   0,   0],\n",
      "         [  0,   0,   0, ...,   0,   0,   0],\n",
      "         ...,\n",
      "         [  0,   0,   0, ...,   0,   0,   0],\n",
      "         [  0,   0,   0, ...,   0,   0,   0],\n",
      "         [  0,   0,   0, ...,   0,   0,   0]],\n",
      "\n",
      "        [[  0,   0,   0, ...,   0,   0,   0],\n",
      "         [  0,   0,   0, ...,   0,   0,   0],\n",
      "         [  0,   0,   0, ...,   0,   0,   0],\n",
      "         ...,\n",
      "         [  0,   0,   0, ...,   0,   0,   0],\n",
      "         [  0,   0,   0, ...,   0,   0,   0],\n",
      "         [  0,   0,   0, ...,   0,   0,   0]],\n",
      "\n",
      "        [[  0,   0,   0, ...,   0,   0,   0],\n",
      "         [  0,   0,   0, ...,   0,   0,   0],\n",
      "         [  0,   0,   0, ...,   0,   0,   0],\n",
      "         ...,\n",
      "         [  0,   0,   0, ...,   0,   0,   0],\n",
      "         [  0,   0,   0, ...,   0,   0,   0],\n",
      "         [  0,   0,   0, ...,   0,   0,   0]]]], dtype=uint8), dones=array([False, False, False, ..., False, False,  True]))\n"
     ]
    }
   ],
   "source": [
    "test_transition = convert_to_transitions(all_expert_data)\n",
    "print(test_transition)\n"
   ]
  },
  {
   "cell_type": "code",
   "execution_count": 8,
   "metadata": {},
   "outputs": [
    {
     "name": "stdout",
     "output_type": "stream",
     "text": [
      "4\n",
      "Environment 'RacingEnv-v1' is successfully registered.\n"
     ]
    },
    {
     "name": "stderr",
     "output_type": "stream",
     "text": [
      "/home/anubis/miniconda3/envs/env38/lib/python3.8/site-packages/gymnasium/envs/registration.py:513: DeprecationWarning: \u001b[33mWARN: The environment RacingEnv-v1 is out of date. You should consider upgrading to version `v4`.\u001b[0m\n",
      "  logger.deprecation(\n"
     ]
    }
   ],
   "source": [
    "env_id1 = 'RacingEnv-v1'  # あなたの環境の名前に変更してください\n",
    "try:\n",
    "    env1 = gymnasium.make(env_id1, expert_data=reshaped_all_expert_data)\n",
    "    print(f\"Environment '{env_id1}' is successfully registered.\")\n",
    "except gymnasium.error.Error as e:\n",
    "    print(f\"Error: {e}\")"
   ]
  },
  {
   "cell_type": "code",
   "execution_count": 9,
   "metadata": {},
   "outputs": [
    {
     "name": "stdout",
     "output_type": "stream",
     "text": [
      "5\n",
      "10\n",
      "5\n",
      "10\n"
     ]
    }
   ],
   "source": [
    "def _make_env():\n",
    "    \"\"\"Helper function to create a single environment. Put any logic here, but make sure to return a RolloutInfoWrapper.\"\"\"\n",
    "    _env1 = gymnasium.make(\"RacingEnv-v1\", expert_data=reshaped_all_expert_data)\n",
    "    _env1 = RolloutInfoWrapper(_env1)\n",
    "    return _env1\n",
    "\n",
    "venv1 = DummyVecEnv([_make_env for _ in range(4)])"
   ]
  },
  {
   "cell_type": "code",
   "execution_count": 29,
   "metadata": {},
   "outputs": [
    {
     "name": "stderr",
     "output_type": "stream",
     "text": [
      "/home/anubis/miniconda3/envs/env38/lib/python3.8/site-packages/stable_baselines3/common/evaluation.py:67: UserWarning: Evaluation environment is not wrapped with a ``Monitor`` wrapper. This may result in reporting modified episode lengths and rewards, if other wrappers happen to modify these. Consider wrapping environment first with ``Monitor`` wrapper.\n",
      "  warnings.warn(\n"
     ]
    },
    {
     "name": "stdout",
     "output_type": "stream",
     "text": [
      "12\n",
      "15\n",
      "0\n",
      "3\n",
      "3\n",
      "7\n",
      "9\n",
      "19\n",
      "18\n",
      "4\n",
      "6\n",
      "Reward before training: 501.9597597211599\n",
      "12\n",
      "18\n",
      "13\n",
      "16\n",
      "12\n",
      "12\n",
      "11\n",
      "14\n",
      "19\n",
      "2\n",
      "18\n",
      "6\n",
      "Expert reward: 826.7089047\n"
     ]
    }
   ],
   "source": [
    "from stable_baselines3 import PPO\n",
    "from stable_baselines3.ppo import MlpPolicy\n",
    "from stable_baselines3.ppo import CnnPolicy\n",
    "from stable_baselines3.common.evaluation import evaluate_policy\n",
    "\n",
    "\n",
    "expert = PPO(\n",
    "    policy=CnnPolicy,\n",
    "    env=env1,\n",
    "    seed=0,\n",
    "    batch_size=64,\n",
    "    ent_coef=0.0,\n",
    "    learning_rate=0.0003,\n",
    "    n_epochs=10,\n",
    "    n_steps=64,\n",
    "    device='cuda:1'\n",
    ")\n",
    "reward, _ = evaluate_policy(expert, env1, 10)\n",
    "print(f\"Reward before training: {reward}\")\n",
    "\n",
    "\n",
    "# Note: if you followed step 2a, i.e. registered the environment, you can use the environment name directly\n",
    "\n",
    "# expert = PPO(\n",
    "#     policy=MlpPolicy,\n",
    "#     env=\"custom/ObservationMatching-v0\",\n",
    "#     seed=0,\n",
    "#     batch_size=64,\n",
    "#     ent_coef=0.0,\n",
    "#     learning_rate=0.0003,\n",
    "#     n_epochs=10,\n",
    "#     n_steps=64,\n",
    "# )\n",
    "expert.learn(1000)  # Note: set to 100000 to train a proficient expert\n",
    "reward, _ = evaluate_policy(expert, expert.get_env(), 10)\n",
    "print(f\"Expert reward: {reward}\")"
   ]
  },
  {
   "cell_type": "code",
   "execution_count": 30,
   "metadata": {},
   "outputs": [
    {
     "name": "stdout",
     "output_type": "stream",
     "text": [
      "1\n",
      "5\n",
      "19\n",
      "7\n",
      "16\n",
      "8\n",
      "0\n",
      "6\n",
      "1\n",
      "0\n",
      "3\n",
      "9\n",
      "15\n",
      "5\n",
      "12\n",
      "2\n",
      "1\n",
      "7\n",
      "11\n",
      "18\n",
      "13\n",
      "12\n",
      "12\n",
      "17\n",
      "9\n",
      "20\n",
      "11\n",
      "3\n",
      "2\n",
      "8\n",
      "10\n",
      "7\n",
      "13\n",
      "8\n",
      "19\n",
      "15\n",
      "19\n",
      "11\n",
      "19\n",
      "17\n",
      "3\n",
      "19\n",
      "4\n",
      "19\n",
      "20\n",
      "15\n",
      "18\n",
      "2\n",
      "9\n",
      "11\n",
      "18\n",
      "20\n",
      "12\n",
      "5\n",
      "15\n",
      "11\n",
      "2\n",
      "10\n",
      "14\n",
      "12\n",
      "10\n",
      "7\n"
     ]
    }
   ],
   "source": [
    "\n",
    "rollouts = rollout.rollout(\n",
    "    expert,\n",
    "    venv1,\n",
    "    rollout.make_sample_until(min_timesteps=None, min_episodes=50),\n",
    "    rng=rng,\n",
    ")\n",
    "transitions = rollout.flatten_trajectories(rollouts)"
   ]
  },
  {
   "cell_type": "code",
   "execution_count": 49,
   "metadata": {},
   "outputs": [
    {
     "name": "stdout",
     "output_type": "stream",
     "text": [
      "58958\n",
      "22690\n",
      "53\n",
      "21\n"
     ]
    }
   ],
   "source": [
    "print(len(transitions))\n",
    "print(len(test_trajectory))\n",
    "\n",
    "count = 0\n",
    "for i in range(len(transitions)):\n",
    "    if transitions[i]['dones']:\n",
    "        count += 1\n",
    "\n",
    "print(count)\n",
    "count = 0\n",
    "for i in range(len(test_trajectory)):\n",
    "    if test_trajectory[i]['dones']:\n",
    "        count += 1\n",
    "\n",
    "print(count)"
   ]
  },
  {
   "cell_type": "code",
   "execution_count": 38,
   "metadata": {},
   "outputs": [
    {
     "name": "stdout",
     "output_type": "stream",
     "text": [
      "[[[143 146 143 ... 145 151 148]\n",
      "  [136 139 137 ... 147 151 143]\n",
      "  [135 136 134 ... 149 151 137]\n",
      "  ...\n",
      "  [ 67  71  74 ... 116 117 122]\n",
      "  [ 74  76  77 ... 116 116 123]\n",
      "  [ 78  78  77 ... 116 117 125]]\n",
      "\n",
      " [[150 153 150 ... 147 153 150]\n",
      "  [143 146 144 ... 149 153 145]\n",
      "  [142 143 141 ... 151 153 139]\n",
      "  ...\n",
      "  [ 74  78  81 ... 129 130 135]\n",
      "  [ 81  83  84 ... 129 129 136]\n",
      "  [ 84  84  83 ... 129 130 138]]\n",
      "\n",
      " [[156 159 156 ... 168 174 171]\n",
      "  [149 152 150 ... 170 174 166]\n",
      "  [148 149 147 ... 172 174 160]\n",
      "  ...\n",
      "  [ 84  88  91 ... 163 164 169]\n",
      "  [ 91  93  94 ... 163 163 170]\n",
      "  [ 96  96  95 ... 163 164 172]]]\n",
      "[[[ 83  85  87 ... 132 123 126]\n",
      "  [ 85  86  88 ... 140 131 132]\n",
      "  [ 88  88  88 ... 145 138 135]\n",
      "  ...\n",
      "  [ 84  85  85 ... 103 104 106]\n",
      "  [ 83  84  86 ... 102 104 108]\n",
      "  [ 82  84  87 ...  99 102 105]]\n",
      "\n",
      " [[ 86  88  90 ... 132 123 126]\n",
      "  [ 88  89  91 ... 140 131 132]\n",
      "  [ 91  91  91 ... 145 138 135]\n",
      "  ...\n",
      "  [ 50  51  51 ... 108 107 109]\n",
      "  [ 49  50  52 ... 107 109 111]\n",
      "  [ 48  50  53 ... 104 107 110]]\n",
      "\n",
      " [[ 91  93  95 ... 156 147 150]\n",
      "  [ 93  94  96 ... 164 155 156]\n",
      "  [ 96  96  96 ... 171 164 161]\n",
      "  ...\n",
      "  [ 41  42  42 ... 138 138 140]\n",
      "  [ 40  41  43 ... 139 141 142]\n",
      "  [ 39  41  44 ... 136 139 142]]]\n",
      "1053\n",
      "not found\n"
     ]
    }
   ],
   "source": [
    "# transitionのdoneがTrueのときのnext_obsをprintしたい\n",
    "# それを見て、次のobsが正しく取れているか確認したい\n",
    "for i in range(len(transitions)):\n",
    "    if transitions[i]['dones']:\n",
    "        print(transitions[i]['next_obs'])\n",
    "        a = transitions[i]['next_obs']\n",
    "        print(transitions[i+1]['obs'])\n",
    "        print(i)\n",
    "        break\n",
    "\n",
    "for i in range(len(transitions)):\n",
    "    if np.array_equal(a, transitions[i]['obs']):\n",
    "        print(i)\n",
    "        break\n",
    "\n",
    "    if i == len(transitions)-1:\n",
    "        print(\"not found\")\n",
    "\n"
   ]
  },
  {
   "cell_type": "code",
   "execution_count": 10,
   "metadata": {},
   "outputs": [],
   "source": [
    "from imitation.algorithms import bc\n",
    "from imitation.util import logger\n",
    "\n",
    "bc_logger = logger.configure('./log/')\n",
    "bc_trainer = bc.BC(\n",
    "    observation_space=env1.observation_space,\n",
    "    action_space=env1.action_space,\n",
    "    demonstrations=test_transition,\n",
    "    rng=rng,\n",
    "    policy=ActorCriticCnnPolicy(\n",
    "        observation_space=env1.observation_space,\n",
    "        action_space=env1.action_space,\n",
    "        features_extractor_kwargs=dict(features_dim=256),\n",
    "        lr_schedule=lambda _: 0.0003,\n",
    "        ),\n",
    "    batch_size=2048,\n",
    "    device=\"cuda:1\",\n",
    "    custom_logger=bc_logger\n",
    ")"
   ]
  },
  {
   "cell_type": "code",
   "execution_count": 11,
   "metadata": {},
   "outputs": [
    {
     "name": "stderr",
     "output_type": "stream",
     "text": [
      "/home/anubis/miniconda3/envs/env38/lib/python3.8/site-packages/stable_baselines3/common/evaluation.py:67: UserWarning: Evaluation environment is not wrapped with a ``Monitor`` wrapper. This may result in reporting modified episode lengths and rewards, if other wrappers happen to modify these. Consider wrapping environment first with ``Monitor`` wrapper.\n",
      "  warnings.warn(\n"
     ]
    },
    {
     "name": "stdout",
     "output_type": "stream",
     "text": [
      "5\n",
      "20\n",
      "0\n",
      "11\n",
      "16\n",
      "0\n",
      "13\n",
      "21\n",
      "21\n",
      "11\n",
      "21\n",
      "1\n",
      "7\n",
      "0\n",
      "4\n",
      "Reward before training: 418.6147927194834\n"
     ]
    }
   ],
   "source": [
    "reward_before_training, _ = evaluate_policy(bc_trainer.policy, venv1, 10)\n",
    "print(f\"Reward before training: {reward_before_training}\")"
   ]
  },
  {
   "cell_type": "code",
   "execution_count": 12,
   "metadata": {},
   "outputs": [
    {
     "name": "stderr",
     "output_type": "stream",
     "text": [
      "10batch [00:03,  3.02batch/s]"
     ]
    },
    {
     "name": "stdout",
     "output_type": "stream",
     "text": [
      "--------------------------------\n",
      "| batch_size        | 2048     |\n",
      "| bc/               |          |\n",
      "|    batch          | 9        |\n",
      "|    ent_loss       | -0.00282 |\n",
      "|    entropy        | 2.82     |\n",
      "|    epoch          | 1        |\n",
      "|    l2_loss        | 0        |\n",
      "|    l2_norm        | 441      |\n",
      "|    loss           | 2.19     |\n",
      "|    neglogp        | 2.19     |\n",
      "|    prob_true_act  | 0.121    |\n",
      "|    samples_so_far | 20480    |\n",
      "--------------------------------\n"
     ]
    },
    {
     "name": "stderr",
     "output_type": "stream",
     "text": [
      "20batch [00:07,  2.71batch/s]"
     ]
    },
    {
     "name": "stdout",
     "output_type": "stream",
     "text": [
      "--------------------------------\n",
      "| batch_size        | 2048     |\n",
      "| bc/               |          |\n",
      "|    batch          | 19       |\n",
      "|    ent_loss       | -0.0028  |\n",
      "|    entropy        | 2.8      |\n",
      "|    epoch          | 2        |\n",
      "|    l2_loss        | 0        |\n",
      "|    l2_norm        | 463      |\n",
      "|    loss           | 2.02     |\n",
      "|    neglogp        | 2.02     |\n",
      "|    prob_true_act  | 0.137    |\n",
      "|    samples_so_far | 40960    |\n",
      "--------------------------------\n"
     ]
    },
    {
     "name": "stderr",
     "output_type": "stream",
     "text": [
      "30batch [00:10,  2.98batch/s]"
     ]
    },
    {
     "name": "stdout",
     "output_type": "stream",
     "text": [
      "--------------------------------\n",
      "| batch_size        | 2048     |\n",
      "| bc/               |          |\n",
      "|    batch          | 29       |\n",
      "|    ent_loss       | -0.00278 |\n",
      "|    entropy        | 2.78     |\n",
      "|    epoch          | 3        |\n",
      "|    l2_loss        | 0        |\n",
      "|    l2_norm        | 480      |\n",
      "|    loss           | 1.9      |\n",
      "|    neglogp        | 1.9      |\n",
      "|    prob_true_act  | 0.151    |\n",
      "|    samples_so_far | 61440    |\n",
      "--------------------------------\n"
     ]
    },
    {
     "name": "stderr",
     "output_type": "stream",
     "text": [
      "40batch [00:14,  3.05batch/s]"
     ]
    },
    {
     "name": "stdout",
     "output_type": "stream",
     "text": [
      "--------------------------------\n",
      "| batch_size        | 2048     |\n",
      "| bc/               |          |\n",
      "|    batch          | 39       |\n",
      "|    ent_loss       | -0.00275 |\n",
      "|    entropy        | 2.75     |\n",
      "|    epoch          | 4        |\n",
      "|    l2_loss        | 0        |\n",
      "|    l2_norm        | 494      |\n",
      "|    loss           | 1.85     |\n",
      "|    neglogp        | 1.86     |\n",
      "|    prob_true_act  | 0.157    |\n",
      "|    samples_so_far | 81920    |\n",
      "--------------------------------\n"
     ]
    },
    {
     "name": "stderr",
     "output_type": "stream",
     "text": [
      "50batch [00:17,  3.04batch/s]"
     ]
    },
    {
     "name": "stdout",
     "output_type": "stream",
     "text": [
      "--------------------------------\n",
      "| batch_size        | 2048     |\n",
      "| bc/               |          |\n",
      "|    batch          | 49       |\n",
      "|    ent_loss       | -0.00273 |\n",
      "|    entropy        | 2.73     |\n",
      "|    epoch          | 5        |\n",
      "|    l2_loss        | 0        |\n",
      "|    l2_norm        | 509      |\n",
      "|    loss           | 1.82     |\n",
      "|    neglogp        | 1.82     |\n",
      "|    prob_true_act  | 0.162    |\n",
      "|    samples_so_far | 102400   |\n",
      "--------------------------------\n"
     ]
    },
    {
     "name": "stderr",
     "output_type": "stream",
     "text": [
      "60batch [00:21,  2.75batch/s]"
     ]
    },
    {
     "name": "stdout",
     "output_type": "stream",
     "text": [
      "--------------------------------\n",
      "| batch_size        | 2048     |\n",
      "| bc/               |          |\n",
      "|    batch          | 59       |\n",
      "|    ent_loss       | -0.00271 |\n",
      "|    entropy        | 2.71     |\n",
      "|    epoch          | 6        |\n",
      "|    l2_loss        | 0        |\n",
      "|    l2_norm        | 522      |\n",
      "|    loss           | 1.8      |\n",
      "|    neglogp        | 1.8      |\n",
      "|    prob_true_act  | 0.167    |\n",
      "|    samples_so_far | 122880   |\n",
      "--------------------------------\n"
     ]
    },
    {
     "name": "stderr",
     "output_type": "stream",
     "text": [
      "70batch [00:24,  3.04batch/s]"
     ]
    },
    {
     "name": "stdout",
     "output_type": "stream",
     "text": [
      "--------------------------------\n",
      "| batch_size        | 2048     |\n",
      "| bc/               |          |\n",
      "|    batch          | 69       |\n",
      "|    ent_loss       | -0.00269 |\n",
      "|    entropy        | 2.69     |\n",
      "|    epoch          | 7        |\n",
      "|    l2_loss        | 0        |\n",
      "|    l2_norm        | 536      |\n",
      "|    loss           | 1.77     |\n",
      "|    neglogp        | 1.78     |\n",
      "|    prob_true_act  | 0.17     |\n",
      "|    samples_so_far | 143360   |\n",
      "--------------------------------\n"
     ]
    },
    {
     "name": "stderr",
     "output_type": "stream",
     "text": [
      "80batch [00:28,  3.02batch/s]"
     ]
    },
    {
     "name": "stdout",
     "output_type": "stream",
     "text": [
      "--------------------------------\n",
      "| batch_size        | 2048     |\n",
      "| bc/               |          |\n",
      "|    batch          | 79       |\n",
      "|    ent_loss       | -0.00267 |\n",
      "|    entropy        | 2.67     |\n",
      "|    epoch          | 8        |\n",
      "|    l2_loss        | 0        |\n",
      "|    l2_norm        | 549      |\n",
      "|    loss           | 1.75     |\n",
      "|    neglogp        | 1.75     |\n",
      "|    prob_true_act  | 0.175    |\n",
      "|    samples_so_far | 163840   |\n",
      "--------------------------------\n"
     ]
    },
    {
     "name": "stderr",
     "output_type": "stream",
     "text": [
      "90batch [00:31,  3.05batch/s]"
     ]
    },
    {
     "name": "stdout",
     "output_type": "stream",
     "text": [
      "--------------------------------\n",
      "| batch_size        | 2048     |\n",
      "| bc/               |          |\n",
      "|    batch          | 89       |\n",
      "|    ent_loss       | -0.00264 |\n",
      "|    entropy        | 2.64     |\n",
      "|    epoch          | 9        |\n",
      "|    l2_loss        | 0        |\n",
      "|    l2_norm        | 561      |\n",
      "|    loss           | 1.72     |\n",
      "|    neglogp        | 1.72     |\n",
      "|    prob_true_act  | 0.18     |\n",
      "|    samples_so_far | 184320   |\n",
      "--------------------------------\n"
     ]
    },
    {
     "name": "stderr",
     "output_type": "stream",
     "text": [
      "100batch [00:34,  3.01batch/s]"
     ]
    },
    {
     "name": "stdout",
     "output_type": "stream",
     "text": [
      "--------------------------------\n",
      "| batch_size        | 2048     |\n",
      "| bc/               |          |\n",
      "|    batch          | 99       |\n",
      "|    ent_loss       | -0.00262 |\n",
      "|    entropy        | 2.62     |\n",
      "|    epoch          | 10       |\n",
      "|    l2_loss        | 0        |\n",
      "|    l2_norm        | 573      |\n",
      "|    loss           | 1.7      |\n",
      "|    neglogp        | 1.7      |\n",
      "|    prob_true_act  | 0.184    |\n",
      "|    samples_so_far | 204800   |\n",
      "--------------------------------\n"
     ]
    },
    {
     "name": "stderr",
     "output_type": "stream",
     "text": [
      "110batch [00:38,  3.03batch/s]"
     ]
    },
    {
     "name": "stdout",
     "output_type": "stream",
     "text": [
      "--------------------------------\n",
      "| batch_size        | 2048     |\n",
      "| bc/               |          |\n",
      "|    batch          | 109      |\n",
      "|    ent_loss       | -0.0026  |\n",
      "|    entropy        | 2.6      |\n",
      "|    epoch          | 11       |\n",
      "|    l2_loss        | 0        |\n",
      "|    l2_norm        | 587      |\n",
      "|    loss           | 1.67     |\n",
      "|    neglogp        | 1.67     |\n",
      "|    prob_true_act  | 0.189    |\n",
      "|    samples_so_far | 225280   |\n",
      "--------------------------------\n"
     ]
    },
    {
     "name": "stderr",
     "output_type": "stream",
     "text": [
      "120batch [00:41,  3.02batch/s]"
     ]
    },
    {
     "name": "stdout",
     "output_type": "stream",
     "text": [
      "--------------------------------\n",
      "| batch_size        | 2048     |\n",
      "| bc/               |          |\n",
      "|    batch          | 119      |\n",
      "|    ent_loss       | -0.00258 |\n",
      "|    entropy        | 2.58     |\n",
      "|    epoch          | 12       |\n",
      "|    l2_loss        | 0        |\n",
      "|    l2_norm        | 602      |\n",
      "|    loss           | 1.66     |\n",
      "|    neglogp        | 1.66     |\n",
      "|    prob_true_act  | 0.191    |\n",
      "|    samples_so_far | 245760   |\n",
      "--------------------------------\n"
     ]
    },
    {
     "name": "stderr",
     "output_type": "stream",
     "text": [
      "130batch [00:45,  3.05batch/s]"
     ]
    },
    {
     "name": "stdout",
     "output_type": "stream",
     "text": [
      "--------------------------------\n",
      "| batch_size        | 2048     |\n",
      "| bc/               |          |\n",
      "|    batch          | 129      |\n",
      "|    ent_loss       | -0.00256 |\n",
      "|    entropy        | 2.56     |\n",
      "|    epoch          | 13       |\n",
      "|    l2_loss        | 0        |\n",
      "|    l2_norm        | 615      |\n",
      "|    loss           | 1.65     |\n",
      "|    neglogp        | 1.65     |\n",
      "|    prob_true_act  | 0.193    |\n",
      "|    samples_so_far | 266240   |\n",
      "--------------------------------\n"
     ]
    },
    {
     "name": "stderr",
     "output_type": "stream",
     "text": [
      "140batch [00:48,  3.02batch/s]"
     ]
    },
    {
     "name": "stdout",
     "output_type": "stream",
     "text": [
      "--------------------------------\n",
      "| batch_size        | 2048     |\n",
      "| bc/               |          |\n",
      "|    batch          | 139      |\n",
      "|    ent_loss       | -0.00254 |\n",
      "|    entropy        | 2.54     |\n",
      "|    epoch          | 14       |\n",
      "|    l2_loss        | 0        |\n",
      "|    l2_norm        | 627      |\n",
      "|    loss           | 1.62     |\n",
      "|    neglogp        | 1.62     |\n",
      "|    prob_true_act  | 0.199    |\n",
      "|    samples_so_far | 286720   |\n",
      "--------------------------------\n"
     ]
    },
    {
     "name": "stderr",
     "output_type": "stream",
     "text": [
      "150batch [00:52,  3.00batch/s]"
     ]
    },
    {
     "name": "stdout",
     "output_type": "stream",
     "text": [
      "--------------------------------\n",
      "| batch_size        | 2048     |\n",
      "| bc/               |          |\n",
      "|    batch          | 149      |\n",
      "|    ent_loss       | -0.00252 |\n",
      "|    entropy        | 2.52     |\n",
      "|    epoch          | 15       |\n",
      "|    l2_loss        | 0        |\n",
      "|    l2_norm        | 638      |\n",
      "|    loss           | 1.61     |\n",
      "|    neglogp        | 1.61     |\n",
      "|    prob_true_act  | 0.202    |\n",
      "|    samples_so_far | 307200   |\n",
      "--------------------------------\n"
     ]
    },
    {
     "name": "stderr",
     "output_type": "stream",
     "text": [
      "160batch [00:55,  3.03batch/s]"
     ]
    },
    {
     "name": "stdout",
     "output_type": "stream",
     "text": [
      "--------------------------------\n",
      "| batch_size        | 2048     |\n",
      "| bc/               |          |\n",
      "|    batch          | 159      |\n",
      "|    ent_loss       | -0.0025  |\n",
      "|    entropy        | 2.5      |\n",
      "|    epoch          | 16       |\n",
      "|    l2_loss        | 0        |\n",
      "|    l2_norm        | 649      |\n",
      "|    loss           | 1.57     |\n",
      "|    neglogp        | 1.58     |\n",
      "|    prob_true_act  | 0.208    |\n",
      "|    samples_so_far | 327680   |\n",
      "--------------------------------\n"
     ]
    },
    {
     "name": "stderr",
     "output_type": "stream",
     "text": [
      "170batch [00:59,  3.04batch/s]"
     ]
    },
    {
     "name": "stdout",
     "output_type": "stream",
     "text": [
      "--------------------------------\n",
      "| batch_size        | 2048     |\n",
      "| bc/               |          |\n",
      "|    batch          | 169      |\n",
      "|    ent_loss       | -0.00248 |\n",
      "|    entropy        | 2.48     |\n",
      "|    epoch          | 17       |\n",
      "|    l2_loss        | 0        |\n",
      "|    l2_norm        | 661      |\n",
      "|    loss           | 1.56     |\n",
      "|    neglogp        | 1.56     |\n",
      "|    prob_true_act  | 0.212    |\n",
      "|    samples_so_far | 348160   |\n",
      "--------------------------------\n"
     ]
    },
    {
     "name": "stderr",
     "output_type": "stream",
     "text": [
      "180batch [01:02,  3.01batch/s]"
     ]
    },
    {
     "name": "stdout",
     "output_type": "stream",
     "text": [
      "--------------------------------\n",
      "| batch_size        | 2048     |\n",
      "| bc/               |          |\n",
      "|    batch          | 179      |\n",
      "|    ent_loss       | -0.00245 |\n",
      "|    entropy        | 2.45     |\n",
      "|    epoch          | 18       |\n",
      "|    l2_loss        | 0        |\n",
      "|    l2_norm        | 673      |\n",
      "|    loss           | 1.54     |\n",
      "|    neglogp        | 1.55     |\n",
      "|    prob_true_act  | 0.215    |\n",
      "|    samples_so_far | 368640   |\n",
      "--------------------------------\n"
     ]
    },
    {
     "name": "stderr",
     "output_type": "stream",
     "text": [
      "190batch [01:06,  2.97batch/s]"
     ]
    },
    {
     "name": "stdout",
     "output_type": "stream",
     "text": [
      "--------------------------------\n",
      "| batch_size        | 2048     |\n",
      "| bc/               |          |\n",
      "|    batch          | 189      |\n",
      "|    ent_loss       | -0.00243 |\n",
      "|    entropy        | 2.43     |\n",
      "|    epoch          | 19       |\n",
      "|    l2_loss        | 0        |\n",
      "|    l2_norm        | 686      |\n",
      "|    loss           | 1.52     |\n",
      "|    neglogp        | 1.52     |\n",
      "|    prob_true_act  | 0.221    |\n",
      "|    samples_so_far | 389120   |\n",
      "--------------------------------\n"
     ]
    },
    {
     "name": "stderr",
     "output_type": "stream",
     "text": [
      "200batch [01:09,  3.05batch/s]"
     ]
    },
    {
     "name": "stdout",
     "output_type": "stream",
     "text": [
      "--------------------------------\n",
      "| batch_size        | 2048     |\n",
      "| bc/               |          |\n",
      "|    batch          | 199      |\n",
      "|    ent_loss       | -0.00241 |\n",
      "|    entropy        | 2.41     |\n",
      "|    epoch          | 20       |\n",
      "|    l2_loss        | 0        |\n",
      "|    l2_norm        | 699      |\n",
      "|    loss           | 1.5      |\n",
      "|    neglogp        | 1.5      |\n",
      "|    prob_true_act  | 0.225    |\n",
      "|    samples_so_far | 409600   |\n",
      "--------------------------------\n"
     ]
    },
    {
     "name": "stderr",
     "output_type": "stream",
     "text": [
      "210batch [01:13,  2.94batch/s]"
     ]
    },
    {
     "name": "stdout",
     "output_type": "stream",
     "text": [
      "--------------------------------\n",
      "| batch_size        | 2048     |\n",
      "| bc/               |          |\n",
      "|    batch          | 209      |\n",
      "|    ent_loss       | -0.00239 |\n",
      "|    entropy        | 2.39     |\n",
      "|    epoch          | 21       |\n",
      "|    l2_loss        | 0        |\n",
      "|    l2_norm        | 714      |\n",
      "|    loss           | 1.48     |\n",
      "|    neglogp        | 1.48     |\n",
      "|    prob_true_act  | 0.229    |\n",
      "|    samples_so_far | 430080   |\n",
      "--------------------------------\n"
     ]
    },
    {
     "name": "stderr",
     "output_type": "stream",
     "text": [
      "220batch [01:16,  3.01batch/s]"
     ]
    },
    {
     "name": "stdout",
     "output_type": "stream",
     "text": [
      "--------------------------------\n",
      "| batch_size        | 2048     |\n",
      "| bc/               |          |\n",
      "|    batch          | 219      |\n",
      "|    ent_loss       | -0.00237 |\n",
      "|    entropy        | 2.37     |\n",
      "|    epoch          | 22       |\n",
      "|    l2_loss        | 0        |\n",
      "|    l2_norm        | 730      |\n",
      "|    loss           | 1.46     |\n",
      "|    neglogp        | 1.46     |\n",
      "|    prob_true_act  | 0.234    |\n",
      "|    samples_so_far | 450560   |\n",
      "--------------------------------\n"
     ]
    },
    {
     "name": "stderr",
     "output_type": "stream",
     "text": [
      "230batch [01:20,  3.01batch/s]"
     ]
    },
    {
     "name": "stdout",
     "output_type": "stream",
     "text": [
      "--------------------------------\n",
      "| batch_size        | 2048     |\n",
      "| bc/               |          |\n",
      "|    batch          | 229      |\n",
      "|    ent_loss       | -0.00235 |\n",
      "|    entropy        | 2.35     |\n",
      "|    epoch          | 23       |\n",
      "|    l2_loss        | 0        |\n",
      "|    l2_norm        | 746      |\n",
      "|    loss           | 1.44     |\n",
      "|    neglogp        | 1.44     |\n",
      "|    prob_true_act  | 0.239    |\n",
      "|    samples_so_far | 471040   |\n",
      "--------------------------------\n"
     ]
    },
    {
     "name": "stderr",
     "output_type": "stream",
     "text": [
      "240batch [01:23,  3.05batch/s]"
     ]
    },
    {
     "name": "stdout",
     "output_type": "stream",
     "text": [
      "--------------------------------\n",
      "| batch_size        | 2048     |\n",
      "| bc/               |          |\n",
      "|    batch          | 239      |\n",
      "|    ent_loss       | -0.00233 |\n",
      "|    entropy        | 2.33     |\n",
      "|    epoch          | 24       |\n",
      "|    l2_loss        | 0        |\n",
      "|    l2_norm        | 763      |\n",
      "|    loss           | 1.42     |\n",
      "|    neglogp        | 1.42     |\n",
      "|    prob_true_act  | 0.244    |\n",
      "|    samples_so_far | 491520   |\n",
      "--------------------------------\n"
     ]
    },
    {
     "name": "stderr",
     "output_type": "stream",
     "text": [
      "250batch [01:27,  3.04batch/s]"
     ]
    },
    {
     "name": "stdout",
     "output_type": "stream",
     "text": [
      "--------------------------------\n",
      "| batch_size        | 2048     |\n",
      "| bc/               |          |\n",
      "|    batch          | 249      |\n",
      "|    ent_loss       | -0.00231 |\n",
      "|    entropy        | 2.31     |\n",
      "|    epoch          | 25       |\n",
      "|    l2_loss        | 0        |\n",
      "|    l2_norm        | 780      |\n",
      "|    loss           | 1.41     |\n",
      "|    neglogp        | 1.41     |\n",
      "|    prob_true_act  | 0.247    |\n",
      "|    samples_so_far | 512000   |\n",
      "--------------------------------\n"
     ]
    },
    {
     "name": "stderr",
     "output_type": "stream",
     "text": [
      "260batch [01:30,  3.03batch/s]"
     ]
    },
    {
     "name": "stdout",
     "output_type": "stream",
     "text": [
      "--------------------------------\n",
      "| batch_size        | 2048     |\n",
      "| bc/               |          |\n",
      "|    batch          | 259      |\n",
      "|    ent_loss       | -0.00229 |\n",
      "|    entropy        | 2.29     |\n",
      "|    epoch          | 26       |\n",
      "|    l2_loss        | 0        |\n",
      "|    l2_norm        | 799      |\n",
      "|    loss           | 1.39     |\n",
      "|    neglogp        | 1.4      |\n",
      "|    prob_true_act  | 0.251    |\n",
      "|    samples_so_far | 532480   |\n",
      "--------------------------------\n"
     ]
    },
    {
     "name": "stderr",
     "output_type": "stream",
     "text": [
      "270batch [01:33,  3.01batch/s]"
     ]
    },
    {
     "name": "stdout",
     "output_type": "stream",
     "text": [
      "--------------------------------\n",
      "| batch_size        | 2048     |\n",
      "| bc/               |          |\n",
      "|    batch          | 269      |\n",
      "|    ent_loss       | -0.00227 |\n",
      "|    entropy        | 2.27     |\n",
      "|    epoch          | 27       |\n",
      "|    l2_loss        | 0        |\n",
      "|    l2_norm        | 816      |\n",
      "|    loss           | 1.36     |\n",
      "|    neglogp        | 1.37     |\n",
      "|    prob_true_act  | 0.258    |\n",
      "|    samples_so_far | 552960   |\n",
      "--------------------------------\n"
     ]
    },
    {
     "name": "stderr",
     "output_type": "stream",
     "text": [
      "280batch [01:37,  3.01batch/s]"
     ]
    },
    {
     "name": "stdout",
     "output_type": "stream",
     "text": [
      "--------------------------------\n",
      "| batch_size        | 2048     |\n",
      "| bc/               |          |\n",
      "|    batch          | 279      |\n",
      "|    ent_loss       | -0.00225 |\n",
      "|    entropy        | 2.25     |\n",
      "|    epoch          | 28       |\n",
      "|    l2_loss        | 0        |\n",
      "|    l2_norm        | 831      |\n",
      "|    loss           | 1.34     |\n",
      "|    neglogp        | 1.35     |\n",
      "|    prob_true_act  | 0.263    |\n",
      "|    samples_so_far | 573440   |\n",
      "--------------------------------\n"
     ]
    },
    {
     "name": "stderr",
     "output_type": "stream",
     "text": [
      "290batch [01:40,  3.01batch/s]"
     ]
    },
    {
     "name": "stdout",
     "output_type": "stream",
     "text": [
      "--------------------------------\n",
      "| batch_size        | 2048     |\n",
      "| bc/               |          |\n",
      "|    batch          | 289      |\n",
      "|    ent_loss       | -0.00223 |\n",
      "|    entropy        | 2.23     |\n",
      "|    epoch          | 29       |\n",
      "|    l2_loss        | 0        |\n",
      "|    l2_norm        | 847      |\n",
      "|    loss           | 1.32     |\n",
      "|    neglogp        | 1.33     |\n",
      "|    prob_true_act  | 0.269    |\n",
      "|    samples_so_far | 593920   |\n",
      "--------------------------------\n"
     ]
    },
    {
     "name": "stderr",
     "output_type": "stream",
     "text": [
      "300batch [01:44,  2.98batch/s]"
     ]
    },
    {
     "name": "stdout",
     "output_type": "stream",
     "text": [
      "--------------------------------\n",
      "| batch_size        | 2048     |\n",
      "| bc/               |          |\n",
      "|    batch          | 299      |\n",
      "|    ent_loss       | -0.00221 |\n",
      "|    entropy        | 2.21     |\n",
      "|    epoch          | 30       |\n",
      "|    l2_loss        | 0        |\n",
      "|    l2_norm        | 863      |\n",
      "|    loss           | 1.3      |\n",
      "|    neglogp        | 1.3      |\n",
      "|    prob_true_act  | 0.275    |\n",
      "|    samples_so_far | 614400   |\n",
      "--------------------------------\n"
     ]
    },
    {
     "name": "stderr",
     "output_type": "stream",
     "text": [
      "310batch [01:47,  3.01batch/s]"
     ]
    },
    {
     "name": "stdout",
     "output_type": "stream",
     "text": [
      "--------------------------------\n",
      "| batch_size        | 2048     |\n",
      "| bc/               |          |\n",
      "|    batch          | 309      |\n",
      "|    ent_loss       | -0.00219 |\n",
      "|    entropy        | 2.19     |\n",
      "|    epoch          | 31       |\n",
      "|    l2_loss        | 0        |\n",
      "|    l2_norm        | 881      |\n",
      "|    loss           | 1.29     |\n",
      "|    neglogp        | 1.29     |\n",
      "|    prob_true_act  | 0.279    |\n",
      "|    samples_so_far | 634880   |\n",
      "--------------------------------\n"
     ]
    },
    {
     "name": "stderr",
     "output_type": "stream",
     "text": [
      "320batch [01:51,  3.02batch/s]"
     ]
    },
    {
     "name": "stdout",
     "output_type": "stream",
     "text": [
      "--------------------------------\n",
      "| batch_size        | 2048     |\n",
      "| bc/               |          |\n",
      "|    batch          | 319      |\n",
      "|    ent_loss       | -0.00217 |\n",
      "|    entropy        | 2.17     |\n",
      "|    epoch          | 32       |\n",
      "|    l2_loss        | 0        |\n",
      "|    l2_norm        | 901      |\n",
      "|    loss           | 1.26     |\n",
      "|    neglogp        | 1.27     |\n",
      "|    prob_true_act  | 0.285    |\n",
      "|    samples_so_far | 655360   |\n",
      "--------------------------------\n"
     ]
    },
    {
     "name": "stderr",
     "output_type": "stream",
     "text": [
      "330batch [01:54,  3.02batch/s]"
     ]
    },
    {
     "name": "stdout",
     "output_type": "stream",
     "text": [
      "--------------------------------\n",
      "| batch_size        | 2048     |\n",
      "| bc/               |          |\n",
      "|    batch          | 329      |\n",
      "|    ent_loss       | -0.00215 |\n",
      "|    entropy        | 2.15     |\n",
      "|    epoch          | 33       |\n",
      "|    l2_loss        | 0        |\n",
      "|    l2_norm        | 920      |\n",
      "|    loss           | 1.26     |\n",
      "|    neglogp        | 1.26     |\n",
      "|    prob_true_act  | 0.289    |\n",
      "|    samples_so_far | 675840   |\n",
      "--------------------------------\n"
     ]
    },
    {
     "name": "stderr",
     "output_type": "stream",
     "text": [
      "340batch [01:58,  3.02batch/s]"
     ]
    },
    {
     "name": "stdout",
     "output_type": "stream",
     "text": [
      "--------------------------------\n",
      "| batch_size        | 2048     |\n",
      "| bc/               |          |\n",
      "|    batch          | 339      |\n",
      "|    ent_loss       | -0.00213 |\n",
      "|    entropy        | 2.13     |\n",
      "|    epoch          | 34       |\n",
      "|    l2_loss        | 0        |\n",
      "|    l2_norm        | 940      |\n",
      "|    loss           | 1.23     |\n",
      "|    neglogp        | 1.23     |\n",
      "|    prob_true_act  | 0.296    |\n",
      "|    samples_so_far | 696320   |\n",
      "--------------------------------\n"
     ]
    },
    {
     "name": "stderr",
     "output_type": "stream",
     "text": [
      "350batch [02:01,  3.01batch/s]"
     ]
    },
    {
     "name": "stdout",
     "output_type": "stream",
     "text": [
      "--------------------------------\n",
      "| batch_size        | 2048     |\n",
      "| bc/               |          |\n",
      "|    batch          | 349      |\n",
      "|    ent_loss       | -0.00211 |\n",
      "|    entropy        | 2.11     |\n",
      "|    epoch          | 35       |\n",
      "|    l2_loss        | 0        |\n",
      "|    l2_norm        | 960      |\n",
      "|    loss           | 1.22     |\n",
      "|    neglogp        | 1.22     |\n",
      "|    prob_true_act  | 0.299    |\n",
      "|    samples_so_far | 716800   |\n",
      "--------------------------------\n"
     ]
    },
    {
     "name": "stderr",
     "output_type": "stream",
     "text": [
      "360batch [02:05,  3.00batch/s]"
     ]
    },
    {
     "name": "stdout",
     "output_type": "stream",
     "text": [
      "--------------------------------\n",
      "| batch_size        | 2048     |\n",
      "| bc/               |          |\n",
      "|    batch          | 359      |\n",
      "|    ent_loss       | -0.00209 |\n",
      "|    entropy        | 2.09     |\n",
      "|    epoch          | 36       |\n",
      "|    l2_loss        | 0        |\n",
      "|    l2_norm        | 981      |\n",
      "|    loss           | 1.18     |\n",
      "|    neglogp        | 1.19     |\n",
      "|    prob_true_act  | 0.309    |\n",
      "|    samples_so_far | 737280   |\n",
      "--------------------------------\n"
     ]
    },
    {
     "name": "stderr",
     "output_type": "stream",
     "text": [
      "370batch [02:08,  3.02batch/s]"
     ]
    },
    {
     "name": "stdout",
     "output_type": "stream",
     "text": [
      "--------------------------------\n",
      "| batch_size        | 2048     |\n",
      "| bc/               |          |\n",
      "|    batch          | 369      |\n",
      "|    ent_loss       | -0.00207 |\n",
      "|    entropy        | 2.07     |\n",
      "|    epoch          | 37       |\n",
      "|    l2_loss        | 0        |\n",
      "|    l2_norm        | 1e+03    |\n",
      "|    loss           | 1.17     |\n",
      "|    neglogp        | 1.18     |\n",
      "|    prob_true_act  | 0.313    |\n",
      "|    samples_so_far | 757760   |\n",
      "--------------------------------\n"
     ]
    },
    {
     "name": "stderr",
     "output_type": "stream",
     "text": [
      "380batch [02:12,  3.02batch/s]"
     ]
    },
    {
     "name": "stdout",
     "output_type": "stream",
     "text": [
      "--------------------------------\n",
      "| batch_size        | 2048     |\n",
      "| bc/               |          |\n",
      "|    batch          | 379      |\n",
      "|    ent_loss       | -0.00205 |\n",
      "|    entropy        | 2.05     |\n",
      "|    epoch          | 38       |\n",
      "|    l2_loss        | 0        |\n",
      "|    l2_norm        | 1.03e+03 |\n",
      "|    loss           | 1.15     |\n",
      "|    neglogp        | 1.15     |\n",
      "|    prob_true_act  | 0.321    |\n",
      "|    samples_so_far | 778240   |\n",
      "--------------------------------\n"
     ]
    },
    {
     "name": "stderr",
     "output_type": "stream",
     "text": [
      "390batch [02:15,  3.01batch/s]"
     ]
    },
    {
     "name": "stdout",
     "output_type": "stream",
     "text": [
      "--------------------------------\n",
      "| batch_size        | 2048     |\n",
      "| bc/               |          |\n",
      "|    batch          | 389      |\n",
      "|    ent_loss       | -0.00203 |\n",
      "|    entropy        | 2.03     |\n",
      "|    epoch          | 39       |\n",
      "|    l2_loss        | 0        |\n",
      "|    l2_norm        | 1.05e+03 |\n",
      "|    loss           | 1.13     |\n",
      "|    neglogp        | 1.14     |\n",
      "|    prob_true_act  | 0.325    |\n",
      "|    samples_so_far | 798720   |\n",
      "--------------------------------\n"
     ]
    },
    {
     "name": "stderr",
     "output_type": "stream",
     "text": [
      "400batch [02:19,  3.04batch/s]"
     ]
    },
    {
     "name": "stdout",
     "output_type": "stream",
     "text": [
      "--------------------------------\n",
      "| batch_size        | 2048     |\n",
      "| bc/               |          |\n",
      "|    batch          | 399      |\n",
      "|    ent_loss       | -0.00201 |\n",
      "|    entropy        | 2.01     |\n",
      "|    epoch          | 40       |\n",
      "|    l2_loss        | 0        |\n",
      "|    l2_norm        | 1.07e+03 |\n",
      "|    loss           | 1.11     |\n",
      "|    neglogp        | 1.11     |\n",
      "|    prob_true_act  | 0.334    |\n",
      "|    samples_so_far | 819200   |\n",
      "--------------------------------\n"
     ]
    },
    {
     "name": "stderr",
     "output_type": "stream",
     "text": [
      "410batch [02:22,  3.04batch/s]"
     ]
    },
    {
     "name": "stdout",
     "output_type": "stream",
     "text": [
      "--------------------------------\n",
      "| batch_size        | 2048     |\n",
      "| bc/               |          |\n",
      "|    batch          | 409      |\n",
      "|    ent_loss       | -0.00199 |\n",
      "|    entropy        | 1.99     |\n",
      "|    epoch          | 41       |\n",
      "|    l2_loss        | 0        |\n",
      "|    l2_norm        | 1.09e+03 |\n",
      "|    loss           | 1.09     |\n",
      "|    neglogp        | 1.1      |\n",
      "|    prob_true_act  | 0.339    |\n",
      "|    samples_so_far | 839680   |\n",
      "--------------------------------\n"
     ]
    },
    {
     "name": "stderr",
     "output_type": "stream",
     "text": [
      "420batch [02:26,  3.03batch/s]"
     ]
    },
    {
     "name": "stdout",
     "output_type": "stream",
     "text": [
      "--------------------------------\n",
      "| batch_size        | 2048     |\n",
      "| bc/               |          |\n",
      "|    batch          | 419      |\n",
      "|    ent_loss       | -0.00197 |\n",
      "|    entropy        | 1.97     |\n",
      "|    epoch          | 42       |\n",
      "|    l2_loss        | 0        |\n",
      "|    l2_norm        | 1.12e+03 |\n",
      "|    loss           | 1.07     |\n",
      "|    neglogp        | 1.07     |\n",
      "|    prob_true_act  | 0.346    |\n",
      "|    samples_so_far | 860160   |\n",
      "--------------------------------\n"
     ]
    },
    {
     "name": "stderr",
     "output_type": "stream",
     "text": [
      "430batch [02:29,  2.98batch/s]"
     ]
    },
    {
     "name": "stdout",
     "output_type": "stream",
     "text": [
      "--------------------------------\n",
      "| batch_size        | 2048     |\n",
      "| bc/               |          |\n",
      "|    batch          | 429      |\n",
      "|    ent_loss       | -0.00195 |\n",
      "|    entropy        | 1.95     |\n",
      "|    epoch          | 43       |\n",
      "|    l2_loss        | 0        |\n",
      "|    l2_norm        | 1.14e+03 |\n",
      "|    loss           | 1.05     |\n",
      "|    neglogp        | 1.05     |\n",
      "|    prob_true_act  | 0.354    |\n",
      "|    samples_so_far | 880640   |\n",
      "--------------------------------\n"
     ]
    },
    {
     "name": "stderr",
     "output_type": "stream",
     "text": [
      "440batch [02:33,  3.01batch/s]"
     ]
    },
    {
     "name": "stdout",
     "output_type": "stream",
     "text": [
      "--------------------------------\n",
      "| batch_size        | 2048     |\n",
      "| bc/               |          |\n",
      "|    batch          | 439      |\n",
      "|    ent_loss       | -0.00193 |\n",
      "|    entropy        | 1.93     |\n",
      "|    epoch          | 44       |\n",
      "|    l2_loss        | 0        |\n",
      "|    l2_norm        | 1.16e+03 |\n",
      "|    loss           | 1.03     |\n",
      "|    neglogp        | 1.03     |\n",
      "|    prob_true_act  | 0.362    |\n",
      "|    samples_so_far | 901120   |\n",
      "--------------------------------\n"
     ]
    },
    {
     "name": "stderr",
     "output_type": "stream",
     "text": [
      "450batch [02:36,  2.98batch/s]"
     ]
    },
    {
     "name": "stdout",
     "output_type": "stream",
     "text": [
      "--------------------------------\n",
      "| batch_size        | 2048     |\n",
      "| bc/               |          |\n",
      "|    batch          | 449      |\n",
      "|    ent_loss       | -0.00191 |\n",
      "|    entropy        | 1.91     |\n",
      "|    epoch          | 45       |\n",
      "|    l2_loss        | 0        |\n",
      "|    l2_norm        | 1.18e+03 |\n",
      "|    loss           | 1.01     |\n",
      "|    neglogp        | 1.01     |\n",
      "|    prob_true_act  | 0.368    |\n",
      "|    samples_so_far | 921600   |\n",
      "--------------------------------\n"
     ]
    },
    {
     "name": "stderr",
     "output_type": "stream",
     "text": [
      "460batch [02:40,  3.01batch/s]"
     ]
    },
    {
     "name": "stdout",
     "output_type": "stream",
     "text": [
      "--------------------------------\n",
      "| batch_size        | 2048     |\n",
      "| bc/               |          |\n",
      "|    batch          | 459      |\n",
      "|    ent_loss       | -0.00189 |\n",
      "|    entropy        | 1.89     |\n",
      "|    epoch          | 46       |\n",
      "|    l2_loss        | 0        |\n",
      "|    l2_norm        | 1.21e+03 |\n",
      "|    loss           | 0.997    |\n",
      "|    neglogp        | 0.999    |\n",
      "|    prob_true_act  | 0.374    |\n",
      "|    samples_so_far | 942080   |\n",
      "--------------------------------\n"
     ]
    },
    {
     "name": "stderr",
     "output_type": "stream",
     "text": [
      "470batch [02:43,  2.97batch/s]"
     ]
    },
    {
     "name": "stdout",
     "output_type": "stream",
     "text": [
      "--------------------------------\n",
      "| batch_size        | 2048     |\n",
      "| bc/               |          |\n",
      "|    batch          | 469      |\n",
      "|    ent_loss       | -0.00187 |\n",
      "|    entropy        | 1.87     |\n",
      "|    epoch          | 47       |\n",
      "|    l2_loss        | 0        |\n",
      "|    l2_norm        | 1.23e+03 |\n",
      "|    loss           | 0.966    |\n",
      "|    neglogp        | 0.967    |\n",
      "|    prob_true_act  | 0.385    |\n",
      "|    samples_so_far | 962560   |\n",
      "--------------------------------\n"
     ]
    },
    {
     "name": "stderr",
     "output_type": "stream",
     "text": [
      "480batch [02:47,  2.97batch/s]"
     ]
    },
    {
     "name": "stdout",
     "output_type": "stream",
     "text": [
      "--------------------------------\n",
      "| batch_size        | 2048     |\n",
      "| bc/               |          |\n",
      "|    batch          | 479      |\n",
      "|    ent_loss       | -0.00185 |\n",
      "|    entropy        | 1.85     |\n",
      "|    epoch          | 48       |\n",
      "|    l2_loss        | 0        |\n",
      "|    l2_norm        | 1.25e+03 |\n",
      "|    loss           | 0.961    |\n",
      "|    neglogp        | 0.962    |\n",
      "|    prob_true_act  | 0.388    |\n",
      "|    samples_so_far | 983040   |\n",
      "--------------------------------\n"
     ]
    },
    {
     "name": "stderr",
     "output_type": "stream",
     "text": [
      "490batch [02:50,  2.99batch/s]"
     ]
    },
    {
     "name": "stdout",
     "output_type": "stream",
     "text": [
      "--------------------------------\n",
      "| batch_size        | 2048     |\n",
      "| bc/               |          |\n",
      "|    batch          | 489      |\n",
      "|    ent_loss       | -0.00183 |\n",
      "|    entropy        | 1.83     |\n",
      "|    epoch          | 49       |\n",
      "|    l2_loss        | 0        |\n",
      "|    l2_norm        | 1.27e+03 |\n",
      "|    loss           | 0.941    |\n",
      "|    neglogp        | 0.943    |\n",
      "|    prob_true_act  | 0.397    |\n",
      "|    samples_so_far | 1003520  |\n",
      "--------------------------------\n"
     ]
    },
    {
     "name": "stderr",
     "output_type": "stream",
     "text": [
      "500batch [02:54,  3.01batch/s]"
     ]
    },
    {
     "name": "stdout",
     "output_type": "stream",
     "text": [
      "--------------------------------\n",
      "| batch_size        | 2048     |\n",
      "| bc/               |          |\n",
      "|    batch          | 499      |\n",
      "|    ent_loss       | -0.00181 |\n",
      "|    entropy        | 1.81     |\n",
      "|    epoch          | 50       |\n",
      "|    l2_loss        | 0        |\n",
      "|    l2_norm        | 1.3e+03  |\n",
      "|    loss           | 0.91     |\n",
      "|    neglogp        | 0.912    |\n",
      "|    prob_true_act  | 0.408    |\n",
      "|    samples_so_far | 1024000  |\n",
      "--------------------------------\n"
     ]
    },
    {
     "name": "stderr",
     "output_type": "stream",
     "text": [
      "510batch [02:57,  3.01batch/s]"
     ]
    },
    {
     "name": "stdout",
     "output_type": "stream",
     "text": [
      "--------------------------------\n",
      "| batch_size        | 2048     |\n",
      "| bc/               |          |\n",
      "|    batch          | 509      |\n",
      "|    ent_loss       | -0.00179 |\n",
      "|    entropy        | 1.79     |\n",
      "|    epoch          | 51       |\n",
      "|    l2_loss        | 0        |\n",
      "|    l2_norm        | 1.32e+03 |\n",
      "|    loss           | 0.898    |\n",
      "|    neglogp        | 0.9      |\n",
      "|    prob_true_act  | 0.413    |\n",
      "|    samples_so_far | 1044480  |\n",
      "--------------------------------\n"
     ]
    },
    {
     "name": "stderr",
     "output_type": "stream",
     "text": [
      "520batch [03:01,  2.96batch/s]"
     ]
    },
    {
     "name": "stdout",
     "output_type": "stream",
     "text": [
      "--------------------------------\n",
      "| batch_size        | 2048     |\n",
      "| bc/               |          |\n",
      "|    batch          | 519      |\n",
      "|    ent_loss       | -0.00177 |\n",
      "|    entropy        | 1.77     |\n",
      "|    epoch          | 52       |\n",
      "|    l2_loss        | 0        |\n",
      "|    l2_norm        | 1.34e+03 |\n",
      "|    loss           | 0.873    |\n",
      "|    neglogp        | 0.874    |\n",
      "|    prob_true_act  | 0.423    |\n",
      "|    samples_so_far | 1064960  |\n",
      "--------------------------------\n"
     ]
    },
    {
     "name": "stderr",
     "output_type": "stream",
     "text": [
      "530batch [03:04,  2.99batch/s]"
     ]
    },
    {
     "name": "stdout",
     "output_type": "stream",
     "text": [
      "--------------------------------\n",
      "| batch_size        | 2048     |\n",
      "| bc/               |          |\n",
      "|    batch          | 529      |\n",
      "|    ent_loss       | -0.00175 |\n",
      "|    entropy        | 1.75     |\n",
      "|    epoch          | 53       |\n",
      "|    l2_loss        | 0        |\n",
      "|    l2_norm        | 1.37e+03 |\n",
      "|    loss           | 0.855    |\n",
      "|    neglogp        | 0.857    |\n",
      "|    prob_true_act  | 0.432    |\n",
      "|    samples_so_far | 1085440  |\n",
      "--------------------------------\n"
     ]
    },
    {
     "name": "stderr",
     "output_type": "stream",
     "text": [
      "540batch [03:08,  2.97batch/s]"
     ]
    },
    {
     "name": "stdout",
     "output_type": "stream",
     "text": [
      "--------------------------------\n",
      "| batch_size        | 2048     |\n",
      "| bc/               |          |\n",
      "|    batch          | 539      |\n",
      "|    ent_loss       | -0.00173 |\n",
      "|    entropy        | 1.73     |\n",
      "|    epoch          | 54       |\n",
      "|    l2_loss        | 0        |\n",
      "|    l2_norm        | 1.39e+03 |\n",
      "|    loss           | 0.84     |\n",
      "|    neglogp        | 0.841    |\n",
      "|    prob_true_act  | 0.439    |\n",
      "|    samples_so_far | 1105920  |\n",
      "--------------------------------\n"
     ]
    },
    {
     "name": "stderr",
     "output_type": "stream",
     "text": [
      "550batch [03:11,  2.97batch/s]"
     ]
    },
    {
     "name": "stdout",
     "output_type": "stream",
     "text": [
      "--------------------------------\n",
      "| batch_size        | 2048     |\n",
      "| bc/               |          |\n",
      "|    batch          | 549      |\n",
      "|    ent_loss       | -0.00171 |\n",
      "|    entropy        | 1.71     |\n",
      "|    epoch          | 55       |\n",
      "|    l2_loss        | 0        |\n",
      "|    l2_norm        | 1.41e+03 |\n",
      "|    loss           | 0.825    |\n",
      "|    neglogp        | 0.827    |\n",
      "|    prob_true_act  | 0.443    |\n",
      "|    samples_so_far | 1126400  |\n",
      "--------------------------------\n"
     ]
    },
    {
     "name": "stderr",
     "output_type": "stream",
     "text": [
      "560batch [03:15,  3.00batch/s]"
     ]
    },
    {
     "name": "stdout",
     "output_type": "stream",
     "text": [
      "--------------------------------\n",
      "| batch_size        | 2048     |\n",
      "| bc/               |          |\n",
      "|    batch          | 559      |\n",
      "|    ent_loss       | -0.00169 |\n",
      "|    entropy        | 1.69     |\n",
      "|    epoch          | 56       |\n",
      "|    l2_loss        | 0        |\n",
      "|    l2_norm        | 1.44e+03 |\n",
      "|    loss           | 0.8      |\n",
      "|    neglogp        | 0.802    |\n",
      "|    prob_true_act  | 0.456    |\n",
      "|    samples_so_far | 1146880  |\n",
      "--------------------------------\n"
     ]
    },
    {
     "name": "stderr",
     "output_type": "stream",
     "text": [
      "570batch [03:18,  2.96batch/s]"
     ]
    },
    {
     "name": "stdout",
     "output_type": "stream",
     "text": [
      "--------------------------------\n",
      "| batch_size        | 2048     |\n",
      "| bc/               |          |\n",
      "|    batch          | 569      |\n",
      "|    ent_loss       | -0.00167 |\n",
      "|    entropy        | 1.67     |\n",
      "|    epoch          | 57       |\n",
      "|    l2_loss        | 0        |\n",
      "|    l2_norm        | 1.46e+03 |\n",
      "|    loss           | 0.778    |\n",
      "|    neglogp        | 0.779    |\n",
      "|    prob_true_act  | 0.465    |\n",
      "|    samples_so_far | 1167360  |\n",
      "--------------------------------\n"
     ]
    },
    {
     "name": "stderr",
     "output_type": "stream",
     "text": [
      "580batch [03:22,  3.02batch/s]"
     ]
    },
    {
     "name": "stdout",
     "output_type": "stream",
     "text": [
      "--------------------------------\n",
      "| batch_size        | 2048     |\n",
      "| bc/               |          |\n",
      "|    batch          | 579      |\n",
      "|    ent_loss       | -0.00165 |\n",
      "|    entropy        | 1.65     |\n",
      "|    epoch          | 58       |\n",
      "|    l2_loss        | 0        |\n",
      "|    l2_norm        | 1.49e+03 |\n",
      "|    loss           | 0.753    |\n",
      "|    neglogp        | 0.755    |\n",
      "|    prob_true_act  | 0.479    |\n",
      "|    samples_so_far | 1187840  |\n",
      "--------------------------------\n"
     ]
    },
    {
     "name": "stderr",
     "output_type": "stream",
     "text": [
      "590batch [03:25,  3.02batch/s]"
     ]
    },
    {
     "name": "stdout",
     "output_type": "stream",
     "text": [
      "--------------------------------\n",
      "| batch_size        | 2048     |\n",
      "| bc/               |          |\n",
      "|    batch          | 589      |\n",
      "|    ent_loss       | -0.00163 |\n",
      "|    entropy        | 1.63     |\n",
      "|    epoch          | 59       |\n",
      "|    l2_loss        | 0        |\n",
      "|    l2_norm        | 1.51e+03 |\n",
      "|    loss           | 0.745    |\n",
      "|    neglogp        | 0.747    |\n",
      "|    prob_true_act  | 0.482    |\n",
      "|    samples_so_far | 1208320  |\n",
      "--------------------------------\n"
     ]
    },
    {
     "name": "stderr",
     "output_type": "stream",
     "text": [
      "600batch [03:29,  3.01batch/s]"
     ]
    },
    {
     "name": "stdout",
     "output_type": "stream",
     "text": [
      "--------------------------------\n",
      "| batch_size        | 2048     |\n",
      "| bc/               |          |\n",
      "|    batch          | 599      |\n",
      "|    ent_loss       | -0.00161 |\n",
      "|    entropy        | 1.61     |\n",
      "|    epoch          | 60       |\n",
      "|    l2_loss        | 0        |\n",
      "|    l2_norm        | 1.53e+03 |\n",
      "|    loss           | 0.716    |\n",
      "|    neglogp        | 0.718    |\n",
      "|    prob_true_act  | 0.496    |\n",
      "|    samples_so_far | 1228800  |\n",
      "--------------------------------\n"
     ]
    },
    {
     "name": "stderr",
     "output_type": "stream",
     "text": [
      "610batch [03:32,  3.00batch/s]"
     ]
    },
    {
     "name": "stdout",
     "output_type": "stream",
     "text": [
      "--------------------------------\n",
      "| batch_size        | 2048     |\n",
      "| bc/               |          |\n",
      "|    batch          | 609      |\n",
      "|    ent_loss       | -0.00159 |\n",
      "|    entropy        | 1.59     |\n",
      "|    epoch          | 61       |\n",
      "|    l2_loss        | 0        |\n",
      "|    l2_norm        | 1.56e+03 |\n",
      "|    loss           | 0.698    |\n",
      "|    neglogp        | 0.7      |\n",
      "|    prob_true_act  | 0.507    |\n",
      "|    samples_so_far | 1249280  |\n",
      "--------------------------------\n"
     ]
    },
    {
     "name": "stderr",
     "output_type": "stream",
     "text": [
      "620batch [03:36,  2.99batch/s]"
     ]
    },
    {
     "name": "stdout",
     "output_type": "stream",
     "text": [
      "--------------------------------\n",
      "| batch_size        | 2048     |\n",
      "| bc/               |          |\n",
      "|    batch          | 619      |\n",
      "|    ent_loss       | -0.00157 |\n",
      "|    entropy        | 1.57     |\n",
      "|    epoch          | 62       |\n",
      "|    l2_loss        | 0        |\n",
      "|    l2_norm        | 1.58e+03 |\n",
      "|    loss           | 0.693    |\n",
      "|    neglogp        | 0.694    |\n",
      "|    prob_true_act  | 0.509    |\n",
      "|    samples_so_far | 1269760  |\n",
      "--------------------------------\n"
     ]
    },
    {
     "name": "stderr",
     "output_type": "stream",
     "text": [
      "630batch [03:39,  2.98batch/s]"
     ]
    },
    {
     "name": "stdout",
     "output_type": "stream",
     "text": [
      "--------------------------------\n",
      "| batch_size        | 2048     |\n",
      "| bc/               |          |\n",
      "|    batch          | 629      |\n",
      "|    ent_loss       | -0.00155 |\n",
      "|    entropy        | 1.55     |\n",
      "|    epoch          | 63       |\n",
      "|    l2_loss        | 0        |\n",
      "|    l2_norm        | 1.6e+03  |\n",
      "|    loss           | 0.649    |\n",
      "|    neglogp        | 0.651    |\n",
      "|    prob_true_act  | 0.53     |\n",
      "|    samples_so_far | 1290240  |\n",
      "--------------------------------\n"
     ]
    },
    {
     "name": "stderr",
     "output_type": "stream",
     "text": [
      "640batch [03:43,  3.03batch/s]"
     ]
    },
    {
     "name": "stdout",
     "output_type": "stream",
     "text": [
      "--------------------------------\n",
      "| batch_size        | 2048     |\n",
      "| bc/               |          |\n",
      "|    batch          | 639      |\n",
      "|    ent_loss       | -0.00153 |\n",
      "|    entropy        | 1.53     |\n",
      "|    epoch          | 64       |\n",
      "|    l2_loss        | 0        |\n",
      "|    l2_norm        | 1.63e+03 |\n",
      "|    loss           | 0.649    |\n",
      "|    neglogp        | 0.65     |\n",
      "|    prob_true_act  | 0.533    |\n",
      "|    samples_so_far | 1310720  |\n",
      "--------------------------------\n"
     ]
    },
    {
     "name": "stderr",
     "output_type": "stream",
     "text": [
      "650batch [03:46,  2.99batch/s]"
     ]
    },
    {
     "name": "stdout",
     "output_type": "stream",
     "text": [
      "--------------------------------\n",
      "| batch_size        | 2048     |\n",
      "| bc/               |          |\n",
      "|    batch          | 649      |\n",
      "|    ent_loss       | -0.00151 |\n",
      "|    entropy        | 1.51     |\n",
      "|    epoch          | 65       |\n",
      "|    l2_loss        | 0        |\n",
      "|    l2_norm        | 1.65e+03 |\n",
      "|    loss           | 0.644    |\n",
      "|    neglogp        | 0.645    |\n",
      "|    prob_true_act  | 0.533    |\n",
      "|    samples_so_far | 1331200  |\n",
      "--------------------------------\n"
     ]
    },
    {
     "name": "stderr",
     "output_type": "stream",
     "text": [
      "660batch [03:50,  3.01batch/s]"
     ]
    },
    {
     "name": "stdout",
     "output_type": "stream",
     "text": [
      "--------------------------------\n",
      "| batch_size        | 2048     |\n",
      "| bc/               |          |\n",
      "|    batch          | 659      |\n",
      "|    ent_loss       | -0.00149 |\n",
      "|    entropy        | 1.49     |\n",
      "|    epoch          | 66       |\n",
      "|    l2_loss        | 0        |\n",
      "|    l2_norm        | 1.68e+03 |\n",
      "|    loss           | 0.595    |\n",
      "|    neglogp        | 0.596    |\n",
      "|    prob_true_act  | 0.561    |\n",
      "|    samples_so_far | 1351680  |\n",
      "--------------------------------\n"
     ]
    },
    {
     "name": "stderr",
     "output_type": "stream",
     "text": [
      "670batch [03:53,  2.96batch/s]"
     ]
    },
    {
     "name": "stdout",
     "output_type": "stream",
     "text": [
      "--------------------------------\n",
      "| batch_size        | 2048     |\n",
      "| bc/               |          |\n",
      "|    batch          | 669      |\n",
      "|    ent_loss       | -0.00147 |\n",
      "|    entropy        | 1.47     |\n",
      "|    epoch          | 67       |\n",
      "|    l2_loss        | 0        |\n",
      "|    l2_norm        | 1.7e+03  |\n",
      "|    loss           | 0.569    |\n",
      "|    neglogp        | 0.571    |\n",
      "|    prob_true_act  | 0.573    |\n",
      "|    samples_so_far | 1372160  |\n",
      "--------------------------------\n"
     ]
    },
    {
     "name": "stderr",
     "output_type": "stream",
     "text": [
      "680batch [03:57,  3.03batch/s]"
     ]
    },
    {
     "name": "stdout",
     "output_type": "stream",
     "text": [
      "--------------------------------\n",
      "| batch_size        | 2048     |\n",
      "| bc/               |          |\n",
      "|    batch          | 679      |\n",
      "|    ent_loss       | -0.00145 |\n",
      "|    entropy        | 1.45     |\n",
      "|    epoch          | 68       |\n",
      "|    l2_loss        | 0        |\n",
      "|    l2_norm        | 1.72e+03 |\n",
      "|    loss           | 0.557    |\n",
      "|    neglogp        | 0.558    |\n",
      "|    prob_true_act  | 0.582    |\n",
      "|    samples_so_far | 1392640  |\n",
      "--------------------------------\n"
     ]
    },
    {
     "name": "stderr",
     "output_type": "stream",
     "text": [
      "690batch [04:00,  3.03batch/s]"
     ]
    },
    {
     "name": "stdout",
     "output_type": "stream",
     "text": [
      "--------------------------------\n",
      "| batch_size        | 2048     |\n",
      "| bc/               |          |\n",
      "|    batch          | 689      |\n",
      "|    ent_loss       | -0.00143 |\n",
      "|    entropy        | 1.43     |\n",
      "|    epoch          | 69       |\n",
      "|    l2_loss        | 0        |\n",
      "|    l2_norm        | 1.75e+03 |\n",
      "|    loss           | 0.528    |\n",
      "|    neglogp        | 0.53     |\n",
      "|    prob_true_act  | 0.598    |\n",
      "|    samples_so_far | 1413120  |\n",
      "--------------------------------\n"
     ]
    },
    {
     "name": "stderr",
     "output_type": "stream",
     "text": [
      "700batch [04:04,  3.02batch/s]"
     ]
    },
    {
     "name": "stdout",
     "output_type": "stream",
     "text": [
      "--------------------------------\n",
      "| batch_size        | 2048     |\n",
      "| bc/               |          |\n",
      "|    batch          | 699      |\n",
      "|    ent_loss       | -0.00141 |\n",
      "|    entropy        | 1.41     |\n",
      "|    epoch          | 70       |\n",
      "|    l2_loss        | 0        |\n",
      "|    l2_norm        | 1.77e+03 |\n",
      "|    loss           | 0.521    |\n",
      "|    neglogp        | 0.523    |\n",
      "|    prob_true_act  | 0.605    |\n",
      "|    samples_so_far | 1433600  |\n",
      "--------------------------------\n"
     ]
    },
    {
     "name": "stderr",
     "output_type": "stream",
     "text": [
      "710batch [04:07,  2.91batch/s]"
     ]
    },
    {
     "name": "stdout",
     "output_type": "stream",
     "text": [
      "--------------------------------\n",
      "| batch_size        | 2048     |\n",
      "| bc/               |          |\n",
      "|    batch          | 709      |\n",
      "|    ent_loss       | -0.00139 |\n",
      "|    entropy        | 1.39     |\n",
      "|    epoch          | 71       |\n",
      "|    l2_loss        | 0        |\n",
      "|    l2_norm        | 1.8e+03  |\n",
      "|    loss           | 0.5      |\n",
      "|    neglogp        | 0.501    |\n",
      "|    prob_true_act  | 0.617    |\n",
      "|    samples_so_far | 1454080  |\n",
      "--------------------------------\n"
     ]
    },
    {
     "name": "stderr",
     "output_type": "stream",
     "text": [
      "720batch [04:11,  3.01batch/s]"
     ]
    },
    {
     "name": "stdout",
     "output_type": "stream",
     "text": [
      "--------------------------------\n",
      "| batch_size        | 2048     |\n",
      "| bc/               |          |\n",
      "|    batch          | 719      |\n",
      "|    ent_loss       | -0.00137 |\n",
      "|    entropy        | 1.37     |\n",
      "|    epoch          | 72       |\n",
      "|    l2_loss        | 0        |\n",
      "|    l2_norm        | 1.82e+03 |\n",
      "|    loss           | 0.475    |\n",
      "|    neglogp        | 0.476    |\n",
      "|    prob_true_act  | 0.632    |\n",
      "|    samples_so_far | 1474560  |\n",
      "--------------------------------\n"
     ]
    },
    {
     "name": "stderr",
     "output_type": "stream",
     "text": [
      "730batch [04:14,  2.98batch/s]"
     ]
    },
    {
     "name": "stdout",
     "output_type": "stream",
     "text": [
      "--------------------------------\n",
      "| batch_size        | 2048     |\n",
      "| bc/               |          |\n",
      "|    batch          | 729      |\n",
      "|    ent_loss       | -0.00135 |\n",
      "|    entropy        | 1.35     |\n",
      "|    epoch          | 73       |\n",
      "|    l2_loss        | 0        |\n",
      "|    l2_norm        | 1.85e+03 |\n",
      "|    loss           | 0.463    |\n",
      "|    neglogp        | 0.464    |\n",
      "|    prob_true_act  | 0.642    |\n",
      "|    samples_so_far | 1495040  |\n",
      "--------------------------------\n"
     ]
    },
    {
     "name": "stderr",
     "output_type": "stream",
     "text": [
      "740batch [04:18,  2.99batch/s]"
     ]
    },
    {
     "name": "stdout",
     "output_type": "stream",
     "text": [
      "--------------------------------\n",
      "| batch_size        | 2048     |\n",
      "| bc/               |          |\n",
      "|    batch          | 739      |\n",
      "|    ent_loss       | -0.00133 |\n",
      "|    entropy        | 1.33     |\n",
      "|    epoch          | 74       |\n",
      "|    l2_loss        | 0        |\n",
      "|    l2_norm        | 1.87e+03 |\n",
      "|    loss           | 0.429    |\n",
      "|    neglogp        | 0.43     |\n",
      "|    prob_true_act  | 0.661    |\n",
      "|    samples_so_far | 1515520  |\n",
      "--------------------------------\n"
     ]
    },
    {
     "name": "stderr",
     "output_type": "stream",
     "text": [
      "750batch [04:21,  2.98batch/s]"
     ]
    },
    {
     "name": "stdout",
     "output_type": "stream",
     "text": [
      "--------------------------------\n",
      "| batch_size        | 2048     |\n",
      "| bc/               |          |\n",
      "|    batch          | 749      |\n",
      "|    ent_loss       | -0.00131 |\n",
      "|    entropy        | 1.31     |\n",
      "|    epoch          | 75       |\n",
      "|    l2_loss        | 0        |\n",
      "|    l2_norm        | 1.9e+03  |\n",
      "|    loss           | 0.421    |\n",
      "|    neglogp        | 0.423    |\n",
      "|    prob_true_act  | 0.667    |\n",
      "|    samples_so_far | 1536000  |\n",
      "--------------------------------\n"
     ]
    },
    {
     "name": "stderr",
     "output_type": "stream",
     "text": [
      "760batch [04:25,  2.98batch/s]"
     ]
    },
    {
     "name": "stdout",
     "output_type": "stream",
     "text": [
      "--------------------------------\n",
      "| batch_size        | 2048     |\n",
      "| bc/               |          |\n",
      "|    batch          | 759      |\n",
      "|    ent_loss       | -0.00129 |\n",
      "|    entropy        | 1.29     |\n",
      "|    epoch          | 76       |\n",
      "|    l2_loss        | 0        |\n",
      "|    l2_norm        | 1.92e+03 |\n",
      "|    loss           | 0.387    |\n",
      "|    neglogp        | 0.389    |\n",
      "|    prob_true_act  | 0.688    |\n",
      "|    samples_so_far | 1556480  |\n",
      "--------------------------------\n"
     ]
    },
    {
     "name": "stderr",
     "output_type": "stream",
     "text": [
      "770batch [04:29,  2.71batch/s]"
     ]
    },
    {
     "name": "stdout",
     "output_type": "stream",
     "text": [
      "--------------------------------\n",
      "| batch_size        | 2048     |\n",
      "| bc/               |          |\n",
      "|    batch          | 769      |\n",
      "|    ent_loss       | -0.00127 |\n",
      "|    entropy        | 1.27     |\n",
      "|    epoch          | 77       |\n",
      "|    l2_loss        | 0        |\n",
      "|    l2_norm        | 1.95e+03 |\n",
      "|    loss           | 0.367    |\n",
      "|    neglogp        | 0.369    |\n",
      "|    prob_true_act  | 0.703    |\n",
      "|    samples_so_far | 1576960  |\n",
      "--------------------------------\n"
     ]
    },
    {
     "name": "stderr",
     "output_type": "stream",
     "text": [
      "780batch [04:33,  2.98batch/s]"
     ]
    },
    {
     "name": "stdout",
     "output_type": "stream",
     "text": [
      "--------------------------------\n",
      "| batch_size        | 2048     |\n",
      "| bc/               |          |\n",
      "|    batch          | 779      |\n",
      "|    ent_loss       | -0.00125 |\n",
      "|    entropy        | 1.25     |\n",
      "|    epoch          | 78       |\n",
      "|    l2_loss        | 0        |\n",
      "|    l2_norm        | 1.97e+03 |\n",
      "|    loss           | 0.342    |\n",
      "|    neglogp        | 0.343    |\n",
      "|    prob_true_act  | 0.72     |\n",
      "|    samples_so_far | 1597440  |\n",
      "--------------------------------\n"
     ]
    },
    {
     "name": "stderr",
     "output_type": "stream",
     "text": [
      "790batch [04:36,  2.95batch/s]"
     ]
    },
    {
     "name": "stdout",
     "output_type": "stream",
     "text": [
      "--------------------------------\n",
      "| batch_size        | 2048     |\n",
      "| bc/               |          |\n",
      "|    batch          | 789      |\n",
      "|    ent_loss       | -0.00123 |\n",
      "|    entropy        | 1.23     |\n",
      "|    epoch          | 79       |\n",
      "|    l2_loss        | 0        |\n",
      "|    l2_norm        | 2e+03    |\n",
      "|    loss           | 0.374    |\n",
      "|    neglogp        | 0.375    |\n",
      "|    prob_true_act  | 0.697    |\n",
      "|    samples_so_far | 1617920  |\n",
      "--------------------------------\n"
     ]
    },
    {
     "name": "stderr",
     "output_type": "stream",
     "text": [
      "800batch [04:40,  2.94batch/s]"
     ]
    },
    {
     "name": "stdout",
     "output_type": "stream",
     "text": [
      "--------------------------------\n",
      "| batch_size        | 2048     |\n",
      "| bc/               |          |\n",
      "|    batch          | 799      |\n",
      "|    ent_loss       | -0.00121 |\n",
      "|    entropy        | 1.21     |\n",
      "|    epoch          | 80       |\n",
      "|    l2_loss        | 0        |\n",
      "|    l2_norm        | 2.02e+03 |\n",
      "|    loss           | 0.304    |\n",
      "|    neglogp        | 0.305    |\n",
      "|    prob_true_act  | 0.749    |\n",
      "|    samples_so_far | 1638400  |\n",
      "--------------------------------\n"
     ]
    },
    {
     "name": "stderr",
     "output_type": "stream",
     "text": [
      "810batch [04:43,  3.00batch/s]"
     ]
    },
    {
     "name": "stdout",
     "output_type": "stream",
     "text": [
      "--------------------------------\n",
      "| batch_size        | 2048     |\n",
      "| bc/               |          |\n",
      "|    batch          | 809      |\n",
      "|    ent_loss       | -0.00119 |\n",
      "|    entropy        | 1.19     |\n",
      "|    epoch          | 81       |\n",
      "|    l2_loss        | 0        |\n",
      "|    l2_norm        | 2.05e+03 |\n",
      "|    loss           | 0.281    |\n",
      "|    neglogp        | 0.282    |\n",
      "|    prob_true_act  | 0.766    |\n",
      "|    samples_so_far | 1658880  |\n",
      "--------------------------------\n"
     ]
    },
    {
     "name": "stderr",
     "output_type": "stream",
     "text": [
      "820batch [04:47,  2.98batch/s]"
     ]
    },
    {
     "name": "stdout",
     "output_type": "stream",
     "text": [
      "--------------------------------\n",
      "| batch_size        | 2048     |\n",
      "| bc/               |          |\n",
      "|    batch          | 819      |\n",
      "|    ent_loss       | -0.00117 |\n",
      "|    entropy        | 1.17     |\n",
      "|    epoch          | 82       |\n",
      "|    l2_loss        | 0        |\n",
      "|    l2_norm        | 2.07e+03 |\n",
      "|    loss           | 0.28     |\n",
      "|    neglogp        | 0.281    |\n",
      "|    prob_true_act  | 0.767    |\n",
      "|    samples_so_far | 1679360  |\n",
      "--------------------------------\n"
     ]
    },
    {
     "name": "stderr",
     "output_type": "stream",
     "text": [
      "830batch [04:50,  2.91batch/s]"
     ]
    },
    {
     "name": "stdout",
     "output_type": "stream",
     "text": [
      "--------------------------------\n",
      "| batch_size        | 2048     |\n",
      "| bc/               |          |\n",
      "|    batch          | 829      |\n",
      "|    ent_loss       | -0.00115 |\n",
      "|    entropy        | 1.15     |\n",
      "|    epoch          | 83       |\n",
      "|    l2_loss        | 0        |\n",
      "|    l2_norm        | 2.09e+03 |\n",
      "|    loss           | 0.243    |\n",
      "|    neglogp        | 0.244    |\n",
      "|    prob_true_act  | 0.794    |\n",
      "|    samples_so_far | 1699840  |\n",
      "--------------------------------\n"
     ]
    },
    {
     "name": "stderr",
     "output_type": "stream",
     "text": [
      "840batch [04:54,  2.95batch/s]"
     ]
    },
    {
     "name": "stdout",
     "output_type": "stream",
     "text": [
      "--------------------------------\n",
      "| batch_size        | 2048     |\n",
      "| bc/               |          |\n",
      "|    batch          | 839      |\n",
      "|    ent_loss       | -0.00113 |\n",
      "|    entropy        | 1.13     |\n",
      "|    epoch          | 84       |\n",
      "|    l2_loss        | 0        |\n",
      "|    l2_norm        | 2.12e+03 |\n",
      "|    loss           | 0.224    |\n",
      "|    neglogp        | 0.225    |\n",
      "|    prob_true_act  | 0.811    |\n",
      "|    samples_so_far | 1720320  |\n",
      "--------------------------------\n"
     ]
    },
    {
     "name": "stderr",
     "output_type": "stream",
     "text": [
      "850batch [04:57,  3.02batch/s]"
     ]
    },
    {
     "name": "stdout",
     "output_type": "stream",
     "text": [
      "--------------------------------\n",
      "| batch_size        | 2048     |\n",
      "| bc/               |          |\n",
      "|    batch          | 849      |\n",
      "|    ent_loss       | -0.00111 |\n",
      "|    entropy        | 1.11     |\n",
      "|    epoch          | 85       |\n",
      "|    l2_loss        | 0        |\n",
      "|    l2_norm        | 2.14e+03 |\n",
      "|    loss           | 0.203    |\n",
      "|    neglogp        | 0.204    |\n",
      "|    prob_true_act  | 0.825    |\n",
      "|    samples_so_far | 1740800  |\n",
      "--------------------------------\n"
     ]
    },
    {
     "name": "stderr",
     "output_type": "stream",
     "text": [
      "860batch [05:01,  2.98batch/s]"
     ]
    },
    {
     "name": "stdout",
     "output_type": "stream",
     "text": [
      "--------------------------------\n",
      "| batch_size        | 2048     |\n",
      "| bc/               |          |\n",
      "|    batch          | 859      |\n",
      "|    ent_loss       | -0.00109 |\n",
      "|    entropy        | 1.09     |\n",
      "|    epoch          | 86       |\n",
      "|    l2_loss        | 0        |\n",
      "|    l2_norm        | 2.16e+03 |\n",
      "|    loss           | 0.201    |\n",
      "|    neglogp        | 0.202    |\n",
      "|    prob_true_act  | 0.829    |\n",
      "|    samples_so_far | 1761280  |\n",
      "--------------------------------\n"
     ]
    },
    {
     "name": "stderr",
     "output_type": "stream",
     "text": [
      "870batch [05:05,  2.94batch/s]"
     ]
    },
    {
     "name": "stdout",
     "output_type": "stream",
     "text": [
      "--------------------------------\n",
      "| batch_size        | 2048     |\n",
      "| bc/               |          |\n",
      "|    batch          | 869      |\n",
      "|    ent_loss       | -0.00107 |\n",
      "|    entropy        | 1.07     |\n",
      "|    epoch          | 87       |\n",
      "|    l2_loss        | 0        |\n",
      "|    l2_norm        | 2.18e+03 |\n",
      "|    loss           | 0.187    |\n",
      "|    neglogp        | 0.188    |\n",
      "|    prob_true_act  | 0.841    |\n",
      "|    samples_so_far | 1781760  |\n",
      "--------------------------------\n"
     ]
    },
    {
     "name": "stderr",
     "output_type": "stream",
     "text": [
      "880batch [05:08,  2.60batch/s]"
     ]
    },
    {
     "name": "stdout",
     "output_type": "stream",
     "text": [
      "--------------------------------\n",
      "| batch_size        | 2048     |\n",
      "| bc/               |          |\n",
      "|    batch          | 879      |\n",
      "|    ent_loss       | -0.00105 |\n",
      "|    entropy        | 1.05     |\n",
      "|    epoch          | 88       |\n",
      "|    l2_loss        | 0        |\n",
      "|    l2_norm        | 2.2e+03  |\n",
      "|    loss           | 0.123    |\n",
      "|    neglogp        | 0.124    |\n",
      "|    prob_true_act  | 0.892    |\n",
      "|    samples_so_far | 1802240  |\n",
      "--------------------------------\n"
     ]
    },
    {
     "name": "stderr",
     "output_type": "stream",
     "text": [
      "890batch [05:12,  2.91batch/s]"
     ]
    },
    {
     "name": "stdout",
     "output_type": "stream",
     "text": [
      "--------------------------------\n",
      "| batch_size        | 2048     |\n",
      "| bc/               |          |\n",
      "|    batch          | 889      |\n",
      "|    ent_loss       | -0.00103 |\n",
      "|    entropy        | 1.03     |\n",
      "|    epoch          | 89       |\n",
      "|    l2_loss        | 0        |\n",
      "|    l2_norm        | 2.22e+03 |\n",
      "|    loss           | 0.113    |\n",
      "|    neglogp        | 0.114    |\n",
      "|    prob_true_act  | 0.904    |\n",
      "|    samples_so_far | 1822720  |\n",
      "--------------------------------\n"
     ]
    },
    {
     "name": "stderr",
     "output_type": "stream",
     "text": [
      "900batch [05:16,  2.97batch/s]"
     ]
    },
    {
     "name": "stdout",
     "output_type": "stream",
     "text": [
      "--------------------------------\n",
      "| batch_size        | 2048     |\n",
      "| bc/               |          |\n",
      "|    batch          | 899      |\n",
      "|    ent_loss       | -0.00101 |\n",
      "|    entropy        | 1.01     |\n",
      "|    epoch          | 90       |\n",
      "|    l2_loss        | 0        |\n",
      "|    l2_norm        | 2.24e+03 |\n",
      "|    loss           | 0.0892   |\n",
      "|    neglogp        | 0.0902   |\n",
      "|    prob_true_act  | 0.925    |\n",
      "|    samples_so_far | 1843200  |\n",
      "--------------------------------\n"
     ]
    },
    {
     "name": "stderr",
     "output_type": "stream",
     "text": [
      "910batch [05:19,  2.94batch/s]"
     ]
    },
    {
     "name": "stdout",
     "output_type": "stream",
     "text": [
      "---------------------------------\n",
      "| batch_size        | 2048      |\n",
      "| bc/               |           |\n",
      "|    batch          | 909       |\n",
      "|    ent_loss       | -0.000988 |\n",
      "|    entropy        | 0.988     |\n",
      "|    epoch          | 91        |\n",
      "|    l2_loss        | 0         |\n",
      "|    l2_norm        | 2.26e+03  |\n",
      "|    loss           | 0.1       |\n",
      "|    neglogp        | 0.101     |\n",
      "|    prob_true_act  | 0.918     |\n",
      "|    samples_so_far | 1863680   |\n",
      "---------------------------------\n"
     ]
    },
    {
     "name": "stderr",
     "output_type": "stream",
     "text": [
      "920batch [05:23,  2.97batch/s]"
     ]
    },
    {
     "name": "stdout",
     "output_type": "stream",
     "text": [
      "---------------------------------\n",
      "| batch_size        | 2048      |\n",
      "| bc/               |           |\n",
      "|    batch          | 919       |\n",
      "|    ent_loss       | -0.000968 |\n",
      "|    entropy        | 0.968     |\n",
      "|    epoch          | 92        |\n",
      "|    l2_loss        | 0         |\n",
      "|    l2_norm        | 2.28e+03  |\n",
      "|    loss           | 0.0706    |\n",
      "|    neglogp        | 0.0716    |\n",
      "|    prob_true_act  | 0.944     |\n",
      "|    samples_so_far | 1884160   |\n",
      "---------------------------------\n"
     ]
    },
    {
     "name": "stderr",
     "output_type": "stream",
     "text": [
      "930batch [05:26,  3.01batch/s]"
     ]
    },
    {
     "name": "stdout",
     "output_type": "stream",
     "text": [
      "---------------------------------\n",
      "| batch_size        | 2048      |\n",
      "| bc/               |           |\n",
      "|    batch          | 929       |\n",
      "|    ent_loss       | -0.000948 |\n",
      "|    entropy        | 0.948     |\n",
      "|    epoch          | 93        |\n",
      "|    l2_loss        | 0         |\n",
      "|    l2_norm        | 2.3e+03   |\n",
      "|    loss           | 0.0385    |\n",
      "|    neglogp        | 0.0395    |\n",
      "|    prob_true_act  | 0.975     |\n",
      "|    samples_so_far | 1904640   |\n",
      "---------------------------------\n"
     ]
    },
    {
     "name": "stderr",
     "output_type": "stream",
     "text": [
      "940batch [05:30,  2.99batch/s]"
     ]
    },
    {
     "name": "stdout",
     "output_type": "stream",
     "text": [
      "---------------------------------\n",
      "| batch_size        | 2048      |\n",
      "| bc/               |           |\n",
      "|    batch          | 939       |\n",
      "|    ent_loss       | -0.000928 |\n",
      "|    entropy        | 0.928     |\n",
      "|    epoch          | 94        |\n",
      "|    l2_loss        | 0         |\n",
      "|    l2_norm        | 2.32e+03  |\n",
      "|    loss           | 0.0156    |\n",
      "|    neglogp        | 0.0165    |\n",
      "|    prob_true_act  | 0.997     |\n",
      "|    samples_so_far | 1925120   |\n",
      "---------------------------------\n"
     ]
    },
    {
     "name": "stderr",
     "output_type": "stream",
     "text": [
      "950batch [05:33,  2.97batch/s]"
     ]
    },
    {
     "name": "stdout",
     "output_type": "stream",
     "text": [
      "---------------------------------\n",
      "| batch_size        | 2048      |\n",
      "| bc/               |           |\n",
      "|    batch          | 949       |\n",
      "|    ent_loss       | -0.000908 |\n",
      "|    entropy        | 0.908     |\n",
      "|    epoch          | 95        |\n",
      "|    l2_loss        | 0         |\n",
      "|    l2_norm        | 2.34e+03  |\n",
      "|    loss           | 0.00708   |\n",
      "|    neglogp        | 0.00799   |\n",
      "|    prob_true_act  | 1.01      |\n",
      "|    samples_so_far | 1945600   |\n",
      "---------------------------------\n"
     ]
    },
    {
     "name": "stderr",
     "output_type": "stream",
     "text": [
      "960batch [05:37,  3.01batch/s]"
     ]
    },
    {
     "name": "stdout",
     "output_type": "stream",
     "text": [
      "---------------------------------\n",
      "| batch_size        | 2048      |\n",
      "| bc/               |           |\n",
      "|    batch          | 959       |\n",
      "|    ent_loss       | -0.000887 |\n",
      "|    entropy        | 0.887     |\n",
      "|    epoch          | 96        |\n",
      "|    l2_loss        | 0         |\n",
      "|    l2_norm        | 2.36e+03  |\n",
      "|    loss           | -0.0323   |\n",
      "|    neglogp        | -0.0314   |\n",
      "|    prob_true_act  | 1.04      |\n",
      "|    samples_so_far | 1966080   |\n",
      "---------------------------------\n"
     ]
    },
    {
     "name": "stderr",
     "output_type": "stream",
     "text": [
      "970batch [05:40,  2.96batch/s]"
     ]
    },
    {
     "name": "stdout",
     "output_type": "stream",
     "text": [
      "---------------------------------\n",
      "| batch_size        | 2048      |\n",
      "| bc/               |           |\n",
      "|    batch          | 969       |\n",
      "|    ent_loss       | -0.000867 |\n",
      "|    entropy        | 0.867     |\n",
      "|    epoch          | 97        |\n",
      "|    l2_loss        | 0         |\n",
      "|    l2_norm        | 2.37e+03  |\n",
      "|    loss           | -0.0435   |\n",
      "|    neglogp        | -0.0426   |\n",
      "|    prob_true_act  | 1.06      |\n",
      "|    samples_so_far | 1986560   |\n",
      "---------------------------------\n"
     ]
    },
    {
     "name": "stderr",
     "output_type": "stream",
     "text": [
      "980batch [05:44,  2.99batch/s]"
     ]
    },
    {
     "name": "stdout",
     "output_type": "stream",
     "text": [
      "---------------------------------\n",
      "| batch_size        | 2048      |\n",
      "| bc/               |           |\n",
      "|    batch          | 979       |\n",
      "|    ent_loss       | -0.000846 |\n",
      "|    entropy        | 0.846     |\n",
      "|    epoch          | 98        |\n",
      "|    l2_loss        | 0         |\n",
      "|    l2_norm        | 2.39e+03  |\n",
      "|    loss           | -0.0785   |\n",
      "|    neglogp        | -0.0777   |\n",
      "|    prob_true_act  | 1.09      |\n",
      "|    samples_so_far | 2007040   |\n",
      "---------------------------------\n"
     ]
    },
    {
     "name": "stderr",
     "output_type": "stream",
     "text": [
      "990batch [05:47,  2.95batch/s]"
     ]
    },
    {
     "name": "stdout",
     "output_type": "stream",
     "text": [
      "---------------------------------\n",
      "| batch_size        | 2048      |\n",
      "| bc/               |           |\n",
      "|    batch          | 989       |\n",
      "|    ent_loss       | -0.000826 |\n",
      "|    entropy        | 0.826     |\n",
      "|    epoch          | 99        |\n",
      "|    l2_loss        | 0         |\n",
      "|    l2_norm        | 2.4e+03   |\n",
      "|    loss           | -0.103    |\n",
      "|    neglogp        | -0.103    |\n",
      "|    prob_true_act  | 1.12      |\n",
      "|    samples_so_far | 2027520   |\n",
      "---------------------------------\n"
     ]
    },
    {
     "name": "stderr",
     "output_type": "stream",
     "text": [
      "1000batch [05:51,  2.97batch/s]"
     ]
    },
    {
     "name": "stdout",
     "output_type": "stream",
     "text": [
      "---------------------------------\n",
      "| batch_size        | 2048      |\n",
      "| bc/               |           |\n",
      "|    batch          | 999       |\n",
      "|    ent_loss       | -0.000805 |\n",
      "|    entropy        | 0.805     |\n",
      "|    epoch          | 100       |\n",
      "|    l2_loss        | 0         |\n",
      "|    l2_norm        | 2.42e+03  |\n",
      "|    loss           | -0.0662   |\n",
      "|    neglogp        | -0.0654   |\n",
      "|    prob_true_act  | 1.09      |\n",
      "|    samples_so_far | 2048000   |\n",
      "---------------------------------\n"
     ]
    },
    {
     "name": "stderr",
     "output_type": "stream",
     "text": [
      "1010batch [05:54,  3.02batch/s]"
     ]
    },
    {
     "name": "stdout",
     "output_type": "stream",
     "text": [
      "---------------------------------\n",
      "| batch_size        | 2048      |\n",
      "| bc/               |           |\n",
      "|    batch          | 1009      |\n",
      "|    ent_loss       | -0.000785 |\n",
      "|    entropy        | 0.785     |\n",
      "|    epoch          | 101       |\n",
      "|    l2_loss        | 0         |\n",
      "|    l2_norm        | 2.44e+03  |\n",
      "|    loss           | -0.107    |\n",
      "|    neglogp        | -0.106    |\n",
      "|    prob_true_act  | 1.13      |\n",
      "|    samples_so_far | 2068480   |\n",
      "---------------------------------\n"
     ]
    },
    {
     "name": "stderr",
     "output_type": "stream",
     "text": [
      "1020batch [05:59,  2.78batch/s]"
     ]
    },
    {
     "name": "stdout",
     "output_type": "stream",
     "text": [
      "---------------------------------\n",
      "| batch_size        | 2048      |\n",
      "| bc/               |           |\n",
      "|    batch          | 1019      |\n",
      "|    ent_loss       | -0.000765 |\n",
      "|    entropy        | 0.765     |\n",
      "|    epoch          | 102       |\n",
      "|    l2_loss        | 0         |\n",
      "|    l2_norm        | 2.45e+03  |\n",
      "|    loss           | -0.163    |\n",
      "|    neglogp        | -0.162    |\n",
      "|    prob_true_act  | 1.19      |\n",
      "|    samples_so_far | 2088960   |\n",
      "---------------------------------\n"
     ]
    },
    {
     "name": "stderr",
     "output_type": "stream",
     "text": [
      "1030batch [06:03,  2.45batch/s]"
     ]
    },
    {
     "name": "stdout",
     "output_type": "stream",
     "text": [
      "---------------------------------\n",
      "| batch_size        | 2048      |\n",
      "| bc/               |           |\n",
      "|    batch          | 1029      |\n",
      "|    ent_loss       | -0.000744 |\n",
      "|    entropy        | 0.744     |\n",
      "|    epoch          | 103       |\n",
      "|    l2_loss        | 0         |\n",
      "|    l2_norm        | 2.47e+03  |\n",
      "|    loss           | -0.178    |\n",
      "|    neglogp        | -0.178    |\n",
      "|    prob_true_act  | 1.21      |\n",
      "|    samples_so_far | 2109440   |\n",
      "---------------------------------\n"
     ]
    },
    {
     "name": "stderr",
     "output_type": "stream",
     "text": [
      "1040batch [06:06,  2.94batch/s]"
     ]
    },
    {
     "name": "stdout",
     "output_type": "stream",
     "text": [
      "---------------------------------\n",
      "| batch_size        | 2048      |\n",
      "| bc/               |           |\n",
      "|    batch          | 1039      |\n",
      "|    ent_loss       | -0.000724 |\n",
      "|    entropy        | 0.724     |\n",
      "|    epoch          | 104       |\n",
      "|    l2_loss        | 0         |\n",
      "|    l2_norm        | 2.49e+03  |\n",
      "|    loss           | -0.194    |\n",
      "|    neglogp        | -0.193    |\n",
      "|    prob_true_act  | 1.23      |\n",
      "|    samples_so_far | 2129920   |\n",
      "---------------------------------\n"
     ]
    },
    {
     "name": "stderr",
     "output_type": "stream",
     "text": [
      "1050batch [06:10,  2.99batch/s]"
     ]
    },
    {
     "name": "stdout",
     "output_type": "stream",
     "text": [
      "---------------------------------\n",
      "| batch_size        | 2048      |\n",
      "| bc/               |           |\n",
      "|    batch          | 1049      |\n",
      "|    ent_loss       | -0.000704 |\n",
      "|    entropy        | 0.704     |\n",
      "|    epoch          | 105       |\n",
      "|    l2_loss        | 0         |\n",
      "|    l2_norm        | 2.5e+03   |\n",
      "|    loss           | -0.139    |\n",
      "|    neglogp        | -0.138    |\n",
      "|    prob_true_act  | 1.17      |\n",
      "|    samples_so_far | 2150400   |\n",
      "---------------------------------\n"
     ]
    },
    {
     "name": "stderr",
     "output_type": "stream",
     "text": [
      "1060batch [06:13,  3.02batch/s]"
     ]
    },
    {
     "name": "stdout",
     "output_type": "stream",
     "text": [
      "---------------------------------\n",
      "| batch_size        | 2048      |\n",
      "| bc/               |           |\n",
      "|    batch          | 1059      |\n",
      "|    ent_loss       | -0.000683 |\n",
      "|    entropy        | 0.683     |\n",
      "|    epoch          | 106       |\n",
      "|    l2_loss        | 0         |\n",
      "|    l2_norm        | 2.52e+03  |\n",
      "|    loss           | -0.231    |\n",
      "|    neglogp        | -0.231    |\n",
      "|    prob_true_act  | 1.27      |\n",
      "|    samples_so_far | 2170880   |\n",
      "---------------------------------\n"
     ]
    },
    {
     "name": "stderr",
     "output_type": "stream",
     "text": [
      "1070batch [06:18,  1.81batch/s]"
     ]
    },
    {
     "name": "stdout",
     "output_type": "stream",
     "text": [
      "---------------------------------\n",
      "| batch_size        | 2048      |\n",
      "| bc/               |           |\n",
      "|    batch          | 1069      |\n",
      "|    ent_loss       | -0.000663 |\n",
      "|    entropy        | 0.663     |\n",
      "|    epoch          | 107       |\n",
      "|    l2_loss        | 0         |\n",
      "|    l2_norm        | 2.53e+03  |\n",
      "|    loss           | -0.261    |\n",
      "|    neglogp        | -0.261    |\n",
      "|    prob_true_act  | 1.31      |\n",
      "|    samples_so_far | 2191360   |\n",
      "---------------------------------\n"
     ]
    },
    {
     "name": "stderr",
     "output_type": "stream",
     "text": [
      "1080batch [06:21,  2.92batch/s]"
     ]
    },
    {
     "name": "stdout",
     "output_type": "stream",
     "text": [
      "---------------------------------\n",
      "| batch_size        | 2048      |\n",
      "| bc/               |           |\n",
      "|    batch          | 1079      |\n",
      "|    ent_loss       | -0.000642 |\n",
      "|    entropy        | 0.642     |\n",
      "|    epoch          | 108       |\n",
      "|    l2_loss        | 0         |\n",
      "|    l2_norm        | 2.55e+03  |\n",
      "|    loss           | -0.293    |\n",
      "|    neglogp        | -0.292    |\n",
      "|    prob_true_act  | 1.35      |\n",
      "|    samples_so_far | 2211840   |\n",
      "---------------------------------\n"
     ]
    },
    {
     "name": "stderr",
     "output_type": "stream",
     "text": [
      "1090batch [06:25,  3.01batch/s]"
     ]
    },
    {
     "name": "stdout",
     "output_type": "stream",
     "text": [
      "---------------------------------\n",
      "| batch_size        | 2048      |\n",
      "| bc/               |           |\n",
      "|    batch          | 1089      |\n",
      "|    ent_loss       | -0.000622 |\n",
      "|    entropy        | 0.622     |\n",
      "|    epoch          | 109       |\n",
      "|    l2_loss        | 0         |\n",
      "|    l2_norm        | 2.56e+03  |\n",
      "|    loss           | -0.31     |\n",
      "|    neglogp        | -0.309    |\n",
      "|    prob_true_act  | 1.38      |\n",
      "|    samples_so_far | 2232320   |\n",
      "---------------------------------\n"
     ]
    },
    {
     "name": "stderr",
     "output_type": "stream",
     "text": [
      "1100batch [06:28,  2.85batch/s]"
     ]
    },
    {
     "name": "stdout",
     "output_type": "stream",
     "text": [
      "---------------------------------\n",
      "| batch_size        | 2048      |\n",
      "| bc/               |           |\n",
      "|    batch          | 1099      |\n",
      "|    ent_loss       | -0.000601 |\n",
      "|    entropy        | 0.601     |\n",
      "|    epoch          | 110       |\n",
      "|    l2_loss        | 0         |\n",
      "|    l2_norm        | 2.58e+03  |\n",
      "|    loss           | -0.274    |\n",
      "|    neglogp        | -0.274    |\n",
      "|    prob_true_act  | 1.34      |\n",
      "|    samples_so_far | 2252800   |\n",
      "---------------------------------\n"
     ]
    },
    {
     "name": "stderr",
     "output_type": "stream",
     "text": [
      "1110batch [06:32,  2.97batch/s]"
     ]
    },
    {
     "name": "stdout",
     "output_type": "stream",
     "text": [
      "---------------------------------\n",
      "| batch_size        | 2048      |\n",
      "| bc/               |           |\n",
      "|    batch          | 1109      |\n",
      "|    ent_loss       | -0.000581 |\n",
      "|    entropy        | 0.581     |\n",
      "|    epoch          | 111       |\n",
      "|    l2_loss        | 0         |\n",
      "|    l2_norm        | 2.59e+03  |\n",
      "|    loss           | -0.32     |\n",
      "|    neglogp        | -0.319    |\n",
      "|    prob_true_act  | 1.39      |\n",
      "|    samples_so_far | 2273280   |\n",
      "---------------------------------\n"
     ]
    },
    {
     "name": "stderr",
     "output_type": "stream",
     "text": [
      "1120batch [06:36,  2.64batch/s]"
     ]
    },
    {
     "name": "stdout",
     "output_type": "stream",
     "text": [
      "---------------------------------\n",
      "| batch_size        | 2048      |\n",
      "| bc/               |           |\n",
      "|    batch          | 1119      |\n",
      "|    ent_loss       | -0.000561 |\n",
      "|    entropy        | 0.561     |\n",
      "|    epoch          | 112       |\n",
      "|    l2_loss        | 0         |\n",
      "|    l2_norm        | 2.61e+03  |\n",
      "|    loss           | -0.362    |\n",
      "|    neglogp        | -0.361    |\n",
      "|    prob_true_act  | 1.45      |\n",
      "|    samples_so_far | 2293760   |\n",
      "---------------------------------\n"
     ]
    },
    {
     "name": "stderr",
     "output_type": "stream",
     "text": [
      "1130batch [06:39,  2.89batch/s]"
     ]
    },
    {
     "name": "stdout",
     "output_type": "stream",
     "text": [
      "--------------------------------\n",
      "| batch_size        | 2048     |\n",
      "| bc/               |          |\n",
      "|    batch          | 1129     |\n",
      "|    ent_loss       | -0.00054 |\n",
      "|    entropy        | 0.54     |\n",
      "|    epoch          | 113      |\n",
      "|    l2_loss        | 0        |\n",
      "|    l2_norm        | 2.62e+03 |\n",
      "|    loss           | -0.355   |\n",
      "|    neglogp        | -0.354   |\n",
      "|    prob_true_act  | 1.44     |\n",
      "|    samples_so_far | 2314240  |\n",
      "--------------------------------\n"
     ]
    },
    {
     "name": "stderr",
     "output_type": "stream",
     "text": [
      "1140batch [06:43,  2.97batch/s]"
     ]
    },
    {
     "name": "stdout",
     "output_type": "stream",
     "text": [
      "--------------------------------\n",
      "| batch_size        | 2048     |\n",
      "| bc/               |          |\n",
      "|    batch          | 1139     |\n",
      "|    ent_loss       | -0.00052 |\n",
      "|    entropy        | 0.52     |\n",
      "|    epoch          | 114      |\n",
      "|    l2_loss        | 0        |\n",
      "|    l2_norm        | 2.64e+03 |\n",
      "|    loss           | -0.41    |\n",
      "|    neglogp        | -0.41    |\n",
      "|    prob_true_act  | 1.52     |\n",
      "|    samples_so_far | 2334720  |\n",
      "--------------------------------\n"
     ]
    },
    {
     "name": "stderr",
     "output_type": "stream",
     "text": [
      "1150batch [06:46,  3.00batch/s]"
     ]
    },
    {
     "name": "stdout",
     "output_type": "stream",
     "text": [
      "--------------------------------\n",
      "| batch_size        | 2048     |\n",
      "| bc/               |          |\n",
      "|    batch          | 1149     |\n",
      "|    ent_loss       | -0.0005  |\n",
      "|    entropy        | 0.5      |\n",
      "|    epoch          | 115      |\n",
      "|    l2_loss        | 0        |\n",
      "|    l2_norm        | 2.65e+03 |\n",
      "|    loss           | -0.426   |\n",
      "|    neglogp        | -0.425   |\n",
      "|    prob_true_act  | 1.54     |\n",
      "|    samples_so_far | 2355200  |\n",
      "--------------------------------\n"
     ]
    },
    {
     "name": "stderr",
     "output_type": "stream",
     "text": [
      "1160batch [06:50,  2.98batch/s]"
     ]
    },
    {
     "name": "stdout",
     "output_type": "stream",
     "text": [
      "---------------------------------\n",
      "| batch_size        | 2048      |\n",
      "| bc/               |           |\n",
      "|    batch          | 1159      |\n",
      "|    ent_loss       | -0.000479 |\n",
      "|    entropy        | 0.479     |\n",
      "|    epoch          | 116       |\n",
      "|    l2_loss        | 0         |\n",
      "|    l2_norm        | 2.66e+03  |\n",
      "|    loss           | -0.452    |\n",
      "|    neglogp        | -0.451    |\n",
      "|    prob_true_act  | 1.58      |\n",
      "|    samples_so_far | 2375680   |\n",
      "---------------------------------\n"
     ]
    },
    {
     "name": "stderr",
     "output_type": "stream",
     "text": [
      "1170batch [06:53,  2.91batch/s]"
     ]
    },
    {
     "name": "stdout",
     "output_type": "stream",
     "text": [
      "---------------------------------\n",
      "| batch_size        | 2048      |\n",
      "| bc/               |           |\n",
      "|    batch          | 1169      |\n",
      "|    ent_loss       | -0.000458 |\n",
      "|    entropy        | 0.458     |\n",
      "|    epoch          | 117       |\n",
      "|    l2_loss        | 0         |\n",
      "|    l2_norm        | 2.68e+03  |\n",
      "|    loss           | -0.478    |\n",
      "|    neglogp        | -0.478    |\n",
      "|    prob_true_act  | 1.63      |\n",
      "|    samples_so_far | 2396160   |\n",
      "---------------------------------\n"
     ]
    },
    {
     "name": "stderr",
     "output_type": "stream",
     "text": [
      "1180batch [06:57,  2.97batch/s]"
     ]
    },
    {
     "name": "stdout",
     "output_type": "stream",
     "text": [
      "---------------------------------\n",
      "| batch_size        | 2048      |\n",
      "| bc/               |           |\n",
      "|    batch          | 1179      |\n",
      "|    ent_loss       | -0.000438 |\n",
      "|    entropy        | 0.438     |\n",
      "|    epoch          | 118       |\n",
      "|    l2_loss        | 0         |\n",
      "|    l2_norm        | 2.69e+03  |\n",
      "|    loss           | -0.504    |\n",
      "|    neglogp        | -0.504    |\n",
      "|    prob_true_act  | 1.67      |\n",
      "|    samples_so_far | 2416640   |\n",
      "---------------------------------\n"
     ]
    },
    {
     "name": "stderr",
     "output_type": "stream",
     "text": [
      "1190batch [07:01,  2.66batch/s]"
     ]
    },
    {
     "name": "stdout",
     "output_type": "stream",
     "text": [
      "---------------------------------\n",
      "| batch_size        | 2048      |\n",
      "| bc/               |           |\n",
      "|    batch          | 1189      |\n",
      "|    ent_loss       | -0.000417 |\n",
      "|    entropy        | 0.417     |\n",
      "|    epoch          | 119       |\n",
      "|    l2_loss        | 0         |\n",
      "|    l2_norm        | 2.7e+03   |\n",
      "|    loss           | -0.514    |\n",
      "|    neglogp        | -0.514    |\n",
      "|    prob_true_act  | 1.69      |\n",
      "|    samples_so_far | 2437120   |\n",
      "---------------------------------\n"
     ]
    },
    {
     "name": "stderr",
     "output_type": "stream",
     "text": [
      "1200batch [07:04,  3.00batch/s]"
     ]
    },
    {
     "name": "stdout",
     "output_type": "stream",
     "text": [
      "---------------------------------\n",
      "| batch_size        | 2048      |\n",
      "| bc/               |           |\n",
      "|    batch          | 1199      |\n",
      "|    ent_loss       | -0.000397 |\n",
      "|    entropy        | 0.397     |\n",
      "|    epoch          | 120       |\n",
      "|    l2_loss        | 0         |\n",
      "|    l2_norm        | 2.71e+03  |\n",
      "|    loss           | -0.541    |\n",
      "|    neglogp        | -0.541    |\n",
      "|    prob_true_act  | 1.73      |\n",
      "|    samples_so_far | 2457600   |\n",
      "---------------------------------\n"
     ]
    },
    {
     "name": "stderr",
     "output_type": "stream",
     "text": [
      "1210batch [07:08,  2.87batch/s]"
     ]
    },
    {
     "name": "stdout",
     "output_type": "stream",
     "text": [
      "---------------------------------\n",
      "| batch_size        | 2048      |\n",
      "| bc/               |           |\n",
      "|    batch          | 1209      |\n",
      "|    ent_loss       | -0.000376 |\n",
      "|    entropy        | 0.376     |\n",
      "|    epoch          | 121       |\n",
      "|    l2_loss        | 0         |\n",
      "|    l2_norm        | 2.73e+03  |\n",
      "|    loss           | -0.574    |\n",
      "|    neglogp        | -0.573    |\n",
      "|    prob_true_act  | 1.78      |\n",
      "|    samples_so_far | 2478080   |\n",
      "---------------------------------\n"
     ]
    },
    {
     "name": "stderr",
     "output_type": "stream",
     "text": [
      "1220batch [07:11,  3.01batch/s]"
     ]
    },
    {
     "name": "stdout",
     "output_type": "stream",
     "text": [
      "---------------------------------\n",
      "| batch_size        | 2048      |\n",
      "| bc/               |           |\n",
      "|    batch          | 1219      |\n",
      "|    ent_loss       | -0.000355 |\n",
      "|    entropy        | 0.355     |\n",
      "|    epoch          | 122       |\n",
      "|    l2_loss        | 0         |\n",
      "|    l2_norm        | 2.74e+03  |\n",
      "|    loss           | -0.498    |\n",
      "|    neglogp        | -0.498    |\n",
      "|    prob_true_act  | 1.66      |\n",
      "|    samples_so_far | 2498560   |\n",
      "---------------------------------\n"
     ]
    },
    {
     "name": "stderr",
     "output_type": "stream",
     "text": [
      "1230batch [07:15,  2.93batch/s]"
     ]
    },
    {
     "name": "stdout",
     "output_type": "stream",
     "text": [
      "---------------------------------\n",
      "| batch_size        | 2048      |\n",
      "| bc/               |           |\n",
      "|    batch          | 1229      |\n",
      "|    ent_loss       | -0.000335 |\n",
      "|    entropy        | 0.335     |\n",
      "|    epoch          | 123       |\n",
      "|    l2_loss        | 0         |\n",
      "|    l2_norm        | 2.75e+03  |\n",
      "|    loss           | -0.56     |\n",
      "|    neglogp        | -0.559    |\n",
      "|    prob_true_act  | 1.77      |\n",
      "|    samples_so_far | 2519040   |\n",
      "---------------------------------\n"
     ]
    },
    {
     "name": "stderr",
     "output_type": "stream",
     "text": [
      "1240batch [07:18,  3.00batch/s]"
     ]
    },
    {
     "name": "stdout",
     "output_type": "stream",
     "text": [
      "---------------------------------\n",
      "| batch_size        | 2048      |\n",
      "| bc/               |           |\n",
      "|    batch          | 1239      |\n",
      "|    ent_loss       | -0.000315 |\n",
      "|    entropy        | 0.315     |\n",
      "|    epoch          | 124       |\n",
      "|    l2_loss        | 0         |\n",
      "|    l2_norm        | 2.77e+03  |\n",
      "|    loss           | -0.612    |\n",
      "|    neglogp        | -0.612    |\n",
      "|    prob_true_act  | 1.86      |\n",
      "|    samples_so_far | 2539520   |\n",
      "---------------------------------\n"
     ]
    },
    {
     "name": "stderr",
     "output_type": "stream",
     "text": [
      "1250batch [07:22,  2.62batch/s]"
     ]
    },
    {
     "name": "stdout",
     "output_type": "stream",
     "text": [
      "---------------------------------\n",
      "| batch_size        | 2048      |\n",
      "| bc/               |           |\n",
      "|    batch          | 1249      |\n",
      "|    ent_loss       | -0.000294 |\n",
      "|    entropy        | 0.294     |\n",
      "|    epoch          | 125       |\n",
      "|    l2_loss        | 0         |\n",
      "|    l2_norm        | 2.79e+03  |\n",
      "|    loss           | -0.639    |\n",
      "|    neglogp        | -0.639    |\n",
      "|    prob_true_act  | 1.91      |\n",
      "|    samples_so_far | 2560000   |\n",
      "---------------------------------\n"
     ]
    },
    {
     "name": "stderr",
     "output_type": "stream",
     "text": [
      "1260batch [07:26,  2.96batch/s]"
     ]
    },
    {
     "name": "stdout",
     "output_type": "stream",
     "text": [
      "---------------------------------\n",
      "| batch_size        | 2048      |\n",
      "| bc/               |           |\n",
      "|    batch          | 1259      |\n",
      "|    ent_loss       | -0.000274 |\n",
      "|    entropy        | 0.274     |\n",
      "|    epoch          | 126       |\n",
      "|    l2_loss        | 0         |\n",
      "|    l2_norm        | 2.81e+03  |\n",
      "|    loss           | -0.67     |\n",
      "|    neglogp        | -0.67     |\n",
      "|    prob_true_act  | 1.96      |\n",
      "|    samples_so_far | 2580480   |\n",
      "---------------------------------\n"
     ]
    },
    {
     "name": "stderr",
     "output_type": "stream",
     "text": [
      "1270batch [07:30,  3.00batch/s]"
     ]
    },
    {
     "name": "stdout",
     "output_type": "stream",
     "text": [
      "---------------------------------\n",
      "| batch_size        | 2048      |\n",
      "| bc/               |           |\n",
      "|    batch          | 1269      |\n",
      "|    ent_loss       | -0.000253 |\n",
      "|    entropy        | 0.253     |\n",
      "|    epoch          | 127       |\n",
      "|    l2_loss        | 0         |\n",
      "|    l2_norm        | 2.82e+03  |\n",
      "|    loss           | -0.637    |\n",
      "|    neglogp        | -0.637    |\n",
      "|    prob_true_act  | 1.91      |\n",
      "|    samples_so_far | 2600960   |\n",
      "---------------------------------\n"
     ]
    },
    {
     "name": "stderr",
     "output_type": "stream",
     "text": [
      "1280batch [07:33,  2.88batch/s]"
     ]
    },
    {
     "name": "stdout",
     "output_type": "stream",
     "text": [
      "---------------------------------\n",
      "| batch_size        | 2048      |\n",
      "| bc/               |           |\n",
      "|    batch          | 1279      |\n",
      "|    ent_loss       | -0.000233 |\n",
      "|    entropy        | 0.233     |\n",
      "|    epoch          | 128       |\n",
      "|    l2_loss        | 0         |\n",
      "|    l2_norm        | 2.83e+03  |\n",
      "|    loss           | -0.683    |\n",
      "|    neglogp        | -0.683    |\n",
      "|    prob_true_act  | 2         |\n",
      "|    samples_so_far | 2621440   |\n",
      "---------------------------------\n"
     ]
    },
    {
     "name": "stderr",
     "output_type": "stream",
     "text": [
      "1290batch [07:37,  3.02batch/s]"
     ]
    },
    {
     "name": "stdout",
     "output_type": "stream",
     "text": [
      "---------------------------------\n",
      "| batch_size        | 2048      |\n",
      "| bc/               |           |\n",
      "|    batch          | 1289      |\n",
      "|    ent_loss       | -0.000213 |\n",
      "|    entropy        | 0.213     |\n",
      "|    epoch          | 129       |\n",
      "|    l2_loss        | 0         |\n",
      "|    l2_norm        | 2.85e+03  |\n",
      "|    loss           | -0.721    |\n",
      "|    neglogp        | -0.72     |\n",
      "|    prob_true_act  | 2.07      |\n",
      "|    samples_so_far | 2641920   |\n",
      "---------------------------------\n"
     ]
    },
    {
     "name": "stderr",
     "output_type": "stream",
     "text": [
      "1300batch [07:40,  2.94batch/s]"
     ]
    },
    {
     "name": "stdout",
     "output_type": "stream",
     "text": [
      "---------------------------------\n",
      "| batch_size        | 2048      |\n",
      "| bc/               |           |\n",
      "|    batch          | 1299      |\n",
      "|    ent_loss       | -0.000192 |\n",
      "|    entropy        | 0.192     |\n",
      "|    epoch          | 130       |\n",
      "|    l2_loss        | 0         |\n",
      "|    l2_norm        | 2.86e+03  |\n",
      "|    loss           | -0.743    |\n",
      "|    neglogp        | -0.743    |\n",
      "|    prob_true_act  | 2.11      |\n",
      "|    samples_so_far | 2662400   |\n",
      "---------------------------------\n"
     ]
    },
    {
     "name": "stderr",
     "output_type": "stream",
     "text": [
      "1310batch [07:44,  2.98batch/s]"
     ]
    },
    {
     "name": "stdout",
     "output_type": "stream",
     "text": [
      "---------------------------------\n",
      "| batch_size        | 2048      |\n",
      "| bc/               |           |\n",
      "|    batch          | 1309      |\n",
      "|    ent_loss       | -0.000172 |\n",
      "|    entropy        | 0.172     |\n",
      "|    epoch          | 131       |\n",
      "|    l2_loss        | 0         |\n",
      "|    l2_norm        | 2.87e+03  |\n",
      "|    loss           | -0.736    |\n",
      "|    neglogp        | -0.736    |\n",
      "|    prob_true_act  | 2.1       |\n",
      "|    samples_so_far | 2682880   |\n",
      "---------------------------------\n"
     ]
    },
    {
     "name": "stderr",
     "output_type": "stream",
     "text": [
      "1320batch [07:47,  3.01batch/s]"
     ]
    },
    {
     "name": "stdout",
     "output_type": "stream",
     "text": [
      "---------------------------------\n",
      "| batch_size        | 2048      |\n",
      "| bc/               |           |\n",
      "|    batch          | 1319      |\n",
      "|    ent_loss       | -0.000152 |\n",
      "|    entropy        | 0.152     |\n",
      "|    epoch          | 132       |\n",
      "|    l2_loss        | 0         |\n",
      "|    l2_norm        | 2.89e+03  |\n",
      "|    loss           | -0.771    |\n",
      "|    neglogp        | -0.771    |\n",
      "|    prob_true_act  | 2.18      |\n",
      "|    samples_so_far | 2703360   |\n",
      "---------------------------------\n"
     ]
    },
    {
     "name": "stderr",
     "output_type": "stream",
     "text": [
      "1330batch [07:51,  2.96batch/s]"
     ]
    },
    {
     "name": "stdout",
     "output_type": "stream",
     "text": [
      "---------------------------------\n",
      "| batch_size        | 2048      |\n",
      "| bc/               |           |\n",
      "|    batch          | 1329      |\n",
      "|    ent_loss       | -0.000131 |\n",
      "|    entropy        | 0.131     |\n",
      "|    epoch          | 133       |\n",
      "|    l2_loss        | 0         |\n",
      "|    l2_norm        | 2.9e+03   |\n",
      "|    loss           | -0.802    |\n",
      "|    neglogp        | -0.802    |\n",
      "|    prob_true_act  | 2.24      |\n",
      "|    samples_so_far | 2723840   |\n",
      "---------------------------------\n"
     ]
    },
    {
     "name": "stderr",
     "output_type": "stream",
     "text": [
      "1340batch [07:54,  2.95batch/s]"
     ]
    },
    {
     "name": "stdout",
     "output_type": "stream",
     "text": [
      "---------------------------------\n",
      "| batch_size        | 2048      |\n",
      "| bc/               |           |\n",
      "|    batch          | 1339      |\n",
      "|    ent_loss       | -0.000111 |\n",
      "|    entropy        | 0.111     |\n",
      "|    epoch          | 134       |\n",
      "|    l2_loss        | 0         |\n",
      "|    l2_norm        | 2.91e+03  |\n",
      "|    loss           | -0.823    |\n",
      "|    neglogp        | -0.823    |\n",
      "|    prob_true_act  | 2.3       |\n",
      "|    samples_so_far | 2744320   |\n",
      "---------------------------------\n"
     ]
    },
    {
     "name": "stderr",
     "output_type": "stream",
     "text": [
      "1350batch [07:58,  2.98batch/s]"
     ]
    },
    {
     "name": "stdout",
     "output_type": "stream",
     "text": [
      "---------------------------------\n",
      "| batch_size        | 2048      |\n",
      "| bc/               |           |\n",
      "|    batch          | 1349      |\n",
      "|    ent_loss       | -9.03e-05 |\n",
      "|    entropy        | 0.0903    |\n",
      "|    epoch          | 135       |\n",
      "|    l2_loss        | 0         |\n",
      "|    l2_norm        | 2.92e+03  |\n",
      "|    loss           | -0.859    |\n",
      "|    neglogp        | -0.859    |\n",
      "|    prob_true_act  | 2.38      |\n",
      "|    samples_so_far | 2764800   |\n",
      "---------------------------------\n"
     ]
    },
    {
     "name": "stderr",
     "output_type": "stream",
     "text": [
      "1360batch [08:02,  2.89batch/s]"
     ]
    },
    {
     "name": "stdout",
     "output_type": "stream",
     "text": [
      "---------------------------------\n",
      "| batch_size        | 2048      |\n",
      "| bc/               |           |\n",
      "|    batch          | 1359      |\n",
      "|    ent_loss       | -6.94e-05 |\n",
      "|    entropy        | 0.0694    |\n",
      "|    epoch          | 136       |\n",
      "|    l2_loss        | 0         |\n",
      "|    l2_norm        | 2.93e+03  |\n",
      "|    loss           | -0.832    |\n",
      "|    neglogp        | -0.832    |\n",
      "|    prob_true_act  | 2.33      |\n",
      "|    samples_so_far | 2785280   |\n",
      "---------------------------------\n"
     ]
    },
    {
     "name": "stderr",
     "output_type": "stream",
     "text": [
      "1370batch [08:05,  2.99batch/s]"
     ]
    },
    {
     "name": "stdout",
     "output_type": "stream",
     "text": [
      "---------------------------------\n",
      "| batch_size        | 2048      |\n",
      "| bc/               |           |\n",
      "|    batch          | 1369      |\n",
      "|    ent_loss       | -4.91e-05 |\n",
      "|    entropy        | 0.0491    |\n",
      "|    epoch          | 137       |\n",
      "|    l2_loss        | 0         |\n",
      "|    l2_norm        | 2.94e+03  |\n",
      "|    loss           | -0.891    |\n",
      "|    neglogp        | -0.891    |\n",
      "|    prob_true_act  | 2.45      |\n",
      "|    samples_so_far | 2805760   |\n",
      "---------------------------------\n"
     ]
    },
    {
     "name": "stderr",
     "output_type": "stream",
     "text": [
      "1380batch [08:09,  2.93batch/s]"
     ]
    },
    {
     "name": "stdout",
     "output_type": "stream",
     "text": [
      "---------------------------------\n",
      "| batch_size        | 2048      |\n",
      "| bc/               |           |\n",
      "|    batch          | 1379      |\n",
      "|    ent_loss       | -2.88e-05 |\n",
      "|    entropy        | 0.0288    |\n",
      "|    epoch          | 138       |\n",
      "|    l2_loss        | 0         |\n",
      "|    l2_norm        | 2.95e+03  |\n",
      "|    loss           | -0.883    |\n",
      "|    neglogp        | -0.883    |\n",
      "|    prob_true_act  | 2.44      |\n",
      "|    samples_so_far | 2826240   |\n",
      "---------------------------------\n"
     ]
    },
    {
     "name": "stderr",
     "output_type": "stream",
     "text": [
      "1390batch [08:12,  2.98batch/s]"
     ]
    },
    {
     "name": "stdout",
     "output_type": "stream",
     "text": [
      "---------------------------------\n",
      "| batch_size        | 2048      |\n",
      "| bc/               |           |\n",
      "|    batch          | 1389      |\n",
      "|    ent_loss       | -8.35e-06 |\n",
      "|    entropy        | 0.00835   |\n",
      "|    epoch          | 139       |\n",
      "|    l2_loss        | 0         |\n",
      "|    l2_norm        | 2.96e+03  |\n",
      "|    loss           | -0.909    |\n",
      "|    neglogp        | -0.909    |\n",
      "|    prob_true_act  | 2.5       |\n",
      "|    samples_so_far | 2846720   |\n",
      "---------------------------------\n"
     ]
    },
    {
     "name": "stderr",
     "output_type": "stream",
     "text": [
      "1400batch [08:16,  3.03batch/s]"
     ]
    },
    {
     "name": "stdout",
     "output_type": "stream",
     "text": [
      "--------------------------------\n",
      "| batch_size        | 2048     |\n",
      "| bc/               |          |\n",
      "|    batch          | 1399     |\n",
      "|    ent_loss       | 1.22e-05 |\n",
      "|    entropy        | -0.0122  |\n",
      "|    epoch          | 140      |\n",
      "|    l2_loss        | 0        |\n",
      "|    l2_norm        | 2.97e+03 |\n",
      "|    loss           | -0.96    |\n",
      "|    neglogp        | -0.96    |\n",
      "|    prob_true_act  | 2.63     |\n",
      "|    samples_so_far | 2867200  |\n",
      "--------------------------------\n"
     ]
    },
    {
     "name": "stderr",
     "output_type": "stream",
     "text": [
      "1410batch [08:20,  2.49batch/s]"
     ]
    },
    {
     "name": "stdout",
     "output_type": "stream",
     "text": [
      "--------------------------------\n",
      "| batch_size        | 2048     |\n",
      "| bc/               |          |\n",
      "|    batch          | 1409     |\n",
      "|    ent_loss       | 3.29e-05 |\n",
      "|    entropy        | -0.0329  |\n",
      "|    epoch          | 141      |\n",
      "|    l2_loss        | 0        |\n",
      "|    l2_norm        | 2.98e+03 |\n",
      "|    loss           | -0.948   |\n",
      "|    neglogp        | -0.948   |\n",
      "|    prob_true_act  | 2.6      |\n",
      "|    samples_so_far | 2887680  |\n",
      "--------------------------------\n"
     ]
    },
    {
     "name": "stderr",
     "output_type": "stream",
     "text": [
      "1420batch [08:23,  2.98batch/s]"
     ]
    },
    {
     "name": "stdout",
     "output_type": "stream",
     "text": [
      "--------------------------------\n",
      "| batch_size        | 2048     |\n",
      "| bc/               |          |\n",
      "|    batch          | 1419     |\n",
      "|    ent_loss       | 5.34e-05 |\n",
      "|    entropy        | -0.0534  |\n",
      "|    epoch          | 142      |\n",
      "|    l2_loss        | 0        |\n",
      "|    l2_norm        | 2.99e+03 |\n",
      "|    loss           | -0.962   |\n",
      "|    neglogp        | -0.963   |\n",
      "|    prob_true_act  | 2.63     |\n",
      "|    samples_so_far | 2908160  |\n",
      "--------------------------------\n"
     ]
    },
    {
     "name": "stderr",
     "output_type": "stream",
     "text": [
      "1430batch [08:27,  2.95batch/s]"
     ]
    },
    {
     "name": "stdout",
     "output_type": "stream",
     "text": [
      "--------------------------------\n",
      "| batch_size        | 2048     |\n",
      "| bc/               |          |\n",
      "|    batch          | 1429     |\n",
      "|    ent_loss       | 7.39e-05 |\n",
      "|    entropy        | -0.0739  |\n",
      "|    epoch          | 143      |\n",
      "|    l2_loss        | 0        |\n",
      "|    l2_norm        | 3e+03    |\n",
      "|    loss           | -1.02    |\n",
      "|    neglogp        | -1.02    |\n",
      "|    prob_true_act  | 2.79     |\n",
      "|    samples_so_far | 2928640  |\n",
      "--------------------------------\n"
     ]
    },
    {
     "name": "stderr",
     "output_type": "stream",
     "text": [
      "1440batch [08:30,  3.01batch/s]"
     ]
    },
    {
     "name": "stdout",
     "output_type": "stream",
     "text": [
      "--------------------------------\n",
      "| batch_size        | 2048     |\n",
      "| bc/               |          |\n",
      "|    batch          | 1439     |\n",
      "|    ent_loss       | 9.46e-05 |\n",
      "|    entropy        | -0.0946  |\n",
      "|    epoch          | 144      |\n",
      "|    l2_loss        | 0        |\n",
      "|    l2_norm        | 3.01e+03 |\n",
      "|    loss           | -1.04    |\n",
      "|    neglogp        | -1.04    |\n",
      "|    prob_true_act  | 2.86     |\n",
      "|    samples_so_far | 2949120  |\n",
      "--------------------------------\n"
     ]
    },
    {
     "name": "stderr",
     "output_type": "stream",
     "text": [
      "1450batch [08:34,  2.93batch/s]"
     ]
    },
    {
     "name": "stdout",
     "output_type": "stream",
     "text": [
      "--------------------------------\n",
      "| batch_size        | 2048     |\n",
      "| bc/               |          |\n",
      "|    batch          | 1449     |\n",
      "|    ent_loss       | 0.000115 |\n",
      "|    entropy        | -0.115   |\n",
      "|    epoch          | 145      |\n",
      "|    l2_loss        | 0        |\n",
      "|    l2_norm        | 3.02e+03 |\n",
      "|    loss           | -1.03    |\n",
      "|    neglogp        | -1.03    |\n",
      "|    prob_true_act  | 2.82     |\n",
      "|    samples_so_far | 2969600  |\n",
      "--------------------------------\n"
     ]
    },
    {
     "name": "stderr",
     "output_type": "stream",
     "text": [
      "1460batch [08:38,  2.55batch/s]"
     ]
    },
    {
     "name": "stdout",
     "output_type": "stream",
     "text": [
      "--------------------------------\n",
      "| batch_size        | 2048     |\n",
      "| bc/               |          |\n",
      "|    batch          | 1459     |\n",
      "|    ent_loss       | 0.000136 |\n",
      "|    entropy        | -0.136   |\n",
      "|    epoch          | 146      |\n",
      "|    l2_loss        | 0        |\n",
      "|    l2_norm        | 3.03e+03 |\n",
      "|    loss           | -1.07    |\n",
      "|    neglogp        | -1.07    |\n",
      "|    prob_true_act  | 2.92     |\n",
      "|    samples_so_far | 2990080  |\n",
      "--------------------------------\n"
     ]
    },
    {
     "name": "stderr",
     "output_type": "stream",
     "text": [
      "1470batch [08:41,  2.95batch/s]"
     ]
    },
    {
     "name": "stdout",
     "output_type": "stream",
     "text": [
      "--------------------------------\n",
      "| batch_size        | 2048     |\n",
      "| bc/               |          |\n",
      "|    batch          | 1469     |\n",
      "|    ent_loss       | 0.000156 |\n",
      "|    entropy        | -0.156   |\n",
      "|    epoch          | 147      |\n",
      "|    l2_loss        | 0        |\n",
      "|    l2_norm        | 3.04e+03 |\n",
      "|    loss           | -1.03    |\n",
      "|    neglogp        | -1.03    |\n",
      "|    prob_true_act  | 2.82     |\n",
      "|    samples_so_far | 3010560  |\n",
      "--------------------------------\n"
     ]
    },
    {
     "name": "stderr",
     "output_type": "stream",
     "text": [
      "1480batch [08:45,  2.99batch/s]"
     ]
    },
    {
     "name": "stdout",
     "output_type": "stream",
     "text": [
      "--------------------------------\n",
      "| batch_size        | 2048     |\n",
      "| bc/               |          |\n",
      "|    batch          | 1479     |\n",
      "|    ent_loss       | 0.000176 |\n",
      "|    entropy        | -0.176   |\n",
      "|    epoch          | 148      |\n",
      "|    l2_loss        | 0        |\n",
      "|    l2_norm        | 3.06e+03 |\n",
      "|    loss           | -1.08    |\n",
      "|    neglogp        | -1.08    |\n",
      "|    prob_true_act  | 2.96     |\n",
      "|    samples_so_far | 3031040  |\n",
      "--------------------------------\n"
     ]
    },
    {
     "name": "stderr",
     "output_type": "stream",
     "text": [
      "1490batch [08:48,  2.95batch/s]"
     ]
    },
    {
     "name": "stdout",
     "output_type": "stream",
     "text": [
      "--------------------------------\n",
      "| batch_size        | 2048     |\n",
      "| bc/               |          |\n",
      "|    batch          | 1489     |\n",
      "|    ent_loss       | 0.000196 |\n",
      "|    entropy        | -0.196   |\n",
      "|    epoch          | 149      |\n",
      "|    l2_loss        | 0        |\n",
      "|    l2_norm        | 3.07e+03 |\n",
      "|    loss           | -1.11    |\n",
      "|    neglogp        | -1.11    |\n",
      "|    prob_true_act  | 3.07     |\n",
      "|    samples_so_far | 3051520  |\n",
      "--------------------------------\n"
     ]
    },
    {
     "name": "stderr",
     "output_type": "stream",
     "text": [
      "1500batch [08:52,  2.62batch/s]"
     ]
    },
    {
     "name": "stdout",
     "output_type": "stream",
     "text": [
      "--------------------------------\n",
      "| batch_size        | 2048     |\n",
      "| bc/               |          |\n",
      "|    batch          | 1499     |\n",
      "|    ent_loss       | 0.000216 |\n",
      "|    entropy        | -0.216   |\n",
      "|    epoch          | 150      |\n",
      "|    l2_loss        | 0        |\n",
      "|    l2_norm        | 3.08e+03 |\n",
      "|    loss           | -1.14    |\n",
      "|    neglogp        | -1.14    |\n",
      "|    prob_true_act  | 3.16     |\n",
      "|    samples_so_far | 3072000  |\n",
      "--------------------------------\n"
     ]
    },
    {
     "name": "stderr",
     "output_type": "stream",
     "text": [
      "1510batch [08:56,  2.93batch/s]"
     ]
    },
    {
     "name": "stdout",
     "output_type": "stream",
     "text": [
      "--------------------------------\n",
      "| batch_size        | 2048     |\n",
      "| bc/               |          |\n",
      "|    batch          | 1509     |\n",
      "|    ent_loss       | 0.000236 |\n",
      "|    entropy        | -0.236   |\n",
      "|    epoch          | 151      |\n",
      "|    l2_loss        | 0        |\n",
      "|    l2_norm        | 3.09e+03 |\n",
      "|    loss           | -1.16    |\n",
      "|    neglogp        | -1.16    |\n",
      "|    prob_true_act  | 3.21     |\n",
      "|    samples_so_far | 3092480  |\n",
      "--------------------------------\n"
     ]
    },
    {
     "name": "stderr",
     "output_type": "stream",
     "text": [
      "1520batch [08:59,  2.98batch/s]"
     ]
    },
    {
     "name": "stdout",
     "output_type": "stream",
     "text": [
      "--------------------------------\n",
      "| batch_size        | 2048     |\n",
      "| bc/               |          |\n",
      "|    batch          | 1519     |\n",
      "|    ent_loss       | 0.000256 |\n",
      "|    entropy        | -0.256   |\n",
      "|    epoch          | 152      |\n",
      "|    l2_loss        | 0        |\n",
      "|    l2_norm        | 3.11e+03 |\n",
      "|    loss           | -1.18    |\n",
      "|    neglogp        | -1.18    |\n",
      "|    prob_true_act  | 3.27     |\n",
      "|    samples_so_far | 3112960  |\n",
      "--------------------------------\n"
     ]
    },
    {
     "name": "stderr",
     "output_type": "stream",
     "text": [
      "1530batch [09:03,  2.94batch/s]"
     ]
    },
    {
     "name": "stdout",
     "output_type": "stream",
     "text": [
      "--------------------------------\n",
      "| batch_size        | 2048     |\n",
      "| bc/               |          |\n",
      "|    batch          | 1529     |\n",
      "|    ent_loss       | 0.000276 |\n",
      "|    entropy        | -0.276   |\n",
      "|    epoch          | 153      |\n",
      "|    l2_loss        | 0        |\n",
      "|    l2_norm        | 3.12e+03 |\n",
      "|    loss           | -1.18    |\n",
      "|    neglogp        | -1.18    |\n",
      "|    prob_true_act  | 3.29     |\n",
      "|    samples_so_far | 3133440  |\n",
      "--------------------------------\n"
     ]
    },
    {
     "name": "stderr",
     "output_type": "stream",
     "text": [
      "1540batch [09:06,  2.99batch/s]"
     ]
    },
    {
     "name": "stdout",
     "output_type": "stream",
     "text": [
      "--------------------------------\n",
      "| batch_size        | 2048     |\n",
      "| bc/               |          |\n",
      "|    batch          | 1539     |\n",
      "|    ent_loss       | 0.000297 |\n",
      "|    entropy        | -0.297   |\n",
      "|    epoch          | 154      |\n",
      "|    l2_loss        | 0        |\n",
      "|    l2_norm        | 3.13e+03 |\n",
      "|    loss           | -1.25    |\n",
      "|    neglogp        | -1.25    |\n",
      "|    prob_true_act  | 3.5      |\n",
      "|    samples_so_far | 3153920  |\n",
      "--------------------------------\n"
     ]
    },
    {
     "name": "stderr",
     "output_type": "stream",
     "text": [
      "1550batch [09:10,  2.94batch/s]"
     ]
    },
    {
     "name": "stdout",
     "output_type": "stream",
     "text": [
      "--------------------------------\n",
      "| batch_size        | 2048     |\n",
      "| bc/               |          |\n",
      "|    batch          | 1549     |\n",
      "|    ent_loss       | 0.000317 |\n",
      "|    entropy        | -0.317   |\n",
      "|    epoch          | 155      |\n",
      "|    l2_loss        | 0        |\n",
      "|    l2_norm        | 3.14e+03 |\n",
      "|    loss           | -1.27    |\n",
      "|    neglogp        | -1.27    |\n",
      "|    prob_true_act  | 3.58     |\n",
      "|    samples_so_far | 3174400  |\n",
      "--------------------------------\n"
     ]
    },
    {
     "name": "stderr",
     "output_type": "stream",
     "text": [
      "1560batch [09:13,  3.01batch/s]"
     ]
    },
    {
     "name": "stdout",
     "output_type": "stream",
     "text": [
      "--------------------------------\n",
      "| batch_size        | 2048     |\n",
      "| bc/               |          |\n",
      "|    batch          | 1559     |\n",
      "|    ent_loss       | 0.000337 |\n",
      "|    entropy        | -0.337   |\n",
      "|    epoch          | 156      |\n",
      "|    l2_loss        | 0        |\n",
      "|    l2_norm        | 3.15e+03 |\n",
      "|    loss           | -1.28    |\n",
      "|    neglogp        | -1.28    |\n",
      "|    prob_true_act  | 3.62     |\n",
      "|    samples_so_far | 3194880  |\n",
      "--------------------------------\n"
     ]
    },
    {
     "name": "stderr",
     "output_type": "stream",
     "text": [
      "1570batch [09:18,  2.21batch/s]"
     ]
    },
    {
     "name": "stdout",
     "output_type": "stream",
     "text": [
      "--------------------------------\n",
      "| batch_size        | 2048     |\n",
      "| bc/               |          |\n",
      "|    batch          | 1569     |\n",
      "|    ent_loss       | 0.000358 |\n",
      "|    entropy        | -0.358   |\n",
      "|    epoch          | 157      |\n",
      "|    l2_loss        | 0        |\n",
      "|    l2_norm        | 3.16e+03 |\n",
      "|    loss           | -1.3     |\n",
      "|    neglogp        | -1.3     |\n",
      "|    prob_true_act  | 3.71     |\n",
      "|    samples_so_far | 3215360  |\n",
      "--------------------------------\n"
     ]
    },
    {
     "name": "stderr",
     "output_type": "stream",
     "text": [
      "1580batch [09:22,  2.96batch/s]"
     ]
    },
    {
     "name": "stdout",
     "output_type": "stream",
     "text": [
      "--------------------------------\n",
      "| batch_size        | 2048     |\n",
      "| bc/               |          |\n",
      "|    batch          | 1579     |\n",
      "|    ent_loss       | 0.000378 |\n",
      "|    entropy        | -0.378   |\n",
      "|    epoch          | 158      |\n",
      "|    l2_loss        | 0        |\n",
      "|    l2_norm        | 3.16e+03 |\n",
      "|    loss           | -1.29    |\n",
      "|    neglogp        | -1.29    |\n",
      "|    prob_true_act  | 3.66     |\n",
      "|    samples_so_far | 3235840  |\n",
      "--------------------------------\n"
     ]
    },
    {
     "name": "stderr",
     "output_type": "stream",
     "text": [
      "1590batch [09:26,  2.52batch/s]"
     ]
    },
    {
     "name": "stdout",
     "output_type": "stream",
     "text": [
      "--------------------------------\n",
      "| batch_size        | 2048     |\n",
      "| bc/               |          |\n",
      "|    batch          | 1589     |\n",
      "|    ent_loss       | 0.000398 |\n",
      "|    entropy        | -0.398   |\n",
      "|    epoch          | 159      |\n",
      "|    l2_loss        | 0        |\n",
      "|    l2_norm        | 3.18e+03 |\n",
      "|    loss           | -1.32    |\n",
      "|    neglogp        | -1.32    |\n",
      "|    prob_true_act  | 3.79     |\n",
      "|    samples_so_far | 3256320  |\n",
      "--------------------------------\n"
     ]
    },
    {
     "name": "stderr",
     "output_type": "stream",
     "text": [
      "1600batch [09:29,  2.91batch/s]"
     ]
    },
    {
     "name": "stdout",
     "output_type": "stream",
     "text": [
      "--------------------------------\n",
      "| batch_size        | 2048     |\n",
      "| bc/               |          |\n",
      "|    batch          | 1599     |\n",
      "|    ent_loss       | 0.000418 |\n",
      "|    entropy        | -0.418   |\n",
      "|    epoch          | 160      |\n",
      "|    l2_loss        | 0        |\n",
      "|    l2_norm        | 3.19e+03 |\n",
      "|    loss           | -1.36    |\n",
      "|    neglogp        | -1.36    |\n",
      "|    prob_true_act  | 3.91     |\n",
      "|    samples_so_far | 3276800  |\n",
      "--------------------------------\n"
     ]
    },
    {
     "name": "stderr",
     "output_type": "stream",
     "text": [
      "1610batch [09:33,  2.87batch/s]"
     ]
    },
    {
     "name": "stdout",
     "output_type": "stream",
     "text": [
      "--------------------------------\n",
      "| batch_size        | 2048     |\n",
      "| bc/               |          |\n",
      "|    batch          | 1609     |\n",
      "|    ent_loss       | 0.000438 |\n",
      "|    entropy        | -0.438   |\n",
      "|    epoch          | 161      |\n",
      "|    l2_loss        | 0        |\n",
      "|    l2_norm        | 3.2e+03  |\n",
      "|    loss           | -1.38    |\n",
      "|    neglogp        | -1.38    |\n",
      "|    prob_true_act  | 3.98     |\n",
      "|    samples_so_far | 3297280  |\n",
      "--------------------------------\n"
     ]
    },
    {
     "name": "stderr",
     "output_type": "stream",
     "text": [
      "1620batch [09:36,  3.00batch/s]"
     ]
    },
    {
     "name": "stdout",
     "output_type": "stream",
     "text": [
      "--------------------------------\n",
      "| batch_size        | 2048     |\n",
      "| bc/               |          |\n",
      "|    batch          | 1619     |\n",
      "|    ent_loss       | 0.000459 |\n",
      "|    entropy        | -0.459   |\n",
      "|    epoch          | 162      |\n",
      "|    l2_loss        | 0        |\n",
      "|    l2_norm        | 3.2e+03  |\n",
      "|    loss           | -1.41    |\n",
      "|    neglogp        | -1.41    |\n",
      "|    prob_true_act  | 4.13     |\n",
      "|    samples_so_far | 3317760  |\n",
      "--------------------------------\n"
     ]
    },
    {
     "name": "stderr",
     "output_type": "stream",
     "text": [
      "1630batch [09:40,  2.97batch/s]"
     ]
    },
    {
     "name": "stdout",
     "output_type": "stream",
     "text": [
      "--------------------------------\n",
      "| batch_size        | 2048     |\n",
      "| bc/               |          |\n",
      "|    batch          | 1629     |\n",
      "|    ent_loss       | 0.000479 |\n",
      "|    entropy        | -0.479   |\n",
      "|    epoch          | 163      |\n",
      "|    l2_loss        | 0        |\n",
      "|    l2_norm        | 3.21e+03 |\n",
      "|    loss           | -1.38    |\n",
      "|    neglogp        | -1.38    |\n",
      "|    prob_true_act  | 4.01     |\n",
      "|    samples_so_far | 3338240  |\n",
      "--------------------------------\n"
     ]
    },
    {
     "name": "stderr",
     "output_type": "stream",
     "text": [
      "1640batch [09:44,  2.97batch/s]"
     ]
    },
    {
     "name": "stdout",
     "output_type": "stream",
     "text": [
      "--------------------------------\n",
      "| batch_size        | 2048     |\n",
      "| bc/               |          |\n",
      "|    batch          | 1639     |\n",
      "|    ent_loss       | 0.000499 |\n",
      "|    entropy        | -0.499   |\n",
      "|    epoch          | 164      |\n",
      "|    l2_loss        | 0        |\n",
      "|    l2_norm        | 3.22e+03 |\n",
      "|    loss           | -1.4     |\n",
      "|    neglogp        | -1.4     |\n",
      "|    prob_true_act  | 4.09     |\n",
      "|    samples_so_far | 3358720  |\n",
      "--------------------------------\n"
     ]
    },
    {
     "name": "stderr",
     "output_type": "stream",
     "text": [
      "1650batch [09:47,  2.16batch/s]"
     ]
    },
    {
     "name": "stdout",
     "output_type": "stream",
     "text": [
      "--------------------------------\n",
      "| batch_size        | 2048     |\n",
      "| bc/               |          |\n",
      "|    batch          | 1649     |\n",
      "|    ent_loss       | 0.000519 |\n",
      "|    entropy        | -0.519   |\n",
      "|    epoch          | 165      |\n",
      "|    l2_loss        | 0        |\n",
      "|    l2_norm        | 3.23e+03 |\n",
      "|    loss           | -1.42    |\n",
      "|    neglogp        | -1.42    |\n",
      "|    prob_true_act  | 4.17     |\n",
      "|    samples_so_far | 3379200  |\n",
      "--------------------------------\n"
     ]
    },
    {
     "name": "stderr",
     "output_type": "stream",
     "text": [
      "1660batch [09:51,  2.89batch/s]"
     ]
    },
    {
     "name": "stdout",
     "output_type": "stream",
     "text": [
      "--------------------------------\n",
      "| batch_size        | 2048     |\n",
      "| bc/               |          |\n",
      "|    batch          | 1659     |\n",
      "|    ent_loss       | 0.000539 |\n",
      "|    entropy        | -0.539   |\n",
      "|    epoch          | 166      |\n",
      "|    l2_loss        | 0        |\n",
      "|    l2_norm        | 3.25e+03 |\n",
      "|    loss           | -1.46    |\n",
      "|    neglogp        | -1.46    |\n",
      "|    prob_true_act  | 4.32     |\n",
      "|    samples_so_far | 3399680  |\n",
      "--------------------------------\n"
     ]
    },
    {
     "name": "stderr",
     "output_type": "stream",
     "text": [
      "1670batch [09:55,  2.99batch/s]"
     ]
    },
    {
     "name": "stdout",
     "output_type": "stream",
     "text": [
      "--------------------------------\n",
      "| batch_size        | 2048     |\n",
      "| bc/               |          |\n",
      "|    batch          | 1669     |\n",
      "|    ent_loss       | 0.000559 |\n",
      "|    entropy        | -0.559   |\n",
      "|    epoch          | 167      |\n",
      "|    l2_loss        | 0        |\n",
      "|    l2_norm        | 3.26e+03 |\n",
      "|    loss           | -1.48    |\n",
      "|    neglogp        | -1.48    |\n",
      "|    prob_true_act  | 4.44     |\n",
      "|    samples_so_far | 3420160  |\n",
      "--------------------------------\n"
     ]
    },
    {
     "name": "stderr",
     "output_type": "stream",
     "text": [
      "1680batch [09:58,  2.98batch/s]"
     ]
    },
    {
     "name": "stdout",
     "output_type": "stream",
     "text": [
      "--------------------------------\n",
      "| batch_size        | 2048     |\n",
      "| bc/               |          |\n",
      "|    batch          | 1679     |\n",
      "|    ent_loss       | 0.000579 |\n",
      "|    entropy        | -0.579   |\n",
      "|    epoch          | 168      |\n",
      "|    l2_loss        | 0        |\n",
      "|    l2_norm        | 3.26e+03 |\n",
      "|    loss           | -1.5     |\n",
      "|    neglogp        | -1.5     |\n",
      "|    prob_true_act  | 4.49     |\n",
      "|    samples_so_far | 3440640  |\n",
      "--------------------------------\n"
     ]
    },
    {
     "name": "stderr",
     "output_type": "stream",
     "text": [
      "1690batch [10:02,  2.95batch/s]"
     ]
    },
    {
     "name": "stdout",
     "output_type": "stream",
     "text": [
      "--------------------------------\n",
      "| batch_size        | 2048     |\n",
      "| bc/               |          |\n",
      "|    batch          | 1689     |\n",
      "|    ent_loss       | 0.000599 |\n",
      "|    entropy        | -0.599   |\n",
      "|    epoch          | 169      |\n",
      "|    l2_loss        | 0        |\n",
      "|    l2_norm        | 3.27e+03 |\n",
      "|    loss           | -1.52    |\n",
      "|    neglogp        | -1.52    |\n",
      "|    prob_true_act  | 4.61     |\n",
      "|    samples_so_far | 3461120  |\n",
      "--------------------------------\n"
     ]
    },
    {
     "name": "stderr",
     "output_type": "stream",
     "text": [
      "1700batch [10:05,  3.01batch/s]"
     ]
    },
    {
     "name": "stdout",
     "output_type": "stream",
     "text": [
      "--------------------------------\n",
      "| batch_size        | 2048     |\n",
      "| bc/               |          |\n",
      "|    batch          | 1699     |\n",
      "|    ent_loss       | 0.00062  |\n",
      "|    entropy        | -0.62    |\n",
      "|    epoch          | 170      |\n",
      "|    l2_loss        | 0        |\n",
      "|    l2_norm        | 3.28e+03 |\n",
      "|    loss           | -1.52    |\n",
      "|    neglogp        | -1.52    |\n",
      "|    prob_true_act  | 4.62     |\n",
      "|    samples_so_far | 3481600  |\n",
      "--------------------------------\n"
     ]
    },
    {
     "name": "stderr",
     "output_type": "stream",
     "text": [
      "1710batch [10:09,  2.66batch/s]"
     ]
    },
    {
     "name": "stdout",
     "output_type": "stream",
     "text": [
      "--------------------------------\n",
      "| batch_size        | 2048     |\n",
      "| bc/               |          |\n",
      "|    batch          | 1709     |\n",
      "|    ent_loss       | 0.00064  |\n",
      "|    entropy        | -0.64    |\n",
      "|    epoch          | 171      |\n",
      "|    l2_loss        | 0        |\n",
      "|    l2_norm        | 3.29e+03 |\n",
      "|    loss           | -1.53    |\n",
      "|    neglogp        | -1.53    |\n",
      "|    prob_true_act  | 4.68     |\n",
      "|    samples_so_far | 3502080  |\n",
      "--------------------------------\n"
     ]
    },
    {
     "name": "stderr",
     "output_type": "stream",
     "text": [
      "1720batch [10:13,  2.95batch/s]"
     ]
    },
    {
     "name": "stdout",
     "output_type": "stream",
     "text": [
      "--------------------------------\n",
      "| batch_size        | 2048     |\n",
      "| bc/               |          |\n",
      "|    batch          | 1719     |\n",
      "|    ent_loss       | 0.00066  |\n",
      "|    entropy        | -0.66    |\n",
      "|    epoch          | 172      |\n",
      "|    l2_loss        | 0        |\n",
      "|    l2_norm        | 3.3e+03  |\n",
      "|    loss           | -1.59    |\n",
      "|    neglogp        | -1.59    |\n",
      "|    prob_true_act  | 4.95     |\n",
      "|    samples_so_far | 3522560  |\n",
      "--------------------------------\n"
     ]
    },
    {
     "name": "stderr",
     "output_type": "stream",
     "text": [
      "1730batch [10:17,  2.60batch/s]"
     ]
    },
    {
     "name": "stdout",
     "output_type": "stream",
     "text": [
      "--------------------------------\n",
      "| batch_size        | 2048     |\n",
      "| bc/               |          |\n",
      "|    batch          | 1729     |\n",
      "|    ent_loss       | 0.00068  |\n",
      "|    entropy        | -0.68    |\n",
      "|    epoch          | 173      |\n",
      "|    l2_loss        | 0        |\n",
      "|    l2_norm        | 3.31e+03 |\n",
      "|    loss           | -1.57    |\n",
      "|    neglogp        | -1.57    |\n",
      "|    prob_true_act  | 4.87     |\n",
      "|    samples_so_far | 3543040  |\n",
      "--------------------------------\n"
     ]
    },
    {
     "name": "stderr",
     "output_type": "stream",
     "text": [
      "1740batch [10:20,  2.95batch/s]"
     ]
    },
    {
     "name": "stdout",
     "output_type": "stream",
     "text": [
      "--------------------------------\n",
      "| batch_size        | 2048     |\n",
      "| bc/               |          |\n",
      "|    batch          | 1739     |\n",
      "|    ent_loss       | 0.0007   |\n",
      "|    entropy        | -0.7     |\n",
      "|    epoch          | 174      |\n",
      "|    l2_loss        | 0        |\n",
      "|    l2_norm        | 3.32e+03 |\n",
      "|    loss           | -1.57    |\n",
      "|    neglogp        | -1.57    |\n",
      "|    prob_true_act  | 4.88     |\n",
      "|    samples_so_far | 3563520  |\n",
      "--------------------------------\n"
     ]
    },
    {
     "name": "stderr",
     "output_type": "stream",
     "text": [
      "1750batch [10:24,  3.00batch/s]"
     ]
    },
    {
     "name": "stdout",
     "output_type": "stream",
     "text": [
      "--------------------------------\n",
      "| batch_size        | 2048     |\n",
      "| bc/               |          |\n",
      "|    batch          | 1749     |\n",
      "|    ent_loss       | 0.000719 |\n",
      "|    entropy        | -0.719   |\n",
      "|    epoch          | 175      |\n",
      "|    l2_loss        | 0        |\n",
      "|    l2_norm        | 3.33e+03 |\n",
      "|    loss           | -1.64    |\n",
      "|    neglogp        | -1.64    |\n",
      "|    prob_true_act  | 5.19     |\n",
      "|    samples_so_far | 3584000  |\n",
      "--------------------------------\n"
     ]
    },
    {
     "name": "stderr",
     "output_type": "stream",
     "text": [
      "1760batch [10:27,  3.01batch/s]"
     ]
    },
    {
     "name": "stdout",
     "output_type": "stream",
     "text": [
      "--------------------------------\n",
      "| batch_size        | 2048     |\n",
      "| bc/               |          |\n",
      "|    batch          | 1759     |\n",
      "|    ent_loss       | 0.000739 |\n",
      "|    entropy        | -0.739   |\n",
      "|    epoch          | 176      |\n",
      "|    l2_loss        | 0        |\n",
      "|    l2_norm        | 3.34e+03 |\n",
      "|    loss           | -1.67    |\n",
      "|    neglogp        | -1.67    |\n",
      "|    prob_true_act  | 5.37     |\n",
      "|    samples_so_far | 3604480  |\n",
      "--------------------------------\n"
     ]
    },
    {
     "name": "stderr",
     "output_type": "stream",
     "text": [
      "1770batch [10:31,  2.96batch/s]"
     ]
    },
    {
     "name": "stdout",
     "output_type": "stream",
     "text": [
      "--------------------------------\n",
      "| batch_size        | 2048     |\n",
      "| bc/               |          |\n",
      "|    batch          | 1769     |\n",
      "|    ent_loss       | 0.00076  |\n",
      "|    entropy        | -0.76    |\n",
      "|    epoch          | 177      |\n",
      "|    l2_loss        | 0        |\n",
      "|    l2_norm        | 3.35e+03 |\n",
      "|    loss           | -1.71    |\n",
      "|    neglogp        | -1.71    |\n",
      "|    prob_true_act  | 5.57     |\n",
      "|    samples_so_far | 3624960  |\n",
      "--------------------------------\n"
     ]
    },
    {
     "name": "stderr",
     "output_type": "stream",
     "text": [
      "1780batch [10:34,  2.99batch/s]"
     ]
    },
    {
     "name": "stdout",
     "output_type": "stream",
     "text": [
      "--------------------------------\n",
      "| batch_size        | 2048     |\n",
      "| bc/               |          |\n",
      "|    batch          | 1779     |\n",
      "|    ent_loss       | 0.00078  |\n",
      "|    entropy        | -0.78    |\n",
      "|    epoch          | 178      |\n",
      "|    l2_loss        | 0        |\n",
      "|    l2_norm        | 3.35e+03 |\n",
      "|    loss           | -1.65    |\n",
      "|    neglogp        | -1.65    |\n",
      "|    prob_true_act  | 5.27     |\n",
      "|    samples_so_far | 3645440  |\n",
      "--------------------------------\n"
     ]
    },
    {
     "name": "stderr",
     "output_type": "stream",
     "text": [
      "1790batch [10:38,  2.98batch/s]"
     ]
    },
    {
     "name": "stdout",
     "output_type": "stream",
     "text": [
      "--------------------------------\n",
      "| batch_size        | 2048     |\n",
      "| bc/               |          |\n",
      "|    batch          | 1789     |\n",
      "|    ent_loss       | 0.000799 |\n",
      "|    entropy        | -0.799   |\n",
      "|    epoch          | 179      |\n",
      "|    l2_loss        | 0        |\n",
      "|    l2_norm        | 3.36e+03 |\n",
      "|    loss           | -1.48    |\n",
      "|    neglogp        | -1.48    |\n",
      "|    prob_true_act  | 4.64     |\n",
      "|    samples_so_far | 3665920  |\n",
      "--------------------------------\n"
     ]
    },
    {
     "name": "stderr",
     "output_type": "stream",
     "text": [
      "1800batch [10:42,  2.99batch/s]"
     ]
    },
    {
     "name": "stdout",
     "output_type": "stream",
     "text": [
      "--------------------------------\n",
      "| batch_size        | 2048     |\n",
      "| bc/               |          |\n",
      "|    batch          | 1799     |\n",
      "|    ent_loss       | 0.000812 |\n",
      "|    entropy        | -0.812   |\n",
      "|    epoch          | 180      |\n",
      "|    l2_loss        | 0        |\n",
      "|    l2_norm        | 3.4e+03  |\n",
      "|    loss           | -0.447   |\n",
      "|    neglogp        | -0.447   |\n",
      "|    prob_true_act  | 3.22     |\n",
      "|    samples_so_far | 3686400  |\n",
      "--------------------------------\n"
     ]
    },
    {
     "name": "stderr",
     "output_type": "stream",
     "text": [
      "1810batch [10:46,  2.39batch/s]"
     ]
    },
    {
     "name": "stdout",
     "output_type": "stream",
     "text": [
      "--------------------------------\n",
      "| batch_size        | 2048     |\n",
      "| bc/               |          |\n",
      "|    batch          | 1809     |\n",
      "|    ent_loss       | 0.000813 |\n",
      "|    entropy        | -0.813   |\n",
      "|    epoch          | 181      |\n",
      "|    l2_loss        | 0        |\n",
      "|    l2_norm        | 3.47e+03 |\n",
      "|    loss           | -1.09    |\n",
      "|    neglogp        | -1.09    |\n",
      "|    prob_true_act  | 4.09     |\n",
      "|    samples_so_far | 3706880  |\n",
      "--------------------------------\n"
     ]
    },
    {
     "name": "stderr",
     "output_type": "stream",
     "text": [
      "1820batch [10:49,  2.94batch/s]"
     ]
    },
    {
     "name": "stdout",
     "output_type": "stream",
     "text": [
      "--------------------------------\n",
      "| batch_size        | 2048     |\n",
      "| bc/               |          |\n",
      "|    batch          | 1819     |\n",
      "|    ent_loss       | 0.000817 |\n",
      "|    entropy        | -0.817   |\n",
      "|    epoch          | 182      |\n",
      "|    l2_loss        | 0        |\n",
      "|    l2_norm        | 3.56e+03 |\n",
      "|    loss           | -1.3     |\n",
      "|    neglogp        | -1.3     |\n",
      "|    prob_true_act  | 4.33     |\n",
      "|    samples_so_far | 3727360  |\n",
      "--------------------------------\n"
     ]
    },
    {
     "name": "stderr",
     "output_type": "stream",
     "text": [
      "1830batch [10:53,  2.96batch/s]"
     ]
    },
    {
     "name": "stdout",
     "output_type": "stream",
     "text": [
      "--------------------------------\n",
      "| batch_size        | 2048     |\n",
      "| bc/               |          |\n",
      "|    batch          | 1829     |\n",
      "|    ent_loss       | 0.000827 |\n",
      "|    entropy        | -0.827   |\n",
      "|    epoch          | 183      |\n",
      "|    l2_loss        | 0        |\n",
      "|    l2_norm        | 3.62e+03 |\n",
      "|    loss           | -1.59    |\n",
      "|    neglogp        | -1.59    |\n",
      "|    prob_true_act  | 5.16     |\n",
      "|    samples_so_far | 3747840  |\n",
      "--------------------------------\n"
     ]
    },
    {
     "name": "stderr",
     "output_type": "stream",
     "text": [
      "1840batch [10:56,  2.98batch/s]"
     ]
    },
    {
     "name": "stdout",
     "output_type": "stream",
     "text": [
      "--------------------------------\n",
      "| batch_size        | 2048     |\n",
      "| bc/               |          |\n",
      "|    batch          | 1839     |\n",
      "|    ent_loss       | 0.000842 |\n",
      "|    entropy        | -0.842   |\n",
      "|    epoch          | 184      |\n",
      "|    l2_loss        | 0        |\n",
      "|    l2_norm        | 3.66e+03 |\n",
      "|    loss           | -1.67    |\n",
      "|    neglogp        | -1.67    |\n",
      "|    prob_true_act  | 5.47     |\n",
      "|    samples_so_far | 3768320  |\n",
      "--------------------------------\n"
     ]
    },
    {
     "name": "stderr",
     "output_type": "stream",
     "text": [
      "1850batch [11:01,  2.47batch/s]"
     ]
    },
    {
     "name": "stdout",
     "output_type": "stream",
     "text": [
      "--------------------------------\n",
      "| batch_size        | 2048     |\n",
      "| bc/               |          |\n",
      "|    batch          | 1849     |\n",
      "|    ent_loss       | 0.000859 |\n",
      "|    entropy        | -0.859   |\n",
      "|    epoch          | 185      |\n",
      "|    l2_loss        | 0        |\n",
      "|    l2_norm        | 3.68e+03 |\n",
      "|    loss           | -1.74    |\n",
      "|    neglogp        | -1.74    |\n",
      "|    prob_true_act  | 5.77     |\n",
      "|    samples_so_far | 3788800  |\n",
      "--------------------------------\n"
     ]
    },
    {
     "name": "stderr",
     "output_type": "stream",
     "text": [
      "1860batch [11:04,  2.90batch/s]"
     ]
    },
    {
     "name": "stdout",
     "output_type": "stream",
     "text": [
      "--------------------------------\n",
      "| batch_size        | 2048     |\n",
      "| bc/               |          |\n",
      "|    batch          | 1859     |\n",
      "|    ent_loss       | 0.000878 |\n",
      "|    entropy        | -0.878   |\n",
      "|    epoch          | 186      |\n",
      "|    l2_loss        | 0        |\n",
      "|    l2_norm        | 3.69e+03 |\n",
      "|    loss           | -1.78    |\n",
      "|    neglogp        | -1.78    |\n",
      "|    prob_true_act  | 6.03     |\n",
      "|    samples_so_far | 3809280  |\n",
      "--------------------------------\n"
     ]
    },
    {
     "name": "stderr",
     "output_type": "stream",
     "text": [
      "1870batch [11:08,  2.97batch/s]"
     ]
    },
    {
     "name": "stdout",
     "output_type": "stream",
     "text": [
      "--------------------------------\n",
      "| batch_size        | 2048     |\n",
      "| bc/               |          |\n",
      "|    batch          | 1869     |\n",
      "|    ent_loss       | 0.000898 |\n",
      "|    entropy        | -0.898   |\n",
      "|    epoch          | 187      |\n",
      "|    l2_loss        | 0        |\n",
      "|    l2_norm        | 3.7e+03  |\n",
      "|    loss           | -1.83    |\n",
      "|    neglogp        | -1.83    |\n",
      "|    prob_true_act  | 6.28     |\n",
      "|    samples_so_far | 3829760  |\n",
      "--------------------------------\n"
     ]
    },
    {
     "name": "stderr",
     "output_type": "stream",
     "text": [
      "1880batch [11:11,  2.96batch/s]"
     ]
    },
    {
     "name": "stdout",
     "output_type": "stream",
     "text": [
      "--------------------------------\n",
      "| batch_size        | 2048     |\n",
      "| bc/               |          |\n",
      "|    batch          | 1879     |\n",
      "|    ent_loss       | 0.000918 |\n",
      "|    entropy        | -0.918   |\n",
      "|    epoch          | 188      |\n",
      "|    l2_loss        | 0        |\n",
      "|    l2_norm        | 3.71e+03 |\n",
      "|    loss           | -1.85    |\n",
      "|    neglogp        | -1.86    |\n",
      "|    prob_true_act  | 6.45     |\n",
      "|    samples_so_far | 3850240  |\n",
      "--------------------------------\n"
     ]
    },
    {
     "name": "stderr",
     "output_type": "stream",
     "text": [
      "1890batch [11:15,  2.44batch/s]"
     ]
    },
    {
     "name": "stdout",
     "output_type": "stream",
     "text": [
      "--------------------------------\n",
      "| batch_size        | 2048     |\n",
      "| bc/               |          |\n",
      "|    batch          | 1889     |\n",
      "|    ent_loss       | 0.000939 |\n",
      "|    entropy        | -0.939   |\n",
      "|    epoch          | 189      |\n",
      "|    l2_loss        | 0        |\n",
      "|    l2_norm        | 3.71e+03 |\n",
      "|    loss           | -1.88    |\n",
      "|    neglogp        | -1.88    |\n",
      "|    prob_true_act  | 6.64     |\n",
      "|    samples_so_far | 3870720  |\n",
      "--------------------------------\n"
     ]
    },
    {
     "name": "stderr",
     "output_type": "stream",
     "text": [
      "1900batch [11:19,  2.88batch/s]"
     ]
    },
    {
     "name": "stdout",
     "output_type": "stream",
     "text": [
      "--------------------------------\n",
      "| batch_size        | 2048     |\n",
      "| bc/               |          |\n",
      "|    batch          | 1899     |\n",
      "|    ent_loss       | 0.000959 |\n",
      "|    entropy        | -0.959   |\n",
      "|    epoch          | 190      |\n",
      "|    l2_loss        | 0        |\n",
      "|    l2_norm        | 3.71e+03 |\n",
      "|    loss           | -1.9     |\n",
      "|    neglogp        | -1.9     |\n",
      "|    prob_true_act  | 6.75     |\n",
      "|    samples_so_far | 3891200  |\n",
      "--------------------------------\n"
     ]
    },
    {
     "name": "stderr",
     "output_type": "stream",
     "text": [
      "1910batch [11:23,  2.95batch/s]"
     ]
    },
    {
     "name": "stdout",
     "output_type": "stream",
     "text": [
      "--------------------------------\n",
      "| batch_size        | 2048     |\n",
      "| bc/               |          |\n",
      "|    batch          | 1909     |\n",
      "|    ent_loss       | 0.00098  |\n",
      "|    entropy        | -0.98    |\n",
      "|    epoch          | 191      |\n",
      "|    l2_loss        | 0        |\n",
      "|    l2_norm        | 3.72e+03 |\n",
      "|    loss           | -1.92    |\n",
      "|    neglogp        | -1.93    |\n",
      "|    prob_true_act  | 6.9      |\n",
      "|    samples_so_far | 3911680  |\n",
      "--------------------------------\n"
     ]
    },
    {
     "name": "stderr",
     "output_type": "stream",
     "text": [
      "1920batch [11:26,  2.98batch/s]"
     ]
    },
    {
     "name": "stdout",
     "output_type": "stream",
     "text": [
      "--------------------------------\n",
      "| batch_size        | 2048     |\n",
      "| bc/               |          |\n",
      "|    batch          | 1919     |\n",
      "|    ent_loss       | 0.001    |\n",
      "|    entropy        | -1       |\n",
      "|    epoch          | 192      |\n",
      "|    l2_loss        | 0        |\n",
      "|    l2_norm        | 3.72e+03 |\n",
      "|    loss           | -1.95    |\n",
      "|    neglogp        | -1.95    |\n",
      "|    prob_true_act  | 7.09     |\n",
      "|    samples_so_far | 3932160  |\n",
      "--------------------------------\n"
     ]
    },
    {
     "name": "stderr",
     "output_type": "stream",
     "text": [
      "1930batch [11:30,  2.99batch/s]"
     ]
    },
    {
     "name": "stdout",
     "output_type": "stream",
     "text": [
      "--------------------------------\n",
      "| batch_size        | 2048     |\n",
      "| bc/               |          |\n",
      "|    batch          | 1929     |\n",
      "|    ent_loss       | 0.00102  |\n",
      "|    entropy        | -1.02    |\n",
      "|    epoch          | 193      |\n",
      "|    l2_loss        | 0        |\n",
      "|    l2_norm        | 3.72e+03 |\n",
      "|    loss           | -1.98    |\n",
      "|    neglogp        | -1.98    |\n",
      "|    prob_true_act  | 7.28     |\n",
      "|    samples_so_far | 3952640  |\n",
      "--------------------------------\n"
     ]
    },
    {
     "name": "stderr",
     "output_type": "stream",
     "text": [
      "1940batch [11:33,  2.98batch/s]"
     ]
    },
    {
     "name": "stdout",
     "output_type": "stream",
     "text": [
      "--------------------------------\n",
      "| batch_size        | 2048     |\n",
      "| bc/               |          |\n",
      "|    batch          | 1939     |\n",
      "|    ent_loss       | 0.00104  |\n",
      "|    entropy        | -1.04    |\n",
      "|    epoch          | 194      |\n",
      "|    l2_loss        | 0        |\n",
      "|    l2_norm        | 3.73e+03 |\n",
      "|    loss           | -1.91    |\n",
      "|    neglogp        | -1.91    |\n",
      "|    prob_true_act  | 6.85     |\n",
      "|    samples_so_far | 3973120  |\n",
      "--------------------------------\n"
     ]
    },
    {
     "name": "stderr",
     "output_type": "stream",
     "text": [
      "1950batch [11:37,  2.66batch/s]"
     ]
    },
    {
     "name": "stdout",
     "output_type": "stream",
     "text": [
      "--------------------------------\n",
      "| batch_size        | 2048     |\n",
      "| bc/               |          |\n",
      "|    batch          | 1949     |\n",
      "|    ent_loss       | 0.00106  |\n",
      "|    entropy        | -1.06    |\n",
      "|    epoch          | 195      |\n",
      "|    l2_loss        | 0        |\n",
      "|    l2_norm        | 3.73e+03 |\n",
      "|    loss           | -2.01    |\n",
      "|    neglogp        | -2.01    |\n",
      "|    prob_true_act  | 7.56     |\n",
      "|    samples_so_far | 3993600  |\n",
      "--------------------------------\n"
     ]
    },
    {
     "name": "stderr",
     "output_type": "stream",
     "text": [
      "1960batch [11:41,  2.96batch/s]"
     ]
    },
    {
     "name": "stdout",
     "output_type": "stream",
     "text": [
      "--------------------------------\n",
      "| batch_size        | 2048     |\n",
      "| bc/               |          |\n",
      "|    batch          | 1959     |\n",
      "|    ent_loss       | 0.00108  |\n",
      "|    entropy        | -1.08    |\n",
      "|    epoch          | 196      |\n",
      "|    l2_loss        | 0        |\n",
      "|    l2_norm        | 3.74e+03 |\n",
      "|    loss           | -2.03    |\n",
      "|    neglogp        | -2.03    |\n",
      "|    prob_true_act  | 7.68     |\n",
      "|    samples_so_far | 4014080  |\n",
      "--------------------------------\n"
     ]
    },
    {
     "name": "stderr",
     "output_type": "stream",
     "text": [
      "1970batch [11:44,  2.88batch/s]"
     ]
    },
    {
     "name": "stdout",
     "output_type": "stream",
     "text": [
      "--------------------------------\n",
      "| batch_size        | 2048     |\n",
      "| bc/               |          |\n",
      "|    batch          | 1969     |\n",
      "|    ent_loss       | 0.00111  |\n",
      "|    entropy        | -1.11    |\n",
      "|    epoch          | 197      |\n",
      "|    l2_loss        | 0        |\n",
      "|    l2_norm        | 3.74e+03 |\n",
      "|    loss           | -2.04    |\n",
      "|    neglogp        | -2.04    |\n",
      "|    prob_true_act  | 7.76     |\n",
      "|    samples_so_far | 4034560  |\n",
      "--------------------------------\n"
     ]
    },
    {
     "name": "stderr",
     "output_type": "stream",
     "text": [
      "1980batch [11:48,  2.97batch/s]"
     ]
    },
    {
     "name": "stdout",
     "output_type": "stream",
     "text": [
      "--------------------------------\n",
      "| batch_size        | 2048     |\n",
      "| bc/               |          |\n",
      "|    batch          | 1979     |\n",
      "|    ent_loss       | 0.00113  |\n",
      "|    entropy        | -1.13    |\n",
      "|    epoch          | 198      |\n",
      "|    l2_loss        | 0        |\n",
      "|    l2_norm        | 3.74e+03 |\n",
      "|    loss           | -2.08    |\n",
      "|    neglogp        | -2.08    |\n",
      "|    prob_true_act  | 8.07     |\n",
      "|    samples_so_far | 4055040  |\n",
      "--------------------------------\n"
     ]
    },
    {
     "name": "stderr",
     "output_type": "stream",
     "text": [
      "1990batch [11:53,  2.08batch/s]"
     ]
    },
    {
     "name": "stdout",
     "output_type": "stream",
     "text": [
      "--------------------------------\n",
      "| batch_size        | 2048     |\n",
      "| bc/               |          |\n",
      "|    batch          | 1989     |\n",
      "|    ent_loss       | 0.00115  |\n",
      "|    entropy        | -1.15    |\n",
      "|    epoch          | 199      |\n",
      "|    l2_loss        | 0        |\n",
      "|    l2_norm        | 3.75e+03 |\n",
      "|    loss           | -1.88    |\n",
      "|    neglogp        | -1.88    |\n",
      "|    prob_true_act  | 6.65     |\n",
      "|    samples_so_far | 4075520  |\n",
      "--------------------------------\n"
     ]
    },
    {
     "name": "stderr",
     "output_type": "stream",
     "text": [
      "2000batch [11:56,  2.94batch/s]"
     ]
    },
    {
     "name": "stdout",
     "output_type": "stream",
     "text": [
      "--------------------------------\n",
      "| batch_size        | 2048     |\n",
      "| bc/               |          |\n",
      "|    batch          | 1999     |\n",
      "|    ent_loss       | 0.00117  |\n",
      "|    entropy        | -1.17    |\n",
      "|    epoch          | 200      |\n",
      "|    l2_loss        | 0        |\n",
      "|    l2_norm        | 3.75e+03 |\n",
      "|    loss           | -2.05    |\n",
      "|    neglogp        | -2.06    |\n",
      "|    prob_true_act  | 7.87     |\n",
      "|    samples_so_far | 4096000  |\n",
      "--------------------------------\n"
     ]
    },
    {
     "name": "stderr",
     "output_type": "stream",
     "text": [
      "2010batch [12:00,  3.00batch/s]"
     ]
    },
    {
     "name": "stdout",
     "output_type": "stream",
     "text": [
      "--------------------------------\n",
      "| batch_size        | 2048     |\n",
      "| bc/               |          |\n",
      "|    batch          | 2009     |\n",
      "|    ent_loss       | 0.00119  |\n",
      "|    entropy        | -1.19    |\n",
      "|    epoch          | 201      |\n",
      "|    l2_loss        | 0        |\n",
      "|    l2_norm        | 3.76e+03 |\n",
      "|    loss           | -2.13    |\n",
      "|    neglogp        | -2.13    |\n",
      "|    prob_true_act  | 8.44     |\n",
      "|    samples_so_far | 4116480  |\n",
      "--------------------------------\n"
     ]
    },
    {
     "name": "stderr",
     "output_type": "stream",
     "text": [
      "2020batch [12:03,  3.01batch/s]"
     ]
    },
    {
     "name": "stdout",
     "output_type": "stream",
     "text": [
      "--------------------------------\n",
      "| batch_size        | 2048     |\n",
      "| bc/               |          |\n",
      "|    batch          | 2019     |\n",
      "|    ent_loss       | 0.00121  |\n",
      "|    entropy        | -1.21    |\n",
      "|    epoch          | 202      |\n",
      "|    l2_loss        | 0        |\n",
      "|    l2_norm        | 3.76e+03 |\n",
      "|    loss           | -2.16    |\n",
      "|    neglogp        | -2.16    |\n",
      "|    prob_true_act  | 8.72     |\n",
      "|    samples_so_far | 4136960  |\n",
      "--------------------------------\n"
     ]
    },
    {
     "name": "stderr",
     "output_type": "stream",
     "text": [
      "2030batch [12:07,  2.46batch/s]"
     ]
    },
    {
     "name": "stdout",
     "output_type": "stream",
     "text": [
      "--------------------------------\n",
      "| batch_size        | 2048     |\n",
      "| bc/               |          |\n",
      "|    batch          | 2029     |\n",
      "|    ent_loss       | 0.00123  |\n",
      "|    entropy        | -1.23    |\n",
      "|    epoch          | 203      |\n",
      "|    l2_loss        | 0        |\n",
      "|    l2_norm        | 3.77e+03 |\n",
      "|    loss           | -2.18    |\n",
      "|    neglogp        | -2.18    |\n",
      "|    prob_true_act  | 8.93     |\n",
      "|    samples_so_far | 4157440  |\n",
      "--------------------------------\n"
     ]
    },
    {
     "name": "stderr",
     "output_type": "stream",
     "text": [
      "2040batch [12:10,  3.00batch/s]"
     ]
    },
    {
     "name": "stdout",
     "output_type": "stream",
     "text": [
      "--------------------------------\n",
      "| batch_size        | 2048     |\n",
      "| bc/               |          |\n",
      "|    batch          | 2039     |\n",
      "|    ent_loss       | 0.00125  |\n",
      "|    entropy        | -1.25    |\n",
      "|    epoch          | 204      |\n",
      "|    l2_loss        | 0        |\n",
      "|    l2_norm        | 3.77e+03 |\n",
      "|    loss           | -2.21    |\n",
      "|    neglogp        | -2.21    |\n",
      "|    prob_true_act  | 9.15     |\n",
      "|    samples_so_far | 4177920  |\n",
      "--------------------------------\n"
     ]
    },
    {
     "name": "stderr",
     "output_type": "stream",
     "text": [
      "2050batch [12:14,  3.00batch/s]"
     ]
    },
    {
     "name": "stdout",
     "output_type": "stream",
     "text": [
      "--------------------------------\n",
      "| batch_size        | 2048     |\n",
      "| bc/               |          |\n",
      "|    batch          | 2049     |\n",
      "|    ent_loss       | 0.00127  |\n",
      "|    entropy        | -1.27    |\n",
      "|    epoch          | 205      |\n",
      "|    l2_loss        | 0        |\n",
      "|    l2_norm        | 3.78e+03 |\n",
      "|    loss           | -2.15    |\n",
      "|    neglogp        | -2.15    |\n",
      "|    prob_true_act  | 8.7      |\n",
      "|    samples_so_far | 4198400  |\n",
      "--------------------------------\n"
     ]
    },
    {
     "name": "stderr",
     "output_type": "stream",
     "text": [
      "2060batch [12:17,  2.97batch/s]"
     ]
    },
    {
     "name": "stdout",
     "output_type": "stream",
     "text": [
      "--------------------------------\n",
      "| batch_size        | 2048     |\n",
      "| bc/               |          |\n",
      "|    batch          | 2059     |\n",
      "|    ent_loss       | 0.00129  |\n",
      "|    entropy        | -1.29    |\n",
      "|    epoch          | 206      |\n",
      "|    l2_loss        | 0        |\n",
      "|    l2_norm        | 3.78e+03 |\n",
      "|    loss           | -2.21    |\n",
      "|    neglogp        | -2.21    |\n",
      "|    prob_true_act  | 9.36     |\n",
      "|    samples_so_far | 4218880  |\n",
      "--------------------------------\n"
     ]
    },
    {
     "name": "stderr",
     "output_type": "stream",
     "text": [
      "2070batch [12:21,  2.96batch/s]"
     ]
    },
    {
     "name": "stdout",
     "output_type": "stream",
     "text": [
      "--------------------------------\n",
      "| batch_size        | 2048     |\n",
      "| bc/               |          |\n",
      "|    batch          | 2069     |\n",
      "|    ent_loss       | 0.00131  |\n",
      "|    entropy        | -1.31    |\n",
      "|    epoch          | 207      |\n",
      "|    l2_loss        | 0        |\n",
      "|    l2_norm        | 3.79e+03 |\n",
      "|    loss           | -2.22    |\n",
      "|    neglogp        | -2.22    |\n",
      "|    prob_true_act  | 9.3      |\n",
      "|    samples_so_far | 4239360  |\n",
      "--------------------------------\n"
     ]
    },
    {
     "name": "stderr",
     "output_type": "stream",
     "text": [
      "2080batch [12:25,  2.98batch/s]"
     ]
    },
    {
     "name": "stdout",
     "output_type": "stream",
     "text": [
      "--------------------------------\n",
      "| batch_size        | 2048     |\n",
      "| bc/               |          |\n",
      "|    batch          | 2079     |\n",
      "|    ent_loss       | 0.00133  |\n",
      "|    entropy        | -1.33    |\n",
      "|    epoch          | 208      |\n",
      "|    l2_loss        | 0        |\n",
      "|    l2_norm        | 3.79e+03 |\n",
      "|    loss           | -2.28    |\n",
      "|    neglogp        | -2.28    |\n",
      "|    prob_true_act  | 9.85     |\n",
      "|    samples_so_far | 4259840  |\n",
      "--------------------------------\n"
     ]
    },
    {
     "name": "stderr",
     "output_type": "stream",
     "text": [
      "2090batch [12:28,  2.46batch/s]"
     ]
    },
    {
     "name": "stdout",
     "output_type": "stream",
     "text": [
      "--------------------------------\n",
      "| batch_size        | 2048     |\n",
      "| bc/               |          |\n",
      "|    batch          | 2089     |\n",
      "|    ent_loss       | 0.00135  |\n",
      "|    entropy        | -1.35    |\n",
      "|    epoch          | 209      |\n",
      "|    l2_loss        | 0        |\n",
      "|    l2_norm        | 3.8e+03  |\n",
      "|    loss           | -2.12    |\n",
      "|    neglogp        | -2.12    |\n",
      "|    prob_true_act  | 8.47     |\n",
      "|    samples_so_far | 4280320  |\n",
      "--------------------------------\n"
     ]
    },
    {
     "name": "stderr",
     "output_type": "stream",
     "text": [
      "2100batch [12:32,  2.95batch/s]"
     ]
    },
    {
     "name": "stdout",
     "output_type": "stream",
     "text": [
      "--------------------------------\n",
      "| batch_size        | 2048     |\n",
      "| bc/               |          |\n",
      "|    batch          | 2099     |\n",
      "|    ent_loss       | 0.00137  |\n",
      "|    entropy        | -1.37    |\n",
      "|    epoch          | 210      |\n",
      "|    l2_loss        | 0        |\n",
      "|    l2_norm        | 3.8e+03  |\n",
      "|    loss           | -2.25    |\n",
      "|    neglogp        | -2.25    |\n",
      "|    prob_true_act  | 9.66     |\n",
      "|    samples_so_far | 4300800  |\n",
      "--------------------------------\n"
     ]
    },
    {
     "name": "stderr",
     "output_type": "stream",
     "text": [
      "2110batch [12:36,  2.44batch/s]"
     ]
    },
    {
     "name": "stdout",
     "output_type": "stream",
     "text": [
      "--------------------------------\n",
      "| batch_size        | 2048     |\n",
      "| bc/               |          |\n",
      "|    batch          | 2109     |\n",
      "|    ent_loss       | 0.00139  |\n",
      "|    entropy        | -1.39    |\n",
      "|    epoch          | 211      |\n",
      "|    l2_loss        | 0        |\n",
      "|    l2_norm        | 3.81e+03 |\n",
      "|    loss           | -2.3     |\n",
      "|    neglogp        | -2.3     |\n",
      "|    prob_true_act  | 10.1     |\n",
      "|    samples_so_far | 4321280  |\n",
      "--------------------------------\n"
     ]
    },
    {
     "name": "stderr",
     "output_type": "stream",
     "text": [
      "2120batch [12:40,  3.00batch/s]"
     ]
    },
    {
     "name": "stdout",
     "output_type": "stream",
     "text": [
      "--------------------------------\n",
      "| batch_size        | 2048     |\n",
      "| bc/               |          |\n",
      "|    batch          | 2119     |\n",
      "|    ent_loss       | 0.00141  |\n",
      "|    entropy        | -1.41    |\n",
      "|    epoch          | 212      |\n",
      "|    l2_loss        | 0        |\n",
      "|    l2_norm        | 3.82e+03 |\n",
      "|    loss           | -2.36    |\n",
      "|    neglogp        | -2.36    |\n",
      "|    prob_true_act  | 10.6     |\n",
      "|    samples_so_far | 4341760  |\n",
      "--------------------------------\n"
     ]
    },
    {
     "name": "stderr",
     "output_type": "stream",
     "text": [
      "2130batch [12:43,  2.99batch/s]"
     ]
    },
    {
     "name": "stdout",
     "output_type": "stream",
     "text": [
      "--------------------------------\n",
      "| batch_size        | 2048     |\n",
      "| bc/               |          |\n",
      "|    batch          | 2129     |\n",
      "|    ent_loss       | 0.00143  |\n",
      "|    entropy        | -1.43    |\n",
      "|    epoch          | 213      |\n",
      "|    l2_loss        | 0        |\n",
      "|    l2_norm        | 3.82e+03 |\n",
      "|    loss           | -2.29    |\n",
      "|    neglogp        | -2.29    |\n",
      "|    prob_true_act  | 10.1     |\n",
      "|    samples_so_far | 4362240  |\n",
      "--------------------------------\n"
     ]
    },
    {
     "name": "stderr",
     "output_type": "stream",
     "text": [
      "2140batch [12:47,  2.88batch/s]"
     ]
    },
    {
     "name": "stdout",
     "output_type": "stream",
     "text": [
      "--------------------------------\n",
      "| batch_size        | 2048     |\n",
      "| bc/               |          |\n",
      "|    batch          | 2139     |\n",
      "|    ent_loss       | 0.00145  |\n",
      "|    entropy        | -1.45    |\n",
      "|    epoch          | 214      |\n",
      "|    l2_loss        | 0        |\n",
      "|    l2_norm        | 3.83e+03 |\n",
      "|    loss           | -2.13    |\n",
      "|    neglogp        | -2.13    |\n",
      "|    prob_true_act  | 8.82     |\n",
      "|    samples_so_far | 4382720  |\n",
      "--------------------------------\n"
     ]
    },
    {
     "name": "stderr",
     "output_type": "stream",
     "text": [
      "2150batch [12:50,  3.02batch/s]"
     ]
    },
    {
     "name": "stdout",
     "output_type": "stream",
     "text": [
      "--------------------------------\n",
      "| batch_size        | 2048     |\n",
      "| bc/               |          |\n",
      "|    batch          | 2149     |\n",
      "|    ent_loss       | 0.00147  |\n",
      "|    entropy        | -1.47    |\n",
      "|    epoch          | 215      |\n",
      "|    l2_loss        | 0        |\n",
      "|    l2_norm        | 3.84e+03 |\n",
      "|    loss           | -2.35    |\n",
      "|    neglogp        | -2.35    |\n",
      "|    prob_true_act  | 10.7     |\n",
      "|    samples_so_far | 4403200  |\n",
      "--------------------------------\n"
     ]
    },
    {
     "name": "stderr",
     "output_type": "stream",
     "text": [
      "2160batch [12:54,  2.94batch/s]"
     ]
    },
    {
     "name": "stdout",
     "output_type": "stream",
     "text": [
      "--------------------------------\n",
      "| batch_size        | 2048     |\n",
      "| bc/               |          |\n",
      "|    batch          | 2159     |\n",
      "|    ent_loss       | 0.00148  |\n",
      "|    entropy        | -1.48    |\n",
      "|    epoch          | 216      |\n",
      "|    l2_loss        | 0        |\n",
      "|    l2_norm        | 3.85e+03 |\n",
      "|    loss           | -2.33    |\n",
      "|    neglogp        | -2.33    |\n",
      "|    prob_true_act  | 10.5     |\n",
      "|    samples_so_far | 4423680  |\n",
      "--------------------------------\n"
     ]
    },
    {
     "name": "stderr",
     "output_type": "stream",
     "text": [
      "2170batch [12:59,  1.99batch/s]"
     ]
    },
    {
     "name": "stdout",
     "output_type": "stream",
     "text": [
      "--------------------------------\n",
      "| batch_size        | 2048     |\n",
      "| bc/               |          |\n",
      "|    batch          | 2169     |\n",
      "|    ent_loss       | 0.0015   |\n",
      "|    entropy        | -1.5     |\n",
      "|    epoch          | 217      |\n",
      "|    l2_loss        | 0        |\n",
      "|    l2_norm        | 3.86e+03 |\n",
      "|    loss           | -2.35    |\n",
      "|    neglogp        | -2.35    |\n",
      "|    prob_true_act  | 10.8     |\n",
      "|    samples_so_far | 4444160  |\n",
      "--------------------------------\n"
     ]
    },
    {
     "name": "stderr",
     "output_type": "stream",
     "text": [
      "2180batch [13:02,  2.97batch/s]"
     ]
    },
    {
     "name": "stdout",
     "output_type": "stream",
     "text": [
      "--------------------------------\n",
      "| batch_size        | 2048     |\n",
      "| bc/               |          |\n",
      "|    batch          | 2179     |\n",
      "|    ent_loss       | 0.00152  |\n",
      "|    entropy        | -1.52    |\n",
      "|    epoch          | 218      |\n",
      "|    l2_loss        | 0        |\n",
      "|    l2_norm        | 3.87e+03 |\n",
      "|    loss           | -2.41    |\n",
      "|    neglogp        | -2.41    |\n",
      "|    prob_true_act  | 11.2     |\n",
      "|    samples_so_far | 4464640  |\n",
      "--------------------------------\n"
     ]
    },
    {
     "name": "stderr",
     "output_type": "stream",
     "text": [
      "2190batch [13:06,  3.02batch/s]"
     ]
    },
    {
     "name": "stdout",
     "output_type": "stream",
     "text": [
      "--------------------------------\n",
      "| batch_size        | 2048     |\n",
      "| bc/               |          |\n",
      "|    batch          | 2189     |\n",
      "|    ent_loss       | 0.00154  |\n",
      "|    entropy        | -1.54    |\n",
      "|    epoch          | 219      |\n",
      "|    l2_loss        | 0        |\n",
      "|    l2_norm        | 3.88e+03 |\n",
      "|    loss           | -2.4     |\n",
      "|    neglogp        | -2.4     |\n",
      "|    prob_true_act  | 11.3     |\n",
      "|    samples_so_far | 4485120  |\n",
      "--------------------------------\n"
     ]
    },
    {
     "name": "stderr",
     "output_type": "stream",
     "text": [
      "2200batch [13:09,  3.00batch/s]"
     ]
    },
    {
     "name": "stdout",
     "output_type": "stream",
     "text": [
      "--------------------------------\n",
      "| batch_size        | 2048     |\n",
      "| bc/               |          |\n",
      "|    batch          | 2199     |\n",
      "|    ent_loss       | 0.00156  |\n",
      "|    entropy        | -1.56    |\n",
      "|    epoch          | 220      |\n",
      "|    l2_loss        | 0        |\n",
      "|    l2_norm        | 3.88e+03 |\n",
      "|    loss           | -2.45    |\n",
      "|    neglogp        | -2.45    |\n",
      "|    prob_true_act  | 11.8     |\n",
      "|    samples_so_far | 4505600  |\n",
      "--------------------------------\n"
     ]
    },
    {
     "name": "stderr",
     "output_type": "stream",
     "text": [
      "2210batch [13:13,  2.51batch/s]"
     ]
    },
    {
     "name": "stdout",
     "output_type": "stream",
     "text": [
      "--------------------------------\n",
      "| batch_size        | 2048     |\n",
      "| bc/               |          |\n",
      "|    batch          | 2209     |\n",
      "|    ent_loss       | 0.00158  |\n",
      "|    entropy        | -1.58    |\n",
      "|    epoch          | 221      |\n",
      "|    l2_loss        | 0        |\n",
      "|    l2_norm        | 3.89e+03 |\n",
      "|    loss           | -2.5     |\n",
      "|    neglogp        | -2.5     |\n",
      "|    prob_true_act  | 12.4     |\n",
      "|    samples_so_far | 4526080  |\n",
      "--------------------------------\n"
     ]
    },
    {
     "name": "stderr",
     "output_type": "stream",
     "text": [
      "2220batch [13:17,  2.92batch/s]"
     ]
    },
    {
     "name": "stdout",
     "output_type": "stream",
     "text": [
      "--------------------------------\n",
      "| batch_size        | 2048     |\n",
      "| bc/               |          |\n",
      "|    batch          | 2219     |\n",
      "|    ent_loss       | 0.0016   |\n",
      "|    entropy        | -1.6     |\n",
      "|    epoch          | 222      |\n",
      "|    l2_loss        | 0        |\n",
      "|    l2_norm        | 3.89e+03 |\n",
      "|    loss           | -2.48    |\n",
      "|    neglogp        | -2.48    |\n",
      "|    prob_true_act  | 12.1     |\n",
      "|    samples_so_far | 4546560  |\n",
      "--------------------------------\n"
     ]
    },
    {
     "name": "stderr",
     "output_type": "stream",
     "text": [
      "2230batch [13:21,  2.30batch/s]"
     ]
    },
    {
     "name": "stdout",
     "output_type": "stream",
     "text": [
      "--------------------------------\n",
      "| batch_size        | 2048     |\n",
      "| bc/               |          |\n",
      "|    batch          | 2229     |\n",
      "|    ent_loss       | 0.00162  |\n",
      "|    entropy        | -1.62    |\n",
      "|    epoch          | 223      |\n",
      "|    l2_loss        | 0        |\n",
      "|    l2_norm        | 3.9e+03  |\n",
      "|    loss           | -2.52    |\n",
      "|    neglogp        | -2.52    |\n",
      "|    prob_true_act  | 12.6     |\n",
      "|    samples_so_far | 4567040  |\n",
      "--------------------------------\n"
     ]
    },
    {
     "name": "stderr",
     "output_type": "stream",
     "text": [
      "2240batch [13:24,  2.98batch/s]"
     ]
    },
    {
     "name": "stdout",
     "output_type": "stream",
     "text": [
      "--------------------------------\n",
      "| batch_size        | 2048     |\n",
      "| bc/               |          |\n",
      "|    batch          | 2239     |\n",
      "|    ent_loss       | 0.00164  |\n",
      "|    entropy        | -1.64    |\n",
      "|    epoch          | 224      |\n",
      "|    l2_loss        | 0        |\n",
      "|    l2_norm        | 3.9e+03  |\n",
      "|    loss           | -2.56    |\n",
      "|    neglogp        | -2.57    |\n",
      "|    prob_true_act  | 13.2     |\n",
      "|    samples_so_far | 4587520  |\n",
      "--------------------------------\n"
     ]
    },
    {
     "name": "stderr",
     "output_type": "stream",
     "text": [
      "2250batch [13:28,  2.98batch/s]"
     ]
    },
    {
     "name": "stdout",
     "output_type": "stream",
     "text": [
      "--------------------------------\n",
      "| batch_size        | 2048     |\n",
      "| bc/               |          |\n",
      "|    batch          | 2249     |\n",
      "|    ent_loss       | 0.00166  |\n",
      "|    entropy        | -1.66    |\n",
      "|    epoch          | 225      |\n",
      "|    l2_loss        | 0        |\n",
      "|    l2_norm        | 3.91e+03 |\n",
      "|    loss           | -2.24    |\n",
      "|    neglogp        | -2.24    |\n",
      "|    prob_true_act  | 10.1     |\n",
      "|    samples_so_far | 4608000  |\n",
      "--------------------------------\n"
     ]
    },
    {
     "name": "stderr",
     "output_type": "stream",
     "text": [
      "2260batch [13:31,  2.68batch/s]"
     ]
    },
    {
     "name": "stdout",
     "output_type": "stream",
     "text": [
      "--------------------------------\n",
      "| batch_size        | 2048     |\n",
      "| bc/               |          |\n",
      "|    batch          | 2259     |\n",
      "|    ent_loss       | 0.00168  |\n",
      "|    entropy        | -1.68    |\n",
      "|    epoch          | 226      |\n",
      "|    l2_loss        | 0        |\n",
      "|    l2_norm        | 3.92e+03 |\n",
      "|    loss           | -2.55    |\n",
      "|    neglogp        | -2.55    |\n",
      "|    prob_true_act  | 13.1     |\n",
      "|    samples_so_far | 4628480  |\n",
      "--------------------------------\n"
     ]
    },
    {
     "name": "stderr",
     "output_type": "stream",
     "text": [
      "2270batch [13:35,  2.93batch/s]"
     ]
    },
    {
     "name": "stdout",
     "output_type": "stream",
     "text": [
      "--------------------------------\n",
      "| batch_size        | 2048     |\n",
      "| bc/               |          |\n",
      "|    batch          | 2269     |\n",
      "|    ent_loss       | 0.0017   |\n",
      "|    entropy        | -1.7     |\n",
      "|    epoch          | 227      |\n",
      "|    l2_loss        | 0        |\n",
      "|    l2_norm        | 3.93e+03 |\n",
      "|    loss           | -2.56    |\n",
      "|    neglogp        | -2.56    |\n",
      "|    prob_true_act  | 13.2     |\n",
      "|    samples_so_far | 4648960  |\n",
      "--------------------------------\n"
     ]
    },
    {
     "name": "stderr",
     "output_type": "stream",
     "text": [
      "2280batch [13:39,  2.99batch/s]"
     ]
    },
    {
     "name": "stdout",
     "output_type": "stream",
     "text": [
      "--------------------------------\n",
      "| batch_size        | 2048     |\n",
      "| bc/               |          |\n",
      "|    batch          | 2279     |\n",
      "|    ent_loss       | 0.00171  |\n",
      "|    entropy        | -1.71    |\n",
      "|    epoch          | 228      |\n",
      "|    l2_loss        | 0        |\n",
      "|    l2_norm        | 3.94e+03 |\n",
      "|    loss           | -2.59    |\n",
      "|    neglogp        | -2.59    |\n",
      "|    prob_true_act  | 13.8     |\n",
      "|    samples_so_far | 4669440  |\n",
      "--------------------------------\n"
     ]
    },
    {
     "name": "stderr",
     "output_type": "stream",
     "text": [
      "2290batch [13:42,  3.01batch/s]"
     ]
    },
    {
     "name": "stdout",
     "output_type": "stream",
     "text": [
      "--------------------------------\n",
      "| batch_size        | 2048     |\n",
      "| bc/               |          |\n",
      "|    batch          | 2289     |\n",
      "|    ent_loss       | 0.00173  |\n",
      "|    entropy        | -1.73    |\n",
      "|    epoch          | 229      |\n",
      "|    l2_loss        | 0        |\n",
      "|    l2_norm        | 3.94e+03 |\n",
      "|    loss           | -2.56    |\n",
      "|    neglogp        | -2.57    |\n",
      "|    prob_true_act  | 13.3     |\n",
      "|    samples_so_far | 4689920  |\n",
      "--------------------------------\n"
     ]
    },
    {
     "name": "stderr",
     "output_type": "stream",
     "text": [
      "2300batch [13:46,  2.57batch/s]"
     ]
    },
    {
     "name": "stdout",
     "output_type": "stream",
     "text": [
      "--------------------------------\n",
      "| batch_size        | 2048     |\n",
      "| bc/               |          |\n",
      "|    batch          | 2299     |\n",
      "|    ent_loss       | 0.00175  |\n",
      "|    entropy        | -1.75    |\n",
      "|    epoch          | 230      |\n",
      "|    l2_loss        | 0        |\n",
      "|    l2_norm        | 3.95e+03 |\n",
      "|    loss           | -2.66    |\n",
      "|    neglogp        | -2.66    |\n",
      "|    prob_true_act  | 14.5     |\n",
      "|    samples_so_far | 4710400  |\n",
      "--------------------------------\n"
     ]
    },
    {
     "name": "stderr",
     "output_type": "stream",
     "text": [
      "2310batch [13:50,  2.92batch/s]"
     ]
    },
    {
     "name": "stdout",
     "output_type": "stream",
     "text": [
      "--------------------------------\n",
      "| batch_size        | 2048     |\n",
      "| bc/               |          |\n",
      "|    batch          | 2309     |\n",
      "|    ent_loss       | 0.00177  |\n",
      "|    entropy        | -1.77    |\n",
      "|    epoch          | 231      |\n",
      "|    l2_loss        | 0        |\n",
      "|    l2_norm        | 3.96e+03 |\n",
      "|    loss           | -2.7     |\n",
      "|    neglogp        | -2.7     |\n",
      "|    prob_true_act  | 15       |\n",
      "|    samples_so_far | 4730880  |\n",
      "--------------------------------\n"
     ]
    },
    {
     "name": "stderr",
     "output_type": "stream",
     "text": [
      "2320batch [13:53,  2.89batch/s]"
     ]
    },
    {
     "name": "stdout",
     "output_type": "stream",
     "text": [
      "--------------------------------\n",
      "| batch_size        | 2048     |\n",
      "| bc/               |          |\n",
      "|    batch          | 2319     |\n",
      "|    ent_loss       | 0.00179  |\n",
      "|    entropy        | -1.79    |\n",
      "|    epoch          | 232      |\n",
      "|    l2_loss        | 0        |\n",
      "|    l2_norm        | 3.96e+03 |\n",
      "|    loss           | -2.59    |\n",
      "|    neglogp        | -2.6     |\n",
      "|    prob_true_act  | 13.7     |\n",
      "|    samples_so_far | 4751360  |\n",
      "--------------------------------\n"
     ]
    },
    {
     "name": "stderr",
     "output_type": "stream",
     "text": [
      "2330batch [13:57,  3.01batch/s]"
     ]
    },
    {
     "name": "stdout",
     "output_type": "stream",
     "text": [
      "--------------------------------\n",
      "| batch_size        | 2048     |\n",
      "| bc/               |          |\n",
      "|    batch          | 2329     |\n",
      "|    ent_loss       | 0.00181  |\n",
      "|    entropy        | -1.81    |\n",
      "|    epoch          | 233      |\n",
      "|    l2_loss        | 0        |\n",
      "|    l2_norm        | 3.97e+03 |\n",
      "|    loss           | -1.39    |\n",
      "|    neglogp        | -1.39    |\n",
      "|    prob_true_act  | 8.71     |\n",
      "|    samples_so_far | 4771840  |\n",
      "--------------------------------\n"
     ]
    },
    {
     "name": "stderr",
     "output_type": "stream",
     "text": [
      "2340batch [14:00,  2.89batch/s]"
     ]
    },
    {
     "name": "stdout",
     "output_type": "stream",
     "text": [
      "--------------------------------\n",
      "| batch_size        | 2048     |\n",
      "| bc/               |          |\n",
      "|    batch          | 2339     |\n",
      "|    ent_loss       | 0.00181  |\n",
      "|    entropy        | -1.81    |\n",
      "|    epoch          | 234      |\n",
      "|    l2_loss        | 0        |\n",
      "|    l2_norm        | 4e+03    |\n",
      "|    loss           | -0.393   |\n",
      "|    neglogp        | -0.394   |\n",
      "|    prob_true_act  | 3.93     |\n",
      "|    samples_so_far | 4792320  |\n",
      "--------------------------------\n"
     ]
    },
    {
     "name": "stderr",
     "output_type": "stream",
     "text": [
      "2350batch [14:04,  2.98batch/s]"
     ]
    },
    {
     "name": "stdout",
     "output_type": "stream",
     "text": [
      "--------------------------------\n",
      "| batch_size        | 2048     |\n",
      "| bc/               |          |\n",
      "|    batch          | 2349     |\n",
      "|    ent_loss       | 0.0018   |\n",
      "|    entropy        | -1.8     |\n",
      "|    epoch          | 235      |\n",
      "|    l2_loss        | 0        |\n",
      "|    l2_norm        | 4.05e+03 |\n",
      "|    loss           | -1.1     |\n",
      "|    neglogp        | -1.11    |\n",
      "|    prob_true_act  | 8.27     |\n",
      "|    samples_so_far | 4812800  |\n",
      "--------------------------------\n"
     ]
    },
    {
     "name": "stderr",
     "output_type": "stream",
     "text": [
      "2360batch [14:08,  2.57batch/s]"
     ]
    },
    {
     "name": "stdout",
     "output_type": "stream",
     "text": [
      "--------------------------------\n",
      "| batch_size        | 2048     |\n",
      "| bc/               |          |\n",
      "|    batch          | 2359     |\n",
      "|    ent_loss       | 0.00179  |\n",
      "|    entropy        | -1.79    |\n",
      "|    epoch          | 236      |\n",
      "|    l2_loss        | 0        |\n",
      "|    l2_norm        | 4.09e+03 |\n",
      "|    loss           | -1.87    |\n",
      "|    neglogp        | -1.87    |\n",
      "|    prob_true_act  | 9.5      |\n",
      "|    samples_so_far | 4833280  |\n",
      "--------------------------------\n"
     ]
    },
    {
     "name": "stderr",
     "output_type": "stream",
     "text": [
      "2370batch [14:12,  2.93batch/s]"
     ]
    },
    {
     "name": "stdout",
     "output_type": "stream",
     "text": [
      "--------------------------------\n",
      "| batch_size        | 2048     |\n",
      "| bc/               |          |\n",
      "|    batch          | 2369     |\n",
      "|    ent_loss       | 0.00179  |\n",
      "|    entropy        | -1.79    |\n",
      "|    epoch          | 237      |\n",
      "|    l2_loss        | 0        |\n",
      "|    l2_norm        | 4.13e+03 |\n",
      "|    loss           | -2.27    |\n",
      "|    neglogp        | -2.27    |\n",
      "|    prob_true_act  | 11.7     |\n",
      "|    samples_so_far | 4853760  |\n",
      "--------------------------------\n"
     ]
    },
    {
     "name": "stderr",
     "output_type": "stream",
     "text": [
      "2380batch [14:15,  3.04batch/s]"
     ]
    },
    {
     "name": "stdout",
     "output_type": "stream",
     "text": [
      "--------------------------------\n",
      "| batch_size        | 2048     |\n",
      "| bc/               |          |\n",
      "|    batch          | 2379     |\n",
      "|    ent_loss       | 0.0018   |\n",
      "|    entropy        | -1.8     |\n",
      "|    epoch          | 238      |\n",
      "|    l2_loss        | 0        |\n",
      "|    l2_norm        | 4.16e+03 |\n",
      "|    loss           | -2.48    |\n",
      "|    neglogp        | -2.48    |\n",
      "|    prob_true_act  | 13       |\n",
      "|    samples_so_far | 4874240  |\n",
      "--------------------------------\n"
     ]
    },
    {
     "name": "stderr",
     "output_type": "stream",
     "text": [
      "2390batch [14:19,  2.89batch/s]"
     ]
    },
    {
     "name": "stdout",
     "output_type": "stream",
     "text": [
      "--------------------------------\n",
      "| batch_size        | 2048     |\n",
      "| bc/               |          |\n",
      "|    batch          | 2389     |\n",
      "|    ent_loss       | 0.00181  |\n",
      "|    entropy        | -1.81    |\n",
      "|    epoch          | 239      |\n",
      "|    l2_loss        | 0        |\n",
      "|    l2_norm        | 4.17e+03 |\n",
      "|    loss           | -2.62    |\n",
      "|    neglogp        | -2.63    |\n",
      "|    prob_true_act  | 14.3     |\n",
      "|    samples_so_far | 4894720  |\n",
      "--------------------------------\n"
     ]
    },
    {
     "name": "stderr",
     "output_type": "stream",
     "text": [
      "2400batch [14:23,  3.01batch/s]"
     ]
    },
    {
     "name": "stdout",
     "output_type": "stream",
     "text": [
      "--------------------------------\n",
      "| batch_size        | 2048     |\n",
      "| bc/               |          |\n",
      "|    batch          | 2399     |\n",
      "|    ent_loss       | 0.00183  |\n",
      "|    entropy        | -1.83    |\n",
      "|    epoch          | 240      |\n",
      "|    l2_loss        | 0        |\n",
      "|    l2_norm        | 4.18e+03 |\n",
      "|    loss           | -2.68    |\n",
      "|    neglogp        | -2.68    |\n",
      "|    prob_true_act  | 15       |\n",
      "|    samples_so_far | 4915200  |\n",
      "--------------------------------\n"
     ]
    },
    {
     "name": "stderr",
     "output_type": "stream",
     "text": [
      "2410batch [14:26,  2.99batch/s]"
     ]
    },
    {
     "name": "stdout",
     "output_type": "stream",
     "text": [
      "--------------------------------\n",
      "| batch_size        | 2048     |\n",
      "| bc/               |          |\n",
      "|    batch          | 2409     |\n",
      "|    ent_loss       | 0.00185  |\n",
      "|    entropy        | -1.85    |\n",
      "|    epoch          | 241      |\n",
      "|    l2_loss        | 0        |\n",
      "|    l2_norm        | 4.19e+03 |\n",
      "|    loss           | -2.74    |\n",
      "|    neglogp        | -2.74    |\n",
      "|    prob_true_act  | 15.8     |\n",
      "|    samples_so_far | 4935680  |\n",
      "--------------------------------\n"
     ]
    },
    {
     "name": "stderr",
     "output_type": "stream",
     "text": [
      "2420batch [14:30,  2.89batch/s]"
     ]
    },
    {
     "name": "stdout",
     "output_type": "stream",
     "text": [
      "--------------------------------\n",
      "| batch_size        | 2048     |\n",
      "| bc/               |          |\n",
      "|    batch          | 2419     |\n",
      "|    ent_loss       | 0.00187  |\n",
      "|    entropy        | -1.87    |\n",
      "|    epoch          | 242      |\n",
      "|    l2_loss        | 0        |\n",
      "|    l2_norm        | 4.19e+03 |\n",
      "|    loss           | -2.78    |\n",
      "|    neglogp        | -2.78    |\n",
      "|    prob_true_act  | 16.4     |\n",
      "|    samples_so_far | 4956160  |\n",
      "--------------------------------\n"
     ]
    },
    {
     "name": "stderr",
     "output_type": "stream",
     "text": [
      "2430batch [14:34,  3.00batch/s]"
     ]
    },
    {
     "name": "stdout",
     "output_type": "stream",
     "text": [
      "--------------------------------\n",
      "| batch_size        | 2048     |\n",
      "| bc/               |          |\n",
      "|    batch          | 2429     |\n",
      "|    ent_loss       | 0.00189  |\n",
      "|    entropy        | -1.89    |\n",
      "|    epoch          | 243      |\n",
      "|    l2_loss        | 0        |\n",
      "|    l2_norm        | 4.2e+03  |\n",
      "|    loss           | -2.82    |\n",
      "|    neglogp        | -2.82    |\n",
      "|    prob_true_act  | 16.9     |\n",
      "|    samples_so_far | 4976640  |\n",
      "--------------------------------\n"
     ]
    },
    {
     "name": "stderr",
     "output_type": "stream",
     "text": [
      "2440batch [14:37,  2.96batch/s]"
     ]
    },
    {
     "name": "stdout",
     "output_type": "stream",
     "text": [
      "--------------------------------\n",
      "| batch_size        | 2048     |\n",
      "| bc/               |          |\n",
      "|    batch          | 2439     |\n",
      "|    ent_loss       | 0.00191  |\n",
      "|    entropy        | -1.91    |\n",
      "|    epoch          | 244      |\n",
      "|    l2_loss        | 0        |\n",
      "|    l2_norm        | 4.2e+03  |\n",
      "|    loss           | -2.85    |\n",
      "|    neglogp        | -2.85    |\n",
      "|    prob_true_act  | 17.4     |\n",
      "|    samples_so_far | 4997120  |\n",
      "--------------------------------\n"
     ]
    },
    {
     "name": "stderr",
     "output_type": "stream",
     "text": [
      "2450batch [14:41,  3.01batch/s]"
     ]
    },
    {
     "name": "stdout",
     "output_type": "stream",
     "text": [
      "--------------------------------\n",
      "| batch_size        | 2048     |\n",
      "| bc/               |          |\n",
      "|    batch          | 2449     |\n",
      "|    ent_loss       | 0.00193  |\n",
      "|    entropy        | -1.93    |\n",
      "|    epoch          | 245      |\n",
      "|    l2_loss        | 0        |\n",
      "|    l2_norm        | 4.2e+03  |\n",
      "|    loss           | -2.88    |\n",
      "|    neglogp        | -2.88    |\n",
      "|    prob_true_act  | 17.9     |\n",
      "|    samples_so_far | 5017600  |\n",
      "--------------------------------\n"
     ]
    },
    {
     "name": "stderr",
     "output_type": "stream",
     "text": [
      "2460batch [14:44,  2.98batch/s]"
     ]
    },
    {
     "name": "stdout",
     "output_type": "stream",
     "text": [
      "--------------------------------\n",
      "| batch_size        | 2048     |\n",
      "| bc/               |          |\n",
      "|    batch          | 2459     |\n",
      "|    ent_loss       | 0.00195  |\n",
      "|    entropy        | -1.95    |\n",
      "|    epoch          | 246      |\n",
      "|    l2_loss        | 0        |\n",
      "|    l2_norm        | 4.2e+03  |\n",
      "|    loss           | -2.9     |\n",
      "|    neglogp        | -2.9     |\n",
      "|    prob_true_act  | 18.3     |\n",
      "|    samples_so_far | 5038080  |\n",
      "--------------------------------\n"
     ]
    },
    {
     "name": "stderr",
     "output_type": "stream",
     "text": [
      "2470batch [14:48,  2.94batch/s]"
     ]
    },
    {
     "name": "stdout",
     "output_type": "stream",
     "text": [
      "--------------------------------\n",
      "| batch_size        | 2048     |\n",
      "| bc/               |          |\n",
      "|    batch          | 2469     |\n",
      "|    ent_loss       | 0.00197  |\n",
      "|    entropy        | -1.97    |\n",
      "|    epoch          | 247      |\n",
      "|    l2_loss        | 0        |\n",
      "|    l2_norm        | 4.21e+03 |\n",
      "|    loss           | -2.87    |\n",
      "|    neglogp        | -2.88    |\n",
      "|    prob_true_act  | 17.9     |\n",
      "|    samples_so_far | 5058560  |\n",
      "--------------------------------\n"
     ]
    },
    {
     "name": "stderr",
     "output_type": "stream",
     "text": [
      "2480batch [14:51,  3.00batch/s]"
     ]
    },
    {
     "name": "stdout",
     "output_type": "stream",
     "text": [
      "--------------------------------\n",
      "| batch_size        | 2048     |\n",
      "| bc/               |          |\n",
      "|    batch          | 2479     |\n",
      "|    ent_loss       | 0.00199  |\n",
      "|    entropy        | -1.99    |\n",
      "|    epoch          | 248      |\n",
      "|    l2_loss        | 0        |\n",
      "|    l2_norm        | 4.21e+03 |\n",
      "|    loss           | -2.94    |\n",
      "|    neglogp        | -2.94    |\n",
      "|    prob_true_act  | 19.1     |\n",
      "|    samples_so_far | 5079040  |\n",
      "--------------------------------\n"
     ]
    },
    {
     "name": "stderr",
     "output_type": "stream",
     "text": [
      "2490batch [14:55,  2.98batch/s]"
     ]
    },
    {
     "name": "stdout",
     "output_type": "stream",
     "text": [
      "--------------------------------\n",
      "| batch_size        | 2048     |\n",
      "| bc/               |          |\n",
      "|    batch          | 2489     |\n",
      "|    ent_loss       | 0.00201  |\n",
      "|    entropy        | -2.01    |\n",
      "|    epoch          | 249      |\n",
      "|    l2_loss        | 0        |\n",
      "|    l2_norm        | 4.21e+03 |\n",
      "|    loss           | -2.97    |\n",
      "|    neglogp        | -2.97    |\n",
      "|    prob_true_act  | 19.6     |\n",
      "|    samples_so_far | 5099520  |\n",
      "--------------------------------\n"
     ]
    },
    {
     "name": "stderr",
     "output_type": "stream",
     "text": [
      "2500batch [14:59,  2.17batch/s]"
     ]
    },
    {
     "name": "stdout",
     "output_type": "stream",
     "text": [
      "--------------------------------\n",
      "| batch_size        | 2048     |\n",
      "| bc/               |          |\n",
      "|    batch          | 2499     |\n",
      "|    ent_loss       | 0.00203  |\n",
      "|    entropy        | -2.03    |\n",
      "|    epoch          | 250      |\n",
      "|    l2_loss        | 0        |\n",
      "|    l2_norm        | 4.21e+03 |\n",
      "|    loss           | -2.97    |\n",
      "|    neglogp        | -2.98    |\n",
      "|    prob_true_act  | 19.9     |\n",
      "|    samples_so_far | 5120000  |\n",
      "--------------------------------\n"
     ]
    },
    {
     "name": "stderr",
     "output_type": "stream",
     "text": [
      "2510batch [15:03,  2.95batch/s]"
     ]
    },
    {
     "name": "stdout",
     "output_type": "stream",
     "text": [
      "--------------------------------\n",
      "| batch_size        | 2048     |\n",
      "| bc/               |          |\n",
      "|    batch          | 2509     |\n",
      "|    ent_loss       | 0.00205  |\n",
      "|    entropy        | -2.05    |\n",
      "|    epoch          | 251      |\n",
      "|    l2_loss        | 0        |\n",
      "|    l2_norm        | 4.22e+03 |\n",
      "|    loss           | -2.99    |\n",
      "|    neglogp        | -2.99    |\n",
      "|    prob_true_act  | 20.2     |\n",
      "|    samples_so_far | 5140480  |\n",
      "--------------------------------\n"
     ]
    },
    {
     "name": "stderr",
     "output_type": "stream",
     "text": [
      "2520batch [15:06,  3.00batch/s]"
     ]
    },
    {
     "name": "stdout",
     "output_type": "stream",
     "text": [
      "--------------------------------\n",
      "| batch_size        | 2048     |\n",
      "| bc/               |          |\n",
      "|    batch          | 2519     |\n",
      "|    ent_loss       | 0.00207  |\n",
      "|    entropy        | -2.07    |\n",
      "|    epoch          | 252      |\n",
      "|    l2_loss        | 0        |\n",
      "|    l2_norm        | 4.22e+03 |\n",
      "|    loss           | -3.02    |\n",
      "|    neglogp        | -3.03    |\n",
      "|    prob_true_act  | 20.9     |\n",
      "|    samples_so_far | 5160960  |\n",
      "--------------------------------\n"
     ]
    },
    {
     "name": "stderr",
     "output_type": "stream",
     "text": [
      "2530batch [15:11,  2.13batch/s]"
     ]
    },
    {
     "name": "stdout",
     "output_type": "stream",
     "text": [
      "--------------------------------\n",
      "| batch_size        | 2048     |\n",
      "| bc/               |          |\n",
      "|    batch          | 2529     |\n",
      "|    ent_loss       | 0.00209  |\n",
      "|    entropy        | -2.09    |\n",
      "|    epoch          | 253      |\n",
      "|    l2_loss        | 0        |\n",
      "|    l2_norm        | 4.22e+03 |\n",
      "|    loss           | -2.5     |\n",
      "|    neglogp        | -2.5     |\n",
      "|    prob_true_act  | 12.9     |\n",
      "|    samples_so_far | 5181440  |\n",
      "--------------------------------\n"
     ]
    },
    {
     "name": "stderr",
     "output_type": "stream",
     "text": [
      "2540batch [15:14,  3.01batch/s]"
     ]
    },
    {
     "name": "stdout",
     "output_type": "stream",
     "text": [
      "--------------------------------\n",
      "| batch_size        | 2048     |\n",
      "| bc/               |          |\n",
      "|    batch          | 2539     |\n",
      "|    ent_loss       | 0.00211  |\n",
      "|    entropy        | -2.11    |\n",
      "|    epoch          | 254      |\n",
      "|    l2_loss        | 0        |\n",
      "|    l2_norm        | 4.23e+03 |\n",
      "|    loss           | -3       |\n",
      "|    neglogp        | -3       |\n",
      "|    prob_true_act  | 20.6     |\n",
      "|    samples_so_far | 5201920  |\n",
      "--------------------------------\n"
     ]
    },
    {
     "name": "stderr",
     "output_type": "stream",
     "text": [
      "2550batch [15:18,  2.95batch/s]"
     ]
    },
    {
     "name": "stdout",
     "output_type": "stream",
     "text": [
      "--------------------------------\n",
      "| batch_size        | 2048     |\n",
      "| bc/               |          |\n",
      "|    batch          | 2549     |\n",
      "|    ent_loss       | 0.00213  |\n",
      "|    entropy        | -2.13    |\n",
      "|    epoch          | 255      |\n",
      "|    l2_loss        | 0        |\n",
      "|    l2_norm        | 4.24e+03 |\n",
      "|    loss           | -2.94    |\n",
      "|    neglogp        | -2.95    |\n",
      "|    prob_true_act  | 19.5     |\n",
      "|    samples_so_far | 5222400  |\n",
      "--------------------------------\n"
     ]
    },
    {
     "name": "stderr",
     "output_type": "stream",
     "text": [
      "2560batch [15:22,  2.98batch/s]"
     ]
    },
    {
     "name": "stdout",
     "output_type": "stream",
     "text": [
      "--------------------------------\n",
      "| batch_size        | 2048     |\n",
      "| bc/               |          |\n",
      "|    batch          | 2559     |\n",
      "|    ent_loss       | 0.00215  |\n",
      "|    entropy        | -2.15    |\n",
      "|    epoch          | 256      |\n",
      "|    l2_loss        | 0        |\n",
      "|    l2_norm        | 4.25e+03 |\n",
      "|    loss           | -3.04    |\n",
      "|    neglogp        | -3.04    |\n",
      "|    prob_true_act  | 21.4     |\n",
      "|    samples_so_far | 5242880  |\n",
      "--------------------------------\n"
     ]
    },
    {
     "name": "stderr",
     "output_type": "stream",
     "text": [
      "2570batch [15:25,  2.95batch/s]"
     ]
    },
    {
     "name": "stdout",
     "output_type": "stream",
     "text": [
      "--------------------------------\n",
      "| batch_size        | 2048     |\n",
      "| bc/               |          |\n",
      "|    batch          | 2569     |\n",
      "|    ent_loss       | 0.00217  |\n",
      "|    entropy        | -2.17    |\n",
      "|    epoch          | 257      |\n",
      "|    l2_loss        | 0        |\n",
      "|    l2_norm        | 4.25e+03 |\n",
      "|    loss           | -3.09    |\n",
      "|    neglogp        | -3.1     |\n",
      "|    prob_true_act  | 22.5     |\n",
      "|    samples_so_far | 5263360  |\n",
      "--------------------------------\n"
     ]
    },
    {
     "name": "stderr",
     "output_type": "stream",
     "text": [
      "2580batch [15:29,  2.97batch/s]"
     ]
    },
    {
     "name": "stdout",
     "output_type": "stream",
     "text": [
      "--------------------------------\n",
      "| batch_size        | 2048     |\n",
      "| bc/               |          |\n",
      "|    batch          | 2579     |\n",
      "|    ent_loss       | 0.00219  |\n",
      "|    entropy        | -2.19    |\n",
      "|    epoch          | 258      |\n",
      "|    l2_loss        | 0        |\n",
      "|    l2_norm        | 4.25e+03 |\n",
      "|    loss           | -3.13    |\n",
      "|    neglogp        | -3.14    |\n",
      "|    prob_true_act  | 23.1     |\n",
      "|    samples_so_far | 5283840  |\n",
      "--------------------------------\n"
     ]
    },
    {
     "name": "stderr",
     "output_type": "stream",
     "text": [
      "2590batch [15:33,  1.77batch/s]"
     ]
    },
    {
     "name": "stdout",
     "output_type": "stream",
     "text": [
      "--------------------------------\n",
      "| batch_size        | 2048     |\n",
      "| bc/               |          |\n",
      "|    batch          | 2589     |\n",
      "|    ent_loss       | 0.00221  |\n",
      "|    entropy        | -2.21    |\n",
      "|    epoch          | 259      |\n",
      "|    l2_loss        | 0        |\n",
      "|    l2_norm        | 4.25e+03 |\n",
      "|    loss           | -3.16    |\n",
      "|    neglogp        | -3.16    |\n",
      "|    prob_true_act  | 23.7     |\n",
      "|    samples_so_far | 5304320  |\n",
      "--------------------------------\n"
     ]
    },
    {
     "name": "stderr",
     "output_type": "stream",
     "text": [
      "2600batch [15:37,  2.91batch/s]"
     ]
    },
    {
     "name": "stdout",
     "output_type": "stream",
     "text": [
      "--------------------------------\n",
      "| batch_size        | 2048     |\n",
      "| bc/               |          |\n",
      "|    batch          | 2599     |\n",
      "|    ent_loss       | 0.00223  |\n",
      "|    entropy        | -2.23    |\n",
      "|    epoch          | 260      |\n",
      "|    l2_loss        | 0        |\n",
      "|    l2_norm        | 4.26e+03 |\n",
      "|    loss           | -3.16    |\n",
      "|    neglogp        | -3.16    |\n",
      "|    prob_true_act  | 23.9     |\n",
      "|    samples_so_far | 5324800  |\n",
      "--------------------------------\n"
     ]
    },
    {
     "name": "stderr",
     "output_type": "stream",
     "text": [
      "2610batch [15:40,  2.99batch/s]"
     ]
    },
    {
     "name": "stdout",
     "output_type": "stream",
     "text": [
      "--------------------------------\n",
      "| batch_size        | 2048     |\n",
      "| bc/               |          |\n",
      "|    batch          | 2609     |\n",
      "|    ent_loss       | 0.00225  |\n",
      "|    entropy        | -2.25    |\n",
      "|    epoch          | 261      |\n",
      "|    l2_loss        | 0        |\n",
      "|    l2_norm        | 4.26e+03 |\n",
      "|    loss           | -3.1     |\n",
      "|    neglogp        | -3.1     |\n",
      "|    prob_true_act  | 22.6     |\n",
      "|    samples_so_far | 5345280  |\n",
      "--------------------------------\n"
     ]
    },
    {
     "name": "stderr",
     "output_type": "stream",
     "text": [
      "2620batch [15:44,  2.52batch/s]"
     ]
    },
    {
     "name": "stdout",
     "output_type": "stream",
     "text": [
      "--------------------------------\n",
      "| batch_size        | 2048     |\n",
      "| bc/               |          |\n",
      "|    batch          | 2619     |\n",
      "|    ent_loss       | 0.00227  |\n",
      "|    entropy        | -2.27    |\n",
      "|    epoch          | 262      |\n",
      "|    l2_loss        | 0        |\n",
      "|    l2_norm        | 4.26e+03 |\n",
      "|    loss           | -3.19    |\n",
      "|    neglogp        | -3.19    |\n",
      "|    prob_true_act  | 24.5     |\n",
      "|    samples_so_far | 5365760  |\n",
      "--------------------------------\n"
     ]
    },
    {
     "name": "stderr",
     "output_type": "stream",
     "text": [
      "2630batch [15:48,  2.93batch/s]"
     ]
    },
    {
     "name": "stdout",
     "output_type": "stream",
     "text": [
      "--------------------------------\n",
      "| batch_size        | 2048     |\n",
      "| bc/               |          |\n",
      "|    batch          | 2629     |\n",
      "|    ent_loss       | 0.00229  |\n",
      "|    entropy        | -2.29    |\n",
      "|    epoch          | 263      |\n",
      "|    l2_loss        | 0        |\n",
      "|    l2_norm        | 4.27e+03 |\n",
      "|    loss           | -3.17    |\n",
      "|    neglogp        | -3.18    |\n",
      "|    prob_true_act  | 24.6     |\n",
      "|    samples_so_far | 5386240  |\n",
      "--------------------------------\n"
     ]
    },
    {
     "name": "stderr",
     "output_type": "stream",
     "text": [
      "2640batch [15:51,  2.94batch/s]"
     ]
    },
    {
     "name": "stdout",
     "output_type": "stream",
     "text": [
      "--------------------------------\n",
      "| batch_size        | 2048     |\n",
      "| bc/               |          |\n",
      "|    batch          | 2639     |\n",
      "|    ent_loss       | 0.00231  |\n",
      "|    entropy        | -2.31    |\n",
      "|    epoch          | 264      |\n",
      "|    l2_loss        | 0        |\n",
      "|    l2_norm        | 4.27e+03 |\n",
      "|    loss           | -3.18    |\n",
      "|    neglogp        | -3.18    |\n",
      "|    prob_true_act  | 24.4     |\n",
      "|    samples_so_far | 5406720  |\n",
      "--------------------------------\n"
     ]
    },
    {
     "name": "stderr",
     "output_type": "stream",
     "text": [
      "2650batch [15:55,  3.00batch/s]"
     ]
    },
    {
     "name": "stdout",
     "output_type": "stream",
     "text": [
      "--------------------------------\n",
      "| batch_size        | 2048     |\n",
      "| bc/               |          |\n",
      "|    batch          | 2649     |\n",
      "|    ent_loss       | 0.00233  |\n",
      "|    entropy        | -2.33    |\n",
      "|    epoch          | 265      |\n",
      "|    l2_loss        | 0        |\n",
      "|    l2_norm        | 4.28e+03 |\n",
      "|    loss           | -3.13    |\n",
      "|    neglogp        | -3.14    |\n",
      "|    prob_true_act  | 23.4     |\n",
      "|    samples_so_far | 5427200  |\n",
      "--------------------------------\n"
     ]
    },
    {
     "name": "stderr",
     "output_type": "stream",
     "text": [
      "2660batch [15:58,  2.98batch/s]"
     ]
    },
    {
     "name": "stdout",
     "output_type": "stream",
     "text": [
      "--------------------------------\n",
      "| batch_size        | 2048     |\n",
      "| bc/               |          |\n",
      "|    batch          | 2659     |\n",
      "|    ent_loss       | 0.00234  |\n",
      "|    entropy        | -2.34    |\n",
      "|    epoch          | 266      |\n",
      "|    l2_loss        | 0        |\n",
      "|    l2_norm        | 4.28e+03 |\n",
      "|    loss           | -3.23    |\n",
      "|    neglogp        | -3.24    |\n",
      "|    prob_true_act  | 26       |\n",
      "|    samples_so_far | 5447680  |\n",
      "--------------------------------\n"
     ]
    },
    {
     "name": "stderr",
     "output_type": "stream",
     "text": [
      "2670batch [16:02,  2.99batch/s]"
     ]
    },
    {
     "name": "stdout",
     "output_type": "stream",
     "text": [
      "--------------------------------\n",
      "| batch_size        | 2048     |\n",
      "| bc/               |          |\n",
      "|    batch          | 2669     |\n",
      "|    ent_loss       | 0.00236  |\n",
      "|    entropy        | -2.36    |\n",
      "|    epoch          | 267      |\n",
      "|    l2_loss        | 0        |\n",
      "|    l2_norm        | 4.29e+03 |\n",
      "|    loss           | -3.23    |\n",
      "|    neglogp        | -3.23    |\n",
      "|    prob_true_act  | 25.7     |\n",
      "|    samples_so_far | 5468160  |\n",
      "--------------------------------\n"
     ]
    },
    {
     "name": "stderr",
     "output_type": "stream",
     "text": [
      "2680batch [16:06,  2.71batch/s]"
     ]
    },
    {
     "name": "stdout",
     "output_type": "stream",
     "text": [
      "--------------------------------\n",
      "| batch_size        | 2048     |\n",
      "| bc/               |          |\n",
      "|    batch          | 2679     |\n",
      "|    ent_loss       | 0.00238  |\n",
      "|    entropy        | -2.38    |\n",
      "|    epoch          | 268      |\n",
      "|    l2_loss        | 0        |\n",
      "|    l2_norm        | 4.3e+03  |\n",
      "|    loss           | -3.24    |\n",
      "|    neglogp        | -3.25    |\n",
      "|    prob_true_act  | 26.1     |\n",
      "|    samples_so_far | 5488640  |\n",
      "--------------------------------\n"
     ]
    },
    {
     "name": "stderr",
     "output_type": "stream",
     "text": [
      "2690batch [16:09,  2.98batch/s]"
     ]
    },
    {
     "name": "stdout",
     "output_type": "stream",
     "text": [
      "--------------------------------\n",
      "| batch_size        | 2048     |\n",
      "| bc/               |          |\n",
      "|    batch          | 2689     |\n",
      "|    ent_loss       | 0.0024   |\n",
      "|    entropy        | -2.4     |\n",
      "|    epoch          | 269      |\n",
      "|    l2_loss        | 0        |\n",
      "|    l2_norm        | 4.3e+03  |\n",
      "|    loss           | -3.29    |\n",
      "|    neglogp        | -3.3     |\n",
      "|    prob_true_act  | 27.4     |\n",
      "|    samples_so_far | 5509120  |\n",
      "--------------------------------\n"
     ]
    },
    {
     "name": "stderr",
     "output_type": "stream",
     "text": [
      "2700batch [16:13,  2.84batch/s]"
     ]
    },
    {
     "name": "stdout",
     "output_type": "stream",
     "text": [
      "--------------------------------\n",
      "| batch_size        | 2048     |\n",
      "| bc/               |          |\n",
      "|    batch          | 2699     |\n",
      "|    ent_loss       | 0.00242  |\n",
      "|    entropy        | -2.42    |\n",
      "|    epoch          | 270      |\n",
      "|    l2_loss        | 0        |\n",
      "|    l2_norm        | 4.31e+03 |\n",
      "|    loss           | -3.1     |\n",
      "|    neglogp        | -3.1     |\n",
      "|    prob_true_act  | 23.3     |\n",
      "|    samples_so_far | 5529600  |\n",
      "--------------------------------\n"
     ]
    },
    {
     "name": "stderr",
     "output_type": "stream",
     "text": [
      "2710batch [16:16,  2.96batch/s]"
     ]
    },
    {
     "name": "stdout",
     "output_type": "stream",
     "text": [
      "--------------------------------\n",
      "| batch_size        | 2048     |\n",
      "| bc/               |          |\n",
      "|    batch          | 2709     |\n",
      "|    ent_loss       | 0.00243  |\n",
      "|    entropy        | -2.43    |\n",
      "|    epoch          | 271      |\n",
      "|    l2_loss        | 0        |\n",
      "|    l2_norm        | 4.32e+03 |\n",
      "|    loss           | -3.17    |\n",
      "|    neglogp        | -3.18    |\n",
      "|    prob_true_act  | 24.7     |\n",
      "|    samples_so_far | 5550080  |\n",
      "--------------------------------\n"
     ]
    },
    {
     "name": "stderr",
     "output_type": "stream",
     "text": [
      "2720batch [16:21,  2.57batch/s]"
     ]
    },
    {
     "name": "stdout",
     "output_type": "stream",
     "text": [
      "--------------------------------\n",
      "| batch_size        | 2048     |\n",
      "| bc/               |          |\n",
      "|    batch          | 2719     |\n",
      "|    ent_loss       | 0.00245  |\n",
      "|    entropy        | -2.45    |\n",
      "|    epoch          | 272      |\n",
      "|    l2_loss        | 0        |\n",
      "|    l2_norm        | 4.32e+03 |\n",
      "|    loss           | -3.3     |\n",
      "|    neglogp        | -3.3     |\n",
      "|    prob_true_act  | 28.3     |\n",
      "|    samples_so_far | 5570560  |\n",
      "--------------------------------\n"
     ]
    },
    {
     "name": "stderr",
     "output_type": "stream",
     "text": [
      "2730batch [16:25,  2.88batch/s]"
     ]
    },
    {
     "name": "stdout",
     "output_type": "stream",
     "text": [
      "--------------------------------\n",
      "| batch_size        | 2048     |\n",
      "| bc/               |          |\n",
      "|    batch          | 2729     |\n",
      "|    ent_loss       | 0.00247  |\n",
      "|    entropy        | -2.47    |\n",
      "|    epoch          | 273      |\n",
      "|    l2_loss        | 0        |\n",
      "|    l2_norm        | 4.33e+03 |\n",
      "|    loss           | -3.36    |\n",
      "|    neglogp        | -3.36    |\n",
      "|    prob_true_act  | 29.3     |\n",
      "|    samples_so_far | 5591040  |\n",
      "--------------------------------\n"
     ]
    },
    {
     "name": "stderr",
     "output_type": "stream",
     "text": [
      "2740batch [16:29,  2.96batch/s]"
     ]
    },
    {
     "name": "stdout",
     "output_type": "stream",
     "text": [
      "--------------------------------\n",
      "| batch_size        | 2048     |\n",
      "| bc/               |          |\n",
      "|    batch          | 2739     |\n",
      "|    ent_loss       | 0.00249  |\n",
      "|    entropy        | -2.49    |\n",
      "|    epoch          | 274      |\n",
      "|    l2_loss        | 0        |\n",
      "|    l2_norm        | 4.33e+03 |\n",
      "|    loss           | -3.34    |\n",
      "|    neglogp        | -3.34    |\n",
      "|    prob_true_act  | 29.7     |\n",
      "|    samples_so_far | 5611520  |\n",
      "--------------------------------\n"
     ]
    },
    {
     "name": "stderr",
     "output_type": "stream",
     "text": [
      "2750batch [16:33,  2.45batch/s]"
     ]
    },
    {
     "name": "stdout",
     "output_type": "stream",
     "text": [
      "--------------------------------\n",
      "| batch_size        | 2048     |\n",
      "| bc/               |          |\n",
      "|    batch          | 2749     |\n",
      "|    ent_loss       | 0.00251  |\n",
      "|    entropy        | -2.51    |\n",
      "|    epoch          | 275      |\n",
      "|    l2_loss        | 0        |\n",
      "|    l2_norm        | 4.34e+03 |\n",
      "|    loss           | -3.21    |\n",
      "|    neglogp        | -3.21    |\n",
      "|    prob_true_act  | 25.4     |\n",
      "|    samples_so_far | 5632000  |\n",
      "--------------------------------\n"
     ]
    },
    {
     "name": "stderr",
     "output_type": "stream",
     "text": [
      "2760batch [16:36,  2.97batch/s]"
     ]
    },
    {
     "name": "stdout",
     "output_type": "stream",
     "text": [
      "--------------------------------\n",
      "| batch_size        | 2048     |\n",
      "| bc/               |          |\n",
      "|    batch          | 2759     |\n",
      "|    ent_loss       | 0.00253  |\n",
      "|    entropy        | -2.53    |\n",
      "|    epoch          | 276      |\n",
      "|    l2_loss        | 0        |\n",
      "|    l2_norm        | 4.34e+03 |\n",
      "|    loss           | -3.38    |\n",
      "|    neglogp        | -3.38    |\n",
      "|    prob_true_act  | 30.3     |\n",
      "|    samples_so_far | 5652480  |\n",
      "--------------------------------\n"
     ]
    },
    {
     "name": "stderr",
     "output_type": "stream",
     "text": [
      "2770batch [16:40,  2.94batch/s]"
     ]
    },
    {
     "name": "stdout",
     "output_type": "stream",
     "text": [
      "--------------------------------\n",
      "| batch_size        | 2048     |\n",
      "| bc/               |          |\n",
      "|    batch          | 2769     |\n",
      "|    ent_loss       | 0.00254  |\n",
      "|    entropy        | -2.54    |\n",
      "|    epoch          | 277      |\n",
      "|    l2_loss        | 0        |\n",
      "|    l2_norm        | 4.35e+03 |\n",
      "|    loss           | -3.41    |\n",
      "|    neglogp        | -3.41    |\n",
      "|    prob_true_act  | 31.3     |\n",
      "|    samples_so_far | 5672960  |\n",
      "--------------------------------\n"
     ]
    },
    {
     "name": "stderr",
     "output_type": "stream",
     "text": [
      "2780batch [16:43,  2.97batch/s]"
     ]
    },
    {
     "name": "stdout",
     "output_type": "stream",
     "text": [
      "--------------------------------\n",
      "| batch_size        | 2048     |\n",
      "| bc/               |          |\n",
      "|    batch          | 2779     |\n",
      "|    ent_loss       | 0.00256  |\n",
      "|    entropy        | -2.56    |\n",
      "|    epoch          | 278      |\n",
      "|    l2_loss        | 0        |\n",
      "|    l2_norm        | 4.36e+03 |\n",
      "|    loss           | -3.45    |\n",
      "|    neglogp        | -3.45    |\n",
      "|    prob_true_act  | 32.5     |\n",
      "|    samples_so_far | 5693440  |\n",
      "--------------------------------\n"
     ]
    },
    {
     "name": "stderr",
     "output_type": "stream",
     "text": [
      "2790batch [16:47,  2.66batch/s]"
     ]
    },
    {
     "name": "stdout",
     "output_type": "stream",
     "text": [
      "--------------------------------\n",
      "| batch_size        | 2048     |\n",
      "| bc/               |          |\n",
      "|    batch          | 2789     |\n",
      "|    ent_loss       | 0.00258  |\n",
      "|    entropy        | -2.58    |\n",
      "|    epoch          | 279      |\n",
      "|    l2_loss        | 0        |\n",
      "|    l2_norm        | 4.36e+03 |\n",
      "|    loss           | -3.3     |\n",
      "|    neglogp        | -3.31    |\n",
      "|    prob_true_act  | 29.3     |\n",
      "|    samples_so_far | 5713920  |\n",
      "--------------------------------\n"
     ]
    },
    {
     "name": "stderr",
     "output_type": "stream",
     "text": [
      "2800batch [16:50,  2.97batch/s]"
     ]
    },
    {
     "name": "stdout",
     "output_type": "stream",
     "text": [
      "--------------------------------\n",
      "| batch_size        | 2048     |\n",
      "| bc/               |          |\n",
      "|    batch          | 2799     |\n",
      "|    ent_loss       | 0.0026   |\n",
      "|    entropy        | -2.6     |\n",
      "|    epoch          | 280      |\n",
      "|    l2_loss        | 0        |\n",
      "|    l2_norm        | 4.37e+03 |\n",
      "|    loss           | -3.44    |\n",
      "|    neglogp        | -3.45    |\n",
      "|    prob_true_act  | 32.7     |\n",
      "|    samples_so_far | 5734400  |\n",
      "--------------------------------\n"
     ]
    },
    {
     "name": "stderr",
     "output_type": "stream",
     "text": [
      "2810batch [16:54,  3.00batch/s]"
     ]
    },
    {
     "name": "stdout",
     "output_type": "stream",
     "text": [
      "--------------------------------\n",
      "| batch_size        | 2048     |\n",
      "| bc/               |          |\n",
      "|    batch          | 2809     |\n",
      "|    ent_loss       | 0.00261  |\n",
      "|    entropy        | -2.61    |\n",
      "|    epoch          | 281      |\n",
      "|    l2_loss        | 0        |\n",
      "|    l2_norm        | 4.38e+03 |\n",
      "|    loss           | -3.37    |\n",
      "|    neglogp        | -3.37    |\n",
      "|    prob_true_act  | 30.5     |\n",
      "|    samples_so_far | 5754880  |\n",
      "--------------------------------\n"
     ]
    },
    {
     "name": "stderr",
     "output_type": "stream",
     "text": [
      "2820batch [16:58,  2.92batch/s]"
     ]
    },
    {
     "name": "stdout",
     "output_type": "stream",
     "text": [
      "--------------------------------\n",
      "| batch_size        | 2048     |\n",
      "| bc/               |          |\n",
      "|    batch          | 2819     |\n",
      "|    ent_loss       | 0.00263  |\n",
      "|    entropy        | -2.63    |\n",
      "|    epoch          | 282      |\n",
      "|    l2_loss        | 0        |\n",
      "|    l2_norm        | 4.39e+03 |\n",
      "|    loss           | -3.47    |\n",
      "|    neglogp        | -3.47    |\n",
      "|    prob_true_act  | 33.8     |\n",
      "|    samples_so_far | 5775360  |\n",
      "--------------------------------\n"
     ]
    },
    {
     "name": "stderr",
     "output_type": "stream",
     "text": [
      "2830batch [17:01,  3.01batch/s]"
     ]
    },
    {
     "name": "stdout",
     "output_type": "stream",
     "text": [
      "--------------------------------\n",
      "| batch_size        | 2048     |\n",
      "| bc/               |          |\n",
      "|    batch          | 2829     |\n",
      "|    ent_loss       | 0.00265  |\n",
      "|    entropy        | -2.65    |\n",
      "|    epoch          | 283      |\n",
      "|    l2_loss        | 0        |\n",
      "|    l2_norm        | 4.39e+03 |\n",
      "|    loss           | -3.39    |\n",
      "|    neglogp        | -3.4     |\n",
      "|    prob_true_act  | 30.7     |\n",
      "|    samples_so_far | 5795840  |\n",
      "--------------------------------\n"
     ]
    },
    {
     "name": "stderr",
     "output_type": "stream",
     "text": [
      "2840batch [17:05,  2.99batch/s]"
     ]
    },
    {
     "name": "stdout",
     "output_type": "stream",
     "text": [
      "--------------------------------\n",
      "| batch_size        | 2048     |\n",
      "| bc/               |          |\n",
      "|    batch          | 2839     |\n",
      "|    ent_loss       | 0.00266  |\n",
      "|    entropy        | -2.66    |\n",
      "|    epoch          | 284      |\n",
      "|    l2_loss        | 0        |\n",
      "|    l2_norm        | 4.4e+03  |\n",
      "|    loss           | -2.45    |\n",
      "|    neglogp        | -2.45    |\n",
      "|    prob_true_act  | 19.1     |\n",
      "|    samples_so_far | 5816320  |\n",
      "--------------------------------\n"
     ]
    },
    {
     "name": "stderr",
     "output_type": "stream",
     "text": [
      "2850batch [17:08,  2.95batch/s]"
     ]
    },
    {
     "name": "stdout",
     "output_type": "stream",
     "text": [
      "--------------------------------\n",
      "| batch_size        | 2048     |\n",
      "| bc/               |          |\n",
      "|    batch          | 2849     |\n",
      "|    ent_loss       | 0.00265  |\n",
      "|    entropy        | -2.65    |\n",
      "|    epoch          | 285      |\n",
      "|    l2_loss        | 0        |\n",
      "|    l2_norm        | 4.43e+03 |\n",
      "|    loss           | 7.91     |\n",
      "|    neglogp        | 7.9      |\n",
      "|    prob_true_act  | 2.35     |\n",
      "|    samples_so_far | 5836800  |\n",
      "--------------------------------\n"
     ]
    },
    {
     "name": "stderr",
     "output_type": "stream",
     "text": [
      "2860batch [17:12,  3.00batch/s]"
     ]
    },
    {
     "name": "stdout",
     "output_type": "stream",
     "text": [
      "--------------------------------\n",
      "| batch_size        | 2048     |\n",
      "| bc/               |          |\n",
      "|    batch          | 2859     |\n",
      "|    ent_loss       | 0.00255  |\n",
      "|    entropy        | -2.55    |\n",
      "|    epoch          | 286      |\n",
      "|    l2_loss        | 0        |\n",
      "|    l2_norm        | 4.67e+03 |\n",
      "|    loss           | 59.9     |\n",
      "|    neglogp        | 59.9     |\n",
      "|    prob_true_act  | 0.0961   |\n",
      "|    samples_so_far | 5857280  |\n",
      "--------------------------------\n"
     ]
    },
    {
     "name": "stderr",
     "output_type": "stream",
     "text": [
      "2870batch [17:15,  2.98batch/s]"
     ]
    },
    {
     "name": "stdout",
     "output_type": "stream",
     "text": [
      "--------------------------------\n",
      "| batch_size        | 2048     |\n",
      "| bc/               |          |\n",
      "|    batch          | 2869     |\n",
      "|    ent_loss       | 0.00244  |\n",
      "|    entropy        | -2.44    |\n",
      "|    epoch          | 287      |\n",
      "|    l2_loss        | 0        |\n",
      "|    l2_norm        | 4.97e+03 |\n",
      "|    loss           | 11.8     |\n",
      "|    neglogp        | 11.8     |\n",
      "|    prob_true_act  | 2.39     |\n",
      "|    samples_so_far | 5877760  |\n",
      "--------------------------------\n"
     ]
    },
    {
     "name": "stderr",
     "output_type": "stream",
     "text": [
      "2880batch [17:19,  2.34batch/s]"
     ]
    },
    {
     "name": "stdout",
     "output_type": "stream",
     "text": [
      "--------------------------------\n",
      "| batch_size        | 2048     |\n",
      "| bc/               |          |\n",
      "|    batch          | 2879     |\n",
      "|    ent_loss       | 0.00236  |\n",
      "|    entropy        | -2.36    |\n",
      "|    epoch          | 288      |\n",
      "|    l2_loss        | 0        |\n",
      "|    l2_norm        | 5.14e+03 |\n",
      "|    loss           | 8.69     |\n",
      "|    neglogp        | 8.68     |\n",
      "|    prob_true_act  | 5.09     |\n",
      "|    samples_so_far | 5898240  |\n",
      "--------------------------------\n"
     ]
    },
    {
     "name": "stderr",
     "output_type": "stream",
     "text": [
      "2890batch [17:23,  2.93batch/s]"
     ]
    },
    {
     "name": "stdout",
     "output_type": "stream",
     "text": [
      "--------------------------------\n",
      "| batch_size        | 2048     |\n",
      "| bc/               |          |\n",
      "|    batch          | 2889     |\n",
      "|    ent_loss       | 0.00231  |\n",
      "|    entropy        | -2.31    |\n",
      "|    epoch          | 289      |\n",
      "|    l2_loss        | 0        |\n",
      "|    l2_norm        | 5.23e+03 |\n",
      "|    loss           | 6.45     |\n",
      "|    neglogp        | 6.45     |\n",
      "|    prob_true_act  | 4.86     |\n",
      "|    samples_so_far | 5918720  |\n",
      "--------------------------------\n"
     ]
    },
    {
     "name": "stderr",
     "output_type": "stream",
     "text": [
      "2900batch [17:27,  2.85batch/s]"
     ]
    },
    {
     "name": "stdout",
     "output_type": "stream",
     "text": [
      "--------------------------------\n",
      "| batch_size        | 2048     |\n",
      "| bc/               |          |\n",
      "|    batch          | 2899     |\n",
      "|    ent_loss       | 0.00227  |\n",
      "|    entropy        | -2.27    |\n",
      "|    epoch          | 290      |\n",
      "|    l2_loss        | 0        |\n",
      "|    l2_norm        | 5.3e+03  |\n",
      "|    loss           | 6.43     |\n",
      "|    neglogp        | 6.43     |\n",
      "|    prob_true_act  | 5.65     |\n",
      "|    samples_so_far | 5939200  |\n",
      "--------------------------------\n"
     ]
    },
    {
     "name": "stderr",
     "output_type": "stream",
     "text": [
      "2910batch [17:30,  3.00batch/s]"
     ]
    },
    {
     "name": "stdout",
     "output_type": "stream",
     "text": [
      "--------------------------------\n",
      "| batch_size        | 2048     |\n",
      "| bc/               |          |\n",
      "|    batch          | 2909     |\n",
      "|    ent_loss       | 0.00224  |\n",
      "|    entropy        | -2.24    |\n",
      "|    epoch          | 291      |\n",
      "|    l2_loss        | 0        |\n",
      "|    l2_norm        | 5.35e+03 |\n",
      "|    loss           | 4.98     |\n",
      "|    neglogp        | 4.98     |\n",
      "|    prob_true_act  | 5.61     |\n",
      "|    samples_so_far | 5959680  |\n",
      "--------------------------------\n"
     ]
    },
    {
     "name": "stderr",
     "output_type": "stream",
     "text": [
      "2920batch [17:34,  3.00batch/s]"
     ]
    },
    {
     "name": "stdout",
     "output_type": "stream",
     "text": [
      "--------------------------------\n",
      "| batch_size        | 2048     |\n",
      "| bc/               |          |\n",
      "|    batch          | 2919     |\n",
      "|    ent_loss       | 0.00221  |\n",
      "|    entropy        | -2.21    |\n",
      "|    epoch          | 292      |\n",
      "|    l2_loss        | 0        |\n",
      "|    l2_norm        | 5.39e+03 |\n",
      "|    loss           | 4.2      |\n",
      "|    neglogp        | 4.19     |\n",
      "|    prob_true_act  | 5.82     |\n",
      "|    samples_so_far | 5980160  |\n",
      "--------------------------------\n"
     ]
    },
    {
     "name": "stderr",
     "output_type": "stream",
     "text": [
      "2930batch [17:37,  3.02batch/s]"
     ]
    },
    {
     "name": "stdout",
     "output_type": "stream",
     "text": [
      "--------------------------------\n",
      "| batch_size        | 2048     |\n",
      "| bc/               |          |\n",
      "|    batch          | 2929     |\n",
      "|    ent_loss       | 0.00219  |\n",
      "|    entropy        | -2.19    |\n",
      "|    epoch          | 293      |\n",
      "|    l2_loss        | 0        |\n",
      "|    l2_norm        | 5.43e+03 |\n",
      "|    loss           | 3.38     |\n",
      "|    neglogp        | 3.38     |\n",
      "|    prob_true_act  | 5.81     |\n",
      "|    samples_so_far | 6000640  |\n",
      "--------------------------------\n"
     ]
    },
    {
     "name": "stderr",
     "output_type": "stream",
     "text": [
      "2940batch [17:41,  3.01batch/s]"
     ]
    },
    {
     "name": "stdout",
     "output_type": "stream",
     "text": [
      "--------------------------------\n",
      "| batch_size        | 2048     |\n",
      "| bc/               |          |\n",
      "|    batch          | 2939     |\n",
      "|    ent_loss       | 0.00217  |\n",
      "|    entropy        | -2.17    |\n",
      "|    epoch          | 294      |\n",
      "|    l2_loss        | 0        |\n",
      "|    l2_norm        | 5.47e+03 |\n",
      "|    loss           | 2.84     |\n",
      "|    neglogp        | 2.83     |\n",
      "|    prob_true_act  | 7.07     |\n",
      "|    samples_so_far | 6021120  |\n",
      "--------------------------------\n"
     ]
    },
    {
     "name": "stderr",
     "output_type": "stream",
     "text": [
      "2950batch [17:45,  2.90batch/s]"
     ]
    },
    {
     "name": "stdout",
     "output_type": "stream",
     "text": [
      "--------------------------------\n",
      "| batch_size        | 2048     |\n",
      "| bc/               |          |\n",
      "|    batch          | 2949     |\n",
      "|    ent_loss       | 0.00215  |\n",
      "|    entropy        | -2.15    |\n",
      "|    epoch          | 295      |\n",
      "|    l2_loss        | 0        |\n",
      "|    l2_norm        | 5.51e+03 |\n",
      "|    loss           | 2.77     |\n",
      "|    neglogp        | 2.77     |\n",
      "|    prob_true_act  | 5.52     |\n",
      "|    samples_so_far | 6041600  |\n",
      "--------------------------------\n"
     ]
    },
    {
     "name": "stderr",
     "output_type": "stream",
     "text": [
      "2960batch [17:48,  2.88batch/s]"
     ]
    },
    {
     "name": "stdout",
     "output_type": "stream",
     "text": [
      "--------------------------------\n",
      "| batch_size        | 2048     |\n",
      "| bc/               |          |\n",
      "|    batch          | 2959     |\n",
      "|    ent_loss       | 0.00213  |\n",
      "|    entropy        | -2.13    |\n",
      "|    epoch          | 296      |\n",
      "|    l2_loss        | 0        |\n",
      "|    l2_norm        | 5.55e+03 |\n",
      "|    loss           | 2.12     |\n",
      "|    neglogp        | 2.12     |\n",
      "|    prob_true_act  | 6.58     |\n",
      "|    samples_so_far | 6062080  |\n",
      "--------------------------------\n"
     ]
    },
    {
     "name": "stderr",
     "output_type": "stream",
     "text": [
      "2970batch [17:52,  2.96batch/s]"
     ]
    },
    {
     "name": "stdout",
     "output_type": "stream",
     "text": [
      "--------------------------------\n",
      "| batch_size        | 2048     |\n",
      "| bc/               |          |\n",
      "|    batch          | 2969     |\n",
      "|    ent_loss       | 0.00212  |\n",
      "|    entropy        | -2.12    |\n",
      "|    epoch          | 297      |\n",
      "|    l2_loss        | 0        |\n",
      "|    l2_norm        | 5.59e+03 |\n",
      "|    loss           | 1.65     |\n",
      "|    neglogp        | 1.64     |\n",
      "|    prob_true_act  | 7.58     |\n",
      "|    samples_so_far | 6082560  |\n",
      "--------------------------------\n"
     ]
    },
    {
     "name": "stderr",
     "output_type": "stream",
     "text": [
      "2980batch [17:55,  3.00batch/s]"
     ]
    },
    {
     "name": "stdout",
     "output_type": "stream",
     "text": [
      "--------------------------------\n",
      "| batch_size        | 2048     |\n",
      "| bc/               |          |\n",
      "|    batch          | 2979     |\n",
      "|    ent_loss       | 0.0021   |\n",
      "|    entropy        | -2.1     |\n",
      "|    epoch          | 298      |\n",
      "|    l2_loss        | 0        |\n",
      "|    l2_norm        | 5.63e+03 |\n",
      "|    loss           | 1.17     |\n",
      "|    neglogp        | 1.16     |\n",
      "|    prob_true_act  | 7.47     |\n",
      "|    samples_so_far | 6103040  |\n",
      "--------------------------------\n"
     ]
    },
    {
     "name": "stderr",
     "output_type": "stream",
     "text": [
      "2990batch [17:59,  3.00batch/s]"
     ]
    },
    {
     "name": "stdout",
     "output_type": "stream",
     "text": [
      "--------------------------------\n",
      "| batch_size        | 2048     |\n",
      "| bc/               |          |\n",
      "|    batch          | 2989     |\n",
      "|    ent_loss       | 0.00209  |\n",
      "|    entropy        | -2.09    |\n",
      "|    epoch          | 299      |\n",
      "|    l2_loss        | 0        |\n",
      "|    l2_norm        | 5.67e+03 |\n",
      "|    loss           | 1.1      |\n",
      "|    neglogp        | 1.1      |\n",
      "|    prob_true_act  | 7.49     |\n",
      "|    samples_so_far | 6123520  |\n",
      "--------------------------------\n"
     ]
    },
    {
     "name": "stderr",
     "output_type": "stream",
     "text": [
      "3000batch [18:02,  2.89batch/s]"
     ]
    },
    {
     "name": "stdout",
     "output_type": "stream",
     "text": [
      "--------------------------------\n",
      "| batch_size        | 2048     |\n",
      "| bc/               |          |\n",
      "|    batch          | 2999     |\n",
      "|    ent_loss       | 0.00208  |\n",
      "|    entropy        | -2.08    |\n",
      "|    epoch          | 300      |\n",
      "|    l2_loss        | 0        |\n",
      "|    l2_norm        | 5.7e+03  |\n",
      "|    loss           | 0.912    |\n",
      "|    neglogp        | 0.91     |\n",
      "|    prob_true_act  | 6.73     |\n",
      "|    samples_so_far | 6144000  |\n",
      "--------------------------------\n"
     ]
    },
    {
     "name": "stderr",
     "output_type": "stream",
     "text": [
      "3010batch [18:06,  2.86batch/s]"
     ]
    },
    {
     "name": "stdout",
     "output_type": "stream",
     "text": [
      "--------------------------------\n",
      "| batch_size        | 2048     |\n",
      "| bc/               |          |\n",
      "|    batch          | 3009     |\n",
      "|    ent_loss       | 0.00207  |\n",
      "|    entropy        | -2.07    |\n",
      "|    epoch          | 301      |\n",
      "|    l2_loss        | 0        |\n",
      "|    l2_norm        | 5.74e+03 |\n",
      "|    loss           | 0.664    |\n",
      "|    neglogp        | 0.662    |\n",
      "|    prob_true_act  | 8        |\n",
      "|    samples_so_far | 6164480  |\n",
      "--------------------------------\n"
     ]
    },
    {
     "name": "stderr",
     "output_type": "stream",
     "text": [
      "3020batch [18:09,  2.93batch/s]"
     ]
    },
    {
     "name": "stdout",
     "output_type": "stream",
     "text": [
      "--------------------------------\n",
      "| batch_size        | 2048     |\n",
      "| bc/               |          |\n",
      "|    batch          | 3019     |\n",
      "|    ent_loss       | 0.00206  |\n",
      "|    entropy        | -2.06    |\n",
      "|    epoch          | 302      |\n",
      "|    l2_loss        | 0        |\n",
      "|    l2_norm        | 5.77e+03 |\n",
      "|    loss           | 0.191    |\n",
      "|    neglogp        | 0.189    |\n",
      "|    prob_true_act  | 8.04     |\n",
      "|    samples_so_far | 6184960  |\n",
      "--------------------------------\n"
     ]
    },
    {
     "name": "stderr",
     "output_type": "stream",
     "text": [
      "3030batch [18:13,  2.63batch/s]"
     ]
    },
    {
     "name": "stdout",
     "output_type": "stream",
     "text": [
      "--------------------------------\n",
      "| batch_size        | 2048     |\n",
      "| bc/               |          |\n",
      "|    batch          | 3029     |\n",
      "|    ent_loss       | 0.00205  |\n",
      "|    entropy        | -2.05    |\n",
      "|    epoch          | 303      |\n",
      "|    l2_loss        | 0        |\n",
      "|    l2_norm        | 5.8e+03  |\n",
      "|    loss           | 0.0931   |\n",
      "|    neglogp        | 0.0911   |\n",
      "|    prob_true_act  | 8.06     |\n",
      "|    samples_so_far | 6205440  |\n",
      "--------------------------------\n"
     ]
    },
    {
     "name": "stderr",
     "output_type": "stream",
     "text": [
      "3040batch [18:17,  2.81batch/s]"
     ]
    },
    {
     "name": "stdout",
     "output_type": "stream",
     "text": [
      "--------------------------------\n",
      "| batch_size        | 2048     |\n",
      "| bc/               |          |\n",
      "|    batch          | 3039     |\n",
      "|    ent_loss       | 0.00204  |\n",
      "|    entropy        | -2.04    |\n",
      "|    epoch          | 304      |\n",
      "|    l2_loss        | 0        |\n",
      "|    l2_norm        | 5.83e+03 |\n",
      "|    loss           | -0.292   |\n",
      "|    neglogp        | -0.294   |\n",
      "|    prob_true_act  | 8.81     |\n",
      "|    samples_so_far | 6225920  |\n",
      "--------------------------------\n"
     ]
    },
    {
     "name": "stderr",
     "output_type": "stream",
     "text": [
      "3050batch [18:21,  2.81batch/s]"
     ]
    },
    {
     "name": "stdout",
     "output_type": "stream",
     "text": [
      "--------------------------------\n",
      "| batch_size        | 2048     |\n",
      "| bc/               |          |\n",
      "|    batch          | 3049     |\n",
      "|    ent_loss       | 0.00204  |\n",
      "|    entropy        | -2.04    |\n",
      "|    epoch          | 305      |\n",
      "|    l2_loss        | 0        |\n",
      "|    l2_norm        | 5.86e+03 |\n",
      "|    loss           | -0.404   |\n",
      "|    neglogp        | -0.406   |\n",
      "|    prob_true_act  | 8.73     |\n",
      "|    samples_so_far | 6246400  |\n",
      "--------------------------------\n"
     ]
    },
    {
     "name": "stderr",
     "output_type": "stream",
     "text": [
      "3060batch [18:25,  2.94batch/s]"
     ]
    },
    {
     "name": "stdout",
     "output_type": "stream",
     "text": [
      "--------------------------------\n",
      "| batch_size        | 2048     |\n",
      "| bc/               |          |\n",
      "|    batch          | 3059     |\n",
      "|    ent_loss       | 0.00203  |\n",
      "|    entropy        | -2.03    |\n",
      "|    epoch          | 306      |\n",
      "|    l2_loss        | 0        |\n",
      "|    l2_norm        | 5.88e+03 |\n",
      "|    loss           | -0.441   |\n",
      "|    neglogp        | -0.443   |\n",
      "|    prob_true_act  | 8.58     |\n",
      "|    samples_so_far | 6266880  |\n",
      "--------------------------------\n"
     ]
    },
    {
     "name": "stderr",
     "output_type": "stream",
     "text": [
      "3070batch [18:28,  2.95batch/s]"
     ]
    },
    {
     "name": "stdout",
     "output_type": "stream",
     "text": [
      "--------------------------------\n",
      "| batch_size        | 2048     |\n",
      "| bc/               |          |\n",
      "|    batch          | 3069     |\n",
      "|    ent_loss       | 0.00203  |\n",
      "|    entropy        | -2.03    |\n",
      "|    epoch          | 307      |\n",
      "|    l2_loss        | 0        |\n",
      "|    l2_norm        | 5.91e+03 |\n",
      "|    loss           | -0.632   |\n",
      "|    neglogp        | -0.634   |\n",
      "|    prob_true_act  | 9.13     |\n",
      "|    samples_so_far | 6287360  |\n",
      "--------------------------------\n"
     ]
    },
    {
     "name": "stderr",
     "output_type": "stream",
     "text": [
      "3080batch [18:32,  2.95batch/s]"
     ]
    },
    {
     "name": "stdout",
     "output_type": "stream",
     "text": [
      "--------------------------------\n",
      "| batch_size        | 2048     |\n",
      "| bc/               |          |\n",
      "|    batch          | 3079     |\n",
      "|    ent_loss       | 0.00202  |\n",
      "|    entropy        | -2.02    |\n",
      "|    epoch          | 308      |\n",
      "|    l2_loss        | 0        |\n",
      "|    l2_norm        | 5.94e+03 |\n",
      "|    loss           | -0.737   |\n",
      "|    neglogp        | -0.739   |\n",
      "|    prob_true_act  | 9.14     |\n",
      "|    samples_so_far | 6307840  |\n",
      "--------------------------------\n"
     ]
    },
    {
     "name": "stderr",
     "output_type": "stream",
     "text": [
      "3090batch [18:36,  2.61batch/s]"
     ]
    },
    {
     "name": "stdout",
     "output_type": "stream",
     "text": [
      "--------------------------------\n",
      "| batch_size        | 2048     |\n",
      "| bc/               |          |\n",
      "|    batch          | 3089     |\n",
      "|    ent_loss       | 0.00202  |\n",
      "|    entropy        | -2.02    |\n",
      "|    epoch          | 309      |\n",
      "|    l2_loss        | 0        |\n",
      "|    l2_norm        | 5.96e+03 |\n",
      "|    loss           | -1.03    |\n",
      "|    neglogp        | -1.03    |\n",
      "|    prob_true_act  | 9.15     |\n",
      "|    samples_so_far | 6328320  |\n",
      "--------------------------------\n"
     ]
    },
    {
     "name": "stderr",
     "output_type": "stream",
     "text": [
      "3100batch [18:39,  2.95batch/s]"
     ]
    },
    {
     "name": "stdout",
     "output_type": "stream",
     "text": [
      "--------------------------------\n",
      "| batch_size        | 2048     |\n",
      "| bc/               |          |\n",
      "|    batch          | 3099     |\n",
      "|    ent_loss       | 0.00201  |\n",
      "|    entropy        | -2.01    |\n",
      "|    epoch          | 310      |\n",
      "|    l2_loss        | 0        |\n",
      "|    l2_norm        | 5.99e+03 |\n",
      "|    loss           | -0.84    |\n",
      "|    neglogp        | -0.843   |\n",
      "|    prob_true_act  | 9.36     |\n",
      "|    samples_so_far | 6348800  |\n",
      "--------------------------------\n"
     ]
    },
    {
     "name": "stderr",
     "output_type": "stream",
     "text": [
      "3110batch [18:44,  1.79batch/s]"
     ]
    },
    {
     "name": "stdout",
     "output_type": "stream",
     "text": [
      "--------------------------------\n",
      "| batch_size        | 2048     |\n",
      "| bc/               |          |\n",
      "|    batch          | 3109     |\n",
      "|    ent_loss       | 0.00201  |\n",
      "|    entropy        | -2.01    |\n",
      "|    epoch          | 311      |\n",
      "|    l2_loss        | 0        |\n",
      "|    l2_norm        | 6.01e+03 |\n",
      "|    loss           | -1.22    |\n",
      "|    neglogp        | -1.23    |\n",
      "|    prob_true_act  | 9.97     |\n",
      "|    samples_so_far | 6369280  |\n",
      "--------------------------------\n"
     ]
    },
    {
     "name": "stderr",
     "output_type": "stream",
     "text": [
      "3120batch [18:47,  2.92batch/s]"
     ]
    },
    {
     "name": "stdout",
     "output_type": "stream",
     "text": [
      "--------------------------------\n",
      "| batch_size        | 2048     |\n",
      "| bc/               |          |\n",
      "|    batch          | 3119     |\n",
      "|    ent_loss       | 0.00201  |\n",
      "|    entropy        | -2.01    |\n",
      "|    epoch          | 312      |\n",
      "|    l2_loss        | 0        |\n",
      "|    l2_norm        | 6.03e+03 |\n",
      "|    loss           | -1.3     |\n",
      "|    neglogp        | -1.3     |\n",
      "|    prob_true_act  | 9.96     |\n",
      "|    samples_so_far | 6389760  |\n",
      "--------------------------------\n"
     ]
    },
    {
     "name": "stderr",
     "output_type": "stream",
     "text": [
      "3130batch [18:51,  2.98batch/s]"
     ]
    },
    {
     "name": "stdout",
     "output_type": "stream",
     "text": [
      "--------------------------------\n",
      "| batch_size        | 2048     |\n",
      "| bc/               |          |\n",
      "|    batch          | 3129     |\n",
      "|    ent_loss       | 0.002    |\n",
      "|    entropy        | -2       |\n",
      "|    epoch          | 313      |\n",
      "|    l2_loss        | 0        |\n",
      "|    l2_norm        | 6.06e+03 |\n",
      "|    loss           | -1.38    |\n",
      "|    neglogp        | -1.38    |\n",
      "|    prob_true_act  | 10.4     |\n",
      "|    samples_so_far | 6410240  |\n",
      "--------------------------------\n"
     ]
    },
    {
     "name": "stderr",
     "output_type": "stream",
     "text": [
      "3140batch [18:55,  2.94batch/s]"
     ]
    },
    {
     "name": "stdout",
     "output_type": "stream",
     "text": [
      "--------------------------------\n",
      "| batch_size        | 2048     |\n",
      "| bc/               |          |\n",
      "|    batch          | 3139     |\n",
      "|    ent_loss       | 0.002    |\n",
      "|    entropy        | -2       |\n",
      "|    epoch          | 314      |\n",
      "|    l2_loss        | 0        |\n",
      "|    l2_norm        | 6.08e+03 |\n",
      "|    loss           | -1.41    |\n",
      "|    neglogp        | -1.41    |\n",
      "|    prob_true_act  | 10.4     |\n",
      "|    samples_so_far | 6430720  |\n",
      "--------------------------------\n"
     ]
    },
    {
     "name": "stderr",
     "output_type": "stream",
     "text": [
      "3150batch [18:58,  2.97batch/s]"
     ]
    },
    {
     "name": "stdout",
     "output_type": "stream",
     "text": [
      "--------------------------------\n",
      "| batch_size        | 2048     |\n",
      "| bc/               |          |\n",
      "|    batch          | 3149     |\n",
      "|    ent_loss       | 0.002    |\n",
      "|    entropy        | -2       |\n",
      "|    epoch          | 315      |\n",
      "|    l2_loss        | 0        |\n",
      "|    l2_norm        | 6.1e+03  |\n",
      "|    loss           | -1.47    |\n",
      "|    neglogp        | -1.47    |\n",
      "|    prob_true_act  | 10.7     |\n",
      "|    samples_so_far | 6451200  |\n",
      "--------------------------------\n"
     ]
    },
    {
     "name": "stderr",
     "output_type": "stream",
     "text": [
      "3160batch [19:02,  2.98batch/s]"
     ]
    },
    {
     "name": "stdout",
     "output_type": "stream",
     "text": [
      "--------------------------------\n",
      "| batch_size        | 2048     |\n",
      "| bc/               |          |\n",
      "|    batch          | 3159     |\n",
      "|    ent_loss       | 0.002    |\n",
      "|    entropy        | -2       |\n",
      "|    epoch          | 316      |\n",
      "|    l2_loss        | 0        |\n",
      "|    l2_norm        | 6.12e+03 |\n",
      "|    loss           | -1.45    |\n",
      "|    neglogp        | -1.45    |\n",
      "|    prob_true_act  | 10.6     |\n",
      "|    samples_so_far | 6471680  |\n",
      "--------------------------------\n"
     ]
    },
    {
     "name": "stderr",
     "output_type": "stream",
     "text": [
      "3170batch [19:06,  2.44batch/s]"
     ]
    },
    {
     "name": "stdout",
     "output_type": "stream",
     "text": [
      "--------------------------------\n",
      "| batch_size        | 2048     |\n",
      "| bc/               |          |\n",
      "|    batch          | 3169     |\n",
      "|    ent_loss       | 0.002    |\n",
      "|    entropy        | -2       |\n",
      "|    epoch          | 317      |\n",
      "|    l2_loss        | 0        |\n",
      "|    l2_norm        | 6.14e+03 |\n",
      "|    loss           | -1.73    |\n",
      "|    neglogp        | -1.73    |\n",
      "|    prob_true_act  | 11.1     |\n",
      "|    samples_so_far | 6492160  |\n",
      "--------------------------------\n"
     ]
    },
    {
     "name": "stderr",
     "output_type": "stream",
     "text": [
      "3180batch [19:09,  2.96batch/s]"
     ]
    },
    {
     "name": "stdout",
     "output_type": "stream",
     "text": [
      "--------------------------------\n",
      "| batch_size        | 2048     |\n",
      "| bc/               |          |\n",
      "|    batch          | 3179     |\n",
      "|    ent_loss       | 0.00199  |\n",
      "|    entropy        | -1.99    |\n",
      "|    epoch          | 318      |\n",
      "|    l2_loss        | 0        |\n",
      "|    l2_norm        | 6.16e+03 |\n",
      "|    loss           | -1.63    |\n",
      "|    neglogp        | -1.63    |\n",
      "|    prob_true_act  | 10.5     |\n",
      "|    samples_so_far | 6512640  |\n",
      "--------------------------------\n"
     ]
    },
    {
     "name": "stderr",
     "output_type": "stream",
     "text": [
      "3190batch [19:13,  2.98batch/s]"
     ]
    },
    {
     "name": "stdout",
     "output_type": "stream",
     "text": [
      "--------------------------------\n",
      "| batch_size        | 2048     |\n",
      "| bc/               |          |\n",
      "|    batch          | 3189     |\n",
      "|    ent_loss       | 0.00199  |\n",
      "|    entropy        | -1.99    |\n",
      "|    epoch          | 319      |\n",
      "|    l2_loss        | 0        |\n",
      "|    l2_norm        | 6.18e+03 |\n",
      "|    loss           | -1.73    |\n",
      "|    neglogp        | -1.73    |\n",
      "|    prob_true_act  | 11.3     |\n",
      "|    samples_so_far | 6533120  |\n",
      "--------------------------------\n"
     ]
    },
    {
     "name": "stderr",
     "output_type": "stream",
     "text": [
      "3200batch [19:16,  2.97batch/s]"
     ]
    },
    {
     "name": "stdout",
     "output_type": "stream",
     "text": [
      "--------------------------------\n",
      "| batch_size        | 2048     |\n",
      "| bc/               |          |\n",
      "|    batch          | 3199     |\n",
      "|    ent_loss       | 0.00199  |\n",
      "|    entropy        | -1.99    |\n",
      "|    epoch          | 320      |\n",
      "|    l2_loss        | 0        |\n",
      "|    l2_norm        | 6.2e+03  |\n",
      "|    loss           | -1.88    |\n",
      "|    neglogp        | -1.88    |\n",
      "|    prob_true_act  | 11.5     |\n",
      "|    samples_so_far | 6553600  |\n",
      "--------------------------------\n"
     ]
    },
    {
     "name": "stderr",
     "output_type": "stream",
     "text": [
      "3210batch [19:20,  2.94batch/s]"
     ]
    },
    {
     "name": "stdout",
     "output_type": "stream",
     "text": [
      "--------------------------------\n",
      "| batch_size        | 2048     |\n",
      "| bc/               |          |\n",
      "|    batch          | 3209     |\n",
      "|    ent_loss       | 0.00199  |\n",
      "|    entropy        | -1.99    |\n",
      "|    epoch          | 321      |\n",
      "|    l2_loss        | 0        |\n",
      "|    l2_norm        | 6.22e+03 |\n",
      "|    loss           | -1.89    |\n",
      "|    neglogp        | -1.89    |\n",
      "|    prob_true_act  | 11.6     |\n",
      "|    samples_so_far | 6574080  |\n",
      "--------------------------------\n"
     ]
    },
    {
     "name": "stderr",
     "output_type": "stream",
     "text": [
      "3220batch [19:23,  2.93batch/s]"
     ]
    },
    {
     "name": "stdout",
     "output_type": "stream",
     "text": [
      "--------------------------------\n",
      "| batch_size        | 2048     |\n",
      "| bc/               |          |\n",
      "|    batch          | 3219     |\n",
      "|    ent_loss       | 0.00199  |\n",
      "|    entropy        | -1.99    |\n",
      "|    epoch          | 322      |\n",
      "|    l2_loss        | 0        |\n",
      "|    l2_norm        | 6.24e+03 |\n",
      "|    loss           | -1.81    |\n",
      "|    neglogp        | -1.81    |\n",
      "|    prob_true_act  | 11.4     |\n",
      "|    samples_so_far | 6594560  |\n",
      "--------------------------------\n"
     ]
    },
    {
     "name": "stderr",
     "output_type": "stream",
     "text": [
      "3230batch [19:27,  2.87batch/s]"
     ]
    },
    {
     "name": "stdout",
     "output_type": "stream",
     "text": [
      "--------------------------------\n",
      "| batch_size        | 2048     |\n",
      "| bc/               |          |\n",
      "|    batch          | 3229     |\n",
      "|    ent_loss       | 0.00199  |\n",
      "|    entropy        | -1.99    |\n",
      "|    epoch          | 323      |\n",
      "|    l2_loss        | 0        |\n",
      "|    l2_norm        | 6.25e+03 |\n",
      "|    loss           | -2.08    |\n",
      "|    neglogp        | -2.08    |\n",
      "|    prob_true_act  | 12.5     |\n",
      "|    samples_so_far | 6615040  |\n",
      "--------------------------------\n"
     ]
    },
    {
     "name": "stderr",
     "output_type": "stream",
     "text": [
      "3240batch [19:31,  2.92batch/s]"
     ]
    },
    {
     "name": "stdout",
     "output_type": "stream",
     "text": [
      "--------------------------------\n",
      "| batch_size        | 2048     |\n",
      "| bc/               |          |\n",
      "|    batch          | 3239     |\n",
      "|    ent_loss       | 0.00199  |\n",
      "|    entropy        | -1.99    |\n",
      "|    epoch          | 324      |\n",
      "|    l2_loss        | 0        |\n",
      "|    l2_norm        | 6.27e+03 |\n",
      "|    loss           | -2.07    |\n",
      "|    neglogp        | -2.07    |\n",
      "|    prob_true_act  | 12.5     |\n",
      "|    samples_so_far | 6635520  |\n",
      "--------------------------------\n"
     ]
    },
    {
     "name": "stderr",
     "output_type": "stream",
     "text": [
      "3250batch [19:34,  2.93batch/s]"
     ]
    },
    {
     "name": "stdout",
     "output_type": "stream",
     "text": [
      "--------------------------------\n",
      "| batch_size        | 2048     |\n",
      "| bc/               |          |\n",
      "|    batch          | 3249     |\n",
      "|    ent_loss       | 0.00199  |\n",
      "|    entropy        | -1.99    |\n",
      "|    epoch          | 325      |\n",
      "|    l2_loss        | 0        |\n",
      "|    l2_norm        | 6.28e+03 |\n",
      "|    loss           | -2.01    |\n",
      "|    neglogp        | -2.02    |\n",
      "|    prob_true_act  | 12.1     |\n",
      "|    samples_so_far | 6656000  |\n",
      "--------------------------------\n"
     ]
    },
    {
     "name": "stderr",
     "output_type": "stream",
     "text": [
      "3260batch [19:38,  2.98batch/s]"
     ]
    },
    {
     "name": "stdout",
     "output_type": "stream",
     "text": [
      "--------------------------------\n",
      "| batch_size        | 2048     |\n",
      "| bc/               |          |\n",
      "|    batch          | 3259     |\n",
      "|    ent_loss       | 0.00199  |\n",
      "|    entropy        | -1.99    |\n",
      "|    epoch          | 326      |\n",
      "|    l2_loss        | 0        |\n",
      "|    l2_norm        | 6.3e+03  |\n",
      "|    loss           | -2.21    |\n",
      "|    neglogp        | -2.21    |\n",
      "|    prob_true_act  | 12.9     |\n",
      "|    samples_so_far | 6676480  |\n",
      "--------------------------------\n"
     ]
    },
    {
     "name": "stderr",
     "output_type": "stream",
     "text": [
      "3270batch [19:42,  2.55batch/s]"
     ]
    },
    {
     "name": "stdout",
     "output_type": "stream",
     "text": [
      "--------------------------------\n",
      "| batch_size        | 2048     |\n",
      "| bc/               |          |\n",
      "|    batch          | 3269     |\n",
      "|    ent_loss       | 0.00199  |\n",
      "|    entropy        | -1.99    |\n",
      "|    epoch          | 327      |\n",
      "|    l2_loss        | 0        |\n",
      "|    l2_norm        | 6.31e+03 |\n",
      "|    loss           | -2.07    |\n",
      "|    neglogp        | -2.07    |\n",
      "|    prob_true_act  | 12.6     |\n",
      "|    samples_so_far | 6696960  |\n",
      "--------------------------------\n"
     ]
    },
    {
     "name": "stderr",
     "output_type": "stream",
     "text": [
      "3280batch [19:45,  2.95batch/s]"
     ]
    },
    {
     "name": "stdout",
     "output_type": "stream",
     "text": [
      "--------------------------------\n",
      "| batch_size        | 2048     |\n",
      "| bc/               |          |\n",
      "|    batch          | 3279     |\n",
      "|    ent_loss       | 0.002    |\n",
      "|    entropy        | -2       |\n",
      "|    epoch          | 328      |\n",
      "|    l2_loss        | 0        |\n",
      "|    l2_norm        | 6.33e+03 |\n",
      "|    loss           | -2.3     |\n",
      "|    neglogp        | -2.31    |\n",
      "|    prob_true_act  | 13.7     |\n",
      "|    samples_so_far | 6717440  |\n",
      "--------------------------------\n"
     ]
    },
    {
     "name": "stderr",
     "output_type": "stream",
     "text": [
      "3290batch [19:49,  2.96batch/s]"
     ]
    },
    {
     "name": "stdout",
     "output_type": "stream",
     "text": [
      "--------------------------------\n",
      "| batch_size        | 2048     |\n",
      "| bc/               |          |\n",
      "|    batch          | 3289     |\n",
      "|    ent_loss       | 0.002    |\n",
      "|    entropy        | -2       |\n",
      "|    epoch          | 329      |\n",
      "|    l2_loss        | 0        |\n",
      "|    l2_norm        | 6.34e+03 |\n",
      "|    loss           | -2.33    |\n",
      "|    neglogp        | -2.33    |\n",
      "|    prob_true_act  | 13.7     |\n",
      "|    samples_so_far | 6737920  |\n",
      "--------------------------------\n"
     ]
    },
    {
     "name": "stderr",
     "output_type": "stream",
     "text": [
      "3300batch [19:53,  2.94batch/s]"
     ]
    },
    {
     "name": "stdout",
     "output_type": "stream",
     "text": [
      "--------------------------------\n",
      "| batch_size        | 2048     |\n",
      "| bc/               |          |\n",
      "|    batch          | 3299     |\n",
      "|    ent_loss       | 0.002    |\n",
      "|    entropy        | -2       |\n",
      "|    epoch          | 330      |\n",
      "|    l2_loss        | 0        |\n",
      "|    l2_norm        | 6.35e+03 |\n",
      "|    loss           | -2.28    |\n",
      "|    neglogp        | -2.28    |\n",
      "|    prob_true_act  | 13.2     |\n",
      "|    samples_so_far | 6758400  |\n",
      "--------------------------------\n"
     ]
    },
    {
     "name": "stderr",
     "output_type": "stream",
     "text": [
      "3310batch [19:56,  2.58batch/s]"
     ]
    },
    {
     "name": "stdout",
     "output_type": "stream",
     "text": [
      "--------------------------------\n",
      "| batch_size        | 2048     |\n",
      "| bc/               |          |\n",
      "|    batch          | 3309     |\n",
      "|    ent_loss       | 0.002    |\n",
      "|    entropy        | -2       |\n",
      "|    epoch          | 331      |\n",
      "|    l2_loss        | 0        |\n",
      "|    l2_norm        | 6.37e+03 |\n",
      "|    loss           | -2.32    |\n",
      "|    neglogp        | -2.32    |\n",
      "|    prob_true_act  | 13.8     |\n",
      "|    samples_so_far | 6778880  |\n",
      "--------------------------------\n"
     ]
    },
    {
     "name": "stderr",
     "output_type": "stream",
     "text": [
      "3320batch [20:00,  2.92batch/s]"
     ]
    },
    {
     "name": "stdout",
     "output_type": "stream",
     "text": [
      "--------------------------------\n",
      "| batch_size        | 2048     |\n",
      "| bc/               |          |\n",
      "|    batch          | 3319     |\n",
      "|    ent_loss       | 0.002    |\n",
      "|    entropy        | -2       |\n",
      "|    epoch          | 332      |\n",
      "|    l2_loss        | 0        |\n",
      "|    l2_norm        | 6.38e+03 |\n",
      "|    loss           | -2.35    |\n",
      "|    neglogp        | -2.36    |\n",
      "|    prob_true_act  | 14       |\n",
      "|    samples_so_far | 6799360  |\n",
      "--------------------------------\n"
     ]
    },
    {
     "name": "stderr",
     "output_type": "stream",
     "text": [
      "3330batch [20:03,  3.00batch/s]"
     ]
    },
    {
     "name": "stdout",
     "output_type": "stream",
     "text": [
      "--------------------------------\n",
      "| batch_size        | 2048     |\n",
      "| bc/               |          |\n",
      "|    batch          | 3329     |\n",
      "|    ent_loss       | 0.002    |\n",
      "|    entropy        | -2       |\n",
      "|    epoch          | 333      |\n",
      "|    l2_loss        | 0        |\n",
      "|    l2_norm        | 6.39e+03 |\n",
      "|    loss           | -2.41    |\n",
      "|    neglogp        | -2.41    |\n",
      "|    prob_true_act  | 14.1     |\n",
      "|    samples_so_far | 6819840  |\n",
      "--------------------------------\n"
     ]
    },
    {
     "name": "stderr",
     "output_type": "stream",
     "text": [
      "3340batch [20:07,  3.02batch/s]"
     ]
    },
    {
     "name": "stdout",
     "output_type": "stream",
     "text": [
      "--------------------------------\n",
      "| batch_size        | 2048     |\n",
      "| bc/               |          |\n",
      "|    batch          | 3339     |\n",
      "|    ent_loss       | 0.002    |\n",
      "|    entropy        | -2       |\n",
      "|    epoch          | 334      |\n",
      "|    l2_loss        | 0        |\n",
      "|    l2_norm        | 6.4e+03  |\n",
      "|    loss           | -2.39    |\n",
      "|    neglogp        | -2.39    |\n",
      "|    prob_true_act  | 14.3     |\n",
      "|    samples_so_far | 6840320  |\n",
      "--------------------------------\n"
     ]
    },
    {
     "name": "stderr",
     "output_type": "stream",
     "text": [
      "3350batch [20:11,  2.93batch/s]"
     ]
    },
    {
     "name": "stdout",
     "output_type": "stream",
     "text": [
      "--------------------------------\n",
      "| batch_size        | 2048     |\n",
      "| bc/               |          |\n",
      "|    batch          | 3349     |\n",
      "|    ent_loss       | 0.00201  |\n",
      "|    entropy        | -2.01    |\n",
      "|    epoch          | 335      |\n",
      "|    l2_loss        | 0        |\n",
      "|    l2_norm        | 6.41e+03 |\n",
      "|    loss           | -2.41    |\n",
      "|    neglogp        | -2.41    |\n",
      "|    prob_true_act  | 14.4     |\n",
      "|    samples_so_far | 6860800  |\n",
      "--------------------------------\n"
     ]
    },
    {
     "name": "stderr",
     "output_type": "stream",
     "text": [
      "3360batch [20:14,  2.98batch/s]"
     ]
    },
    {
     "name": "stdout",
     "output_type": "stream",
     "text": [
      "--------------------------------\n",
      "| batch_size        | 2048     |\n",
      "| bc/               |          |\n",
      "|    batch          | 3359     |\n",
      "|    ent_loss       | 0.00201  |\n",
      "|    entropy        | -2.01    |\n",
      "|    epoch          | 336      |\n",
      "|    l2_loss        | 0        |\n",
      "|    l2_norm        | 6.42e+03 |\n",
      "|    loss           | -2.46    |\n",
      "|    neglogp        | -2.46    |\n",
      "|    prob_true_act  | 14.6     |\n",
      "|    samples_so_far | 6881280  |\n",
      "--------------------------------\n"
     ]
    },
    {
     "name": "stderr",
     "output_type": "stream",
     "text": [
      "3370batch [20:18,  2.99batch/s]"
     ]
    },
    {
     "name": "stdout",
     "output_type": "stream",
     "text": [
      "--------------------------------\n",
      "| batch_size        | 2048     |\n",
      "| bc/               |          |\n",
      "|    batch          | 3369     |\n",
      "|    ent_loss       | 0.00201  |\n",
      "|    entropy        | -2.01    |\n",
      "|    epoch          | 337      |\n",
      "|    l2_loss        | 0        |\n",
      "|    l2_norm        | 6.44e+03 |\n",
      "|    loss           | -2.48    |\n",
      "|    neglogp        | -2.48    |\n",
      "|    prob_true_act  | 14.7     |\n",
      "|    samples_so_far | 6901760  |\n",
      "--------------------------------\n"
     ]
    },
    {
     "name": "stderr",
     "output_type": "stream",
     "text": [
      "3380batch [20:22,  2.07batch/s]"
     ]
    },
    {
     "name": "stdout",
     "output_type": "stream",
     "text": [
      "--------------------------------\n",
      "| batch_size        | 2048     |\n",
      "| bc/               |          |\n",
      "|    batch          | 3379     |\n",
      "|    ent_loss       | 0.00201  |\n",
      "|    entropy        | -2.01    |\n",
      "|    epoch          | 338      |\n",
      "|    l2_loss        | 0        |\n",
      "|    l2_norm        | 6.45e+03 |\n",
      "|    loss           | -2.49    |\n",
      "|    neglogp        | -2.5     |\n",
      "|    prob_true_act  | 14.6     |\n",
      "|    samples_so_far | 6922240  |\n",
      "--------------------------------\n"
     ]
    },
    {
     "name": "stderr",
     "output_type": "stream",
     "text": [
      "3390batch [20:26,  2.82batch/s]"
     ]
    },
    {
     "name": "stdout",
     "output_type": "stream",
     "text": [
      "--------------------------------\n",
      "| batch_size        | 2048     |\n",
      "| bc/               |          |\n",
      "|    batch          | 3389     |\n",
      "|    ent_loss       | 0.00201  |\n",
      "|    entropy        | -2.01    |\n",
      "|    epoch          | 339      |\n",
      "|    l2_loss        | 0        |\n",
      "|    l2_norm        | 6.46e+03 |\n",
      "|    loss           | -2.47    |\n",
      "|    neglogp        | -2.47    |\n",
      "|    prob_true_act  | 14.6     |\n",
      "|    samples_so_far | 6942720  |\n",
      "--------------------------------\n"
     ]
    },
    {
     "name": "stderr",
     "output_type": "stream",
     "text": [
      "3400batch [20:29,  2.97batch/s]"
     ]
    },
    {
     "name": "stdout",
     "output_type": "stream",
     "text": [
      "--------------------------------\n",
      "| batch_size        | 2048     |\n",
      "| bc/               |          |\n",
      "|    batch          | 3399     |\n",
      "|    ent_loss       | 0.00202  |\n",
      "|    entropy        | -2.02    |\n",
      "|    epoch          | 340      |\n",
      "|    l2_loss        | 0        |\n",
      "|    l2_norm        | 6.47e+03 |\n",
      "|    loss           | -2.56    |\n",
      "|    neglogp        | -2.56    |\n",
      "|    prob_true_act  | 15.3     |\n",
      "|    samples_so_far | 6963200  |\n",
      "--------------------------------\n"
     ]
    },
    {
     "name": "stderr",
     "output_type": "stream",
     "text": [
      "3410batch [20:33,  2.94batch/s]"
     ]
    },
    {
     "name": "stdout",
     "output_type": "stream",
     "text": [
      "--------------------------------\n",
      "| batch_size        | 2048     |\n",
      "| bc/               |          |\n",
      "|    batch          | 3409     |\n",
      "|    ent_loss       | 0.00202  |\n",
      "|    entropy        | -2.02    |\n",
      "|    epoch          | 341      |\n",
      "|    l2_loss        | 0        |\n",
      "|    l2_norm        | 6.48e+03 |\n",
      "|    loss           | -2.49    |\n",
      "|    neglogp        | -2.49    |\n",
      "|    prob_true_act  | 15.1     |\n",
      "|    samples_so_far | 6983680  |\n",
      "--------------------------------\n"
     ]
    },
    {
     "name": "stderr",
     "output_type": "stream",
     "text": [
      "3420batch [20:36,  2.93batch/s]"
     ]
    },
    {
     "name": "stdout",
     "output_type": "stream",
     "text": [
      "--------------------------------\n",
      "| batch_size        | 2048     |\n",
      "| bc/               |          |\n",
      "|    batch          | 3419     |\n",
      "|    ent_loss       | 0.00202  |\n",
      "|    entropy        | -2.02    |\n",
      "|    epoch          | 342      |\n",
      "|    l2_loss        | 0        |\n",
      "|    l2_norm        | 6.49e+03 |\n",
      "|    loss           | -2.59    |\n",
      "|    neglogp        | -2.59    |\n",
      "|    prob_true_act  | 15.5     |\n",
      "|    samples_so_far | 7004160  |\n",
      "--------------------------------\n"
     ]
    },
    {
     "name": "stderr",
     "output_type": "stream",
     "text": [
      "3430batch [20:40,  2.98batch/s]"
     ]
    },
    {
     "name": "stdout",
     "output_type": "stream",
     "text": [
      "--------------------------------\n",
      "| batch_size        | 2048     |\n",
      "| bc/               |          |\n",
      "|    batch          | 3429     |\n",
      "|    ent_loss       | 0.00202  |\n",
      "|    entropy        | -2.02    |\n",
      "|    epoch          | 343      |\n",
      "|    l2_loss        | 0        |\n",
      "|    l2_norm        | 6.5e+03  |\n",
      "|    loss           | -2.6     |\n",
      "|    neglogp        | -2.6     |\n",
      "|    prob_true_act  | 15.6     |\n",
      "|    samples_so_far | 7024640  |\n",
      "--------------------------------\n"
     ]
    },
    {
     "name": "stderr",
     "output_type": "stream",
     "text": [
      "3440batch [20:44,  2.93batch/s]"
     ]
    },
    {
     "name": "stdout",
     "output_type": "stream",
     "text": [
      "--------------------------------\n",
      "| batch_size        | 2048     |\n",
      "| bc/               |          |\n",
      "|    batch          | 3439     |\n",
      "|    ent_loss       | 0.00203  |\n",
      "|    entropy        | -2.03    |\n",
      "|    epoch          | 344      |\n",
      "|    l2_loss        | 0        |\n",
      "|    l2_norm        | 6.5e+03  |\n",
      "|    loss           | -2.63    |\n",
      "|    neglogp        | -2.63    |\n",
      "|    prob_true_act  | 16       |\n",
      "|    samples_so_far | 7045120  |\n",
      "--------------------------------\n"
     ]
    },
    {
     "name": "stderr",
     "output_type": "stream",
     "text": [
      "3450batch [20:47,  2.96batch/s]"
     ]
    },
    {
     "name": "stdout",
     "output_type": "stream",
     "text": [
      "--------------------------------\n",
      "| batch_size        | 2048     |\n",
      "| bc/               |          |\n",
      "|    batch          | 3449     |\n",
      "|    ent_loss       | 0.00203  |\n",
      "|    entropy        | -2.03    |\n",
      "|    epoch          | 345      |\n",
      "|    l2_loss        | 0        |\n",
      "|    l2_norm        | 6.51e+03 |\n",
      "|    loss           | -2.6     |\n",
      "|    neglogp        | -2.6     |\n",
      "|    prob_true_act  | 15.8     |\n",
      "|    samples_so_far | 7065600  |\n",
      "--------------------------------\n"
     ]
    },
    {
     "name": "stderr",
     "output_type": "stream",
     "text": [
      "3460batch [20:51,  2.60batch/s]"
     ]
    },
    {
     "name": "stdout",
     "output_type": "stream",
     "text": [
      "--------------------------------\n",
      "| batch_size        | 2048     |\n",
      "| bc/               |          |\n",
      "|    batch          | 3459     |\n",
      "|    ent_loss       | 0.00203  |\n",
      "|    entropy        | -2.03    |\n",
      "|    epoch          | 346      |\n",
      "|    l2_loss        | 0        |\n",
      "|    l2_norm        | 6.52e+03 |\n",
      "|    loss           | -2.66    |\n",
      "|    neglogp        | -2.67    |\n",
      "|    prob_true_act  | 16.4     |\n",
      "|    samples_so_far | 7086080  |\n",
      "--------------------------------\n"
     ]
    },
    {
     "name": "stderr",
     "output_type": "stream",
     "text": [
      "3470batch [20:55,  2.89batch/s]"
     ]
    },
    {
     "name": "stdout",
     "output_type": "stream",
     "text": [
      "--------------------------------\n",
      "| batch_size        | 2048     |\n",
      "| bc/               |          |\n",
      "|    batch          | 3469     |\n",
      "|    ent_loss       | 0.00203  |\n",
      "|    entropy        | -2.03    |\n",
      "|    epoch          | 347      |\n",
      "|    l2_loss        | 0        |\n",
      "|    l2_norm        | 6.53e+03 |\n",
      "|    loss           | -2.59    |\n",
      "|    neglogp        | -2.59    |\n",
      "|    prob_true_act  | 16.1     |\n",
      "|    samples_so_far | 7106560  |\n",
      "--------------------------------\n"
     ]
    },
    {
     "name": "stderr",
     "output_type": "stream",
     "text": [
      "3480batch [20:58,  2.97batch/s]"
     ]
    },
    {
     "name": "stdout",
     "output_type": "stream",
     "text": [
      "--------------------------------\n",
      "| batch_size        | 2048     |\n",
      "| bc/               |          |\n",
      "|    batch          | 3479     |\n",
      "|    ent_loss       | 0.00204  |\n",
      "|    entropy        | -2.04    |\n",
      "|    epoch          | 348      |\n",
      "|    l2_loss        | 0        |\n",
      "|    l2_norm        | 6.54e+03 |\n",
      "|    loss           | -2.63    |\n",
      "|    neglogp        | -2.63    |\n",
      "|    prob_true_act  | 16.1     |\n",
      "|    samples_so_far | 7127040  |\n",
      "--------------------------------\n"
     ]
    },
    {
     "name": "stderr",
     "output_type": "stream",
     "text": [
      "3490batch [21:02,  2.95batch/s]"
     ]
    },
    {
     "name": "stdout",
     "output_type": "stream",
     "text": [
      "--------------------------------\n",
      "| batch_size        | 2048     |\n",
      "| bc/               |          |\n",
      "|    batch          | 3489     |\n",
      "|    ent_loss       | 0.00204  |\n",
      "|    entropy        | -2.04    |\n",
      "|    epoch          | 349      |\n",
      "|    l2_loss        | 0        |\n",
      "|    l2_norm        | 6.55e+03 |\n",
      "|    loss           | -2.69    |\n",
      "|    neglogp        | -2.69    |\n",
      "|    prob_true_act  | 16.4     |\n",
      "|    samples_so_far | 7147520  |\n",
      "--------------------------------\n"
     ]
    },
    {
     "name": "stderr",
     "output_type": "stream",
     "text": [
      "3500batch [21:05,  3.01batch/s]"
     ]
    },
    {
     "name": "stdout",
     "output_type": "stream",
     "text": [
      "--------------------------------\n",
      "| batch_size        | 2048     |\n",
      "| bc/               |          |\n",
      "|    batch          | 3499     |\n",
      "|    ent_loss       | 0.00204  |\n",
      "|    entropy        | -2.04    |\n",
      "|    epoch          | 350      |\n",
      "|    l2_loss        | 0        |\n",
      "|    l2_norm        | 6.55e+03 |\n",
      "|    loss           | -2.71    |\n",
      "|    neglogp        | -2.71    |\n",
      "|    prob_true_act  | 16.7     |\n",
      "|    samples_so_far | 7168000  |\n",
      "--------------------------------\n"
     ]
    },
    {
     "name": "stderr",
     "output_type": "stream",
     "text": [
      "3510batch [21:09,  2.61batch/s]"
     ]
    },
    {
     "name": "stdout",
     "output_type": "stream",
     "text": [
      "--------------------------------\n",
      "| batch_size        | 2048     |\n",
      "| bc/               |          |\n",
      "|    batch          | 3509     |\n",
      "|    ent_loss       | 0.00205  |\n",
      "|    entropy        | -2.05    |\n",
      "|    epoch          | 351      |\n",
      "|    l2_loss        | 0        |\n",
      "|    l2_norm        | 6.56e+03 |\n",
      "|    loss           | -2.7     |\n",
      "|    neglogp        | -2.7     |\n",
      "|    prob_true_act  | 16.8     |\n",
      "|    samples_so_far | 7188480  |\n",
      "--------------------------------\n"
     ]
    },
    {
     "name": "stderr",
     "output_type": "stream",
     "text": [
      "3520batch [21:13,  2.98batch/s]"
     ]
    },
    {
     "name": "stdout",
     "output_type": "stream",
     "text": [
      "--------------------------------\n",
      "| batch_size        | 2048     |\n",
      "| bc/               |          |\n",
      "|    batch          | 3519     |\n",
      "|    ent_loss       | 0.00205  |\n",
      "|    entropy        | -2.05    |\n",
      "|    epoch          | 352      |\n",
      "|    l2_loss        | 0        |\n",
      "|    l2_norm        | 6.57e+03 |\n",
      "|    loss           | -2.71    |\n",
      "|    neglogp        | -2.71    |\n",
      "|    prob_true_act  | 16.9     |\n",
      "|    samples_so_far | 7208960  |\n",
      "--------------------------------\n"
     ]
    },
    {
     "name": "stderr",
     "output_type": "stream",
     "text": [
      "3530batch [21:16,  2.97batch/s]"
     ]
    },
    {
     "name": "stdout",
     "output_type": "stream",
     "text": [
      "--------------------------------\n",
      "| batch_size        | 2048     |\n",
      "| bc/               |          |\n",
      "|    batch          | 3529     |\n",
      "|    ent_loss       | 0.00205  |\n",
      "|    entropy        | -2.05    |\n",
      "|    epoch          | 353      |\n",
      "|    l2_loss        | 0        |\n",
      "|    l2_norm        | 6.58e+03 |\n",
      "|    loss           | -2.73    |\n",
      "|    neglogp        | -2.73    |\n",
      "|    prob_true_act  | 17.1     |\n",
      "|    samples_so_far | 7229440  |\n",
      "--------------------------------\n"
     ]
    },
    {
     "name": "stderr",
     "output_type": "stream",
     "text": [
      "3540batch [21:20,  2.86batch/s]"
     ]
    },
    {
     "name": "stdout",
     "output_type": "stream",
     "text": [
      "--------------------------------\n",
      "| batch_size        | 2048     |\n",
      "| bc/               |          |\n",
      "|    batch          | 3539     |\n",
      "|    ent_loss       | 0.00206  |\n",
      "|    entropy        | -2.06    |\n",
      "|    epoch          | 354      |\n",
      "|    l2_loss        | 0        |\n",
      "|    l2_norm        | 6.58e+03 |\n",
      "|    loss           | -2.72    |\n",
      "|    neglogp        | -2.72    |\n",
      "|    prob_true_act  | 17.1     |\n",
      "|    samples_so_far | 7249920  |\n",
      "--------------------------------\n"
     ]
    },
    {
     "name": "stderr",
     "output_type": "stream",
     "text": [
      "3550batch [21:23,  2.87batch/s]"
     ]
    },
    {
     "name": "stdout",
     "output_type": "stream",
     "text": [
      "--------------------------------\n",
      "| batch_size        | 2048     |\n",
      "| bc/               |          |\n",
      "|    batch          | 3549     |\n",
      "|    ent_loss       | 0.00206  |\n",
      "|    entropy        | -2.06    |\n",
      "|    epoch          | 355      |\n",
      "|    l2_loss        | 0        |\n",
      "|    l2_norm        | 6.59e+03 |\n",
      "|    loss           | -2.75    |\n",
      "|    neglogp        | -2.75    |\n",
      "|    prob_true_act  | 17.6     |\n",
      "|    samples_so_far | 7270400  |\n",
      "--------------------------------\n"
     ]
    },
    {
     "name": "stderr",
     "output_type": "stream",
     "text": [
      "3560batch [21:27,  2.98batch/s]"
     ]
    },
    {
     "name": "stdout",
     "output_type": "stream",
     "text": [
      "--------------------------------\n",
      "| batch_size        | 2048     |\n",
      "| bc/               |          |\n",
      "|    batch          | 3559     |\n",
      "|    ent_loss       | 0.00206  |\n",
      "|    entropy        | -2.06    |\n",
      "|    epoch          | 356      |\n",
      "|    l2_loss        | 0        |\n",
      "|    l2_norm        | 6.6e+03  |\n",
      "|    loss           | -2.75    |\n",
      "|    neglogp        | -2.76    |\n",
      "|    prob_true_act  | 17.3     |\n",
      "|    samples_so_far | 7290880  |\n",
      "--------------------------------\n"
     ]
    },
    {
     "name": "stderr",
     "output_type": "stream",
     "text": [
      "3570batch [21:30,  2.93batch/s]"
     ]
    },
    {
     "name": "stdout",
     "output_type": "stream",
     "text": [
      "--------------------------------\n",
      "| batch_size        | 2048     |\n",
      "| bc/               |          |\n",
      "|    batch          | 3569     |\n",
      "|    ent_loss       | 0.00207  |\n",
      "|    entropy        | -2.07    |\n",
      "|    epoch          | 357      |\n",
      "|    l2_loss        | 0        |\n",
      "|    l2_norm        | 6.6e+03  |\n",
      "|    loss           | -2.73    |\n",
      "|    neglogp        | -2.74    |\n",
      "|    prob_true_act  | 17       |\n",
      "|    samples_so_far | 7311360  |\n",
      "--------------------------------\n"
     ]
    },
    {
     "name": "stderr",
     "output_type": "stream",
     "text": [
      "3580batch [21:34,  2.98batch/s]"
     ]
    },
    {
     "name": "stdout",
     "output_type": "stream",
     "text": [
      "--------------------------------\n",
      "| batch_size        | 2048     |\n",
      "| bc/               |          |\n",
      "|    batch          | 3579     |\n",
      "|    ent_loss       | 0.00207  |\n",
      "|    entropy        | -2.07    |\n",
      "|    epoch          | 358      |\n",
      "|    l2_loss        | 0        |\n",
      "|    l2_norm        | 6.61e+03 |\n",
      "|    loss           | -2.8     |\n",
      "|    neglogp        | -2.8     |\n",
      "|    prob_true_act  | 17.7     |\n",
      "|    samples_so_far | 7331840  |\n",
      "--------------------------------\n"
     ]
    },
    {
     "name": "stderr",
     "output_type": "stream",
     "text": [
      "3590batch [21:38,  2.95batch/s]"
     ]
    },
    {
     "name": "stdout",
     "output_type": "stream",
     "text": [
      "--------------------------------\n",
      "| batch_size        | 2048     |\n",
      "| bc/               |          |\n",
      "|    batch          | 3589     |\n",
      "|    ent_loss       | 0.00207  |\n",
      "|    entropy        | -2.07    |\n",
      "|    epoch          | 359      |\n",
      "|    l2_loss        | 0        |\n",
      "|    l2_norm        | 6.62e+03 |\n",
      "|    loss           | -2.77    |\n",
      "|    neglogp        | -2.77    |\n",
      "|    prob_true_act  | 17.5     |\n",
      "|    samples_so_far | 7352320  |\n",
      "--------------------------------\n"
     ]
    },
    {
     "name": "stderr",
     "output_type": "stream",
     "text": [
      "3600batch [21:41,  2.98batch/s]"
     ]
    },
    {
     "name": "stdout",
     "output_type": "stream",
     "text": [
      "--------------------------------\n",
      "| batch_size        | 2048     |\n",
      "| bc/               |          |\n",
      "|    batch          | 3599     |\n",
      "|    ent_loss       | 0.00208  |\n",
      "|    entropy        | -2.08    |\n",
      "|    epoch          | 360      |\n",
      "|    l2_loss        | 0        |\n",
      "|    l2_norm        | 6.62e+03 |\n",
      "|    loss           | -2.74    |\n",
      "|    neglogp        | -2.74    |\n",
      "|    prob_true_act  | 17.1     |\n",
      "|    samples_so_far | 7372800  |\n",
      "--------------------------------\n"
     ]
    },
    {
     "name": "stderr",
     "output_type": "stream",
     "text": [
      "3610batch [21:45,  2.97batch/s]"
     ]
    },
    {
     "name": "stdout",
     "output_type": "stream",
     "text": [
      "--------------------------------\n",
      "| batch_size        | 2048     |\n",
      "| bc/               |          |\n",
      "|    batch          | 3609     |\n",
      "|    ent_loss       | 0.00208  |\n",
      "|    entropy        | -2.08    |\n",
      "|    epoch          | 361      |\n",
      "|    l2_loss        | 0        |\n",
      "|    l2_norm        | 6.63e+03 |\n",
      "|    loss           | -2.78    |\n",
      "|    neglogp        | -2.79    |\n",
      "|    prob_true_act  | 18.1     |\n",
      "|    samples_so_far | 7393280  |\n",
      "--------------------------------\n"
     ]
    },
    {
     "name": "stderr",
     "output_type": "stream",
     "text": [
      "3620batch [21:48,  2.96batch/s]"
     ]
    },
    {
     "name": "stdout",
     "output_type": "stream",
     "text": [
      "--------------------------------\n",
      "| batch_size        | 2048     |\n",
      "| bc/               |          |\n",
      "|    batch          | 3619     |\n",
      "|    ent_loss       | 0.00209  |\n",
      "|    entropy        | -2.09    |\n",
      "|    epoch          | 362      |\n",
      "|    l2_loss        | 0        |\n",
      "|    l2_norm        | 6.63e+03 |\n",
      "|    loss           | -2.83    |\n",
      "|    neglogp        | -2.83    |\n",
      "|    prob_true_act  | 18.4     |\n",
      "|    samples_so_far | 7413760  |\n",
      "--------------------------------\n"
     ]
    },
    {
     "name": "stderr",
     "output_type": "stream",
     "text": [
      "3630batch [21:52,  2.98batch/s]"
     ]
    },
    {
     "name": "stdout",
     "output_type": "stream",
     "text": [
      "--------------------------------\n",
      "| batch_size        | 2048     |\n",
      "| bc/               |          |\n",
      "|    batch          | 3629     |\n",
      "|    ent_loss       | 0.00209  |\n",
      "|    entropy        | -2.09    |\n",
      "|    epoch          | 363      |\n",
      "|    l2_loss        | 0        |\n",
      "|    l2_norm        | 6.64e+03 |\n",
      "|    loss           | -2.84    |\n",
      "|    neglogp        | -2.84    |\n",
      "|    prob_true_act  | 18.4     |\n",
      "|    samples_so_far | 7434240  |\n",
      "--------------------------------\n"
     ]
    },
    {
     "name": "stderr",
     "output_type": "stream",
     "text": [
      "3640batch [21:55,  2.93batch/s]"
     ]
    },
    {
     "name": "stdout",
     "output_type": "stream",
     "text": [
      "--------------------------------\n",
      "| batch_size        | 2048     |\n",
      "| bc/               |          |\n",
      "|    batch          | 3639     |\n",
      "|    ent_loss       | 0.00209  |\n",
      "|    entropy        | -2.09    |\n",
      "|    epoch          | 364      |\n",
      "|    l2_loss        | 0        |\n",
      "|    l2_norm        | 6.65e+03 |\n",
      "|    loss           | -2.86    |\n",
      "|    neglogp        | -2.87    |\n",
      "|    prob_true_act  | 18.6     |\n",
      "|    samples_so_far | 7454720  |\n",
      "--------------------------------\n"
     ]
    },
    {
     "name": "stderr",
     "output_type": "stream",
     "text": [
      "3650batch [21:59,  2.80batch/s]"
     ]
    },
    {
     "name": "stdout",
     "output_type": "stream",
     "text": [
      "--------------------------------\n",
      "| batch_size        | 2048     |\n",
      "| bc/               |          |\n",
      "|    batch          | 3649     |\n",
      "|    ent_loss       | 0.0021   |\n",
      "|    entropy        | -2.1     |\n",
      "|    epoch          | 365      |\n",
      "|    l2_loss        | 0        |\n",
      "|    l2_norm        | 6.65e+03 |\n",
      "|    loss           | -2.83    |\n",
      "|    neglogp        | -2.83    |\n",
      "|    prob_true_act  | 18.6     |\n",
      "|    samples_so_far | 7475200  |\n",
      "--------------------------------\n"
     ]
    },
    {
     "name": "stderr",
     "output_type": "stream",
     "text": [
      "3660batch [22:02,  3.00batch/s]"
     ]
    },
    {
     "name": "stdout",
     "output_type": "stream",
     "text": [
      "--------------------------------\n",
      "| batch_size        | 2048     |\n",
      "| bc/               |          |\n",
      "|    batch          | 3659     |\n",
      "|    ent_loss       | 0.0021   |\n",
      "|    entropy        | -2.1     |\n",
      "|    epoch          | 366      |\n",
      "|    l2_loss        | 0        |\n",
      "|    l2_norm        | 6.66e+03 |\n",
      "|    loss           | -2.86    |\n",
      "|    neglogp        | -2.86    |\n",
      "|    prob_true_act  | 18.9     |\n",
      "|    samples_so_far | 7495680  |\n",
      "--------------------------------\n"
     ]
    },
    {
     "name": "stderr",
     "output_type": "stream",
     "text": [
      "3670batch [22:06,  2.84batch/s]"
     ]
    },
    {
     "name": "stdout",
     "output_type": "stream",
     "text": [
      "--------------------------------\n",
      "| batch_size        | 2048     |\n",
      "| bc/               |          |\n",
      "|    batch          | 3669     |\n",
      "|    ent_loss       | 0.0021   |\n",
      "|    entropy        | -2.1     |\n",
      "|    epoch          | 367      |\n",
      "|    l2_loss        | 0        |\n",
      "|    l2_norm        | 6.66e+03 |\n",
      "|    loss           | -2.86    |\n",
      "|    neglogp        | -2.86    |\n",
      "|    prob_true_act  | 19       |\n",
      "|    samples_so_far | 7516160  |\n",
      "--------------------------------\n"
     ]
    },
    {
     "name": "stderr",
     "output_type": "stream",
     "text": [
      "3680batch [22:10,  2.92batch/s]"
     ]
    },
    {
     "name": "stdout",
     "output_type": "stream",
     "text": [
      "--------------------------------\n",
      "| batch_size        | 2048     |\n",
      "| bc/               |          |\n",
      "|    batch          | 3679     |\n",
      "|    ent_loss       | 0.00211  |\n",
      "|    entropy        | -2.11    |\n",
      "|    epoch          | 368      |\n",
      "|    l2_loss        | 0        |\n",
      "|    l2_norm        | 6.67e+03 |\n",
      "|    loss           | -2.87    |\n",
      "|    neglogp        | -2.88    |\n",
      "|    prob_true_act  | 19       |\n",
      "|    samples_so_far | 7536640  |\n",
      "--------------------------------\n"
     ]
    },
    {
     "name": "stderr",
     "output_type": "stream",
     "text": [
      "3690batch [22:13,  2.97batch/s]"
     ]
    },
    {
     "name": "stdout",
     "output_type": "stream",
     "text": [
      "--------------------------------\n",
      "| batch_size        | 2048     |\n",
      "| bc/               |          |\n",
      "|    batch          | 3689     |\n",
      "|    ent_loss       | 0.00211  |\n",
      "|    entropy        | -2.11    |\n",
      "|    epoch          | 369      |\n",
      "|    l2_loss        | 0        |\n",
      "|    l2_norm        | 6.67e+03 |\n",
      "|    loss           | -2.86    |\n",
      "|    neglogp        | -2.86    |\n",
      "|    prob_true_act  | 18.9     |\n",
      "|    samples_so_far | 7557120  |\n",
      "--------------------------------\n"
     ]
    },
    {
     "name": "stderr",
     "output_type": "stream",
     "text": [
      "3700batch [22:17,  2.95batch/s]"
     ]
    },
    {
     "name": "stdout",
     "output_type": "stream",
     "text": [
      "--------------------------------\n",
      "| batch_size        | 2048     |\n",
      "| bc/               |          |\n",
      "|    batch          | 3699     |\n",
      "|    ent_loss       | 0.00212  |\n",
      "|    entropy        | -2.12    |\n",
      "|    epoch          | 370      |\n",
      "|    l2_loss        | 0        |\n",
      "|    l2_norm        | 6.68e+03 |\n",
      "|    loss           | -2.87    |\n",
      "|    neglogp        | -2.88    |\n",
      "|    prob_true_act  | 19.1     |\n",
      "|    samples_so_far | 7577600  |\n",
      "--------------------------------\n"
     ]
    },
    {
     "name": "stderr",
     "output_type": "stream",
     "text": [
      "3710batch [22:21,  2.72batch/s]"
     ]
    },
    {
     "name": "stdout",
     "output_type": "stream",
     "text": [
      "--------------------------------\n",
      "| batch_size        | 2048     |\n",
      "| bc/               |          |\n",
      "|    batch          | 3709     |\n",
      "|    ent_loss       | 0.00212  |\n",
      "|    entropy        | -2.12    |\n",
      "|    epoch          | 371      |\n",
      "|    l2_loss        | 0        |\n",
      "|    l2_norm        | 6.68e+03 |\n",
      "|    loss           | -2.91    |\n",
      "|    neglogp        | -2.91    |\n",
      "|    prob_true_act  | 19.4     |\n",
      "|    samples_so_far | 7598080  |\n",
      "--------------------------------\n"
     ]
    },
    {
     "name": "stderr",
     "output_type": "stream",
     "text": [
      "3720batch [22:24,  2.98batch/s]"
     ]
    },
    {
     "name": "stdout",
     "output_type": "stream",
     "text": [
      "--------------------------------\n",
      "| batch_size        | 2048     |\n",
      "| bc/               |          |\n",
      "|    batch          | 3719     |\n",
      "|    ent_loss       | 0.00213  |\n",
      "|    entropy        | -2.13    |\n",
      "|    epoch          | 372      |\n",
      "|    l2_loss        | 0        |\n",
      "|    l2_norm        | 6.69e+03 |\n",
      "|    loss           | -2.84    |\n",
      "|    neglogp        | -2.84    |\n",
      "|    prob_true_act  | 18.9     |\n",
      "|    samples_so_far | 7618560  |\n",
      "--------------------------------\n"
     ]
    },
    {
     "name": "stderr",
     "output_type": "stream",
     "text": [
      "3730batch [22:28,  2.98batch/s]"
     ]
    },
    {
     "name": "stdout",
     "output_type": "stream",
     "text": [
      "--------------------------------\n",
      "| batch_size        | 2048     |\n",
      "| bc/               |          |\n",
      "|    batch          | 3729     |\n",
      "|    ent_loss       | 0.00213  |\n",
      "|    entropy        | -2.13    |\n",
      "|    epoch          | 373      |\n",
      "|    l2_loss        | 0        |\n",
      "|    l2_norm        | 6.69e+03 |\n",
      "|    loss           | -2.9     |\n",
      "|    neglogp        | -2.9     |\n",
      "|    prob_true_act  | 19.6     |\n",
      "|    samples_so_far | 7639040  |\n",
      "--------------------------------\n"
     ]
    },
    {
     "name": "stderr",
     "output_type": "stream",
     "text": [
      "3740batch [22:31,  2.99batch/s]"
     ]
    },
    {
     "name": "stdout",
     "output_type": "stream",
     "text": [
      "--------------------------------\n",
      "| batch_size        | 2048     |\n",
      "| bc/               |          |\n",
      "|    batch          | 3739     |\n",
      "|    ent_loss       | 0.00213  |\n",
      "|    entropy        | -2.13    |\n",
      "|    epoch          | 374      |\n",
      "|    l2_loss        | 0        |\n",
      "|    l2_norm        | 6.7e+03  |\n",
      "|    loss           | -2.9     |\n",
      "|    neglogp        | -2.9     |\n",
      "|    prob_true_act  | 19.4     |\n",
      "|    samples_so_far | 7659520  |\n",
      "--------------------------------\n"
     ]
    },
    {
     "name": "stderr",
     "output_type": "stream",
     "text": [
      "3750batch [22:36,  2.34batch/s]"
     ]
    },
    {
     "name": "stdout",
     "output_type": "stream",
     "text": [
      "--------------------------------\n",
      "| batch_size        | 2048     |\n",
      "| bc/               |          |\n",
      "|    batch          | 3749     |\n",
      "|    ent_loss       | 0.00214  |\n",
      "|    entropy        | -2.14    |\n",
      "|    epoch          | 375      |\n",
      "|    l2_loss        | 0        |\n",
      "|    l2_norm        | 6.7e+03  |\n",
      "|    loss           | -2.85    |\n",
      "|    neglogp        | -2.86    |\n",
      "|    prob_true_act  | 18.7     |\n",
      "|    samples_so_far | 7680000  |\n",
      "--------------------------------\n"
     ]
    },
    {
     "name": "stderr",
     "output_type": "stream",
     "text": [
      "3760batch [22:40,  2.96batch/s]"
     ]
    },
    {
     "name": "stdout",
     "output_type": "stream",
     "text": [
      "--------------------------------\n",
      "| batch_size        | 2048     |\n",
      "| bc/               |          |\n",
      "|    batch          | 3759     |\n",
      "|    ent_loss       | 0.00214  |\n",
      "|    entropy        | -2.14    |\n",
      "|    epoch          | 376      |\n",
      "|    l2_loss        | 0        |\n",
      "|    l2_norm        | 6.71e+03 |\n",
      "|    loss           | -2.96    |\n",
      "|    neglogp        | -2.96    |\n",
      "|    prob_true_act  | 20.3     |\n",
      "|    samples_so_far | 7700480  |\n",
      "--------------------------------\n"
     ]
    },
    {
     "name": "stderr",
     "output_type": "stream",
     "text": [
      "3770batch [22:43,  2.91batch/s]"
     ]
    },
    {
     "name": "stdout",
     "output_type": "stream",
     "text": [
      "--------------------------------\n",
      "| batch_size        | 2048     |\n",
      "| bc/               |          |\n",
      "|    batch          | 3769     |\n",
      "|    ent_loss       | 0.00215  |\n",
      "|    entropy        | -2.15    |\n",
      "|    epoch          | 377      |\n",
      "|    l2_loss        | 0        |\n",
      "|    l2_norm        | 6.71e+03 |\n",
      "|    loss           | -2.96    |\n",
      "|    neglogp        | -2.96    |\n",
      "|    prob_true_act  | 20.3     |\n",
      "|    samples_so_far | 7720960  |\n",
      "--------------------------------\n"
     ]
    },
    {
     "name": "stderr",
     "output_type": "stream",
     "text": [
      "3780batch [22:47,  2.97batch/s]"
     ]
    },
    {
     "name": "stdout",
     "output_type": "stream",
     "text": [
      "--------------------------------\n",
      "| batch_size        | 2048     |\n",
      "| bc/               |          |\n",
      "|    batch          | 3779     |\n",
      "|    ent_loss       | 0.00215  |\n",
      "|    entropy        | -2.15    |\n",
      "|    epoch          | 378      |\n",
      "|    l2_loss        | 0        |\n",
      "|    l2_norm        | 6.72e+03 |\n",
      "|    loss           | -2.95    |\n",
      "|    neglogp        | -2.96    |\n",
      "|    prob_true_act  | 20.3     |\n",
      "|    samples_so_far | 7741440  |\n",
      "--------------------------------\n"
     ]
    },
    {
     "name": "stderr",
     "output_type": "stream",
     "text": [
      "3790batch [22:50,  2.99batch/s]"
     ]
    },
    {
     "name": "stdout",
     "output_type": "stream",
     "text": [
      "--------------------------------\n",
      "| batch_size        | 2048     |\n",
      "| bc/               |          |\n",
      "|    batch          | 3789     |\n",
      "|    ent_loss       | 0.00216  |\n",
      "|    entropy        | -2.16    |\n",
      "|    epoch          | 379      |\n",
      "|    l2_loss        | 0        |\n",
      "|    l2_norm        | 6.72e+03 |\n",
      "|    loss           | -2.96    |\n",
      "|    neglogp        | -2.97    |\n",
      "|    prob_true_act  | 20.4     |\n",
      "|    samples_so_far | 7761920  |\n",
      "--------------------------------\n"
     ]
    },
    {
     "name": "stderr",
     "output_type": "stream",
     "text": [
      "3800batch [22:54,  2.99batch/s]"
     ]
    },
    {
     "name": "stdout",
     "output_type": "stream",
     "text": [
      "--------------------------------\n",
      "| batch_size        | 2048     |\n",
      "| bc/               |          |\n",
      "|    batch          | 3799     |\n",
      "|    ent_loss       | 0.00216  |\n",
      "|    entropy        | -2.16    |\n",
      "|    epoch          | 380      |\n",
      "|    l2_loss        | 0        |\n",
      "|    l2_norm        | 6.73e+03 |\n",
      "|    loss           | -2.98    |\n",
      "|    neglogp        | -2.98    |\n",
      "|    prob_true_act  | 20.6     |\n",
      "|    samples_so_far | 7782400  |\n",
      "--------------------------------\n"
     ]
    },
    {
     "name": "stderr",
     "output_type": "stream",
     "text": [
      "3810batch [22:59,  1.82batch/s]"
     ]
    },
    {
     "name": "stdout",
     "output_type": "stream",
     "text": [
      "--------------------------------\n",
      "| batch_size        | 2048     |\n",
      "| bc/               |          |\n",
      "|    batch          | 3809     |\n",
      "|    ent_loss       | 0.00216  |\n",
      "|    entropy        | -2.16    |\n",
      "|    epoch          | 381      |\n",
      "|    l2_loss        | 0        |\n",
      "|    l2_norm        | 6.73e+03 |\n",
      "|    loss           | -2.97    |\n",
      "|    neglogp        | -2.97    |\n",
      "|    prob_true_act  | 20.7     |\n",
      "|    samples_so_far | 7802880  |\n",
      "--------------------------------\n"
     ]
    },
    {
     "name": "stderr",
     "output_type": "stream",
     "text": [
      "3820batch [23:02,  2.92batch/s]"
     ]
    },
    {
     "name": "stdout",
     "output_type": "stream",
     "text": [
      "--------------------------------\n",
      "| batch_size        | 2048     |\n",
      "| bc/               |          |\n",
      "|    batch          | 3819     |\n",
      "|    ent_loss       | 0.00217  |\n",
      "|    entropy        | -2.17    |\n",
      "|    epoch          | 382      |\n",
      "|    l2_loss        | 0        |\n",
      "|    l2_norm        | 6.73e+03 |\n",
      "|    loss           | -2.98    |\n",
      "|    neglogp        | -2.98    |\n",
      "|    prob_true_act  | 20.5     |\n",
      "|    samples_so_far | 7823360  |\n",
      "--------------------------------\n"
     ]
    },
    {
     "name": "stderr",
     "output_type": "stream",
     "text": [
      "3830batch [23:06,  3.01batch/s]"
     ]
    },
    {
     "name": "stdout",
     "output_type": "stream",
     "text": [
      "--------------------------------\n",
      "| batch_size        | 2048     |\n",
      "| bc/               |          |\n",
      "|    batch          | 3829     |\n",
      "|    ent_loss       | 0.00217  |\n",
      "|    entropy        | -2.17    |\n",
      "|    epoch          | 383      |\n",
      "|    l2_loss        | 0        |\n",
      "|    l2_norm        | 6.74e+03 |\n",
      "|    loss           | -3       |\n",
      "|    neglogp        | -3       |\n",
      "|    prob_true_act  | 21.2     |\n",
      "|    samples_so_far | 7843840  |\n",
      "--------------------------------\n"
     ]
    },
    {
     "name": "stderr",
     "output_type": "stream",
     "text": [
      "3840batch [23:09,  2.64batch/s]"
     ]
    },
    {
     "name": "stdout",
     "output_type": "stream",
     "text": [
      "--------------------------------\n",
      "| batch_size        | 2048     |\n",
      "| bc/               |          |\n",
      "|    batch          | 3839     |\n",
      "|    ent_loss       | 0.00218  |\n",
      "|    entropy        | -2.18    |\n",
      "|    epoch          | 384      |\n",
      "|    l2_loss        | 0        |\n",
      "|    l2_norm        | 6.74e+03 |\n",
      "|    loss           | -3.02    |\n",
      "|    neglogp        | -3.02    |\n",
      "|    prob_true_act  | 21.5     |\n",
      "|    samples_so_far | 7864320  |\n",
      "--------------------------------\n"
     ]
    },
    {
     "name": "stderr",
     "output_type": "stream",
     "text": [
      "3850batch [23:13,  2.90batch/s]"
     ]
    },
    {
     "name": "stdout",
     "output_type": "stream",
     "text": [
      "--------------------------------\n",
      "| batch_size        | 2048     |\n",
      "| bc/               |          |\n",
      "|    batch          | 3849     |\n",
      "|    ent_loss       | 0.00218  |\n",
      "|    entropy        | -2.18    |\n",
      "|    epoch          | 385      |\n",
      "|    l2_loss        | 0        |\n",
      "|    l2_norm        | 6.75e+03 |\n",
      "|    loss           | -3.03    |\n",
      "|    neglogp        | -3.03    |\n",
      "|    prob_true_act  | 21.6     |\n",
      "|    samples_so_far | 7884800  |\n",
      "--------------------------------\n"
     ]
    },
    {
     "name": "stderr",
     "output_type": "stream",
     "text": [
      "3860batch [23:16,  2.96batch/s]"
     ]
    },
    {
     "name": "stdout",
     "output_type": "stream",
     "text": [
      "--------------------------------\n",
      "| batch_size        | 2048     |\n",
      "| bc/               |          |\n",
      "|    batch          | 3859     |\n",
      "|    ent_loss       | 0.00219  |\n",
      "|    entropy        | -2.19    |\n",
      "|    epoch          | 386      |\n",
      "|    l2_loss        | 0        |\n",
      "|    l2_norm        | 6.75e+03 |\n",
      "|    loss           | -2.94    |\n",
      "|    neglogp        | -2.94    |\n",
      "|    prob_true_act  | 20.2     |\n",
      "|    samples_so_far | 7905280  |\n",
      "--------------------------------\n"
     ]
    },
    {
     "name": "stderr",
     "output_type": "stream",
     "text": [
      "3870batch [23:20,  2.96batch/s]"
     ]
    },
    {
     "name": "stdout",
     "output_type": "stream",
     "text": [
      "--------------------------------\n",
      "| batch_size        | 2048     |\n",
      "| bc/               |          |\n",
      "|    batch          | 3869     |\n",
      "|    ent_loss       | 0.00219  |\n",
      "|    entropy        | -2.19    |\n",
      "|    epoch          | 387      |\n",
      "|    l2_loss        | 0        |\n",
      "|    l2_norm        | 6.75e+03 |\n",
      "|    loss           | -2.98    |\n",
      "|    neglogp        | -2.98    |\n",
      "|    prob_true_act  | 21.3     |\n",
      "|    samples_so_far | 7925760  |\n",
      "--------------------------------\n"
     ]
    },
    {
     "name": "stderr",
     "output_type": "stream",
     "text": [
      "3880batch [23:24,  2.96batch/s]"
     ]
    },
    {
     "name": "stdout",
     "output_type": "stream",
     "text": [
      "--------------------------------\n",
      "| batch_size        | 2048     |\n",
      "| bc/               |          |\n",
      "|    batch          | 3879     |\n",
      "|    ent_loss       | 0.0022   |\n",
      "|    entropy        | -2.2     |\n",
      "|    epoch          | 388      |\n",
      "|    l2_loss        | 0        |\n",
      "|    l2_norm        | 6.76e+03 |\n",
      "|    loss           | -3.03    |\n",
      "|    neglogp        | -3.03    |\n",
      "|    prob_true_act  | 21.6     |\n",
      "|    samples_so_far | 7946240  |\n",
      "--------------------------------\n"
     ]
    },
    {
     "name": "stderr",
     "output_type": "stream",
     "text": [
      "3890batch [23:27,  2.98batch/s]"
     ]
    },
    {
     "name": "stdout",
     "output_type": "stream",
     "text": [
      "--------------------------------\n",
      "| batch_size        | 2048     |\n",
      "| bc/               |          |\n",
      "|    batch          | 3889     |\n",
      "|    ent_loss       | 0.0022   |\n",
      "|    entropy        | -2.2     |\n",
      "|    epoch          | 389      |\n",
      "|    l2_loss        | 0        |\n",
      "|    l2_norm        | 6.76e+03 |\n",
      "|    loss           | -3       |\n",
      "|    neglogp        | -3.01    |\n",
      "|    prob_true_act  | 21.2     |\n",
      "|    samples_so_far | 7966720  |\n",
      "--------------------------------\n"
     ]
    },
    {
     "name": "stderr",
     "output_type": "stream",
     "text": [
      "3900batch [23:32,  2.36batch/s]"
     ]
    },
    {
     "name": "stdout",
     "output_type": "stream",
     "text": [
      "--------------------------------\n",
      "| batch_size        | 2048     |\n",
      "| bc/               |          |\n",
      "|    batch          | 3899     |\n",
      "|    ent_loss       | 0.00221  |\n",
      "|    entropy        | -2.21    |\n",
      "|    epoch          | 390      |\n",
      "|    l2_loss        | 0        |\n",
      "|    l2_norm        | 6.77e+03 |\n",
      "|    loss           | -3.03    |\n",
      "|    neglogp        | -3.03    |\n",
      "|    prob_true_act  | 22       |\n",
      "|    samples_so_far | 7987200  |\n",
      "--------------------------------\n"
     ]
    },
    {
     "name": "stderr",
     "output_type": "stream",
     "text": [
      "3910batch [23:35,  2.97batch/s]"
     ]
    },
    {
     "name": "stdout",
     "output_type": "stream",
     "text": [
      "--------------------------------\n",
      "| batch_size        | 2048     |\n",
      "| bc/               |          |\n",
      "|    batch          | 3909     |\n",
      "|    ent_loss       | 0.00221  |\n",
      "|    entropy        | -2.21    |\n",
      "|    epoch          | 391      |\n",
      "|    l2_loss        | 0        |\n",
      "|    l2_norm        | 6.77e+03 |\n",
      "|    loss           | -3.05    |\n",
      "|    neglogp        | -3.05    |\n",
      "|    prob_true_act  | 22       |\n",
      "|    samples_so_far | 8007680  |\n",
      "--------------------------------\n"
     ]
    },
    {
     "name": "stderr",
     "output_type": "stream",
     "text": [
      "3920batch [23:39,  2.97batch/s]"
     ]
    },
    {
     "name": "stdout",
     "output_type": "stream",
     "text": [
      "--------------------------------\n",
      "| batch_size        | 2048     |\n",
      "| bc/               |          |\n",
      "|    batch          | 3919     |\n",
      "|    ent_loss       | 0.00222  |\n",
      "|    entropy        | -2.22    |\n",
      "|    epoch          | 392      |\n",
      "|    l2_loss        | 0        |\n",
      "|    l2_norm        | 6.77e+03 |\n",
      "|    loss           | -3.03    |\n",
      "|    neglogp        | -3.04    |\n",
      "|    prob_true_act  | 21.8     |\n",
      "|    samples_so_far | 8028160  |\n",
      "--------------------------------\n"
     ]
    },
    {
     "name": "stderr",
     "output_type": "stream",
     "text": [
      "3930batch [23:43,  2.76batch/s]"
     ]
    },
    {
     "name": "stdout",
     "output_type": "stream",
     "text": [
      "--------------------------------\n",
      "| batch_size        | 2048     |\n",
      "| bc/               |          |\n",
      "|    batch          | 3929     |\n",
      "|    ent_loss       | 0.00222  |\n",
      "|    entropy        | -2.22    |\n",
      "|    epoch          | 393      |\n",
      "|    l2_loss        | 0        |\n",
      "|    l2_norm        | 6.78e+03 |\n",
      "|    loss           | -3.05    |\n",
      "|    neglogp        | -3.05    |\n",
      "|    prob_true_act  | 21.7     |\n",
      "|    samples_so_far | 8048640  |\n",
      "--------------------------------\n"
     ]
    },
    {
     "name": "stderr",
     "output_type": "stream",
     "text": [
      "3940batch [23:46,  2.94batch/s]"
     ]
    },
    {
     "name": "stdout",
     "output_type": "stream",
     "text": [
      "--------------------------------\n",
      "| batch_size        | 2048     |\n",
      "| bc/               |          |\n",
      "|    batch          | 3939     |\n",
      "|    ent_loss       | 0.00223  |\n",
      "|    entropy        | -2.23    |\n",
      "|    epoch          | 394      |\n",
      "|    l2_loss        | 0        |\n",
      "|    l2_norm        | 6.78e+03 |\n",
      "|    loss           | -3.05    |\n",
      "|    neglogp        | -3.06    |\n",
      "|    prob_true_act  | 22.2     |\n",
      "|    samples_so_far | 8069120  |\n",
      "--------------------------------\n"
     ]
    },
    {
     "name": "stderr",
     "output_type": "stream",
     "text": [
      "3950batch [23:50,  2.97batch/s]"
     ]
    },
    {
     "name": "stdout",
     "output_type": "stream",
     "text": [
      "--------------------------------\n",
      "| batch_size        | 2048     |\n",
      "| bc/               |          |\n",
      "|    batch          | 3949     |\n",
      "|    ent_loss       | 0.00223  |\n",
      "|    entropy        | -2.23    |\n",
      "|    epoch          | 395      |\n",
      "|    l2_loss        | 0        |\n",
      "|    l2_norm        | 6.78e+03 |\n",
      "|    loss           | -2.98    |\n",
      "|    neglogp        | -2.98    |\n",
      "|    prob_true_act  | 21       |\n",
      "|    samples_so_far | 8089600  |\n",
      "--------------------------------\n"
     ]
    },
    {
     "name": "stderr",
     "output_type": "stream",
     "text": [
      "3960batch [23:53,  2.92batch/s]"
     ]
    },
    {
     "name": "stdout",
     "output_type": "stream",
     "text": [
      "--------------------------------\n",
      "| batch_size        | 2048     |\n",
      "| bc/               |          |\n",
      "|    batch          | 3959     |\n",
      "|    ent_loss       | 0.00224  |\n",
      "|    entropy        | -2.24    |\n",
      "|    epoch          | 396      |\n",
      "|    l2_loss        | 0        |\n",
      "|    l2_norm        | 6.79e+03 |\n",
      "|    loss           | -3.08    |\n",
      "|    neglogp        | -3.08    |\n",
      "|    prob_true_act  | 22.5     |\n",
      "|    samples_so_far | 8110080  |\n",
      "--------------------------------\n"
     ]
    },
    {
     "name": "stderr",
     "output_type": "stream",
     "text": [
      "3970batch [23:57,  2.51batch/s]"
     ]
    },
    {
     "name": "stdout",
     "output_type": "stream",
     "text": [
      "--------------------------------\n",
      "| batch_size        | 2048     |\n",
      "| bc/               |          |\n",
      "|    batch          | 3969     |\n",
      "|    ent_loss       | 0.00224  |\n",
      "|    entropy        | -2.24    |\n",
      "|    epoch          | 397      |\n",
      "|    l2_loss        | 0        |\n",
      "|    l2_norm        | 6.79e+03 |\n",
      "|    loss           | -3.06    |\n",
      "|    neglogp        | -3.06    |\n",
      "|    prob_true_act  | 22.2     |\n",
      "|    samples_so_far | 8130560  |\n",
      "--------------------------------\n"
     ]
    },
    {
     "name": "stderr",
     "output_type": "stream",
     "text": [
      "3980batch [24:01,  2.96batch/s]"
     ]
    },
    {
     "name": "stdout",
     "output_type": "stream",
     "text": [
      "--------------------------------\n",
      "| batch_size        | 2048     |\n",
      "| bc/               |          |\n",
      "|    batch          | 3979     |\n",
      "|    ent_loss       | 0.00225  |\n",
      "|    entropy        | -2.25    |\n",
      "|    epoch          | 398      |\n",
      "|    l2_loss        | 0        |\n",
      "|    l2_norm        | 6.8e+03  |\n",
      "|    loss           | -3.1     |\n",
      "|    neglogp        | -3.1     |\n",
      "|    prob_true_act  | 23       |\n",
      "|    samples_so_far | 8151040  |\n",
      "--------------------------------\n"
     ]
    },
    {
     "name": "stderr",
     "output_type": "stream",
     "text": [
      "3990batch [24:04,  2.96batch/s]"
     ]
    },
    {
     "name": "stdout",
     "output_type": "stream",
     "text": [
      "--------------------------------\n",
      "| batch_size        | 2048     |\n",
      "| bc/               |          |\n",
      "|    batch          | 3989     |\n",
      "|    ent_loss       | 0.00225  |\n",
      "|    entropy        | -2.25    |\n",
      "|    epoch          | 399      |\n",
      "|    l2_loss        | 0        |\n",
      "|    l2_norm        | 6.8e+03  |\n",
      "|    loss           | -3.09    |\n",
      "|    neglogp        | -3.1     |\n",
      "|    prob_true_act  | 23       |\n",
      "|    samples_so_far | 8171520  |\n",
      "--------------------------------\n"
     ]
    },
    {
     "name": "stderr",
     "output_type": "stream",
     "text": [
      "4000batch [24:08,  2.94batch/s]"
     ]
    },
    {
     "name": "stdout",
     "output_type": "stream",
     "text": [
      "--------------------------------\n",
      "| batch_size        | 2048     |\n",
      "| bc/               |          |\n",
      "|    batch          | 3999     |\n",
      "|    ent_loss       | 0.00226  |\n",
      "|    entropy        | -2.26    |\n",
      "|    epoch          | 400      |\n",
      "|    l2_loss        | 0        |\n",
      "|    l2_norm        | 6.8e+03  |\n",
      "|    loss           | -3.13    |\n",
      "|    neglogp        | -3.13    |\n",
      "|    prob_true_act  | 23.6     |\n",
      "|    samples_so_far | 8192000  |\n",
      "--------------------------------\n"
     ]
    },
    {
     "name": "stderr",
     "output_type": "stream",
     "text": [
      "4010batch [24:11,  3.00batch/s]"
     ]
    },
    {
     "name": "stdout",
     "output_type": "stream",
     "text": [
      "--------------------------------\n",
      "| batch_size        | 2048     |\n",
      "| bc/               |          |\n",
      "|    batch          | 4009     |\n",
      "|    ent_loss       | 0.00226  |\n",
      "|    entropy        | -2.26    |\n",
      "|    epoch          | 401      |\n",
      "|    l2_loss        | 0        |\n",
      "|    l2_norm        | 6.81e+03 |\n",
      "|    loss           | -3.12    |\n",
      "|    neglogp        | -3.12    |\n",
      "|    prob_true_act  | 23.2     |\n",
      "|    samples_so_far | 8212480  |\n",
      "--------------------------------\n"
     ]
    },
    {
     "name": "stderr",
     "output_type": "stream",
     "text": [
      "4020batch [24:15,  2.55batch/s]"
     ]
    },
    {
     "name": "stdout",
     "output_type": "stream",
     "text": [
      "--------------------------------\n",
      "| batch_size        | 2048     |\n",
      "| bc/               |          |\n",
      "|    batch          | 4019     |\n",
      "|    ent_loss       | 0.00227  |\n",
      "|    entropy        | -2.27    |\n",
      "|    epoch          | 402      |\n",
      "|    l2_loss        | 0        |\n",
      "|    l2_norm        | 6.81e+03 |\n",
      "|    loss           | -3.11    |\n",
      "|    neglogp        | -3.11    |\n",
      "|    prob_true_act  | 23.3     |\n",
      "|    samples_so_far | 8232960  |\n",
      "--------------------------------\n"
     ]
    },
    {
     "name": "stderr",
     "output_type": "stream",
     "text": [
      "4030batch [24:19,  2.97batch/s]"
     ]
    },
    {
     "name": "stdout",
     "output_type": "stream",
     "text": [
      "--------------------------------\n",
      "| batch_size        | 2048     |\n",
      "| bc/               |          |\n",
      "|    batch          | 4029     |\n",
      "|    ent_loss       | 0.00227  |\n",
      "|    entropy        | -2.27    |\n",
      "|    epoch          | 403      |\n",
      "|    l2_loss        | 0        |\n",
      "|    l2_norm        | 6.81e+03 |\n",
      "|    loss           | -3.08    |\n",
      "|    neglogp        | -3.09    |\n",
      "|    prob_true_act  | 22.5     |\n",
      "|    samples_so_far | 8253440  |\n",
      "--------------------------------\n"
     ]
    },
    {
     "name": "stderr",
     "output_type": "stream",
     "text": [
      "4040batch [24:23,  2.99batch/s]"
     ]
    },
    {
     "name": "stdout",
     "output_type": "stream",
     "text": [
      "--------------------------------\n",
      "| batch_size        | 2048     |\n",
      "| bc/               |          |\n",
      "|    batch          | 4039     |\n",
      "|    ent_loss       | 0.00228  |\n",
      "|    entropy        | -2.28    |\n",
      "|    epoch          | 404      |\n",
      "|    l2_loss        | 0        |\n",
      "|    l2_norm        | 6.82e+03 |\n",
      "|    loss           | -3.11    |\n",
      "|    neglogp        | -3.11    |\n",
      "|    prob_true_act  | 23.4     |\n",
      "|    samples_so_far | 8273920  |\n",
      "--------------------------------\n"
     ]
    },
    {
     "name": "stderr",
     "output_type": "stream",
     "text": [
      "4050batch [24:26,  2.97batch/s]"
     ]
    },
    {
     "name": "stdout",
     "output_type": "stream",
     "text": [
      "--------------------------------\n",
      "| batch_size        | 2048     |\n",
      "| bc/               |          |\n",
      "|    batch          | 4049     |\n",
      "|    ent_loss       | 0.00228  |\n",
      "|    entropy        | -2.28    |\n",
      "|    epoch          | 405      |\n",
      "|    l2_loss        | 0        |\n",
      "|    l2_norm        | 6.82e+03 |\n",
      "|    loss           | -3.12    |\n",
      "|    neglogp        | -3.12    |\n",
      "|    prob_true_act  | 23.3     |\n",
      "|    samples_so_far | 8294400  |\n",
      "--------------------------------\n"
     ]
    },
    {
     "name": "stderr",
     "output_type": "stream",
     "text": [
      "4060batch [24:30,  2.95batch/s]"
     ]
    },
    {
     "name": "stdout",
     "output_type": "stream",
     "text": [
      "--------------------------------\n",
      "| batch_size        | 2048     |\n",
      "| bc/               |          |\n",
      "|    batch          | 4059     |\n",
      "|    ent_loss       | 0.00229  |\n",
      "|    entropy        | -2.29    |\n",
      "|    epoch          | 406      |\n",
      "|    l2_loss        | 0        |\n",
      "|    l2_norm        | 6.82e+03 |\n",
      "|    loss           | -3.07    |\n",
      "|    neglogp        | -3.08    |\n",
      "|    prob_true_act  | 22.9     |\n",
      "|    samples_so_far | 8314880  |\n",
      "--------------------------------\n"
     ]
    },
    {
     "name": "stderr",
     "output_type": "stream",
     "text": [
      "4070batch [24:33,  2.91batch/s]"
     ]
    },
    {
     "name": "stdout",
     "output_type": "stream",
     "text": [
      "--------------------------------\n",
      "| batch_size        | 2048     |\n",
      "| bc/               |          |\n",
      "|    batch          | 4069     |\n",
      "|    ent_loss       | 0.00229  |\n",
      "|    entropy        | -2.29    |\n",
      "|    epoch          | 407      |\n",
      "|    l2_loss        | 0        |\n",
      "|    l2_norm        | 6.83e+03 |\n",
      "|    loss           | -3.1     |\n",
      "|    neglogp        | -3.1     |\n",
      "|    prob_true_act  | 23.1     |\n",
      "|    samples_so_far | 8335360  |\n",
      "--------------------------------\n"
     ]
    },
    {
     "name": "stderr",
     "output_type": "stream",
     "text": [
      "4080batch [24:37,  2.96batch/s]"
     ]
    },
    {
     "name": "stdout",
     "output_type": "stream",
     "text": [
      "--------------------------------\n",
      "| batch_size        | 2048     |\n",
      "| bc/               |          |\n",
      "|    batch          | 4079     |\n",
      "|    ent_loss       | 0.0023   |\n",
      "|    entropy        | -2.3     |\n",
      "|    epoch          | 408      |\n",
      "|    l2_loss        | 0        |\n",
      "|    l2_norm        | 6.83e+03 |\n",
      "|    loss           | -3.1     |\n",
      "|    neglogp        | -3.1     |\n",
      "|    prob_true_act  | 23       |\n",
      "|    samples_so_far | 8355840  |\n",
      "--------------------------------\n"
     ]
    },
    {
     "name": "stderr",
     "output_type": "stream",
     "text": [
      "4090batch [24:41,  2.95batch/s]"
     ]
    },
    {
     "name": "stdout",
     "output_type": "stream",
     "text": [
      "--------------------------------\n",
      "| batch_size        | 2048     |\n",
      "| bc/               |          |\n",
      "|    batch          | 4089     |\n",
      "|    ent_loss       | 0.0023   |\n",
      "|    entropy        | -2.3     |\n",
      "|    epoch          | 409      |\n",
      "|    l2_loss        | 0        |\n",
      "|    l2_norm        | 6.83e+03 |\n",
      "|    loss           | -3.1     |\n",
      "|    neglogp        | -3.1     |\n",
      "|    prob_true_act  | 23.3     |\n",
      "|    samples_so_far | 8376320  |\n",
      "--------------------------------\n"
     ]
    },
    {
     "name": "stderr",
     "output_type": "stream",
     "text": [
      "4100batch [24:45,  1.66batch/s]"
     ]
    },
    {
     "name": "stdout",
     "output_type": "stream",
     "text": [
      "--------------------------------\n",
      "| batch_size        | 2048     |\n",
      "| bc/               |          |\n",
      "|    batch          | 4099     |\n",
      "|    ent_loss       | 0.00231  |\n",
      "|    entropy        | -2.31    |\n",
      "|    epoch          | 410      |\n",
      "|    l2_loss        | 0        |\n",
      "|    l2_norm        | 6.84e+03 |\n",
      "|    loss           | -3.09    |\n",
      "|    neglogp        | -3.09    |\n",
      "|    prob_true_act  | 22.9     |\n",
      "|    samples_so_far | 8396800  |\n",
      "--------------------------------\n"
     ]
    },
    {
     "name": "stderr",
     "output_type": "stream",
     "text": [
      "4110batch [24:49,  2.88batch/s]"
     ]
    },
    {
     "name": "stdout",
     "output_type": "stream",
     "text": [
      "--------------------------------\n",
      "| batch_size        | 2048     |\n",
      "| bc/               |          |\n",
      "|    batch          | 4109     |\n",
      "|    ent_loss       | 0.00231  |\n",
      "|    entropy        | -2.31    |\n",
      "|    epoch          | 411      |\n",
      "|    l2_loss        | 0        |\n",
      "|    l2_norm        | 6.84e+03 |\n",
      "|    loss           | -3.17    |\n",
      "|    neglogp        | -3.18    |\n",
      "|    prob_true_act  | 24.6     |\n",
      "|    samples_so_far | 8417280  |\n",
      "--------------------------------\n"
     ]
    },
    {
     "name": "stderr",
     "output_type": "stream",
     "text": [
      "4120batch [24:52,  2.92batch/s]"
     ]
    },
    {
     "name": "stdout",
     "output_type": "stream",
     "text": [
      "--------------------------------\n",
      "| batch_size        | 2048     |\n",
      "| bc/               |          |\n",
      "|    batch          | 4119     |\n",
      "|    ent_loss       | 0.00232  |\n",
      "|    entropy        | -2.32    |\n",
      "|    epoch          | 412      |\n",
      "|    l2_loss        | 0        |\n",
      "|    l2_norm        | 6.84e+03 |\n",
      "|    loss           | -3.14    |\n",
      "|    neglogp        | -3.14    |\n",
      "|    prob_true_act  | 24.2     |\n",
      "|    samples_so_far | 8437760  |\n",
      "--------------------------------\n"
     ]
    },
    {
     "name": "stderr",
     "output_type": "stream",
     "text": [
      "4130batch [24:57,  2.62batch/s]"
     ]
    },
    {
     "name": "stdout",
     "output_type": "stream",
     "text": [
      "--------------------------------\n",
      "| batch_size        | 2048     |\n",
      "| bc/               |          |\n",
      "|    batch          | 4129     |\n",
      "|    ent_loss       | 0.00233  |\n",
      "|    entropy        | -2.33    |\n",
      "|    epoch          | 413      |\n",
      "|    l2_loss        | 0        |\n",
      "|    l2_norm        | 6.85e+03 |\n",
      "|    loss           | -3.2     |\n",
      "|    neglogp        | -3.2     |\n",
      "|    prob_true_act  | 25.3     |\n",
      "|    samples_so_far | 8458240  |\n",
      "--------------------------------\n"
     ]
    },
    {
     "name": "stderr",
     "output_type": "stream",
     "text": [
      "4140batch [25:00,  2.95batch/s]"
     ]
    },
    {
     "name": "stdout",
     "output_type": "stream",
     "text": [
      "--------------------------------\n",
      "| batch_size        | 2048     |\n",
      "| bc/               |          |\n",
      "|    batch          | 4139     |\n",
      "|    ent_loss       | 0.00233  |\n",
      "|    entropy        | -2.33    |\n",
      "|    epoch          | 414      |\n",
      "|    l2_loss        | 0        |\n",
      "|    l2_norm        | 6.85e+03 |\n",
      "|    loss           | -3.18    |\n",
      "|    neglogp        | -3.18    |\n",
      "|    prob_true_act  | 25.7     |\n",
      "|    samples_so_far | 8478720  |\n",
      "--------------------------------\n"
     ]
    },
    {
     "name": "stderr",
     "output_type": "stream",
     "text": [
      "4150batch [25:04,  2.97batch/s]"
     ]
    },
    {
     "name": "stdout",
     "output_type": "stream",
     "text": [
      "--------------------------------\n",
      "| batch_size        | 2048     |\n",
      "| bc/               |          |\n",
      "|    batch          | 4149     |\n",
      "|    ent_loss       | 0.00234  |\n",
      "|    entropy        | -2.34    |\n",
      "|    epoch          | 415      |\n",
      "|    l2_loss        | 0        |\n",
      "|    l2_norm        | 6.85e+03 |\n",
      "|    loss           | -3.17    |\n",
      "|    neglogp        | -3.17    |\n",
      "|    prob_true_act  | 24.6     |\n",
      "|    samples_so_far | 8499200  |\n",
      "--------------------------------\n"
     ]
    },
    {
     "name": "stderr",
     "output_type": "stream",
     "text": [
      "4160batch [25:07,  2.96batch/s]"
     ]
    },
    {
     "name": "stdout",
     "output_type": "stream",
     "text": [
      "--------------------------------\n",
      "| batch_size        | 2048     |\n",
      "| bc/               |          |\n",
      "|    batch          | 4159     |\n",
      "|    ent_loss       | 0.00234  |\n",
      "|    entropy        | -2.34    |\n",
      "|    epoch          | 416      |\n",
      "|    l2_loss        | 0        |\n",
      "|    l2_norm        | 6.86e+03 |\n",
      "|    loss           | -3.22    |\n",
      "|    neglogp        | -3.22    |\n",
      "|    prob_true_act  | 25.9     |\n",
      "|    samples_so_far | 8519680  |\n",
      "--------------------------------\n"
     ]
    },
    {
     "name": "stderr",
     "output_type": "stream",
     "text": [
      "4170batch [25:11,  2.49batch/s]"
     ]
    },
    {
     "name": "stdout",
     "output_type": "stream",
     "text": [
      "--------------------------------\n",
      "| batch_size        | 2048     |\n",
      "| bc/               |          |\n",
      "|    batch          | 4169     |\n",
      "|    ent_loss       | 0.00235  |\n",
      "|    entropy        | -2.35    |\n",
      "|    epoch          | 417      |\n",
      "|    l2_loss        | 0        |\n",
      "|    l2_norm        | 6.86e+03 |\n",
      "|    loss           | -3.23    |\n",
      "|    neglogp        | -3.23    |\n",
      "|    prob_true_act  | 26.1     |\n",
      "|    samples_so_far | 8540160  |\n",
      "--------------------------------\n"
     ]
    },
    {
     "name": "stderr",
     "output_type": "stream",
     "text": [
      "4180batch [25:15,  2.85batch/s]"
     ]
    },
    {
     "name": "stdout",
     "output_type": "stream",
     "text": [
      "--------------------------------\n",
      "| batch_size        | 2048     |\n",
      "| bc/               |          |\n",
      "|    batch          | 4179     |\n",
      "|    ent_loss       | 0.00235  |\n",
      "|    entropy        | -2.35    |\n",
      "|    epoch          | 418      |\n",
      "|    l2_loss        | 0        |\n",
      "|    l2_norm        | 6.86e+03 |\n",
      "|    loss           | -3.14    |\n",
      "|    neglogp        | -3.14    |\n",
      "|    prob_true_act  | 23.9     |\n",
      "|    samples_so_far | 8560640  |\n",
      "--------------------------------\n"
     ]
    },
    {
     "name": "stderr",
     "output_type": "stream",
     "text": [
      "4190batch [25:18,  2.95batch/s]"
     ]
    },
    {
     "name": "stdout",
     "output_type": "stream",
     "text": [
      "--------------------------------\n",
      "| batch_size        | 2048     |\n",
      "| bc/               |          |\n",
      "|    batch          | 4189     |\n",
      "|    ent_loss       | 0.00236  |\n",
      "|    entropy        | -2.36    |\n",
      "|    epoch          | 419      |\n",
      "|    l2_loss        | 0        |\n",
      "|    l2_norm        | 6.87e+03 |\n",
      "|    loss           | -3.23    |\n",
      "|    neglogp        | -3.23    |\n",
      "|    prob_true_act  | 26.5     |\n",
      "|    samples_so_far | 8581120  |\n",
      "--------------------------------\n"
     ]
    },
    {
     "name": "stderr",
     "output_type": "stream",
     "text": [
      "4200batch [25:22,  2.95batch/s]"
     ]
    },
    {
     "name": "stdout",
     "output_type": "stream",
     "text": [
      "--------------------------------\n",
      "| batch_size        | 2048     |\n",
      "| bc/               |          |\n",
      "|    batch          | 4199     |\n",
      "|    ent_loss       | 0.00237  |\n",
      "|    entropy        | -2.37    |\n",
      "|    epoch          | 420      |\n",
      "|    l2_loss        | 0        |\n",
      "|    l2_norm        | 6.87e+03 |\n",
      "|    loss           | -3.24    |\n",
      "|    neglogp        | -3.24    |\n",
      "|    prob_true_act  | 26.3     |\n",
      "|    samples_so_far | 8601600  |\n",
      "--------------------------------\n"
     ]
    },
    {
     "name": "stderr",
     "output_type": "stream",
     "text": [
      "4210batch [25:26,  2.89batch/s]"
     ]
    },
    {
     "name": "stdout",
     "output_type": "stream",
     "text": [
      "--------------------------------\n",
      "| batch_size        | 2048     |\n",
      "| bc/               |          |\n",
      "|    batch          | 4209     |\n",
      "|    ent_loss       | 0.00237  |\n",
      "|    entropy        | -2.37    |\n",
      "|    epoch          | 421      |\n",
      "|    l2_loss        | 0        |\n",
      "|    l2_norm        | 6.87e+03 |\n",
      "|    loss           | -3.25    |\n",
      "|    neglogp        | -3.25    |\n",
      "|    prob_true_act  | 26.9     |\n",
      "|    samples_so_far | 8622080  |\n",
      "--------------------------------\n"
     ]
    },
    {
     "name": "stderr",
     "output_type": "stream",
     "text": [
      "4220batch [25:29,  2.98batch/s]"
     ]
    },
    {
     "name": "stdout",
     "output_type": "stream",
     "text": [
      "--------------------------------\n",
      "| batch_size        | 2048     |\n",
      "| bc/               |          |\n",
      "|    batch          | 4219     |\n",
      "|    ent_loss       | 0.00238  |\n",
      "|    entropy        | -2.38    |\n",
      "|    epoch          | 422      |\n",
      "|    l2_loss        | 0        |\n",
      "|    l2_norm        | 6.87e+03 |\n",
      "|    loss           | -3.11    |\n",
      "|    neglogp        | -3.12    |\n",
      "|    prob_true_act  | 23.6     |\n",
      "|    samples_so_far | 8642560  |\n",
      "--------------------------------\n"
     ]
    },
    {
     "name": "stderr",
     "output_type": "stream",
     "text": [
      "4230batch [25:33,  2.89batch/s]"
     ]
    },
    {
     "name": "stdout",
     "output_type": "stream",
     "text": [
      "--------------------------------\n",
      "| batch_size        | 2048     |\n",
      "| bc/               |          |\n",
      "|    batch          | 4229     |\n",
      "|    ent_loss       | 0.00238  |\n",
      "|    entropy        | -2.38    |\n",
      "|    epoch          | 423      |\n",
      "|    l2_loss        | 0        |\n",
      "|    l2_norm        | 6.88e+03 |\n",
      "|    loss           | -3.25    |\n",
      "|    neglogp        | -3.25    |\n",
      "|    prob_true_act  | 26.4     |\n",
      "|    samples_so_far | 8663040  |\n",
      "--------------------------------\n"
     ]
    },
    {
     "name": "stderr",
     "output_type": "stream",
     "text": [
      "4240batch [25:36,  2.96batch/s]"
     ]
    },
    {
     "name": "stdout",
     "output_type": "stream",
     "text": [
      "--------------------------------\n",
      "| batch_size        | 2048     |\n",
      "| bc/               |          |\n",
      "|    batch          | 4239     |\n",
      "|    ent_loss       | 0.00239  |\n",
      "|    entropy        | -2.39    |\n",
      "|    epoch          | 424      |\n",
      "|    l2_loss        | 0        |\n",
      "|    l2_norm        | 6.88e+03 |\n",
      "|    loss           | -3.25    |\n",
      "|    neglogp        | -3.25    |\n",
      "|    prob_true_act  | 26.6     |\n",
      "|    samples_so_far | 8683520  |\n",
      "--------------------------------\n"
     ]
    },
    {
     "name": "stderr",
     "output_type": "stream",
     "text": [
      "4250batch [25:40,  2.96batch/s]"
     ]
    },
    {
     "name": "stdout",
     "output_type": "stream",
     "text": [
      "--------------------------------\n",
      "| batch_size        | 2048     |\n",
      "| bc/               |          |\n",
      "|    batch          | 4249     |\n",
      "|    ent_loss       | 0.0024   |\n",
      "|    entropy        | -2.4     |\n",
      "|    epoch          | 425      |\n",
      "|    l2_loss        | 0        |\n",
      "|    l2_norm        | 6.88e+03 |\n",
      "|    loss           | -3.28    |\n",
      "|    neglogp        | -3.28    |\n",
      "|    prob_true_act  | 27       |\n",
      "|    samples_so_far | 8704000  |\n",
      "--------------------------------\n"
     ]
    },
    {
     "name": "stderr",
     "output_type": "stream",
     "text": [
      "4260batch [25:43,  3.00batch/s]"
     ]
    },
    {
     "name": "stdout",
     "output_type": "stream",
     "text": [
      "--------------------------------\n",
      "| batch_size        | 2048     |\n",
      "| bc/               |          |\n",
      "|    batch          | 4259     |\n",
      "|    ent_loss       | 0.0024   |\n",
      "|    entropy        | -2.4     |\n",
      "|    epoch          | 426      |\n",
      "|    l2_loss        | 0        |\n",
      "|    l2_norm        | 6.89e+03 |\n",
      "|    loss           | -3.28    |\n",
      "|    neglogp        | -3.28    |\n",
      "|    prob_true_act  | 27.4     |\n",
      "|    samples_so_far | 8724480  |\n",
      "--------------------------------\n"
     ]
    },
    {
     "name": "stderr",
     "output_type": "stream",
     "text": [
      "4270batch [25:47,  2.94batch/s]"
     ]
    },
    {
     "name": "stdout",
     "output_type": "stream",
     "text": [
      "--------------------------------\n",
      "| batch_size        | 2048     |\n",
      "| bc/               |          |\n",
      "|    batch          | 4269     |\n",
      "|    ent_loss       | 0.00241  |\n",
      "|    entropy        | -2.41    |\n",
      "|    epoch          | 427      |\n",
      "|    l2_loss        | 0        |\n",
      "|    l2_norm        | 6.89e+03 |\n",
      "|    loss           | -3.25    |\n",
      "|    neglogp        | -3.26    |\n",
      "|    prob_true_act  | 26.4     |\n",
      "|    samples_so_far | 8744960  |\n",
      "--------------------------------\n"
     ]
    },
    {
     "name": "stderr",
     "output_type": "stream",
     "text": [
      "4280batch [25:51,  1.74batch/s]"
     ]
    },
    {
     "name": "stdout",
     "output_type": "stream",
     "text": [
      "--------------------------------\n",
      "| batch_size        | 2048     |\n",
      "| bc/               |          |\n",
      "|    batch          | 4279     |\n",
      "|    ent_loss       | 0.00241  |\n",
      "|    entropy        | -2.41    |\n",
      "|    epoch          | 428      |\n",
      "|    l2_loss        | 0        |\n",
      "|    l2_norm        | 6.89e+03 |\n",
      "|    loss           | -3.26    |\n",
      "|    neglogp        | -3.26    |\n",
      "|    prob_true_act  | 26.6     |\n",
      "|    samples_so_far | 8765440  |\n",
      "--------------------------------\n"
     ]
    },
    {
     "name": "stderr",
     "output_type": "stream",
     "text": [
      "4290batch [25:55,  2.91batch/s]"
     ]
    },
    {
     "name": "stdout",
     "output_type": "stream",
     "text": [
      "--------------------------------\n",
      "| batch_size        | 2048     |\n",
      "| bc/               |          |\n",
      "|    batch          | 4289     |\n",
      "|    ent_loss       | 0.00242  |\n",
      "|    entropy        | -2.42    |\n",
      "|    epoch          | 429      |\n",
      "|    l2_loss        | 0        |\n",
      "|    l2_norm        | 6.89e+03 |\n",
      "|    loss           | -3.28    |\n",
      "|    neglogp        | -3.28    |\n",
      "|    prob_true_act  | 27       |\n",
      "|    samples_so_far | 8785920  |\n",
      "--------------------------------\n"
     ]
    },
    {
     "name": "stderr",
     "output_type": "stream",
     "text": [
      "4300batch [25:59,  2.88batch/s]"
     ]
    },
    {
     "name": "stdout",
     "output_type": "stream",
     "text": [
      "--------------------------------\n",
      "| batch_size        | 2048     |\n",
      "| bc/               |          |\n",
      "|    batch          | 4299     |\n",
      "|    ent_loss       | 0.00243  |\n",
      "|    entropy        | -2.43    |\n",
      "|    epoch          | 430      |\n",
      "|    l2_loss        | 0        |\n",
      "|    l2_norm        | 6.9e+03  |\n",
      "|    loss           | -3.32    |\n",
      "|    neglogp        | -3.32    |\n",
      "|    prob_true_act  | 28.3     |\n",
      "|    samples_so_far | 8806400  |\n",
      "--------------------------------\n"
     ]
    },
    {
     "name": "stderr",
     "output_type": "stream",
     "text": [
      "4310batch [26:03,  2.88batch/s]"
     ]
    },
    {
     "name": "stdout",
     "output_type": "stream",
     "text": [
      "--------------------------------\n",
      "| batch_size        | 2048     |\n",
      "| bc/               |          |\n",
      "|    batch          | 4309     |\n",
      "|    ent_loss       | 0.00243  |\n",
      "|    entropy        | -2.43    |\n",
      "|    epoch          | 431      |\n",
      "|    l2_loss        | 0        |\n",
      "|    l2_norm        | 6.9e+03  |\n",
      "|    loss           | -3.26    |\n",
      "|    neglogp        | -3.26    |\n",
      "|    prob_true_act  | 27.4     |\n",
      "|    samples_so_far | 8826880  |\n",
      "--------------------------------\n"
     ]
    },
    {
     "name": "stderr",
     "output_type": "stream",
     "text": [
      "4320batch [26:06,  2.90batch/s]"
     ]
    },
    {
     "name": "stdout",
     "output_type": "stream",
     "text": [
      "--------------------------------\n",
      "| batch_size        | 2048     |\n",
      "| bc/               |          |\n",
      "|    batch          | 4319     |\n",
      "|    ent_loss       | 0.00244  |\n",
      "|    entropy        | -2.44    |\n",
      "|    epoch          | 432      |\n",
      "|    l2_loss        | 0        |\n",
      "|    l2_norm        | 6.9e+03  |\n",
      "|    loss           | -3.29    |\n",
      "|    neglogp        | -3.3     |\n",
      "|    prob_true_act  | 28       |\n",
      "|    samples_so_far | 8847360  |\n",
      "--------------------------------\n"
     ]
    },
    {
     "name": "stderr",
     "output_type": "stream",
     "text": [
      "4330batch [26:11,  2.09batch/s]"
     ]
    },
    {
     "name": "stdout",
     "output_type": "stream",
     "text": [
      "--------------------------------\n",
      "| batch_size        | 2048     |\n",
      "| bc/               |          |\n",
      "|    batch          | 4329     |\n",
      "|    ent_loss       | 0.00244  |\n",
      "|    entropy        | -2.44    |\n",
      "|    epoch          | 433      |\n",
      "|    l2_loss        | 0        |\n",
      "|    l2_norm        | 6.9e+03  |\n",
      "|    loss           | -3.33    |\n",
      "|    neglogp        | -3.33    |\n",
      "|    prob_true_act  | 28.8     |\n",
      "|    samples_so_far | 8867840  |\n",
      "--------------------------------\n"
     ]
    },
    {
     "name": "stderr",
     "output_type": "stream",
     "text": [
      "4340batch [26:14,  2.93batch/s]"
     ]
    },
    {
     "name": "stdout",
     "output_type": "stream",
     "text": [
      "--------------------------------\n",
      "| batch_size        | 2048     |\n",
      "| bc/               |          |\n",
      "|    batch          | 4339     |\n",
      "|    ent_loss       | 0.00245  |\n",
      "|    entropy        | -2.45    |\n",
      "|    epoch          | 434      |\n",
      "|    l2_loss        | 0        |\n",
      "|    l2_norm        | 6.91e+03 |\n",
      "|    loss           | -3.36    |\n",
      "|    neglogp        | -3.36    |\n",
      "|    prob_true_act  | 29       |\n",
      "|    samples_so_far | 8888320  |\n",
      "--------------------------------\n"
     ]
    },
    {
     "name": "stderr",
     "output_type": "stream",
     "text": [
      "4350batch [26:18,  2.95batch/s]"
     ]
    },
    {
     "name": "stdout",
     "output_type": "stream",
     "text": [
      "--------------------------------\n",
      "| batch_size        | 2048     |\n",
      "| bc/               |          |\n",
      "|    batch          | 4349     |\n",
      "|    ent_loss       | 0.00246  |\n",
      "|    entropy        | -2.46    |\n",
      "|    epoch          | 435      |\n",
      "|    l2_loss        | 0        |\n",
      "|    l2_norm        | 6.91e+03 |\n",
      "|    loss           | -3.34    |\n",
      "|    neglogp        | -3.34    |\n",
      "|    prob_true_act  | 28.8     |\n",
      "|    samples_so_far | 8908800  |\n",
      "--------------------------------\n"
     ]
    },
    {
     "name": "stderr",
     "output_type": "stream",
     "text": [
      "4360batch [26:21,  2.77batch/s]"
     ]
    },
    {
     "name": "stdout",
     "output_type": "stream",
     "text": [
      "--------------------------------\n",
      "| batch_size        | 2048     |\n",
      "| bc/               |          |\n",
      "|    batch          | 4359     |\n",
      "|    ent_loss       | 0.00246  |\n",
      "|    entropy        | -2.46    |\n",
      "|    epoch          | 436      |\n",
      "|    l2_loss        | 0        |\n",
      "|    l2_norm        | 6.91e+03 |\n",
      "|    loss           | -3.31    |\n",
      "|    neglogp        | -3.31    |\n",
      "|    prob_true_act  | 28.3     |\n",
      "|    samples_so_far | 8929280  |\n",
      "--------------------------------\n"
     ]
    },
    {
     "name": "stderr",
     "output_type": "stream",
     "text": [
      "4370batch [26:25,  2.91batch/s]"
     ]
    },
    {
     "name": "stdout",
     "output_type": "stream",
     "text": [
      "--------------------------------\n",
      "| batch_size        | 2048     |\n",
      "| bc/               |          |\n",
      "|    batch          | 4369     |\n",
      "|    ent_loss       | 0.00247  |\n",
      "|    entropy        | -2.47    |\n",
      "|    epoch          | 437      |\n",
      "|    l2_loss        | 0        |\n",
      "|    l2_norm        | 6.91e+03 |\n",
      "|    loss           | -3.3     |\n",
      "|    neglogp        | -3.3     |\n",
      "|    prob_true_act  | 28.5     |\n",
      "|    samples_so_far | 8949760  |\n",
      "--------------------------------\n"
     ]
    },
    {
     "name": "stderr",
     "output_type": "stream",
     "text": [
      "4380batch [26:29,  2.74batch/s]"
     ]
    },
    {
     "name": "stdout",
     "output_type": "stream",
     "text": [
      "--------------------------------\n",
      "| batch_size        | 2048     |\n",
      "| bc/               |          |\n",
      "|    batch          | 4379     |\n",
      "|    ent_loss       | 0.00248  |\n",
      "|    entropy        | -2.48    |\n",
      "|    epoch          | 438      |\n",
      "|    l2_loss        | 0        |\n",
      "|    l2_norm        | 6.92e+03 |\n",
      "|    loss           | -3.05    |\n",
      "|    neglogp        | -3.06    |\n",
      "|    prob_true_act  | 22.7     |\n",
      "|    samples_so_far | 8970240  |\n",
      "--------------------------------\n"
     ]
    },
    {
     "name": "stderr",
     "output_type": "stream",
     "text": [
      "4390batch [26:32,  2.90batch/s]"
     ]
    },
    {
     "name": "stdout",
     "output_type": "stream",
     "text": [
      "--------------------------------\n",
      "| batch_size        | 2048     |\n",
      "| bc/               |          |\n",
      "|    batch          | 4389     |\n",
      "|    ent_loss       | 0.00248  |\n",
      "|    entropy        | -2.48    |\n",
      "|    epoch          | 439      |\n",
      "|    l2_loss        | 0        |\n",
      "|    l2_norm        | 6.92e+03 |\n",
      "|    loss           | -3.27    |\n",
      "|    neglogp        | -3.28    |\n",
      "|    prob_true_act  | 27.9     |\n",
      "|    samples_so_far | 8990720  |\n",
      "--------------------------------\n"
     ]
    },
    {
     "name": "stderr",
     "output_type": "stream",
     "text": [
      "4400batch [26:36,  3.02batch/s]"
     ]
    },
    {
     "name": "stdout",
     "output_type": "stream",
     "text": [
      "--------------------------------\n",
      "| batch_size        | 2048     |\n",
      "| bc/               |          |\n",
      "|    batch          | 4399     |\n",
      "|    ent_loss       | 0.00249  |\n",
      "|    entropy        | -2.49    |\n",
      "|    epoch          | 440      |\n",
      "|    l2_loss        | 0        |\n",
      "|    l2_norm        | 6.93e+03 |\n",
      "|    loss           | -3.32    |\n",
      "|    neglogp        | -3.32    |\n",
      "|    prob_true_act  | 28.3     |\n",
      "|    samples_so_far | 9011200  |\n",
      "--------------------------------\n"
     ]
    },
    {
     "name": "stderr",
     "output_type": "stream",
     "text": [
      "4410batch [26:39,  2.95batch/s]"
     ]
    },
    {
     "name": "stdout",
     "output_type": "stream",
     "text": [
      "--------------------------------\n",
      "| batch_size        | 2048     |\n",
      "| bc/               |          |\n",
      "|    batch          | 4409     |\n",
      "|    ent_loss       | 0.00249  |\n",
      "|    entropy        | -2.49    |\n",
      "|    epoch          | 441      |\n",
      "|    l2_loss        | 0        |\n",
      "|    l2_norm        | 6.93e+03 |\n",
      "|    loss           | -3.37    |\n",
      "|    neglogp        | -3.37    |\n",
      "|    prob_true_act  | 29.8     |\n",
      "|    samples_so_far | 9031680  |\n",
      "--------------------------------\n"
     ]
    },
    {
     "name": "stderr",
     "output_type": "stream",
     "text": [
      "4420batch [26:43,  2.99batch/s]"
     ]
    },
    {
     "name": "stdout",
     "output_type": "stream",
     "text": [
      "--------------------------------\n",
      "| batch_size        | 2048     |\n",
      "| bc/               |          |\n",
      "|    batch          | 4419     |\n",
      "|    ent_loss       | 0.0025   |\n",
      "|    entropy        | -2.5     |\n",
      "|    epoch          | 442      |\n",
      "|    l2_loss        | 0        |\n",
      "|    l2_norm        | 6.93e+03 |\n",
      "|    loss           | -3.38    |\n",
      "|    neglogp        | -3.38    |\n",
      "|    prob_true_act  | 30.1     |\n",
      "|    samples_so_far | 9052160  |\n",
      "--------------------------------\n"
     ]
    },
    {
     "name": "stderr",
     "output_type": "stream",
     "text": [
      "4430batch [26:46,  2.95batch/s]"
     ]
    },
    {
     "name": "stdout",
     "output_type": "stream",
     "text": [
      "--------------------------------\n",
      "| batch_size        | 2048     |\n",
      "| bc/               |          |\n",
      "|    batch          | 4429     |\n",
      "|    ent_loss       | 0.00251  |\n",
      "|    entropy        | -2.51    |\n",
      "|    epoch          | 443      |\n",
      "|    l2_loss        | 0        |\n",
      "|    l2_norm        | 6.93e+03 |\n",
      "|    loss           | -3.38    |\n",
      "|    neglogp        | -3.38    |\n",
      "|    prob_true_act  | 30.3     |\n",
      "|    samples_so_far | 9072640  |\n",
      "--------------------------------\n"
     ]
    },
    {
     "name": "stderr",
     "output_type": "stream",
     "text": [
      "4440batch [26:50,  2.92batch/s]"
     ]
    },
    {
     "name": "stdout",
     "output_type": "stream",
     "text": [
      "--------------------------------\n",
      "| batch_size        | 2048     |\n",
      "| bc/               |          |\n",
      "|    batch          | 4439     |\n",
      "|    ent_loss       | 0.00251  |\n",
      "|    entropy        | -2.51    |\n",
      "|    epoch          | 444      |\n",
      "|    l2_loss        | 0        |\n",
      "|    l2_norm        | 6.94e+03 |\n",
      "|    loss           | -3.34    |\n",
      "|    neglogp        | -3.34    |\n",
      "|    prob_true_act  | 29.7     |\n",
      "|    samples_so_far | 9093120  |\n",
      "--------------------------------\n"
     ]
    },
    {
     "name": "stderr",
     "output_type": "stream",
     "text": [
      "4450batch [26:54,  2.94batch/s]"
     ]
    },
    {
     "name": "stdout",
     "output_type": "stream",
     "text": [
      "--------------------------------\n",
      "| batch_size        | 2048     |\n",
      "| bc/               |          |\n",
      "|    batch          | 4449     |\n",
      "|    ent_loss       | 0.00252  |\n",
      "|    entropy        | -2.52    |\n",
      "|    epoch          | 445      |\n",
      "|    l2_loss        | 0        |\n",
      "|    l2_norm        | 6.94e+03 |\n",
      "|    loss           | -3.4     |\n",
      "|    neglogp        | -3.4     |\n",
      "|    prob_true_act  | 30.9     |\n",
      "|    samples_so_far | 9113600  |\n",
      "--------------------------------\n"
     ]
    },
    {
     "name": "stderr",
     "output_type": "stream",
     "text": [
      "4460batch [26:58,  2.63batch/s]"
     ]
    },
    {
     "name": "stdout",
     "output_type": "stream",
     "text": [
      "--------------------------------\n",
      "| batch_size        | 2048     |\n",
      "| bc/               |          |\n",
      "|    batch          | 4459     |\n",
      "|    ent_loss       | 0.00253  |\n",
      "|    entropy        | -2.53    |\n",
      "|    epoch          | 446      |\n",
      "|    l2_loss        | 0        |\n",
      "|    l2_norm        | 6.94e+03 |\n",
      "|    loss           | -3.4     |\n",
      "|    neglogp        | -3.41    |\n",
      "|    prob_true_act  | 31.1     |\n",
      "|    samples_so_far | 9134080  |\n",
      "--------------------------------\n"
     ]
    },
    {
     "name": "stderr",
     "output_type": "stream",
     "text": [
      "4470batch [27:01,  2.92batch/s]"
     ]
    },
    {
     "name": "stdout",
     "output_type": "stream",
     "text": [
      "--------------------------------\n",
      "| batch_size        | 2048     |\n",
      "| bc/               |          |\n",
      "|    batch          | 4469     |\n",
      "|    ent_loss       | 0.00253  |\n",
      "|    entropy        | -2.53    |\n",
      "|    epoch          | 447      |\n",
      "|    l2_loss        | 0        |\n",
      "|    l2_norm        | 6.94e+03 |\n",
      "|    loss           | -3.38    |\n",
      "|    neglogp        | -3.38    |\n",
      "|    prob_true_act  | 30       |\n",
      "|    samples_so_far | 9154560  |\n",
      "--------------------------------\n"
     ]
    },
    {
     "name": "stderr",
     "output_type": "stream",
     "text": [
      "4480batch [27:05,  3.00batch/s]"
     ]
    },
    {
     "name": "stdout",
     "output_type": "stream",
     "text": [
      "--------------------------------\n",
      "| batch_size        | 2048     |\n",
      "| bc/               |          |\n",
      "|    batch          | 4479     |\n",
      "|    ent_loss       | 0.00254  |\n",
      "|    entropy        | -2.54    |\n",
      "|    epoch          | 448      |\n",
      "|    l2_loss        | 0        |\n",
      "|    l2_norm        | 6.95e+03 |\n",
      "|    loss           | -3.39    |\n",
      "|    neglogp        | -3.39    |\n",
      "|    prob_true_act  | 30.8     |\n",
      "|    samples_so_far | 9175040  |\n",
      "--------------------------------\n"
     ]
    },
    {
     "name": "stderr",
     "output_type": "stream",
     "text": [
      "4490batch [27:08,  2.89batch/s]"
     ]
    },
    {
     "name": "stdout",
     "output_type": "stream",
     "text": [
      "--------------------------------\n",
      "| batch_size        | 2048     |\n",
      "| bc/               |          |\n",
      "|    batch          | 4489     |\n",
      "|    ent_loss       | 0.00255  |\n",
      "|    entropy        | -2.55    |\n",
      "|    epoch          | 449      |\n",
      "|    l2_loss        | 0        |\n",
      "|    l2_norm        | 6.95e+03 |\n",
      "|    loss           | -3.1     |\n",
      "|    neglogp        | -3.1     |\n",
      "|    prob_true_act  | 23.8     |\n",
      "|    samples_so_far | 9195520  |\n",
      "--------------------------------\n"
     ]
    },
    {
     "name": "stderr",
     "output_type": "stream",
     "text": [
      "4500batch [27:12,  2.94batch/s]"
     ]
    },
    {
     "name": "stdout",
     "output_type": "stream",
     "text": [
      "--------------------------------\n",
      "| batch_size        | 2048     |\n",
      "| bc/               |          |\n",
      "|    batch          | 4499     |\n",
      "|    ent_loss       | 0.00255  |\n",
      "|    entropy        | -2.55    |\n",
      "|    epoch          | 450      |\n",
      "|    l2_loss        | 0        |\n",
      "|    l2_norm        | 6.95e+03 |\n",
      "|    loss           | -3.35    |\n",
      "|    neglogp        | -3.35    |\n",
      "|    prob_true_act  | 30.3     |\n",
      "|    samples_so_far | 9216000  |\n",
      "--------------------------------\n"
     ]
    },
    {
     "name": "stderr",
     "output_type": "stream",
     "text": [
      "4510batch [27:15,  2.94batch/s]"
     ]
    },
    {
     "name": "stdout",
     "output_type": "stream",
     "text": [
      "--------------------------------\n",
      "| batch_size        | 2048     |\n",
      "| bc/               |          |\n",
      "|    batch          | 4509     |\n",
      "|    ent_loss       | 0.00256  |\n",
      "|    entropy        | -2.56    |\n",
      "|    epoch          | 451      |\n",
      "|    l2_loss        | 0        |\n",
      "|    l2_norm        | 6.96e+03 |\n",
      "|    loss           | -3.36    |\n",
      "|    neglogp        | -3.36    |\n",
      "|    prob_true_act  | 30.2     |\n",
      "|    samples_so_far | 9236480  |\n",
      "--------------------------------\n"
     ]
    },
    {
     "name": "stderr",
     "output_type": "stream",
     "text": [
      "4520batch [27:19,  2.97batch/s]"
     ]
    },
    {
     "name": "stdout",
     "output_type": "stream",
     "text": [
      "--------------------------------\n",
      "| batch_size        | 2048     |\n",
      "| bc/               |          |\n",
      "|    batch          | 4519     |\n",
      "|    ent_loss       | 0.00256  |\n",
      "|    entropy        | -2.56    |\n",
      "|    epoch          | 452      |\n",
      "|    l2_loss        | 0        |\n",
      "|    l2_norm        | 6.96e+03 |\n",
      "|    loss           | -3.42    |\n",
      "|    neglogp        | -3.42    |\n",
      "|    prob_true_act  | 31.7     |\n",
      "|    samples_so_far | 9256960  |\n",
      "--------------------------------\n"
     ]
    },
    {
     "name": "stderr",
     "output_type": "stream",
     "text": [
      "4530batch [27:23,  2.84batch/s]"
     ]
    },
    {
     "name": "stdout",
     "output_type": "stream",
     "text": [
      "--------------------------------\n",
      "| batch_size        | 2048     |\n",
      "| bc/               |          |\n",
      "|    batch          | 4529     |\n",
      "|    ent_loss       | 0.00257  |\n",
      "|    entropy        | -2.57    |\n",
      "|    epoch          | 453      |\n",
      "|    l2_loss        | 0        |\n",
      "|    l2_norm        | 6.96e+03 |\n",
      "|    loss           | -3.47    |\n",
      "|    neglogp        | -3.47    |\n",
      "|    prob_true_act  | 32.6     |\n",
      "|    samples_so_far | 9277440  |\n",
      "--------------------------------\n"
     ]
    },
    {
     "name": "stderr",
     "output_type": "stream",
     "text": [
      "4540batch [27:26,  2.98batch/s]"
     ]
    },
    {
     "name": "stdout",
     "output_type": "stream",
     "text": [
      "--------------------------------\n",
      "| batch_size        | 2048     |\n",
      "| bc/               |          |\n",
      "|    batch          | 4539     |\n",
      "|    ent_loss       | 0.00258  |\n",
      "|    entropy        | -2.58    |\n",
      "|    epoch          | 454      |\n",
      "|    l2_loss        | 0        |\n",
      "|    l2_norm        | 6.96e+03 |\n",
      "|    loss           | -3.44    |\n",
      "|    neglogp        | -3.44    |\n",
      "|    prob_true_act  | 32.5     |\n",
      "|    samples_so_far | 9297920  |\n",
      "--------------------------------\n"
     ]
    },
    {
     "name": "stderr",
     "output_type": "stream",
     "text": [
      "4550batch [27:30,  2.88batch/s]"
     ]
    },
    {
     "name": "stdout",
     "output_type": "stream",
     "text": [
      "--------------------------------\n",
      "| batch_size        | 2048     |\n",
      "| bc/               |          |\n",
      "|    batch          | 4549     |\n",
      "|    ent_loss       | 0.00259  |\n",
      "|    entropy        | -2.59    |\n",
      "|    epoch          | 455      |\n",
      "|    l2_loss        | 0        |\n",
      "|    l2_norm        | 6.97e+03 |\n",
      "|    loss           | -3.47    |\n",
      "|    neglogp        | -3.47    |\n",
      "|    prob_true_act  | 32.8     |\n",
      "|    samples_so_far | 9318400  |\n",
      "--------------------------------\n"
     ]
    },
    {
     "name": "stderr",
     "output_type": "stream",
     "text": [
      "4560batch [27:33,  2.93batch/s]"
     ]
    },
    {
     "name": "stdout",
     "output_type": "stream",
     "text": [
      "--------------------------------\n",
      "| batch_size        | 2048     |\n",
      "| bc/               |          |\n",
      "|    batch          | 4559     |\n",
      "|    ent_loss       | 0.00259  |\n",
      "|    entropy        | -2.59    |\n",
      "|    epoch          | 456      |\n",
      "|    l2_loss        | 0        |\n",
      "|    l2_norm        | 6.97e+03 |\n",
      "|    loss           | -3.41    |\n",
      "|    neglogp        | -3.41    |\n",
      "|    prob_true_act  | 31.2     |\n",
      "|    samples_so_far | 9338880  |\n",
      "--------------------------------\n"
     ]
    },
    {
     "name": "stderr",
     "output_type": "stream",
     "text": [
      "4570batch [27:37,  2.97batch/s]"
     ]
    },
    {
     "name": "stdout",
     "output_type": "stream",
     "text": [
      "--------------------------------\n",
      "| batch_size        | 2048     |\n",
      "| bc/               |          |\n",
      "|    batch          | 4569     |\n",
      "|    ent_loss       | 0.0026   |\n",
      "|    entropy        | -2.6     |\n",
      "|    epoch          | 457      |\n",
      "|    l2_loss        | 0        |\n",
      "|    l2_norm        | 6.97e+03 |\n",
      "|    loss           | -3.47    |\n",
      "|    neglogp        | -3.48    |\n",
      "|    prob_true_act  | 32.9     |\n",
      "|    samples_so_far | 9359360  |\n",
      "--------------------------------\n"
     ]
    },
    {
     "name": "stderr",
     "output_type": "stream",
     "text": [
      "4580batch [27:40,  2.99batch/s]"
     ]
    },
    {
     "name": "stdout",
     "output_type": "stream",
     "text": [
      "--------------------------------\n",
      "| batch_size        | 2048     |\n",
      "| bc/               |          |\n",
      "|    batch          | 4579     |\n",
      "|    ent_loss       | 0.00261  |\n",
      "|    entropy        | -2.61    |\n",
      "|    epoch          | 458      |\n",
      "|    l2_loss        | 0        |\n",
      "|    l2_norm        | 6.97e+03 |\n",
      "|    loss           | -3.39    |\n",
      "|    neglogp        | -3.39    |\n",
      "|    prob_true_act  | 30.5     |\n",
      "|    samples_so_far | 9379840  |\n",
      "--------------------------------\n"
     ]
    },
    {
     "name": "stderr",
     "output_type": "stream",
     "text": [
      "4590batch [27:44,  2.53batch/s]"
     ]
    },
    {
     "name": "stdout",
     "output_type": "stream",
     "text": [
      "--------------------------------\n",
      "| batch_size        | 2048     |\n",
      "| bc/               |          |\n",
      "|    batch          | 4589     |\n",
      "|    ent_loss       | 0.00261  |\n",
      "|    entropy        | -2.61    |\n",
      "|    epoch          | 459      |\n",
      "|    l2_loss        | 0        |\n",
      "|    l2_norm        | 6.98e+03 |\n",
      "|    loss           | -3.48    |\n",
      "|    neglogp        | -3.49    |\n",
      "|    prob_true_act  | 33.8     |\n",
      "|    samples_so_far | 9400320  |\n",
      "--------------------------------\n"
     ]
    },
    {
     "name": "stderr",
     "output_type": "stream",
     "text": [
      "4600batch [27:48,  2.92batch/s]"
     ]
    },
    {
     "name": "stdout",
     "output_type": "stream",
     "text": [
      "--------------------------------\n",
      "| batch_size        | 2048     |\n",
      "| bc/               |          |\n",
      "|    batch          | 4599     |\n",
      "|    ent_loss       | 0.00262  |\n",
      "|    entropy        | -2.62    |\n",
      "|    epoch          | 460      |\n",
      "|    l2_loss        | 0        |\n",
      "|    l2_norm        | 6.98e+03 |\n",
      "|    loss           | -3.49    |\n",
      "|    neglogp        | -3.49    |\n",
      "|    prob_true_act  | 33.4     |\n",
      "|    samples_so_far | 9420800  |\n",
      "--------------------------------\n"
     ]
    },
    {
     "name": "stderr",
     "output_type": "stream",
     "text": [
      "4610batch [27:51,  2.99batch/s]"
     ]
    },
    {
     "name": "stdout",
     "output_type": "stream",
     "text": [
      "--------------------------------\n",
      "| batch_size        | 2048     |\n",
      "| bc/               |          |\n",
      "|    batch          | 4609     |\n",
      "|    ent_loss       | 0.00263  |\n",
      "|    entropy        | -2.63    |\n",
      "|    epoch          | 461      |\n",
      "|    l2_loss        | 0        |\n",
      "|    l2_norm        | 6.98e+03 |\n",
      "|    loss           | -3.5     |\n",
      "|    neglogp        | -3.5     |\n",
      "|    prob_true_act  | 34.4     |\n",
      "|    samples_so_far | 9441280  |\n",
      "--------------------------------\n"
     ]
    },
    {
     "name": "stderr",
     "output_type": "stream",
     "text": [
      "4620batch [27:55,  2.54batch/s]"
     ]
    },
    {
     "name": "stdout",
     "output_type": "stream",
     "text": [
      "--------------------------------\n",
      "| batch_size        | 2048     |\n",
      "| bc/               |          |\n",
      "|    batch          | 4619     |\n",
      "|    ent_loss       | 0.00263  |\n",
      "|    entropy        | -2.63    |\n",
      "|    epoch          | 462      |\n",
      "|    l2_loss        | 0        |\n",
      "|    l2_norm        | 6.98e+03 |\n",
      "|    loss           | -3.5     |\n",
      "|    neglogp        | -3.5     |\n",
      "|    prob_true_act  | 33.8     |\n",
      "|    samples_so_far | 9461760  |\n",
      "--------------------------------\n"
     ]
    },
    {
     "name": "stderr",
     "output_type": "stream",
     "text": [
      "4630batch [27:59,  2.93batch/s]"
     ]
    },
    {
     "name": "stdout",
     "output_type": "stream",
     "text": [
      "--------------------------------\n",
      "| batch_size        | 2048     |\n",
      "| bc/               |          |\n",
      "|    batch          | 4629     |\n",
      "|    ent_loss       | 0.00264  |\n",
      "|    entropy        | -2.64    |\n",
      "|    epoch          | 463      |\n",
      "|    l2_loss        | 0        |\n",
      "|    l2_norm        | 6.99e+03 |\n",
      "|    loss           | -3.46    |\n",
      "|    neglogp        | -3.46    |\n",
      "|    prob_true_act  | 32.5     |\n",
      "|    samples_so_far | 9482240  |\n",
      "--------------------------------\n"
     ]
    },
    {
     "name": "stderr",
     "output_type": "stream",
     "text": [
      "4640batch [28:02,  3.04batch/s]"
     ]
    },
    {
     "name": "stdout",
     "output_type": "stream",
     "text": [
      "--------------------------------\n",
      "| batch_size        | 2048     |\n",
      "| bc/               |          |\n",
      "|    batch          | 4639     |\n",
      "|    ent_loss       | 0.00265  |\n",
      "|    entropy        | -2.65    |\n",
      "|    epoch          | 464      |\n",
      "|    l2_loss        | 0        |\n",
      "|    l2_norm        | 6.99e+03 |\n",
      "|    loss           | -3.48    |\n",
      "|    neglogp        | -3.48    |\n",
      "|    prob_true_act  | 33.8     |\n",
      "|    samples_so_far | 9502720  |\n",
      "--------------------------------\n"
     ]
    },
    {
     "name": "stderr",
     "output_type": "stream",
     "text": [
      "4650batch [28:06,  2.98batch/s]"
     ]
    },
    {
     "name": "stdout",
     "output_type": "stream",
     "text": [
      "--------------------------------\n",
      "| batch_size        | 2048     |\n",
      "| bc/               |          |\n",
      "|    batch          | 4649     |\n",
      "|    ent_loss       | 0.00265  |\n",
      "|    entropy        | -2.65    |\n",
      "|    epoch          | 465      |\n",
      "|    l2_loss        | 0        |\n",
      "|    l2_norm        | 6.99e+03 |\n",
      "|    loss           | -3.51    |\n",
      "|    neglogp        | -3.51    |\n",
      "|    prob_true_act  | 34.2     |\n",
      "|    samples_so_far | 9523200  |\n",
      "--------------------------------\n"
     ]
    },
    {
     "name": "stderr",
     "output_type": "stream",
     "text": [
      "4660batch [28:10,  2.90batch/s]"
     ]
    },
    {
     "name": "stdout",
     "output_type": "stream",
     "text": [
      "--------------------------------\n",
      "| batch_size        | 2048     |\n",
      "| bc/               |          |\n",
      "|    batch          | 4659     |\n",
      "|    ent_loss       | 0.00266  |\n",
      "|    entropy        | -2.66    |\n",
      "|    epoch          | 466      |\n",
      "|    l2_loss        | 0        |\n",
      "|    l2_norm        | 6.99e+03 |\n",
      "|    loss           | -3.53    |\n",
      "|    neglogp        | -3.53    |\n",
      "|    prob_true_act  | 34.9     |\n",
      "|    samples_so_far | 9543680  |\n",
      "--------------------------------\n"
     ]
    },
    {
     "name": "stderr",
     "output_type": "stream",
     "text": [
      "4670batch [28:13,  2.80batch/s]"
     ]
    },
    {
     "name": "stdout",
     "output_type": "stream",
     "text": [
      "--------------------------------\n",
      "| batch_size        | 2048     |\n",
      "| bc/               |          |\n",
      "|    batch          | 4669     |\n",
      "|    ent_loss       | 0.00267  |\n",
      "|    entropy        | -2.67    |\n",
      "|    epoch          | 467      |\n",
      "|    l2_loss        | 0        |\n",
      "|    l2_norm        | 7e+03    |\n",
      "|    loss           | -3.35    |\n",
      "|    neglogp        | -3.35    |\n",
      "|    prob_true_act  | 30.2     |\n",
      "|    samples_so_far | 9564160  |\n",
      "--------------------------------\n"
     ]
    },
    {
     "name": "stderr",
     "output_type": "stream",
     "text": [
      "4680batch [28:17,  2.97batch/s]"
     ]
    },
    {
     "name": "stdout",
     "output_type": "stream",
     "text": [
      "--------------------------------\n",
      "| batch_size        | 2048     |\n",
      "| bc/               |          |\n",
      "|    batch          | 4679     |\n",
      "|    ent_loss       | 0.00267  |\n",
      "|    entropy        | -2.67    |\n",
      "|    epoch          | 468      |\n",
      "|    l2_loss        | 0        |\n",
      "|    l2_norm        | 7e+03    |\n",
      "|    loss           | -3.43    |\n",
      "|    neglogp        | -3.43    |\n",
      "|    prob_true_act  | 32.6     |\n",
      "|    samples_so_far | 9584640  |\n",
      "--------------------------------\n"
     ]
    },
    {
     "name": "stderr",
     "output_type": "stream",
     "text": [
      "4690batch [28:20,  2.92batch/s]"
     ]
    },
    {
     "name": "stdout",
     "output_type": "stream",
     "text": [
      "--------------------------------\n",
      "| batch_size        | 2048     |\n",
      "| bc/               |          |\n",
      "|    batch          | 4689     |\n",
      "|    ent_loss       | 0.00268  |\n",
      "|    entropy        | -2.68    |\n",
      "|    epoch          | 469      |\n",
      "|    l2_loss        | 0        |\n",
      "|    l2_norm        | 7e+03    |\n",
      "|    loss           | -3.49    |\n",
      "|    neglogp        | -3.5     |\n",
      "|    prob_true_act  | 34.1     |\n",
      "|    samples_so_far | 9605120  |\n",
      "--------------------------------\n"
     ]
    },
    {
     "name": "stderr",
     "output_type": "stream",
     "text": [
      "4700batch [28:24,  2.99batch/s]"
     ]
    },
    {
     "name": "stdout",
     "output_type": "stream",
     "text": [
      "--------------------------------\n",
      "| batch_size        | 2048     |\n",
      "| bc/               |          |\n",
      "|    batch          | 4699     |\n",
      "|    ent_loss       | 0.00269  |\n",
      "|    entropy        | -2.69    |\n",
      "|    epoch          | 470      |\n",
      "|    l2_loss        | 0        |\n",
      "|    l2_norm        | 7.01e+03 |\n",
      "|    loss           | -3.47    |\n",
      "|    neglogp        | -3.47    |\n",
      "|    prob_true_act  | 33.7     |\n",
      "|    samples_so_far | 9625600  |\n",
      "--------------------------------\n"
     ]
    },
    {
     "name": "stderr",
     "output_type": "stream",
     "text": [
      "4710batch [28:27,  3.02batch/s]"
     ]
    },
    {
     "name": "stdout",
     "output_type": "stream",
     "text": [
      "--------------------------------\n",
      "| batch_size        | 2048     |\n",
      "| bc/               |          |\n",
      "|    batch          | 4709     |\n",
      "|    ent_loss       | 0.00269  |\n",
      "|    entropy        | -2.69    |\n",
      "|    epoch          | 471      |\n",
      "|    l2_loss        | 0        |\n",
      "|    l2_norm        | 7.01e+03 |\n",
      "|    loss           | -3.51    |\n",
      "|    neglogp        | -3.52    |\n",
      "|    prob_true_act  | 35       |\n",
      "|    samples_so_far | 9646080  |\n",
      "--------------------------------\n"
     ]
    },
    {
     "name": "stderr",
     "output_type": "stream",
     "text": [
      "4720batch [28:31,  2.97batch/s]"
     ]
    },
    {
     "name": "stdout",
     "output_type": "stream",
     "text": [
      "--------------------------------\n",
      "| batch_size        | 2048     |\n",
      "| bc/               |          |\n",
      "|    batch          | 4719     |\n",
      "|    ent_loss       | 0.0027   |\n",
      "|    entropy        | -2.7     |\n",
      "|    epoch          | 472      |\n",
      "|    l2_loss        | 0        |\n",
      "|    l2_norm        | 7.01e+03 |\n",
      "|    loss           | -3.56    |\n",
      "|    neglogp        | -3.56    |\n",
      "|    prob_true_act  | 35.9     |\n",
      "|    samples_so_far | 9666560  |\n",
      "--------------------------------\n"
     ]
    },
    {
     "name": "stderr",
     "output_type": "stream",
     "text": [
      "4730batch [28:34,  2.98batch/s]"
     ]
    },
    {
     "name": "stdout",
     "output_type": "stream",
     "text": [
      "--------------------------------\n",
      "| batch_size        | 2048     |\n",
      "| bc/               |          |\n",
      "|    batch          | 4729     |\n",
      "|    ent_loss       | 0.00271  |\n",
      "|    entropy        | -2.71    |\n",
      "|    epoch          | 473      |\n",
      "|    l2_loss        | 0        |\n",
      "|    l2_norm        | 7.02e+03 |\n",
      "|    loss           | -3.57    |\n",
      "|    neglogp        | -3.57    |\n",
      "|    prob_true_act  | 36.9     |\n",
      "|    samples_so_far | 9687040  |\n",
      "--------------------------------\n"
     ]
    },
    {
     "name": "stderr",
     "output_type": "stream",
     "text": [
      "4740batch [28:38,  2.97batch/s]"
     ]
    },
    {
     "name": "stdout",
     "output_type": "stream",
     "text": [
      "--------------------------------\n",
      "| batch_size        | 2048     |\n",
      "| bc/               |          |\n",
      "|    batch          | 4739     |\n",
      "|    ent_loss       | 0.00272  |\n",
      "|    entropy        | -2.72    |\n",
      "|    epoch          | 474      |\n",
      "|    l2_loss        | 0        |\n",
      "|    l2_norm        | 7.02e+03 |\n",
      "|    loss           | -3.57    |\n",
      "|    neglogp        | -3.57    |\n",
      "|    prob_true_act  | 36.8     |\n",
      "|    samples_so_far | 9707520  |\n",
      "--------------------------------\n"
     ]
    },
    {
     "name": "stderr",
     "output_type": "stream",
     "text": [
      "4750batch [28:42,  2.83batch/s]"
     ]
    },
    {
     "name": "stdout",
     "output_type": "stream",
     "text": [
      "--------------------------------\n",
      "| batch_size        | 2048     |\n",
      "| bc/               |          |\n",
      "|    batch          | 4749     |\n",
      "|    ent_loss       | 0.00272  |\n",
      "|    entropy        | -2.72    |\n",
      "|    epoch          | 475      |\n",
      "|    l2_loss        | 0        |\n",
      "|    l2_norm        | 7.02e+03 |\n",
      "|    loss           | -3.58    |\n",
      "|    neglogp        | -3.59    |\n",
      "|    prob_true_act  | 37.7     |\n",
      "|    samples_so_far | 9728000  |\n",
      "--------------------------------\n"
     ]
    },
    {
     "name": "stderr",
     "output_type": "stream",
     "text": [
      "4760batch [28:45,  2.94batch/s]"
     ]
    },
    {
     "name": "stdout",
     "output_type": "stream",
     "text": [
      "--------------------------------\n",
      "| batch_size        | 2048     |\n",
      "| bc/               |          |\n",
      "|    batch          | 4759     |\n",
      "|    ent_loss       | 0.00273  |\n",
      "|    entropy        | -2.73    |\n",
      "|    epoch          | 476      |\n",
      "|    l2_loss        | 0        |\n",
      "|    l2_norm        | 7.02e+03 |\n",
      "|    loss           | -3.46    |\n",
      "|    neglogp        | -3.46    |\n",
      "|    prob_true_act  | 34.3     |\n",
      "|    samples_so_far | 9748480  |\n",
      "--------------------------------\n"
     ]
    },
    {
     "name": "stderr",
     "output_type": "stream",
     "text": [
      "4770batch [28:49,  2.14batch/s]"
     ]
    },
    {
     "name": "stdout",
     "output_type": "stream",
     "text": [
      "--------------------------------\n",
      "| batch_size        | 2048     |\n",
      "| bc/               |          |\n",
      "|    batch          | 4769     |\n",
      "|    ent_loss       | 0.00274  |\n",
      "|    entropy        | -2.74    |\n",
      "|    epoch          | 477      |\n",
      "|    l2_loss        | 0        |\n",
      "|    l2_norm        | 7.02e+03 |\n",
      "|    loss           | -3.53    |\n",
      "|    neglogp        | -3.54    |\n",
      "|    prob_true_act  | 35.2     |\n",
      "|    samples_so_far | 9768960  |\n",
      "--------------------------------\n"
     ]
    },
    {
     "name": "stderr",
     "output_type": "stream",
     "text": [
      "4780batch [28:53,  2.91batch/s]"
     ]
    },
    {
     "name": "stdout",
     "output_type": "stream",
     "text": [
      "--------------------------------\n",
      "| batch_size        | 2048     |\n",
      "| bc/               |          |\n",
      "|    batch          | 4779     |\n",
      "|    ent_loss       | 0.00274  |\n",
      "|    entropy        | -2.74    |\n",
      "|    epoch          | 478      |\n",
      "|    l2_loss        | 0        |\n",
      "|    l2_norm        | 7.03e+03 |\n",
      "|    loss           | -3.53    |\n",
      "|    neglogp        | -3.53    |\n",
      "|    prob_true_act  | 35.7     |\n",
      "|    samples_so_far | 9789440  |\n",
      "--------------------------------\n"
     ]
    },
    {
     "name": "stderr",
     "output_type": "stream",
     "text": [
      "4790batch [28:57,  2.88batch/s]"
     ]
    },
    {
     "name": "stdout",
     "output_type": "stream",
     "text": [
      "--------------------------------\n",
      "| batch_size        | 2048     |\n",
      "| bc/               |          |\n",
      "|    batch          | 4789     |\n",
      "|    ent_loss       | 0.00275  |\n",
      "|    entropy        | -2.75    |\n",
      "|    epoch          | 479      |\n",
      "|    l2_loss        | 0        |\n",
      "|    l2_norm        | 7.03e+03 |\n",
      "|    loss           | -3.61    |\n",
      "|    neglogp        | -3.61    |\n",
      "|    prob_true_act  | 37.8     |\n",
      "|    samples_so_far | 9809920  |\n",
      "--------------------------------\n"
     ]
    },
    {
     "name": "stderr",
     "output_type": "stream",
     "text": [
      "4800batch [29:00,  3.03batch/s]"
     ]
    },
    {
     "name": "stdout",
     "output_type": "stream",
     "text": [
      "--------------------------------\n",
      "| batch_size        | 2048     |\n",
      "| bc/               |          |\n",
      "|    batch          | 4799     |\n",
      "|    ent_loss       | 0.00276  |\n",
      "|    entropy        | -2.76    |\n",
      "|    epoch          | 480      |\n",
      "|    l2_loss        | 0        |\n",
      "|    l2_norm        | 7.03e+03 |\n",
      "|    loss           | -3.64    |\n",
      "|    neglogp        | -3.64    |\n",
      "|    prob_true_act  | 39.2     |\n",
      "|    samples_so_far | 9830400  |\n",
      "--------------------------------\n"
     ]
    },
    {
     "name": "stderr",
     "output_type": "stream",
     "text": [
      "4810batch [29:04,  2.98batch/s]"
     ]
    },
    {
     "name": "stdout",
     "output_type": "stream",
     "text": [
      "--------------------------------\n",
      "| batch_size        | 2048     |\n",
      "| bc/               |          |\n",
      "|    batch          | 4809     |\n",
      "|    ent_loss       | 0.00277  |\n",
      "|    entropy        | -2.77    |\n",
      "|    epoch          | 481      |\n",
      "|    l2_loss        | 0        |\n",
      "|    l2_norm        | 7.04e+03 |\n",
      "|    loss           | -3.62    |\n",
      "|    neglogp        | -3.62    |\n",
      "|    prob_true_act  | 38.6     |\n",
      "|    samples_so_far | 9850880  |\n",
      "--------------------------------\n"
     ]
    },
    {
     "name": "stderr",
     "output_type": "stream",
     "text": [
      "4820batch [29:07,  2.99batch/s]"
     ]
    },
    {
     "name": "stdout",
     "output_type": "stream",
     "text": [
      "--------------------------------\n",
      "| batch_size        | 2048     |\n",
      "| bc/               |          |\n",
      "|    batch          | 4819     |\n",
      "|    ent_loss       | 0.00277  |\n",
      "|    entropy        | -2.77    |\n",
      "|    epoch          | 482      |\n",
      "|    l2_loss        | 0        |\n",
      "|    l2_norm        | 7.04e+03 |\n",
      "|    loss           | -3.65    |\n",
      "|    neglogp        | -3.65    |\n",
      "|    prob_true_act  | 39.6     |\n",
      "|    samples_so_far | 9871360  |\n",
      "--------------------------------\n"
     ]
    },
    {
     "name": "stderr",
     "output_type": "stream",
     "text": [
      "4830batch [29:11,  2.85batch/s]"
     ]
    },
    {
     "name": "stdout",
     "output_type": "stream",
     "text": [
      "--------------------------------\n",
      "| batch_size        | 2048     |\n",
      "| bc/               |          |\n",
      "|    batch          | 4829     |\n",
      "|    ent_loss       | 0.00278  |\n",
      "|    entropy        | -2.78    |\n",
      "|    epoch          | 483      |\n",
      "|    l2_loss        | 0        |\n",
      "|    l2_norm        | 7.04e+03 |\n",
      "|    loss           | -3.7     |\n",
      "|    neglogp        | -3.71    |\n",
      "|    prob_true_act  | 41.2     |\n",
      "|    samples_so_far | 9891840  |\n",
      "--------------------------------\n"
     ]
    },
    {
     "name": "stderr",
     "output_type": "stream",
     "text": [
      "4840batch [29:15,  2.93batch/s]"
     ]
    },
    {
     "name": "stdout",
     "output_type": "stream",
     "text": [
      "--------------------------------\n",
      "| batch_size        | 2048     |\n",
      "| bc/               |          |\n",
      "|    batch          | 4839     |\n",
      "|    ent_loss       | 0.00279  |\n",
      "|    entropy        | -2.79    |\n",
      "|    epoch          | 484      |\n",
      "|    l2_loss        | 0        |\n",
      "|    l2_norm        | 7.04e+03 |\n",
      "|    loss           | -3.7     |\n",
      "|    neglogp        | -3.71    |\n",
      "|    prob_true_act  | 41       |\n",
      "|    samples_so_far | 9912320  |\n",
      "--------------------------------\n"
     ]
    },
    {
     "name": "stderr",
     "output_type": "stream",
     "text": [
      "4850batch [29:18,  2.99batch/s]"
     ]
    },
    {
     "name": "stdout",
     "output_type": "stream",
     "text": [
      "--------------------------------\n",
      "| batch_size        | 2048     |\n",
      "| bc/               |          |\n",
      "|    batch          | 4849     |\n",
      "|    ent_loss       | 0.0028   |\n",
      "|    entropy        | -2.8     |\n",
      "|    epoch          | 485      |\n",
      "|    l2_loss        | 0        |\n",
      "|    l2_norm        | 7.04e+03 |\n",
      "|    loss           | -3.35    |\n",
      "|    neglogp        | -3.35    |\n",
      "|    prob_true_act  | 29.8     |\n",
      "|    samples_so_far | 9932800  |\n",
      "--------------------------------\n"
     ]
    },
    {
     "name": "stderr",
     "output_type": "stream",
     "text": [
      "4860batch [29:22,  2.89batch/s]"
     ]
    },
    {
     "name": "stdout",
     "output_type": "stream",
     "text": [
      "--------------------------------\n",
      "| batch_size        | 2048     |\n",
      "| bc/               |          |\n",
      "|    batch          | 4859     |\n",
      "|    ent_loss       | 0.00281  |\n",
      "|    entropy        | -2.81    |\n",
      "|    epoch          | 486      |\n",
      "|    l2_loss        | 0        |\n",
      "|    l2_norm        | 7.05e+03 |\n",
      "|    loss           | -3.61    |\n",
      "|    neglogp        | -3.61    |\n",
      "|    prob_true_act  | 38.6     |\n",
      "|    samples_so_far | 9953280  |\n",
      "--------------------------------\n"
     ]
    },
    {
     "name": "stderr",
     "output_type": "stream",
     "text": [
      "4870batch [29:25,  2.96batch/s]"
     ]
    },
    {
     "name": "stdout",
     "output_type": "stream",
     "text": [
      "--------------------------------\n",
      "| batch_size        | 2048     |\n",
      "| bc/               |          |\n",
      "|    batch          | 4869     |\n",
      "|    ent_loss       | 0.00281  |\n",
      "|    entropy        | -2.81    |\n",
      "|    epoch          | 487      |\n",
      "|    l2_loss        | 0        |\n",
      "|    l2_norm        | 7.05e+03 |\n",
      "|    loss           | -3.67    |\n",
      "|    neglogp        | -3.67    |\n",
      "|    prob_true_act  | 40.2     |\n",
      "|    samples_so_far | 9973760  |\n",
      "--------------------------------\n"
     ]
    },
    {
     "name": "stderr",
     "output_type": "stream",
     "text": [
      "4880batch [29:29,  2.99batch/s]"
     ]
    },
    {
     "name": "stdout",
     "output_type": "stream",
     "text": [
      "--------------------------------\n",
      "| batch_size        | 2048     |\n",
      "| bc/               |          |\n",
      "|    batch          | 4879     |\n",
      "|    ent_loss       | 0.00282  |\n",
      "|    entropy        | -2.82    |\n",
      "|    epoch          | 488      |\n",
      "|    l2_loss        | 0        |\n",
      "|    l2_norm        | 7.05e+03 |\n",
      "|    loss           | -3.67    |\n",
      "|    neglogp        | -3.67    |\n",
      "|    prob_true_act  | 39.9     |\n",
      "|    samples_so_far | 9994240  |\n",
      "--------------------------------\n"
     ]
    },
    {
     "name": "stderr",
     "output_type": "stream",
     "text": [
      "4890batch [29:32,  2.94batch/s]"
     ]
    },
    {
     "name": "stdout",
     "output_type": "stream",
     "text": [
      "--------------------------------\n",
      "| batch_size        | 2048     |\n",
      "| bc/               |          |\n",
      "|    batch          | 4889     |\n",
      "|    ent_loss       | 0.00283  |\n",
      "|    entropy        | -2.83    |\n",
      "|    epoch          | 489      |\n",
      "|    l2_loss        | 0        |\n",
      "|    l2_norm        | 7.06e+03 |\n",
      "|    loss           | -3.62    |\n",
      "|    neglogp        | -3.63    |\n",
      "|    prob_true_act  | 39       |\n",
      "|    samples_so_far | 10014720 |\n",
      "--------------------------------\n"
     ]
    },
    {
     "name": "stderr",
     "output_type": "stream",
     "text": [
      "4900batch [29:36,  2.92batch/s]"
     ]
    },
    {
     "name": "stdout",
     "output_type": "stream",
     "text": [
      "--------------------------------\n",
      "| batch_size        | 2048     |\n",
      "| bc/               |          |\n",
      "|    batch          | 4899     |\n",
      "|    ent_loss       | 0.00283  |\n",
      "|    entropy        | -2.83    |\n",
      "|    epoch          | 490      |\n",
      "|    l2_loss        | 0        |\n",
      "|    l2_norm        | 7.06e+03 |\n",
      "|    loss           | -3.65    |\n",
      "|    neglogp        | -3.66    |\n",
      "|    prob_true_act  | 39.9     |\n",
      "|    samples_so_far | 10035200 |\n",
      "--------------------------------\n"
     ]
    },
    {
     "name": "stderr",
     "output_type": "stream",
     "text": [
      "4910batch [29:40,  2.95batch/s]"
     ]
    },
    {
     "name": "stdout",
     "output_type": "stream",
     "text": [
      "--------------------------------\n",
      "| batch_size        | 2048     |\n",
      "| bc/               |          |\n",
      "|    batch          | 4909     |\n",
      "|    ent_loss       | 0.00284  |\n",
      "|    entropy        | -2.84    |\n",
      "|    epoch          | 491      |\n",
      "|    l2_loss        | 0        |\n",
      "|    l2_norm        | 7.06e+03 |\n",
      "|    loss           | -3.69    |\n",
      "|    neglogp        | -3.69    |\n",
      "|    prob_true_act  | 40.7     |\n",
      "|    samples_so_far | 10055680 |\n",
      "--------------------------------\n"
     ]
    },
    {
     "name": "stderr",
     "output_type": "stream",
     "text": [
      "4920batch [29:43,  2.91batch/s]"
     ]
    },
    {
     "name": "stdout",
     "output_type": "stream",
     "text": [
      "--------------------------------\n",
      "| batch_size        | 2048     |\n",
      "| bc/               |          |\n",
      "|    batch          | 4919     |\n",
      "|    ent_loss       | 0.00285  |\n",
      "|    entropy        | -2.85    |\n",
      "|    epoch          | 492      |\n",
      "|    l2_loss        | 0        |\n",
      "|    l2_norm        | 7.06e+03 |\n",
      "|    loss           | -3.65    |\n",
      "|    neglogp        | -3.66    |\n",
      "|    prob_true_act  | 40.4     |\n",
      "|    samples_so_far | 10076160 |\n",
      "--------------------------------\n"
     ]
    },
    {
     "name": "stderr",
     "output_type": "stream",
     "text": [
      "4930batch [29:47,  2.92batch/s]"
     ]
    },
    {
     "name": "stdout",
     "output_type": "stream",
     "text": [
      "--------------------------------\n",
      "| batch_size        | 2048     |\n",
      "| bc/               |          |\n",
      "|    batch          | 4929     |\n",
      "|    ent_loss       | 0.00286  |\n",
      "|    entropy        | -2.86    |\n",
      "|    epoch          | 493      |\n",
      "|    l2_loss        | 0        |\n",
      "|    l2_norm        | 7.07e+03 |\n",
      "|    loss           | -3.61    |\n",
      "|    neglogp        | -3.62    |\n",
      "|    prob_true_act  | 39       |\n",
      "|    samples_so_far | 10096640 |\n",
      "--------------------------------\n"
     ]
    },
    {
     "name": "stderr",
     "output_type": "stream",
     "text": [
      "4940batch [29:50,  2.96batch/s]"
     ]
    },
    {
     "name": "stdout",
     "output_type": "stream",
     "text": [
      "--------------------------------\n",
      "| batch_size        | 2048     |\n",
      "| bc/               |          |\n",
      "|    batch          | 4939     |\n",
      "|    ent_loss       | 0.00287  |\n",
      "|    entropy        | -2.87    |\n",
      "|    epoch          | 494      |\n",
      "|    l2_loss        | 0        |\n",
      "|    l2_norm        | 7.07e+03 |\n",
      "|    loss           | -3.69    |\n",
      "|    neglogp        | -3.69    |\n",
      "|    prob_true_act  | 41.2     |\n",
      "|    samples_so_far | 10117120 |\n",
      "--------------------------------\n"
     ]
    },
    {
     "name": "stderr",
     "output_type": "stream",
     "text": [
      "4950batch [29:54,  2.94batch/s]"
     ]
    },
    {
     "name": "stdout",
     "output_type": "stream",
     "text": [
      "--------------------------------\n",
      "| batch_size        | 2048     |\n",
      "| bc/               |          |\n",
      "|    batch          | 4949     |\n",
      "|    ent_loss       | 0.00287  |\n",
      "|    entropy        | -2.87    |\n",
      "|    epoch          | 495      |\n",
      "|    l2_loss        | 0        |\n",
      "|    l2_norm        | 7.07e+03 |\n",
      "|    loss           | -3.71    |\n",
      "|    neglogp        | -3.72    |\n",
      "|    prob_true_act  | 43.1     |\n",
      "|    samples_so_far | 10137600 |\n",
      "--------------------------------\n"
     ]
    },
    {
     "name": "stderr",
     "output_type": "stream",
     "text": [
      "4960batch [29:57,  2.96batch/s]"
     ]
    },
    {
     "name": "stdout",
     "output_type": "stream",
     "text": [
      "--------------------------------\n",
      "| batch_size        | 2048     |\n",
      "| bc/               |          |\n",
      "|    batch          | 4959     |\n",
      "|    ent_loss       | 0.00288  |\n",
      "|    entropy        | -2.88    |\n",
      "|    epoch          | 496      |\n",
      "|    l2_loss        | 0        |\n",
      "|    l2_norm        | 7.07e+03 |\n",
      "|    loss           | -3.72    |\n",
      "|    neglogp        | -3.72    |\n",
      "|    prob_true_act  | 42.5     |\n",
      "|    samples_so_far | 10158080 |\n",
      "--------------------------------\n"
     ]
    },
    {
     "name": "stderr",
     "output_type": "stream",
     "text": [
      "4970batch [30:02,  1.58batch/s]"
     ]
    },
    {
     "name": "stdout",
     "output_type": "stream",
     "text": [
      "--------------------------------\n",
      "| batch_size        | 2048     |\n",
      "| bc/               |          |\n",
      "|    batch          | 4969     |\n",
      "|    ent_loss       | 0.00289  |\n",
      "|    entropy        | -2.89    |\n",
      "|    epoch          | 497      |\n",
      "|    l2_loss        | 0        |\n",
      "|    l2_norm        | 7.08e+03 |\n",
      "|    loss           | -3.71    |\n",
      "|    neglogp        | -3.71    |\n",
      "|    prob_true_act  | 42.5     |\n",
      "|    samples_so_far | 10178560 |\n",
      "--------------------------------\n"
     ]
    },
    {
     "name": "stderr",
     "output_type": "stream",
     "text": [
      "4980batch [30:06,  2.88batch/s]"
     ]
    },
    {
     "name": "stdout",
     "output_type": "stream",
     "text": [
      "--------------------------------\n",
      "| batch_size        | 2048     |\n",
      "| bc/               |          |\n",
      "|    batch          | 4979     |\n",
      "|    ent_loss       | 0.0029   |\n",
      "|    entropy        | -2.9     |\n",
      "|    epoch          | 498      |\n",
      "|    l2_loss        | 0        |\n",
      "|    l2_norm        | 7.08e+03 |\n",
      "|    loss           | -3.73    |\n",
      "|    neglogp        | -3.74    |\n",
      "|    prob_true_act  | 43.2     |\n",
      "|    samples_so_far | 10199040 |\n",
      "--------------------------------\n"
     ]
    },
    {
     "name": "stderr",
     "output_type": "stream",
     "text": [
      "4990batch [30:09,  2.95batch/s]"
     ]
    },
    {
     "name": "stdout",
     "output_type": "stream",
     "text": [
      "--------------------------------\n",
      "| batch_size        | 2048     |\n",
      "| bc/               |          |\n",
      "|    batch          | 4989     |\n",
      "|    ent_loss       | 0.0029   |\n",
      "|    entropy        | -2.9     |\n",
      "|    epoch          | 499      |\n",
      "|    l2_loss        | 0        |\n",
      "|    l2_norm        | 7.08e+03 |\n",
      "|    loss           | -3.69    |\n",
      "|    neglogp        | -3.69    |\n",
      "|    prob_true_act  | 41.6     |\n",
      "|    samples_so_far | 10219520 |\n",
      "--------------------------------\n"
     ]
    },
    {
     "name": "stderr",
     "output_type": "stream",
     "text": [
      "5000batch [30:13,  2.89batch/s]"
     ]
    },
    {
     "name": "stdout",
     "output_type": "stream",
     "text": [
      "--------------------------------\n",
      "| batch_size        | 2048     |\n",
      "| bc/               |          |\n",
      "|    batch          | 4999     |\n",
      "|    ent_loss       | 0.00291  |\n",
      "|    entropy        | -2.91    |\n",
      "|    epoch          | 500      |\n",
      "|    l2_loss        | 0        |\n",
      "|    l2_norm        | 7.08e+03 |\n",
      "|    loss           | -3.68    |\n",
      "|    neglogp        | -3.69    |\n",
      "|    prob_true_act  | 42       |\n",
      "|    samples_so_far | 10240000 |\n",
      "--------------------------------\n"
     ]
    },
    {
     "name": "stderr",
     "output_type": "stream",
     "text": [
      "5010batch [30:17,  2.98batch/s]"
     ]
    },
    {
     "name": "stdout",
     "output_type": "stream",
     "text": [
      "--------------------------------\n",
      "| batch_size        | 2048     |\n",
      "| bc/               |          |\n",
      "|    batch          | 5009     |\n",
      "|    ent_loss       | 0.00292  |\n",
      "|    entropy        | -2.92    |\n",
      "|    epoch          | 501      |\n",
      "|    l2_loss        | 0        |\n",
      "|    l2_norm        | 7.09e+03 |\n",
      "|    loss           | -3.76    |\n",
      "|    neglogp        | -3.76    |\n",
      "|    prob_true_act  | 43.7     |\n",
      "|    samples_so_far | 10260480 |\n",
      "--------------------------------\n"
     ]
    },
    {
     "name": "stderr",
     "output_type": "stream",
     "text": [
      "5020batch [30:21,  2.67batch/s]"
     ]
    },
    {
     "name": "stdout",
     "output_type": "stream",
     "text": [
      "--------------------------------\n",
      "| batch_size        | 2048     |\n",
      "| bc/               |          |\n",
      "|    batch          | 5019     |\n",
      "|    ent_loss       | 0.00293  |\n",
      "|    entropy        | -2.93    |\n",
      "|    epoch          | 502      |\n",
      "|    l2_loss        | 0        |\n",
      "|    l2_norm        | 7.09e+03 |\n",
      "|    loss           | -3.79    |\n",
      "|    neglogp        | -3.79    |\n",
      "|    prob_true_act  | 45.1     |\n",
      "|    samples_so_far | 10280960 |\n",
      "--------------------------------\n"
     ]
    },
    {
     "name": "stderr",
     "output_type": "stream",
     "text": [
      "5030batch [30:24,  2.92batch/s]"
     ]
    },
    {
     "name": "stdout",
     "output_type": "stream",
     "text": [
      "--------------------------------\n",
      "| batch_size        | 2048     |\n",
      "| bc/               |          |\n",
      "|    batch          | 5029     |\n",
      "|    ent_loss       | 0.00293  |\n",
      "|    entropy        | -2.93    |\n",
      "|    epoch          | 503      |\n",
      "|    l2_loss        | 0        |\n",
      "|    l2_norm        | 7.09e+03 |\n",
      "|    loss           | -3.8     |\n",
      "|    neglogp        | -3.8     |\n",
      "|    prob_true_act  | 46       |\n",
      "|    samples_so_far | 10301440 |\n",
      "--------------------------------\n"
     ]
    },
    {
     "name": "stderr",
     "output_type": "stream",
     "text": [
      "5040batch [30:28,  2.98batch/s]"
     ]
    },
    {
     "name": "stdout",
     "output_type": "stream",
     "text": [
      "--------------------------------\n",
      "| batch_size        | 2048     |\n",
      "| bc/               |          |\n",
      "|    batch          | 5039     |\n",
      "|    ent_loss       | 0.00294  |\n",
      "|    entropy        | -2.94    |\n",
      "|    epoch          | 504      |\n",
      "|    l2_loss        | 0        |\n",
      "|    l2_norm        | 7.09e+03 |\n",
      "|    loss           | -3.8     |\n",
      "|    neglogp        | -3.8     |\n",
      "|    prob_true_act  | 45.6     |\n",
      "|    samples_so_far | 10321920 |\n",
      "--------------------------------\n"
     ]
    },
    {
     "name": "stderr",
     "output_type": "stream",
     "text": [
      "5050batch [30:31,  2.94batch/s]"
     ]
    },
    {
     "name": "stdout",
     "output_type": "stream",
     "text": [
      "--------------------------------\n",
      "| batch_size        | 2048     |\n",
      "| bc/               |          |\n",
      "|    batch          | 5049     |\n",
      "|    ent_loss       | 0.00295  |\n",
      "|    entropy        | -2.95    |\n",
      "|    epoch          | 505      |\n",
      "|    l2_loss        | 0        |\n",
      "|    l2_norm        | 7.1e+03  |\n",
      "|    loss           | -3.37    |\n",
      "|    neglogp        | -3.37    |\n",
      "|    prob_true_act  | 31.7     |\n",
      "|    samples_so_far | 10342400 |\n",
      "--------------------------------\n"
     ]
    },
    {
     "name": "stderr",
     "output_type": "stream",
     "text": [
      "5060batch [30:35,  3.01batch/s]"
     ]
    },
    {
     "name": "stdout",
     "output_type": "stream",
     "text": [
      "--------------------------------\n",
      "| batch_size        | 2048     |\n",
      "| bc/               |          |\n",
      "|    batch          | 5059     |\n",
      "|    ent_loss       | 0.00296  |\n",
      "|    entropy        | -2.96    |\n",
      "|    epoch          | 506      |\n",
      "|    l2_loss        | 0        |\n",
      "|    l2_norm        | 7.1e+03  |\n",
      "|    loss           | -3.36    |\n",
      "|    neglogp        | -3.36    |\n",
      "|    prob_true_act  | 33.4     |\n",
      "|    samples_so_far | 10362880 |\n",
      "--------------------------------\n"
     ]
    },
    {
     "name": "stderr",
     "output_type": "stream",
     "text": [
      "5070batch [30:39,  2.76batch/s]"
     ]
    },
    {
     "name": "stdout",
     "output_type": "stream",
     "text": [
      "--------------------------------\n",
      "| batch_size        | 2048     |\n",
      "| bc/               |          |\n",
      "|    batch          | 5069     |\n",
      "|    ent_loss       | 0.00296  |\n",
      "|    entropy        | -2.96    |\n",
      "|    epoch          | 507      |\n",
      "|    l2_loss        | 0        |\n",
      "|    l2_norm        | 7.11e+03 |\n",
      "|    loss           | -3.18    |\n",
      "|    neglogp        | -3.18    |\n",
      "|    prob_true_act  | 29.7     |\n",
      "|    samples_so_far | 10383360 |\n",
      "--------------------------------\n"
     ]
    },
    {
     "name": "stderr",
     "output_type": "stream",
     "text": [
      "5080batch [30:42,  2.98batch/s]"
     ]
    },
    {
     "name": "stdout",
     "output_type": "stream",
     "text": [
      "--------------------------------\n",
      "| batch_size        | 2048     |\n",
      "| bc/               |          |\n",
      "|    batch          | 5079     |\n",
      "|    ent_loss       | 0.00297  |\n",
      "|    entropy        | -2.97    |\n",
      "|    epoch          | 508      |\n",
      "|    l2_loss        | 0        |\n",
      "|    l2_norm        | 7.11e+03 |\n",
      "|    loss           | -3.44    |\n",
      "|    neglogp        | -3.45    |\n",
      "|    prob_true_act  | 36.6     |\n",
      "|    samples_so_far | 10403840 |\n",
      "--------------------------------\n"
     ]
    },
    {
     "name": "stderr",
     "output_type": "stream",
     "text": [
      "5090batch [30:46,  2.73batch/s]"
     ]
    },
    {
     "name": "stdout",
     "output_type": "stream",
     "text": [
      "--------------------------------\n",
      "| batch_size        | 2048     |\n",
      "| bc/               |          |\n",
      "|    batch          | 5089     |\n",
      "|    ent_loss       | 0.00297  |\n",
      "|    entropy        | -2.97    |\n",
      "|    epoch          | 509      |\n",
      "|    l2_loss        | 0        |\n",
      "|    l2_norm        | 7.12e+03 |\n",
      "|    loss           | -3.48    |\n",
      "|    neglogp        | -3.48    |\n",
      "|    prob_true_act  | 38.6     |\n",
      "|    samples_so_far | 10424320 |\n",
      "--------------------------------\n"
     ]
    },
    {
     "name": "stderr",
     "output_type": "stream",
     "text": [
      "5100batch [30:50,  2.95batch/s]"
     ]
    },
    {
     "name": "stdout",
     "output_type": "stream",
     "text": [
      "--------------------------------\n",
      "| batch_size        | 2048     |\n",
      "| bc/               |          |\n",
      "|    batch          | 5099     |\n",
      "|    ent_loss       | 0.00298  |\n",
      "|    entropy        | -2.98    |\n",
      "|    epoch          | 510      |\n",
      "|    l2_loss        | 0        |\n",
      "|    l2_norm        | 7.12e+03 |\n",
      "|    loss           | -3.54    |\n",
      "|    neglogp        | -3.54    |\n",
      "|    prob_true_act  | 38.4     |\n",
      "|    samples_so_far | 10444800 |\n",
      "--------------------------------\n"
     ]
    },
    {
     "name": "stderr",
     "output_type": "stream",
     "text": [
      "5110batch [30:53,  2.78batch/s]"
     ]
    },
    {
     "name": "stdout",
     "output_type": "stream",
     "text": [
      "--------------------------------\n",
      "| batch_size        | 2048     |\n",
      "| bc/               |          |\n",
      "|    batch          | 5109     |\n",
      "|    ent_loss       | 0.00298  |\n",
      "|    entropy        | -2.98    |\n",
      "|    epoch          | 511      |\n",
      "|    l2_loss        | 0        |\n",
      "|    l2_norm        | 7.13e+03 |\n",
      "|    loss           | -3.7     |\n",
      "|    neglogp        | -3.7     |\n",
      "|    prob_true_act  | 43.7     |\n",
      "|    samples_so_far | 10465280 |\n",
      "--------------------------------\n"
     ]
    },
    {
     "name": "stderr",
     "output_type": "stream",
     "text": [
      "5120batch [30:57,  2.95batch/s]"
     ]
    },
    {
     "name": "stdout",
     "output_type": "stream",
     "text": [
      "--------------------------------\n",
      "| batch_size        | 2048     |\n",
      "| bc/               |          |\n",
      "|    batch          | 5119     |\n",
      "|    ent_loss       | 0.00299  |\n",
      "|    entropy        | -2.99    |\n",
      "|    epoch          | 512      |\n",
      "|    l2_loss        | 0        |\n",
      "|    l2_norm        | 7.13e+03 |\n",
      "|    loss           | -3.81    |\n",
      "|    neglogp        | -3.81    |\n",
      "|    prob_true_act  | 47       |\n",
      "|    samples_so_far | 10485760 |\n",
      "--------------------------------\n"
     ]
    },
    {
     "name": "stderr",
     "output_type": "stream",
     "text": [
      "5130batch [31:00,  2.95batch/s]"
     ]
    },
    {
     "name": "stdout",
     "output_type": "stream",
     "text": [
      "--------------------------------\n",
      "| batch_size        | 2048     |\n",
      "| bc/               |          |\n",
      "|    batch          | 5129     |\n",
      "|    ent_loss       | 0.003    |\n",
      "|    entropy        | -3       |\n",
      "|    epoch          | 513      |\n",
      "|    l2_loss        | 0        |\n",
      "|    l2_norm        | 7.13e+03 |\n",
      "|    loss           | -3.87    |\n",
      "|    neglogp        | -3.87    |\n",
      "|    prob_true_act  | 48.8     |\n",
      "|    samples_so_far | 10506240 |\n",
      "--------------------------------\n"
     ]
    },
    {
     "name": "stderr",
     "output_type": "stream",
     "text": [
      "5140batch [31:04,  2.94batch/s]"
     ]
    },
    {
     "name": "stdout",
     "output_type": "stream",
     "text": [
      "--------------------------------\n",
      "| batch_size        | 2048     |\n",
      "| bc/               |          |\n",
      "|    batch          | 5139     |\n",
      "|    ent_loss       | 0.00301  |\n",
      "|    entropy        | -3.01    |\n",
      "|    epoch          | 514      |\n",
      "|    l2_loss        | 0        |\n",
      "|    l2_norm        | 7.14e+03 |\n",
      "|    loss           | -3.84    |\n",
      "|    neglogp        | -3.84    |\n",
      "|    prob_true_act  | 49.4     |\n",
      "|    samples_so_far | 10526720 |\n",
      "--------------------------------\n"
     ]
    },
    {
     "name": "stderr",
     "output_type": "stream",
     "text": [
      "5150batch [31:08,  2.96batch/s]"
     ]
    },
    {
     "name": "stdout",
     "output_type": "stream",
     "text": [
      "--------------------------------\n",
      "| batch_size        | 2048     |\n",
      "| bc/               |          |\n",
      "|    batch          | 5149     |\n",
      "|    ent_loss       | 0.00302  |\n",
      "|    entropy        | -3.02    |\n",
      "|    epoch          | 515      |\n",
      "|    l2_loss        | 0        |\n",
      "|    l2_norm        | 7.14e+03 |\n",
      "|    loss           | -3.9     |\n",
      "|    neglogp        | -3.9     |\n",
      "|    prob_true_act  | 50.1     |\n",
      "|    samples_so_far | 10547200 |\n",
      "--------------------------------\n"
     ]
    },
    {
     "name": "stderr",
     "output_type": "stream",
     "text": [
      "5160batch [31:11,  2.61batch/s]"
     ]
    },
    {
     "name": "stdout",
     "output_type": "stream",
     "text": [
      "--------------------------------\n",
      "| batch_size        | 2048     |\n",
      "| bc/               |          |\n",
      "|    batch          | 5159     |\n",
      "|    ent_loss       | 0.00302  |\n",
      "|    entropy        | -3.02    |\n",
      "|    epoch          | 516      |\n",
      "|    l2_loss        | 0        |\n",
      "|    l2_norm        | 7.14e+03 |\n",
      "|    loss           | -3.89    |\n",
      "|    neglogp        | -3.89    |\n",
      "|    prob_true_act  | 50.3     |\n",
      "|    samples_so_far | 10567680 |\n",
      "--------------------------------\n"
     ]
    },
    {
     "name": "stderr",
     "output_type": "stream",
     "text": [
      "5170batch [31:15,  2.80batch/s]"
     ]
    },
    {
     "name": "stdout",
     "output_type": "stream",
     "text": [
      "--------------------------------\n",
      "| batch_size        | 2048     |\n",
      "| bc/               |          |\n",
      "|    batch          | 5169     |\n",
      "|    ent_loss       | 0.00303  |\n",
      "|    entropy        | -3.03    |\n",
      "|    epoch          | 517      |\n",
      "|    l2_loss        | 0        |\n",
      "|    l2_norm        | 7.14e+03 |\n",
      "|    loss           | -3.91    |\n",
      "|    neglogp        | -3.92    |\n",
      "|    prob_true_act  | 51       |\n",
      "|    samples_so_far | 10588160 |\n",
      "--------------------------------\n"
     ]
    },
    {
     "name": "stderr",
     "output_type": "stream",
     "text": [
      "5180batch [31:19,  2.91batch/s]"
     ]
    },
    {
     "name": "stdout",
     "output_type": "stream",
     "text": [
      "--------------------------------\n",
      "| batch_size        | 2048     |\n",
      "| bc/               |          |\n",
      "|    batch          | 5179     |\n",
      "|    ent_loss       | 0.00304  |\n",
      "|    entropy        | -3.04    |\n",
      "|    epoch          | 518      |\n",
      "|    l2_loss        | 0        |\n",
      "|    l2_norm        | 7.14e+03 |\n",
      "|    loss           | -3.93    |\n",
      "|    neglogp        | -3.93    |\n",
      "|    prob_true_act  | 52.6     |\n",
      "|    samples_so_far | 10608640 |\n",
      "--------------------------------\n"
     ]
    },
    {
     "name": "stderr",
     "output_type": "stream",
     "text": [
      "5190batch [31:24,  1.60batch/s]"
     ]
    },
    {
     "name": "stdout",
     "output_type": "stream",
     "text": [
      "--------------------------------\n",
      "| batch_size        | 2048     |\n",
      "| bc/               |          |\n",
      "|    batch          | 5189     |\n",
      "|    ent_loss       | 0.00305  |\n",
      "|    entropy        | -3.05    |\n",
      "|    epoch          | 519      |\n",
      "|    l2_loss        | 0        |\n",
      "|    l2_norm        | 7.14e+03 |\n",
      "|    loss           | -3.69    |\n",
      "|    neglogp        | -3.7     |\n",
      "|    prob_true_act  | 42.3     |\n",
      "|    samples_so_far | 10629120 |\n",
      "--------------------------------\n"
     ]
    },
    {
     "name": "stderr",
     "output_type": "stream",
     "text": [
      "5200batch [31:27,  2.90batch/s]"
     ]
    },
    {
     "name": "stdout",
     "output_type": "stream",
     "text": [
      "--------------------------------\n",
      "| batch_size        | 2048     |\n",
      "| bc/               |          |\n",
      "|    batch          | 5199     |\n",
      "|    ent_loss       | 0.00306  |\n",
      "|    entropy        | -3.06    |\n",
      "|    epoch          | 520      |\n",
      "|    l2_loss        | 0        |\n",
      "|    l2_norm        | 7.15e+03 |\n",
      "|    loss           | -3.81    |\n",
      "|    neglogp        | -3.82    |\n",
      "|    prob_true_act  | 46.7     |\n",
      "|    samples_so_far | 10649600 |\n",
      "--------------------------------\n"
     ]
    },
    {
     "name": "stderr",
     "output_type": "stream",
     "text": [
      "5210batch [31:31,  2.95batch/s]"
     ]
    },
    {
     "name": "stdout",
     "output_type": "stream",
     "text": [
      "--------------------------------\n",
      "| batch_size        | 2048     |\n",
      "| bc/               |          |\n",
      "|    batch          | 5209     |\n",
      "|    ent_loss       | 0.00307  |\n",
      "|    entropy        | -3.07    |\n",
      "|    epoch          | 521      |\n",
      "|    l2_loss        | 0        |\n",
      "|    l2_norm        | 7.15e+03 |\n",
      "|    loss           | -3.85    |\n",
      "|    neglogp        | -3.85    |\n",
      "|    prob_true_act  | 50.2     |\n",
      "|    samples_so_far | 10670080 |\n",
      "--------------------------------\n"
     ]
    },
    {
     "name": "stderr",
     "output_type": "stream",
     "text": [
      "5220batch [31:34,  3.01batch/s]"
     ]
    },
    {
     "name": "stdout",
     "output_type": "stream",
     "text": [
      "--------------------------------\n",
      "| batch_size        | 2048     |\n",
      "| bc/               |          |\n",
      "|    batch          | 5219     |\n",
      "|    ent_loss       | 0.00308  |\n",
      "|    entropy        | -3.08    |\n",
      "|    epoch          | 522      |\n",
      "|    l2_loss        | 0        |\n",
      "|    l2_norm        | 7.15e+03 |\n",
      "|    loss           | -3.88    |\n",
      "|    neglogp        | -3.88    |\n",
      "|    prob_true_act  | 49.4     |\n",
      "|    samples_so_far | 10690560 |\n",
      "--------------------------------\n"
     ]
    },
    {
     "name": "stderr",
     "output_type": "stream",
     "text": [
      "5230batch [31:38,  2.99batch/s]"
     ]
    },
    {
     "name": "stdout",
     "output_type": "stream",
     "text": [
      "--------------------------------\n",
      "| batch_size        | 2048     |\n",
      "| bc/               |          |\n",
      "|    batch          | 5229     |\n",
      "|    ent_loss       | 0.00309  |\n",
      "|    entropy        | -3.09    |\n",
      "|    epoch          | 523      |\n",
      "|    l2_loss        | 0        |\n",
      "|    l2_norm        | 7.15e+03 |\n",
      "|    loss           | -3.99    |\n",
      "|    neglogp        | -3.99    |\n",
      "|    prob_true_act  | 54.9     |\n",
      "|    samples_so_far | 10711040 |\n",
      "--------------------------------\n"
     ]
    },
    {
     "name": "stderr",
     "output_type": "stream",
     "text": [
      "5240batch [31:41,  2.96batch/s]"
     ]
    },
    {
     "name": "stdout",
     "output_type": "stream",
     "text": [
      "--------------------------------\n",
      "| batch_size        | 2048     |\n",
      "| bc/               |          |\n",
      "|    batch          | 5239     |\n",
      "|    ent_loss       | 0.0031   |\n",
      "|    entropy        | -3.1     |\n",
      "|    epoch          | 524      |\n",
      "|    l2_loss        | 0        |\n",
      "|    l2_norm        | 7.16e+03 |\n",
      "|    loss           | -3.94    |\n",
      "|    neglogp        | -3.94    |\n",
      "|    prob_true_act  | 54.8     |\n",
      "|    samples_so_far | 10731520 |\n",
      "--------------------------------\n"
     ]
    },
    {
     "name": "stderr",
     "output_type": "stream",
     "text": [
      "5250batch [31:45,  2.89batch/s]"
     ]
    },
    {
     "name": "stdout",
     "output_type": "stream",
     "text": [
      "--------------------------------\n",
      "| batch_size        | 2048     |\n",
      "| bc/               |          |\n",
      "|    batch          | 5249     |\n",
      "|    ent_loss       | 0.0031   |\n",
      "|    entropy        | -3.1     |\n",
      "|    epoch          | 525      |\n",
      "|    l2_loss        | 0        |\n",
      "|    l2_norm        | 7.16e+03 |\n",
      "|    loss           | -3.91    |\n",
      "|    neglogp        | -3.92    |\n",
      "|    prob_true_act  | 53.5     |\n",
      "|    samples_so_far | 10752000 |\n",
      "--------------------------------\n"
     ]
    },
    {
     "name": "stderr",
     "output_type": "stream",
     "text": [
      "5260batch [31:48,  3.00batch/s]"
     ]
    },
    {
     "name": "stdout",
     "output_type": "stream",
     "text": [
      "--------------------------------\n",
      "| batch_size        | 2048     |\n",
      "| bc/               |          |\n",
      "|    batch          | 5259     |\n",
      "|    ent_loss       | 0.00311  |\n",
      "|    entropy        | -3.11    |\n",
      "|    epoch          | 526      |\n",
      "|    l2_loss        | 0        |\n",
      "|    l2_norm        | 7.16e+03 |\n",
      "|    loss           | -3.98    |\n",
      "|    neglogp        | -3.98    |\n",
      "|    prob_true_act  | 55.5     |\n",
      "|    samples_so_far | 10772480 |\n",
      "--------------------------------\n"
     ]
    },
    {
     "name": "stderr",
     "output_type": "stream",
     "text": [
      "5270batch [31:52,  2.98batch/s]"
     ]
    },
    {
     "name": "stdout",
     "output_type": "stream",
     "text": [
      "--------------------------------\n",
      "| batch_size        | 2048     |\n",
      "| bc/               |          |\n",
      "|    batch          | 5269     |\n",
      "|    ent_loss       | 0.00312  |\n",
      "|    entropy        | -3.12    |\n",
      "|    epoch          | 527      |\n",
      "|    l2_loss        | 0        |\n",
      "|    l2_norm        | 7.16e+03 |\n",
      "|    loss           | -3.99    |\n",
      "|    neglogp        | -3.99    |\n",
      "|    prob_true_act  | 55.2     |\n",
      "|    samples_so_far | 10792960 |\n",
      "--------------------------------\n"
     ]
    },
    {
     "name": "stderr",
     "output_type": "stream",
     "text": [
      "5280batch [31:55,  2.98batch/s]"
     ]
    },
    {
     "name": "stdout",
     "output_type": "stream",
     "text": [
      "--------------------------------\n",
      "| batch_size        | 2048     |\n",
      "| bc/               |          |\n",
      "|    batch          | 5279     |\n",
      "|    ent_loss       | 0.00313  |\n",
      "|    entropy        | -3.13    |\n",
      "|    epoch          | 528      |\n",
      "|    l2_loss        | 0        |\n",
      "|    l2_norm        | 7.16e+03 |\n",
      "|    loss           | -3.99    |\n",
      "|    neglogp        | -3.99    |\n",
      "|    prob_true_act  | 55.2     |\n",
      "|    samples_so_far | 10813440 |\n",
      "--------------------------------\n"
     ]
    },
    {
     "name": "stderr",
     "output_type": "stream",
     "text": [
      "5290batch [31:59,  2.48batch/s]"
     ]
    },
    {
     "name": "stdout",
     "output_type": "stream",
     "text": [
      "--------------------------------\n",
      "| batch_size        | 2048     |\n",
      "| bc/               |          |\n",
      "|    batch          | 5289     |\n",
      "|    ent_loss       | 0.00314  |\n",
      "|    entropy        | -3.14    |\n",
      "|    epoch          | 529      |\n",
      "|    l2_loss        | 0        |\n",
      "|    l2_norm        | 7.17e+03 |\n",
      "|    loss           | -3.93    |\n",
      "|    neglogp        | -3.94    |\n",
      "|    prob_true_act  | 52.6     |\n",
      "|    samples_so_far | 10833920 |\n",
      "--------------------------------\n"
     ]
    },
    {
     "name": "stderr",
     "output_type": "stream",
     "text": [
      "5300batch [32:03,  2.98batch/s]"
     ]
    },
    {
     "name": "stdout",
     "output_type": "stream",
     "text": [
      "--------------------------------\n",
      "| batch_size        | 2048     |\n",
      "| bc/               |          |\n",
      "|    batch          | 5299     |\n",
      "|    ent_loss       | 0.00315  |\n",
      "|    entropy        | -3.15    |\n",
      "|    epoch          | 530      |\n",
      "|    l2_loss        | 0        |\n",
      "|    l2_norm        | 7.17e+03 |\n",
      "|    loss           | -3.97    |\n",
      "|    neglogp        | -3.98    |\n",
      "|    prob_true_act  | 55.4     |\n",
      "|    samples_so_far | 10854400 |\n",
      "--------------------------------\n"
     ]
    },
    {
     "name": "stderr",
     "output_type": "stream",
     "text": [
      "5310batch [32:06,  2.88batch/s]"
     ]
    },
    {
     "name": "stdout",
     "output_type": "stream",
     "text": [
      "--------------------------------\n",
      "| batch_size        | 2048     |\n",
      "| bc/               |          |\n",
      "|    batch          | 5309     |\n",
      "|    ent_loss       | 0.00316  |\n",
      "|    entropy        | -3.16    |\n",
      "|    epoch          | 531      |\n",
      "|    l2_loss        | 0        |\n",
      "|    l2_norm        | 7.17e+03 |\n",
      "|    loss           | -3.9     |\n",
      "|    neglogp        | -3.91    |\n",
      "|    prob_true_act  | 53.8     |\n",
      "|    samples_so_far | 10874880 |\n",
      "--------------------------------\n"
     ]
    },
    {
     "name": "stderr",
     "output_type": "stream",
     "text": [
      "5320batch [32:10,  2.96batch/s]"
     ]
    },
    {
     "name": "stdout",
     "output_type": "stream",
     "text": [
      "--------------------------------\n",
      "| batch_size        | 2048     |\n",
      "| bc/               |          |\n",
      "|    batch          | 5319     |\n",
      "|    ent_loss       | 0.00316  |\n",
      "|    entropy        | -3.16    |\n",
      "|    epoch          | 532      |\n",
      "|    l2_loss        | 0        |\n",
      "|    l2_norm        | 7.17e+03 |\n",
      "|    loss           | -3.95    |\n",
      "|    neglogp        | -3.95    |\n",
      "|    prob_true_act  | 53.8     |\n",
      "|    samples_so_far | 10895360 |\n",
      "--------------------------------\n"
     ]
    },
    {
     "name": "stderr",
     "output_type": "stream",
     "text": [
      "5330batch [32:14,  2.95batch/s]"
     ]
    },
    {
     "name": "stdout",
     "output_type": "stream",
     "text": [
      "--------------------------------\n",
      "| batch_size        | 2048     |\n",
      "| bc/               |          |\n",
      "|    batch          | 5329     |\n",
      "|    ent_loss       | 0.00317  |\n",
      "|    entropy        | -3.17    |\n",
      "|    epoch          | 533      |\n",
      "|    l2_loss        | 0        |\n",
      "|    l2_norm        | 7.18e+03 |\n",
      "|    loss           | -3.83    |\n",
      "|    neglogp        | -3.83    |\n",
      "|    prob_true_act  | 49.3     |\n",
      "|    samples_so_far | 10915840 |\n",
      "--------------------------------\n"
     ]
    },
    {
     "name": "stderr",
     "output_type": "stream",
     "text": [
      "5340batch [32:17,  2.97batch/s]"
     ]
    },
    {
     "name": "stdout",
     "output_type": "stream",
     "text": [
      "--------------------------------\n",
      "| batch_size        | 2048     |\n",
      "| bc/               |          |\n",
      "|    batch          | 5339     |\n",
      "|    ent_loss       | 0.00318  |\n",
      "|    entropy        | -3.18    |\n",
      "|    epoch          | 534      |\n",
      "|    l2_loss        | 0        |\n",
      "|    l2_norm        | 7.18e+03 |\n",
      "|    loss           | -4.03    |\n",
      "|    neglogp        | -4.04    |\n",
      "|    prob_true_act  | 57.9     |\n",
      "|    samples_so_far | 10936320 |\n",
      "--------------------------------\n"
     ]
    },
    {
     "name": "stderr",
     "output_type": "stream",
     "text": [
      "5350batch [32:21,  2.96batch/s]"
     ]
    },
    {
     "name": "stdout",
     "output_type": "stream",
     "text": [
      "--------------------------------\n",
      "| batch_size        | 2048     |\n",
      "| bc/               |          |\n",
      "|    batch          | 5349     |\n",
      "|    ent_loss       | 0.00319  |\n",
      "|    entropy        | -3.19    |\n",
      "|    epoch          | 535      |\n",
      "|    l2_loss        | 0        |\n",
      "|    l2_norm        | 7.18e+03 |\n",
      "|    loss           | -3.9     |\n",
      "|    neglogp        | -3.91    |\n",
      "|    prob_true_act  | 51.5     |\n",
      "|    samples_so_far | 10956800 |\n",
      "--------------------------------\n"
     ]
    },
    {
     "name": "stderr",
     "output_type": "stream",
     "text": [
      "5360batch [32:24,  2.95batch/s]"
     ]
    },
    {
     "name": "stdout",
     "output_type": "stream",
     "text": [
      "--------------------------------\n",
      "| batch_size        | 2048     |\n",
      "| bc/               |          |\n",
      "|    batch          | 5359     |\n",
      "|    ent_loss       | 0.0032   |\n",
      "|    entropy        | -3.2     |\n",
      "|    epoch          | 536      |\n",
      "|    l2_loss        | 0        |\n",
      "|    l2_norm        | 7.18e+03 |\n",
      "|    loss           | -4.01    |\n",
      "|    neglogp        | -4.01    |\n",
      "|    prob_true_act  | 57       |\n",
      "|    samples_so_far | 10977280 |\n",
      "--------------------------------\n"
     ]
    },
    {
     "name": "stderr",
     "output_type": "stream",
     "text": [
      "5370batch [32:28,  2.93batch/s]"
     ]
    },
    {
     "name": "stdout",
     "output_type": "stream",
     "text": [
      "--------------------------------\n",
      "| batch_size        | 2048     |\n",
      "| bc/               |          |\n",
      "|    batch          | 5369     |\n",
      "|    ent_loss       | 0.00321  |\n",
      "|    entropy        | -3.21    |\n",
      "|    epoch          | 537      |\n",
      "|    l2_loss        | 0        |\n",
      "|    l2_norm        | 7.19e+03 |\n",
      "|    loss           | -4.02    |\n",
      "|    neglogp        | -4.02    |\n",
      "|    prob_true_act  | 58       |\n",
      "|    samples_so_far | 10997760 |\n",
      "--------------------------------\n"
     ]
    },
    {
     "name": "stderr",
     "output_type": "stream",
     "text": [
      "5380batch [32:33,  2.00batch/s]"
     ]
    },
    {
     "name": "stdout",
     "output_type": "stream",
     "text": [
      "--------------------------------\n",
      "| batch_size        | 2048     |\n",
      "| bc/               |          |\n",
      "|    batch          | 5379     |\n",
      "|    ent_loss       | 0.00322  |\n",
      "|    entropy        | -3.22    |\n",
      "|    epoch          | 538      |\n",
      "|    l2_loss        | 0        |\n",
      "|    l2_norm        | 7.19e+03 |\n",
      "|    loss           | -4.04    |\n",
      "|    neglogp        | -4.04    |\n",
      "|    prob_true_act  | 58.6     |\n",
      "|    samples_so_far | 11018240 |\n",
      "--------------------------------\n"
     ]
    },
    {
     "name": "stderr",
     "output_type": "stream",
     "text": [
      "5390batch [32:36,  2.90batch/s]"
     ]
    },
    {
     "name": "stdout",
     "output_type": "stream",
     "text": [
      "--------------------------------\n",
      "| batch_size        | 2048     |\n",
      "| bc/               |          |\n",
      "|    batch          | 5389     |\n",
      "|    ent_loss       | 0.00322  |\n",
      "|    entropy        | -3.22    |\n",
      "|    epoch          | 539      |\n",
      "|    l2_loss        | 0        |\n",
      "|    l2_norm        | 7.19e+03 |\n",
      "|    loss           | -3.96    |\n",
      "|    neglogp        | -3.96    |\n",
      "|    prob_true_act  | 56.9     |\n",
      "|    samples_so_far | 11038720 |\n",
      "--------------------------------\n"
     ]
    },
    {
     "name": "stderr",
     "output_type": "stream",
     "text": [
      "5400batch [32:40,  2.90batch/s]"
     ]
    },
    {
     "name": "stdout",
     "output_type": "stream",
     "text": [
      "--------------------------------\n",
      "| batch_size        | 2048     |\n",
      "| bc/               |          |\n",
      "|    batch          | 5399     |\n",
      "|    ent_loss       | 0.00323  |\n",
      "|    entropy        | -3.23    |\n",
      "|    epoch          | 540      |\n",
      "|    l2_loss        | 0        |\n",
      "|    l2_norm        | 7.19e+03 |\n",
      "|    loss           | -4       |\n",
      "|    neglogp        | -4       |\n",
      "|    prob_true_act  | 56.7     |\n",
      "|    samples_so_far | 11059200 |\n",
      "--------------------------------\n"
     ]
    },
    {
     "name": "stderr",
     "output_type": "stream",
     "text": [
      "5410batch [32:43,  2.98batch/s]"
     ]
    },
    {
     "name": "stdout",
     "output_type": "stream",
     "text": [
      "--------------------------------\n",
      "| batch_size        | 2048     |\n",
      "| bc/               |          |\n",
      "|    batch          | 5409     |\n",
      "|    ent_loss       | 0.00324  |\n",
      "|    entropy        | -3.24    |\n",
      "|    epoch          | 541      |\n",
      "|    l2_loss        | 0        |\n",
      "|    l2_norm        | 7.19e+03 |\n",
      "|    loss           | -3.81    |\n",
      "|    neglogp        | -3.81    |\n",
      "|    prob_true_act  | 48.9     |\n",
      "|    samples_so_far | 11079680 |\n",
      "--------------------------------\n"
     ]
    },
    {
     "name": "stderr",
     "output_type": "stream",
     "text": [
      "5420batch [32:47,  3.00batch/s]"
     ]
    },
    {
     "name": "stdout",
     "output_type": "stream",
     "text": [
      "--------------------------------\n",
      "| batch_size        | 2048     |\n",
      "| bc/               |          |\n",
      "|    batch          | 5419     |\n",
      "|    ent_loss       | 0.00325  |\n",
      "|    entropy        | -3.25    |\n",
      "|    epoch          | 542      |\n",
      "|    l2_loss        | 0        |\n",
      "|    l2_norm        | 7.2e+03  |\n",
      "|    loss           | -3.94    |\n",
      "|    neglogp        | -3.94    |\n",
      "|    prob_true_act  | 54.2     |\n",
      "|    samples_so_far | 11100160 |\n",
      "--------------------------------\n"
     ]
    },
    {
     "name": "stderr",
     "output_type": "stream",
     "text": [
      "5430batch [32:52,  1.97batch/s]"
     ]
    },
    {
     "name": "stdout",
     "output_type": "stream",
     "text": [
      "--------------------------------\n",
      "| batch_size        | 2048     |\n",
      "| bc/               |          |\n",
      "|    batch          | 5429     |\n",
      "|    ent_loss       | 0.00326  |\n",
      "|    entropy        | -3.26    |\n",
      "|    epoch          | 543      |\n",
      "|    l2_loss        | 0        |\n",
      "|    l2_norm        | 7.2e+03  |\n",
      "|    loss           | -3.87    |\n",
      "|    neglogp        | -3.88    |\n",
      "|    prob_true_act  | 52.9     |\n",
      "|    samples_so_far | 11120640 |\n",
      "--------------------------------\n"
     ]
    },
    {
     "name": "stderr",
     "output_type": "stream",
     "text": [
      "5440batch [32:55,  2.94batch/s]"
     ]
    },
    {
     "name": "stdout",
     "output_type": "stream",
     "text": [
      "--------------------------------\n",
      "| batch_size        | 2048     |\n",
      "| bc/               |          |\n",
      "|    batch          | 5439     |\n",
      "|    ent_loss       | 0.00326  |\n",
      "|    entropy        | -3.26    |\n",
      "|    epoch          | 544      |\n",
      "|    l2_loss        | 0        |\n",
      "|    l2_norm        | 7.21e+03 |\n",
      "|    loss           | -3.97    |\n",
      "|    neglogp        | -3.98    |\n",
      "|    prob_true_act  | 58.2     |\n",
      "|    samples_so_far | 11141120 |\n",
      "--------------------------------\n"
     ]
    },
    {
     "name": "stderr",
     "output_type": "stream",
     "text": [
      "5450batch [32:59,  2.95batch/s]"
     ]
    },
    {
     "name": "stdout",
     "output_type": "stream",
     "text": [
      "--------------------------------\n",
      "| batch_size        | 2048     |\n",
      "| bc/               |          |\n",
      "|    batch          | 5449     |\n",
      "|    ent_loss       | 0.00327  |\n",
      "|    entropy        | -3.27    |\n",
      "|    epoch          | 545      |\n",
      "|    l2_loss        | 0        |\n",
      "|    l2_norm        | 7.21e+03 |\n",
      "|    loss           | -3.98    |\n",
      "|    neglogp        | -3.98    |\n",
      "|    prob_true_act  | 57.2     |\n",
      "|    samples_so_far | 11161600 |\n",
      "--------------------------------\n"
     ]
    },
    {
     "name": "stderr",
     "output_type": "stream",
     "text": [
      "5460batch [33:02,  2.98batch/s]"
     ]
    },
    {
     "name": "stdout",
     "output_type": "stream",
     "text": [
      "--------------------------------\n",
      "| batch_size        | 2048     |\n",
      "| bc/               |          |\n",
      "|    batch          | 5459     |\n",
      "|    ent_loss       | 0.00328  |\n",
      "|    entropy        | -3.28    |\n",
      "|    epoch          | 546      |\n",
      "|    l2_loss        | 0        |\n",
      "|    l2_norm        | 7.21e+03 |\n",
      "|    loss           | -4.07    |\n",
      "|    neglogp        | -4.07    |\n",
      "|    prob_true_act  | 61.5     |\n",
      "|    samples_so_far | 11182080 |\n",
      "--------------------------------\n"
     ]
    },
    {
     "name": "stderr",
     "output_type": "stream",
     "text": [
      "5470batch [33:06,  2.92batch/s]"
     ]
    },
    {
     "name": "stdout",
     "output_type": "stream",
     "text": [
      "--------------------------------\n",
      "| batch_size        | 2048     |\n",
      "| bc/               |          |\n",
      "|    batch          | 5469     |\n",
      "|    ent_loss       | 0.00329  |\n",
      "|    entropy        | -3.29    |\n",
      "|    epoch          | 547      |\n",
      "|    l2_loss        | 0        |\n",
      "|    l2_norm        | 7.21e+03 |\n",
      "|    loss           | -4.01    |\n",
      "|    neglogp        | -4.01    |\n",
      "|    prob_true_act  | 58.3     |\n",
      "|    samples_so_far | 11202560 |\n",
      "--------------------------------\n"
     ]
    },
    {
     "name": "stderr",
     "output_type": "stream",
     "text": [
      "5480batch [33:10,  2.98batch/s]"
     ]
    },
    {
     "name": "stdout",
     "output_type": "stream",
     "text": [
      "--------------------------------\n",
      "| batch_size        | 2048     |\n",
      "| bc/               |          |\n",
      "|    batch          | 5479     |\n",
      "|    ent_loss       | 0.0033   |\n",
      "|    entropy        | -3.3     |\n",
      "|    epoch          | 548      |\n",
      "|    l2_loss        | 0        |\n",
      "|    l2_norm        | 7.22e+03 |\n",
      "|    loss           | -3.83    |\n",
      "|    neglogp        | -3.83    |\n",
      "|    prob_true_act  | 52.2     |\n",
      "|    samples_so_far | 11223040 |\n",
      "--------------------------------\n"
     ]
    },
    {
     "name": "stderr",
     "output_type": "stream",
     "text": [
      "5490batch [33:13,  2.91batch/s]"
     ]
    },
    {
     "name": "stdout",
     "output_type": "stream",
     "text": [
      "--------------------------------\n",
      "| batch_size        | 2048     |\n",
      "| bc/               |          |\n",
      "|    batch          | 5489     |\n",
      "|    ent_loss       | 0.0033   |\n",
      "|    entropy        | -3.3     |\n",
      "|    epoch          | 549      |\n",
      "|    l2_loss        | 0        |\n",
      "|    l2_norm        | 7.22e+03 |\n",
      "|    loss           | -3.73    |\n",
      "|    neglogp        | -3.74    |\n",
      "|    prob_true_act  | 48.9     |\n",
      "|    samples_so_far | 11243520 |\n",
      "--------------------------------\n"
     ]
    },
    {
     "name": "stderr",
     "output_type": "stream",
     "text": [
      "5500batch [33:17,  2.96batch/s]"
     ]
    },
    {
     "name": "stdout",
     "output_type": "stream",
     "text": [
      "--------------------------------\n",
      "| batch_size        | 2048     |\n",
      "| bc/               |          |\n",
      "|    batch          | 5499     |\n",
      "|    ent_loss       | 0.00331  |\n",
      "|    entropy        | -3.31    |\n",
      "|    epoch          | 550      |\n",
      "|    l2_loss        | 0        |\n",
      "|    l2_norm        | 7.23e+03 |\n",
      "|    loss           | -3.95    |\n",
      "|    neglogp        | -3.95    |\n",
      "|    prob_true_act  | 56.8     |\n",
      "|    samples_so_far | 11264000 |\n",
      "--------------------------------\n"
     ]
    },
    {
     "name": "stderr",
     "output_type": "stream",
     "text": [
      "5510batch [33:20,  2.93batch/s]"
     ]
    },
    {
     "name": "stdout",
     "output_type": "stream",
     "text": [
      "--------------------------------\n",
      "| batch_size        | 2048     |\n",
      "| bc/               |          |\n",
      "|    batch          | 5509     |\n",
      "|    ent_loss       | 0.00332  |\n",
      "|    entropy        | -3.32    |\n",
      "|    epoch          | 551      |\n",
      "|    l2_loss        | 0        |\n",
      "|    l2_norm        | 7.23e+03 |\n",
      "|    loss           | -3.93    |\n",
      "|    neglogp        | -3.94    |\n",
      "|    prob_true_act  | 59.6     |\n",
      "|    samples_so_far | 11284480 |\n",
      "--------------------------------\n"
     ]
    },
    {
     "name": "stderr",
     "output_type": "stream",
     "text": [
      "5520batch [33:24,  2.95batch/s]"
     ]
    },
    {
     "name": "stdout",
     "output_type": "stream",
     "text": [
      "--------------------------------\n",
      "| batch_size        | 2048     |\n",
      "| bc/               |          |\n",
      "|    batch          | 5519     |\n",
      "|    ent_loss       | 0.00332  |\n",
      "|    entropy        | -3.32    |\n",
      "|    epoch          | 552      |\n",
      "|    l2_loss        | 0        |\n",
      "|    l2_norm        | 7.24e+03 |\n",
      "|    loss           | -4.08    |\n",
      "|    neglogp        | -4.09    |\n",
      "|    prob_true_act  | 63.9     |\n",
      "|    samples_so_far | 11304960 |\n",
      "--------------------------------\n"
     ]
    },
    {
     "name": "stderr",
     "output_type": "stream",
     "text": [
      "5530batch [33:28,  2.57batch/s]"
     ]
    },
    {
     "name": "stdout",
     "output_type": "stream",
     "text": [
      "--------------------------------\n",
      "| batch_size        | 2048     |\n",
      "| bc/               |          |\n",
      "|    batch          | 5529     |\n",
      "|    ent_loss       | 0.00333  |\n",
      "|    entropy        | -3.33    |\n",
      "|    epoch          | 553      |\n",
      "|    l2_loss        | 0        |\n",
      "|    l2_norm        | 7.24e+03 |\n",
      "|    loss           | -4.1     |\n",
      "|    neglogp        | -4.1     |\n",
      "|    prob_true_act  | 64       |\n",
      "|    samples_so_far | 11325440 |\n",
      "--------------------------------\n"
     ]
    },
    {
     "name": "stderr",
     "output_type": "stream",
     "text": [
      "5540batch [33:31,  2.98batch/s]"
     ]
    },
    {
     "name": "stdout",
     "output_type": "stream",
     "text": [
      "--------------------------------\n",
      "| batch_size        | 2048     |\n",
      "| bc/               |          |\n",
      "|    batch          | 5539     |\n",
      "|    ent_loss       | 0.00334  |\n",
      "|    entropy        | -3.34    |\n",
      "|    epoch          | 554      |\n",
      "|    l2_loss        | 0        |\n",
      "|    l2_norm        | 7.24e+03 |\n",
      "|    loss           | -4.01    |\n",
      "|    neglogp        | -4.02    |\n",
      "|    prob_true_act  | 58.1     |\n",
      "|    samples_so_far | 11345920 |\n",
      "--------------------------------\n"
     ]
    },
    {
     "name": "stderr",
     "output_type": "stream",
     "text": [
      "5550batch [33:35,  2.97batch/s]"
     ]
    },
    {
     "name": "stdout",
     "output_type": "stream",
     "text": [
      "--------------------------------\n",
      "| batch_size        | 2048     |\n",
      "| bc/               |          |\n",
      "|    batch          | 5549     |\n",
      "|    ent_loss       | 0.00335  |\n",
      "|    entropy        | -3.35    |\n",
      "|    epoch          | 555      |\n",
      "|    l2_loss        | 0        |\n",
      "|    l2_norm        | 7.24e+03 |\n",
      "|    loss           | -4.03    |\n",
      "|    neglogp        | -4.04    |\n",
      "|    prob_true_act  | 59.9     |\n",
      "|    samples_so_far | 11366400 |\n",
      "--------------------------------\n"
     ]
    },
    {
     "name": "stderr",
     "output_type": "stream",
     "text": [
      "5560batch [33:38,  2.94batch/s]"
     ]
    },
    {
     "name": "stdout",
     "output_type": "stream",
     "text": [
      "--------------------------------\n",
      "| batch_size        | 2048     |\n",
      "| bc/               |          |\n",
      "|    batch          | 5559     |\n",
      "|    ent_loss       | 0.00336  |\n",
      "|    entropy        | -3.36    |\n",
      "|    epoch          | 556      |\n",
      "|    l2_loss        | 0        |\n",
      "|    l2_norm        | 7.25e+03 |\n",
      "|    loss           | -4.17    |\n",
      "|    neglogp        | -4.17    |\n",
      "|    prob_true_act  | 66.8     |\n",
      "|    samples_so_far | 11386880 |\n",
      "--------------------------------\n"
     ]
    },
    {
     "name": "stderr",
     "output_type": "stream",
     "text": [
      "5570batch [33:42,  2.90batch/s]"
     ]
    },
    {
     "name": "stdout",
     "output_type": "stream",
     "text": [
      "--------------------------------\n",
      "| batch_size        | 2048     |\n",
      "| bc/               |          |\n",
      "|    batch          | 5569     |\n",
      "|    ent_loss       | 0.00337  |\n",
      "|    entropy        | -3.37    |\n",
      "|    epoch          | 557      |\n",
      "|    l2_loss        | 0        |\n",
      "|    l2_norm        | 7.25e+03 |\n",
      "|    loss           | -4.21    |\n",
      "|    neglogp        | -4.21    |\n",
      "|    prob_true_act  | 69.3     |\n",
      "|    samples_so_far | 11407360 |\n",
      "--------------------------------\n"
     ]
    },
    {
     "name": "stderr",
     "output_type": "stream",
     "text": [
      "5580batch [33:46,  2.93batch/s]"
     ]
    },
    {
     "name": "stdout",
     "output_type": "stream",
     "text": [
      "--------------------------------\n",
      "| batch_size        | 2048     |\n",
      "| bc/               |          |\n",
      "|    batch          | 5579     |\n",
      "|    ent_loss       | 0.00338  |\n",
      "|    entropy        | -3.38    |\n",
      "|    epoch          | 558      |\n",
      "|    l2_loss        | 0        |\n",
      "|    l2_norm        | 7.25e+03 |\n",
      "|    loss           | -4.06    |\n",
      "|    neglogp        | -4.07    |\n",
      "|    prob_true_act  | 60.7     |\n",
      "|    samples_so_far | 11427840 |\n",
      "--------------------------------\n"
     ]
    },
    {
     "name": "stderr",
     "output_type": "stream",
     "text": [
      "5590batch [33:49,  2.96batch/s]"
     ]
    },
    {
     "name": "stdout",
     "output_type": "stream",
     "text": [
      "--------------------------------\n",
      "| batch_size        | 2048     |\n",
      "| bc/               |          |\n",
      "|    batch          | 5589     |\n",
      "|    ent_loss       | 0.00339  |\n",
      "|    entropy        | -3.39    |\n",
      "|    epoch          | 559      |\n",
      "|    l2_loss        | 0        |\n",
      "|    l2_norm        | 7.26e+03 |\n",
      "|    loss           | -4.01    |\n",
      "|    neglogp        | -4.01    |\n",
      "|    prob_true_act  | 61.1     |\n",
      "|    samples_so_far | 11448320 |\n",
      "--------------------------------\n"
     ]
    },
    {
     "name": "stderr",
     "output_type": "stream",
     "text": [
      "5600batch [33:53,  2.69batch/s]"
     ]
    },
    {
     "name": "stdout",
     "output_type": "stream",
     "text": [
      "--------------------------------\n",
      "| batch_size        | 2048     |\n",
      "| bc/               |          |\n",
      "|    batch          | 5599     |\n",
      "|    ent_loss       | 0.00339  |\n",
      "|    entropy        | -3.39    |\n",
      "|    epoch          | 560      |\n",
      "|    l2_loss        | 0        |\n",
      "|    l2_norm        | 7.26e+03 |\n",
      "|    loss           | -4.06    |\n",
      "|    neglogp        | -4.06    |\n",
      "|    prob_true_act  | 62.6     |\n",
      "|    samples_so_far | 11468800 |\n",
      "--------------------------------\n"
     ]
    },
    {
     "name": "stderr",
     "output_type": "stream",
     "text": [
      "5610batch [33:57,  2.98batch/s]"
     ]
    },
    {
     "name": "stdout",
     "output_type": "stream",
     "text": [
      "--------------------------------\n",
      "| batch_size        | 2048     |\n",
      "| bc/               |          |\n",
      "|    batch          | 5609     |\n",
      "|    ent_loss       | 0.0034   |\n",
      "|    entropy        | -3.4     |\n",
      "|    epoch          | 561      |\n",
      "|    l2_loss        | 0        |\n",
      "|    l2_norm        | 7.26e+03 |\n",
      "|    loss           | -4.17    |\n",
      "|    neglogp        | -4.17    |\n",
      "|    prob_true_act  | 67.8     |\n",
      "|    samples_so_far | 11489280 |\n",
      "--------------------------------\n"
     ]
    },
    {
     "name": "stderr",
     "output_type": "stream",
     "text": [
      "5620batch [34:00,  2.94batch/s]"
     ]
    },
    {
     "name": "stdout",
     "output_type": "stream",
     "text": [
      "--------------------------------\n",
      "| batch_size        | 2048     |\n",
      "| bc/               |          |\n",
      "|    batch          | 5619     |\n",
      "|    ent_loss       | 0.00341  |\n",
      "|    entropy        | -3.41    |\n",
      "|    epoch          | 562      |\n",
      "|    l2_loss        | 0        |\n",
      "|    l2_norm        | 7.27e+03 |\n",
      "|    loss           | -4.25    |\n",
      "|    neglogp        | -4.25    |\n",
      "|    prob_true_act  | 72.2     |\n",
      "|    samples_so_far | 11509760 |\n",
      "--------------------------------\n"
     ]
    },
    {
     "name": "stderr",
     "output_type": "stream",
     "text": [
      "5630batch [34:04,  2.92batch/s]"
     ]
    },
    {
     "name": "stdout",
     "output_type": "stream",
     "text": [
      "--------------------------------\n",
      "| batch_size        | 2048     |\n",
      "| bc/               |          |\n",
      "|    batch          | 5629     |\n",
      "|    ent_loss       | 0.00342  |\n",
      "|    entropy        | -3.42    |\n",
      "|    epoch          | 563      |\n",
      "|    l2_loss        | 0        |\n",
      "|    l2_norm        | 7.27e+03 |\n",
      "|    loss           | -4.25    |\n",
      "|    neglogp        | -4.26    |\n",
      "|    prob_true_act  | 73.1     |\n",
      "|    samples_so_far | 11530240 |\n",
      "--------------------------------\n"
     ]
    },
    {
     "name": "stderr",
     "output_type": "stream",
     "text": [
      "5640batch [34:07,  2.93batch/s]"
     ]
    },
    {
     "name": "stdout",
     "output_type": "stream",
     "text": [
      "--------------------------------\n",
      "| batch_size        | 2048     |\n",
      "| bc/               |          |\n",
      "|    batch          | 5639     |\n",
      "|    ent_loss       | 0.00343  |\n",
      "|    entropy        | -3.43    |\n",
      "|    epoch          | 564      |\n",
      "|    l2_loss        | 0        |\n",
      "|    l2_norm        | 7.27e+03 |\n",
      "|    loss           | -4.19    |\n",
      "|    neglogp        | -4.19    |\n",
      "|    prob_true_act  | 72.9     |\n",
      "|    samples_so_far | 11550720 |\n",
      "--------------------------------\n"
     ]
    },
    {
     "name": "stderr",
     "output_type": "stream",
     "text": [
      "5650batch [34:11,  2.95batch/s]"
     ]
    },
    {
     "name": "stdout",
     "output_type": "stream",
     "text": [
      "--------------------------------\n",
      "| batch_size        | 2048     |\n",
      "| bc/               |          |\n",
      "|    batch          | 5649     |\n",
      "|    ent_loss       | 0.00344  |\n",
      "|    entropy        | -3.44    |\n",
      "|    epoch          | 565      |\n",
      "|    l2_loss        | 0        |\n",
      "|    l2_norm        | 7.27e+03 |\n",
      "|    loss           | -4.31    |\n",
      "|    neglogp        | -4.32    |\n",
      "|    prob_true_act  | 76.2     |\n",
      "|    samples_so_far | 11571200 |\n",
      "--------------------------------\n"
     ]
    },
    {
     "name": "stderr",
     "output_type": "stream",
     "text": [
      "5660batch [34:14,  2.94batch/s]"
     ]
    },
    {
     "name": "stdout",
     "output_type": "stream",
     "text": [
      "--------------------------------\n",
      "| batch_size        | 2048     |\n",
      "| bc/               |          |\n",
      "|    batch          | 5659     |\n",
      "|    ent_loss       | 0.00345  |\n",
      "|    entropy        | -3.45    |\n",
      "|    epoch          | 566      |\n",
      "|    l2_loss        | 0        |\n",
      "|    l2_norm        | 7.27e+03 |\n",
      "|    loss           | -4.31    |\n",
      "|    neglogp        | -4.31    |\n",
      "|    prob_true_act  | 79       |\n",
      "|    samples_so_far | 11591680 |\n",
      "--------------------------------\n"
     ]
    },
    {
     "name": "stderr",
     "output_type": "stream",
     "text": [
      "5670batch [34:18,  2.97batch/s]"
     ]
    },
    {
     "name": "stdout",
     "output_type": "stream",
     "text": [
      "--------------------------------\n",
      "| batch_size        | 2048     |\n",
      "| bc/               |          |\n",
      "|    batch          | 5669     |\n",
      "|    ent_loss       | 0.00346  |\n",
      "|    entropy        | -3.46    |\n",
      "|    epoch          | 567      |\n",
      "|    l2_loss        | 0        |\n",
      "|    l2_norm        | 7.27e+03 |\n",
      "|    loss           | -2.1     |\n",
      "|    neglogp        | -2.11    |\n",
      "|    prob_true_act  | 14.1     |\n",
      "|    samples_so_far | 11612160 |\n",
      "--------------------------------\n"
     ]
    },
    {
     "name": "stderr",
     "output_type": "stream",
     "text": [
      "5680batch [34:22,  2.97batch/s]"
     ]
    },
    {
     "name": "stdout",
     "output_type": "stream",
     "text": [
      "--------------------------------\n",
      "| batch_size        | 2048     |\n",
      "| bc/               |          |\n",
      "|    batch          | 5679     |\n",
      "|    ent_loss       | 0.00346  |\n",
      "|    entropy        | -3.46    |\n",
      "|    epoch          | 568      |\n",
      "|    l2_loss        | 0        |\n",
      "|    l2_norm        | 7.28e+03 |\n",
      "|    loss           | -3.34    |\n",
      "|    neglogp        | -3.35    |\n",
      "|    prob_true_act  | 44.4     |\n",
      "|    samples_so_far | 11632640 |\n",
      "--------------------------------\n"
     ]
    },
    {
     "name": "stderr",
     "output_type": "stream",
     "text": [
      "5690batch [34:25,  2.90batch/s]"
     ]
    },
    {
     "name": "stdout",
     "output_type": "stream",
     "text": [
      "--------------------------------\n",
      "| batch_size        | 2048     |\n",
      "| bc/               |          |\n",
      "|    batch          | 5689     |\n",
      "|    ent_loss       | 0.00346  |\n",
      "|    entropy        | -3.46    |\n",
      "|    epoch          | 569      |\n",
      "|    l2_loss        | 0        |\n",
      "|    l2_norm        | 7.29e+03 |\n",
      "|    loss           | -3.55    |\n",
      "|    neglogp        | -3.56    |\n",
      "|    prob_true_act  | 51.1     |\n",
      "|    samples_so_far | 11653120 |\n",
      "--------------------------------\n"
     ]
    },
    {
     "name": "stderr",
     "output_type": "stream",
     "text": [
      "5700batch [34:29,  2.93batch/s]"
     ]
    },
    {
     "name": "stdout",
     "output_type": "stream",
     "text": [
      "--------------------------------\n",
      "| batch_size        | 2048     |\n",
      "| bc/               |          |\n",
      "|    batch          | 5699     |\n",
      "|    ent_loss       | 0.00346  |\n",
      "|    entropy        | -3.46    |\n",
      "|    epoch          | 570      |\n",
      "|    l2_loss        | 0        |\n",
      "|    l2_norm        | 7.3e+03  |\n",
      "|    loss           | -3.91    |\n",
      "|    neglogp        | -3.91    |\n",
      "|    prob_true_act  | 60.5     |\n",
      "|    samples_so_far | 11673600 |\n",
      "--------------------------------\n"
     ]
    },
    {
     "name": "stderr",
     "output_type": "stream",
     "text": [
      "5710batch [34:33,  2.71batch/s]"
     ]
    },
    {
     "name": "stdout",
     "output_type": "stream",
     "text": [
      "--------------------------------\n",
      "| batch_size        | 2048     |\n",
      "| bc/               |          |\n",
      "|    batch          | 5709     |\n",
      "|    ent_loss       | 0.00347  |\n",
      "|    entropy        | -3.47    |\n",
      "|    epoch          | 571      |\n",
      "|    l2_loss        | 0        |\n",
      "|    l2_norm        | 7.3e+03  |\n",
      "|    loss           | -4.11    |\n",
      "|    neglogp        | -4.11    |\n",
      "|    prob_true_act  | 67.3     |\n",
      "|    samples_so_far | 11694080 |\n",
      "--------------------------------\n"
     ]
    },
    {
     "name": "stderr",
     "output_type": "stream",
     "text": [
      "5720batch [34:36,  2.96batch/s]"
     ]
    },
    {
     "name": "stdout",
     "output_type": "stream",
     "text": [
      "--------------------------------\n",
      "| batch_size        | 2048     |\n",
      "| bc/               |          |\n",
      "|    batch          | 5719     |\n",
      "|    ent_loss       | 0.00348  |\n",
      "|    entropy        | -3.48    |\n",
      "|    epoch          | 572      |\n",
      "|    l2_loss        | 0        |\n",
      "|    l2_norm        | 7.3e+03  |\n",
      "|    loss           | -4.21    |\n",
      "|    neglogp        | -4.21    |\n",
      "|    prob_true_act  | 71.8     |\n",
      "|    samples_so_far | 11714560 |\n",
      "--------------------------------\n"
     ]
    },
    {
     "name": "stderr",
     "output_type": "stream",
     "text": [
      "5730batch [34:40,  2.94batch/s]"
     ]
    },
    {
     "name": "stdout",
     "output_type": "stream",
     "text": [
      "--------------------------------\n",
      "| batch_size        | 2048     |\n",
      "| bc/               |          |\n",
      "|    batch          | 5729     |\n",
      "|    ent_loss       | 0.00349  |\n",
      "|    entropy        | -3.49    |\n",
      "|    epoch          | 573      |\n",
      "|    l2_loss        | 0        |\n",
      "|    l2_norm        | 7.31e+03 |\n",
      "|    loss           | -4.3     |\n",
      "|    neglogp        | -4.31    |\n",
      "|    prob_true_act  | 76.8     |\n",
      "|    samples_so_far | 11735040 |\n",
      "--------------------------------\n"
     ]
    },
    {
     "name": "stderr",
     "output_type": "stream",
     "text": [
      "5740batch [34:44,  2.94batch/s]"
     ]
    },
    {
     "name": "stdout",
     "output_type": "stream",
     "text": [
      "--------------------------------\n",
      "| batch_size        | 2048     |\n",
      "| bc/               |          |\n",
      "|    batch          | 5739     |\n",
      "|    ent_loss       | 0.0035   |\n",
      "|    entropy        | -3.5     |\n",
      "|    epoch          | 574      |\n",
      "|    l2_loss        | 0        |\n",
      "|    l2_norm        | 7.31e+03 |\n",
      "|    loss           | -4.3     |\n",
      "|    neglogp        | -4.31    |\n",
      "|    prob_true_act  | 78.6     |\n",
      "|    samples_so_far | 11755520 |\n",
      "--------------------------------\n"
     ]
    },
    {
     "name": "stderr",
     "output_type": "stream",
     "text": [
      "5750batch [34:48,  2.22batch/s]"
     ]
    },
    {
     "name": "stdout",
     "output_type": "stream",
     "text": [
      "--------------------------------\n",
      "| batch_size        | 2048     |\n",
      "| bc/               |          |\n",
      "|    batch          | 5749     |\n",
      "|    ent_loss       | 0.00351  |\n",
      "|    entropy        | -3.51    |\n",
      "|    epoch          | 575      |\n",
      "|    l2_loss        | 0        |\n",
      "|    l2_norm        | 7.31e+03 |\n",
      "|    loss           | -4.37    |\n",
      "|    neglogp        | -4.38    |\n",
      "|    prob_true_act  | 83.1     |\n",
      "|    samples_so_far | 11776000 |\n",
      "--------------------------------\n"
     ]
    },
    {
     "name": "stderr",
     "output_type": "stream",
     "text": [
      "5760batch [34:52,  2.96batch/s]"
     ]
    },
    {
     "name": "stdout",
     "output_type": "stream",
     "text": [
      "--------------------------------\n",
      "| batch_size        | 2048     |\n",
      "| bc/               |          |\n",
      "|    batch          | 5759     |\n",
      "|    ent_loss       | 0.00352  |\n",
      "|    entropy        | -3.52    |\n",
      "|    epoch          | 576      |\n",
      "|    l2_loss        | 0        |\n",
      "|    l2_norm        | 7.31e+03 |\n",
      "|    loss           | -4.38    |\n",
      "|    neglogp        | -4.38    |\n",
      "|    prob_true_act  | 84.5     |\n",
      "|    samples_so_far | 11796480 |\n",
      "--------------------------------\n"
     ]
    },
    {
     "name": "stderr",
     "output_type": "stream",
     "text": [
      "5770batch [34:55,  2.92batch/s]"
     ]
    },
    {
     "name": "stdout",
     "output_type": "stream",
     "text": [
      "--------------------------------\n",
      "| batch_size        | 2048     |\n",
      "| bc/               |          |\n",
      "|    batch          | 5769     |\n",
      "|    ent_loss       | 0.00353  |\n",
      "|    entropy        | -3.53    |\n",
      "|    epoch          | 577      |\n",
      "|    l2_loss        | 0        |\n",
      "|    l2_norm        | 7.31e+03 |\n",
      "|    loss           | -4.41    |\n",
      "|    neglogp        | -4.41    |\n",
      "|    prob_true_act  | 85.9     |\n",
      "|    samples_so_far | 11816960 |\n",
      "--------------------------------\n"
     ]
    },
    {
     "name": "stderr",
     "output_type": "stream",
     "text": [
      "5780batch [34:59,  2.95batch/s]"
     ]
    },
    {
     "name": "stdout",
     "output_type": "stream",
     "text": [
      "--------------------------------\n",
      "| batch_size        | 2048     |\n",
      "| bc/               |          |\n",
      "|    batch          | 5779     |\n",
      "|    ent_loss       | 0.00354  |\n",
      "|    entropy        | -3.54    |\n",
      "|    epoch          | 578      |\n",
      "|    l2_loss        | 0        |\n",
      "|    l2_norm        | 7.31e+03 |\n",
      "|    loss           | -4.4     |\n",
      "|    neglogp        | -4.41    |\n",
      "|    prob_true_act  | 83.2     |\n",
      "|    samples_so_far | 11837440 |\n",
      "--------------------------------\n"
     ]
    },
    {
     "name": "stderr",
     "output_type": "stream",
     "text": [
      "5790batch [35:02,  2.92batch/s]"
     ]
    },
    {
     "name": "stdout",
     "output_type": "stream",
     "text": [
      "--------------------------------\n",
      "| batch_size        | 2048     |\n",
      "| bc/               |          |\n",
      "|    batch          | 5789     |\n",
      "|    ent_loss       | 0.00355  |\n",
      "|    entropy        | -3.55    |\n",
      "|    epoch          | 579      |\n",
      "|    l2_loss        | 0        |\n",
      "|    l2_norm        | 7.32e+03 |\n",
      "|    loss           | -4.12    |\n",
      "|    neglogp        | -4.13    |\n",
      "|    prob_true_act  | 64.5     |\n",
      "|    samples_so_far | 11857920 |\n",
      "--------------------------------\n"
     ]
    },
    {
     "name": "stderr",
     "output_type": "stream",
     "text": [
      "5800batch [35:06,  2.91batch/s]"
     ]
    },
    {
     "name": "stdout",
     "output_type": "stream",
     "text": [
      "--------------------------------\n",
      "| batch_size        | 2048     |\n",
      "| bc/               |          |\n",
      "|    batch          | 5799     |\n",
      "|    ent_loss       | 0.00356  |\n",
      "|    entropy        | -3.56    |\n",
      "|    epoch          | 580      |\n",
      "|    l2_loss        | 0        |\n",
      "|    l2_norm        | 7.32e+03 |\n",
      "|    loss           | -4.04    |\n",
      "|    neglogp        | -4.04    |\n",
      "|    prob_true_act  | 61.8     |\n",
      "|    samples_so_far | 11878400 |\n",
      "--------------------------------\n"
     ]
    },
    {
     "name": "stderr",
     "output_type": "stream",
     "text": [
      "5810batch [35:09,  2.95batch/s]"
     ]
    },
    {
     "name": "stdout",
     "output_type": "stream",
     "text": [
      "--------------------------------\n",
      "| batch_size        | 2048     |\n",
      "| bc/               |          |\n",
      "|    batch          | 5809     |\n",
      "|    ent_loss       | 0.00357  |\n",
      "|    entropy        | -3.57    |\n",
      "|    epoch          | 581      |\n",
      "|    l2_loss        | 0        |\n",
      "|    l2_norm        | 7.32e+03 |\n",
      "|    loss           | -4.3     |\n",
      "|    neglogp        | -4.3     |\n",
      "|    prob_true_act  | 77       |\n",
      "|    samples_so_far | 11898880 |\n",
      "--------------------------------\n"
     ]
    },
    {
     "name": "stderr",
     "output_type": "stream",
     "text": [
      "5820batch [35:13,  2.95batch/s]"
     ]
    },
    {
     "name": "stdout",
     "output_type": "stream",
     "text": [
      "--------------------------------\n",
      "| batch_size        | 2048     |\n",
      "| bc/               |          |\n",
      "|    batch          | 5819     |\n",
      "|    ent_loss       | 0.00358  |\n",
      "|    entropy        | -3.58    |\n",
      "|    epoch          | 582      |\n",
      "|    l2_loss        | 0        |\n",
      "|    l2_norm        | 7.32e+03 |\n",
      "|    loss           | -4.36    |\n",
      "|    neglogp        | -4.36    |\n",
      "|    prob_true_act  | 84       |\n",
      "|    samples_so_far | 11919360 |\n",
      "--------------------------------\n"
     ]
    },
    {
     "name": "stderr",
     "output_type": "stream",
     "text": [
      "5830batch [35:17,  2.94batch/s]"
     ]
    },
    {
     "name": "stdout",
     "output_type": "stream",
     "text": [
      "--------------------------------\n",
      "| batch_size        | 2048     |\n",
      "| bc/               |          |\n",
      "|    batch          | 5829     |\n",
      "|    ent_loss       | 0.00359  |\n",
      "|    entropy        | -3.59    |\n",
      "|    epoch          | 583      |\n",
      "|    l2_loss        | 0        |\n",
      "|    l2_norm        | 7.33e+03 |\n",
      "|    loss           | -4.43    |\n",
      "|    neglogp        | -4.44    |\n",
      "|    prob_true_act  | 87.7     |\n",
      "|    samples_so_far | 11939840 |\n",
      "--------------------------------\n"
     ]
    },
    {
     "name": "stderr",
     "output_type": "stream",
     "text": [
      "5840batch [35:20,  2.92batch/s]"
     ]
    },
    {
     "name": "stdout",
     "output_type": "stream",
     "text": [
      "--------------------------------\n",
      "| batch_size        | 2048     |\n",
      "| bc/               |          |\n",
      "|    batch          | 5839     |\n",
      "|    ent_loss       | 0.0036   |\n",
      "|    entropy        | -3.6     |\n",
      "|    epoch          | 584      |\n",
      "|    l2_loss        | 0        |\n",
      "|    l2_norm        | 7.33e+03 |\n",
      "|    loss           | -4.06    |\n",
      "|    neglogp        | -4.07    |\n",
      "|    prob_true_act  | 64       |\n",
      "|    samples_so_far | 11960320 |\n",
      "--------------------------------\n"
     ]
    },
    {
     "name": "stderr",
     "output_type": "stream",
     "text": [
      "5850batch [35:24,  2.99batch/s]"
     ]
    },
    {
     "name": "stdout",
     "output_type": "stream",
     "text": [
      "--------------------------------\n",
      "| batch_size        | 2048     |\n",
      "| bc/               |          |\n",
      "|    batch          | 5849     |\n",
      "|    ent_loss       | 0.00361  |\n",
      "|    entropy        | -3.61    |\n",
      "|    epoch          | 585      |\n",
      "|    l2_loss        | 0        |\n",
      "|    l2_norm        | 7.33e+03 |\n",
      "|    loss           | -3.78    |\n",
      "|    neglogp        | -3.78    |\n",
      "|    prob_true_act  | 53.7     |\n",
      "|    samples_so_far | 11980800 |\n",
      "--------------------------------\n"
     ]
    },
    {
     "name": "stderr",
     "output_type": "stream",
     "text": [
      "5860batch [35:27,  2.96batch/s]"
     ]
    },
    {
     "name": "stdout",
     "output_type": "stream",
     "text": [
      "--------------------------------\n",
      "| batch_size        | 2048     |\n",
      "| bc/               |          |\n",
      "|    batch          | 5859     |\n",
      "|    ent_loss       | 0.00361  |\n",
      "|    entropy        | -3.61    |\n",
      "|    epoch          | 586      |\n",
      "|    l2_loss        | 0        |\n",
      "|    l2_norm        | 7.34e+03 |\n",
      "|    loss           | -4.33    |\n",
      "|    neglogp        | -4.33    |\n",
      "|    prob_true_act  | 80.4     |\n",
      "|    samples_so_far | 12001280 |\n",
      "--------------------------------\n"
     ]
    },
    {
     "name": "stderr",
     "output_type": "stream",
     "text": [
      "5870batch [35:31,  2.85batch/s]"
     ]
    },
    {
     "name": "stdout",
     "output_type": "stream",
     "text": [
      "--------------------------------\n",
      "| batch_size        | 2048     |\n",
      "| bc/               |          |\n",
      "|    batch          | 5869     |\n",
      "|    ent_loss       | 0.00362  |\n",
      "|    entropy        | -3.62    |\n",
      "|    epoch          | 587      |\n",
      "|    l2_loss        | 0        |\n",
      "|    l2_norm        | 7.34e+03 |\n",
      "|    loss           | -4.14    |\n",
      "|    neglogp        | -4.15    |\n",
      "|    prob_true_act  | 76.8     |\n",
      "|    samples_so_far | 12021760 |\n",
      "--------------------------------\n"
     ]
    },
    {
     "name": "stderr",
     "output_type": "stream",
     "text": [
      "5880batch [35:35,  3.00batch/s]"
     ]
    },
    {
     "name": "stdout",
     "output_type": "stream",
     "text": [
      "--------------------------------\n",
      "| batch_size        | 2048     |\n",
      "| bc/               |          |\n",
      "|    batch          | 5879     |\n",
      "|    ent_loss       | 0.00363  |\n",
      "|    entropy        | -3.63    |\n",
      "|    epoch          | 588      |\n",
      "|    l2_loss        | 0        |\n",
      "|    l2_norm        | 7.34e+03 |\n",
      "|    loss           | -4.35    |\n",
      "|    neglogp        | -4.35    |\n",
      "|    prob_true_act  | 81.2     |\n",
      "|    samples_so_far | 12042240 |\n",
      "--------------------------------\n"
     ]
    },
    {
     "name": "stderr",
     "output_type": "stream",
     "text": [
      "5890batch [35:38,  2.99batch/s]"
     ]
    },
    {
     "name": "stdout",
     "output_type": "stream",
     "text": [
      "--------------------------------\n",
      "| batch_size        | 2048     |\n",
      "| bc/               |          |\n",
      "|    batch          | 5889     |\n",
      "|    ent_loss       | 0.00364  |\n",
      "|    entropy        | -3.64    |\n",
      "|    epoch          | 589      |\n",
      "|    l2_loss        | 0        |\n",
      "|    l2_norm        | 7.35e+03 |\n",
      "|    loss           | -4.46    |\n",
      "|    neglogp        | -4.46    |\n",
      "|    prob_true_act  | 89.2     |\n",
      "|    samples_so_far | 12062720 |\n",
      "--------------------------------\n"
     ]
    },
    {
     "name": "stderr",
     "output_type": "stream",
     "text": [
      "5900batch [35:43,  2.72batch/s]"
     ]
    },
    {
     "name": "stdout",
     "output_type": "stream",
     "text": [
      "--------------------------------\n",
      "| batch_size        | 2048     |\n",
      "| bc/               |          |\n",
      "|    batch          | 5899     |\n",
      "|    ent_loss       | 0.00365  |\n",
      "|    entropy        | -3.65    |\n",
      "|    epoch          | 590      |\n",
      "|    l2_loss        | 0        |\n",
      "|    l2_norm        | 7.35e+03 |\n",
      "|    loss           | -4.32    |\n",
      "|    neglogp        | -4.32    |\n",
      "|    prob_true_act  | 83       |\n",
      "|    samples_so_far | 12083200 |\n",
      "--------------------------------\n"
     ]
    },
    {
     "name": "stderr",
     "output_type": "stream",
     "text": [
      "5910batch [35:46,  2.94batch/s]"
     ]
    },
    {
     "name": "stdout",
     "output_type": "stream",
     "text": [
      "--------------------------------\n",
      "| batch_size        | 2048     |\n",
      "| bc/               |          |\n",
      "|    batch          | 5909     |\n",
      "|    ent_loss       | 0.00366  |\n",
      "|    entropy        | -3.66    |\n",
      "|    epoch          | 591      |\n",
      "|    l2_loss        | 0        |\n",
      "|    l2_norm        | 7.35e+03 |\n",
      "|    loss           | -4.43    |\n",
      "|    neglogp        | -4.43    |\n",
      "|    prob_true_act  | 89.4     |\n",
      "|    samples_so_far | 12103680 |\n",
      "--------------------------------\n"
     ]
    },
    {
     "name": "stderr",
     "output_type": "stream",
     "text": [
      "5920batch [35:50,  2.94batch/s]"
     ]
    },
    {
     "name": "stdout",
     "output_type": "stream",
     "text": [
      "--------------------------------\n",
      "| batch_size        | 2048     |\n",
      "| bc/               |          |\n",
      "|    batch          | 5919     |\n",
      "|    ent_loss       | 0.00367  |\n",
      "|    entropy        | -3.67    |\n",
      "|    epoch          | 592      |\n",
      "|    l2_loss        | 0        |\n",
      "|    l2_norm        | 7.35e+03 |\n",
      "|    loss           | -4.03    |\n",
      "|    neglogp        | -4.04    |\n",
      "|    prob_true_act  | 62.6     |\n",
      "|    samples_so_far | 12124160 |\n",
      "--------------------------------\n"
     ]
    },
    {
     "name": "stderr",
     "output_type": "stream",
     "text": [
      "5930batch [35:54,  2.67batch/s]"
     ]
    },
    {
     "name": "stdout",
     "output_type": "stream",
     "text": [
      "--------------------------------\n",
      "| batch_size        | 2048     |\n",
      "| bc/               |          |\n",
      "|    batch          | 5929     |\n",
      "|    ent_loss       | 0.00368  |\n",
      "|    entropy        | -3.68    |\n",
      "|    epoch          | 593      |\n",
      "|    l2_loss        | 0        |\n",
      "|    l2_norm        | 7.36e+03 |\n",
      "|    loss           | -4.44    |\n",
      "|    neglogp        | -4.45    |\n",
      "|    prob_true_act  | 89.8     |\n",
      "|    samples_so_far | 12144640 |\n",
      "--------------------------------\n"
     ]
    },
    {
     "name": "stderr",
     "output_type": "stream",
     "text": [
      "5940batch [35:57,  2.93batch/s]"
     ]
    },
    {
     "name": "stdout",
     "output_type": "stream",
     "text": [
      "--------------------------------\n",
      "| batch_size        | 2048     |\n",
      "| bc/               |          |\n",
      "|    batch          | 5939     |\n",
      "|    ent_loss       | 0.00369  |\n",
      "|    entropy        | -3.69    |\n",
      "|    epoch          | 594      |\n",
      "|    l2_loss        | 0        |\n",
      "|    l2_norm        | 7.36e+03 |\n",
      "|    loss           | -4.35    |\n",
      "|    neglogp        | -4.36    |\n",
      "|    prob_true_act  | 87.3     |\n",
      "|    samples_so_far | 12165120 |\n",
      "--------------------------------\n"
     ]
    },
    {
     "name": "stderr",
     "output_type": "stream",
     "text": [
      "5950batch [36:01,  2.97batch/s]"
     ]
    },
    {
     "name": "stdout",
     "output_type": "stream",
     "text": [
      "--------------------------------\n",
      "| batch_size        | 2048     |\n",
      "| bc/               |          |\n",
      "|    batch          | 5949     |\n",
      "|    ent_loss       | 0.0037   |\n",
      "|    entropy        | -3.7     |\n",
      "|    epoch          | 595      |\n",
      "|    l2_loss        | 0        |\n",
      "|    l2_norm        | 7.36e+03 |\n",
      "|    loss           | -4.32    |\n",
      "|    neglogp        | -4.33    |\n",
      "|    prob_true_act  | 84.5     |\n",
      "|    samples_so_far | 12185600 |\n",
      "--------------------------------\n"
     ]
    },
    {
     "name": "stderr",
     "output_type": "stream",
     "text": [
      "5960batch [36:05,  2.94batch/s]"
     ]
    },
    {
     "name": "stdout",
     "output_type": "stream",
     "text": [
      "--------------------------------\n",
      "| batch_size        | 2048     |\n",
      "| bc/               |          |\n",
      "|    batch          | 5959     |\n",
      "|    ent_loss       | 0.0037   |\n",
      "|    entropy        | -3.7     |\n",
      "|    epoch          | 596      |\n",
      "|    l2_loss        | 0        |\n",
      "|    l2_norm        | 7.37e+03 |\n",
      "|    loss           | -3.34    |\n",
      "|    neglogp        | -3.34    |\n",
      "|    prob_true_act  | 41.1     |\n",
      "|    samples_so_far | 12206080 |\n",
      "--------------------------------\n"
     ]
    },
    {
     "name": "stderr",
     "output_type": "stream",
     "text": [
      "5970batch [36:08,  2.94batch/s]"
     ]
    },
    {
     "name": "stdout",
     "output_type": "stream",
     "text": [
      "--------------------------------\n",
      "| batch_size        | 2048     |\n",
      "| bc/               |          |\n",
      "|    batch          | 5969     |\n",
      "|    ent_loss       | 0.00371  |\n",
      "|    entropy        | -3.71    |\n",
      "|    epoch          | 597      |\n",
      "|    l2_loss        | 0        |\n",
      "|    l2_norm        | 7.37e+03 |\n",
      "|    loss           | -4.26    |\n",
      "|    neglogp        | -4.26    |\n",
      "|    prob_true_act  | 80.9     |\n",
      "|    samples_so_far | 12226560 |\n",
      "--------------------------------\n"
     ]
    },
    {
     "name": "stderr",
     "output_type": "stream",
     "text": [
      "5980batch [36:12,  2.89batch/s]"
     ]
    },
    {
     "name": "stdout",
     "output_type": "stream",
     "text": [
      "--------------------------------\n",
      "| batch_size        | 2048     |\n",
      "| bc/               |          |\n",
      "|    batch          | 5979     |\n",
      "|    ent_loss       | 0.00371  |\n",
      "|    entropy        | -3.71    |\n",
      "|    epoch          | 598      |\n",
      "|    l2_loss        | 0        |\n",
      "|    l2_norm        | 7.38e+03 |\n",
      "|    loss           | -4.35    |\n",
      "|    neglogp        | -4.35    |\n",
      "|    prob_true_act  | 87.1     |\n",
      "|    samples_so_far | 12247040 |\n",
      "--------------------------------\n"
     ]
    },
    {
     "name": "stderr",
     "output_type": "stream",
     "text": [
      "5990batch [36:16,  2.90batch/s]"
     ]
    },
    {
     "name": "stdout",
     "output_type": "stream",
     "text": [
      "--------------------------------\n",
      "| batch_size        | 2048     |\n",
      "| bc/               |          |\n",
      "|    batch          | 5989     |\n",
      "|    ent_loss       | 0.00372  |\n",
      "|    entropy        | -3.72    |\n",
      "|    epoch          | 599      |\n",
      "|    l2_loss        | 0        |\n",
      "|    l2_norm        | 7.38e+03 |\n",
      "|    loss           | -4.33    |\n",
      "|    neglogp        | -4.34    |\n",
      "|    prob_true_act  | 89.7     |\n",
      "|    samples_so_far | 12267520 |\n",
      "--------------------------------\n"
     ]
    },
    {
     "name": "stderr",
     "output_type": "stream",
     "text": [
      "6000batch [36:19,  2.93batch/s]"
     ]
    },
    {
     "name": "stdout",
     "output_type": "stream",
     "text": [
      "--------------------------------\n",
      "| batch_size        | 2048     |\n",
      "| bc/               |          |\n",
      "|    batch          | 5999     |\n",
      "|    ent_loss       | 0.00373  |\n",
      "|    entropy        | -3.73    |\n",
      "|    epoch          | 600      |\n",
      "|    l2_loss        | 0        |\n",
      "|    l2_norm        | 7.38e+03 |\n",
      "|    loss           | -4.41    |\n",
      "|    neglogp        | -4.41    |\n",
      "|    prob_true_act  | 89.9     |\n",
      "|    samples_so_far | 12288000 |\n",
      "--------------------------------\n"
     ]
    },
    {
     "name": "stderr",
     "output_type": "stream",
     "text": [
      "6000batch [36:19,  2.75batch/s]\n"
     ]
    },
    {
     "name": "stdout",
     "output_type": "stream",
     "text": [
      "9\n",
      "7\n",
      "9\n",
      "19\n",
      "18\n",
      "9\n",
      "4\n",
      "0\n",
      "5\n",
      "18\n",
      "7\n",
      "18\n",
      "11\n",
      "12\n",
      "18\n",
      "20\n",
      "Reward after training: 786.2800384819508\n"
     ]
    }
   ],
   "source": [
    "bc_trainer.train(n_epochs=600, log_interval=1)\n",
    "reward_after_training, _ = evaluate_policy(bc_trainer.policy, venv1, 10)\n",
    "print(f\"Reward after training: {reward_after_training}\")"
   ]
  },
  {
   "cell_type": "code",
   "execution_count": 13,
   "metadata": {},
   "outputs": [
    {
     "name": "stdout",
     "output_type": "stream",
     "text": [
      "Reward before training: 418.6147927194834\n",
      "Reward after training: 786.2800384819508\n"
     ]
    }
   ],
   "source": [
    "print(f\"Reward before training: {reward_before_training}\")\n",
    "print(f\"Reward after training: {reward_after_training}\")"
   ]
  },
  {
   "cell_type": "code",
   "execution_count": 14,
   "metadata": {},
   "outputs": [
    {
     "name": "stdout",
     "output_type": "stream",
     "text": [
      "['bc/samples_so_far', 'bc/l2_norm', 'bc/neglogp', 'bc/batch', 'bc/entropy', 'bc/ent_loss', 'bc/prob_true_act', 'bc/l2_loss', 'bc/loss', 'bc/epoch', 'batch_size']\n",
      "(600, 11)\n"
     ]
    }
   ],
   "source": [
    "# read csv\n",
    "with open('./log/progress.csv', 'r') as f:\n",
    "    \n",
    "    # read header\n",
    "    header = f.readline().strip().split(',')\n",
    "    print(header)\n",
    "    \n",
    "    # read data\n",
    "    data = []\n",
    "    for line in f:\n",
    "        data.append(list(map(float, line.strip().split(','))))\n",
    "    data = np.array(data)\n",
    "    print(data.shape)"
   ]
  },
  {
   "cell_type": "code",
   "execution_count": 20,
   "metadata": {},
   "outputs": [
    {
     "data": {
      "image/png": "[encoded data removed]",
      "text/plain": [
       "<Figure size 1000x1000 with 1 Axes>"
      ]
     },
     "metadata": {},
     "output_type": "display_data"
    },
    {
     "data": {
      "text/plain": [
       "<Figure size 640x480 with 0 Axes>"
      ]
     },
     "metadata": {},
     "output_type": "display_data"
    }
   ],
   "source": [
    "import matplotlib.pyplot as plt\n",
    "\n",
    "y_data = data[:, 5]\n",
    "x_data = range(0, len(y_data)*2, 2)\n",
    "plt.figure(figsize=(10, 10))\n",
    "plt.subplot(2, 2, 1)\n",
    "plt.plot(data[:, 8])\n",
    "# plt.plot(x_data, y_data)\n",
    "plt.title(\"training bc/loss\")\n",
    "plt.show()\n",
    "\n",
    "# グラフを保存\n",
    "plt.savefig('bc_loss.png')\n"
   ]
  },
  {
   "cell_type": "code",
   "execution_count": 16,
   "metadata": {},
   "outputs": [],
   "source": [
    "import os\n",
    "\n",
    "new_name = '24-02-08_e600_cnn_nono_S1_direct_2'\n",
    "# 新しいファイル名\n",
    "new_csv_filename = './log/progress_' + new_name + '.csv'\n",
    "new_txt_filename = './log/log_' + new_name + '.txt'\n",
    "\n",
    "# 旧ファイル名から新ファイル名への変更\n",
    "os.rename('./log/progress.csv', new_csv_filename)\n",
    "os.rename('./log/log.txt', new_txt_filename)\n",
    "\n",
    "# グラフを保存\n",
    "# plt.savefig('./log/bc_loss_' + new_name + '.png')\n",
    "\n",
    "from imitation.util import util\n",
    "util.save_policy(bc_trainer.policy, './model/bc_policy_' + new_name)\n",
    "bc_trainer.policy.save('./model/bc_policy' + new_name + '.zip')\n"
   ]
  },
  {
   "cell_type": "code",
   "execution_count": 50,
   "metadata": {},
   "outputs": [
    {
     "data": {
      "text/plain": [
       "<Figure size 640x480 with 0 Axes>"
      ]
     },
     "metadata": {},
     "output_type": "display_data"
    }
   ],
   "source": [
    "# グラフを保存\n",
    "plt.savefig('./log/bc_loss_' + new_name + '.png')"
   ]
  },
  {
   "cell_type": "code",
   "execution_count": null,
   "metadata": {},
   "outputs": [],
   "source": []
  }
 ],
 "metadata": {
  "kernelspec": {
   "display_name": "env38",
   "language": "python",
   "name": "python3"
  },
  "language_info": {
   "codemirror_mode": {
    "name": "ipython",
    "version": 3
   },
   "file_extension": ".py",
   "mimetype": "text/x-python",
   "name": "python",
   "nbconvert_exporter": "python",
   "pygments_lexer": "ipython3",
   "version": "3.8.18"
  }
 },
 "nbformat": 4,
 "nbformat_minor": 2
}
