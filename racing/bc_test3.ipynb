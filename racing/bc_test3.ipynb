{
 "cells": [
  {
   "cell_type": "code",
   "execution_count": 1,
   "metadata": {},
   "outputs": [
    {
     "name": "stderr",
     "output_type": "stream",
     "text": [
      "/home/anubis/miniconda3/envs/env38/lib/python3.8/site-packages/tqdm/auto.py:21: TqdmWarning: IProgress not found. Please update jupyter and ipywidgets. See https://ipywidgets.readthedocs.io/en/stable/user_install.html\n",
      "  from .autonotebook import tqdm as notebook_tqdm\n"
     ]
    }
   ],
   "source": [
    "import numpy as np\n",
    "import gymnasium\n",
    "from gymnasium.wrappers import TimeLimit\n",
    "from imitation.data import rollout\n",
    "from imitation.policies.serialize import load_policy\n",
    "from imitation.util.util import make_vec_env\n",
    "from imitation.data.wrappers import RolloutInfoWrapper\n",
    "from stable_baselines3.common.vec_env import VecVideoRecorder, DummyVecEnv\n",
    "from stable_baselines3.common.policies import ActorCriticCnnPolicy\n",
    "from stable_baselines3.common.evaluation import evaluate_policy\n",
    "\n",
    "from gymnasium.spaces import Box\n",
    "from gymnasium.envs.registration import register\n",
    "import racing_gym\n",
    "import os\n",
    "import json\n",
    "from PIL import Image\n",
    "import torch\n",
    "import time\n",
    "\n",
    "rng = np.random.default_rng()\n"
   ]
  },
  {
   "cell_type": "code",
   "execution_count": 2,
   "metadata": {},
   "outputs": [],
   "source": [
    "import os\n",
    "import json\n",
    "import numpy as np\n",
    "from PIL import Image\n",
    "\n",
    "def load_expert_data_directory(parent_directory):\n",
    "    # parent_directory内のすべてのディレクトリを取得\n",
    "    subdirectories = [os.path.join(parent_directory, d) for d in os.listdir(parent_directory) if os.path.isdir(os.path.join(parent_directory, d))]\n",
    "    \n",
    "    all_expert_data = []  # すべてのディレクトリのexpert_dataを格納するリスト\n",
    "\n",
    "    for data_path in subdirectories:\n",
    "        # ディレクトリごとにexpert_dataの初期化\n",
    "        expert_data = {'images': [], 'actions': []}\n",
    "\n",
    "        # 画像ファイルに対応するJSONファイルを取得\n",
    "        json_file_list = [json_file for json_file in os.listdir(data_path) if json_file.startswith('record_') and json_file.endswith('.json')]\n",
    "\n",
    "        for json_file in json_file_list:\n",
    "            # レコードのファイルパスを構築\n",
    "            json_path = os.path.join(data_path, json_file)\n",
    "\n",
    "            # レコードの読み込み\n",
    "            try:\n",
    "                with open(json_path, 'r') as json_file:\n",
    "                    record_data = json.load(json_file)\n",
    "            except FileNotFoundError:\n",
    "                print(f\"エラー：{json_path} でJSONファイルが見つかりませんでした。\")\n",
    "                continue\n",
    "            except json.JSONDecodeError:\n",
    "                print(f\"エラー：{json_path} のJSONファイルのデコードに失敗しました。\")\n",
    "                continue\n",
    "\n",
    "            # 画像データの読み込み\n",
    "            image_file = record_data.get('cam/image_array', '')  # 画像ファイル名をJSONから取得\n",
    "            image_path = os.path.join(data_path, image_file)\n",
    "            try:\n",
    "                image_data = np.array(Image.open(image_path))\n",
    "            except FileNotFoundError:\n",
    "                print(f\"エラー：{image_path} で画像ファイルが見つかりませんでした。\")\n",
    "                continue\n",
    "\n",
    "            # expert_dataに追加\n",
    "            expert_data['images'].append(image_data)\n",
    "            expert_data['actions'].append([record_data.get('user/angle', 0), record_data.get('user/throttle', 0)])\n",
    "        \n",
    "        # すべてのディレクトリのexpert_dataをリストに追加\n",
    "        all_expert_data.append(expert_data)\n",
    "\n",
    "\n",
    "    return all_expert_data\n"
   ]
  },
  {
   "cell_type": "code",
   "execution_count": 3,
   "metadata": {},
   "outputs": [],
   "source": [
    "all_expert_data = load_expert_data_directory('../../autorace/data/L/')"
   ]
  },
  {
   "cell_type": "code",
   "execution_count": 4,
   "metadata": {},
   "outputs": [],
   "source": [
    "from imitation.data.types import Transitions\n",
    "\n",
    "def convert_to_transitions(expert_data):\n",
    "    obs_array = []\n",
    "    next_obs_array = []\n",
    "    action_array = []\n",
    "    done_array = []\n",
    "    info_array = []\n",
    "    # expert_dataの画像と行動をTrajectoryに変換\n",
    "    for data in expert_data:\n",
    "        data_size = len(data['images'])\n",
    "        obs_array+=data['images']\n",
    "        n_obs = data['images'].copy()\n",
    "        n_obs.pop(0)\n",
    "        x, y, z = data['images'][-1].shape\n",
    "        n_obs.append(np.zeros((x, y, z), dtype=np.uint8))\n",
    "        next_obs_array+=(n_obs)\n",
    "        action_array+=data['actions']\n",
    "        done_array+=[False]*(data_size-1)+[True]\n",
    "        info_array+=[{}]*data_size\n",
    "    transitions=Transitions( \n",
    "        obs=np.array(obs_array),\n",
    "        acts=np.array(action_array),\n",
    "        next_obs=np.array(next_obs_array),\n",
    "        dones=np.array(done_array),\n",
    "        infos=np.array(info_array))\n",
    "\n",
    "\n",
    "    return transitions"
   ]
  },
  {
   "cell_type": "code",
   "execution_count": 5,
   "metadata": {},
   "outputs": [
    {
     "name": "stdout",
     "output_type": "stream",
     "text": [
      "(3, 224, 224)\n"
     ]
    }
   ],
   "source": [
    "reshaped_all_expert_data = all_expert_data.copy()\n",
    "# すべてのディレクトリに対して\n",
    "for i in range(len(reshaped_all_expert_data)):\n",
    "    # すべての画像を変換\n",
    "    for j in range(len(reshaped_all_expert_data[i]['images'])):\n",
    "        # 画像の軸の順序を変更\n",
    "        reshaped_image = np.transpose(reshaped_all_expert_data[i]['images'][j], (2, 0, 1))\n",
    "        \n",
    "        # expert_dataに変更を反映\n",
    "        reshaped_all_expert_data[i]['images'][j] = reshaped_image.copy()\n",
    "\n",
    "# 形状を確認\n",
    "print(reshaped_all_expert_data[0]['images'][0].shape)\n",
    "\n",
    "for i in range(len(reshaped_all_expert_data)):\n",
    "    for j in range(len(reshaped_all_expert_data[i]['images'])):\n",
    "        if reshaped_all_expert_data[i]['images'][j].shape != (3, 224, 224):\n",
    "            print(i, j)"
   ]
  },
  {
   "cell_type": "code",
   "execution_count": 6,
   "metadata": {},
   "outputs": [
    {
     "name": "stdout",
     "output_type": "stream",
     "text": [
      "(3, 224, 224)\n",
      "(3, 224, 224)\n"
     ]
    }
   ],
   "source": [
    "print(reshaped_all_expert_data[0]['images'][0].shape)\n",
    "print(all_expert_data[0]['images'][0].shape)"
   ]
  },
  {
   "cell_type": "code",
   "execution_count": 7,
   "metadata": {},
   "outputs": [
    {
     "name": "stdout",
     "output_type": "stream",
     "text": [
      "Transitions(obs=array([[[[158, 155, 154, ..., 143, 137, 128],\n",
      "         [156, 156, 156, ..., 139, 135, 127],\n",
      "         [154, 156, 158, ..., 136, 133, 127],\n",
      "         ...,\n",
      "         [106, 109, 112, ..., 113, 112, 112],\n",
      "         [108, 111, 113, ..., 113, 112, 114],\n",
      "         [111, 113, 115, ..., 113, 112, 114]],\n",
      "\n",
      "        [[103, 100,  99, ..., 141, 135, 126],\n",
      "         [101, 101, 101, ..., 137, 133, 125],\n",
      "         [ 99, 101, 103, ..., 134, 131, 125],\n",
      "         ...,\n",
      "         [ 55,  58,  61, ..., 116, 115, 115],\n",
      "         [ 57,  60,  62, ..., 116, 115, 117],\n",
      "         [ 60,  62,  64, ..., 116, 115, 117]],\n",
      "\n",
      "        [[ 73,  70,  69, ..., 154, 148, 139],\n",
      "         [ 71,  71,  71, ..., 150, 146, 138],\n",
      "         [ 69,  71,  73, ..., 147, 144, 138],\n",
      "         ...,\n",
      "         [ 34,  37,  40, ..., 135, 134, 134],\n",
      "         [ 36,  39,  41, ..., 135, 134, 136],\n",
      "         [ 39,  41,  43, ..., 135, 134, 136]]],\n",
      "\n",
      "\n",
      "       [[[169, 170, 171, ..., 138, 145, 150],\n",
      "         [170, 171, 172, ..., 135, 140, 143],\n",
      "         [171, 171, 173, ..., 134, 137, 138],\n",
      "         ...,\n",
      "         [ 86,  84,  83, ..., 124, 129, 122],\n",
      "         [ 84,  84,  83, ..., 121, 125, 116],\n",
      "         [ 83,  83,  83, ..., 118, 120, 110]],\n",
      "\n",
      "        [[110, 111, 112, ..., 123, 130, 135],\n",
      "         [111, 112, 113, ..., 120, 125, 128],\n",
      "         [112, 112, 114, ..., 119, 122, 123],\n",
      "         ...,\n",
      "         [ 50,  48,  47, ..., 125, 130, 123],\n",
      "         [ 48,  48,  47, ..., 122, 126, 117],\n",
      "         [ 46,  46,  46, ..., 119, 121, 111]],\n",
      "\n",
      "        [[ 78,  79,  80, ..., 126, 133, 138],\n",
      "         [ 79,  80,  81, ..., 123, 128, 131],\n",
      "         [ 80,  80,  82, ..., 122, 125, 126],\n",
      "         ...,\n",
      "         [ 38,  36,  35, ..., 146, 151, 144],\n",
      "         [ 36,  36,  35, ..., 143, 147, 138],\n",
      "         [ 37,  37,  37, ..., 140, 142, 132]]],\n",
      "\n",
      "\n",
      "       [[[141, 145, 144, ..., 254, 254, 254],\n",
      "         [145, 148, 147, ..., 254, 254, 254],\n",
      "         [150, 151, 149, ..., 254, 254, 254],\n",
      "         ...,\n",
      "         [ 78,  79,  80, ..., 127, 127, 127],\n",
      "         [ 78,  79,  80, ..., 126, 128, 131],\n",
      "         [ 78,  79,  80, ..., 124, 128, 133]],\n",
      "\n",
      "        [[148, 152, 153, ..., 255, 255, 255],\n",
      "         [152, 155, 156, ..., 255, 255, 255],\n",
      "         [157, 158, 158, ..., 255, 255, 255],\n",
      "         ...,\n",
      "         [ 80,  81,  82, ..., 130, 130, 130],\n",
      "         [ 80,  81,  82, ..., 129, 131, 134],\n",
      "         [ 80,  81,  82, ..., 127, 131, 136]],\n",
      "\n",
      "        [[154, 158, 158, ..., 255, 255, 255],\n",
      "         [158, 161, 161, ..., 255, 255, 255],\n",
      "         [163, 164, 163, ..., 255, 255, 255],\n",
      "         ...,\n",
      "         [ 92,  93,  94, ..., 161, 161, 161],\n",
      "         [ 92,  93,  94, ..., 160, 164, 167],\n",
      "         [ 92,  93,  94, ..., 158, 164, 169]]],\n",
      "\n",
      "\n",
      "       ...,\n",
      "\n",
      "\n",
      "       [[[ 91,  89,  88, ..., 124, 123, 129],\n",
      "         [ 99,  97,  94, ..., 130, 131, 136],\n",
      "         [104, 102,  99, ..., 139, 139, 142],\n",
      "         ...,\n",
      "         [ 29,  33,  30, ..., 103, 104, 106],\n",
      "         [ 30,  38,  39, ..., 101, 102, 103],\n",
      "         [ 31,  42,  46, ...,  97,  97,  98]],\n",
      "\n",
      "        [[ 64,  62,  61, ..., 109, 110, 116],\n",
      "         [ 71,  69,  66, ..., 115, 116, 121],\n",
      "         [ 74,  72,  69, ..., 122, 122, 125],\n",
      "         ...,\n",
      "         [ 26,  30,  25, ...,  94,  95,  97],\n",
      "         [ 25,  33,  34, ...,  92,  93,  94],\n",
      "         [ 26,  37,  41, ...,  88,  88,  89]],\n",
      "\n",
      "        [[ 53,  51,  50, ..., 102, 102, 108],\n",
      "         [ 60,  58,  55, ..., 108, 109, 114],\n",
      "         [ 63,  61,  58, ..., 114, 114, 117],\n",
      "         ...,\n",
      "         [ 19,  23,  19, ...,  99, 100, 102],\n",
      "         [ 19,  27,  28, ...,  97,  98,  99],\n",
      "         [ 20,  31,  37, ...,  93,  93,  94]]],\n",
      "\n",
      "\n",
      "       [[[140, 140, 138, ..., 137, 142, 146],\n",
      "         [141, 141, 139, ..., 144, 146, 148],\n",
      "         [142, 142, 139, ..., 148, 148, 149],\n",
      "         ...,\n",
      "         [ 76,  77,  79, ..., 118, 116, 112],\n",
      "         [ 77,  77,  77, ..., 117, 116, 111],\n",
      "         [ 75,  75,  74, ..., 117, 116, 110]],\n",
      "\n",
      "        [[130, 130, 130, ..., 140, 146, 148],\n",
      "         [131, 131, 131, ..., 147, 150, 150],\n",
      "         [132, 132, 131, ..., 151, 152, 151],\n",
      "         ...,\n",
      "         [ 85,  86,  88, ..., 133, 131, 127],\n",
      "         [ 86,  86,  86, ..., 132, 131, 126],\n",
      "         [ 84,  84,  83, ..., 132, 131, 125]],\n",
      "\n",
      "        [[131, 129, 128, ..., 155, 158, 161],\n",
      "         [132, 130, 129, ..., 162, 162, 163],\n",
      "         [133, 131, 129, ..., 166, 164, 164],\n",
      "         ...,\n",
      "         [102, 103, 105, ..., 166, 164, 160],\n",
      "         [103, 103, 103, ..., 165, 164, 159],\n",
      "         [101, 101, 100, ..., 165, 164, 158]]],\n",
      "\n",
      "\n",
      "       [[[139, 148, 154, ..., 177, 181, 176],\n",
      "         [143, 151, 157, ..., 178, 181, 175],\n",
      "         [145, 152, 157, ..., 180, 182, 174],\n",
      "         ...,\n",
      "         [116, 115, 115, ..., 102, 101, 100],\n",
      "         [116, 115, 114, ..., 105, 102,  99],\n",
      "         [117, 115, 114, ..., 107, 103,  99]],\n",
      "\n",
      "        [[ 76,  85,  91, ..., 166, 170, 165],\n",
      "         [ 80,  88,  94, ..., 167, 170, 164],\n",
      "         [ 82,  89,  94, ..., 169, 171, 163],\n",
      "         ...,\n",
      "         [ 70,  69,  69, ..., 100,  99,  98],\n",
      "         [ 70,  69,  68, ..., 103, 100,  97],\n",
      "         [ 71,  69,  68, ..., 105, 101,  97]],\n",
      "\n",
      "        [[ 45,  52,  58, ..., 172, 174, 169],\n",
      "         [ 47,  55,  61, ..., 173, 174, 168],\n",
      "         [ 49,  56,  59, ..., 175, 175, 167],\n",
      "         ...,\n",
      "         [ 46,  45,  45, ..., 113, 112, 111],\n",
      "         [ 46,  45,  44, ..., 116, 113, 110],\n",
      "         [ 47,  45,  44, ..., 118, 114, 110]]]], dtype=uint8), acts=array([[0.        , 0.74230171],\n",
      "       [1.        , 0.74230171],\n",
      "       [1.        , 0.73198645],\n",
      "       ...,\n",
      "       [1.        , 1.        ],\n",
      "       [1.        , 1.        ],\n",
      "       [1.        , 1.        ]]), infos=array([{}, {}, {}, ..., {}, {}, {}], dtype=object), next_obs=array([[[[169, 170, 171, ..., 138, 145, 150],\n",
      "         [170, 171, 172, ..., 135, 140, 143],\n",
      "         [171, 171, 173, ..., 134, 137, 138],\n",
      "         ...,\n",
      "         [ 86,  84,  83, ..., 124, 129, 122],\n",
      "         [ 84,  84,  83, ..., 121, 125, 116],\n",
      "         [ 83,  83,  83, ..., 118, 120, 110]],\n",
      "\n",
      "        [[110, 111, 112, ..., 123, 130, 135],\n",
      "         [111, 112, 113, ..., 120, 125, 128],\n",
      "         [112, 112, 114, ..., 119, 122, 123],\n",
      "         ...,\n",
      "         [ 50,  48,  47, ..., 125, 130, 123],\n",
      "         [ 48,  48,  47, ..., 122, 126, 117],\n",
      "         [ 46,  46,  46, ..., 119, 121, 111]],\n",
      "\n",
      "        [[ 78,  79,  80, ..., 126, 133, 138],\n",
      "         [ 79,  80,  81, ..., 123, 128, 131],\n",
      "         [ 80,  80,  82, ..., 122, 125, 126],\n",
      "         ...,\n",
      "         [ 38,  36,  35, ..., 146, 151, 144],\n",
      "         [ 36,  36,  35, ..., 143, 147, 138],\n",
      "         [ 37,  37,  37, ..., 140, 142, 132]]],\n",
      "\n",
      "\n",
      "       [[[141, 145, 144, ..., 254, 254, 254],\n",
      "         [145, 148, 147, ..., 254, 254, 254],\n",
      "         [150, 151, 149, ..., 254, 254, 254],\n",
      "         ...,\n",
      "         [ 78,  79,  80, ..., 127, 127, 127],\n",
      "         [ 78,  79,  80, ..., 126, 128, 131],\n",
      "         [ 78,  79,  80, ..., 124, 128, 133]],\n",
      "\n",
      "        [[148, 152, 153, ..., 255, 255, 255],\n",
      "         [152, 155, 156, ..., 255, 255, 255],\n",
      "         [157, 158, 158, ..., 255, 255, 255],\n",
      "         ...,\n",
      "         [ 80,  81,  82, ..., 130, 130, 130],\n",
      "         [ 80,  81,  82, ..., 129, 131, 134],\n",
      "         [ 80,  81,  82, ..., 127, 131, 136]],\n",
      "\n",
      "        [[154, 158, 158, ..., 255, 255, 255],\n",
      "         [158, 161, 161, ..., 255, 255, 255],\n",
      "         [163, 164, 163, ..., 255, 255, 255],\n",
      "         ...,\n",
      "         [ 92,  93,  94, ..., 161, 161, 161],\n",
      "         [ 92,  93,  94, ..., 160, 164, 167],\n",
      "         [ 92,  93,  94, ..., 158, 164, 169]]],\n",
      "\n",
      "\n",
      "       [[[149, 152, 156, ..., 217, 214, 212],\n",
      "         [149, 152, 156, ..., 211, 210, 210],\n",
      "         [148, 151, 155, ..., 208, 209, 210],\n",
      "         ...,\n",
      "         [ 77,  82,  87, ..., 123, 122, 121],\n",
      "         [ 81,  86,  93, ..., 124, 122, 121],\n",
      "         [ 84,  90,  97, ..., 125, 123, 121]],\n",
      "\n",
      "        [[128, 131, 135, ..., 187, 183, 181],\n",
      "         [128, 131, 135, ..., 181, 179, 179],\n",
      "         [127, 130, 134, ..., 178, 178, 179],\n",
      "         ...,\n",
      "         [ 69,  74,  79, ..., 117, 116, 115],\n",
      "         [ 73,  78,  85, ..., 118, 116, 115],\n",
      "         [ 76,  82,  89, ..., 119, 117, 115]],\n",
      "\n",
      "        [[109, 112, 114, ..., 163, 162, 160],\n",
      "         [109, 112, 114, ..., 157, 158, 158],\n",
      "         [108, 109, 113, ..., 154, 157, 158],\n",
      "         ...,\n",
      "         [ 67,  72,  77, ..., 121, 120, 119],\n",
      "         [ 71,  76,  83, ..., 122, 120, 119],\n",
      "         [ 74,  80,  87, ..., 123, 121, 119]]],\n",
      "\n",
      "\n",
      "       ...,\n",
      "\n",
      "\n",
      "       [[[140, 140, 138, ..., 137, 142, 146],\n",
      "         [141, 141, 139, ..., 144, 146, 148],\n",
      "         [142, 142, 139, ..., 148, 148, 149],\n",
      "         ...,\n",
      "         [ 76,  77,  79, ..., 118, 116, 112],\n",
      "         [ 77,  77,  77, ..., 117, 116, 111],\n",
      "         [ 75,  75,  74, ..., 117, 116, 110]],\n",
      "\n",
      "        [[130, 130, 130, ..., 140, 146, 148],\n",
      "         [131, 131, 131, ..., 147, 150, 150],\n",
      "         [132, 132, 131, ..., 151, 152, 151],\n",
      "         ...,\n",
      "         [ 85,  86,  88, ..., 133, 131, 127],\n",
      "         [ 86,  86,  86, ..., 132, 131, 126],\n",
      "         [ 84,  84,  83, ..., 132, 131, 125]],\n",
      "\n",
      "        [[131, 129, 128, ..., 155, 158, 161],\n",
      "         [132, 130, 129, ..., 162, 162, 163],\n",
      "         [133, 131, 129, ..., 166, 164, 164],\n",
      "         ...,\n",
      "         [102, 103, 105, ..., 166, 164, 160],\n",
      "         [103, 103, 103, ..., 165, 164, 159],\n",
      "         [101, 101, 100, ..., 165, 164, 158]]],\n",
      "\n",
      "\n",
      "       [[[139, 148, 154, ..., 177, 181, 176],\n",
      "         [143, 151, 157, ..., 178, 181, 175],\n",
      "         [145, 152, 157, ..., 180, 182, 174],\n",
      "         ...,\n",
      "         [116, 115, 115, ..., 102, 101, 100],\n",
      "         [116, 115, 114, ..., 105, 102,  99],\n",
      "         [117, 115, 114, ..., 107, 103,  99]],\n",
      "\n",
      "        [[ 76,  85,  91, ..., 166, 170, 165],\n",
      "         [ 80,  88,  94, ..., 167, 170, 164],\n",
      "         [ 82,  89,  94, ..., 169, 171, 163],\n",
      "         ...,\n",
      "         [ 70,  69,  69, ..., 100,  99,  98],\n",
      "         [ 70,  69,  68, ..., 103, 100,  97],\n",
      "         [ 71,  69,  68, ..., 105, 101,  97]],\n",
      "\n",
      "        [[ 45,  52,  58, ..., 172, 174, 169],\n",
      "         [ 47,  55,  61, ..., 173, 174, 168],\n",
      "         [ 49,  56,  59, ..., 175, 175, 167],\n",
      "         ...,\n",
      "         [ 46,  45,  45, ..., 113, 112, 111],\n",
      "         [ 46,  45,  44, ..., 116, 113, 110],\n",
      "         [ 47,  45,  44, ..., 118, 114, 110]]],\n",
      "\n",
      "\n",
      "       [[[  0,   0,   0, ...,   0,   0,   0],\n",
      "         [  0,   0,   0, ...,   0,   0,   0],\n",
      "         [  0,   0,   0, ...,   0,   0,   0],\n",
      "         ...,\n",
      "         [  0,   0,   0, ...,   0,   0,   0],\n",
      "         [  0,   0,   0, ...,   0,   0,   0],\n",
      "         [  0,   0,   0, ...,   0,   0,   0]],\n",
      "\n",
      "        [[  0,   0,   0, ...,   0,   0,   0],\n",
      "         [  0,   0,   0, ...,   0,   0,   0],\n",
      "         [  0,   0,   0, ...,   0,   0,   0],\n",
      "         ...,\n",
      "         [  0,   0,   0, ...,   0,   0,   0],\n",
      "         [  0,   0,   0, ...,   0,   0,   0],\n",
      "         [  0,   0,   0, ...,   0,   0,   0]],\n",
      "\n",
      "        [[  0,   0,   0, ...,   0,   0,   0],\n",
      "         [  0,   0,   0, ...,   0,   0,   0],\n",
      "         [  0,   0,   0, ...,   0,   0,   0],\n",
      "         ...,\n",
      "         [  0,   0,   0, ...,   0,   0,   0],\n",
      "         [  0,   0,   0, ...,   0,   0,   0],\n",
      "         [  0,   0,   0, ...,   0,   0,   0]]]], dtype=uint8), dones=array([False, False, False, ..., False, False,  True]))\n"
     ]
    }
   ],
   "source": [
    "test_transition = convert_to_transitions(all_expert_data)\n",
    "print(test_transition)\n"
   ]
  },
  {
   "cell_type": "code",
   "execution_count": 8,
   "metadata": {},
   "outputs": [
    {
     "name": "stdout",
     "output_type": "stream",
     "text": [
      "7\n",
      "Environment 'RacingEnv-v1' is successfully registered.\n"
     ]
    },
    {
     "name": "stderr",
     "output_type": "stream",
     "text": [
      "/home/anubis/miniconda3/envs/env38/lib/python3.8/site-packages/gymnasium/envs/registration.py:513: DeprecationWarning: \u001b[33mWARN: The environment RacingEnv-v1 is out of date. You should consider upgrading to version `v4`.\u001b[0m\n",
      "  logger.deprecation(\n"
     ]
    }
   ],
   "source": [
    "env_id1 = 'RacingEnv-v1'  # あなたの環境の名前に変更してください\n",
    "try:\n",
    "    env1 = gymnasium.make(env_id1, expert_data=reshaped_all_expert_data)\n",
    "    print(f\"Environment '{env_id1}' is successfully registered.\")\n",
    "except gymnasium.error.Error as e:\n",
    "    print(f\"Error: {e}\")"
   ]
  },
  {
   "cell_type": "code",
   "execution_count": 9,
   "metadata": {},
   "outputs": [
    {
     "name": "stdout",
     "output_type": "stream",
     "text": [
      "8\n",
      "16\n",
      "10\n",
      "2\n"
     ]
    }
   ],
   "source": [
    "def _make_env():\n",
    "    \"\"\"Helper function to create a single environment. Put any logic here, but make sure to return a RolloutInfoWrapper.\"\"\"\n",
    "    _env1 = gymnasium.make(\"RacingEnv-v1\", expert_data=reshaped_all_expert_data)\n",
    "    _env1 = RolloutInfoWrapper(_env1)\n",
    "    return _env1\n",
    "\n",
    "venv1 = DummyVecEnv([_make_env for _ in range(4)])"
   ]
  },
  {
   "cell_type": "code",
   "execution_count": 29,
   "metadata": {},
   "outputs": [
    {
     "name": "stderr",
     "output_type": "stream",
     "text": [
      "/home/anubis/miniconda3/envs/env38/lib/python3.8/site-packages/stable_baselines3/common/evaluation.py:67: UserWarning: Evaluation environment is not wrapped with a ``Monitor`` wrapper. This may result in reporting modified episode lengths and rewards, if other wrappers happen to modify these. Consider wrapping environment first with ``Monitor`` wrapper.\n",
      "  warnings.warn(\n"
     ]
    },
    {
     "name": "stdout",
     "output_type": "stream",
     "text": [
      "12\n",
      "15\n",
      "0\n",
      "3\n",
      "3\n",
      "7\n",
      "9\n",
      "19\n",
      "18\n",
      "4\n",
      "6\n",
      "Reward before training: 501.9597597211599\n",
      "12\n",
      "18\n",
      "13\n",
      "16\n",
      "12\n",
      "12\n",
      "11\n",
      "14\n",
      "19\n",
      "2\n",
      "18\n",
      "6\n",
      "Expert reward: 826.7089047\n"
     ]
    }
   ],
   "source": [
    "from stable_baselines3 import PPO\n",
    "from stable_baselines3.ppo import MlpPolicy\n",
    "from stable_baselines3.ppo import CnnPolicy\n",
    "from stable_baselines3.common.evaluation import evaluate_policy\n",
    "\n",
    "\n",
    "expert = PPO(\n",
    "    policy=CnnPolicy,\n",
    "    env=env1,\n",
    "    seed=0,\n",
    "    batch_size=64,\n",
    "    ent_coef=0.0,\n",
    "    learning_rate=0.0003,\n",
    "    n_epochs=10,\n",
    "    n_steps=64,\n",
    "    device='cuda:1'\n",
    ")\n",
    "reward, _ = evaluate_policy(expert, env1, 10)\n",
    "print(f\"Reward before training: {reward}\")\n",
    "\n",
    "\n",
    "# Note: if you followed step 2a, i.e. registered the environment, you can use the environment name directly\n",
    "\n",
    "# expert = PPO(\n",
    "#     policy=MlpPolicy,\n",
    "#     env=\"custom/ObservationMatching-v0\",\n",
    "#     seed=0,\n",
    "#     batch_size=64,\n",
    "#     ent_coef=0.0,\n",
    "#     learning_rate=0.0003,\n",
    "#     n_epochs=10,\n",
    "#     n_steps=64,\n",
    "# )\n",
    "expert.learn(1000)  # Note: set to 100000 to train a proficient expert\n",
    "reward, _ = evaluate_policy(expert, expert.get_env(), 10)\n",
    "print(f\"Expert reward: {reward}\")"
   ]
  },
  {
   "cell_type": "code",
   "execution_count": 30,
   "metadata": {},
   "outputs": [
    {
     "name": "stdout",
     "output_type": "stream",
     "text": [
      "1\n",
      "5\n",
      "19\n",
      "7\n",
      "16\n",
      "8\n",
      "0\n",
      "6\n",
      "1\n",
      "0\n",
      "3\n",
      "9\n",
      "15\n",
      "5\n",
      "12\n",
      "2\n",
      "1\n",
      "7\n",
      "11\n",
      "18\n",
      "13\n",
      "12\n",
      "12\n",
      "17\n",
      "9\n",
      "20\n",
      "11\n",
      "3\n",
      "2\n",
      "8\n",
      "10\n",
      "7\n",
      "13\n",
      "8\n",
      "19\n",
      "15\n",
      "19\n",
      "11\n",
      "19\n",
      "17\n",
      "3\n",
      "19\n",
      "4\n",
      "19\n",
      "20\n",
      "15\n",
      "18\n",
      "2\n",
      "9\n",
      "11\n",
      "18\n",
      "20\n",
      "12\n",
      "5\n",
      "15\n",
      "11\n",
      "2\n",
      "10\n",
      "14\n",
      "12\n",
      "10\n",
      "7\n"
     ]
    }
   ],
   "source": [
    "\n",
    "rollouts = rollout.rollout(\n",
    "    expert,\n",
    "    venv1,\n",
    "    rollout.make_sample_until(min_timesteps=None, min_episodes=50),\n",
    "    rng=rng,\n",
    ")\n",
    "transitions = rollout.flatten_trajectories(rollouts)"
   ]
  },
  {
   "cell_type": "code",
   "execution_count": 49,
   "metadata": {},
   "outputs": [
    {
     "name": "stdout",
     "output_type": "stream",
     "text": [
      "58958\n",
      "22690\n",
      "53\n",
      "21\n"
     ]
    }
   ],
   "source": [
    "print(len(transitions))\n",
    "print(len(test_trajectory))\n",
    "\n",
    "count = 0\n",
    "for i in range(len(transitions)):\n",
    "    if transitions[i]['dones']:\n",
    "        count += 1\n",
    "\n",
    "print(count)\n",
    "count = 0\n",
    "for i in range(len(test_trajectory)):\n",
    "    if test_trajectory[i]['dones']:\n",
    "        count += 1\n",
    "\n",
    "print(count)"
   ]
  },
  {
   "cell_type": "code",
   "execution_count": 38,
   "metadata": {},
   "outputs": [
    {
     "name": "stdout",
     "output_type": "stream",
     "text": [
      "[[[143 146 143 ... 145 151 148]\n",
      "  [136 139 137 ... 147 151 143]\n",
      "  [135 136 134 ... 149 151 137]\n",
      "  ...\n",
      "  [ 67  71  74 ... 116 117 122]\n",
      "  [ 74  76  77 ... 116 116 123]\n",
      "  [ 78  78  77 ... 116 117 125]]\n",
      "\n",
      " [[150 153 150 ... 147 153 150]\n",
      "  [143 146 144 ... 149 153 145]\n",
      "  [142 143 141 ... 151 153 139]\n",
      "  ...\n",
      "  [ 74  78  81 ... 129 130 135]\n",
      "  [ 81  83  84 ... 129 129 136]\n",
      "  [ 84  84  83 ... 129 130 138]]\n",
      "\n",
      " [[156 159 156 ... 168 174 171]\n",
      "  [149 152 150 ... 170 174 166]\n",
      "  [148 149 147 ... 172 174 160]\n",
      "  ...\n",
      "  [ 84  88  91 ... 163 164 169]\n",
      "  [ 91  93  94 ... 163 163 170]\n",
      "  [ 96  96  95 ... 163 164 172]]]\n",
      "[[[ 83  85  87 ... 132 123 126]\n",
      "  [ 85  86  88 ... 140 131 132]\n",
      "  [ 88  88  88 ... 145 138 135]\n",
      "  ...\n",
      "  [ 84  85  85 ... 103 104 106]\n",
      "  [ 83  84  86 ... 102 104 108]\n",
      "  [ 82  84  87 ...  99 102 105]]\n",
      "\n",
      " [[ 86  88  90 ... 132 123 126]\n",
      "  [ 88  89  91 ... 140 131 132]\n",
      "  [ 91  91  91 ... 145 138 135]\n",
      "  ...\n",
      "  [ 50  51  51 ... 108 107 109]\n",
      "  [ 49  50  52 ... 107 109 111]\n",
      "  [ 48  50  53 ... 104 107 110]]\n",
      "\n",
      " [[ 91  93  95 ... 156 147 150]\n",
      "  [ 93  94  96 ... 164 155 156]\n",
      "  [ 96  96  96 ... 171 164 161]\n",
      "  ...\n",
      "  [ 41  42  42 ... 138 138 140]\n",
      "  [ 40  41  43 ... 139 141 142]\n",
      "  [ 39  41  44 ... 136 139 142]]]\n",
      "1053\n",
      "not found\n"
     ]
    }
   ],
   "source": [
    "# transitionのdoneがTrueのときのnext_obsをprintしたい\n",
    "# それを見て、次のobsが正しく取れているか確認したい\n",
    "for i in range(len(transitions)):\n",
    "    if transitions[i]['dones']:\n",
    "        print(transitions[i]['next_obs'])\n",
    "        a = transitions[i]['next_obs']\n",
    "        print(transitions[i+1]['obs'])\n",
    "        print(i)\n",
    "        break\n",
    "\n",
    "for i in range(len(transitions)):\n",
    "    if np.array_equal(a, transitions[i]['obs']):\n",
    "        print(i)\n",
    "        break\n",
    "\n",
    "    if i == len(transitions)-1:\n",
    "        print(\"not found\")\n",
    "\n"
   ]
  },
  {
   "cell_type": "code",
   "execution_count": 10,
   "metadata": {},
   "outputs": [],
   "source": [
    "from imitation.algorithms import bc\n",
    "from imitation.util import logger\n",
    "\n",
    "bc_logger = logger.configure('./log/')\n",
    "bc_trainer = bc.BC(\n",
    "    observation_space=env1.observation_space,\n",
    "    action_space=env1.action_space,\n",
    "    demonstrations=test_transition,\n",
    "    rng=rng,\n",
    "    policy=ActorCriticCnnPolicy(\n",
    "        observation_space=env1.observation_space,\n",
    "        action_space=env1.action_space,\n",
    "        features_extractor_kwargs=dict(features_dim=256),\n",
    "        lr_schedule=lambda _: 0.0003,\n",
    "        ),\n",
    "    batch_size=2048,\n",
    "    device=\"cuda:1\",\n",
    "    custom_logger=bc_logger\n",
    ")"
   ]
  },
  {
   "cell_type": "code",
   "execution_count": 11,
   "metadata": {},
   "outputs": [
    {
     "name": "stderr",
     "output_type": "stream",
     "text": [
      "/home/anubis/miniconda3/envs/env38/lib/python3.8/site-packages/stable_baselines3/common/evaluation.py:67: UserWarning: Evaluation environment is not wrapped with a ``Monitor`` wrapper. This may result in reporting modified episode lengths and rewards, if other wrappers happen to modify these. Consider wrapping environment first with ``Monitor`` wrapper.\n",
      "  warnings.warn(\n"
     ]
    },
    {
     "name": "stdout",
     "output_type": "stream",
     "text": [
      "0\n",
      "18\n",
      "13\n",
      "17\n"
     ]
    },
    {
     "name": "stdout",
     "output_type": "stream",
     "text": [
      "7\n",
      "9\n",
      "21\n",
      "16\n",
      "0\n",
      "0\n",
      "11\n",
      "0\n",
      "10\n",
      "15\n",
      "7\n",
      "20\n",
      "14\n",
      "13\n",
      "Reward before training: 431.148552107811\n"
     ]
    }
   ],
   "source": [
    "reward_before_training, _ = evaluate_policy(bc_trainer.policy, venv1, 10)\n",
    "print(f\"Reward before training: {reward_before_training}\")"
   ]
  },
  {
   "cell_type": "code",
   "execution_count": 12,
   "metadata": {},
   "outputs": [
    {
     "name": "stderr",
     "output_type": "stream",
     "text": [
      "10batch [00:03,  2.79batch/s]"
     ]
    },
    {
     "name": "stdout",
     "output_type": "stream",
     "text": [
      "--------------------------------\n",
      "| batch_size        | 2048     |\n",
      "| bc/               |          |\n",
      "|    batch          | 9        |\n",
      "|    ent_loss       | -0.00282 |\n",
      "|    entropy        | 2.82     |\n",
      "|    epoch          | 1        |\n",
      "|    l2_loss        | 0        |\n",
      "|    l2_norm        | 447      |\n",
      "|    loss           | 2.29     |\n",
      "|    neglogp        | 2.29     |\n",
      "|    prob_true_act  | 0.113    |\n",
      "|    samples_so_far | 20480    |\n",
      "--------------------------------\n"
     ]
    },
    {
     "name": "stderr",
     "output_type": "stream",
     "text": [
      "20batch [00:07,  2.53batch/s]"
     ]
    },
    {
     "name": "stdout",
     "output_type": "stream",
     "text": [
      "--------------------------------\n",
      "| batch_size        | 2048     |\n",
      "| bc/               |          |\n",
      "|    batch          | 19       |\n",
      "|    ent_loss       | -0.0028  |\n",
      "|    entropy        | 2.8      |\n",
      "|    epoch          | 2        |\n",
      "|    l2_loss        | 0        |\n",
      "|    l2_norm        | 476      |\n",
      "|    loss           | 1.95     |\n",
      "|    neglogp        | 1.95     |\n",
      "|    prob_true_act  | 0.144    |\n",
      "|    samples_so_far | 40960    |\n",
      "--------------------------------\n"
     ]
    },
    {
     "name": "stderr",
     "output_type": "stream",
     "text": [
      "30batch [00:11,  2.70batch/s]"
     ]
    },
    {
     "name": "stdout",
     "output_type": "stream",
     "text": [
      "--------------------------------\n",
      "| batch_size        | 2048     |\n",
      "| bc/               |          |\n",
      "|    batch          | 29       |\n",
      "|    ent_loss       | -0.00278 |\n",
      "|    entropy        | 2.78     |\n",
      "|    epoch          | 3        |\n",
      "|    l2_loss        | 0        |\n",
      "|    l2_norm        | 495      |\n",
      "|    loss           | 1.91     |\n",
      "|    neglogp        | 1.91     |\n",
      "|    prob_true_act  | 0.15     |\n",
      "|    samples_so_far | 61440    |\n",
      "--------------------------------\n"
     ]
    },
    {
     "name": "stderr",
     "output_type": "stream",
     "text": [
      "40batch [00:15,  2.93batch/s]"
     ]
    },
    {
     "name": "stdout",
     "output_type": "stream",
     "text": [
      "--------------------------------\n",
      "| batch_size        | 2048     |\n",
      "| bc/               |          |\n",
      "|    batch          | 39       |\n",
      "|    ent_loss       | -0.00275 |\n",
      "|    entropy        | 2.75     |\n",
      "|    epoch          | 4        |\n",
      "|    l2_loss        | 0        |\n",
      "|    l2_norm        | 506      |\n",
      "|    loss           | 1.86     |\n",
      "|    neglogp        | 1.86     |\n",
      "|    prob_true_act  | 0.156    |\n",
      "|    samples_so_far | 81920    |\n",
      "--------------------------------\n"
     ]
    },
    {
     "name": "stderr",
     "output_type": "stream",
     "text": [
      "50batch [00:18,  2.85batch/s]"
     ]
    },
    {
     "name": "stdout",
     "output_type": "stream",
     "text": [
      "--------------------------------\n",
      "| batch_size        | 2048     |\n",
      "| bc/               |          |\n",
      "|    batch          | 49       |\n",
      "|    ent_loss       | -0.00273 |\n",
      "|    entropy        | 2.73     |\n",
      "|    epoch          | 5        |\n",
      "|    l2_loss        | 0        |\n",
      "|    l2_norm        | 516      |\n",
      "|    loss           | 1.82     |\n",
      "|    neglogp        | 1.83     |\n",
      "|    prob_true_act  | 0.162    |\n",
      "|    samples_so_far | 102400   |\n",
      "--------------------------------\n"
     ]
    },
    {
     "name": "stderr",
     "output_type": "stream",
     "text": [
      "60batch [00:22,  2.64batch/s]"
     ]
    },
    {
     "name": "stdout",
     "output_type": "stream",
     "text": [
      "--------------------------------\n",
      "| batch_size        | 2048     |\n",
      "| bc/               |          |\n",
      "|    batch          | 59       |\n",
      "|    ent_loss       | -0.00271 |\n",
      "|    entropy        | 2.71     |\n",
      "|    epoch          | 6        |\n",
      "|    l2_loss        | 0        |\n",
      "|    l2_norm        | 526      |\n",
      "|    loss           | 1.8      |\n",
      "|    neglogp        | 1.8      |\n",
      "|    prob_true_act  | 0.167    |\n",
      "|    samples_so_far | 122880   |\n",
      "--------------------------------\n"
     ]
    },
    {
     "name": "stderr",
     "output_type": "stream",
     "text": [
      "70batch [00:25,  2.96batch/s]"
     ]
    },
    {
     "name": "stdout",
     "output_type": "stream",
     "text": [
      "--------------------------------\n",
      "| batch_size        | 2048     |\n",
      "| bc/               |          |\n",
      "|    batch          | 69       |\n",
      "|    ent_loss       | -0.00269 |\n",
      "|    entropy        | 2.69     |\n",
      "|    epoch          | 7        |\n",
      "|    l2_loss        | 0        |\n",
      "|    l2_norm        | 538      |\n",
      "|    loss           | 1.78     |\n",
      "|    neglogp        | 1.78     |\n",
      "|    prob_true_act  | 0.17     |\n",
      "|    samples_so_far | 143360   |\n",
      "--------------------------------\n"
     ]
    },
    {
     "name": "stderr",
     "output_type": "stream",
     "text": [
      "80batch [00:29,  2.98batch/s]"
     ]
    },
    {
     "name": "stdout",
     "output_type": "stream",
     "text": [
      "--------------------------------\n",
      "| batch_size        | 2048     |\n",
      "| bc/               |          |\n",
      "|    batch          | 79       |\n",
      "|    ent_loss       | -0.00267 |\n",
      "|    entropy        | 2.67     |\n",
      "|    epoch          | 8        |\n",
      "|    l2_loss        | 0        |\n",
      "|    l2_norm        | 550      |\n",
      "|    loss           | 1.75     |\n",
      "|    neglogp        | 1.75     |\n",
      "|    prob_true_act  | 0.175    |\n",
      "|    samples_so_far | 163840   |\n",
      "--------------------------------\n"
     ]
    },
    {
     "name": "stderr",
     "output_type": "stream",
     "text": [
      "90batch [00:32,  2.98batch/s]"
     ]
    },
    {
     "name": "stdout",
     "output_type": "stream",
     "text": [
      "--------------------------------\n",
      "| batch_size        | 2048     |\n",
      "| bc/               |          |\n",
      "|    batch          | 89       |\n",
      "|    ent_loss       | -0.00264 |\n",
      "|    entropy        | 2.64     |\n",
      "|    epoch          | 9        |\n",
      "|    l2_loss        | 0        |\n",
      "|    l2_norm        | 561      |\n",
      "|    loss           | 1.73     |\n",
      "|    neglogp        | 1.73     |\n",
      "|    prob_true_act  | 0.179    |\n",
      "|    samples_so_far | 184320   |\n",
      "--------------------------------\n"
     ]
    },
    {
     "name": "stderr",
     "output_type": "stream",
     "text": [
      "100batch [00:36,  2.94batch/s]"
     ]
    },
    {
     "name": "stdout",
     "output_type": "stream",
     "text": [
      "--------------------------------\n",
      "| batch_size        | 2048     |\n",
      "| bc/               |          |\n",
      "|    batch          | 99       |\n",
      "|    ent_loss       | -0.00262 |\n",
      "|    entropy        | 2.62     |\n",
      "|    epoch          | 10       |\n",
      "|    l2_loss        | 0        |\n",
      "|    l2_norm        | 571      |\n",
      "|    loss           | 1.71     |\n",
      "|    neglogp        | 1.71     |\n",
      "|    prob_true_act  | 0.182    |\n",
      "|    samples_so_far | 204800   |\n",
      "--------------------------------\n"
     ]
    },
    {
     "name": "stderr",
     "output_type": "stream",
     "text": [
      "110batch [00:40,  2.95batch/s]"
     ]
    },
    {
     "name": "stdout",
     "output_type": "stream",
     "text": [
      "--------------------------------\n",
      "| batch_size        | 2048     |\n",
      "| bc/               |          |\n",
      "|    batch          | 109      |\n",
      "|    ent_loss       | -0.0026  |\n",
      "|    entropy        | 2.6      |\n",
      "|    epoch          | 11       |\n",
      "|    l2_loss        | 0        |\n",
      "|    l2_norm        | 581      |\n",
      "|    loss           | 1.68     |\n",
      "|    neglogp        | 1.68     |\n",
      "|    prob_true_act  | 0.188    |\n",
      "|    samples_so_far | 225280   |\n",
      "--------------------------------\n"
     ]
    },
    {
     "name": "stderr",
     "output_type": "stream",
     "text": [
      "120batch [00:43,  2.99batch/s]"
     ]
    },
    {
     "name": "stdout",
     "output_type": "stream",
     "text": [
      "--------------------------------\n",
      "| batch_size        | 2048     |\n",
      "| bc/               |          |\n",
      "|    batch          | 119      |\n",
      "|    ent_loss       | -0.00258 |\n",
      "|    entropy        | 2.58     |\n",
      "|    epoch          | 12       |\n",
      "|    l2_loss        | 0        |\n",
      "|    l2_norm        | 591      |\n",
      "|    loss           | 1.67     |\n",
      "|    neglogp        | 1.67     |\n",
      "|    prob_true_act  | 0.19     |\n",
      "|    samples_so_far | 245760   |\n",
      "--------------------------------\n"
     ]
    },
    {
     "name": "stderr",
     "output_type": "stream",
     "text": [
      "130batch [00:47,  3.01batch/s]"
     ]
    },
    {
     "name": "stdout",
     "output_type": "stream",
     "text": [
      "--------------------------------\n",
      "| batch_size        | 2048     |\n",
      "| bc/               |          |\n",
      "|    batch          | 129      |\n",
      "|    ent_loss       | -0.00256 |\n",
      "|    entropy        | 2.56     |\n",
      "|    epoch          | 13       |\n",
      "|    l2_loss        | 0        |\n",
      "|    l2_norm        | 601      |\n",
      "|    loss           | 1.64     |\n",
      "|    neglogp        | 1.64     |\n",
      "|    prob_true_act  | 0.195    |\n",
      "|    samples_so_far | 266240   |\n",
      "--------------------------------\n"
     ]
    },
    {
     "name": "stderr",
     "output_type": "stream",
     "text": [
      "140batch [00:50,  2.91batch/s]"
     ]
    },
    {
     "name": "stdout",
     "output_type": "stream",
     "text": [
      "--------------------------------\n",
      "| batch_size        | 2048     |\n",
      "| bc/               |          |\n",
      "|    batch          | 139      |\n",
      "|    ent_loss       | -0.00254 |\n",
      "|    entropy        | 2.54     |\n",
      "|    epoch          | 14       |\n",
      "|    l2_loss        | 0        |\n",
      "|    l2_norm        | 610      |\n",
      "|    loss           | 1.61     |\n",
      "|    neglogp        | 1.62     |\n",
      "|    prob_true_act  | 0.2      |\n",
      "|    samples_so_far | 286720   |\n",
      "--------------------------------\n"
     ]
    },
    {
     "name": "stderr",
     "output_type": "stream",
     "text": [
      "150batch [00:54,  2.96batch/s]"
     ]
    },
    {
     "name": "stdout",
     "output_type": "stream",
     "text": [
      "--------------------------------\n",
      "| batch_size        | 2048     |\n",
      "| bc/               |          |\n",
      "|    batch          | 149      |\n",
      "|    ent_loss       | -0.00252 |\n",
      "|    entropy        | 2.52     |\n",
      "|    epoch          | 15       |\n",
      "|    l2_loss        | 0        |\n",
      "|    l2_norm        | 620      |\n",
      "|    loss           | 1.6      |\n",
      "|    neglogp        | 1.6      |\n",
      "|    prob_true_act  | 0.202    |\n",
      "|    samples_so_far | 307200   |\n",
      "--------------------------------\n"
     ]
    },
    {
     "name": "stderr",
     "output_type": "stream",
     "text": [
      "160batch [00:57,  2.96batch/s]"
     ]
    },
    {
     "name": "stdout",
     "output_type": "stream",
     "text": [
      "--------------------------------\n",
      "| batch_size        | 2048     |\n",
      "| bc/               |          |\n",
      "|    batch          | 159      |\n",
      "|    ent_loss       | -0.0025  |\n",
      "|    entropy        | 2.5      |\n",
      "|    epoch          | 16       |\n",
      "|    l2_loss        | 0        |\n",
      "|    l2_norm        | 631      |\n",
      "|    loss           | 1.58     |\n",
      "|    neglogp        | 1.59     |\n",
      "|    prob_true_act  | 0.206    |\n",
      "|    samples_so_far | 327680   |\n",
      "--------------------------------\n"
     ]
    },
    {
     "name": "stderr",
     "output_type": "stream",
     "text": [
      "170batch [01:01,  2.89batch/s]"
     ]
    },
    {
     "name": "stdout",
     "output_type": "stream",
     "text": [
      "--------------------------------\n",
      "| batch_size        | 2048     |\n",
      "| bc/               |          |\n",
      "|    batch          | 169      |\n",
      "|    ent_loss       | -0.00248 |\n",
      "|    entropy        | 2.48     |\n",
      "|    epoch          | 17       |\n",
      "|    l2_loss        | 0        |\n",
      "|    l2_norm        | 642      |\n",
      "|    loss           | 1.56     |\n",
      "|    neglogp        | 1.56     |\n",
      "|    prob_true_act  | 0.211    |\n",
      "|    samples_so_far | 348160   |\n",
      "--------------------------------\n"
     ]
    },
    {
     "name": "stderr",
     "output_type": "stream",
     "text": [
      "180batch [01:04,  2.96batch/s]"
     ]
    },
    {
     "name": "stdout",
     "output_type": "stream",
     "text": [
      "--------------------------------\n",
      "| batch_size        | 2048     |\n",
      "| bc/               |          |\n",
      "|    batch          | 179      |\n",
      "|    ent_loss       | -0.00246 |\n",
      "|    entropy        | 2.46     |\n",
      "|    epoch          | 18       |\n",
      "|    l2_loss        | 0        |\n",
      "|    l2_norm        | 655      |\n",
      "|    loss           | 1.54     |\n",
      "|    neglogp        | 1.54     |\n",
      "|    prob_true_act  | 0.216    |\n",
      "|    samples_so_far | 368640   |\n",
      "--------------------------------\n"
     ]
    },
    {
     "name": "stderr",
     "output_type": "stream",
     "text": [
      "190batch [01:08,  2.99batch/s]"
     ]
    },
    {
     "name": "stdout",
     "output_type": "stream",
     "text": [
      "--------------------------------\n",
      "| batch_size        | 2048     |\n",
      "| bc/               |          |\n",
      "|    batch          | 189      |\n",
      "|    ent_loss       | -0.00243 |\n",
      "|    entropy        | 2.43     |\n",
      "|    epoch          | 19       |\n",
      "|    l2_loss        | 0        |\n",
      "|    l2_norm        | 667      |\n",
      "|    loss           | 1.53     |\n",
      "|    neglogp        | 1.53     |\n",
      "|    prob_true_act  | 0.219    |\n",
      "|    samples_so_far | 389120   |\n",
      "--------------------------------\n"
     ]
    },
    {
     "name": "stderr",
     "output_type": "stream",
     "text": [
      "200batch [01:12,  2.88batch/s]"
     ]
    },
    {
     "name": "stdout",
     "output_type": "stream",
     "text": [
      "--------------------------------\n",
      "| batch_size        | 2048     |\n",
      "| bc/               |          |\n",
      "|    batch          | 199      |\n",
      "|    ent_loss       | -0.00241 |\n",
      "|    entropy        | 2.41     |\n",
      "|    epoch          | 20       |\n",
      "|    l2_loss        | 0        |\n",
      "|    l2_norm        | 679      |\n",
      "|    loss           | 1.51     |\n",
      "|    neglogp        | 1.51     |\n",
      "|    prob_true_act  | 0.223    |\n",
      "|    samples_so_far | 409600   |\n",
      "--------------------------------\n"
     ]
    },
    {
     "name": "stderr",
     "output_type": "stream",
     "text": [
      "210batch [01:15,  2.94batch/s]"
     ]
    },
    {
     "name": "stdout",
     "output_type": "stream",
     "text": [
      "--------------------------------\n",
      "| batch_size        | 2048     |\n",
      "| bc/               |          |\n",
      "|    batch          | 209      |\n",
      "|    ent_loss       | -0.00239 |\n",
      "|    entropy        | 2.39     |\n",
      "|    epoch          | 21       |\n",
      "|    l2_loss        | 0        |\n",
      "|    l2_norm        | 692      |\n",
      "|    loss           | 1.48     |\n",
      "|    neglogp        | 1.49     |\n",
      "|    prob_true_act  | 0.228    |\n",
      "|    samples_so_far | 430080   |\n",
      "--------------------------------\n"
     ]
    },
    {
     "name": "stderr",
     "output_type": "stream",
     "text": [
      "220batch [01:19,  2.97batch/s]"
     ]
    },
    {
     "name": "stdout",
     "output_type": "stream",
     "text": [
      "--------------------------------\n",
      "| batch_size        | 2048     |\n",
      "| bc/               |          |\n",
      "|    batch          | 219      |\n",
      "|    ent_loss       | -0.00237 |\n",
      "|    entropy        | 2.37     |\n",
      "|    epoch          | 22       |\n",
      "|    l2_loss        | 0        |\n",
      "|    l2_norm        | 704      |\n",
      "|    loss           | 1.47     |\n",
      "|    neglogp        | 1.47     |\n",
      "|    prob_true_act  | 0.233    |\n",
      "|    samples_so_far | 450560   |\n",
      "--------------------------------\n"
     ]
    },
    {
     "name": "stderr",
     "output_type": "stream",
     "text": [
      "230batch [01:22,  2.91batch/s]"
     ]
    },
    {
     "name": "stdout",
     "output_type": "stream",
     "text": [
      "--------------------------------\n",
      "| batch_size        | 2048     |\n",
      "| bc/               |          |\n",
      "|    batch          | 229      |\n",
      "|    ent_loss       | -0.00235 |\n",
      "|    entropy        | 2.35     |\n",
      "|    epoch          | 23       |\n",
      "|    l2_loss        | 0        |\n",
      "|    l2_norm        | 717      |\n",
      "|    loss           | 1.44     |\n",
      "|    neglogp        | 1.45     |\n",
      "|    prob_true_act  | 0.238    |\n",
      "|    samples_so_far | 471040   |\n",
      "--------------------------------\n"
     ]
    },
    {
     "name": "stderr",
     "output_type": "stream",
     "text": [
      "240batch [01:26,  2.93batch/s]"
     ]
    },
    {
     "name": "stdout",
     "output_type": "stream",
     "text": [
      "--------------------------------\n",
      "| batch_size        | 2048     |\n",
      "| bc/               |          |\n",
      "|    batch          | 239      |\n",
      "|    ent_loss       | -0.00233 |\n",
      "|    entropy        | 2.33     |\n",
      "|    epoch          | 24       |\n",
      "|    l2_loss        | 0        |\n",
      "|    l2_norm        | 731      |\n",
      "|    loss           | 1.43     |\n",
      "|    neglogp        | 1.43     |\n",
      "|    prob_true_act  | 0.242    |\n",
      "|    samples_so_far | 491520   |\n",
      "--------------------------------\n"
     ]
    },
    {
     "name": "stderr",
     "output_type": "stream",
     "text": [
      "250batch [01:30,  2.73batch/s]"
     ]
    },
    {
     "name": "stdout",
     "output_type": "stream",
     "text": [
      "--------------------------------\n",
      "| batch_size        | 2048     |\n",
      "| bc/               |          |\n",
      "|    batch          | 249      |\n",
      "|    ent_loss       | -0.00231 |\n",
      "|    entropy        | 2.31     |\n",
      "|    epoch          | 25       |\n",
      "|    l2_loss        | 0        |\n",
      "|    l2_norm        | 746      |\n",
      "|    loss           | 1.4      |\n",
      "|    neglogp        | 1.4      |\n",
      "|    prob_true_act  | 0.248    |\n",
      "|    samples_so_far | 512000   |\n",
      "--------------------------------\n"
     ]
    },
    {
     "name": "stderr",
     "output_type": "stream",
     "text": [
      "260batch [01:33,  2.94batch/s]"
     ]
    },
    {
     "name": "stdout",
     "output_type": "stream",
     "text": [
      "--------------------------------\n",
      "| batch_size        | 2048     |\n",
      "| bc/               |          |\n",
      "|    batch          | 259      |\n",
      "|    ent_loss       | -0.00229 |\n",
      "|    entropy        | 2.29     |\n",
      "|    epoch          | 26       |\n",
      "|    l2_loss        | 0        |\n",
      "|    l2_norm        | 761      |\n",
      "|    loss           | 1.39     |\n",
      "|    neglogp        | 1.39     |\n",
      "|    prob_true_act  | 0.251    |\n",
      "|    samples_so_far | 532480   |\n",
      "--------------------------------\n"
     ]
    },
    {
     "name": "stderr",
     "output_type": "stream",
     "text": [
      "270batch [01:37,  2.97batch/s]"
     ]
    },
    {
     "name": "stdout",
     "output_type": "stream",
     "text": [
      "--------------------------------\n",
      "| batch_size        | 2048     |\n",
      "| bc/               |          |\n",
      "|    batch          | 269      |\n",
      "|    ent_loss       | -0.00227 |\n",
      "|    entropy        | 2.27     |\n",
      "|    epoch          | 27       |\n",
      "|    l2_loss        | 0        |\n",
      "|    l2_norm        | 778      |\n",
      "|    loss           | 1.36     |\n",
      "|    neglogp        | 1.37     |\n",
      "|    prob_true_act  | 0.258    |\n",
      "|    samples_so_far | 552960   |\n",
      "--------------------------------\n"
     ]
    },
    {
     "name": "stderr",
     "output_type": "stream",
     "text": [
      "280batch [01:40,  2.99batch/s]"
     ]
    },
    {
     "name": "stdout",
     "output_type": "stream",
     "text": [
      "--------------------------------\n",
      "| batch_size        | 2048     |\n",
      "| bc/               |          |\n",
      "|    batch          | 279      |\n",
      "|    ent_loss       | -0.00225 |\n",
      "|    entropy        | 2.25     |\n",
      "|    epoch          | 28       |\n",
      "|    l2_loss        | 0        |\n",
      "|    l2_norm        | 793      |\n",
      "|    loss           | 1.36     |\n",
      "|    neglogp        | 1.36     |\n",
      "|    prob_true_act  | 0.259    |\n",
      "|    samples_so_far | 573440   |\n",
      "--------------------------------\n"
     ]
    },
    {
     "name": "stderr",
     "output_type": "stream",
     "text": [
      "290batch [01:44,  2.94batch/s]"
     ]
    },
    {
     "name": "stdout",
     "output_type": "stream",
     "text": [
      "--------------------------------\n",
      "| batch_size        | 2048     |\n",
      "| bc/               |          |\n",
      "|    batch          | 289      |\n",
      "|    ent_loss       | -0.00223 |\n",
      "|    entropy        | 2.23     |\n",
      "|    epoch          | 29       |\n",
      "|    l2_loss        | 0        |\n",
      "|    l2_norm        | 809      |\n",
      "|    loss           | 1.34     |\n",
      "|    neglogp        | 1.35     |\n",
      "|    prob_true_act  | 0.264    |\n",
      "|    samples_so_far | 593920   |\n",
      "--------------------------------\n"
     ]
    },
    {
     "name": "stderr",
     "output_type": "stream",
     "text": [
      "300batch [01:47,  2.99batch/s]"
     ]
    },
    {
     "name": "stdout",
     "output_type": "stream",
     "text": [
      "--------------------------------\n",
      "| batch_size        | 2048     |\n",
      "| bc/               |          |\n",
      "|    batch          | 299      |\n",
      "|    ent_loss       | -0.00221 |\n",
      "|    entropy        | 2.21     |\n",
      "|    epoch          | 30       |\n",
      "|    l2_loss        | 0        |\n",
      "|    l2_norm        | 825      |\n",
      "|    loss           | 1.31     |\n",
      "|    neglogp        | 1.32     |\n",
      "|    prob_true_act  | 0.271    |\n",
      "|    samples_so_far | 614400   |\n",
      "--------------------------------\n"
     ]
    },
    {
     "name": "stderr",
     "output_type": "stream",
     "text": [
      "310batch [01:51,  2.94batch/s]"
     ]
    },
    {
     "name": "stdout",
     "output_type": "stream",
     "text": [
      "--------------------------------\n",
      "| batch_size        | 2048     |\n",
      "| bc/               |          |\n",
      "|    batch          | 309      |\n",
      "|    ent_loss       | -0.00219 |\n",
      "|    entropy        | 2.19     |\n",
      "|    epoch          | 31       |\n",
      "|    l2_loss        | 0        |\n",
      "|    l2_norm        | 843      |\n",
      "|    loss           | 1.3      |\n",
      "|    neglogp        | 1.31     |\n",
      "|    prob_true_act  | 0.274    |\n",
      "|    samples_so_far | 634880   |\n",
      "--------------------------------\n"
     ]
    },
    {
     "name": "stderr",
     "output_type": "stream",
     "text": [
      "320batch [01:55,  2.92batch/s]"
     ]
    },
    {
     "name": "stdout",
     "output_type": "stream",
     "text": [
      "--------------------------------\n",
      "| batch_size        | 2048     |\n",
      "| bc/               |          |\n",
      "|    batch          | 319      |\n",
      "|    ent_loss       | -0.00217 |\n",
      "|    entropy        | 2.17     |\n",
      "|    epoch          | 32       |\n",
      "|    l2_loss        | 0        |\n",
      "|    l2_norm        | 861      |\n",
      "|    loss           | 1.27     |\n",
      "|    neglogp        | 1.27     |\n",
      "|    prob_true_act  | 0.283    |\n",
      "|    samples_so_far | 655360   |\n",
      "--------------------------------\n"
     ]
    },
    {
     "name": "stderr",
     "output_type": "stream",
     "text": [
      "330batch [01:58,  2.97batch/s]"
     ]
    },
    {
     "name": "stdout",
     "output_type": "stream",
     "text": [
      "--------------------------------\n",
      "| batch_size        | 2048     |\n",
      "| bc/               |          |\n",
      "|    batch          | 329      |\n",
      "|    ent_loss       | -0.00215 |\n",
      "|    entropy        | 2.15     |\n",
      "|    epoch          | 33       |\n",
      "|    l2_loss        | 0        |\n",
      "|    l2_norm        | 880      |\n",
      "|    loss           | 1.26     |\n",
      "|    neglogp        | 1.26     |\n",
      "|    prob_true_act  | 0.287    |\n",
      "|    samples_so_far | 675840   |\n",
      "--------------------------------\n"
     ]
    },
    {
     "name": "stderr",
     "output_type": "stream",
     "text": [
      "340batch [02:02,  2.94batch/s]"
     ]
    },
    {
     "name": "stdout",
     "output_type": "stream",
     "text": [
      "--------------------------------\n",
      "| batch_size        | 2048     |\n",
      "| bc/               |          |\n",
      "|    batch          | 339      |\n",
      "|    ent_loss       | -0.00213 |\n",
      "|    entropy        | 2.13     |\n",
      "|    epoch          | 34       |\n",
      "|    l2_loss        | 0        |\n",
      "|    l2_norm        | 898      |\n",
      "|    loss           | 1.24     |\n",
      "|    neglogp        | 1.25     |\n",
      "|    prob_true_act  | 0.292    |\n",
      "|    samples_so_far | 696320   |\n",
      "--------------------------------\n"
     ]
    },
    {
     "name": "stderr",
     "output_type": "stream",
     "text": [
      "350batch [02:06,  2.88batch/s]"
     ]
    },
    {
     "name": "stdout",
     "output_type": "stream",
     "text": [
      "--------------------------------\n",
      "| batch_size        | 2048     |\n",
      "| bc/               |          |\n",
      "|    batch          | 349      |\n",
      "|    ent_loss       | -0.00211 |\n",
      "|    entropy        | 2.11     |\n",
      "|    epoch          | 35       |\n",
      "|    l2_loss        | 0        |\n",
      "|    l2_norm        | 917      |\n",
      "|    loss           | 1.22     |\n",
      "|    neglogp        | 1.22     |\n",
      "|    prob_true_act  | 0.299    |\n",
      "|    samples_so_far | 716800   |\n",
      "--------------------------------\n"
     ]
    },
    {
     "name": "stderr",
     "output_type": "stream",
     "text": [
      "360batch [02:09,  2.96batch/s]"
     ]
    },
    {
     "name": "stdout",
     "output_type": "stream",
     "text": [
      "--------------------------------\n",
      "| batch_size        | 2048     |\n",
      "| bc/               |          |\n",
      "|    batch          | 359      |\n",
      "|    ent_loss       | -0.00209 |\n",
      "|    entropy        | 2.09     |\n",
      "|    epoch          | 36       |\n",
      "|    l2_loss        | 0        |\n",
      "|    l2_norm        | 936      |\n",
      "|    loss           | 1.21     |\n",
      "|    neglogp        | 1.21     |\n",
      "|    prob_true_act  | 0.302    |\n",
      "|    samples_so_far | 737280   |\n",
      "--------------------------------\n"
     ]
    },
    {
     "name": "stderr",
     "output_type": "stream",
     "text": [
      "370batch [02:13,  2.95batch/s]"
     ]
    },
    {
     "name": "stdout",
     "output_type": "stream",
     "text": [
      "--------------------------------\n",
      "| batch_size        | 2048     |\n",
      "| bc/               |          |\n",
      "|    batch          | 369      |\n",
      "|    ent_loss       | -0.00207 |\n",
      "|    entropy        | 2.07     |\n",
      "|    epoch          | 37       |\n",
      "|    l2_loss        | 0        |\n",
      "|    l2_norm        | 954      |\n",
      "|    loss           | 1.19     |\n",
      "|    neglogp        | 1.19     |\n",
      "|    prob_true_act  | 0.309    |\n",
      "|    samples_so_far | 757760   |\n",
      "--------------------------------\n"
     ]
    },
    {
     "name": "stderr",
     "output_type": "stream",
     "text": [
      "380batch [02:16,  2.82batch/s]"
     ]
    },
    {
     "name": "stdout",
     "output_type": "stream",
     "text": [
      "--------------------------------\n",
      "| batch_size        | 2048     |\n",
      "| bc/               |          |\n",
      "|    batch          | 379      |\n",
      "|    ent_loss       | -0.00205 |\n",
      "|    entropy        | 2.05     |\n",
      "|    epoch          | 38       |\n",
      "|    l2_loss        | 0        |\n",
      "|    l2_norm        | 971      |\n",
      "|    loss           | 1.17     |\n",
      "|    neglogp        | 1.17     |\n",
      "|    prob_true_act  | 0.315    |\n",
      "|    samples_so_far | 778240   |\n",
      "--------------------------------\n"
     ]
    },
    {
     "name": "stderr",
     "output_type": "stream",
     "text": [
      "390batch [02:20,  2.96batch/s]"
     ]
    },
    {
     "name": "stdout",
     "output_type": "stream",
     "text": [
      "--------------------------------\n",
      "| batch_size        | 2048     |\n",
      "| bc/               |          |\n",
      "|    batch          | 389      |\n",
      "|    ent_loss       | -0.00203 |\n",
      "|    entropy        | 2.03     |\n",
      "|    epoch          | 39       |\n",
      "|    l2_loss        | 0        |\n",
      "|    l2_norm        | 987      |\n",
      "|    loss           | 1.15     |\n",
      "|    neglogp        | 1.15     |\n",
      "|    prob_true_act  | 0.32     |\n",
      "|    samples_so_far | 798720   |\n",
      "--------------------------------\n"
     ]
    },
    {
     "name": "stderr",
     "output_type": "stream",
     "text": [
      "400batch [02:24,  2.96batch/s]"
     ]
    },
    {
     "name": "stdout",
     "output_type": "stream",
     "text": [
      "--------------------------------\n",
      "| batch_size        | 2048     |\n",
      "| bc/               |          |\n",
      "|    batch          | 399      |\n",
      "|    ent_loss       | -0.00201 |\n",
      "|    entropy        | 2.01     |\n",
      "|    epoch          | 40       |\n",
      "|    l2_loss        | 0        |\n",
      "|    l2_norm        | 1.01e+03 |\n",
      "|    loss           | 1.14     |\n",
      "|    neglogp        | 1.14     |\n",
      "|    prob_true_act  | 0.325    |\n",
      "|    samples_so_far | 819200   |\n",
      "--------------------------------\n"
     ]
    },
    {
     "name": "stderr",
     "output_type": "stream",
     "text": [
      "410batch [02:27,  2.96batch/s]"
     ]
    },
    {
     "name": "stdout",
     "output_type": "stream",
     "text": [
      "--------------------------------\n",
      "| batch_size        | 2048     |\n",
      "| bc/               |          |\n",
      "|    batch          | 409      |\n",
      "|    ent_loss       | -0.00199 |\n",
      "|    entropy        | 1.99     |\n",
      "|    epoch          | 41       |\n",
      "|    l2_loss        | 0        |\n",
      "|    l2_norm        | 1.02e+03 |\n",
      "|    loss           | 1.12     |\n",
      "|    neglogp        | 1.12     |\n",
      "|    prob_true_act  | 0.331    |\n",
      "|    samples_so_far | 839680   |\n",
      "--------------------------------\n"
     ]
    },
    {
     "name": "stderr",
     "output_type": "stream",
     "text": [
      "420batch [02:31,  2.75batch/s]"
     ]
    },
    {
     "name": "stdout",
     "output_type": "stream",
     "text": [
      "--------------------------------\n",
      "| batch_size        | 2048     |\n",
      "| bc/               |          |\n",
      "|    batch          | 419      |\n",
      "|    ent_loss       | -0.00197 |\n",
      "|    entropy        | 1.97     |\n",
      "|    epoch          | 42       |\n",
      "|    l2_loss        | 0        |\n",
      "|    l2_norm        | 1.04e+03 |\n",
      "|    loss           | 1.09     |\n",
      "|    neglogp        | 1.09     |\n",
      "|    prob_true_act  | 0.342    |\n",
      "|    samples_so_far | 860160   |\n",
      "--------------------------------\n"
     ]
    },
    {
     "name": "stderr",
     "output_type": "stream",
     "text": [
      "430batch [02:35,  2.93batch/s]"
     ]
    },
    {
     "name": "stdout",
     "output_type": "stream",
     "text": [
      "--------------------------------\n",
      "| batch_size        | 2048     |\n",
      "| bc/               |          |\n",
      "|    batch          | 429      |\n",
      "|    ent_loss       | -0.00195 |\n",
      "|    entropy        | 1.95     |\n",
      "|    epoch          | 43       |\n",
      "|    l2_loss        | 0        |\n",
      "|    l2_norm        | 1.06e+03 |\n",
      "|    loss           | 1.08     |\n",
      "|    neglogp        | 1.08     |\n",
      "|    prob_true_act  | 0.345    |\n",
      "|    samples_so_far | 880640   |\n",
      "--------------------------------\n"
     ]
    },
    {
     "name": "stderr",
     "output_type": "stream",
     "text": [
      "440batch [02:38,  2.98batch/s]"
     ]
    },
    {
     "name": "stdout",
     "output_type": "stream",
     "text": [
      "--------------------------------\n",
      "| batch_size        | 2048     |\n",
      "| bc/               |          |\n",
      "|    batch          | 439      |\n",
      "|    ent_loss       | -0.00193 |\n",
      "|    entropy        | 1.93     |\n",
      "|    epoch          | 44       |\n",
      "|    l2_loss        | 0        |\n",
      "|    l2_norm        | 1.08e+03 |\n",
      "|    loss           | 1.05     |\n",
      "|    neglogp        | 1.05     |\n",
      "|    prob_true_act  | 0.354    |\n",
      "|    samples_so_far | 901120   |\n",
      "--------------------------------\n"
     ]
    },
    {
     "name": "stderr",
     "output_type": "stream",
     "text": [
      "450batch [02:42,  2.84batch/s]"
     ]
    },
    {
     "name": "stdout",
     "output_type": "stream",
     "text": [
      "--------------------------------\n",
      "| batch_size        | 2048     |\n",
      "| bc/               |          |\n",
      "|    batch          | 449      |\n",
      "|    ent_loss       | -0.00191 |\n",
      "|    entropy        | 1.91     |\n",
      "|    epoch          | 45       |\n",
      "|    l2_loss        | 0        |\n",
      "|    l2_norm        | 1.1e+03  |\n",
      "|    loss           | 1.04     |\n",
      "|    neglogp        | 1.04     |\n",
      "|    prob_true_act  | 0.36     |\n",
      "|    samples_so_far | 921600   |\n",
      "--------------------------------\n"
     ]
    },
    {
     "name": "stderr",
     "output_type": "stream",
     "text": [
      "460batch [02:46,  1.75batch/s]"
     ]
    },
    {
     "name": "stdout",
     "output_type": "stream",
     "text": [
      "--------------------------------\n",
      "| batch_size        | 2048     |\n",
      "| bc/               |          |\n",
      "|    batch          | 459      |\n",
      "|    ent_loss       | -0.00189 |\n",
      "|    entropy        | 1.89     |\n",
      "|    epoch          | 46       |\n",
      "|    l2_loss        | 0        |\n",
      "|    l2_norm        | 1.12e+03 |\n",
      "|    loss           | 1.02     |\n",
      "|    neglogp        | 1.02     |\n",
      "|    prob_true_act  | 0.368    |\n",
      "|    samples_so_far | 942080   |\n",
      "--------------------------------\n"
     ]
    },
    {
     "name": "stderr",
     "output_type": "stream",
     "text": [
      "470batch [02:50,  2.87batch/s]"
     ]
    },
    {
     "name": "stdout",
     "output_type": "stream",
     "text": [
      "--------------------------------\n",
      "| batch_size        | 2048     |\n",
      "| bc/               |          |\n",
      "|    batch          | 469      |\n",
      "|    ent_loss       | -0.00187 |\n",
      "|    entropy        | 1.87     |\n",
      "|    epoch          | 47       |\n",
      "|    l2_loss        | 0        |\n",
      "|    l2_norm        | 1.14e+03 |\n",
      "|    loss           | 1        |\n",
      "|    neglogp        | 1        |\n",
      "|    prob_true_act  | 0.374    |\n",
      "|    samples_so_far | 962560   |\n",
      "--------------------------------\n"
     ]
    },
    {
     "name": "stderr",
     "output_type": "stream",
     "text": [
      "480batch [02:54,  2.94batch/s]"
     ]
    },
    {
     "name": "stdout",
     "output_type": "stream",
     "text": [
      "--------------------------------\n",
      "| batch_size        | 2048     |\n",
      "| bc/               |          |\n",
      "|    batch          | 479      |\n",
      "|    ent_loss       | -0.00185 |\n",
      "|    entropy        | 1.85     |\n",
      "|    epoch          | 48       |\n",
      "|    l2_loss        | 0        |\n",
      "|    l2_norm        | 1.16e+03 |\n",
      "|    loss           | 0.972    |\n",
      "|    neglogp        | 0.974    |\n",
      "|    prob_true_act  | 0.383    |\n",
      "|    samples_so_far | 983040   |\n",
      "--------------------------------\n"
     ]
    },
    {
     "name": "stderr",
     "output_type": "stream",
     "text": [
      "490batch [02:57,  2.96batch/s]"
     ]
    },
    {
     "name": "stdout",
     "output_type": "stream",
     "text": [
      "--------------------------------\n",
      "| batch_size        | 2048     |\n",
      "| bc/               |          |\n",
      "|    batch          | 489      |\n",
      "|    ent_loss       | -0.00184 |\n",
      "|    entropy        | 1.84     |\n",
      "|    epoch          | 49       |\n",
      "|    l2_loss        | 0        |\n",
      "|    l2_norm        | 1.18e+03 |\n",
      "|    loss           | 0.96     |\n",
      "|    neglogp        | 0.962    |\n",
      "|    prob_true_act  | 0.39     |\n",
      "|    samples_so_far | 1003520  |\n",
      "--------------------------------\n"
     ]
    },
    {
     "name": "stderr",
     "output_type": "stream",
     "text": [
      "500batch [03:01,  2.91batch/s]"
     ]
    },
    {
     "name": "stdout",
     "output_type": "stream",
     "text": [
      "--------------------------------\n",
      "| batch_size        | 2048     |\n",
      "| bc/               |          |\n",
      "|    batch          | 499      |\n",
      "|    ent_loss       | -0.00182 |\n",
      "|    entropy        | 1.82     |\n",
      "|    epoch          | 50       |\n",
      "|    l2_loss        | 0        |\n",
      "|    l2_norm        | 1.19e+03 |\n",
      "|    loss           | 0.942    |\n",
      "|    neglogp        | 0.944    |\n",
      "|    prob_true_act  | 0.398    |\n",
      "|    samples_so_far | 1024000  |\n",
      "--------------------------------\n"
     ]
    },
    {
     "name": "stderr",
     "output_type": "stream",
     "text": [
      "510batch [03:05,  2.67batch/s]"
     ]
    },
    {
     "name": "stdout",
     "output_type": "stream",
     "text": [
      "--------------------------------\n",
      "| batch_size        | 2048     |\n",
      "| bc/               |          |\n",
      "|    batch          | 509      |\n",
      "|    ent_loss       | -0.0018  |\n",
      "|    entropy        | 1.8      |\n",
      "|    epoch          | 51       |\n",
      "|    l2_loss        | 0        |\n",
      "|    l2_norm        | 1.21e+03 |\n",
      "|    loss           | 0.929    |\n",
      "|    neglogp        | 0.931    |\n",
      "|    prob_true_act  | 0.403    |\n",
      "|    samples_so_far | 1044480  |\n",
      "--------------------------------\n"
     ]
    },
    {
     "name": "stderr",
     "output_type": "stream",
     "text": [
      "520batch [03:08,  2.96batch/s]"
     ]
    },
    {
     "name": "stdout",
     "output_type": "stream",
     "text": [
      "--------------------------------\n",
      "| batch_size        | 2048     |\n",
      "| bc/               |          |\n",
      "|    batch          | 519      |\n",
      "|    ent_loss       | -0.00178 |\n",
      "|    entropy        | 1.78     |\n",
      "|    epoch          | 52       |\n",
      "|    l2_loss        | 0        |\n",
      "|    l2_norm        | 1.23e+03 |\n",
      "|    loss           | 0.919    |\n",
      "|    neglogp        | 0.921    |\n",
      "|    prob_true_act  | 0.408    |\n",
      "|    samples_so_far | 1064960  |\n",
      "--------------------------------\n"
     ]
    },
    {
     "name": "stderr",
     "output_type": "stream",
     "text": [
      "530batch [03:12,  2.88batch/s]"
     ]
    },
    {
     "name": "stdout",
     "output_type": "stream",
     "text": [
      "--------------------------------\n",
      "| batch_size        | 2048     |\n",
      "| bc/               |          |\n",
      "|    batch          | 529      |\n",
      "|    ent_loss       | -0.00176 |\n",
      "|    entropy        | 1.76     |\n",
      "|    epoch          | 53       |\n",
      "|    l2_loss        | 0        |\n",
      "|    l2_norm        | 1.25e+03 |\n",
      "|    loss           | 0.89     |\n",
      "|    neglogp        | 0.892    |\n",
      "|    prob_true_act  | 0.418    |\n",
      "|    samples_so_far | 1085440  |\n",
      "--------------------------------\n"
     ]
    },
    {
     "name": "stderr",
     "output_type": "stream",
     "text": [
      "540batch [03:16,  2.72batch/s]"
     ]
    },
    {
     "name": "stdout",
     "output_type": "stream",
     "text": [
      "--------------------------------\n",
      "| batch_size        | 2048     |\n",
      "| bc/               |          |\n",
      "|    batch          | 539      |\n",
      "|    ent_loss       | -0.00174 |\n",
      "|    entropy        | 1.74     |\n",
      "|    epoch          | 54       |\n",
      "|    l2_loss        | 0        |\n",
      "|    l2_norm        | 1.27e+03 |\n",
      "|    loss           | 0.875    |\n",
      "|    neglogp        | 0.877    |\n",
      "|    prob_true_act  | 0.426    |\n",
      "|    samples_so_far | 1105920  |\n",
      "--------------------------------\n"
     ]
    },
    {
     "name": "stderr",
     "output_type": "stream",
     "text": [
      "550batch [03:20,  2.90batch/s]"
     ]
    },
    {
     "name": "stdout",
     "output_type": "stream",
     "text": [
      "--------------------------------\n",
      "| batch_size        | 2048     |\n",
      "| bc/               |          |\n",
      "|    batch          | 549      |\n",
      "|    ent_loss       | -0.00172 |\n",
      "|    entropy        | 1.72     |\n",
      "|    epoch          | 55       |\n",
      "|    l2_loss        | 0        |\n",
      "|    l2_norm        | 1.29e+03 |\n",
      "|    loss           | 0.858    |\n",
      "|    neglogp        | 0.859    |\n",
      "|    prob_true_act  | 0.432    |\n",
      "|    samples_so_far | 1126400  |\n",
      "--------------------------------\n"
     ]
    },
    {
     "name": "stderr",
     "output_type": "stream",
     "text": [
      "560batch [03:23,  2.95batch/s]"
     ]
    },
    {
     "name": "stdout",
     "output_type": "stream",
     "text": [
      "--------------------------------\n",
      "| batch_size        | 2048     |\n",
      "| bc/               |          |\n",
      "|    batch          | 559      |\n",
      "|    ent_loss       | -0.0017  |\n",
      "|    entropy        | 1.7      |\n",
      "|    epoch          | 56       |\n",
      "|    l2_loss        | 0        |\n",
      "|    l2_norm        | 1.32e+03 |\n",
      "|    loss           | 0.878    |\n",
      "|    neglogp        | 0.879    |\n",
      "|    prob_true_act  | 0.43     |\n",
      "|    samples_so_far | 1146880  |\n",
      "--------------------------------\n"
     ]
    },
    {
     "name": "stderr",
     "output_type": "stream",
     "text": [
      "570batch [03:27,  2.90batch/s]"
     ]
    },
    {
     "name": "stdout",
     "output_type": "stream",
     "text": [
      "--------------------------------\n",
      "| batch_size        | 2048     |\n",
      "| bc/               |          |\n",
      "|    batch          | 569      |\n",
      "|    ent_loss       | -0.00168 |\n",
      "|    entropy        | 1.68     |\n",
      "|    epoch          | 57       |\n",
      "|    l2_loss        | 0        |\n",
      "|    l2_norm        | 1.34e+03 |\n",
      "|    loss           | 0.859    |\n",
      "|    neglogp        | 0.86     |\n",
      "|    prob_true_act  | 0.432    |\n",
      "|    samples_so_far | 1167360  |\n",
      "--------------------------------\n"
     ]
    },
    {
     "name": "stderr",
     "output_type": "stream",
     "text": [
      "580batch [03:30,  2.93batch/s]"
     ]
    },
    {
     "name": "stdout",
     "output_type": "stream",
     "text": [
      "--------------------------------\n",
      "| batch_size        | 2048     |\n",
      "| bc/               |          |\n",
      "|    batch          | 579      |\n",
      "|    ent_loss       | -0.00166 |\n",
      "|    entropy        | 1.66     |\n",
      "|    epoch          | 58       |\n",
      "|    l2_loss        | 0        |\n",
      "|    l2_norm        | 1.36e+03 |\n",
      "|    loss           | 0.824    |\n",
      "|    neglogp        | 0.826    |\n",
      "|    prob_true_act  | 0.447    |\n",
      "|    samples_so_far | 1187840  |\n",
      "--------------------------------\n"
     ]
    },
    {
     "name": "stderr",
     "output_type": "stream",
     "text": [
      "590batch [03:34,  2.94batch/s]"
     ]
    },
    {
     "name": "stdout",
     "output_type": "stream",
     "text": [
      "--------------------------------\n",
      "| batch_size        | 2048     |\n",
      "| bc/               |          |\n",
      "|    batch          | 589      |\n",
      "|    ent_loss       | -0.00164 |\n",
      "|    entropy        | 1.64     |\n",
      "|    epoch          | 59       |\n",
      "|    l2_loss        | 0        |\n",
      "|    l2_norm        | 1.39e+03 |\n",
      "|    loss           | 0.798    |\n",
      "|    neglogp        | 0.799    |\n",
      "|    prob_true_act  | 0.463    |\n",
      "|    samples_so_far | 1208320  |\n",
      "--------------------------------\n"
     ]
    },
    {
     "name": "stderr",
     "output_type": "stream",
     "text": [
      "600batch [03:38,  2.93batch/s]"
     ]
    },
    {
     "name": "stdout",
     "output_type": "stream",
     "text": [
      "--------------------------------\n",
      "| batch_size        | 2048     |\n",
      "| bc/               |          |\n",
      "|    batch          | 599      |\n",
      "|    ent_loss       | -0.00162 |\n",
      "|    entropy        | 1.62     |\n",
      "|    epoch          | 60       |\n",
      "|    l2_loss        | 0        |\n",
      "|    l2_norm        | 1.41e+03 |\n",
      "|    loss           | 0.775    |\n",
      "|    neglogp        | 0.777    |\n",
      "|    prob_true_act  | 0.473    |\n",
      "|    samples_so_far | 1228800  |\n",
      "--------------------------------\n"
     ]
    },
    {
     "name": "stderr",
     "output_type": "stream",
     "text": [
      "610batch [03:41,  2.94batch/s]"
     ]
    },
    {
     "name": "stdout",
     "output_type": "stream",
     "text": [
      "--------------------------------\n",
      "| batch_size        | 2048     |\n",
      "| bc/               |          |\n",
      "|    batch          | 609      |\n",
      "|    ent_loss       | -0.0016  |\n",
      "|    entropy        | 1.6      |\n",
      "|    epoch          | 61       |\n",
      "|    l2_loss        | 0        |\n",
      "|    l2_norm        | 1.43e+03 |\n",
      "|    loss           | 0.747    |\n",
      "|    neglogp        | 0.748    |\n",
      "|    prob_true_act  | 0.485    |\n",
      "|    samples_so_far | 1249280  |\n",
      "--------------------------------\n"
     ]
    },
    {
     "name": "stderr",
     "output_type": "stream",
     "text": [
      "620batch [03:45,  2.97batch/s]"
     ]
    },
    {
     "name": "stdout",
     "output_type": "stream",
     "text": [
      "--------------------------------\n",
      "| batch_size        | 2048     |\n",
      "| bc/               |          |\n",
      "|    batch          | 619      |\n",
      "|    ent_loss       | -0.00158 |\n",
      "|    entropy        | 1.58     |\n",
      "|    epoch          | 62       |\n",
      "|    l2_loss        | 0        |\n",
      "|    l2_norm        | 1.45e+03 |\n",
      "|    loss           | 0.732    |\n",
      "|    neglogp        | 0.733    |\n",
      "|    prob_true_act  | 0.494    |\n",
      "|    samples_so_far | 1269760  |\n",
      "--------------------------------\n"
     ]
    },
    {
     "name": "stderr",
     "output_type": "stream",
     "text": [
      "630batch [03:48,  2.95batch/s]"
     ]
    },
    {
     "name": "stdout",
     "output_type": "stream",
     "text": [
      "--------------------------------\n",
      "| batch_size        | 2048     |\n",
      "| bc/               |          |\n",
      "|    batch          | 629      |\n",
      "|    ent_loss       | -0.00156 |\n",
      "|    entropy        | 1.56     |\n",
      "|    epoch          | 63       |\n",
      "|    l2_loss        | 0        |\n",
      "|    l2_norm        | 1.47e+03 |\n",
      "|    loss           | 0.709    |\n",
      "|    neglogp        | 0.71     |\n",
      "|    prob_true_act  | 0.504    |\n",
      "|    samples_so_far | 1290240  |\n",
      "--------------------------------\n"
     ]
    },
    {
     "name": "stderr",
     "output_type": "stream",
     "text": [
      "640batch [03:52,  2.86batch/s]"
     ]
    },
    {
     "name": "stdout",
     "output_type": "stream",
     "text": [
      "--------------------------------\n",
      "| batch_size        | 2048     |\n",
      "| bc/               |          |\n",
      "|    batch          | 639      |\n",
      "|    ent_loss       | -0.00154 |\n",
      "|    entropy        | 1.54     |\n",
      "|    epoch          | 64       |\n",
      "|    l2_loss        | 0        |\n",
      "|    l2_norm        | 1.49e+03 |\n",
      "|    loss           | 0.689    |\n",
      "|    neglogp        | 0.69     |\n",
      "|    prob_true_act  | 0.514    |\n",
      "|    samples_so_far | 1310720  |\n",
      "--------------------------------\n"
     ]
    },
    {
     "name": "stderr",
     "output_type": "stream",
     "text": [
      "650batch [03:56,  2.68batch/s]"
     ]
    },
    {
     "name": "stdout",
     "output_type": "stream",
     "text": [
      "--------------------------------\n",
      "| batch_size        | 2048     |\n",
      "| bc/               |          |\n",
      "|    batch          | 649      |\n",
      "|    ent_loss       | -0.00153 |\n",
      "|    entropy        | 1.53     |\n",
      "|    epoch          | 65       |\n",
      "|    l2_loss        | 0        |\n",
      "|    l2_norm        | 1.52e+03 |\n",
      "|    loss           | 0.673    |\n",
      "|    neglogp        | 0.675    |\n",
      "|    prob_true_act  | 0.524    |\n",
      "|    samples_so_far | 1331200  |\n",
      "--------------------------------\n"
     ]
    },
    {
     "name": "stderr",
     "output_type": "stream",
     "text": [
      "660batch [04:00,  2.91batch/s]"
     ]
    },
    {
     "name": "stdout",
     "output_type": "stream",
     "text": [
      "--------------------------------\n",
      "| batch_size        | 2048     |\n",
      "| bc/               |          |\n",
      "|    batch          | 659      |\n",
      "|    ent_loss       | -0.00151 |\n",
      "|    entropy        | 1.51     |\n",
      "|    epoch          | 66       |\n",
      "|    l2_loss        | 0        |\n",
      "|    l2_norm        | 1.55e+03 |\n",
      "|    loss           | 0.662    |\n",
      "|    neglogp        | 0.663    |\n",
      "|    prob_true_act  | 0.531    |\n",
      "|    samples_so_far | 1351680  |\n",
      "--------------------------------\n"
     ]
    },
    {
     "name": "stderr",
     "output_type": "stream",
     "text": [
      "670batch [04:03,  2.95batch/s]"
     ]
    },
    {
     "name": "stdout",
     "output_type": "stream",
     "text": [
      "--------------------------------\n",
      "| batch_size        | 2048     |\n",
      "| bc/               |          |\n",
      "|    batch          | 669      |\n",
      "|    ent_loss       | -0.00149 |\n",
      "|    entropy        | 1.49     |\n",
      "|    epoch          | 67       |\n",
      "|    l2_loss        | 0        |\n",
      "|    l2_norm        | 1.58e+03 |\n",
      "|    loss           | 0.641    |\n",
      "|    neglogp        | 0.642    |\n",
      "|    prob_true_act  | 0.542    |\n",
      "|    samples_so_far | 1372160  |\n",
      "--------------------------------\n"
     ]
    },
    {
     "name": "stderr",
     "output_type": "stream",
     "text": [
      "680batch [04:07,  2.43batch/s]"
     ]
    },
    {
     "name": "stdout",
     "output_type": "stream",
     "text": [
      "--------------------------------\n",
      "| batch_size        | 2048     |\n",
      "| bc/               |          |\n",
      "|    batch          | 679      |\n",
      "|    ent_loss       | -0.00147 |\n",
      "|    entropy        | 1.47     |\n",
      "|    epoch          | 68       |\n",
      "|    l2_loss        | 0        |\n",
      "|    l2_norm        | 1.6e+03  |\n",
      "|    loss           | 0.61     |\n",
      "|    neglogp        | 0.612    |\n",
      "|    prob_true_act  | 0.555    |\n",
      "|    samples_so_far | 1392640  |\n",
      "--------------------------------\n"
     ]
    },
    {
     "name": "stderr",
     "output_type": "stream",
     "text": [
      "690batch [04:11,  2.91batch/s]"
     ]
    },
    {
     "name": "stdout",
     "output_type": "stream",
     "text": [
      "--------------------------------\n",
      "| batch_size        | 2048     |\n",
      "| bc/               |          |\n",
      "|    batch          | 689      |\n",
      "|    ent_loss       | -0.00145 |\n",
      "|    entropy        | 1.45     |\n",
      "|    epoch          | 69       |\n",
      "|    l2_loss        | 0        |\n",
      "|    l2_norm        | 1.63e+03 |\n",
      "|    loss           | 0.612    |\n",
      "|    neglogp        | 0.614    |\n",
      "|    prob_true_act  | 0.554    |\n",
      "|    samples_so_far | 1413120  |\n",
      "--------------------------------\n"
     ]
    },
    {
     "name": "stderr",
     "output_type": "stream",
     "text": [
      "700batch [04:14,  2.93batch/s]"
     ]
    },
    {
     "name": "stdout",
     "output_type": "stream",
     "text": [
      "--------------------------------\n",
      "| batch_size        | 2048     |\n",
      "| bc/               |          |\n",
      "|    batch          | 699      |\n",
      "|    ent_loss       | -0.00143 |\n",
      "|    entropy        | 1.43     |\n",
      "|    epoch          | 70       |\n",
      "|    l2_loss        | 0        |\n",
      "|    l2_norm        | 1.66e+03 |\n",
      "|    loss           | 0.581    |\n",
      "|    neglogp        | 0.583    |\n",
      "|    prob_true_act  | 0.573    |\n",
      "|    samples_so_far | 1433600  |\n",
      "--------------------------------\n"
     ]
    },
    {
     "name": "stderr",
     "output_type": "stream",
     "text": [
      "710batch [04:18,  2.95batch/s]"
     ]
    },
    {
     "name": "stdout",
     "output_type": "stream",
     "text": [
      "--------------------------------\n",
      "| batch_size        | 2048     |\n",
      "| bc/               |          |\n",
      "|    batch          | 709      |\n",
      "|    ent_loss       | -0.00141 |\n",
      "|    entropy        | 1.41     |\n",
      "|    epoch          | 71       |\n",
      "|    l2_loss        | 0        |\n",
      "|    l2_norm        | 1.69e+03 |\n",
      "|    loss           | 0.571    |\n",
      "|    neglogp        | 0.572    |\n",
      "|    prob_true_act  | 0.584    |\n",
      "|    samples_so_far | 1454080  |\n",
      "--------------------------------\n"
     ]
    },
    {
     "name": "stderr",
     "output_type": "stream",
     "text": [
      "720batch [04:21,  2.93batch/s]"
     ]
    },
    {
     "name": "stdout",
     "output_type": "stream",
     "text": [
      "--------------------------------\n",
      "| batch_size        | 2048     |\n",
      "| bc/               |          |\n",
      "|    batch          | 719      |\n",
      "|    ent_loss       | -0.00139 |\n",
      "|    entropy        | 1.39     |\n",
      "|    epoch          | 72       |\n",
      "|    l2_loss        | 0        |\n",
      "|    l2_norm        | 1.72e+03 |\n",
      "|    loss           | 0.541    |\n",
      "|    neglogp        | 0.543    |\n",
      "|    prob_true_act  | 0.596    |\n",
      "|    samples_so_far | 1474560  |\n",
      "--------------------------------\n"
     ]
    },
    {
     "name": "stderr",
     "output_type": "stream",
     "text": [
      "730batch [04:25,  2.84batch/s]"
     ]
    },
    {
     "name": "stdout",
     "output_type": "stream",
     "text": [
      "--------------------------------\n",
      "| batch_size        | 2048     |\n",
      "| bc/               |          |\n",
      "|    batch          | 729      |\n",
      "|    ent_loss       | -0.00137 |\n",
      "|    entropy        | 1.37     |\n",
      "|    epoch          | 73       |\n",
      "|    l2_loss        | 0        |\n",
      "|    l2_norm        | 1.75e+03 |\n",
      "|    loss           | 0.527    |\n",
      "|    neglogp        | 0.529    |\n",
      "|    prob_true_act  | 0.608    |\n",
      "|    samples_so_far | 1495040  |\n",
      "--------------------------------\n"
     ]
    },
    {
     "name": "stderr",
     "output_type": "stream",
     "text": [
      "740batch [04:29,  2.85batch/s]"
     ]
    },
    {
     "name": "stdout",
     "output_type": "stream",
     "text": [
      "--------------------------------\n",
      "| batch_size        | 2048     |\n",
      "| bc/               |          |\n",
      "|    batch          | 739      |\n",
      "|    ent_loss       | -0.00135 |\n",
      "|    entropy        | 1.35     |\n",
      "|    epoch          | 74       |\n",
      "|    l2_loss        | 0        |\n",
      "|    l2_norm        | 1.78e+03 |\n",
      "|    loss           | 0.507    |\n",
      "|    neglogp        | 0.508    |\n",
      "|    prob_true_act  | 0.621    |\n",
      "|    samples_so_far | 1515520  |\n",
      "--------------------------------\n"
     ]
    },
    {
     "name": "stderr",
     "output_type": "stream",
     "text": [
      "750batch [04:33,  2.51batch/s]"
     ]
    },
    {
     "name": "stdout",
     "output_type": "stream",
     "text": [
      "--------------------------------\n",
      "| batch_size        | 2048     |\n",
      "| bc/               |          |\n",
      "|    batch          | 749      |\n",
      "|    ent_loss       | -0.00133 |\n",
      "|    entropy        | 1.33     |\n",
      "|    epoch          | 75       |\n",
      "|    l2_loss        | 0        |\n",
      "|    l2_norm        | 1.82e+03 |\n",
      "|    loss           | 0.478    |\n",
      "|    neglogp        | 0.48     |\n",
      "|    prob_true_act  | 0.636    |\n",
      "|    samples_so_far | 1536000  |\n",
      "--------------------------------\n"
     ]
    },
    {
     "name": "stderr",
     "output_type": "stream",
     "text": [
      "760batch [04:37,  2.90batch/s]"
     ]
    },
    {
     "name": "stdout",
     "output_type": "stream",
     "text": [
      "--------------------------------\n",
      "| batch_size        | 2048     |\n",
      "| bc/               |          |\n",
      "|    batch          | 759      |\n",
      "|    ent_loss       | -0.00131 |\n",
      "|    entropy        | 1.31     |\n",
      "|    epoch          | 76       |\n",
      "|    l2_loss        | 0        |\n",
      "|    l2_norm        | 1.85e+03 |\n",
      "|    loss           | 0.452    |\n",
      "|    neglogp        | 0.453    |\n",
      "|    prob_true_act  | 0.649    |\n",
      "|    samples_so_far | 1556480  |\n",
      "--------------------------------\n"
     ]
    },
    {
     "name": "stderr",
     "output_type": "stream",
     "text": [
      "770batch [04:40,  2.95batch/s]"
     ]
    },
    {
     "name": "stdout",
     "output_type": "stream",
     "text": [
      "--------------------------------\n",
      "| batch_size        | 2048     |\n",
      "| bc/               |          |\n",
      "|    batch          | 769      |\n",
      "|    ent_loss       | -0.00129 |\n",
      "|    entropy        | 1.29     |\n",
      "|    epoch          | 77       |\n",
      "|    l2_loss        | 0        |\n",
      "|    l2_norm        | 1.88e+03 |\n",
      "|    loss           | 0.475    |\n",
      "|    neglogp        | 0.476    |\n",
      "|    prob_true_act  | 0.646    |\n",
      "|    samples_so_far | 1576960  |\n",
      "--------------------------------\n"
     ]
    },
    {
     "name": "stderr",
     "output_type": "stream",
     "text": [
      "780batch [04:44,  2.86batch/s]"
     ]
    },
    {
     "name": "stdout",
     "output_type": "stream",
     "text": [
      "--------------------------------\n",
      "| batch_size        | 2048     |\n",
      "| bc/               |          |\n",
      "|    batch          | 779      |\n",
      "|    ent_loss       | -0.00127 |\n",
      "|    entropy        | 1.27     |\n",
      "|    epoch          | 78       |\n",
      "|    l2_loss        | 0        |\n",
      "|    l2_norm        | 1.91e+03 |\n",
      "|    loss           | 0.409    |\n",
      "|    neglogp        | 0.411    |\n",
      "|    prob_true_act  | 0.678    |\n",
      "|    samples_so_far | 1597440  |\n",
      "--------------------------------\n"
     ]
    },
    {
     "name": "stderr",
     "output_type": "stream",
     "text": [
      "790batch [04:48,  2.87batch/s]"
     ]
    },
    {
     "name": "stdout",
     "output_type": "stream",
     "text": [
      "--------------------------------\n",
      "| batch_size        | 2048     |\n",
      "| bc/               |          |\n",
      "|    batch          | 789      |\n",
      "|    ent_loss       | -0.00125 |\n",
      "|    entropy        | 1.25     |\n",
      "|    epoch          | 79       |\n",
      "|    l2_loss        | 0        |\n",
      "|    l2_norm        | 1.94e+03 |\n",
      "|    loss           | 0.419    |\n",
      "|    neglogp        | 0.421    |\n",
      "|    prob_true_act  | 0.679    |\n",
      "|    samples_so_far | 1617920  |\n",
      "--------------------------------\n"
     ]
    },
    {
     "name": "stderr",
     "output_type": "stream",
     "text": [
      "800batch [04:51,  2.98batch/s]"
     ]
    },
    {
     "name": "stdout",
     "output_type": "stream",
     "text": [
      "--------------------------------\n",
      "| batch_size        | 2048     |\n",
      "| bc/               |          |\n",
      "|    batch          | 799      |\n",
      "|    ent_loss       | -0.00123 |\n",
      "|    entropy        | 1.23     |\n",
      "|    epoch          | 80       |\n",
      "|    l2_loss        | 0        |\n",
      "|    l2_norm        | 1.97e+03 |\n",
      "|    loss           | 0.38     |\n",
      "|    neglogp        | 0.381    |\n",
      "|    prob_true_act  | 0.701    |\n",
      "|    samples_so_far | 1638400  |\n",
      "--------------------------------\n"
     ]
    },
    {
     "name": "stderr",
     "output_type": "stream",
     "text": [
      "810batch [04:55,  2.84batch/s]"
     ]
    },
    {
     "name": "stdout",
     "output_type": "stream",
     "text": [
      "--------------------------------\n",
      "| batch_size        | 2048     |\n",
      "| bc/               |          |\n",
      "|    batch          | 809      |\n",
      "|    ent_loss       | -0.00122 |\n",
      "|    entropy        | 1.22     |\n",
      "|    epoch          | 81       |\n",
      "|    l2_loss        | 0        |\n",
      "|    l2_norm        | 2e+03    |\n",
      "|    loss           | 0.378    |\n",
      "|    neglogp        | 0.379    |\n",
      "|    prob_true_act  | 0.707    |\n",
      "|    samples_so_far | 1658880  |\n",
      "--------------------------------\n"
     ]
    },
    {
     "name": "stderr",
     "output_type": "stream",
     "text": [
      "820batch [04:58,  2.93batch/s]"
     ]
    },
    {
     "name": "stdout",
     "output_type": "stream",
     "text": [
      "--------------------------------\n",
      "| batch_size        | 2048     |\n",
      "| bc/               |          |\n",
      "|    batch          | 819      |\n",
      "|    ent_loss       | -0.0012  |\n",
      "|    entropy        | 1.2      |\n",
      "|    epoch          | 82       |\n",
      "|    l2_loss        | 0        |\n",
      "|    l2_norm        | 2.02e+03 |\n",
      "|    loss           | 0.334    |\n",
      "|    neglogp        | 0.335    |\n",
      "|    prob_true_act  | 0.735    |\n",
      "|    samples_so_far | 1679360  |\n",
      "--------------------------------\n"
     ]
    },
    {
     "name": "stderr",
     "output_type": "stream",
     "text": [
      "830batch [05:03,  2.43batch/s]"
     ]
    },
    {
     "name": "stdout",
     "output_type": "stream",
     "text": [
      "--------------------------------\n",
      "| batch_size        | 2048     |\n",
      "| bc/               |          |\n",
      "|    batch          | 829      |\n",
      "|    ent_loss       | -0.00118 |\n",
      "|    entropy        | 1.18     |\n",
      "|    epoch          | 83       |\n",
      "|    l2_loss        | 0        |\n",
      "|    l2_norm        | 2.05e+03 |\n",
      "|    loss           | 0.341    |\n",
      "|    neglogp        | 0.342    |\n",
      "|    prob_true_act  | 0.734    |\n",
      "|    samples_so_far | 1699840  |\n",
      "--------------------------------\n"
     ]
    },
    {
     "name": "stderr",
     "output_type": "stream",
     "text": [
      "840batch [05:06,  2.94batch/s]"
     ]
    },
    {
     "name": "stdout",
     "output_type": "stream",
     "text": [
      "--------------------------------\n",
      "| batch_size        | 2048     |\n",
      "| bc/               |          |\n",
      "|    batch          | 839      |\n",
      "|    ent_loss       | -0.00116 |\n",
      "|    entropy        | 1.16     |\n",
      "|    epoch          | 84       |\n",
      "|    l2_loss        | 0        |\n",
      "|    l2_norm        | 2.07e+03 |\n",
      "|    loss           | 0.289    |\n",
      "|    neglogp        | 0.29     |\n",
      "|    prob_true_act  | 0.765    |\n",
      "|    samples_so_far | 1720320  |\n",
      "--------------------------------\n"
     ]
    },
    {
     "name": "stderr",
     "output_type": "stream",
     "text": [
      "850batch [05:10,  2.97batch/s]"
     ]
    },
    {
     "name": "stdout",
     "output_type": "stream",
     "text": [
      "--------------------------------\n",
      "| batch_size        | 2048     |\n",
      "| bc/               |          |\n",
      "|    batch          | 849      |\n",
      "|    ent_loss       | -0.00114 |\n",
      "|    entropy        | 1.14     |\n",
      "|    epoch          | 85       |\n",
      "|    l2_loss        | 0        |\n",
      "|    l2_norm        | 2.1e+03  |\n",
      "|    loss           | 0.285    |\n",
      "|    neglogp        | 0.286    |\n",
      "|    prob_true_act  | 0.774    |\n",
      "|    samples_so_far | 1740800  |\n",
      "--------------------------------\n"
     ]
    },
    {
     "name": "stderr",
     "output_type": "stream",
     "text": [
      "860batch [05:13,  2.90batch/s]"
     ]
    },
    {
     "name": "stdout",
     "output_type": "stream",
     "text": [
      "--------------------------------\n",
      "| batch_size        | 2048     |\n",
      "| bc/               |          |\n",
      "|    batch          | 859      |\n",
      "|    ent_loss       | -0.00112 |\n",
      "|    entropy        | 1.12     |\n",
      "|    epoch          | 86       |\n",
      "|    l2_loss        | 0        |\n",
      "|    l2_norm        | 2.12e+03 |\n",
      "|    loss           | 0.249    |\n",
      "|    neglogp        | 0.251    |\n",
      "|    prob_true_act  | 0.798    |\n",
      "|    samples_so_far | 1761280  |\n",
      "--------------------------------\n"
     ]
    },
    {
     "name": "stderr",
     "output_type": "stream",
     "text": [
      "870batch [05:17,  2.95batch/s]"
     ]
    },
    {
     "name": "stdout",
     "output_type": "stream",
     "text": [
      "--------------------------------\n",
      "| batch_size        | 2048     |\n",
      "| bc/               |          |\n",
      "|    batch          | 869      |\n",
      "|    ent_loss       | -0.0011  |\n",
      "|    entropy        | 1.1      |\n",
      "|    epoch          | 87       |\n",
      "|    l2_loss        | 0        |\n",
      "|    l2_norm        | 2.15e+03 |\n",
      "|    loss           | 0.234    |\n",
      "|    neglogp        | 0.235    |\n",
      "|    prob_true_act  | 0.81     |\n",
      "|    samples_so_far | 1781760  |\n",
      "--------------------------------\n"
     ]
    },
    {
     "name": "stderr",
     "output_type": "stream",
     "text": [
      "880batch [05:21,  2.93batch/s]"
     ]
    },
    {
     "name": "stdout",
     "output_type": "stream",
     "text": [
      "--------------------------------\n",
      "| batch_size        | 2048     |\n",
      "| bc/               |          |\n",
      "|    batch          | 879      |\n",
      "|    ent_loss       | -0.00108 |\n",
      "|    entropy        | 1.08     |\n",
      "|    epoch          | 88       |\n",
      "|    l2_loss        | 0        |\n",
      "|    l2_norm        | 2.17e+03 |\n",
      "|    loss           | 0.21     |\n",
      "|    neglogp        | 0.211    |\n",
      "|    prob_true_act  | 0.826    |\n",
      "|    samples_so_far | 1802240  |\n",
      "--------------------------------\n"
     ]
    },
    {
     "name": "stderr",
     "output_type": "stream",
     "text": [
      "890batch [05:24,  2.95batch/s]"
     ]
    },
    {
     "name": "stdout",
     "output_type": "stream",
     "text": [
      "--------------------------------\n",
      "| batch_size        | 2048     |\n",
      "| bc/               |          |\n",
      "|    batch          | 889      |\n",
      "|    ent_loss       | -0.00106 |\n",
      "|    entropy        | 1.06     |\n",
      "|    epoch          | 89       |\n",
      "|    l2_loss        | 0        |\n",
      "|    l2_norm        | 2.2e+03  |\n",
      "|    loss           | 0.207    |\n",
      "|    neglogp        | 0.208    |\n",
      "|    prob_true_act  | 0.835    |\n",
      "|    samples_so_far | 1822720  |\n",
      "--------------------------------\n"
     ]
    },
    {
     "name": "stderr",
     "output_type": "stream",
     "text": [
      "900batch [05:28,  2.95batch/s]"
     ]
    },
    {
     "name": "stdout",
     "output_type": "stream",
     "text": [
      "--------------------------------\n",
      "| batch_size        | 2048     |\n",
      "| bc/               |          |\n",
      "|    batch          | 899      |\n",
      "|    ent_loss       | -0.00104 |\n",
      "|    entropy        | 1.04     |\n",
      "|    epoch          | 90       |\n",
      "|    l2_loss        | 0        |\n",
      "|    l2_norm        | 2.22e+03 |\n",
      "|    loss           | 0.203    |\n",
      "|    neglogp        | 0.204    |\n",
      "|    prob_true_act  | 0.839    |\n",
      "|    samples_so_far | 1843200  |\n",
      "--------------------------------\n"
     ]
    },
    {
     "name": "stderr",
     "output_type": "stream",
     "text": [
      "910batch [05:31,  2.99batch/s]"
     ]
    },
    {
     "name": "stdout",
     "output_type": "stream",
     "text": [
      "--------------------------------\n",
      "| batch_size        | 2048     |\n",
      "| bc/               |          |\n",
      "|    batch          | 909      |\n",
      "|    ent_loss       | -0.00102 |\n",
      "|    entropy        | 1.02     |\n",
      "|    epoch          | 91       |\n",
      "|    l2_loss        | 0        |\n",
      "|    l2_norm        | 2.25e+03 |\n",
      "|    loss           | 0.159    |\n",
      "|    neglogp        | 0.16     |\n",
      "|    prob_true_act  | 0.875    |\n",
      "|    samples_so_far | 1863680  |\n",
      "--------------------------------\n"
     ]
    },
    {
     "name": "stderr",
     "output_type": "stream",
     "text": [
      "920batch [05:35,  2.98batch/s]"
     ]
    },
    {
     "name": "stdout",
     "output_type": "stream",
     "text": [
      "---------------------------------\n",
      "| batch_size        | 2048      |\n",
      "| bc/               |           |\n",
      "|    batch          | 919       |\n",
      "|    ent_loss       | -0.000999 |\n",
      "|    entropy        | 0.999     |\n",
      "|    epoch          | 92        |\n",
      "|    l2_loss        | 0         |\n",
      "|    l2_norm        | 2.27e+03  |\n",
      "|    loss           | 0.13      |\n",
      "|    neglogp        | 0.131     |\n",
      "|    prob_true_act  | 0.895     |\n",
      "|    samples_so_far | 1884160   |\n",
      "---------------------------------\n"
     ]
    },
    {
     "name": "stderr",
     "output_type": "stream",
     "text": [
      "930batch [05:38,  2.92batch/s]"
     ]
    },
    {
     "name": "stdout",
     "output_type": "stream",
     "text": [
      "---------------------------------\n",
      "| batch_size        | 2048      |\n",
      "| bc/               |           |\n",
      "|    batch          | 929       |\n",
      "|    ent_loss       | -0.000979 |\n",
      "|    entropy        | 0.979     |\n",
      "|    epoch          | 93        |\n",
      "|    l2_loss        | 0         |\n",
      "|    l2_norm        | 2.3e+03   |\n",
      "|    loss           | 0.13      |\n",
      "|    neglogp        | 0.131     |\n",
      "|    prob_true_act  | 0.9       |\n",
      "|    samples_so_far | 1904640   |\n",
      "---------------------------------\n"
     ]
    },
    {
     "name": "stderr",
     "output_type": "stream",
     "text": [
      "940batch [05:43,  1.81batch/s]"
     ]
    },
    {
     "name": "stdout",
     "output_type": "stream",
     "text": [
      "--------------------------------\n",
      "| batch_size        | 2048     |\n",
      "| bc/               |          |\n",
      "|    batch          | 939      |\n",
      "|    ent_loss       | -0.00096 |\n",
      "|    entropy        | 0.96     |\n",
      "|    epoch          | 94       |\n",
      "|    l2_loss        | 0        |\n",
      "|    l2_norm        | 2.32e+03 |\n",
      "|    loss           | 0.0895   |\n",
      "|    neglogp        | 0.0905   |\n",
      "|    prob_true_act  | 0.937    |\n",
      "|    samples_so_far | 1925120  |\n",
      "--------------------------------\n"
     ]
    },
    {
     "name": "stderr",
     "output_type": "stream",
     "text": [
      "950batch [05:47,  2.89batch/s]"
     ]
    },
    {
     "name": "stdout",
     "output_type": "stream",
     "text": [
      "--------------------------------\n",
      "| batch_size        | 2048     |\n",
      "| bc/               |          |\n",
      "|    batch          | 949      |\n",
      "|    ent_loss       | -0.00094 |\n",
      "|    entropy        | 0.94     |\n",
      "|    epoch          | 95       |\n",
      "|    l2_loss        | 0        |\n",
      "|    l2_norm        | 2.34e+03 |\n",
      "|    loss           | 0.0707   |\n",
      "|    neglogp        | 0.0716   |\n",
      "|    prob_true_act  | 0.956    |\n",
      "|    samples_so_far | 1945600  |\n",
      "--------------------------------\n"
     ]
    },
    {
     "name": "stderr",
     "output_type": "stream",
     "text": [
      "960batch [05:50,  3.00batch/s]"
     ]
    },
    {
     "name": "stdout",
     "output_type": "stream",
     "text": [
      "---------------------------------\n",
      "| batch_size        | 2048      |\n",
      "| bc/               |           |\n",
      "|    batch          | 959       |\n",
      "|    ent_loss       | -0.000919 |\n",
      "|    entropy        | 0.919     |\n",
      "|    epoch          | 96        |\n",
      "|    l2_loss        | 0         |\n",
      "|    l2_norm        | 2.36e+03  |\n",
      "|    loss           | 0.0348    |\n",
      "|    neglogp        | 0.0357    |\n",
      "|    prob_true_act  | 0.984     |\n",
      "|    samples_so_far | 1966080   |\n",
      "---------------------------------\n"
     ]
    },
    {
     "name": "stderr",
     "output_type": "stream",
     "text": [
      "970batch [05:54,  2.17batch/s]"
     ]
    },
    {
     "name": "stdout",
     "output_type": "stream",
     "text": [
      "---------------------------------\n",
      "| batch_size        | 2048      |\n",
      "| bc/               |           |\n",
      "|    batch          | 969       |\n",
      "|    ent_loss       | -0.000899 |\n",
      "|    entropy        | 0.899     |\n",
      "|    epoch          | 97        |\n",
      "|    l2_loss        | 0         |\n",
      "|    l2_norm        | 2.39e+03  |\n",
      "|    loss           | 0.0379    |\n",
      "|    neglogp        | 0.0388    |\n",
      "|    prob_true_act  | 0.986     |\n",
      "|    samples_so_far | 1986560   |\n",
      "---------------------------------\n"
     ]
    },
    {
     "name": "stderr",
     "output_type": "stream",
     "text": [
      "980batch [05:58,  2.87batch/s]"
     ]
    },
    {
     "name": "stdout",
     "output_type": "stream",
     "text": [
      "---------------------------------\n",
      "| batch_size        | 2048      |\n",
      "| bc/               |           |\n",
      "|    batch          | 979       |\n",
      "|    ent_loss       | -0.000879 |\n",
      "|    entropy        | 0.879     |\n",
      "|    epoch          | 98        |\n",
      "|    l2_loss        | 0         |\n",
      "|    l2_norm        | 2.41e+03  |\n",
      "|    loss           | 0.049     |\n",
      "|    neglogp        | 0.0499    |\n",
      "|    prob_true_act  | 0.981     |\n",
      "|    samples_so_far | 2007040   |\n",
      "---------------------------------\n"
     ]
    },
    {
     "name": "stderr",
     "output_type": "stream",
     "text": [
      "990batch [06:02,  2.99batch/s]"
     ]
    },
    {
     "name": "stdout",
     "output_type": "stream",
     "text": [
      "---------------------------------\n",
      "| batch_size        | 2048      |\n",
      "| bc/               |           |\n",
      "|    batch          | 989       |\n",
      "|    ent_loss       | -0.000859 |\n",
      "|    entropy        | 0.859     |\n",
      "|    epoch          | 99        |\n",
      "|    l2_loss        | 0         |\n",
      "|    l2_norm        | 2.44e+03  |\n",
      "|    loss           | -0.00214  |\n",
      "|    neglogp        | -0.00128  |\n",
      "|    prob_true_act  | 1.02      |\n",
      "|    samples_so_far | 2027520   |\n",
      "---------------------------------\n"
     ]
    },
    {
     "name": "stderr",
     "output_type": "stream",
     "text": [
      "1000batch [06:05,  2.64batch/s]"
     ]
    },
    {
     "name": "stdout",
     "output_type": "stream",
     "text": [
      "--------------------------------\n",
      "| batch_size        | 2048     |\n",
      "| bc/               |          |\n",
      "|    batch          | 999      |\n",
      "|    ent_loss       | -0.00084 |\n",
      "|    entropy        | 0.84     |\n",
      "|    epoch          | 100      |\n",
      "|    l2_loss        | 0        |\n",
      "|    l2_norm        | 2.46e+03 |\n",
      "|    loss           | -0.0282  |\n",
      "|    neglogp        | -0.0274  |\n",
      "|    prob_true_act  | 1.05     |\n",
      "|    samples_so_far | 2048000  |\n",
      "--------------------------------\n"
     ]
    },
    {
     "name": "stderr",
     "output_type": "stream",
     "text": [
      "1010batch [06:09,  2.92batch/s]"
     ]
    },
    {
     "name": "stdout",
     "output_type": "stream",
     "text": [
      "--------------------------------\n",
      "| batch_size        | 2048     |\n",
      "| bc/               |          |\n",
      "|    batch          | 1009     |\n",
      "|    ent_loss       | -0.00082 |\n",
      "|    entropy        | 0.82     |\n",
      "|    epoch          | 101      |\n",
      "|    l2_loss        | 0        |\n",
      "|    l2_norm        | 2.49e+03 |\n",
      "|    loss           | -0.0534  |\n",
      "|    neglogp        | -0.0526  |\n",
      "|    prob_true_act  | 1.08     |\n",
      "|    samples_so_far | 2068480  |\n",
      "--------------------------------\n"
     ]
    },
    {
     "name": "stderr",
     "output_type": "stream",
     "text": [
      "1020batch [06:12,  3.01batch/s]"
     ]
    },
    {
     "name": "stdout",
     "output_type": "stream",
     "text": [
      "---------------------------------\n",
      "| batch_size        | 2048      |\n",
      "| bc/               |           |\n",
      "|    batch          | 1019      |\n",
      "|    ent_loss       | -0.000799 |\n",
      "|    entropy        | 0.799     |\n",
      "|    epoch          | 102       |\n",
      "|    l2_loss        | 0         |\n",
      "|    l2_norm        | 2.51e+03  |\n",
      "|    loss           | -0.0796   |\n",
      "|    neglogp        | -0.0788   |\n",
      "|    prob_true_act  | 1.11      |\n",
      "|    samples_so_far | 2088960   |\n",
      "---------------------------------\n"
     ]
    },
    {
     "name": "stderr",
     "output_type": "stream",
     "text": [
      "1030batch [06:16,  2.98batch/s]"
     ]
    },
    {
     "name": "stdout",
     "output_type": "stream",
     "text": [
      "---------------------------------\n",
      "| batch_size        | 2048      |\n",
      "| bc/               |           |\n",
      "|    batch          | 1029      |\n",
      "|    ent_loss       | -0.000779 |\n",
      "|    entropy        | 0.779     |\n",
      "|    epoch          | 103       |\n",
      "|    l2_loss        | 0         |\n",
      "|    l2_norm        | 2.53e+03  |\n",
      "|    loss           | -0.119    |\n",
      "|    neglogp        | -0.118    |\n",
      "|    prob_true_act  | 1.14      |\n",
      "|    samples_so_far | 2109440   |\n",
      "---------------------------------\n"
     ]
    },
    {
     "name": "stderr",
     "output_type": "stream",
     "text": [
      "1040batch [06:20,  2.97batch/s]"
     ]
    },
    {
     "name": "stdout",
     "output_type": "stream",
     "text": [
      "---------------------------------\n",
      "| batch_size        | 2048      |\n",
      "| bc/               |           |\n",
      "|    batch          | 1039      |\n",
      "|    ent_loss       | -0.000758 |\n",
      "|    entropy        | 0.758     |\n",
      "|    epoch          | 104       |\n",
      "|    l2_loss        | 0         |\n",
      "|    l2_norm        | 2.56e+03  |\n",
      "|    loss           | -0.116    |\n",
      "|    neglogp        | -0.116    |\n",
      "|    prob_true_act  | 1.15      |\n",
      "|    samples_so_far | 2129920   |\n",
      "---------------------------------\n"
     ]
    },
    {
     "name": "stderr",
     "output_type": "stream",
     "text": [
      "1050batch [06:23,  2.95batch/s]"
     ]
    },
    {
     "name": "stdout",
     "output_type": "stream",
     "text": [
      "---------------------------------\n",
      "| batch_size        | 2048      |\n",
      "| bc/               |           |\n",
      "|    batch          | 1049      |\n",
      "|    ent_loss       | -0.000738 |\n",
      "|    entropy        | 0.738     |\n",
      "|    epoch          | 105       |\n",
      "|    l2_loss        | 0         |\n",
      "|    l2_norm        | 2.58e+03  |\n",
      "|    loss           | -0.144    |\n",
      "|    neglogp        | -0.143    |\n",
      "|    prob_true_act  | 1.18      |\n",
      "|    samples_so_far | 2150400   |\n",
      "---------------------------------\n"
     ]
    },
    {
     "name": "stderr",
     "output_type": "stream",
     "text": [
      "1060batch [06:27,  2.95batch/s]"
     ]
    },
    {
     "name": "stdout",
     "output_type": "stream",
     "text": [
      "---------------------------------\n",
      "| batch_size        | 2048      |\n",
      "| bc/               |           |\n",
      "|    batch          | 1059      |\n",
      "|    ent_loss       | -0.000718 |\n",
      "|    entropy        | 0.718     |\n",
      "|    epoch          | 106       |\n",
      "|    l2_loss        | 0         |\n",
      "|    l2_norm        | 2.6e+03   |\n",
      "|    loss           | -0.162    |\n",
      "|    neglogp        | -0.161    |\n",
      "|    prob_true_act  | 1.2       |\n",
      "|    samples_so_far | 2170880   |\n",
      "---------------------------------\n"
     ]
    },
    {
     "name": "stderr",
     "output_type": "stream",
     "text": [
      "1070batch [06:31,  2.76batch/s]"
     ]
    },
    {
     "name": "stdout",
     "output_type": "stream",
     "text": [
      "---------------------------------\n",
      "| batch_size        | 2048      |\n",
      "| bc/               |           |\n",
      "|    batch          | 1069      |\n",
      "|    ent_loss       | -0.000698 |\n",
      "|    entropy        | 0.698     |\n",
      "|    epoch          | 107       |\n",
      "|    l2_loss        | 0         |\n",
      "|    l2_norm        | 2.63e+03  |\n",
      "|    loss           | -0.17     |\n",
      "|    neglogp        | -0.17     |\n",
      "|    prob_true_act  | 1.22      |\n",
      "|    samples_so_far | 2191360   |\n",
      "---------------------------------\n"
     ]
    },
    {
     "name": "stderr",
     "output_type": "stream",
     "text": [
      "1080batch [06:34,  2.91batch/s]"
     ]
    },
    {
     "name": "stdout",
     "output_type": "stream",
     "text": [
      "---------------------------------\n",
      "| batch_size        | 2048      |\n",
      "| bc/               |           |\n",
      "|    batch          | 1079      |\n",
      "|    ent_loss       | -0.000677 |\n",
      "|    entropy        | 0.677     |\n",
      "|    epoch          | 108       |\n",
      "|    l2_loss        | 0         |\n",
      "|    l2_norm        | 2.66e+03  |\n",
      "|    loss           | -0.204    |\n",
      "|    neglogp        | -0.203    |\n",
      "|    prob_true_act  | 1.25      |\n",
      "|    samples_so_far | 2211840   |\n",
      "---------------------------------\n"
     ]
    },
    {
     "name": "stderr",
     "output_type": "stream",
     "text": [
      "1090batch [06:38,  2.97batch/s]"
     ]
    },
    {
     "name": "stdout",
     "output_type": "stream",
     "text": [
      "---------------------------------\n",
      "| batch_size        | 2048      |\n",
      "| bc/               |           |\n",
      "|    batch          | 1089      |\n",
      "|    ent_loss       | -0.000657 |\n",
      "|    entropy        | 0.657     |\n",
      "|    epoch          | 109       |\n",
      "|    l2_loss        | 0         |\n",
      "|    l2_norm        | 2.68e+03  |\n",
      "|    loss           | -0.241    |\n",
      "|    neglogp        | -0.241    |\n",
      "|    prob_true_act  | 1.29      |\n",
      "|    samples_so_far | 2232320   |\n",
      "---------------------------------\n"
     ]
    },
    {
     "name": "stderr",
     "output_type": "stream",
     "text": [
      "1100batch [06:42,  2.90batch/s]"
     ]
    },
    {
     "name": "stdout",
     "output_type": "stream",
     "text": [
      "---------------------------------\n",
      "| batch_size        | 2048      |\n",
      "| bc/               |           |\n",
      "|    batch          | 1099      |\n",
      "|    ent_loss       | -0.000636 |\n",
      "|    entropy        | 0.636     |\n",
      "|    epoch          | 110       |\n",
      "|    l2_loss        | 0         |\n",
      "|    l2_norm        | 2.71e+03  |\n",
      "|    loss           | -0.253    |\n",
      "|    neglogp        | -0.253    |\n",
      "|    prob_true_act  | 1.31      |\n",
      "|    samples_so_far | 2252800   |\n",
      "---------------------------------\n"
     ]
    },
    {
     "name": "stderr",
     "output_type": "stream",
     "text": [
      "1110batch [06:45,  2.95batch/s]"
     ]
    },
    {
     "name": "stdout",
     "output_type": "stream",
     "text": [
      "---------------------------------\n",
      "| batch_size        | 2048      |\n",
      "| bc/               |           |\n",
      "|    batch          | 1109      |\n",
      "|    ent_loss       | -0.000616 |\n",
      "|    entropy        | 0.616     |\n",
      "|    epoch          | 111       |\n",
      "|    l2_loss        | 0         |\n",
      "|    l2_norm        | 2.73e+03  |\n",
      "|    loss           | -0.291    |\n",
      "|    neglogp        | -0.291    |\n",
      "|    prob_true_act  | 1.36      |\n",
      "|    samples_so_far | 2273280   |\n",
      "---------------------------------\n"
     ]
    },
    {
     "name": "stderr",
     "output_type": "stream",
     "text": [
      "1120batch [06:49,  2.55batch/s]"
     ]
    },
    {
     "name": "stdout",
     "output_type": "stream",
     "text": [
      "---------------------------------\n",
      "| batch_size        | 2048      |\n",
      "| bc/               |           |\n",
      "|    batch          | 1119      |\n",
      "|    ent_loss       | -0.000595 |\n",
      "|    entropy        | 0.595     |\n",
      "|    epoch          | 112       |\n",
      "|    l2_loss        | 0         |\n",
      "|    l2_norm        | 2.75e+03  |\n",
      "|    loss           | -0.306    |\n",
      "|    neglogp        | -0.305    |\n",
      "|    prob_true_act  | 1.38      |\n",
      "|    samples_so_far | 2293760   |\n",
      "---------------------------------\n"
     ]
    },
    {
     "name": "stderr",
     "output_type": "stream",
     "text": [
      "1130batch [06:53,  2.93batch/s]"
     ]
    },
    {
     "name": "stdout",
     "output_type": "stream",
     "text": [
      "---------------------------------\n",
      "| batch_size        | 2048      |\n",
      "| bc/               |           |\n",
      "|    batch          | 1129      |\n",
      "|    ent_loss       | -0.000575 |\n",
      "|    entropy        | 0.575     |\n",
      "|    epoch          | 113       |\n",
      "|    l2_loss        | 0         |\n",
      "|    l2_norm        | 2.77e+03  |\n",
      "|    loss           | -0.285    |\n",
      "|    neglogp        | -0.284    |\n",
      "|    prob_true_act  | 1.35      |\n",
      "|    samples_so_far | 2314240   |\n",
      "---------------------------------\n"
     ]
    },
    {
     "name": "stderr",
     "output_type": "stream",
     "text": [
      "1140batch [06:56,  2.35batch/s]"
     ]
    },
    {
     "name": "stdout",
     "output_type": "stream",
     "text": [
      "---------------------------------\n",
      "| batch_size        | 2048      |\n",
      "| bc/               |           |\n",
      "|    batch          | 1139      |\n",
      "|    ent_loss       | -0.000555 |\n",
      "|    entropy        | 0.555     |\n",
      "|    epoch          | 114       |\n",
      "|    l2_loss        | 0         |\n",
      "|    l2_norm        | 2.79e+03  |\n",
      "|    loss           | -0.315    |\n",
      "|    neglogp        | -0.314    |\n",
      "|    prob_true_act  | 1.4       |\n",
      "|    samples_so_far | 2334720   |\n",
      "---------------------------------\n"
     ]
    },
    {
     "name": "stderr",
     "output_type": "stream",
     "text": [
      "1150batch [07:00,  2.88batch/s]"
     ]
    },
    {
     "name": "stdout",
     "output_type": "stream",
     "text": [
      "---------------------------------\n",
      "| batch_size        | 2048      |\n",
      "| bc/               |           |\n",
      "|    batch          | 1149      |\n",
      "|    ent_loss       | -0.000534 |\n",
      "|    entropy        | 0.534     |\n",
      "|    epoch          | 115       |\n",
      "|    l2_loss        | 0         |\n",
      "|    l2_norm        | 2.82e+03  |\n",
      "|    loss           | -0.375    |\n",
      "|    neglogp        | -0.374    |\n",
      "|    prob_true_act  | 1.47      |\n",
      "|    samples_so_far | 2355200   |\n",
      "---------------------------------\n"
     ]
    },
    {
     "name": "stderr",
     "output_type": "stream",
     "text": [
      "1160batch [07:04,  2.97batch/s]"
     ]
    },
    {
     "name": "stdout",
     "output_type": "stream",
     "text": [
      "---------------------------------\n",
      "| batch_size        | 2048      |\n",
      "| bc/               |           |\n",
      "|    batch          | 1159      |\n",
      "|    ent_loss       | -0.000514 |\n",
      "|    entropy        | 0.514     |\n",
      "|    epoch          | 116       |\n",
      "|    l2_loss        | 0         |\n",
      "|    l2_norm        | 2.84e+03  |\n",
      "|    loss           | -0.384    |\n",
      "|    neglogp        | -0.384    |\n",
      "|    prob_true_act  | 1.49      |\n",
      "|    samples_so_far | 2375680   |\n",
      "---------------------------------\n"
     ]
    },
    {
     "name": "stderr",
     "output_type": "stream",
     "text": [
      "1170batch [07:07,  2.92batch/s]"
     ]
    },
    {
     "name": "stdout",
     "output_type": "stream",
     "text": [
      "---------------------------------\n",
      "| batch_size        | 2048      |\n",
      "| bc/               |           |\n",
      "|    batch          | 1169      |\n",
      "|    ent_loss       | -0.000493 |\n",
      "|    entropy        | 0.493     |\n",
      "|    epoch          | 117       |\n",
      "|    l2_loss        | 0         |\n",
      "|    l2_norm        | 2.86e+03  |\n",
      "|    loss           | -0.419    |\n",
      "|    neglogp        | -0.419    |\n",
      "|    prob_true_act  | 1.54      |\n",
      "|    samples_so_far | 2396160   |\n",
      "---------------------------------\n"
     ]
    },
    {
     "name": "stderr",
     "output_type": "stream",
     "text": [
      "1180batch [07:11,  2.96batch/s]"
     ]
    },
    {
     "name": "stdout",
     "output_type": "stream",
     "text": [
      "---------------------------------\n",
      "| batch_size        | 2048      |\n",
      "| bc/               |           |\n",
      "|    batch          | 1179      |\n",
      "|    ent_loss       | -0.000472 |\n",
      "|    entropy        | 0.472     |\n",
      "|    epoch          | 118       |\n",
      "|    l2_loss        | 0         |\n",
      "|    l2_norm        | 2.87e+03  |\n",
      "|    loss           | -0.444    |\n",
      "|    neglogp        | -0.443    |\n",
      "|    prob_true_act  | 1.58      |\n",
      "|    samples_so_far | 2416640   |\n",
      "---------------------------------\n"
     ]
    },
    {
     "name": "stderr",
     "output_type": "stream",
     "text": [
      "1190batch [07:14,  2.94batch/s]"
     ]
    },
    {
     "name": "stdout",
     "output_type": "stream",
     "text": [
      "---------------------------------\n",
      "| batch_size        | 2048      |\n",
      "| bc/               |           |\n",
      "|    batch          | 1189      |\n",
      "|    ent_loss       | -0.000451 |\n",
      "|    entropy        | 0.451     |\n",
      "|    epoch          | 119       |\n",
      "|    l2_loss        | 0         |\n",
      "|    l2_norm        | 2.89e+03  |\n",
      "|    loss           | -0.459    |\n",
      "|    neglogp        | -0.459    |\n",
      "|    prob_true_act  | 1.6       |\n",
      "|    samples_so_far | 2437120   |\n",
      "---------------------------------\n"
     ]
    },
    {
     "name": "stderr",
     "output_type": "stream",
     "text": [
      "1200batch [07:18,  3.00batch/s]"
     ]
    },
    {
     "name": "stdout",
     "output_type": "stream",
     "text": [
      "---------------------------------\n",
      "| batch_size        | 2048      |\n",
      "| bc/               |           |\n",
      "|    batch          | 1199      |\n",
      "|    ent_loss       | -0.000431 |\n",
      "|    entropy        | 0.431     |\n",
      "|    epoch          | 120       |\n",
      "|    l2_loss        | 0         |\n",
      "|    l2_norm        | 2.91e+03  |\n",
      "|    loss           | -0.425    |\n",
      "|    neglogp        | -0.425    |\n",
      "|    prob_true_act  | 1.56      |\n",
      "|    samples_so_far | 2457600   |\n",
      "---------------------------------\n"
     ]
    },
    {
     "name": "stderr",
     "output_type": "stream",
     "text": [
      "1210batch [07:21,  2.94batch/s]"
     ]
    },
    {
     "name": "stdout",
     "output_type": "stream",
     "text": [
      "--------------------------------\n",
      "| batch_size        | 2048     |\n",
      "| bc/               |          |\n",
      "|    batch          | 1209     |\n",
      "|    ent_loss       | -0.00041 |\n",
      "|    entropy        | 0.41     |\n",
      "|    epoch          | 121      |\n",
      "|    l2_loss        | 0        |\n",
      "|    l2_norm        | 2.94e+03 |\n",
      "|    loss           | -0.496   |\n",
      "|    neglogp        | -0.496   |\n",
      "|    prob_true_act  | 1.66     |\n",
      "|    samples_so_far | 2478080  |\n",
      "--------------------------------\n"
     ]
    },
    {
     "name": "stderr",
     "output_type": "stream",
     "text": [
      "1220batch [07:25,  2.43batch/s]"
     ]
    },
    {
     "name": "stdout",
     "output_type": "stream",
     "text": [
      "---------------------------------\n",
      "| batch_size        | 2048      |\n",
      "| bc/               |           |\n",
      "|    batch          | 1219      |\n",
      "|    ent_loss       | -0.000389 |\n",
      "|    entropy        | 0.389     |\n",
      "|    epoch          | 122       |\n",
      "|    l2_loss        | 0         |\n",
      "|    l2_norm        | 2.96e+03  |\n",
      "|    loss           | -0.512    |\n",
      "|    neglogp        | -0.511    |\n",
      "|    prob_true_act  | 1.69      |\n",
      "|    samples_so_far | 2498560   |\n",
      "---------------------------------\n"
     ]
    },
    {
     "name": "stderr",
     "output_type": "stream",
     "text": [
      "1230batch [07:29,  2.91batch/s]"
     ]
    },
    {
     "name": "stdout",
     "output_type": "stream",
     "text": [
      "---------------------------------\n",
      "| batch_size        | 2048      |\n",
      "| bc/               |           |\n",
      "|    batch          | 1229      |\n",
      "|    ent_loss       | -0.000368 |\n",
      "|    entropy        | 0.368     |\n",
      "|    epoch          | 123       |\n",
      "|    l2_loss        | 0         |\n",
      "|    l2_norm        | 2.97e+03  |\n",
      "|    loss           | -0.534    |\n",
      "|    neglogp        | -0.533    |\n",
      "|    prob_true_act  | 1.73      |\n",
      "|    samples_so_far | 2519040   |\n",
      "---------------------------------\n"
     ]
    },
    {
     "name": "stderr",
     "output_type": "stream",
     "text": [
      "1240batch [07:33,  2.95batch/s]"
     ]
    },
    {
     "name": "stdout",
     "output_type": "stream",
     "text": [
      "---------------------------------\n",
      "| batch_size        | 2048      |\n",
      "| bc/               |           |\n",
      "|    batch          | 1239      |\n",
      "|    ent_loss       | -0.000348 |\n",
      "|    entropy        | 0.348     |\n",
      "|    epoch          | 124       |\n",
      "|    l2_loss        | 0         |\n",
      "|    l2_norm        | 2.99e+03  |\n",
      "|    loss           | -0.567    |\n",
      "|    neglogp        | -0.567    |\n",
      "|    prob_true_act  | 1.78      |\n",
      "|    samples_so_far | 2539520   |\n",
      "---------------------------------\n"
     ]
    },
    {
     "name": "stderr",
     "output_type": "stream",
     "text": [
      "1250batch [07:36,  2.95batch/s]"
     ]
    },
    {
     "name": "stdout",
     "output_type": "stream",
     "text": [
      "---------------------------------\n",
      "| batch_size        | 2048      |\n",
      "| bc/               |           |\n",
      "|    batch          | 1249      |\n",
      "|    ent_loss       | -0.000327 |\n",
      "|    entropy        | 0.327     |\n",
      "|    epoch          | 125       |\n",
      "|    l2_loss        | 0         |\n",
      "|    l2_norm        | 3.01e+03  |\n",
      "|    loss           | -0.532    |\n",
      "|    neglogp        | -0.532    |\n",
      "|    prob_true_act  | 1.73      |\n",
      "|    samples_so_far | 2560000   |\n",
      "---------------------------------\n"
     ]
    },
    {
     "name": "stderr",
     "output_type": "stream",
     "text": [
      "1260batch [07:40,  2.90batch/s]"
     ]
    },
    {
     "name": "stdout",
     "output_type": "stream",
     "text": [
      "---------------------------------\n",
      "| batch_size        | 2048      |\n",
      "| bc/               |           |\n",
      "|    batch          | 1259      |\n",
      "|    ent_loss       | -0.000306 |\n",
      "|    entropy        | 0.306     |\n",
      "|    epoch          | 126       |\n",
      "|    l2_loss        | 0         |\n",
      "|    l2_norm        | 3.03e+03  |\n",
      "|    loss           | -0.591    |\n",
      "|    neglogp        | -0.59     |\n",
      "|    prob_true_act  | 1.83      |\n",
      "|    samples_so_far | 2580480   |\n",
      "---------------------------------\n"
     ]
    },
    {
     "name": "stderr",
     "output_type": "stream",
     "text": [
      "1270batch [07:43,  2.91batch/s]"
     ]
    },
    {
     "name": "stdout",
     "output_type": "stream",
     "text": [
      "---------------------------------\n",
      "| batch_size        | 2048      |\n",
      "| bc/               |           |\n",
      "|    batch          | 1269      |\n",
      "|    ent_loss       | -0.000285 |\n",
      "|    entropy        | 0.285     |\n",
      "|    epoch          | 127       |\n",
      "|    l2_loss        | 0         |\n",
      "|    l2_norm        | 3.05e+03  |\n",
      "|    loss           | -0.626    |\n",
      "|    neglogp        | -0.625    |\n",
      "|    prob_true_act  | 1.89      |\n",
      "|    samples_so_far | 2600960   |\n",
      "---------------------------------\n"
     ]
    },
    {
     "name": "stderr",
     "output_type": "stream",
     "text": [
      "1280batch [07:47,  2.99batch/s]"
     ]
    },
    {
     "name": "stdout",
     "output_type": "stream",
     "text": [
      "---------------------------------\n",
      "| batch_size        | 2048      |\n",
      "| bc/               |           |\n",
      "|    batch          | 1279      |\n",
      "|    ent_loss       | -0.000265 |\n",
      "|    entropy        | 0.265     |\n",
      "|    epoch          | 128       |\n",
      "|    l2_loss        | 0         |\n",
      "|    l2_norm        | 3.08e+03  |\n",
      "|    loss           | -0.599    |\n",
      "|    neglogp        | -0.598    |\n",
      "|    prob_true_act  | 1.85      |\n",
      "|    samples_so_far | 2621440   |\n",
      "---------------------------------\n"
     ]
    },
    {
     "name": "stderr",
     "output_type": "stream",
     "text": [
      "1290batch [07:52,  1.54batch/s]"
     ]
    },
    {
     "name": "stdout",
     "output_type": "stream",
     "text": [
      "---------------------------------\n",
      "| batch_size        | 2048      |\n",
      "| bc/               |           |\n",
      "|    batch          | 1289      |\n",
      "|    ent_loss       | -0.000244 |\n",
      "|    entropy        | 0.244     |\n",
      "|    epoch          | 129       |\n",
      "|    l2_loss        | 0         |\n",
      "|    l2_norm        | 3.1e+03   |\n",
      "|    loss           | -0.652    |\n",
      "|    neglogp        | -0.652    |\n",
      "|    prob_true_act  | 1.94      |\n",
      "|    samples_so_far | 2641920   |\n",
      "---------------------------------\n"
     ]
    },
    {
     "name": "stderr",
     "output_type": "stream",
     "text": [
      "1300batch [07:55,  2.78batch/s]"
     ]
    },
    {
     "name": "stdout",
     "output_type": "stream",
     "text": [
      "---------------------------------\n",
      "| batch_size        | 2048      |\n",
      "| bc/               |           |\n",
      "|    batch          | 1299      |\n",
      "|    ent_loss       | -0.000224 |\n",
      "|    entropy        | 0.224     |\n",
      "|    epoch          | 130       |\n",
      "|    l2_loss        | 0         |\n",
      "|    l2_norm        | 3.12e+03  |\n",
      "|    loss           | -0.682    |\n",
      "|    neglogp        | -0.682    |\n",
      "|    prob_true_act  | 2         |\n",
      "|    samples_so_far | 2662400   |\n",
      "---------------------------------\n"
     ]
    },
    {
     "name": "stderr",
     "output_type": "stream",
     "text": [
      "1310batch [07:59,  2.97batch/s]"
     ]
    },
    {
     "name": "stdout",
     "output_type": "stream",
     "text": [
      "---------------------------------\n",
      "| batch_size        | 2048      |\n",
      "| bc/               |           |\n",
      "|    batch          | 1309      |\n",
      "|    ent_loss       | -0.000203 |\n",
      "|    entropy        | 0.203     |\n",
      "|    epoch          | 131       |\n",
      "|    l2_loss        | 0         |\n",
      "|    l2_norm        | 3.13e+03  |\n",
      "|    loss           | -0.727    |\n",
      "|    neglogp        | -0.726    |\n",
      "|    prob_true_act  | 2.09      |\n",
      "|    samples_so_far | 2682880   |\n",
      "---------------------------------\n"
     ]
    },
    {
     "name": "stderr",
     "output_type": "stream",
     "text": [
      "1320batch [08:03,  2.96batch/s]"
     ]
    },
    {
     "name": "stdout",
     "output_type": "stream",
     "text": [
      "---------------------------------\n",
      "| batch_size        | 2048      |\n",
      "| bc/               |           |\n",
      "|    batch          | 1319      |\n",
      "|    ent_loss       | -0.000182 |\n",
      "|    entropy        | 0.182     |\n",
      "|    epoch          | 132       |\n",
      "|    l2_loss        | 0         |\n",
      "|    l2_norm        | 3.15e+03  |\n",
      "|    loss           | -0.75     |\n",
      "|    neglogp        | -0.75     |\n",
      "|    prob_true_act  | 2.13      |\n",
      "|    samples_so_far | 2703360   |\n",
      "---------------------------------\n"
     ]
    },
    {
     "name": "stderr",
     "output_type": "stream",
     "text": [
      "1330batch [08:06,  2.93batch/s]"
     ]
    },
    {
     "name": "stdout",
     "output_type": "stream",
     "text": [
      "---------------------------------\n",
      "| batch_size        | 2048      |\n",
      "| bc/               |           |\n",
      "|    batch          | 1329      |\n",
      "|    ent_loss       | -0.000161 |\n",
      "|    entropy        | 0.161     |\n",
      "|    epoch          | 133       |\n",
      "|    l2_loss        | 0         |\n",
      "|    l2_norm        | 3.17e+03  |\n",
      "|    loss           | -0.703    |\n",
      "|    neglogp        | -0.703    |\n",
      "|    prob_true_act  | 2.06      |\n",
      "|    samples_so_far | 2723840   |\n",
      "---------------------------------\n"
     ]
    },
    {
     "name": "stderr",
     "output_type": "stream",
     "text": [
      "1340batch [08:10,  2.89batch/s]"
     ]
    },
    {
     "name": "stdout",
     "output_type": "stream",
     "text": [
      "--------------------------------\n",
      "| batch_size        | 2048     |\n",
      "| bc/               |          |\n",
      "|    batch          | 1339     |\n",
      "|    ent_loss       | -0.00014 |\n",
      "|    entropy        | 0.14     |\n",
      "|    epoch          | 134      |\n",
      "|    l2_loss        | 0        |\n",
      "|    l2_norm        | 3.19e+03 |\n",
      "|    loss           | -0.787   |\n",
      "|    neglogp        | -0.787   |\n",
      "|    prob_true_act  | 2.22     |\n",
      "|    samples_so_far | 2744320  |\n",
      "--------------------------------\n"
     ]
    },
    {
     "name": "stderr",
     "output_type": "stream",
     "text": [
      "1350batch [08:14,  2.02batch/s]"
     ]
    },
    {
     "name": "stdout",
     "output_type": "stream",
     "text": [
      "---------------------------------\n",
      "| batch_size        | 2048      |\n",
      "| bc/               |           |\n",
      "|    batch          | 1349      |\n",
      "|    ent_loss       | -0.000119 |\n",
      "|    entropy        | 0.119     |\n",
      "|    epoch          | 135       |\n",
      "|    l2_loss        | 0         |\n",
      "|    l2_norm        | 3.2e+03   |\n",
      "|    loss           | -0.79     |\n",
      "|    neglogp        | -0.789    |\n",
      "|    prob_true_act  | 2.22      |\n",
      "|    samples_so_far | 2764800   |\n",
      "---------------------------------\n"
     ]
    },
    {
     "name": "stderr",
     "output_type": "stream",
     "text": [
      "1360batch [08:18,  2.91batch/s]"
     ]
    },
    {
     "name": "stdout",
     "output_type": "stream",
     "text": [
      "--------------------------------\n",
      "| batch_size        | 2048     |\n",
      "| bc/               |          |\n",
      "|    batch          | 1359     |\n",
      "|    ent_loss       | -9.8e-05 |\n",
      "|    entropy        | 0.098    |\n",
      "|    epoch          | 136      |\n",
      "|    l2_loss        | 0        |\n",
      "|    l2_norm        | 3.22e+03 |\n",
      "|    loss           | -0.826   |\n",
      "|    neglogp        | -0.826   |\n",
      "|    prob_true_act  | 2.31     |\n",
      "|    samples_so_far | 2785280  |\n",
      "--------------------------------\n"
     ]
    },
    {
     "name": "stderr",
     "output_type": "stream",
     "text": [
      "1370batch [08:22,  2.92batch/s]"
     ]
    },
    {
     "name": "stdout",
     "output_type": "stream",
     "text": [
      "--------------------------------\n",
      "| batch_size        | 2048     |\n",
      "| bc/               |          |\n",
      "|    batch          | 1369     |\n",
      "|    ent_loss       | -7.7e-05 |\n",
      "|    entropy        | 0.077    |\n",
      "|    epoch          | 137      |\n",
      "|    l2_loss        | 0        |\n",
      "|    l2_norm        | 3.24e+03 |\n",
      "|    loss           | -0.839   |\n",
      "|    neglogp        | -0.839   |\n",
      "|    prob_true_act  | 2.34     |\n",
      "|    samples_so_far | 2805760  |\n",
      "--------------------------------\n"
     ]
    },
    {
     "name": "stderr",
     "output_type": "stream",
     "text": [
      "1380batch [08:25,  2.96batch/s]"
     ]
    },
    {
     "name": "stdout",
     "output_type": "stream",
     "text": [
      "---------------------------------\n",
      "| batch_size        | 2048      |\n",
      "| bc/               |           |\n",
      "|    batch          | 1379      |\n",
      "|    ent_loss       | -5.61e-05 |\n",
      "|    entropy        | 0.0561    |\n",
      "|    epoch          | 138       |\n",
      "|    l2_loss        | 0         |\n",
      "|    l2_norm        | 3.26e+03  |\n",
      "|    loss           | -0.849    |\n",
      "|    neglogp        | -0.849    |\n",
      "|    prob_true_act  | 2.36      |\n",
      "|    samples_so_far | 2826240   |\n",
      "---------------------------------\n"
     ]
    },
    {
     "name": "stderr",
     "output_type": "stream",
     "text": [
      "1390batch [08:29,  2.68batch/s]"
     ]
    },
    {
     "name": "stdout",
     "output_type": "stream",
     "text": [
      "---------------------------------\n",
      "| batch_size        | 2048      |\n",
      "| bc/               |           |\n",
      "|    batch          | 1389      |\n",
      "|    ent_loss       | -3.54e-05 |\n",
      "|    entropy        | 0.0354    |\n",
      "|    epoch          | 139       |\n",
      "|    l2_loss        | 0         |\n",
      "|    l2_norm        | 3.27e+03  |\n",
      "|    loss           | -0.869    |\n",
      "|    neglogp        | -0.869    |\n",
      "|    prob_true_act  | 2.41      |\n",
      "|    samples_so_far | 2846720   |\n",
      "---------------------------------\n"
     ]
    },
    {
     "name": "stderr",
     "output_type": "stream",
     "text": [
      "1400batch [08:33,  2.77batch/s]"
     ]
    },
    {
     "name": "stdout",
     "output_type": "stream",
     "text": [
      "---------------------------------\n",
      "| batch_size        | 2048      |\n",
      "| bc/               |           |\n",
      "|    batch          | 1399      |\n",
      "|    ent_loss       | -1.48e-05 |\n",
      "|    entropy        | 0.0148    |\n",
      "|    epoch          | 140       |\n",
      "|    l2_loss        | 0         |\n",
      "|    l2_norm        | 3.29e+03  |\n",
      "|    loss           | -0.907    |\n",
      "|    neglogp        | -0.907    |\n",
      "|    prob_true_act  | 2.5       |\n",
      "|    samples_so_far | 2867200   |\n",
      "---------------------------------\n"
     ]
    },
    {
     "name": "stderr",
     "output_type": "stream",
     "text": [
      "1410batch [08:36,  2.96batch/s]"
     ]
    },
    {
     "name": "stdout",
     "output_type": "stream",
     "text": [
      "--------------------------------\n",
      "| batch_size        | 2048     |\n",
      "| bc/               |          |\n",
      "|    batch          | 1409     |\n",
      "|    ent_loss       | 5.93e-06 |\n",
      "|    entropy        | -0.00593 |\n",
      "|    epoch          | 141      |\n",
      "|    l2_loss        | 0        |\n",
      "|    l2_norm        | 3.31e+03 |\n",
      "|    loss           | -0.931   |\n",
      "|    neglogp        | -0.931   |\n",
      "|    prob_true_act  | 2.56     |\n",
      "|    samples_so_far | 2887680  |\n",
      "--------------------------------\n"
     ]
    },
    {
     "name": "stderr",
     "output_type": "stream",
     "text": [
      "1420batch [08:40,  2.98batch/s]"
     ]
    },
    {
     "name": "stdout",
     "output_type": "stream",
     "text": [
      "--------------------------------\n",
      "| batch_size        | 2048     |\n",
      "| bc/               |          |\n",
      "|    batch          | 1419     |\n",
      "|    ent_loss       | 2.69e-05 |\n",
      "|    entropy        | -0.0269  |\n",
      "|    epoch          | 142      |\n",
      "|    l2_loss        | 0        |\n",
      "|    l2_norm        | 3.33e+03 |\n",
      "|    loss           | -0.944   |\n",
      "|    neglogp        | -0.944   |\n",
      "|    prob_true_act  | 2.59     |\n",
      "|    samples_so_far | 2908160  |\n",
      "--------------------------------\n"
     ]
    },
    {
     "name": "stderr",
     "output_type": "stream",
     "text": [
      "1430batch [08:43,  2.73batch/s]"
     ]
    },
    {
     "name": "stdout",
     "output_type": "stream",
     "text": [
      "--------------------------------\n",
      "| batch_size        | 2048     |\n",
      "| bc/               |          |\n",
      "|    batch          | 1429     |\n",
      "|    ent_loss       | 4.79e-05 |\n",
      "|    entropy        | -0.0479  |\n",
      "|    epoch          | 143      |\n",
      "|    l2_loss        | 0        |\n",
      "|    l2_norm        | 3.34e+03 |\n",
      "|    loss           | -0.979   |\n",
      "|    neglogp        | -0.979   |\n",
      "|    prob_true_act  | 2.69     |\n",
      "|    samples_so_far | 2928640  |\n",
      "--------------------------------\n"
     ]
    },
    {
     "name": "stderr",
     "output_type": "stream",
     "text": [
      "1440batch [08:47,  2.83batch/s]"
     ]
    },
    {
     "name": "stdout",
     "output_type": "stream",
     "text": [
      "--------------------------------\n",
      "| batch_size        | 2048     |\n",
      "| bc/               |          |\n",
      "|    batch          | 1439     |\n",
      "|    ent_loss       | 6.89e-05 |\n",
      "|    entropy        | -0.0689  |\n",
      "|    epoch          | 144      |\n",
      "|    l2_loss        | 0        |\n",
      "|    l2_norm        | 3.35e+03 |\n",
      "|    loss           | -0.915   |\n",
      "|    neglogp        | -0.915   |\n",
      "|    prob_true_act  | 2.53     |\n",
      "|    samples_so_far | 2949120  |\n",
      "--------------------------------\n"
     ]
    },
    {
     "name": "stderr",
     "output_type": "stream",
     "text": [
      "1450batch [08:51,  2.95batch/s]"
     ]
    },
    {
     "name": "stdout",
     "output_type": "stream",
     "text": [
      "--------------------------------\n",
      "| batch_size        | 2048     |\n",
      "| bc/               |          |\n",
      "|    batch          | 1449     |\n",
      "|    ent_loss       | 8.95e-05 |\n",
      "|    entropy        | -0.0895  |\n",
      "|    epoch          | 145      |\n",
      "|    l2_loss        | 0        |\n",
      "|    l2_norm        | 3.37e+03 |\n",
      "|    loss           | -1.01    |\n",
      "|    neglogp        | -1.01    |\n",
      "|    prob_true_act  | 2.78     |\n",
      "|    samples_so_far | 2969600  |\n",
      "--------------------------------\n"
     ]
    },
    {
     "name": "stderr",
     "output_type": "stream",
     "text": [
      "1460batch [08:54,  2.73batch/s]"
     ]
    },
    {
     "name": "stdout",
     "output_type": "stream",
     "text": [
      "--------------------------------\n",
      "| batch_size        | 2048     |\n",
      "| bc/               |          |\n",
      "|    batch          | 1459     |\n",
      "|    ent_loss       | 0.00011  |\n",
      "|    entropy        | -0.11    |\n",
      "|    epoch          | 146      |\n",
      "|    l2_loss        | 0        |\n",
      "|    l2_norm        | 3.39e+03 |\n",
      "|    loss           | -1.04    |\n",
      "|    neglogp        | -1.04    |\n",
      "|    prob_true_act  | 2.84     |\n",
      "|    samples_so_far | 2990080  |\n",
      "--------------------------------\n"
     ]
    },
    {
     "name": "stderr",
     "output_type": "stream",
     "text": [
      "1470batch [08:58,  2.92batch/s]"
     ]
    },
    {
     "name": "stdout",
     "output_type": "stream",
     "text": [
      "--------------------------------\n",
      "| batch_size        | 2048     |\n",
      "| bc/               |          |\n",
      "|    batch          | 1469     |\n",
      "|    ent_loss       | 0.000131 |\n",
      "|    entropy        | -0.131   |\n",
      "|    epoch          | 147      |\n",
      "|    l2_loss        | 0        |\n",
      "|    l2_norm        | 3.4e+03  |\n",
      "|    loss           | -0.987   |\n",
      "|    neglogp        | -0.987   |\n",
      "|    prob_true_act  | 2.71     |\n",
      "|    samples_so_far | 3010560  |\n",
      "--------------------------------\n"
     ]
    },
    {
     "name": "stderr",
     "output_type": "stream",
     "text": [
      "1480batch [09:02,  2.96batch/s]"
     ]
    },
    {
     "name": "stdout",
     "output_type": "stream",
     "text": [
      "--------------------------------\n",
      "| batch_size        | 2048     |\n",
      "| bc/               |          |\n",
      "|    batch          | 1479     |\n",
      "|    ent_loss       | 0.000152 |\n",
      "|    entropy        | -0.152   |\n",
      "|    epoch          | 148      |\n",
      "|    l2_loss        | 0        |\n",
      "|    l2_norm        | 3.42e+03 |\n",
      "|    loss           | -1.06    |\n",
      "|    neglogp        | -1.06    |\n",
      "|    prob_true_act  | 2.91     |\n",
      "|    samples_so_far | 3031040  |\n",
      "--------------------------------\n"
     ]
    },
    {
     "name": "stderr",
     "output_type": "stream",
     "text": [
      "1490batch [09:06,  1.66batch/s]"
     ]
    },
    {
     "name": "stdout",
     "output_type": "stream",
     "text": [
      "--------------------------------\n",
      "| batch_size        | 2048     |\n",
      "| bc/               |          |\n",
      "|    batch          | 1489     |\n",
      "|    ent_loss       | 0.000172 |\n",
      "|    entropy        | -0.172   |\n",
      "|    epoch          | 149      |\n",
      "|    l2_loss        | 0        |\n",
      "|    l2_norm        | 3.43e+03 |\n",
      "|    loss           | -1.11    |\n",
      "|    neglogp        | -1.11    |\n",
      "|    prob_true_act  | 3.07     |\n",
      "|    samples_so_far | 3051520  |\n",
      "--------------------------------\n"
     ]
    },
    {
     "name": "stderr",
     "output_type": "stream",
     "text": [
      "1500batch [09:10,  2.88batch/s]"
     ]
    },
    {
     "name": "stdout",
     "output_type": "stream",
     "text": [
      "--------------------------------\n",
      "| batch_size        | 2048     |\n",
      "| bc/               |          |\n",
      "|    batch          | 1499     |\n",
      "|    ent_loss       | 0.000193 |\n",
      "|    entropy        | -0.193   |\n",
      "|    epoch          | 150      |\n",
      "|    l2_loss        | 0        |\n",
      "|    l2_norm        | 3.45e+03 |\n",
      "|    loss           | -1.09    |\n",
      "|    neglogp        | -1.09    |\n",
      "|    prob_true_act  | 3.03     |\n",
      "|    samples_so_far | 3072000  |\n",
      "--------------------------------\n"
     ]
    },
    {
     "name": "stderr",
     "output_type": "stream",
     "text": [
      "1510batch [09:14,  2.93batch/s]"
     ]
    },
    {
     "name": "stdout",
     "output_type": "stream",
     "text": [
      "--------------------------------\n",
      "| batch_size        | 2048     |\n",
      "| bc/               |          |\n",
      "|    batch          | 1509     |\n",
      "|    ent_loss       | 0.000214 |\n",
      "|    entropy        | -0.214   |\n",
      "|    epoch          | 151      |\n",
      "|    l2_loss        | 0        |\n",
      "|    l2_norm        | 3.46e+03 |\n",
      "|    loss           | -1.12    |\n",
      "|    neglogp        | -1.12    |\n",
      "|    prob_true_act  | 3.1      |\n",
      "|    samples_so_far | 3092480  |\n",
      "--------------------------------\n"
     ]
    },
    {
     "name": "stderr",
     "output_type": "stream",
     "text": [
      "1520batch [09:17,  2.97batch/s]"
     ]
    },
    {
     "name": "stdout",
     "output_type": "stream",
     "text": [
      "--------------------------------\n",
      "| batch_size        | 2048     |\n",
      "| bc/               |          |\n",
      "|    batch          | 1519     |\n",
      "|    ent_loss       | 0.000235 |\n",
      "|    entropy        | -0.235   |\n",
      "|    epoch          | 152      |\n",
      "|    l2_loss        | 0        |\n",
      "|    l2_norm        | 3.48e+03 |\n",
      "|    loss           | -1.01    |\n",
      "|    neglogp        | -1.01    |\n",
      "|    prob_true_act  | 2.8      |\n",
      "|    samples_so_far | 3112960  |\n",
      "--------------------------------\n"
     ]
    },
    {
     "name": "stderr",
     "output_type": "stream",
     "text": [
      "1530batch [09:21,  2.89batch/s]"
     ]
    },
    {
     "name": "stdout",
     "output_type": "stream",
     "text": [
      "--------------------------------\n",
      "| batch_size        | 2048     |\n",
      "| bc/               |          |\n",
      "|    batch          | 1529     |\n",
      "|    ent_loss       | 0.000255 |\n",
      "|    entropy        | -0.255   |\n",
      "|    epoch          | 153      |\n",
      "|    l2_loss        | 0        |\n",
      "|    l2_norm        | 3.5e+03  |\n",
      "|    loss           | -1.16    |\n",
      "|    neglogp        | -1.16    |\n",
      "|    prob_true_act  | 3.23     |\n",
      "|    samples_so_far | 3133440  |\n",
      "--------------------------------\n"
     ]
    },
    {
     "name": "stderr",
     "output_type": "stream",
     "text": [
      "1540batch [09:24,  2.92batch/s]"
     ]
    },
    {
     "name": "stdout",
     "output_type": "stream",
     "text": [
      "--------------------------------\n",
      "| batch_size        | 2048     |\n",
      "| bc/               |          |\n",
      "|    batch          | 1539     |\n",
      "|    ent_loss       | 0.000274 |\n",
      "|    entropy        | -0.274   |\n",
      "|    epoch          | 154      |\n",
      "|    l2_loss        | 0        |\n",
      "|    l2_norm        | 3.53e+03 |\n",
      "|    loss           | -1.14    |\n",
      "|    neglogp        | -1.14    |\n",
      "|    prob_true_act  | 3.18     |\n",
      "|    samples_so_far | 3153920  |\n",
      "--------------------------------\n"
     ]
    },
    {
     "name": "stderr",
     "output_type": "stream",
     "text": [
      "1550batch [09:28,  2.88batch/s]"
     ]
    },
    {
     "name": "stdout",
     "output_type": "stream",
     "text": [
      "--------------------------------\n",
      "| batch_size        | 2048     |\n",
      "| bc/               |          |\n",
      "|    batch          | 1549     |\n",
      "|    ent_loss       | 0.000292 |\n",
      "|    entropy        | -0.292   |\n",
      "|    epoch          | 155      |\n",
      "|    l2_loss        | 0        |\n",
      "|    l2_norm        | 3.56e+03 |\n",
      "|    loss           | -1.15    |\n",
      "|    neglogp        | -1.15    |\n",
      "|    prob_true_act  | 3.22     |\n",
      "|    samples_so_far | 3174400  |\n",
      "--------------------------------\n"
     ]
    },
    {
     "name": "stderr",
     "output_type": "stream",
     "text": [
      "1560batch [09:32,  2.95batch/s]"
     ]
    },
    {
     "name": "stdout",
     "output_type": "stream",
     "text": [
      "--------------------------------\n",
      "| batch_size        | 2048     |\n",
      "| bc/               |          |\n",
      "|    batch          | 1559     |\n",
      "|    ent_loss       | 0.000311 |\n",
      "|    entropy        | -0.311   |\n",
      "|    epoch          | 156      |\n",
      "|    l2_loss        | 0        |\n",
      "|    l2_norm        | 3.59e+03 |\n",
      "|    loss           | -1.16    |\n",
      "|    neglogp        | -1.16    |\n",
      "|    prob_true_act  | 3.25     |\n",
      "|    samples_so_far | 3194880  |\n",
      "--------------------------------\n"
     ]
    },
    {
     "name": "stderr",
     "output_type": "stream",
     "text": [
      "1570batch [09:36,  2.45batch/s]"
     ]
    },
    {
     "name": "stdout",
     "output_type": "stream",
     "text": [
      "--------------------------------\n",
      "| batch_size        | 2048     |\n",
      "| bc/               |          |\n",
      "|    batch          | 1569     |\n",
      "|    ent_loss       | 0.000331 |\n",
      "|    entropy        | -0.331   |\n",
      "|    epoch          | 157      |\n",
      "|    l2_loss        | 0        |\n",
      "|    l2_norm        | 3.61e+03 |\n",
      "|    loss           | -1.25    |\n",
      "|    neglogp        | -1.25    |\n",
      "|    prob_true_act  | 3.54     |\n",
      "|    samples_so_far | 3215360  |\n",
      "--------------------------------\n"
     ]
    },
    {
     "name": "stderr",
     "output_type": "stream",
     "text": [
      "1580batch [09:39,  2.92batch/s]"
     ]
    },
    {
     "name": "stdout",
     "output_type": "stream",
     "text": [
      "--------------------------------\n",
      "| batch_size        | 2048     |\n",
      "| bc/               |          |\n",
      "|    batch          | 1579     |\n",
      "|    ent_loss       | 0.000351 |\n",
      "|    entropy        | -0.351   |\n",
      "|    epoch          | 158      |\n",
      "|    l2_loss        | 0        |\n",
      "|    l2_norm        | 3.63e+03 |\n",
      "|    loss           | -1.27    |\n",
      "|    neglogp        | -1.27    |\n",
      "|    prob_true_act  | 3.59     |\n",
      "|    samples_so_far | 3235840  |\n",
      "--------------------------------\n"
     ]
    },
    {
     "name": "stderr",
     "output_type": "stream",
     "text": [
      "1590batch [09:43,  2.93batch/s]"
     ]
    },
    {
     "name": "stdout",
     "output_type": "stream",
     "text": [
      "--------------------------------\n",
      "| batch_size        | 2048     |\n",
      "| bc/               |          |\n",
      "|    batch          | 1589     |\n",
      "|    ent_loss       | 0.000371 |\n",
      "|    entropy        | -0.371   |\n",
      "|    epoch          | 159      |\n",
      "|    l2_loss        | 0        |\n",
      "|    l2_norm        | 3.65e+03 |\n",
      "|    loss           | -1.3     |\n",
      "|    neglogp        | -1.3     |\n",
      "|    prob_true_act  | 3.7      |\n",
      "|    samples_so_far | 3256320  |\n",
      "--------------------------------\n"
     ]
    },
    {
     "name": "stderr",
     "output_type": "stream",
     "text": [
      "1600batch [09:47,  2.69batch/s]"
     ]
    },
    {
     "name": "stdout",
     "output_type": "stream",
     "text": [
      "--------------------------------\n",
      "| batch_size        | 2048     |\n",
      "| bc/               |          |\n",
      "|    batch          | 1599     |\n",
      "|    ent_loss       | 0.000392 |\n",
      "|    entropy        | -0.392   |\n",
      "|    epoch          | 160      |\n",
      "|    l2_loss        | 0        |\n",
      "|    l2_norm        | 3.66e+03 |\n",
      "|    loss           | -1.33    |\n",
      "|    neglogp        | -1.33    |\n",
      "|    prob_true_act  | 3.81     |\n",
      "|    samples_so_far | 3276800  |\n",
      "--------------------------------\n"
     ]
    },
    {
     "name": "stderr",
     "output_type": "stream",
     "text": [
      "1610batch [09:50,  2.93batch/s]"
     ]
    },
    {
     "name": "stdout",
     "output_type": "stream",
     "text": [
      "--------------------------------\n",
      "| batch_size        | 2048     |\n",
      "| bc/               |          |\n",
      "|    batch          | 1609     |\n",
      "|    ent_loss       | 0.000413 |\n",
      "|    entropy        | -0.413   |\n",
      "|    epoch          | 161      |\n",
      "|    l2_loss        | 0        |\n",
      "|    l2_norm        | 3.67e+03 |\n",
      "|    loss           | -1.35    |\n",
      "|    neglogp        | -1.35    |\n",
      "|    prob_true_act  | 3.9      |\n",
      "|    samples_so_far | 3297280  |\n",
      "--------------------------------\n"
     ]
    },
    {
     "name": "stderr",
     "output_type": "stream",
     "text": [
      "1620batch [09:54,  2.93batch/s]"
     ]
    },
    {
     "name": "stdout",
     "output_type": "stream",
     "text": [
      "--------------------------------\n",
      "| batch_size        | 2048     |\n",
      "| bc/               |          |\n",
      "|    batch          | 1619     |\n",
      "|    ent_loss       | 0.000435 |\n",
      "|    entropy        | -0.435   |\n",
      "|    epoch          | 162      |\n",
      "|    l2_loss        | 0        |\n",
      "|    l2_norm        | 3.68e+03 |\n",
      "|    loss           | -1.37    |\n",
      "|    neglogp        | -1.37    |\n",
      "|    prob_true_act  | 3.98     |\n",
      "|    samples_so_far | 3317760  |\n",
      "--------------------------------\n"
     ]
    },
    {
     "name": "stderr",
     "output_type": "stream",
     "text": [
      "1630batch [09:58,  2.78batch/s]"
     ]
    },
    {
     "name": "stdout",
     "output_type": "stream",
     "text": [
      "--------------------------------\n",
      "| batch_size        | 2048     |\n",
      "| bc/               |          |\n",
      "|    batch          | 1629     |\n",
      "|    ent_loss       | 0.000456 |\n",
      "|    entropy        | -0.456   |\n",
      "|    epoch          | 163      |\n",
      "|    l2_loss        | 0        |\n",
      "|    l2_norm        | 3.69e+03 |\n",
      "|    loss           | -1.41    |\n",
      "|    neglogp        | -1.41    |\n",
      "|    prob_true_act  | 4.12     |\n",
      "|    samples_so_far | 3338240  |\n",
      "--------------------------------\n"
     ]
    },
    {
     "name": "stderr",
     "output_type": "stream",
     "text": [
      "1640batch [10:01,  2.96batch/s]"
     ]
    },
    {
     "name": "stdout",
     "output_type": "stream",
     "text": [
      "--------------------------------\n",
      "| batch_size        | 2048     |\n",
      "| bc/               |          |\n",
      "|    batch          | 1639     |\n",
      "|    ent_loss       | 0.000477 |\n",
      "|    entropy        | -0.477   |\n",
      "|    epoch          | 164      |\n",
      "|    l2_loss        | 0        |\n",
      "|    l2_norm        | 3.7e+03  |\n",
      "|    loss           | -1.37    |\n",
      "|    neglogp        | -1.37    |\n",
      "|    prob_true_act  | 3.99     |\n",
      "|    samples_so_far | 3358720  |\n",
      "--------------------------------\n"
     ]
    },
    {
     "name": "stderr",
     "output_type": "stream",
     "text": [
      "1650batch [10:05,  2.94batch/s]"
     ]
    },
    {
     "name": "stdout",
     "output_type": "stream",
     "text": [
      "--------------------------------\n",
      "| batch_size        | 2048     |\n",
      "| bc/               |          |\n",
      "|    batch          | 1649     |\n",
      "|    ent_loss       | 0.000498 |\n",
      "|    entropy        | -0.498   |\n",
      "|    epoch          | 165      |\n",
      "|    l2_loss        | 0        |\n",
      "|    l2_norm        | 3.71e+03 |\n",
      "|    loss           | -1.43    |\n",
      "|    neglogp        | -1.43    |\n",
      "|    prob_true_act  | 4.23     |\n",
      "|    samples_so_far | 3379200  |\n",
      "--------------------------------\n"
     ]
    },
    {
     "name": "stderr",
     "output_type": "stream",
     "text": [
      "1660batch [10:08,  2.88batch/s]"
     ]
    },
    {
     "name": "stdout",
     "output_type": "stream",
     "text": [
      "--------------------------------\n",
      "| batch_size        | 2048     |\n",
      "| bc/               |          |\n",
      "|    batch          | 1659     |\n",
      "|    ent_loss       | 0.000519 |\n",
      "|    entropy        | -0.519   |\n",
      "|    epoch          | 166      |\n",
      "|    l2_loss        | 0        |\n",
      "|    l2_norm        | 3.72e+03 |\n",
      "|    loss           | -1.47    |\n",
      "|    neglogp        | -1.47    |\n",
      "|    prob_true_act  | 4.36     |\n",
      "|    samples_so_far | 3399680  |\n",
      "--------------------------------\n"
     ]
    },
    {
     "name": "stderr",
     "output_type": "stream",
     "text": [
      "1670batch [10:12,  2.92batch/s]"
     ]
    },
    {
     "name": "stdout",
     "output_type": "stream",
     "text": [
      "--------------------------------\n",
      "| batch_size        | 2048     |\n",
      "| bc/               |          |\n",
      "|    batch          | 1669     |\n",
      "|    ent_loss       | 0.00054  |\n",
      "|    entropy        | -0.54    |\n",
      "|    epoch          | 167      |\n",
      "|    l2_loss        | 0        |\n",
      "|    l2_norm        | 3.73e+03 |\n",
      "|    loss           | -1.48    |\n",
      "|    neglogp        | -1.48    |\n",
      "|    prob_true_act  | 4.41     |\n",
      "|    samples_so_far | 3420160  |\n",
      "--------------------------------\n"
     ]
    },
    {
     "name": "stderr",
     "output_type": "stream",
     "text": [
      "1680batch [10:16,  2.92batch/s]"
     ]
    },
    {
     "name": "stdout",
     "output_type": "stream",
     "text": [
      "--------------------------------\n",
      "| batch_size        | 2048     |\n",
      "| bc/               |          |\n",
      "|    batch          | 1679     |\n",
      "|    ent_loss       | 0.000561 |\n",
      "|    entropy        | -0.561   |\n",
      "|    epoch          | 168      |\n",
      "|    l2_loss        | 0        |\n",
      "|    l2_norm        | 3.74e+03 |\n",
      "|    loss           | -1.41    |\n",
      "|    neglogp        | -1.41    |\n",
      "|    prob_true_act  | 4.18     |\n",
      "|    samples_so_far | 3440640  |\n",
      "--------------------------------\n"
     ]
    },
    {
     "name": "stderr",
     "output_type": "stream",
     "text": [
      "1690batch [10:19,  2.99batch/s]"
     ]
    },
    {
     "name": "stdout",
     "output_type": "stream",
     "text": [
      "--------------------------------\n",
      "| batch_size        | 2048     |\n",
      "| bc/               |          |\n",
      "|    batch          | 1689     |\n",
      "|    ent_loss       | 0.00058  |\n",
      "|    entropy        | -0.58    |\n",
      "|    epoch          | 169      |\n",
      "|    l2_loss        | 0        |\n",
      "|    l2_norm        | 3.76e+03 |\n",
      "|    loss           | -1.47    |\n",
      "|    neglogp        | -1.47    |\n",
      "|    prob_true_act  | 4.4      |\n",
      "|    samples_so_far | 3461120  |\n",
      "--------------------------------\n"
     ]
    },
    {
     "name": "stderr",
     "output_type": "stream",
     "text": [
      "1700batch [10:24,  2.72batch/s]"
     ]
    },
    {
     "name": "stdout",
     "output_type": "stream",
     "text": [
      "--------------------------------\n",
      "| batch_size        | 2048     |\n",
      "| bc/               |          |\n",
      "|    batch          | 1699     |\n",
      "|    ent_loss       | 0.0006   |\n",
      "|    entropy        | -0.6     |\n",
      "|    epoch          | 170      |\n",
      "|    l2_loss        | 0        |\n",
      "|    l2_norm        | 3.77e+03 |\n",
      "|    loss           | -1.53    |\n",
      "|    neglogp        | -1.53    |\n",
      "|    prob_true_act  | 4.68     |\n",
      "|    samples_so_far | 3481600  |\n",
      "--------------------------------\n"
     ]
    },
    {
     "name": "stderr",
     "output_type": "stream",
     "text": [
      "1710batch [10:27,  2.93batch/s]"
     ]
    },
    {
     "name": "stdout",
     "output_type": "stream",
     "text": [
      "--------------------------------\n",
      "| batch_size        | 2048     |\n",
      "| bc/               |          |\n",
      "|    batch          | 1709     |\n",
      "|    ent_loss       | 0.000621 |\n",
      "|    entropy        | -0.621   |\n",
      "|    epoch          | 171      |\n",
      "|    l2_loss        | 0        |\n",
      "|    l2_norm        | 3.78e+03 |\n",
      "|    loss           | -1.56    |\n",
      "|    neglogp        | -1.56    |\n",
      "|    prob_true_act  | 4.81     |\n",
      "|    samples_so_far | 3502080  |\n",
      "--------------------------------\n"
     ]
    },
    {
     "name": "stderr",
     "output_type": "stream",
     "text": [
      "1720batch [10:31,  2.94batch/s]"
     ]
    },
    {
     "name": "stdout",
     "output_type": "stream",
     "text": [
      "--------------------------------\n",
      "| batch_size        | 2048     |\n",
      "| bc/               |          |\n",
      "|    batch          | 1719     |\n",
      "|    ent_loss       | 0.000642 |\n",
      "|    entropy        | -0.642   |\n",
      "|    epoch          | 172      |\n",
      "|    l2_loss        | 0        |\n",
      "|    l2_norm        | 3.79e+03 |\n",
      "|    loss           | -1.59    |\n",
      "|    neglogp        | -1.59    |\n",
      "|    prob_true_act  | 4.95     |\n",
      "|    samples_so_far | 3522560  |\n",
      "--------------------------------\n"
     ]
    },
    {
     "name": "stderr",
     "output_type": "stream",
     "text": [
      "1730batch [10:35,  2.55batch/s]"
     ]
    },
    {
     "name": "stdout",
     "output_type": "stream",
     "text": [
      "--------------------------------\n",
      "| batch_size        | 2048     |\n",
      "| bc/               |          |\n",
      "|    batch          | 1729     |\n",
      "|    ent_loss       | 0.000662 |\n",
      "|    entropy        | -0.662   |\n",
      "|    epoch          | 173      |\n",
      "|    l2_loss        | 0        |\n",
      "|    l2_norm        | 3.8e+03  |\n",
      "|    loss           | -1.62    |\n",
      "|    neglogp        | -1.62    |\n",
      "|    prob_true_act  | 5.07     |\n",
      "|    samples_so_far | 3543040  |\n",
      "--------------------------------\n"
     ]
    },
    {
     "name": "stderr",
     "output_type": "stream",
     "text": [
      "1740batch [10:38,  2.93batch/s]"
     ]
    },
    {
     "name": "stdout",
     "output_type": "stream",
     "text": [
      "--------------------------------\n",
      "| batch_size        | 2048     |\n",
      "| bc/               |          |\n",
      "|    batch          | 1739     |\n",
      "|    ent_loss       | 0.000683 |\n",
      "|    entropy        | -0.683   |\n",
      "|    epoch          | 174      |\n",
      "|    l2_loss        | 0        |\n",
      "|    l2_norm        | 3.81e+03 |\n",
      "|    loss           | -1.63    |\n",
      "|    neglogp        | -1.63    |\n",
      "|    prob_true_act  | 5.15     |\n",
      "|    samples_so_far | 3563520  |\n",
      "--------------------------------\n"
     ]
    },
    {
     "name": "stderr",
     "output_type": "stream",
     "text": [
      "1750batch [10:42,  2.94batch/s]"
     ]
    },
    {
     "name": "stdout",
     "output_type": "stream",
     "text": [
      "--------------------------------\n",
      "| batch_size        | 2048     |\n",
      "| bc/               |          |\n",
      "|    batch          | 1749     |\n",
      "|    ent_loss       | 0.000704 |\n",
      "|    entropy        | -0.704   |\n",
      "|    epoch          | 175      |\n",
      "|    l2_loss        | 0        |\n",
      "|    l2_norm        | 3.82e+03 |\n",
      "|    loss           | -1.58    |\n",
      "|    neglogp        | -1.58    |\n",
      "|    prob_true_act  | 4.91     |\n",
      "|    samples_so_far | 3584000  |\n",
      "--------------------------------\n"
     ]
    },
    {
     "name": "stderr",
     "output_type": "stream",
     "text": [
      "1760batch [10:45,  2.96batch/s]"
     ]
    },
    {
     "name": "stdout",
     "output_type": "stream",
     "text": [
      "--------------------------------\n",
      "| batch_size        | 2048     |\n",
      "| bc/               |          |\n",
      "|    batch          | 1759     |\n",
      "|    ent_loss       | 0.000724 |\n",
      "|    entropy        | -0.724   |\n",
      "|    epoch          | 176      |\n",
      "|    l2_loss        | 0        |\n",
      "|    l2_norm        | 3.83e+03 |\n",
      "|    loss           | -1.64    |\n",
      "|    neglogp        | -1.64    |\n",
      "|    prob_true_act  | 5.24     |\n",
      "|    samples_so_far | 3604480  |\n",
      "--------------------------------\n"
     ]
    },
    {
     "name": "stderr",
     "output_type": "stream",
     "text": [
      "1770batch [10:49,  2.95batch/s]"
     ]
    },
    {
     "name": "stdout",
     "output_type": "stream",
     "text": [
      "--------------------------------\n",
      "| batch_size        | 2048     |\n",
      "| bc/               |          |\n",
      "|    batch          | 1769     |\n",
      "|    ent_loss       | 0.000745 |\n",
      "|    entropy        | -0.745   |\n",
      "|    epoch          | 177      |\n",
      "|    l2_loss        | 0        |\n",
      "|    l2_norm        | 3.84e+03 |\n",
      "|    loss           | -1.68    |\n",
      "|    neglogp        | -1.68    |\n",
      "|    prob_true_act  | 5.43     |\n",
      "|    samples_so_far | 3624960  |\n",
      "--------------------------------\n"
     ]
    },
    {
     "name": "stderr",
     "output_type": "stream",
     "text": [
      "1780batch [10:53,  2.87batch/s]"
     ]
    },
    {
     "name": "stdout",
     "output_type": "stream",
     "text": [
      "--------------------------------\n",
      "| batch_size        | 2048     |\n",
      "| bc/               |          |\n",
      "|    batch          | 1779     |\n",
      "|    ent_loss       | 0.000766 |\n",
      "|    entropy        | -0.766   |\n",
      "|    epoch          | 178      |\n",
      "|    l2_loss        | 0        |\n",
      "|    l2_norm        | 3.85e+03 |\n",
      "|    loss           | -1.7     |\n",
      "|    neglogp        | -1.7     |\n",
      "|    prob_true_act  | 5.48     |\n",
      "|    samples_so_far | 3645440  |\n",
      "--------------------------------\n"
     ]
    },
    {
     "name": "stderr",
     "output_type": "stream",
     "text": [
      "1790batch [10:57,  2.88batch/s]"
     ]
    },
    {
     "name": "stdout",
     "output_type": "stream",
     "text": [
      "--------------------------------\n",
      "| batch_size        | 2048     |\n",
      "| bc/               |          |\n",
      "|    batch          | 1789     |\n",
      "|    ent_loss       | 0.000787 |\n",
      "|    entropy        | -0.787   |\n",
      "|    epoch          | 179      |\n",
      "|    l2_loss        | 0        |\n",
      "|    l2_norm        | 3.86e+03 |\n",
      "|    loss           | -1.66    |\n",
      "|    neglogp        | -1.66    |\n",
      "|    prob_true_act  | 5.32     |\n",
      "|    samples_so_far | 3665920  |\n",
      "--------------------------------\n"
     ]
    },
    {
     "name": "stderr",
     "output_type": "stream",
     "text": [
      "1800batch [11:00,  2.93batch/s]"
     ]
    },
    {
     "name": "stdout",
     "output_type": "stream",
     "text": [
      "--------------------------------\n",
      "| batch_size        | 2048     |\n",
      "| bc/               |          |\n",
      "|    batch          | 1799     |\n",
      "|    ent_loss       | 0.000807 |\n",
      "|    entropy        | -0.807   |\n",
      "|    epoch          | 180      |\n",
      "|    l2_loss        | 0        |\n",
      "|    l2_norm        | 3.87e+03 |\n",
      "|    loss           | -1.76    |\n",
      "|    neglogp        | -1.76    |\n",
      "|    prob_true_act  | 5.83     |\n",
      "|    samples_so_far | 3686400  |\n",
      "--------------------------------\n"
     ]
    },
    {
     "name": "stderr",
     "output_type": "stream",
     "text": [
      "1810batch [11:04,  2.94batch/s]"
     ]
    },
    {
     "name": "stdout",
     "output_type": "stream",
     "text": [
      "--------------------------------\n",
      "| batch_size        | 2048     |\n",
      "| bc/               |          |\n",
      "|    batch          | 1809     |\n",
      "|    ent_loss       | 0.000828 |\n",
      "|    entropy        | -0.828   |\n",
      "|    epoch          | 181      |\n",
      "|    l2_loss        | 0        |\n",
      "|    l2_norm        | 3.88e+03 |\n",
      "|    loss           | -1.67    |\n",
      "|    neglogp        | -1.67    |\n",
      "|    prob_true_act  | 5.38     |\n",
      "|    samples_so_far | 3706880  |\n",
      "--------------------------------\n"
     ]
    },
    {
     "name": "stderr",
     "output_type": "stream",
     "text": [
      "1820batch [11:08,  2.63batch/s]"
     ]
    },
    {
     "name": "stdout",
     "output_type": "stream",
     "text": [
      "--------------------------------\n",
      "| batch_size        | 2048     |\n",
      "| bc/               |          |\n",
      "|    batch          | 1819     |\n",
      "|    ent_loss       | 0.000848 |\n",
      "|    entropy        | -0.848   |\n",
      "|    epoch          | 182      |\n",
      "|    l2_loss        | 0        |\n",
      "|    l2_norm        | 3.89e+03 |\n",
      "|    loss           | -1.78    |\n",
      "|    neglogp        | -1.78    |\n",
      "|    prob_true_act  | 5.94     |\n",
      "|    samples_so_far | 3727360  |\n",
      "--------------------------------\n"
     ]
    },
    {
     "name": "stderr",
     "output_type": "stream",
     "text": [
      "1830batch [11:11,  2.91batch/s]"
     ]
    },
    {
     "name": "stdout",
     "output_type": "stream",
     "text": [
      "--------------------------------\n",
      "| batch_size        | 2048     |\n",
      "| bc/               |          |\n",
      "|    batch          | 1829     |\n",
      "|    ent_loss       | 0.000869 |\n",
      "|    entropy        | -0.869   |\n",
      "|    epoch          | 183      |\n",
      "|    l2_loss        | 0        |\n",
      "|    l2_norm        | 3.9e+03  |\n",
      "|    loss           | -1.78    |\n",
      "|    neglogp        | -1.78    |\n",
      "|    prob_true_act  | 6.01     |\n",
      "|    samples_so_far | 3747840  |\n",
      "--------------------------------\n"
     ]
    },
    {
     "name": "stderr",
     "output_type": "stream",
     "text": [
      "1840batch [11:16,  1.91batch/s]"
     ]
    },
    {
     "name": "stdout",
     "output_type": "stream",
     "text": [
      "--------------------------------\n",
      "| batch_size        | 2048     |\n",
      "| bc/               |          |\n",
      "|    batch          | 1839     |\n",
      "|    ent_loss       | 0.000889 |\n",
      "|    entropy        | -0.889   |\n",
      "|    epoch          | 184      |\n",
      "|    l2_loss        | 0        |\n",
      "|    l2_norm        | 3.91e+03 |\n",
      "|    loss           | -1.82    |\n",
      "|    neglogp        | -1.83    |\n",
      "|    prob_true_act  | 6.26     |\n",
      "|    samples_so_far | 3768320  |\n",
      "--------------------------------\n"
     ]
    },
    {
     "name": "stderr",
     "output_type": "stream",
     "text": [
      "1850batch [11:20,  2.92batch/s]"
     ]
    },
    {
     "name": "stdout",
     "output_type": "stream",
     "text": [
      "--------------------------------\n",
      "| batch_size        | 2048     |\n",
      "| bc/               |          |\n",
      "|    batch          | 1849     |\n",
      "|    ent_loss       | 0.00091  |\n",
      "|    entropy        | -0.91    |\n",
      "|    epoch          | 185      |\n",
      "|    l2_loss        | 0        |\n",
      "|    l2_norm        | 3.92e+03 |\n",
      "|    loss           | -1.81    |\n",
      "|    neglogp        | -1.81    |\n",
      "|    prob_true_act  | 6.16     |\n",
      "|    samples_so_far | 3788800  |\n",
      "--------------------------------\n"
     ]
    },
    {
     "name": "stderr",
     "output_type": "stream",
     "text": [
      "1860batch [11:23,  2.98batch/s]"
     ]
    },
    {
     "name": "stdout",
     "output_type": "stream",
     "text": [
      "--------------------------------\n",
      "| batch_size        | 2048     |\n",
      "| bc/               |          |\n",
      "|    batch          | 1859     |\n",
      "|    ent_loss       | 0.00093  |\n",
      "|    entropy        | -0.93    |\n",
      "|    epoch          | 186      |\n",
      "|    l2_loss        | 0        |\n",
      "|    l2_norm        | 3.94e+03 |\n",
      "|    loss           | -1.83    |\n",
      "|    neglogp        | -1.83    |\n",
      "|    prob_true_act  | 6.29     |\n",
      "|    samples_so_far | 3809280  |\n",
      "--------------------------------\n"
     ]
    },
    {
     "name": "stderr",
     "output_type": "stream",
     "text": [
      "1870batch [11:27,  2.84batch/s]"
     ]
    },
    {
     "name": "stdout",
     "output_type": "stream",
     "text": [
      "--------------------------------\n",
      "| batch_size        | 2048     |\n",
      "| bc/               |          |\n",
      "|    batch          | 1869     |\n",
      "|    ent_loss       | 0.00095  |\n",
      "|    entropy        | -0.95    |\n",
      "|    epoch          | 187      |\n",
      "|    l2_loss        | 0        |\n",
      "|    l2_norm        | 3.95e+03 |\n",
      "|    loss           | -1.84    |\n",
      "|    neglogp        | -1.84    |\n",
      "|    prob_true_act  | 6.39     |\n",
      "|    samples_so_far | 3829760  |\n",
      "--------------------------------\n"
     ]
    },
    {
     "name": "stderr",
     "output_type": "stream",
     "text": [
      "1880batch [11:31,  2.89batch/s]"
     ]
    },
    {
     "name": "stdout",
     "output_type": "stream",
     "text": [
      "--------------------------------\n",
      "| batch_size        | 2048     |\n",
      "| bc/               |          |\n",
      "|    batch          | 1879     |\n",
      "|    ent_loss       | 0.00097  |\n",
      "|    entropy        | -0.97    |\n",
      "|    epoch          | 188      |\n",
      "|    l2_loss        | 0        |\n",
      "|    l2_norm        | 3.96e+03 |\n",
      "|    loss           | -1.92    |\n",
      "|    neglogp        | -1.92    |\n",
      "|    prob_true_act  | 6.84     |\n",
      "|    samples_so_far | 3850240  |\n",
      "--------------------------------\n"
     ]
    },
    {
     "name": "stderr",
     "output_type": "stream",
     "text": [
      "1890batch [11:34,  2.93batch/s]"
     ]
    },
    {
     "name": "stdout",
     "output_type": "stream",
     "text": [
      "--------------------------------\n",
      "| batch_size        | 2048     |\n",
      "| bc/               |          |\n",
      "|    batch          | 1889     |\n",
      "|    ent_loss       | 0.000991 |\n",
      "|    entropy        | -0.991   |\n",
      "|    epoch          | 189      |\n",
      "|    l2_loss        | 0        |\n",
      "|    l2_norm        | 3.97e+03 |\n",
      "|    loss           | -1.81    |\n",
      "|    neglogp        | -1.81    |\n",
      "|    prob_true_act  | 6.16     |\n",
      "|    samples_so_far | 3870720  |\n",
      "--------------------------------\n"
     ]
    },
    {
     "name": "stderr",
     "output_type": "stream",
     "text": [
      "1900batch [11:38,  2.77batch/s]"
     ]
    },
    {
     "name": "stdout",
     "output_type": "stream",
     "text": [
      "--------------------------------\n",
      "| batch_size        | 2048     |\n",
      "| bc/               |          |\n",
      "|    batch          | 1899     |\n",
      "|    ent_loss       | 0.00101  |\n",
      "|    entropy        | -1.01    |\n",
      "|    epoch          | 190      |\n",
      "|    l2_loss        | 0        |\n",
      "|    l2_norm        | 3.99e+03 |\n",
      "|    loss           | 0.777    |\n",
      "|    neglogp        | 0.776    |\n",
      "|    prob_true_act  | 2.45     |\n",
      "|    samples_so_far | 3891200  |\n",
      "--------------------------------\n"
     ]
    },
    {
     "name": "stderr",
     "output_type": "stream",
     "text": [
      "1910batch [11:42,  2.92batch/s]"
     ]
    },
    {
     "name": "stdout",
     "output_type": "stream",
     "text": [
      "--------------------------------\n",
      "| batch_size        | 2048     |\n",
      "| bc/               |          |\n",
      "|    batch          | 1909     |\n",
      "|    ent_loss       | 0.000946 |\n",
      "|    entropy        | -0.946   |\n",
      "|    epoch          | 191      |\n",
      "|    l2_loss        | 0        |\n",
      "|    l2_norm        | 4.17e+03 |\n",
      "|    loss           | 10.9     |\n",
      "|    neglogp        | 10.9     |\n",
      "|    prob_true_act  | 0.216    |\n",
      "|    samples_so_far | 3911680  |\n",
      "--------------------------------\n"
     ]
    },
    {
     "name": "stderr",
     "output_type": "stream",
     "text": [
      "1920batch [11:45,  2.92batch/s]"
     ]
    },
    {
     "name": "stdout",
     "output_type": "stream",
     "text": [
      "--------------------------------\n",
      "| batch_size        | 2048     |\n",
      "| bc/               |          |\n",
      "|    batch          | 1919     |\n",
      "|    ent_loss       | 0.000886 |\n",
      "|    entropy        | -0.886   |\n",
      "|    epoch          | 192      |\n",
      "|    l2_loss        | 0        |\n",
      "|    l2_norm        | 4.5e+03  |\n",
      "|    loss           | 23.7     |\n",
      "|    neglogp        | 23.7     |\n",
      "|    prob_true_act  | 0.0258   |\n",
      "|    samples_so_far | 3932160  |\n",
      "--------------------------------\n"
     ]
    },
    {
     "name": "stderr",
     "output_type": "stream",
     "text": [
      "1930batch [11:50,  1.75batch/s]"
     ]
    },
    {
     "name": "stdout",
     "output_type": "stream",
     "text": [
      "--------------------------------\n",
      "| batch_size        | 2048     |\n",
      "| bc/               |          |\n",
      "|    batch          | 1929     |\n",
      "|    ent_loss       | 0.000852 |\n",
      "|    entropy        | -0.852   |\n",
      "|    epoch          | 193      |\n",
      "|    l2_loss        | 0        |\n",
      "|    l2_norm        | 4.71e+03 |\n",
      "|    loss           | 22.7     |\n",
      "|    neglogp        | 22.7     |\n",
      "|    prob_true_act  | 0.0263   |\n",
      "|    samples_so_far | 3952640  |\n",
      "--------------------------------\n"
     ]
    },
    {
     "name": "stderr",
     "output_type": "stream",
     "text": [
      "1940batch [11:53,  2.88batch/s]"
     ]
    },
    {
     "name": "stdout",
     "output_type": "stream",
     "text": [
      "--------------------------------\n",
      "| batch_size        | 2048     |\n",
      "| bc/               |          |\n",
      "|    batch          | 1939     |\n",
      "|    ent_loss       | 0.000828 |\n",
      "|    entropy        | -0.828   |\n",
      "|    epoch          | 194      |\n",
      "|    l2_loss        | 0        |\n",
      "|    l2_norm        | 4.81e+03 |\n",
      "|    loss           | 20.2     |\n",
      "|    neglogp        | 20.2     |\n",
      "|    prob_true_act  | 0.0326   |\n",
      "|    samples_so_far | 3973120  |\n",
      "--------------------------------\n"
     ]
    },
    {
     "name": "stderr",
     "output_type": "stream",
     "text": [
      "1950batch [11:57,  2.93batch/s]"
     ]
    },
    {
     "name": "stdout",
     "output_type": "stream",
     "text": [
      "--------------------------------\n",
      "| batch_size        | 2048     |\n",
      "| bc/               |          |\n",
      "|    batch          | 1949     |\n",
      "|    ent_loss       | 0.000809 |\n",
      "|    entropy        | -0.809   |\n",
      "|    epoch          | 195      |\n",
      "|    l2_loss        | 0        |\n",
      "|    l2_norm        | 4.85e+03 |\n",
      "|    loss           | 17.2     |\n",
      "|    neglogp        | 17.2     |\n",
      "|    prob_true_act  | 0.034    |\n",
      "|    samples_so_far | 3993600  |\n",
      "--------------------------------\n"
     ]
    },
    {
     "name": "stderr",
     "output_type": "stream",
     "text": [
      "1960batch [12:01,  2.95batch/s]"
     ]
    },
    {
     "name": "stdout",
     "output_type": "stream",
     "text": [
      "--------------------------------\n",
      "| batch_size        | 2048     |\n",
      "| bc/               |          |\n",
      "|    batch          | 1959     |\n",
      "|    ent_loss       | 0.000794 |\n",
      "|    entropy        | -0.794   |\n",
      "|    epoch          | 196      |\n",
      "|    l2_loss        | 0        |\n",
      "|    l2_norm        | 4.86e+03 |\n",
      "|    loss           | 13.5     |\n",
      "|    neglogp        | 13.5     |\n",
      "|    prob_true_act  | 0.0247   |\n",
      "|    samples_so_far | 4014080  |\n",
      "--------------------------------\n"
     ]
    },
    {
     "name": "stderr",
     "output_type": "stream",
     "text": [
      "1970batch [12:04,  2.95batch/s]"
     ]
    },
    {
     "name": "stdout",
     "output_type": "stream",
     "text": [
      "--------------------------------\n",
      "| batch_size        | 2048     |\n",
      "| bc/               |          |\n",
      "|    batch          | 1969     |\n",
      "|    ent_loss       | 0.000782 |\n",
      "|    entropy        | -0.782   |\n",
      "|    epoch          | 197      |\n",
      "|    l2_loss        | 0        |\n",
      "|    l2_norm        | 4.87e+03 |\n",
      "|    loss           | 10.3     |\n",
      "|    neglogp        | 10.3     |\n",
      "|    prob_true_act  | 0.012    |\n",
      "|    samples_so_far | 4034560  |\n",
      "--------------------------------\n"
     ]
    },
    {
     "name": "stderr",
     "output_type": "stream",
     "text": [
      "1980batch [12:08,  2.94batch/s]"
     ]
    },
    {
     "name": "stdout",
     "output_type": "stream",
     "text": [
      "--------------------------------\n",
      "| batch_size        | 2048     |\n",
      "| bc/               |          |\n",
      "|    batch          | 1979     |\n",
      "|    ent_loss       | 0.000773 |\n",
      "|    entropy        | -0.773   |\n",
      "|    epoch          | 198      |\n",
      "|    l2_loss        | 0        |\n",
      "|    l2_norm        | 4.87e+03 |\n",
      "|    loss           | 7.83     |\n",
      "|    neglogp        | 7.83     |\n",
      "|    prob_true_act  | 0.0304   |\n",
      "|    samples_so_far | 4055040  |\n",
      "--------------------------------\n"
     ]
    },
    {
     "name": "stderr",
     "output_type": "stream",
     "text": [
      "1990batch [12:11,  2.98batch/s]"
     ]
    },
    {
     "name": "stdout",
     "output_type": "stream",
     "text": [
      "--------------------------------\n",
      "| batch_size        | 2048     |\n",
      "| bc/               |          |\n",
      "|    batch          | 1989     |\n",
      "|    ent_loss       | 0.000765 |\n",
      "|    entropy        | -0.765   |\n",
      "|    epoch          | 199      |\n",
      "|    l2_loss        | 0        |\n",
      "|    l2_norm        | 4.87e+03 |\n",
      "|    loss           | 6.89     |\n",
      "|    neglogp        | 6.89     |\n",
      "|    prob_true_act  | 0.078    |\n",
      "|    samples_so_far | 4075520  |\n",
      "--------------------------------\n"
     ]
    },
    {
     "name": "stderr",
     "output_type": "stream",
     "text": [
      "2000batch [12:15,  2.95batch/s]"
     ]
    },
    {
     "name": "stdout",
     "output_type": "stream",
     "text": [
      "--------------------------------\n",
      "| batch_size        | 2048     |\n",
      "| bc/               |          |\n",
      "|    batch          | 1999     |\n",
      "|    ent_loss       | 0.000757 |\n",
      "|    entropy        | -0.757   |\n",
      "|    epoch          | 200      |\n",
      "|    l2_loss        | 0        |\n",
      "|    l2_norm        | 4.87e+03 |\n",
      "|    loss           | 6.79     |\n",
      "|    neglogp        | 6.79     |\n",
      "|    prob_true_act  | 0.108    |\n",
      "|    samples_so_far | 4096000  |\n",
      "--------------------------------\n"
     ]
    },
    {
     "name": "stderr",
     "output_type": "stream",
     "text": [
      "2010batch [12:18,  2.90batch/s]"
     ]
    },
    {
     "name": "stdout",
     "output_type": "stream",
     "text": [
      "--------------------------------\n",
      "| batch_size        | 2048     |\n",
      "| bc/               |          |\n",
      "|    batch          | 2009     |\n",
      "|    ent_loss       | 0.000751 |\n",
      "|    entropy        | -0.751   |\n",
      "|    epoch          | 201      |\n",
      "|    l2_loss        | 0        |\n",
      "|    l2_norm        | 4.87e+03 |\n",
      "|    loss           | 6.01     |\n",
      "|    neglogp        | 6.01     |\n",
      "|    prob_true_act  | 0.0997   |\n",
      "|    samples_so_far | 4116480  |\n",
      "--------------------------------\n"
     ]
    },
    {
     "name": "stderr",
     "output_type": "stream",
     "text": [
      "2020batch [12:22,  2.85batch/s]"
     ]
    },
    {
     "name": "stdout",
     "output_type": "stream",
     "text": [
      "--------------------------------\n",
      "| batch_size        | 2048     |\n",
      "| bc/               |          |\n",
      "|    batch          | 2019     |\n",
      "|    ent_loss       | 0.000744 |\n",
      "|    entropy        | -0.744   |\n",
      "|    epoch          | 202      |\n",
      "|    l2_loss        | 0        |\n",
      "|    l2_norm        | 4.87e+03 |\n",
      "|    loss           | 6.23     |\n",
      "|    neglogp        | 6.23     |\n",
      "|    prob_true_act  | 0.078    |\n",
      "|    samples_so_far | 4136960  |\n",
      "--------------------------------\n"
     ]
    },
    {
     "name": "stderr",
     "output_type": "stream",
     "text": [
      "2030batch [12:26,  2.94batch/s]"
     ]
    },
    {
     "name": "stdout",
     "output_type": "stream",
     "text": [
      "--------------------------------\n",
      "| batch_size        | 2048     |\n",
      "| bc/               |          |\n",
      "|    batch          | 2029     |\n",
      "|    ent_loss       | 0.000738 |\n",
      "|    entropy        | -0.738   |\n",
      "|    epoch          | 203      |\n",
      "|    l2_loss        | 0        |\n",
      "|    l2_norm        | 4.87e+03 |\n",
      "|    loss           | 6.69     |\n",
      "|    neglogp        | 6.69     |\n",
      "|    prob_true_act  | 0.0864   |\n",
      "|    samples_so_far | 4157440  |\n",
      "--------------------------------\n"
     ]
    },
    {
     "name": "stderr",
     "output_type": "stream",
     "text": [
      "2040batch [12:29,  2.99batch/s]"
     ]
    },
    {
     "name": "stdout",
     "output_type": "stream",
     "text": [
      "--------------------------------\n",
      "| batch_size        | 2048     |\n",
      "| bc/               |          |\n",
      "|    batch          | 2039     |\n",
      "|    ent_loss       | 0.000731 |\n",
      "|    entropy        | -0.731   |\n",
      "|    epoch          | 204      |\n",
      "|    l2_loss        | 0        |\n",
      "|    l2_norm        | 4.87e+03 |\n",
      "|    loss           | 5.81     |\n",
      "|    neglogp        | 5.81     |\n",
      "|    prob_true_act  | 0.0853   |\n",
      "|    samples_so_far | 4177920  |\n",
      "--------------------------------\n"
     ]
    },
    {
     "name": "stderr",
     "output_type": "stream",
     "text": [
      "2050batch [12:33,  2.92batch/s]"
     ]
    },
    {
     "name": "stdout",
     "output_type": "stream",
     "text": [
      "--------------------------------\n",
      "| batch_size        | 2048     |\n",
      "| bc/               |          |\n",
      "|    batch          | 2049     |\n",
      "|    ent_loss       | 0.000725 |\n",
      "|    entropy        | -0.725   |\n",
      "|    epoch          | 205      |\n",
      "|    l2_loss        | 0        |\n",
      "|    l2_norm        | 4.87e+03 |\n",
      "|    loss           | 6.25     |\n",
      "|    neglogp        | 6.25     |\n",
      "|    prob_true_act  | 0.0754   |\n",
      "|    samples_so_far | 4198400  |\n",
      "--------------------------------\n"
     ]
    },
    {
     "name": "stderr",
     "output_type": "stream",
     "text": [
      "2060batch [12:37,  2.93batch/s]"
     ]
    },
    {
     "name": "stdout",
     "output_type": "stream",
     "text": [
      "--------------------------------\n",
      "| batch_size        | 2048     |\n",
      "| bc/               |          |\n",
      "|    batch          | 2059     |\n",
      "|    ent_loss       | 0.000719 |\n",
      "|    entropy        | -0.719   |\n",
      "|    epoch          | 206      |\n",
      "|    l2_loss        | 0        |\n",
      "|    l2_norm        | 4.87e+03 |\n",
      "|    loss           | 6.03     |\n",
      "|    neglogp        | 6.03     |\n",
      "|    prob_true_act  | 0.0762   |\n",
      "|    samples_so_far | 4218880  |\n",
      "--------------------------------\n"
     ]
    },
    {
     "name": "stderr",
     "output_type": "stream",
     "text": [
      "2070batch [12:40,  2.82batch/s]"
     ]
    },
    {
     "name": "stdout",
     "output_type": "stream",
     "text": [
      "--------------------------------\n",
      "| batch_size        | 2048     |\n",
      "| bc/               |          |\n",
      "|    batch          | 2069     |\n",
      "|    ent_loss       | 0.000713 |\n",
      "|    entropy        | -0.713   |\n",
      "|    epoch          | 207      |\n",
      "|    l2_loss        | 0        |\n",
      "|    l2_norm        | 4.87e+03 |\n",
      "|    loss           | 5.73     |\n",
      "|    neglogp        | 5.73     |\n",
      "|    prob_true_act  | 0.0944   |\n",
      "|    samples_so_far | 4239360  |\n",
      "--------------------------------\n"
     ]
    },
    {
     "name": "stderr",
     "output_type": "stream",
     "text": [
      "2080batch [12:44,  2.97batch/s]"
     ]
    },
    {
     "name": "stdout",
     "output_type": "stream",
     "text": [
      "--------------------------------\n",
      "| batch_size        | 2048     |\n",
      "| bc/               |          |\n",
      "|    batch          | 2079     |\n",
      "|    ent_loss       | 0.000707 |\n",
      "|    entropy        | -0.707   |\n",
      "|    epoch          | 208      |\n",
      "|    l2_loss        | 0        |\n",
      "|    l2_norm        | 4.87e+03 |\n",
      "|    loss           | 5.63     |\n",
      "|    neglogp        | 5.63     |\n",
      "|    prob_true_act  | 0.0852   |\n",
      "|    samples_so_far | 4259840  |\n",
      "--------------------------------\n"
     ]
    },
    {
     "name": "stderr",
     "output_type": "stream",
     "text": [
      "2090batch [12:47,  2.98batch/s]"
     ]
    },
    {
     "name": "stdout",
     "output_type": "stream",
     "text": [
      "--------------------------------\n",
      "| batch_size        | 2048     |\n",
      "| bc/               |          |\n",
      "|    batch          | 2089     |\n",
      "|    ent_loss       | 0.000701 |\n",
      "|    entropy        | -0.701   |\n",
      "|    epoch          | 209      |\n",
      "|    l2_loss        | 0        |\n",
      "|    l2_norm        | 4.87e+03 |\n",
      "|    loss           | 6.02     |\n",
      "|    neglogp        | 6.02     |\n",
      "|    prob_true_act  | 0.101    |\n",
      "|    samples_so_far | 4280320  |\n",
      "--------------------------------\n"
     ]
    },
    {
     "name": "stderr",
     "output_type": "stream",
     "text": [
      "2100batch [12:51,  3.00batch/s]"
     ]
    },
    {
     "name": "stdout",
     "output_type": "stream",
     "text": [
      "--------------------------------\n",
      "| batch_size        | 2048     |\n",
      "| bc/               |          |\n",
      "|    batch          | 2099     |\n",
      "|    ent_loss       | 0.000695 |\n",
      "|    entropy        | -0.695   |\n",
      "|    epoch          | 210      |\n",
      "|    l2_loss        | 0        |\n",
      "|    l2_norm        | 4.87e+03 |\n",
      "|    loss           | 5.83     |\n",
      "|    neglogp        | 5.83     |\n",
      "|    prob_true_act  | 0.0913   |\n",
      "|    samples_so_far | 4300800  |\n",
      "--------------------------------\n"
     ]
    },
    {
     "name": "stderr",
     "output_type": "stream",
     "text": [
      "2110batch [12:55,  2.85batch/s]"
     ]
    },
    {
     "name": "stdout",
     "output_type": "stream",
     "text": [
      "--------------------------------\n",
      "| batch_size        | 2048     |\n",
      "| bc/               |          |\n",
      "|    batch          | 2109     |\n",
      "|    ent_loss       | 0.000689 |\n",
      "|    entropy        | -0.689   |\n",
      "|    epoch          | 211      |\n",
      "|    l2_loss        | 0        |\n",
      "|    l2_norm        | 4.87e+03 |\n",
      "|    loss           | 5.58     |\n",
      "|    neglogp        | 5.58     |\n",
      "|    prob_true_act  | 0.0906   |\n",
      "|    samples_so_far | 4321280  |\n",
      "--------------------------------\n"
     ]
    },
    {
     "name": "stderr",
     "output_type": "stream",
     "text": [
      "2120batch [12:58,  2.91batch/s]"
     ]
    },
    {
     "name": "stdout",
     "output_type": "stream",
     "text": [
      "--------------------------------\n",
      "| batch_size        | 2048     |\n",
      "| bc/               |          |\n",
      "|    batch          | 2119     |\n",
      "|    ent_loss       | 0.000683 |\n",
      "|    entropy        | -0.683   |\n",
      "|    epoch          | 212      |\n",
      "|    l2_loss        | 0        |\n",
      "|    l2_norm        | 4.87e+03 |\n",
      "|    loss           | 5.3      |\n",
      "|    neglogp        | 5.3      |\n",
      "|    prob_true_act  | 0.12     |\n",
      "|    samples_so_far | 4341760  |\n",
      "--------------------------------\n"
     ]
    },
    {
     "name": "stderr",
     "output_type": "stream",
     "text": [
      "2130batch [13:02,  2.93batch/s]"
     ]
    },
    {
     "name": "stdout",
     "output_type": "stream",
     "text": [
      "--------------------------------\n",
      "| batch_size        | 2048     |\n",
      "| bc/               |          |\n",
      "|    batch          | 2129     |\n",
      "|    ent_loss       | 0.000677 |\n",
      "|    entropy        | -0.677   |\n",
      "|    epoch          | 213      |\n",
      "|    l2_loss        | 0        |\n",
      "|    l2_norm        | 4.87e+03 |\n",
      "|    loss           | 5.38     |\n",
      "|    neglogp        | 5.38     |\n",
      "|    prob_true_act  | 0.104    |\n",
      "|    samples_so_far | 4362240  |\n",
      "--------------------------------\n"
     ]
    },
    {
     "name": "stderr",
     "output_type": "stream",
     "text": [
      "2140batch [13:05,  2.96batch/s]"
     ]
    },
    {
     "name": "stdout",
     "output_type": "stream",
     "text": [
      "--------------------------------\n",
      "| batch_size        | 2048     |\n",
      "| bc/               |          |\n",
      "|    batch          | 2139     |\n",
      "|    ent_loss       | 0.000671 |\n",
      "|    entropy        | -0.671   |\n",
      "|    epoch          | 214      |\n",
      "|    l2_loss        | 0        |\n",
      "|    l2_norm        | 4.87e+03 |\n",
      "|    loss           | 5.62     |\n",
      "|    neglogp        | 5.62     |\n",
      "|    prob_true_act  | 0.11     |\n",
      "|    samples_so_far | 4382720  |\n",
      "--------------------------------\n"
     ]
    },
    {
     "name": "stderr",
     "output_type": "stream",
     "text": [
      "2150batch [13:09,  2.72batch/s]"
     ]
    },
    {
     "name": "stdout",
     "output_type": "stream",
     "text": [
      "--------------------------------\n",
      "| batch_size        | 2048     |\n",
      "| bc/               |          |\n",
      "|    batch          | 2149     |\n",
      "|    ent_loss       | 0.000666 |\n",
      "|    entropy        | -0.666   |\n",
      "|    epoch          | 215      |\n",
      "|    l2_loss        | 0        |\n",
      "|    l2_norm        | 4.87e+03 |\n",
      "|    loss           | 5.17     |\n",
      "|    neglogp        | 5.17     |\n",
      "|    prob_true_act  | 0.112    |\n",
      "|    samples_so_far | 4403200  |\n",
      "--------------------------------\n"
     ]
    },
    {
     "name": "stderr",
     "output_type": "stream",
     "text": [
      "2160batch [13:13,  2.88batch/s]"
     ]
    },
    {
     "name": "stdout",
     "output_type": "stream",
     "text": [
      "--------------------------------\n",
      "| batch_size        | 2048     |\n",
      "| bc/               |          |\n",
      "|    batch          | 2159     |\n",
      "|    ent_loss       | 0.00066  |\n",
      "|    entropy        | -0.66    |\n",
      "|    epoch          | 216      |\n",
      "|    l2_loss        | 0        |\n",
      "|    l2_norm        | 4.87e+03 |\n",
      "|    loss           | 4.88     |\n",
      "|    neglogp        | 4.87     |\n",
      "|    prob_true_act  | 0.124    |\n",
      "|    samples_so_far | 4423680  |\n",
      "--------------------------------\n"
     ]
    },
    {
     "name": "stderr",
     "output_type": "stream",
     "text": [
      "2170batch [13:16,  2.93batch/s]"
     ]
    },
    {
     "name": "stdout",
     "output_type": "stream",
     "text": [
      "--------------------------------\n",
      "| batch_size        | 2048     |\n",
      "| bc/               |          |\n",
      "|    batch          | 2169     |\n",
      "|    ent_loss       | 0.000654 |\n",
      "|    entropy        | -0.654   |\n",
      "|    epoch          | 217      |\n",
      "|    l2_loss        | 0        |\n",
      "|    l2_norm        | 4.88e+03 |\n",
      "|    loss           | 5.15     |\n",
      "|    neglogp        | 5.15     |\n",
      "|    prob_true_act  | 0.129    |\n",
      "|    samples_so_far | 4444160  |\n",
      "--------------------------------\n"
     ]
    },
    {
     "name": "stderr",
     "output_type": "stream",
     "text": [
      "2180batch [13:20,  2.98batch/s]"
     ]
    },
    {
     "name": "stdout",
     "output_type": "stream",
     "text": [
      "--------------------------------\n",
      "| batch_size        | 2048     |\n",
      "| bc/               |          |\n",
      "|    batch          | 2179     |\n",
      "|    ent_loss       | 0.000649 |\n",
      "|    entropy        | -0.649   |\n",
      "|    epoch          | 218      |\n",
      "|    l2_loss        | 0        |\n",
      "|    l2_norm        | 4.88e+03 |\n",
      "|    loss           | 5.19     |\n",
      "|    neglogp        | 5.19     |\n",
      "|    prob_true_act  | 0.139    |\n",
      "|    samples_so_far | 4464640  |\n",
      "--------------------------------\n"
     ]
    },
    {
     "name": "stderr",
     "output_type": "stream",
     "text": [
      "2190batch [13:24,  2.88batch/s]"
     ]
    },
    {
     "name": "stdout",
     "output_type": "stream",
     "text": [
      "--------------------------------\n",
      "| batch_size        | 2048     |\n",
      "| bc/               |          |\n",
      "|    batch          | 2189     |\n",
      "|    ent_loss       | 0.000643 |\n",
      "|    entropy        | -0.643   |\n",
      "|    epoch          | 219      |\n",
      "|    l2_loss        | 0        |\n",
      "|    l2_norm        | 4.88e+03 |\n",
      "|    loss           | 5.19     |\n",
      "|    neglogp        | 5.19     |\n",
      "|    prob_true_act  | 0.132    |\n",
      "|    samples_so_far | 4485120  |\n",
      "--------------------------------\n"
     ]
    },
    {
     "name": "stderr",
     "output_type": "stream",
     "text": [
      "2200batch [13:27,  2.97batch/s]"
     ]
    },
    {
     "name": "stdout",
     "output_type": "stream",
     "text": [
      "--------------------------------\n",
      "| batch_size        | 2048     |\n",
      "| bc/               |          |\n",
      "|    batch          | 2199     |\n",
      "|    ent_loss       | 0.000638 |\n",
      "|    entropy        | -0.638   |\n",
      "|    epoch          | 220      |\n",
      "|    l2_loss        | 0        |\n",
      "|    l2_norm        | 4.88e+03 |\n",
      "|    loss           | 4.68     |\n",
      "|    neglogp        | 4.68     |\n",
      "|    prob_true_act  | 0.128    |\n",
      "|    samples_so_far | 4505600  |\n",
      "--------------------------------\n"
     ]
    },
    {
     "name": "stderr",
     "output_type": "stream",
     "text": [
      "2210batch [13:31,  2.91batch/s]"
     ]
    },
    {
     "name": "stdout",
     "output_type": "stream",
     "text": [
      "--------------------------------\n",
      "| batch_size        | 2048     |\n",
      "| bc/               |          |\n",
      "|    batch          | 2209     |\n",
      "|    ent_loss       | 0.000632 |\n",
      "|    entropy        | -0.632   |\n",
      "|    epoch          | 221      |\n",
      "|    l2_loss        | 0        |\n",
      "|    l2_norm        | 4.88e+03 |\n",
      "|    loss           | 5.03     |\n",
      "|    neglogp        | 5.03     |\n",
      "|    prob_true_act  | 0.122    |\n",
      "|    samples_so_far | 4526080  |\n",
      "--------------------------------\n"
     ]
    },
    {
     "name": "stderr",
     "output_type": "stream",
     "text": [
      "2220batch [13:34,  2.93batch/s]"
     ]
    },
    {
     "name": "stdout",
     "output_type": "stream",
     "text": [
      "--------------------------------\n",
      "| batch_size        | 2048     |\n",
      "| bc/               |          |\n",
      "|    batch          | 2219     |\n",
      "|    ent_loss       | 0.000627 |\n",
      "|    entropy        | -0.627   |\n",
      "|    epoch          | 222      |\n",
      "|    l2_loss        | 0        |\n",
      "|    l2_norm        | 4.88e+03 |\n",
      "|    loss           | 5.21     |\n",
      "|    neglogp        | 5.21     |\n",
      "|    prob_true_act  | 0.131    |\n",
      "|    samples_so_far | 4546560  |\n",
      "--------------------------------\n"
     ]
    },
    {
     "name": "stderr",
     "output_type": "stream",
     "text": [
      "2230batch [13:38,  2.69batch/s]"
     ]
    },
    {
     "name": "stdout",
     "output_type": "stream",
     "text": [
      "--------------------------------\n",
      "| batch_size        | 2048     |\n",
      "| bc/               |          |\n",
      "|    batch          | 2229     |\n",
      "|    ent_loss       | 0.000621 |\n",
      "|    entropy        | -0.621   |\n",
      "|    epoch          | 223      |\n",
      "|    l2_loss        | 0        |\n",
      "|    l2_norm        | 4.88e+03 |\n",
      "|    loss           | 4.76     |\n",
      "|    neglogp        | 4.76     |\n",
      "|    prob_true_act  | 0.135    |\n",
      "|    samples_so_far | 4567040  |\n",
      "--------------------------------\n"
     ]
    },
    {
     "name": "stderr",
     "output_type": "stream",
     "text": [
      "2240batch [13:42,  2.91batch/s]"
     ]
    },
    {
     "name": "stdout",
     "output_type": "stream",
     "text": [
      "--------------------------------\n",
      "| batch_size        | 2048     |\n",
      "| bc/               |          |\n",
      "|    batch          | 2239     |\n",
      "|    ent_loss       | 0.000616 |\n",
      "|    entropy        | -0.616   |\n",
      "|    epoch          | 224      |\n",
      "|    l2_loss        | 0        |\n",
      "|    l2_norm        | 4.88e+03 |\n",
      "|    loss           | 4.83     |\n",
      "|    neglogp        | 4.83     |\n",
      "|    prob_true_act  | 0.128    |\n",
      "|    samples_so_far | 4587520  |\n",
      "--------------------------------\n"
     ]
    },
    {
     "name": "stderr",
     "output_type": "stream",
     "text": [
      "2250batch [13:45,  2.93batch/s]"
     ]
    },
    {
     "name": "stdout",
     "output_type": "stream",
     "text": [
      "--------------------------------\n",
      "| batch_size        | 2048     |\n",
      "| bc/               |          |\n",
      "|    batch          | 2249     |\n",
      "|    ent_loss       | 0.000611 |\n",
      "|    entropy        | -0.611   |\n",
      "|    epoch          | 225      |\n",
      "|    l2_loss        | 0        |\n",
      "|    l2_norm        | 4.88e+03 |\n",
      "|    loss           | 4.89     |\n",
      "|    neglogp        | 4.89     |\n",
      "|    prob_true_act  | 0.138    |\n",
      "|    samples_so_far | 4608000  |\n",
      "--------------------------------\n"
     ]
    },
    {
     "name": "stderr",
     "output_type": "stream",
     "text": [
      "2260batch [13:49,  2.97batch/s]"
     ]
    },
    {
     "name": "stdout",
     "output_type": "stream",
     "text": [
      "--------------------------------\n",
      "| batch_size        | 2048     |\n",
      "| bc/               |          |\n",
      "|    batch          | 2259     |\n",
      "|    ent_loss       | 0.000605 |\n",
      "|    entropy        | -0.605   |\n",
      "|    epoch          | 226      |\n",
      "|    l2_loss        | 0        |\n",
      "|    l2_norm        | 4.88e+03 |\n",
      "|    loss           | 4.8      |\n",
      "|    neglogp        | 4.8      |\n",
      "|    prob_true_act  | 0.138    |\n",
      "|    samples_so_far | 4628480  |\n",
      "--------------------------------\n"
     ]
    },
    {
     "name": "stderr",
     "output_type": "stream",
     "text": [
      "2270batch [13:53,  2.94batch/s]"
     ]
    },
    {
     "name": "stdout",
     "output_type": "stream",
     "text": [
      "--------------------------------\n",
      "| batch_size        | 2048     |\n",
      "| bc/               |          |\n",
      "|    batch          | 2269     |\n",
      "|    ent_loss       | 0.0006   |\n",
      "|    entropy        | -0.6     |\n",
      "|    epoch          | 227      |\n",
      "|    l2_loss        | 0        |\n",
      "|    l2_norm        | 4.88e+03 |\n",
      "|    loss           | 4.72     |\n",
      "|    neglogp        | 4.72     |\n",
      "|    prob_true_act  | 0.157    |\n",
      "|    samples_so_far | 4648960  |\n",
      "--------------------------------\n"
     ]
    },
    {
     "name": "stderr",
     "output_type": "stream",
     "text": [
      "2280batch [13:56,  2.64batch/s]"
     ]
    },
    {
     "name": "stdout",
     "output_type": "stream",
     "text": [
      "--------------------------------\n",
      "| batch_size        | 2048     |\n",
      "| bc/               |          |\n",
      "|    batch          | 2279     |\n",
      "|    ent_loss       | 0.000595 |\n",
      "|    entropy        | -0.595   |\n",
      "|    epoch          | 228      |\n",
      "|    l2_loss        | 0        |\n",
      "|    l2_norm        | 4.88e+03 |\n",
      "|    loss           | 4.45     |\n",
      "|    neglogp        | 4.45     |\n",
      "|    prob_true_act  | 0.153    |\n",
      "|    samples_so_far | 4669440  |\n",
      "--------------------------------\n"
     ]
    },
    {
     "name": "stderr",
     "output_type": "stream",
     "text": [
      "2290batch [14:00,  2.90batch/s]"
     ]
    },
    {
     "name": "stdout",
     "output_type": "stream",
     "text": [
      "--------------------------------\n",
      "| batch_size        | 2048     |\n",
      "| bc/               |          |\n",
      "|    batch          | 2289     |\n",
      "|    ent_loss       | 0.00059  |\n",
      "|    entropy        | -0.59    |\n",
      "|    epoch          | 229      |\n",
      "|    l2_loss        | 0        |\n",
      "|    l2_norm        | 4.88e+03 |\n",
      "|    loss           | 4.28     |\n",
      "|    neglogp        | 4.28     |\n",
      "|    prob_true_act  | 0.162    |\n",
      "|    samples_so_far | 4689920  |\n",
      "--------------------------------\n"
     ]
    },
    {
     "name": "stderr",
     "output_type": "stream",
     "text": [
      "2300batch [14:04,  2.95batch/s]"
     ]
    },
    {
     "name": "stdout",
     "output_type": "stream",
     "text": [
      "--------------------------------\n",
      "| batch_size        | 2048     |\n",
      "| bc/               |          |\n",
      "|    batch          | 2299     |\n",
      "|    ent_loss       | 0.000585 |\n",
      "|    entropy        | -0.585   |\n",
      "|    epoch          | 230      |\n",
      "|    l2_loss        | 0        |\n",
      "|    l2_norm        | 4.88e+03 |\n",
      "|    loss           | 4.51     |\n",
      "|    neglogp        | 4.51     |\n",
      "|    prob_true_act  | 0.158    |\n",
      "|    samples_so_far | 4710400  |\n",
      "--------------------------------\n"
     ]
    },
    {
     "name": "stderr",
     "output_type": "stream",
     "text": [
      "2310batch [14:07,  2.99batch/s]"
     ]
    },
    {
     "name": "stdout",
     "output_type": "stream",
     "text": [
      "--------------------------------\n",
      "| batch_size        | 2048     |\n",
      "| bc/               |          |\n",
      "|    batch          | 2309     |\n",
      "|    ent_loss       | 0.00058  |\n",
      "|    entropy        | -0.58    |\n",
      "|    epoch          | 231      |\n",
      "|    l2_loss        | 0        |\n",
      "|    l2_norm        | 4.88e+03 |\n",
      "|    loss           | 4.49     |\n",
      "|    neglogp        | 4.49     |\n",
      "|    prob_true_act  | 0.165    |\n",
      "|    samples_so_far | 4730880  |\n",
      "--------------------------------\n"
     ]
    },
    {
     "name": "stderr",
     "output_type": "stream",
     "text": [
      "2320batch [14:11,  2.91batch/s]"
     ]
    },
    {
     "name": "stdout",
     "output_type": "stream",
     "text": [
      "--------------------------------\n",
      "| batch_size        | 2048     |\n",
      "| bc/               |          |\n",
      "|    batch          | 2319     |\n",
      "|    ent_loss       | 0.000575 |\n",
      "|    entropy        | -0.575   |\n",
      "|    epoch          | 232      |\n",
      "|    l2_loss        | 0        |\n",
      "|    l2_norm        | 4.88e+03 |\n",
      "|    loss           | 4.51     |\n",
      "|    neglogp        | 4.51     |\n",
      "|    prob_true_act  | 0.176    |\n",
      "|    samples_so_far | 4751360  |\n",
      "--------------------------------\n"
     ]
    },
    {
     "name": "stderr",
     "output_type": "stream",
     "text": [
      "2330batch [14:14,  2.87batch/s]"
     ]
    },
    {
     "name": "stdout",
     "output_type": "stream",
     "text": [
      "--------------------------------\n",
      "| batch_size        | 2048     |\n",
      "| bc/               |          |\n",
      "|    batch          | 2329     |\n",
      "|    ent_loss       | 0.00057  |\n",
      "|    entropy        | -0.57    |\n",
      "|    epoch          | 233      |\n",
      "|    l2_loss        | 0        |\n",
      "|    l2_norm        | 4.88e+03 |\n",
      "|    loss           | 4.3      |\n",
      "|    neglogp        | 4.3      |\n",
      "|    prob_true_act  | 0.177    |\n",
      "|    samples_so_far | 4771840  |\n",
      "--------------------------------\n"
     ]
    },
    {
     "name": "stderr",
     "output_type": "stream",
     "text": [
      "2340batch [14:18,  2.93batch/s]"
     ]
    },
    {
     "name": "stdout",
     "output_type": "stream",
     "text": [
      "--------------------------------\n",
      "| batch_size        | 2048     |\n",
      "| bc/               |          |\n",
      "|    batch          | 2339     |\n",
      "|    ent_loss       | 0.000565 |\n",
      "|    entropy        | -0.565   |\n",
      "|    epoch          | 234      |\n",
      "|    l2_loss        | 0        |\n",
      "|    l2_norm        | 4.88e+03 |\n",
      "|    loss           | 4.23     |\n",
      "|    neglogp        | 4.23     |\n",
      "|    prob_true_act  | 0.172    |\n",
      "|    samples_so_far | 4792320  |\n",
      "--------------------------------\n"
     ]
    },
    {
     "name": "stderr",
     "output_type": "stream",
     "text": [
      "2350batch [14:22,  2.89batch/s]"
     ]
    },
    {
     "name": "stdout",
     "output_type": "stream",
     "text": [
      "--------------------------------\n",
      "| batch_size        | 2048     |\n",
      "| bc/               |          |\n",
      "|    batch          | 2349     |\n",
      "|    ent_loss       | 0.00056  |\n",
      "|    entropy        | -0.56    |\n",
      "|    epoch          | 235      |\n",
      "|    l2_loss        | 0        |\n",
      "|    l2_norm        | 4.88e+03 |\n",
      "|    loss           | 4.15     |\n",
      "|    neglogp        | 4.15     |\n",
      "|    prob_true_act  | 0.179    |\n",
      "|    samples_so_far | 4812800  |\n",
      "--------------------------------\n"
     ]
    },
    {
     "name": "stderr",
     "output_type": "stream",
     "text": [
      "2360batch [14:25,  2.95batch/s]"
     ]
    },
    {
     "name": "stdout",
     "output_type": "stream",
     "text": [
      "--------------------------------\n",
      "| batch_size        | 2048     |\n",
      "| bc/               |          |\n",
      "|    batch          | 2359     |\n",
      "|    ent_loss       | 0.000555 |\n",
      "|    entropy        | -0.555   |\n",
      "|    epoch          | 236      |\n",
      "|    l2_loss        | 0        |\n",
      "|    l2_norm        | 4.88e+03 |\n",
      "|    loss           | 4.09     |\n",
      "|    neglogp        | 4.09     |\n",
      "|    prob_true_act  | 0.192    |\n",
      "|    samples_so_far | 4833280  |\n",
      "--------------------------------\n"
     ]
    },
    {
     "name": "stderr",
     "output_type": "stream",
     "text": [
      "2370batch [14:29,  2.67batch/s]"
     ]
    },
    {
     "name": "stdout",
     "output_type": "stream",
     "text": [
      "--------------------------------\n",
      "| batch_size        | 2048     |\n",
      "| bc/               |          |\n",
      "|    batch          | 2369     |\n",
      "|    ent_loss       | 0.00055  |\n",
      "|    entropy        | -0.55    |\n",
      "|    epoch          | 237      |\n",
      "|    l2_loss        | 0        |\n",
      "|    l2_norm        | 4.88e+03 |\n",
      "|    loss           | 3.95     |\n",
      "|    neglogp        | 3.95     |\n",
      "|    prob_true_act  | 0.186    |\n",
      "|    samples_so_far | 4853760  |\n",
      "--------------------------------\n"
     ]
    },
    {
     "name": "stderr",
     "output_type": "stream",
     "text": [
      "2380batch [14:33,  2.84batch/s]"
     ]
    },
    {
     "name": "stdout",
     "output_type": "stream",
     "text": [
      "--------------------------------\n",
      "| batch_size        | 2048     |\n",
      "| bc/               |          |\n",
      "|    batch          | 2379     |\n",
      "|    ent_loss       | 0.000545 |\n",
      "|    entropy        | -0.545   |\n",
      "|    epoch          | 238      |\n",
      "|    l2_loss        | 0        |\n",
      "|    l2_norm        | 4.88e+03 |\n",
      "|    loss           | 4.1      |\n",
      "|    neglogp        | 4.1      |\n",
      "|    prob_true_act  | 0.191    |\n",
      "|    samples_so_far | 4874240  |\n",
      "--------------------------------\n"
     ]
    },
    {
     "name": "stderr",
     "output_type": "stream",
     "text": [
      "2390batch [14:36,  2.94batch/s]"
     ]
    },
    {
     "name": "stdout",
     "output_type": "stream",
     "text": [
      "--------------------------------\n",
      "| batch_size        | 2048     |\n",
      "| bc/               |          |\n",
      "|    batch          | 2389     |\n",
      "|    ent_loss       | 0.000541 |\n",
      "|    entropy        | -0.541   |\n",
      "|    epoch          | 239      |\n",
      "|    l2_loss        | 0        |\n",
      "|    l2_norm        | 4.88e+03 |\n",
      "|    loss           | 3.81     |\n",
      "|    neglogp        | 3.81     |\n",
      "|    prob_true_act  | 0.193    |\n",
      "|    samples_so_far | 4894720  |\n",
      "--------------------------------\n"
     ]
    },
    {
     "name": "stderr",
     "output_type": "stream",
     "text": [
      "2400batch [14:40,  2.97batch/s]"
     ]
    },
    {
     "name": "stdout",
     "output_type": "stream",
     "text": [
      "--------------------------------\n",
      "| batch_size        | 2048     |\n",
      "| bc/               |          |\n",
      "|    batch          | 2399     |\n",
      "|    ent_loss       | 0.000536 |\n",
      "|    entropy        | -0.536   |\n",
      "|    epoch          | 240      |\n",
      "|    l2_loss        | 0        |\n",
      "|    l2_norm        | 4.88e+03 |\n",
      "|    loss           | 4.04     |\n",
      "|    neglogp        | 4.04     |\n",
      "|    prob_true_act  | 0.204    |\n",
      "|    samples_so_far | 4915200  |\n",
      "--------------------------------\n"
     ]
    },
    {
     "name": "stderr",
     "output_type": "stream",
     "text": [
      "2410batch [14:43,  2.91batch/s]"
     ]
    },
    {
     "name": "stdout",
     "output_type": "stream",
     "text": [
      "--------------------------------\n",
      "| batch_size        | 2048     |\n",
      "| bc/               |          |\n",
      "|    batch          | 2409     |\n",
      "|    ent_loss       | 0.000531 |\n",
      "|    entropy        | -0.531   |\n",
      "|    epoch          | 241      |\n",
      "|    l2_loss        | 0        |\n",
      "|    l2_norm        | 4.88e+03 |\n",
      "|    loss           | 4.08     |\n",
      "|    neglogp        | 4.08     |\n",
      "|    prob_true_act  | 0.203    |\n",
      "|    samples_so_far | 4935680  |\n",
      "--------------------------------\n"
     ]
    },
    {
     "name": "stderr",
     "output_type": "stream",
     "text": [
      "2420batch [14:47,  2.88batch/s]"
     ]
    },
    {
     "name": "stdout",
     "output_type": "stream",
     "text": [
      "--------------------------------\n",
      "| batch_size        | 2048     |\n",
      "| bc/               |          |\n",
      "|    batch          | 2419     |\n",
      "|    ent_loss       | 0.000526 |\n",
      "|    entropy        | -0.526   |\n",
      "|    epoch          | 242      |\n",
      "|    l2_loss        | 0        |\n",
      "|    l2_norm        | 4.88e+03 |\n",
      "|    loss           | 3.96     |\n",
      "|    neglogp        | 3.96     |\n",
      "|    prob_true_act  | 0.21     |\n",
      "|    samples_so_far | 4956160  |\n",
      "--------------------------------\n"
     ]
    },
    {
     "name": "stderr",
     "output_type": "stream",
     "text": [
      "2430batch [14:51,  2.92batch/s]"
     ]
    },
    {
     "name": "stdout",
     "output_type": "stream",
     "text": [
      "--------------------------------\n",
      "| batch_size        | 2048     |\n",
      "| bc/               |          |\n",
      "|    batch          | 2429     |\n",
      "|    ent_loss       | 0.000522 |\n",
      "|    entropy        | -0.522   |\n",
      "|    epoch          | 243      |\n",
      "|    l2_loss        | 0        |\n",
      "|    l2_norm        | 4.88e+03 |\n",
      "|    loss           | 4.09     |\n",
      "|    neglogp        | 4.09     |\n",
      "|    prob_true_act  | 0.211    |\n",
      "|    samples_so_far | 4976640  |\n",
      "--------------------------------\n"
     ]
    },
    {
     "name": "stderr",
     "output_type": "stream",
     "text": [
      "2440batch [14:55,  2.97batch/s]"
     ]
    },
    {
     "name": "stdout",
     "output_type": "stream",
     "text": [
      "--------------------------------\n",
      "| batch_size        | 2048     |\n",
      "| bc/               |          |\n",
      "|    batch          | 2439     |\n",
      "|    ent_loss       | 0.000517 |\n",
      "|    entropy        | -0.517   |\n",
      "|    epoch          | 244      |\n",
      "|    l2_loss        | 0        |\n",
      "|    l2_norm        | 4.88e+03 |\n",
      "|    loss           | 3.73     |\n",
      "|    neglogp        | 3.73     |\n",
      "|    prob_true_act  | 0.211    |\n",
      "|    samples_so_far | 4997120  |\n",
      "--------------------------------\n"
     ]
    },
    {
     "name": "stderr",
     "output_type": "stream",
     "text": [
      "2450batch [14:58,  2.94batch/s]"
     ]
    },
    {
     "name": "stdout",
     "output_type": "stream",
     "text": [
      "--------------------------------\n",
      "| batch_size        | 2048     |\n",
      "| bc/               |          |\n",
      "|    batch          | 2449     |\n",
      "|    ent_loss       | 0.000512 |\n",
      "|    entropy        | -0.512   |\n",
      "|    epoch          | 245      |\n",
      "|    l2_loss        | 0        |\n",
      "|    l2_norm        | 4.88e+03 |\n",
      "|    loss           | 3.89     |\n",
      "|    neglogp        | 3.89     |\n",
      "|    prob_true_act  | 0.229    |\n",
      "|    samples_so_far | 5017600  |\n",
      "--------------------------------\n"
     ]
    },
    {
     "name": "stderr",
     "output_type": "stream",
     "text": [
      "2460batch [15:02,  2.84batch/s]"
     ]
    },
    {
     "name": "stdout",
     "output_type": "stream",
     "text": [
      "--------------------------------\n",
      "| batch_size        | 2048     |\n",
      "| bc/               |          |\n",
      "|    batch          | 2459     |\n",
      "|    ent_loss       | 0.000508 |\n",
      "|    entropy        | -0.508   |\n",
      "|    epoch          | 246      |\n",
      "|    l2_loss        | 0        |\n",
      "|    l2_norm        | 4.88e+03 |\n",
      "|    loss           | 3.78     |\n",
      "|    neglogp        | 3.78     |\n",
      "|    prob_true_act  | 0.23     |\n",
      "|    samples_so_far | 5038080  |\n",
      "--------------------------------\n"
     ]
    },
    {
     "name": "stderr",
     "output_type": "stream",
     "text": [
      "2470batch [15:05,  2.94batch/s]"
     ]
    },
    {
     "name": "stdout",
     "output_type": "stream",
     "text": [
      "--------------------------------\n",
      "| batch_size        | 2048     |\n",
      "| bc/               |          |\n",
      "|    batch          | 2469     |\n",
      "|    ent_loss       | 0.000503 |\n",
      "|    entropy        | -0.503   |\n",
      "|    epoch          | 247      |\n",
      "|    l2_loss        | 0        |\n",
      "|    l2_norm        | 4.88e+03 |\n",
      "|    loss           | 3.73     |\n",
      "|    neglogp        | 3.73     |\n",
      "|    prob_true_act  | 0.23     |\n",
      "|    samples_so_far | 5058560  |\n",
      "--------------------------------\n"
     ]
    },
    {
     "name": "stderr",
     "output_type": "stream",
     "text": [
      "2480batch [15:09,  2.97batch/s]"
     ]
    },
    {
     "name": "stdout",
     "output_type": "stream",
     "text": [
      "--------------------------------\n",
      "| batch_size        | 2048     |\n",
      "| bc/               |          |\n",
      "|    batch          | 2479     |\n",
      "|    ent_loss       | 0.000499 |\n",
      "|    entropy        | -0.499   |\n",
      "|    epoch          | 248      |\n",
      "|    l2_loss        | 0        |\n",
      "|    l2_norm        | 4.88e+03 |\n",
      "|    loss           | 3.51     |\n",
      "|    neglogp        | 3.51     |\n",
      "|    prob_true_act  | 0.235    |\n",
      "|    samples_so_far | 5079040  |\n",
      "--------------------------------\n"
     ]
    },
    {
     "name": "stderr",
     "output_type": "stream",
     "text": [
      "2490batch [15:12,  2.96batch/s]"
     ]
    },
    {
     "name": "stdout",
     "output_type": "stream",
     "text": [
      "--------------------------------\n",
      "| batch_size        | 2048     |\n",
      "| bc/               |          |\n",
      "|    batch          | 2489     |\n",
      "|    ent_loss       | 0.000494 |\n",
      "|    entropy        | -0.494   |\n",
      "|    epoch          | 249      |\n",
      "|    l2_loss        | 0        |\n",
      "|    l2_norm        | 4.88e+03 |\n",
      "|    loss           | 3.8      |\n",
      "|    neglogp        | 3.8      |\n",
      "|    prob_true_act  | 0.25     |\n",
      "|    samples_so_far | 5099520  |\n",
      "--------------------------------\n"
     ]
    },
    {
     "name": "stderr",
     "output_type": "stream",
     "text": [
      "2500batch [15:16,  2.66batch/s]"
     ]
    },
    {
     "name": "stdout",
     "output_type": "stream",
     "text": [
      "--------------------------------\n",
      "| batch_size        | 2048     |\n",
      "| bc/               |          |\n",
      "|    batch          | 2499     |\n",
      "|    ent_loss       | 0.00049  |\n",
      "|    entropy        | -0.49    |\n",
      "|    epoch          | 250      |\n",
      "|    l2_loss        | 0        |\n",
      "|    l2_norm        | 4.88e+03 |\n",
      "|    loss           | 3.66     |\n",
      "|    neglogp        | 3.66     |\n",
      "|    prob_true_act  | 0.243    |\n",
      "|    samples_so_far | 5120000  |\n",
      "--------------------------------\n"
     ]
    },
    {
     "name": "stderr",
     "output_type": "stream",
     "text": [
      "2510batch [15:20,  2.83batch/s]"
     ]
    },
    {
     "name": "stdout",
     "output_type": "stream",
     "text": [
      "--------------------------------\n",
      "| batch_size        | 2048     |\n",
      "| bc/               |          |\n",
      "|    batch          | 2509     |\n",
      "|    ent_loss       | 0.000485 |\n",
      "|    entropy        | -0.485   |\n",
      "|    epoch          | 251      |\n",
      "|    l2_loss        | 0        |\n",
      "|    l2_norm        | 4.88e+03 |\n",
      "|    loss           | 3.53     |\n",
      "|    neglogp        | 3.53     |\n",
      "|    prob_true_act  | 0.241    |\n",
      "|    samples_so_far | 5140480  |\n",
      "--------------------------------\n"
     ]
    },
    {
     "name": "stderr",
     "output_type": "stream",
     "text": [
      "2520batch [15:23,  3.01batch/s]"
     ]
    },
    {
     "name": "stdout",
     "output_type": "stream",
     "text": [
      "--------------------------------\n",
      "| batch_size        | 2048     |\n",
      "| bc/               |          |\n",
      "|    batch          | 2519     |\n",
      "|    ent_loss       | 0.000481 |\n",
      "|    entropy        | -0.481   |\n",
      "|    epoch          | 252      |\n",
      "|    l2_loss        | 0        |\n",
      "|    l2_norm        | 4.88e+03 |\n",
      "|    loss           | 3.62     |\n",
      "|    neglogp        | 3.62     |\n",
      "|    prob_true_act  | 0.243    |\n",
      "|    samples_so_far | 5160960  |\n",
      "--------------------------------\n"
     ]
    },
    {
     "name": "stderr",
     "output_type": "stream",
     "text": [
      "2530batch [15:27,  2.97batch/s]"
     ]
    },
    {
     "name": "stdout",
     "output_type": "stream",
     "text": [
      "--------------------------------\n",
      "| batch_size        | 2048     |\n",
      "| bc/               |          |\n",
      "|    batch          | 2529     |\n",
      "|    ent_loss       | 0.000476 |\n",
      "|    entropy        | -0.476   |\n",
      "|    epoch          | 253      |\n",
      "|    l2_loss        | 0        |\n",
      "|    l2_norm        | 4.88e+03 |\n",
      "|    loss           | 3.44     |\n",
      "|    neglogp        | 3.44     |\n",
      "|    prob_true_act  | 0.249    |\n",
      "|    samples_so_far | 5181440  |\n",
      "--------------------------------\n"
     ]
    },
    {
     "name": "stderr",
     "output_type": "stream",
     "text": [
      "2540batch [15:31,  2.89batch/s]"
     ]
    },
    {
     "name": "stdout",
     "output_type": "stream",
     "text": [
      "--------------------------------\n",
      "| batch_size        | 2048     |\n",
      "| bc/               |          |\n",
      "|    batch          | 2539     |\n",
      "|    ent_loss       | 0.000472 |\n",
      "|    entropy        | -0.472   |\n",
      "|    epoch          | 254      |\n",
      "|    l2_loss        | 0        |\n",
      "|    l2_norm        | 4.88e+03 |\n",
      "|    loss           | 3.44     |\n",
      "|    neglogp        | 3.44     |\n",
      "|    prob_true_act  | 0.248    |\n",
      "|    samples_so_far | 5201920  |\n",
      "--------------------------------\n"
     ]
    },
    {
     "name": "stderr",
     "output_type": "stream",
     "text": [
      "2550batch [15:34,  2.98batch/s]"
     ]
    },
    {
     "name": "stdout",
     "output_type": "stream",
     "text": [
      "--------------------------------\n",
      "| batch_size        | 2048     |\n",
      "| bc/               |          |\n",
      "|    batch          | 2549     |\n",
      "|    ent_loss       | 0.000468 |\n",
      "|    entropy        | -0.468   |\n",
      "|    epoch          | 255      |\n",
      "|    l2_loss        | 0        |\n",
      "|    l2_norm        | 4.88e+03 |\n",
      "|    loss           | 3.44     |\n",
      "|    neglogp        | 3.44     |\n",
      "|    prob_true_act  | 0.265    |\n",
      "|    samples_so_far | 5222400  |\n",
      "--------------------------------\n"
     ]
    },
    {
     "name": "stderr",
     "output_type": "stream",
     "text": [
      "2560batch [15:38,  3.00batch/s]"
     ]
    },
    {
     "name": "stdout",
     "output_type": "stream",
     "text": [
      "--------------------------------\n",
      "| batch_size        | 2048     |\n",
      "| bc/               |          |\n",
      "|    batch          | 2559     |\n",
      "|    ent_loss       | 0.000463 |\n",
      "|    entropy        | -0.463   |\n",
      "|    epoch          | 256      |\n",
      "|    l2_loss        | 0        |\n",
      "|    l2_norm        | 4.88e+03 |\n",
      "|    loss           | 3.41     |\n",
      "|    neglogp        | 3.41     |\n",
      "|    prob_true_act  | 0.259    |\n",
      "|    samples_so_far | 5242880  |\n",
      "--------------------------------\n"
     ]
    },
    {
     "name": "stderr",
     "output_type": "stream",
     "text": [
      "2570batch [15:41,  2.98batch/s]"
     ]
    },
    {
     "name": "stdout",
     "output_type": "stream",
     "text": [
      "--------------------------------\n",
      "| batch_size        | 2048     |\n",
      "| bc/               |          |\n",
      "|    batch          | 2569     |\n",
      "|    ent_loss       | 0.000459 |\n",
      "|    entropy        | -0.459   |\n",
      "|    epoch          | 257      |\n",
      "|    l2_loss        | 0        |\n",
      "|    l2_norm        | 4.88e+03 |\n",
      "|    loss           | 3.28     |\n",
      "|    neglogp        | 3.28     |\n",
      "|    prob_true_act  | 0.277    |\n",
      "|    samples_so_far | 5263360  |\n",
      "--------------------------------\n"
     ]
    },
    {
     "name": "stderr",
     "output_type": "stream",
     "text": [
      "2580batch [15:45,  3.01batch/s]"
     ]
    },
    {
     "name": "stdout",
     "output_type": "stream",
     "text": [
      "--------------------------------\n",
      "| batch_size        | 2048     |\n",
      "| bc/               |          |\n",
      "|    batch          | 2579     |\n",
      "|    ent_loss       | 0.000455 |\n",
      "|    entropy        | -0.455   |\n",
      "|    epoch          | 258      |\n",
      "|    l2_loss        | 0        |\n",
      "|    l2_norm        | 4.88e+03 |\n",
      "|    loss           | 3.12     |\n",
      "|    neglogp        | 3.12     |\n",
      "|    prob_true_act  | 0.27     |\n",
      "|    samples_so_far | 5283840  |\n",
      "--------------------------------\n"
     ]
    },
    {
     "name": "stderr",
     "output_type": "stream",
     "text": [
      "2590batch [15:48,  3.01batch/s]"
     ]
    },
    {
     "name": "stdout",
     "output_type": "stream",
     "text": [
      "--------------------------------\n",
      "| batch_size        | 2048     |\n",
      "| bc/               |          |\n",
      "|    batch          | 2589     |\n",
      "|    ent_loss       | 0.00045  |\n",
      "|    entropy        | -0.45    |\n",
      "|    epoch          | 259      |\n",
      "|    l2_loss        | 0        |\n",
      "|    l2_norm        | 4.88e+03 |\n",
      "|    loss           | 3.31     |\n",
      "|    neglogp        | 3.31     |\n",
      "|    prob_true_act  | 0.27     |\n",
      "|    samples_so_far | 5304320  |\n",
      "--------------------------------\n"
     ]
    },
    {
     "name": "stderr",
     "output_type": "stream",
     "text": [
      "2600batch [15:52,  2.95batch/s]"
     ]
    },
    {
     "name": "stdout",
     "output_type": "stream",
     "text": [
      "--------------------------------\n",
      "| batch_size        | 2048     |\n",
      "| bc/               |          |\n",
      "|    batch          | 2599     |\n",
      "|    ent_loss       | 0.000446 |\n",
      "|    entropy        | -0.446   |\n",
      "|    epoch          | 260      |\n",
      "|    l2_loss        | 0        |\n",
      "|    l2_norm        | 4.88e+03 |\n",
      "|    loss           | 3.08     |\n",
      "|    neglogp        | 3.08     |\n",
      "|    prob_true_act  | 0.287    |\n",
      "|    samples_so_far | 5324800  |\n",
      "--------------------------------\n"
     ]
    },
    {
     "name": "stderr",
     "output_type": "stream",
     "text": [
      "2610batch [15:55,  2.98batch/s]"
     ]
    },
    {
     "name": "stdout",
     "output_type": "stream",
     "text": [
      "--------------------------------\n",
      "| batch_size        | 2048     |\n",
      "| bc/               |          |\n",
      "|    batch          | 2609     |\n",
      "|    ent_loss       | 0.000442 |\n",
      "|    entropy        | -0.442   |\n",
      "|    epoch          | 261      |\n",
      "|    l2_loss        | 0        |\n",
      "|    l2_norm        | 4.88e+03 |\n",
      "|    loss           | 3.11     |\n",
      "|    neglogp        | 3.11     |\n",
      "|    prob_true_act  | 0.281    |\n",
      "|    samples_so_far | 5345280  |\n",
      "--------------------------------\n"
     ]
    },
    {
     "name": "stderr",
     "output_type": "stream",
     "text": [
      "2620batch [15:59,  2.89batch/s]"
     ]
    },
    {
     "name": "stdout",
     "output_type": "stream",
     "text": [
      "--------------------------------\n",
      "| batch_size        | 2048     |\n",
      "| bc/               |          |\n",
      "|    batch          | 2619     |\n",
      "|    ent_loss       | 0.000438 |\n",
      "|    entropy        | -0.438   |\n",
      "|    epoch          | 262      |\n",
      "|    l2_loss        | 0        |\n",
      "|    l2_norm        | 4.88e+03 |\n",
      "|    loss           | 3.19     |\n",
      "|    neglogp        | 3.19     |\n",
      "|    prob_true_act  | 0.287    |\n",
      "|    samples_so_far | 5365760  |\n",
      "--------------------------------\n"
     ]
    },
    {
     "name": "stderr",
     "output_type": "stream",
     "text": [
      "2630batch [16:02,  2.95batch/s]"
     ]
    },
    {
     "name": "stdout",
     "output_type": "stream",
     "text": [
      "--------------------------------\n",
      "| batch_size        | 2048     |\n",
      "| bc/               |          |\n",
      "|    batch          | 2629     |\n",
      "|    ent_loss       | 0.000433 |\n",
      "|    entropy        | -0.433   |\n",
      "|    epoch          | 263      |\n",
      "|    l2_loss        | 0        |\n",
      "|    l2_norm        | 4.88e+03 |\n",
      "|    loss           | 3.08     |\n",
      "|    neglogp        | 3.08     |\n",
      "|    prob_true_act  | 0.288    |\n",
      "|    samples_so_far | 5386240  |\n",
      "--------------------------------\n"
     ]
    },
    {
     "name": "stderr",
     "output_type": "stream",
     "text": [
      "2640batch [16:06,  2.93batch/s]"
     ]
    },
    {
     "name": "stdout",
     "output_type": "stream",
     "text": [
      "--------------------------------\n",
      "| batch_size        | 2048     |\n",
      "| bc/               |          |\n",
      "|    batch          | 2639     |\n",
      "|    ent_loss       | 0.000429 |\n",
      "|    entropy        | -0.429   |\n",
      "|    epoch          | 264      |\n",
      "|    l2_loss        | 0        |\n",
      "|    l2_norm        | 4.88e+03 |\n",
      "|    loss           | 3.25     |\n",
      "|    neglogp        | 3.25     |\n",
      "|    prob_true_act  | 0.294    |\n",
      "|    samples_so_far | 5406720  |\n",
      "--------------------------------\n"
     ]
    },
    {
     "name": "stderr",
     "output_type": "stream",
     "text": [
      "2650batch [16:10,  2.94batch/s]"
     ]
    },
    {
     "name": "stdout",
     "output_type": "stream",
     "text": [
      "--------------------------------\n",
      "| batch_size        | 2048     |\n",
      "| bc/               |          |\n",
      "|    batch          | 2649     |\n",
      "|    ent_loss       | 0.000425 |\n",
      "|    entropy        | -0.425   |\n",
      "|    epoch          | 265      |\n",
      "|    l2_loss        | 0        |\n",
      "|    l2_norm        | 4.88e+03 |\n",
      "|    loss           | 3.02     |\n",
      "|    neglogp        | 3.02     |\n",
      "|    prob_true_act  | 0.294    |\n",
      "|    samples_so_far | 5427200  |\n",
      "--------------------------------\n"
     ]
    },
    {
     "name": "stderr",
     "output_type": "stream",
     "text": [
      "2660batch [16:13,  2.94batch/s]"
     ]
    },
    {
     "name": "stdout",
     "output_type": "stream",
     "text": [
      "--------------------------------\n",
      "| batch_size        | 2048     |\n",
      "| bc/               |          |\n",
      "|    batch          | 2659     |\n",
      "|    ent_loss       | 0.000421 |\n",
      "|    entropy        | -0.421   |\n",
      "|    epoch          | 266      |\n",
      "|    l2_loss        | 0        |\n",
      "|    l2_norm        | 4.88e+03 |\n",
      "|    loss           | 3.14     |\n",
      "|    neglogp        | 3.14     |\n",
      "|    prob_true_act  | 0.299    |\n",
      "|    samples_so_far | 5447680  |\n",
      "--------------------------------\n"
     ]
    },
    {
     "name": "stderr",
     "output_type": "stream",
     "text": [
      "2670batch [16:17,  2.96batch/s]"
     ]
    },
    {
     "name": "stdout",
     "output_type": "stream",
     "text": [
      "--------------------------------\n",
      "| batch_size        | 2048     |\n",
      "| bc/               |          |\n",
      "|    batch          | 2669     |\n",
      "|    ent_loss       | 0.000417 |\n",
      "|    entropy        | -0.417   |\n",
      "|    epoch          | 267      |\n",
      "|    l2_loss        | 0        |\n",
      "|    l2_norm        | 4.88e+03 |\n",
      "|    loss           | 3.01     |\n",
      "|    neglogp        | 3.01     |\n",
      "|    prob_true_act  | 0.299    |\n",
      "|    samples_so_far | 5468160  |\n",
      "--------------------------------\n"
     ]
    },
    {
     "name": "stderr",
     "output_type": "stream",
     "text": [
      "2680batch [16:20,  2.98batch/s]"
     ]
    },
    {
     "name": "stdout",
     "output_type": "stream",
     "text": [
      "--------------------------------\n",
      "| batch_size        | 2048     |\n",
      "| bc/               |          |\n",
      "|    batch          | 2679     |\n",
      "|    ent_loss       | 0.000413 |\n",
      "|    entropy        | -0.413   |\n",
      "|    epoch          | 268      |\n",
      "|    l2_loss        | 0        |\n",
      "|    l2_norm        | 4.88e+03 |\n",
      "|    loss           | 3.01     |\n",
      "|    neglogp        | 3.01     |\n",
      "|    prob_true_act  | 0.312    |\n",
      "|    samples_so_far | 5488640  |\n",
      "--------------------------------\n"
     ]
    },
    {
     "name": "stderr",
     "output_type": "stream",
     "text": [
      "2690batch [16:24,  2.99batch/s]"
     ]
    },
    {
     "name": "stdout",
     "output_type": "stream",
     "text": [
      "--------------------------------\n",
      "| batch_size        | 2048     |\n",
      "| bc/               |          |\n",
      "|    batch          | 2689     |\n",
      "|    ent_loss       | 0.000409 |\n",
      "|    entropy        | -0.409   |\n",
      "|    epoch          | 269      |\n",
      "|    l2_loss        | 0        |\n",
      "|    l2_norm        | 4.88e+03 |\n",
      "|    loss           | 3.1      |\n",
      "|    neglogp        | 3.1      |\n",
      "|    prob_true_act  | 0.312    |\n",
      "|    samples_so_far | 5509120  |\n",
      "--------------------------------\n"
     ]
    },
    {
     "name": "stderr",
     "output_type": "stream",
     "text": [
      "2700batch [16:27,  2.83batch/s]"
     ]
    },
    {
     "name": "stdout",
     "output_type": "stream",
     "text": [
      "--------------------------------\n",
      "| batch_size        | 2048     |\n",
      "| bc/               |          |\n",
      "|    batch          | 2699     |\n",
      "|    ent_loss       | 0.000405 |\n",
      "|    entropy        | -0.405   |\n",
      "|    epoch          | 270      |\n",
      "|    l2_loss        | 0        |\n",
      "|    l2_norm        | 4.88e+03 |\n",
      "|    loss           | 2.91     |\n",
      "|    neglogp        | 2.91     |\n",
      "|    prob_true_act  | 0.313    |\n",
      "|    samples_so_far | 5529600  |\n",
      "--------------------------------\n"
     ]
    },
    {
     "name": "stderr",
     "output_type": "stream",
     "text": [
      "2710batch [16:31,  2.98batch/s]"
     ]
    },
    {
     "name": "stdout",
     "output_type": "stream",
     "text": [
      "--------------------------------\n",
      "| batch_size        | 2048     |\n",
      "| bc/               |          |\n",
      "|    batch          | 2709     |\n",
      "|    ent_loss       | 0.000401 |\n",
      "|    entropy        | -0.401   |\n",
      "|    epoch          | 271      |\n",
      "|    l2_loss        | 0        |\n",
      "|    l2_norm        | 4.88e+03 |\n",
      "|    loss           | 2.94     |\n",
      "|    neglogp        | 2.94     |\n",
      "|    prob_true_act  | 0.316    |\n",
      "|    samples_so_far | 5550080  |\n",
      "--------------------------------\n"
     ]
    },
    {
     "name": "stderr",
     "output_type": "stream",
     "text": [
      "2720batch [16:35,  3.00batch/s]"
     ]
    },
    {
     "name": "stdout",
     "output_type": "stream",
     "text": [
      "--------------------------------\n",
      "| batch_size        | 2048     |\n",
      "| bc/               |          |\n",
      "|    batch          | 2719     |\n",
      "|    ent_loss       | 0.000397 |\n",
      "|    entropy        | -0.397   |\n",
      "|    epoch          | 272      |\n",
      "|    l2_loss        | 0        |\n",
      "|    l2_norm        | 4.88e+03 |\n",
      "|    loss           | 2.79     |\n",
      "|    neglogp        | 2.79     |\n",
      "|    prob_true_act  | 0.324    |\n",
      "|    samples_so_far | 5570560  |\n",
      "--------------------------------\n"
     ]
    },
    {
     "name": "stderr",
     "output_type": "stream",
     "text": [
      "2730batch [16:38,  2.98batch/s]"
     ]
    },
    {
     "name": "stdout",
     "output_type": "stream",
     "text": [
      "--------------------------------\n",
      "| batch_size        | 2048     |\n",
      "| bc/               |          |\n",
      "|    batch          | 2729     |\n",
      "|    ent_loss       | 0.000393 |\n",
      "|    entropy        | -0.393   |\n",
      "|    epoch          | 273      |\n",
      "|    l2_loss        | 0        |\n",
      "|    l2_norm        | 4.88e+03 |\n",
      "|    loss           | 3.08     |\n",
      "|    neglogp        | 3.08     |\n",
      "|    prob_true_act  | 0.331    |\n",
      "|    samples_so_far | 5591040  |\n",
      "--------------------------------\n"
     ]
    },
    {
     "name": "stderr",
     "output_type": "stream",
     "text": [
      "2740batch [16:42,  2.99batch/s]"
     ]
    },
    {
     "name": "stdout",
     "output_type": "stream",
     "text": [
      "--------------------------------\n",
      "| batch_size        | 2048     |\n",
      "| bc/               |          |\n",
      "|    batch          | 2739     |\n",
      "|    ent_loss       | 0.000389 |\n",
      "|    entropy        | -0.389   |\n",
      "|    epoch          | 274      |\n",
      "|    l2_loss        | 0        |\n",
      "|    l2_norm        | 4.88e+03 |\n",
      "|    loss           | 2.77     |\n",
      "|    neglogp        | 2.77     |\n",
      "|    prob_true_act  | 0.333    |\n",
      "|    samples_so_far | 5611520  |\n",
      "--------------------------------\n"
     ]
    },
    {
     "name": "stderr",
     "output_type": "stream",
     "text": [
      "2750batch [16:45,  3.00batch/s]"
     ]
    },
    {
     "name": "stdout",
     "output_type": "stream",
     "text": [
      "--------------------------------\n",
      "| batch_size        | 2048     |\n",
      "| bc/               |          |\n",
      "|    batch          | 2749     |\n",
      "|    ent_loss       | 0.000385 |\n",
      "|    entropy        | -0.385   |\n",
      "|    epoch          | 275      |\n",
      "|    l2_loss        | 0        |\n",
      "|    l2_norm        | 4.88e+03 |\n",
      "|    loss           | 2.78     |\n",
      "|    neglogp        | 2.78     |\n",
      "|    prob_true_act  | 0.346    |\n",
      "|    samples_so_far | 5632000  |\n",
      "--------------------------------\n"
     ]
    },
    {
     "name": "stderr",
     "output_type": "stream",
     "text": [
      "2760batch [16:49,  2.91batch/s]"
     ]
    },
    {
     "name": "stdout",
     "output_type": "stream",
     "text": [
      "--------------------------------\n",
      "| batch_size        | 2048     |\n",
      "| bc/               |          |\n",
      "|    batch          | 2759     |\n",
      "|    ent_loss       | 0.000381 |\n",
      "|    entropy        | -0.381   |\n",
      "|    epoch          | 276      |\n",
      "|    l2_loss        | 0        |\n",
      "|    l2_norm        | 4.88e+03 |\n",
      "|    loss           | 2.89     |\n",
      "|    neglogp        | 2.89     |\n",
      "|    prob_true_act  | 0.337    |\n",
      "|    samples_so_far | 5652480  |\n",
      "--------------------------------\n"
     ]
    },
    {
     "name": "stderr",
     "output_type": "stream",
     "text": [
      "2770batch [16:52,  2.97batch/s]"
     ]
    },
    {
     "name": "stdout",
     "output_type": "stream",
     "text": [
      "--------------------------------\n",
      "| batch_size        | 2048     |\n",
      "| bc/               |          |\n",
      "|    batch          | 2769     |\n",
      "|    ent_loss       | 0.000377 |\n",
      "|    entropy        | -0.377   |\n",
      "|    epoch          | 277      |\n",
      "|    l2_loss        | 0        |\n",
      "|    l2_norm        | 4.88e+03 |\n",
      "|    loss           | 2.73     |\n",
      "|    neglogp        | 2.73     |\n",
      "|    prob_true_act  | 0.339    |\n",
      "|    samples_so_far | 5672960  |\n",
      "--------------------------------\n"
     ]
    },
    {
     "name": "stderr",
     "output_type": "stream",
     "text": [
      "2780batch [16:56,  2.63batch/s]"
     ]
    },
    {
     "name": "stdout",
     "output_type": "stream",
     "text": [
      "--------------------------------\n",
      "| batch_size        | 2048     |\n",
      "| bc/               |          |\n",
      "|    batch          | 2779     |\n",
      "|    ent_loss       | 0.000373 |\n",
      "|    entropy        | -0.373   |\n",
      "|    epoch          | 278      |\n",
      "|    l2_loss        | 0        |\n",
      "|    l2_norm        | 4.88e+03 |\n",
      "|    loss           | 2.66     |\n",
      "|    neglogp        | 2.66     |\n",
      "|    prob_true_act  | 0.352    |\n",
      "|    samples_so_far | 5693440  |\n",
      "--------------------------------\n"
     ]
    },
    {
     "name": "stderr",
     "output_type": "stream",
     "text": [
      "2790batch [17:00,  2.92batch/s]"
     ]
    },
    {
     "name": "stdout",
     "output_type": "stream",
     "text": [
      "--------------------------------\n",
      "| batch_size        | 2048     |\n",
      "| bc/               |          |\n",
      "|    batch          | 2789     |\n",
      "|    ent_loss       | 0.000369 |\n",
      "|    entropy        | -0.369   |\n",
      "|    epoch          | 279      |\n",
      "|    l2_loss        | 0        |\n",
      "|    l2_norm        | 4.88e+03 |\n",
      "|    loss           | 2.73     |\n",
      "|    neglogp        | 2.73     |\n",
      "|    prob_true_act  | 0.348    |\n",
      "|    samples_so_far | 5713920  |\n",
      "--------------------------------\n"
     ]
    },
    {
     "name": "stderr",
     "output_type": "stream",
     "text": [
      "2800batch [17:03,  2.97batch/s]"
     ]
    },
    {
     "name": "stdout",
     "output_type": "stream",
     "text": [
      "--------------------------------\n",
      "| batch_size        | 2048     |\n",
      "| bc/               |          |\n",
      "|    batch          | 2799     |\n",
      "|    ent_loss       | 0.000365 |\n",
      "|    entropy        | -0.365   |\n",
      "|    epoch          | 280      |\n",
      "|    l2_loss        | 0        |\n",
      "|    l2_norm        | 4.88e+03 |\n",
      "|    loss           | 2.71     |\n",
      "|    neglogp        | 2.71     |\n",
      "|    prob_true_act  | 0.355    |\n",
      "|    samples_so_far | 5734400  |\n",
      "--------------------------------\n"
     ]
    },
    {
     "name": "stderr",
     "output_type": "stream",
     "text": [
      "2810batch [17:07,  2.89batch/s]"
     ]
    },
    {
     "name": "stdout",
     "output_type": "stream",
     "text": [
      "--------------------------------\n",
      "| batch_size        | 2048     |\n",
      "| bc/               |          |\n",
      "|    batch          | 2809     |\n",
      "|    ent_loss       | 0.000361 |\n",
      "|    entropy        | -0.361   |\n",
      "|    epoch          | 281      |\n",
      "|    l2_loss        | 0        |\n",
      "|    l2_norm        | 4.88e+03 |\n",
      "|    loss           | 2.79     |\n",
      "|    neglogp        | 2.79     |\n",
      "|    prob_true_act  | 0.361    |\n",
      "|    samples_so_far | 5754880  |\n",
      "--------------------------------\n"
     ]
    },
    {
     "name": "stderr",
     "output_type": "stream",
     "text": [
      "2820batch [17:10,  2.98batch/s]"
     ]
    },
    {
     "name": "stdout",
     "output_type": "stream",
     "text": [
      "--------------------------------\n",
      "| batch_size        | 2048     |\n",
      "| bc/               |          |\n",
      "|    batch          | 2819     |\n",
      "|    ent_loss       | 0.000357 |\n",
      "|    entropy        | -0.357   |\n",
      "|    epoch          | 282      |\n",
      "|    l2_loss        | 0        |\n",
      "|    l2_norm        | 4.88e+03 |\n",
      "|    loss           | 2.66     |\n",
      "|    neglogp        | 2.66     |\n",
      "|    prob_true_act  | 0.368    |\n",
      "|    samples_so_far | 5775360  |\n",
      "--------------------------------\n"
     ]
    },
    {
     "name": "stderr",
     "output_type": "stream",
     "text": [
      "2830batch [17:14,  2.90batch/s]"
     ]
    },
    {
     "name": "stdout",
     "output_type": "stream",
     "text": [
      "--------------------------------\n",
      "| batch_size        | 2048     |\n",
      "| bc/               |          |\n",
      "|    batch          | 2829     |\n",
      "|    ent_loss       | 0.000354 |\n",
      "|    entropy        | -0.354   |\n",
      "|    epoch          | 283      |\n",
      "|    l2_loss        | 0        |\n",
      "|    l2_norm        | 4.88e+03 |\n",
      "|    loss           | 2.68     |\n",
      "|    neglogp        | 2.68     |\n",
      "|    prob_true_act  | 0.367    |\n",
      "|    samples_so_far | 5795840  |\n",
      "--------------------------------\n"
     ]
    },
    {
     "name": "stderr",
     "output_type": "stream",
     "text": [
      "2840batch [17:18,  2.97batch/s]"
     ]
    },
    {
     "name": "stdout",
     "output_type": "stream",
     "text": [
      "--------------------------------\n",
      "| batch_size        | 2048     |\n",
      "| bc/               |          |\n",
      "|    batch          | 2839     |\n",
      "|    ent_loss       | 0.00035  |\n",
      "|    entropy        | -0.35    |\n",
      "|    epoch          | 284      |\n",
      "|    l2_loss        | 0        |\n",
      "|    l2_norm        | 4.88e+03 |\n",
      "|    loss           | 2.69     |\n",
      "|    neglogp        | 2.69     |\n",
      "|    prob_true_act  | 0.37     |\n",
      "|    samples_so_far | 5816320  |\n",
      "--------------------------------\n"
     ]
    },
    {
     "name": "stderr",
     "output_type": "stream",
     "text": [
      "2850batch [17:21,  3.01batch/s]"
     ]
    },
    {
     "name": "stdout",
     "output_type": "stream",
     "text": [
      "--------------------------------\n",
      "| batch_size        | 2048     |\n",
      "| bc/               |          |\n",
      "|    batch          | 2849     |\n",
      "|    ent_loss       | 0.000346 |\n",
      "|    entropy        | -0.346   |\n",
      "|    epoch          | 285      |\n",
      "|    l2_loss        | 0        |\n",
      "|    l2_norm        | 4.88e+03 |\n",
      "|    loss           | 2.72     |\n",
      "|    neglogp        | 2.72     |\n",
      "|    prob_true_act  | 0.369    |\n",
      "|    samples_so_far | 5836800  |\n",
      "--------------------------------\n"
     ]
    },
    {
     "name": "stderr",
     "output_type": "stream",
     "text": [
      "2860batch [17:25,  2.81batch/s]"
     ]
    },
    {
     "name": "stdout",
     "output_type": "stream",
     "text": [
      "--------------------------------\n",
      "| batch_size        | 2048     |\n",
      "| bc/               |          |\n",
      "|    batch          | 2859     |\n",
      "|    ent_loss       | 0.000342 |\n",
      "|    entropy        | -0.342   |\n",
      "|    epoch          | 286      |\n",
      "|    l2_loss        | 0        |\n",
      "|    l2_norm        | 4.88e+03 |\n",
      "|    loss           | 2.61     |\n",
      "|    neglogp        | 2.61     |\n",
      "|    prob_true_act  | 0.383    |\n",
      "|    samples_so_far | 5857280  |\n",
      "--------------------------------\n"
     ]
    },
    {
     "name": "stderr",
     "output_type": "stream",
     "text": [
      "2870batch [17:28,  2.92batch/s]"
     ]
    },
    {
     "name": "stdout",
     "output_type": "stream",
     "text": [
      "--------------------------------\n",
      "| batch_size        | 2048     |\n",
      "| bc/               |          |\n",
      "|    batch          | 2869     |\n",
      "|    ent_loss       | 0.000338 |\n",
      "|    entropy        | -0.338   |\n",
      "|    epoch          | 287      |\n",
      "|    l2_loss        | 0        |\n",
      "|    l2_norm        | 4.88e+03 |\n",
      "|    loss           | 2.49     |\n",
      "|    neglogp        | 2.49     |\n",
      "|    prob_true_act  | 0.386    |\n",
      "|    samples_so_far | 5877760  |\n",
      "--------------------------------\n"
     ]
    },
    {
     "name": "stderr",
     "output_type": "stream",
     "text": [
      "2880batch [17:33,  1.82batch/s]"
     ]
    },
    {
     "name": "stdout",
     "output_type": "stream",
     "text": [
      "--------------------------------\n",
      "| batch_size        | 2048     |\n",
      "| bc/               |          |\n",
      "|    batch          | 2879     |\n",
      "|    ent_loss       | 0.000335 |\n",
      "|    entropy        | -0.335   |\n",
      "|    epoch          | 288      |\n",
      "|    l2_loss        | 0        |\n",
      "|    l2_norm        | 4.88e+03 |\n",
      "|    loss           | 2.42     |\n",
      "|    neglogp        | 2.42     |\n",
      "|    prob_true_act  | 0.393    |\n",
      "|    samples_so_far | 5898240  |\n",
      "--------------------------------\n"
     ]
    },
    {
     "name": "stderr",
     "output_type": "stream",
     "text": [
      "2890batch [17:36,  2.94batch/s]"
     ]
    },
    {
     "name": "stdout",
     "output_type": "stream",
     "text": [
      "--------------------------------\n",
      "| batch_size        | 2048     |\n",
      "| bc/               |          |\n",
      "|    batch          | 2889     |\n",
      "|    ent_loss       | 0.000331 |\n",
      "|    entropy        | -0.331   |\n",
      "|    epoch          | 289      |\n",
      "|    l2_loss        | 0        |\n",
      "|    l2_norm        | 4.88e+03 |\n",
      "|    loss           | 2.65     |\n",
      "|    neglogp        | 2.65     |\n",
      "|    prob_true_act  | 0.392    |\n",
      "|    samples_so_far | 5918720  |\n",
      "--------------------------------\n"
     ]
    },
    {
     "name": "stderr",
     "output_type": "stream",
     "text": [
      "2900batch [17:40,  2.94batch/s]"
     ]
    },
    {
     "name": "stdout",
     "output_type": "stream",
     "text": [
      "--------------------------------\n",
      "| batch_size        | 2048     |\n",
      "| bc/               |          |\n",
      "|    batch          | 2899     |\n",
      "|    ent_loss       | 0.000327 |\n",
      "|    entropy        | -0.327   |\n",
      "|    epoch          | 290      |\n",
      "|    l2_loss        | 0        |\n",
      "|    l2_norm        | 4.88e+03 |\n",
      "|    loss           | 2.57     |\n",
      "|    neglogp        | 2.57     |\n",
      "|    prob_true_act  | 0.396    |\n",
      "|    samples_so_far | 5939200  |\n",
      "--------------------------------\n"
     ]
    },
    {
     "name": "stderr",
     "output_type": "stream",
     "text": [
      "2910batch [17:44,  2.95batch/s]"
     ]
    },
    {
     "name": "stdout",
     "output_type": "stream",
     "text": [
      "--------------------------------\n",
      "| batch_size        | 2048     |\n",
      "| bc/               |          |\n",
      "|    batch          | 2909     |\n",
      "|    ent_loss       | 0.000324 |\n",
      "|    entropy        | -0.324   |\n",
      "|    epoch          | 291      |\n",
      "|    l2_loss        | 0        |\n",
      "|    l2_norm        | 4.88e+03 |\n",
      "|    loss           | 2.63     |\n",
      "|    neglogp        | 2.63     |\n",
      "|    prob_true_act  | 0.391    |\n",
      "|    samples_so_far | 5959680  |\n",
      "--------------------------------\n"
     ]
    },
    {
     "name": "stderr",
     "output_type": "stream",
     "text": [
      "2920batch [17:47,  2.99batch/s]"
     ]
    },
    {
     "name": "stdout",
     "output_type": "stream",
     "text": [
      "--------------------------------\n",
      "| batch_size        | 2048     |\n",
      "| bc/               |          |\n",
      "|    batch          | 2919     |\n",
      "|    ent_loss       | 0.00032  |\n",
      "|    entropy        | -0.32    |\n",
      "|    epoch          | 292      |\n",
      "|    l2_loss        | 0        |\n",
      "|    l2_norm        | 4.88e+03 |\n",
      "|    loss           | 2.51     |\n",
      "|    neglogp        | 2.51     |\n",
      "|    prob_true_act  | 0.391    |\n",
      "|    samples_so_far | 5980160  |\n",
      "--------------------------------\n"
     ]
    },
    {
     "name": "stderr",
     "output_type": "stream",
     "text": [
      "2930batch [17:51,  2.95batch/s]"
     ]
    },
    {
     "name": "stdout",
     "output_type": "stream",
     "text": [
      "--------------------------------\n",
      "| batch_size        | 2048     |\n",
      "| bc/               |          |\n",
      "|    batch          | 2929     |\n",
      "|    ent_loss       | 0.000316 |\n",
      "|    entropy        | -0.316   |\n",
      "|    epoch          | 293      |\n",
      "|    l2_loss        | 0        |\n",
      "|    l2_norm        | 4.88e+03 |\n",
      "|    loss           | 2.2      |\n",
      "|    neglogp        | 2.2      |\n",
      "|    prob_true_act  | 0.416    |\n",
      "|    samples_so_far | 6000640  |\n",
      "--------------------------------\n"
     ]
    },
    {
     "name": "stderr",
     "output_type": "stream",
     "text": [
      "2940batch [17:54,  3.00batch/s]"
     ]
    },
    {
     "name": "stdout",
     "output_type": "stream",
     "text": [
      "--------------------------------\n",
      "| batch_size        | 2048     |\n",
      "| bc/               |          |\n",
      "|    batch          | 2939     |\n",
      "|    ent_loss       | 0.000313 |\n",
      "|    entropy        | -0.313   |\n",
      "|    epoch          | 294      |\n",
      "|    l2_loss        | 0        |\n",
      "|    l2_norm        | 4.88e+03 |\n",
      "|    loss           | 2.42     |\n",
      "|    neglogp        | 2.42     |\n",
      "|    prob_true_act  | 0.406    |\n",
      "|    samples_so_far | 6021120  |\n",
      "--------------------------------\n"
     ]
    },
    {
     "name": "stderr",
     "output_type": "stream",
     "text": [
      "2950batch [17:58,  2.92batch/s]"
     ]
    },
    {
     "name": "stdout",
     "output_type": "stream",
     "text": [
      "--------------------------------\n",
      "| batch_size        | 2048     |\n",
      "| bc/               |          |\n",
      "|    batch          | 2949     |\n",
      "|    ent_loss       | 0.000309 |\n",
      "|    entropy        | -0.309   |\n",
      "|    epoch          | 295      |\n",
      "|    l2_loss        | 0        |\n",
      "|    l2_norm        | 4.88e+03 |\n",
      "|    loss           | 2.31     |\n",
      "|    neglogp        | 2.31     |\n",
      "|    prob_true_act  | 0.422    |\n",
      "|    samples_so_far | 6041600  |\n",
      "--------------------------------\n"
     ]
    },
    {
     "name": "stderr",
     "output_type": "stream",
     "text": [
      "2960batch [18:01,  2.91batch/s]"
     ]
    },
    {
     "name": "stdout",
     "output_type": "stream",
     "text": [
      "--------------------------------\n",
      "| batch_size        | 2048     |\n",
      "| bc/               |          |\n",
      "|    batch          | 2959     |\n",
      "|    ent_loss       | 0.000305 |\n",
      "|    entropy        | -0.305   |\n",
      "|    epoch          | 296      |\n",
      "|    l2_loss        | 0        |\n",
      "|    l2_norm        | 4.88e+03 |\n",
      "|    loss           | 2.36     |\n",
      "|    neglogp        | 2.36     |\n",
      "|    prob_true_act  | 0.421    |\n",
      "|    samples_so_far | 6062080  |\n",
      "--------------------------------\n"
     ]
    },
    {
     "name": "stderr",
     "output_type": "stream",
     "text": [
      "2970batch [18:05,  2.94batch/s]"
     ]
    },
    {
     "name": "stdout",
     "output_type": "stream",
     "text": [
      "--------------------------------\n",
      "| batch_size        | 2048     |\n",
      "| bc/               |          |\n",
      "|    batch          | 2969     |\n",
      "|    ent_loss       | 0.000302 |\n",
      "|    entropy        | -0.302   |\n",
      "|    epoch          | 297      |\n",
      "|    l2_loss        | 0        |\n",
      "|    l2_norm        | 4.88e+03 |\n",
      "|    loss           | 2.15     |\n",
      "|    neglogp        | 2.15     |\n",
      "|    prob_true_act  | 0.432    |\n",
      "|    samples_so_far | 6082560  |\n",
      "--------------------------------\n"
     ]
    },
    {
     "name": "stderr",
     "output_type": "stream",
     "text": [
      "2980batch [18:08,  2.99batch/s]"
     ]
    },
    {
     "name": "stdout",
     "output_type": "stream",
     "text": [
      "--------------------------------\n",
      "| batch_size        | 2048     |\n",
      "| bc/               |          |\n",
      "|    batch          | 2979     |\n",
      "|    ent_loss       | 0.000298 |\n",
      "|    entropy        | -0.298   |\n",
      "|    epoch          | 298      |\n",
      "|    l2_loss        | 0        |\n",
      "|    l2_norm        | 4.88e+03 |\n",
      "|    loss           | 2.38     |\n",
      "|    neglogp        | 2.38     |\n",
      "|    prob_true_act  | 0.425    |\n",
      "|    samples_so_far | 6103040  |\n",
      "--------------------------------\n"
     ]
    },
    {
     "name": "stderr",
     "output_type": "stream",
     "text": [
      "2990batch [18:12,  2.98batch/s]"
     ]
    },
    {
     "name": "stdout",
     "output_type": "stream",
     "text": [
      "--------------------------------\n",
      "| batch_size        | 2048     |\n",
      "| bc/               |          |\n",
      "|    batch          | 2989     |\n",
      "|    ent_loss       | 0.000295 |\n",
      "|    entropy        | -0.295   |\n",
      "|    epoch          | 299      |\n",
      "|    l2_loss        | 0        |\n",
      "|    l2_norm        | 4.88e+03 |\n",
      "|    loss           | 2.38     |\n",
      "|    neglogp        | 2.38     |\n",
      "|    prob_true_act  | 0.428    |\n",
      "|    samples_so_far | 6123520  |\n",
      "--------------------------------\n"
     ]
    },
    {
     "name": "stderr",
     "output_type": "stream",
     "text": [
      "3000batch [18:16,  2.96batch/s]"
     ]
    },
    {
     "name": "stdout",
     "output_type": "stream",
     "text": [
      "--------------------------------\n",
      "| batch_size        | 2048     |\n",
      "| bc/               |          |\n",
      "|    batch          | 2999     |\n",
      "|    ent_loss       | 0.000291 |\n",
      "|    entropy        | -0.291   |\n",
      "|    epoch          | 300      |\n",
      "|    l2_loss        | 0        |\n",
      "|    l2_norm        | 4.88e+03 |\n",
      "|    loss           | 2.42     |\n",
      "|    neglogp        | 2.42     |\n",
      "|    prob_true_act  | 0.427    |\n",
      "|    samples_so_far | 6144000  |\n",
      "--------------------------------\n"
     ]
    },
    {
     "name": "stderr",
     "output_type": "stream",
     "text": [
      "3010batch [18:19,  2.94batch/s]"
     ]
    },
    {
     "name": "stdout",
     "output_type": "stream",
     "text": [
      "--------------------------------\n",
      "| batch_size        | 2048     |\n",
      "| bc/               |          |\n",
      "|    batch          | 3009     |\n",
      "|    ent_loss       | 0.000287 |\n",
      "|    entropy        | -0.287   |\n",
      "|    epoch          | 301      |\n",
      "|    l2_loss        | 0        |\n",
      "|    l2_norm        | 4.88e+03 |\n",
      "|    loss           | 2.44     |\n",
      "|    neglogp        | 2.44     |\n",
      "|    prob_true_act  | 0.429    |\n",
      "|    samples_so_far | 6164480  |\n",
      "--------------------------------\n"
     ]
    },
    {
     "name": "stderr",
     "output_type": "stream",
     "text": [
      "3020batch [18:23,  2.97batch/s]"
     ]
    },
    {
     "name": "stdout",
     "output_type": "stream",
     "text": [
      "--------------------------------\n",
      "| batch_size        | 2048     |\n",
      "| bc/               |          |\n",
      "|    batch          | 3019     |\n",
      "|    ent_loss       | 0.000284 |\n",
      "|    entropy        | -0.284   |\n",
      "|    epoch          | 302      |\n",
      "|    l2_loss        | 0        |\n",
      "|    l2_norm        | 4.88e+03 |\n",
      "|    loss           | 2.18     |\n",
      "|    neglogp        | 2.18     |\n",
      "|    prob_true_act  | 0.451    |\n",
      "|    samples_so_far | 6184960  |\n",
      "--------------------------------\n"
     ]
    },
    {
     "name": "stderr",
     "output_type": "stream",
     "text": [
      "3030batch [18:26,  2.84batch/s]"
     ]
    },
    {
     "name": "stdout",
     "output_type": "stream",
     "text": [
      "--------------------------------\n",
      "| batch_size        | 2048     |\n",
      "| bc/               |          |\n",
      "|    batch          | 3029     |\n",
      "|    ent_loss       | 0.00028  |\n",
      "|    entropy        | -0.28    |\n",
      "|    epoch          | 303      |\n",
      "|    l2_loss        | 0        |\n",
      "|    l2_norm        | 4.88e+03 |\n",
      "|    loss           | 2.16     |\n",
      "|    neglogp        | 2.16     |\n",
      "|    prob_true_act  | 0.447    |\n",
      "|    samples_so_far | 6205440  |\n",
      "--------------------------------\n"
     ]
    },
    {
     "name": "stderr",
     "output_type": "stream",
     "text": [
      "3040batch [18:30,  2.98batch/s]"
     ]
    },
    {
     "name": "stdout",
     "output_type": "stream",
     "text": [
      "--------------------------------\n",
      "| batch_size        | 2048     |\n",
      "| bc/               |          |\n",
      "|    batch          | 3039     |\n",
      "|    ent_loss       | 0.000277 |\n",
      "|    entropy        | -0.277   |\n",
      "|    epoch          | 304      |\n",
      "|    l2_loss        | 0        |\n",
      "|    l2_norm        | 4.88e+03 |\n",
      "|    loss           | 2.23     |\n",
      "|    neglogp        | 2.23     |\n",
      "|    prob_true_act  | 0.455    |\n",
      "|    samples_so_far | 6225920  |\n",
      "--------------------------------\n"
     ]
    },
    {
     "name": "stderr",
     "output_type": "stream",
     "text": [
      "3050batch [18:33,  2.98batch/s]"
     ]
    },
    {
     "name": "stdout",
     "output_type": "stream",
     "text": [
      "--------------------------------\n",
      "| batch_size        | 2048     |\n",
      "| bc/               |          |\n",
      "|    batch          | 3049     |\n",
      "|    ent_loss       | 0.000273 |\n",
      "|    entropy        | -0.273   |\n",
      "|    epoch          | 305      |\n",
      "|    l2_loss        | 0        |\n",
      "|    l2_norm        | 4.88e+03 |\n",
      "|    loss           | 2.32     |\n",
      "|    neglogp        | 2.32     |\n",
      "|    prob_true_act  | 0.455    |\n",
      "|    samples_so_far | 6246400  |\n",
      "--------------------------------\n"
     ]
    },
    {
     "name": "stderr",
     "output_type": "stream",
     "text": [
      "3060batch [18:37,  2.41batch/s]"
     ]
    },
    {
     "name": "stdout",
     "output_type": "stream",
     "text": [
      "--------------------------------\n",
      "| batch_size        | 2048     |\n",
      "| bc/               |          |\n",
      "|    batch          | 3059     |\n",
      "|    ent_loss       | 0.00027  |\n",
      "|    entropy        | -0.27    |\n",
      "|    epoch          | 306      |\n",
      "|    l2_loss        | 0        |\n",
      "|    l2_norm        | 4.88e+03 |\n",
      "|    loss           | 2.21     |\n",
      "|    neglogp        | 2.21     |\n",
      "|    prob_true_act  | 0.451    |\n",
      "|    samples_so_far | 6266880  |\n",
      "--------------------------------\n"
     ]
    },
    {
     "name": "stderr",
     "output_type": "stream",
     "text": [
      "3070batch [18:41,  2.94batch/s]"
     ]
    },
    {
     "name": "stdout",
     "output_type": "stream",
     "text": [
      "--------------------------------\n",
      "| batch_size        | 2048     |\n",
      "| bc/               |          |\n",
      "|    batch          | 3069     |\n",
      "|    ent_loss       | 0.000266 |\n",
      "|    entropy        | -0.266   |\n",
      "|    epoch          | 307      |\n",
      "|    l2_loss        | 0        |\n",
      "|    l2_norm        | 4.88e+03 |\n",
      "|    loss           | 2.36     |\n",
      "|    neglogp        | 2.36     |\n",
      "|    prob_true_act  | 0.457    |\n",
      "|    samples_so_far | 6287360  |\n",
      "--------------------------------\n"
     ]
    },
    {
     "name": "stderr",
     "output_type": "stream",
     "text": [
      "3080batch [18:45,  2.98batch/s]"
     ]
    },
    {
     "name": "stdout",
     "output_type": "stream",
     "text": [
      "--------------------------------\n",
      "| batch_size        | 2048     |\n",
      "| bc/               |          |\n",
      "|    batch          | 3079     |\n",
      "|    ent_loss       | 0.000263 |\n",
      "|    entropy        | -0.263   |\n",
      "|    epoch          | 308      |\n",
      "|    l2_loss        | 0        |\n",
      "|    l2_norm        | 4.88e+03 |\n",
      "|    loss           | 2.02     |\n",
      "|    neglogp        | 2.02     |\n",
      "|    prob_true_act  | 0.463    |\n",
      "|    samples_so_far | 6307840  |\n",
      "--------------------------------\n"
     ]
    },
    {
     "name": "stderr",
     "output_type": "stream",
     "text": [
      "3090batch [18:48,  2.99batch/s]"
     ]
    },
    {
     "name": "stdout",
     "output_type": "stream",
     "text": [
      "--------------------------------\n",
      "| batch_size        | 2048     |\n",
      "| bc/               |          |\n",
      "|    batch          | 3089     |\n",
      "|    ent_loss       | 0.000259 |\n",
      "|    entropy        | -0.259   |\n",
      "|    epoch          | 309      |\n",
      "|    l2_loss        | 0        |\n",
      "|    l2_norm        | 4.88e+03 |\n",
      "|    loss           | 2.39     |\n",
      "|    neglogp        | 2.39     |\n",
      "|    prob_true_act  | 0.442    |\n",
      "|    samples_so_far | 6328320  |\n",
      "--------------------------------\n"
     ]
    },
    {
     "name": "stderr",
     "output_type": "stream",
     "text": [
      "3100batch [18:52,  2.95batch/s]"
     ]
    },
    {
     "name": "stdout",
     "output_type": "stream",
     "text": [
      "--------------------------------\n",
      "| batch_size        | 2048     |\n",
      "| bc/               |          |\n",
      "|    batch          | 3099     |\n",
      "|    ent_loss       | 0.000256 |\n",
      "|    entropy        | -0.256   |\n",
      "|    epoch          | 310      |\n",
      "|    l2_loss        | 0        |\n",
      "|    l2_norm        | 4.88e+03 |\n",
      "|    loss           | 1.98     |\n",
      "|    neglogp        | 1.98     |\n",
      "|    prob_true_act  | 0.478    |\n",
      "|    samples_so_far | 6348800  |\n",
      "--------------------------------\n"
     ]
    },
    {
     "name": "stderr",
     "output_type": "stream",
     "text": [
      "3110batch [18:55,  2.97batch/s]"
     ]
    },
    {
     "name": "stdout",
     "output_type": "stream",
     "text": [
      "--------------------------------\n",
      "| batch_size        | 2048     |\n",
      "| bc/               |          |\n",
      "|    batch          | 3109     |\n",
      "|    ent_loss       | 0.000253 |\n",
      "|    entropy        | -0.253   |\n",
      "|    epoch          | 311      |\n",
      "|    l2_loss        | 0        |\n",
      "|    l2_norm        | 4.88e+03 |\n",
      "|    loss           | 2.12     |\n",
      "|    neglogp        | 2.12     |\n",
      "|    prob_true_act  | 0.472    |\n",
      "|    samples_so_far | 6369280  |\n",
      "--------------------------------\n"
     ]
    },
    {
     "name": "stderr",
     "output_type": "stream",
     "text": [
      "3120batch [18:59,  3.00batch/s]"
     ]
    },
    {
     "name": "stdout",
     "output_type": "stream",
     "text": [
      "--------------------------------\n",
      "| batch_size        | 2048     |\n",
      "| bc/               |          |\n",
      "|    batch          | 3119     |\n",
      "|    ent_loss       | 0.000249 |\n",
      "|    entropy        | -0.249   |\n",
      "|    epoch          | 312      |\n",
      "|    l2_loss        | 0        |\n",
      "|    l2_norm        | 4.88e+03 |\n",
      "|    loss           | 2.2      |\n",
      "|    neglogp        | 2.2      |\n",
      "|    prob_true_act  | 0.473    |\n",
      "|    samples_so_far | 6389760  |\n",
      "--------------------------------\n"
     ]
    },
    {
     "name": "stderr",
     "output_type": "stream",
     "text": [
      "3130batch [19:02,  2.95batch/s]"
     ]
    },
    {
     "name": "stdout",
     "output_type": "stream",
     "text": [
      "--------------------------------\n",
      "| batch_size        | 2048     |\n",
      "| bc/               |          |\n",
      "|    batch          | 3129     |\n",
      "|    ent_loss       | 0.000246 |\n",
      "|    entropy        | -0.246   |\n",
      "|    epoch          | 313      |\n",
      "|    l2_loss        | 0        |\n",
      "|    l2_norm        | 4.88e+03 |\n",
      "|    loss           | 2.05     |\n",
      "|    neglogp        | 2.05     |\n",
      "|    prob_true_act  | 0.477    |\n",
      "|    samples_so_far | 6410240  |\n",
      "--------------------------------\n"
     ]
    },
    {
     "name": "stderr",
     "output_type": "stream",
     "text": [
      "3140batch [19:06,  2.69batch/s]"
     ]
    },
    {
     "name": "stdout",
     "output_type": "stream",
     "text": [
      "--------------------------------\n",
      "| batch_size        | 2048     |\n",
      "| bc/               |          |\n",
      "|    batch          | 3139     |\n",
      "|    ent_loss       | 0.000242 |\n",
      "|    entropy        | -0.242   |\n",
      "|    epoch          | 314      |\n",
      "|    l2_loss        | 0        |\n",
      "|    l2_norm        | 4.88e+03 |\n",
      "|    loss           | 2.09     |\n",
      "|    neglogp        | 2.09     |\n",
      "|    prob_true_act  | 0.486    |\n",
      "|    samples_so_far | 6430720  |\n",
      "--------------------------------\n"
     ]
    },
    {
     "name": "stderr",
     "output_type": "stream",
     "text": [
      "3150batch [19:10,  2.97batch/s]"
     ]
    },
    {
     "name": "stdout",
     "output_type": "stream",
     "text": [
      "--------------------------------\n",
      "| batch_size        | 2048     |\n",
      "| bc/               |          |\n",
      "|    batch          | 3149     |\n",
      "|    ent_loss       | 0.000239 |\n",
      "|    entropy        | -0.239   |\n",
      "|    epoch          | 315      |\n",
      "|    l2_loss        | 0        |\n",
      "|    l2_norm        | 4.88e+03 |\n",
      "|    loss           | 2.23     |\n",
      "|    neglogp        | 2.23     |\n",
      "|    prob_true_act  | 0.481    |\n",
      "|    samples_so_far | 6451200  |\n",
      "--------------------------------\n"
     ]
    },
    {
     "name": "stderr",
     "output_type": "stream",
     "text": [
      "3160batch [19:13,  2.99batch/s]"
     ]
    },
    {
     "name": "stdout",
     "output_type": "stream",
     "text": [
      "--------------------------------\n",
      "| batch_size        | 2048     |\n",
      "| bc/               |          |\n",
      "|    batch          | 3159     |\n",
      "|    ent_loss       | 0.000236 |\n",
      "|    entropy        | -0.236   |\n",
      "|    epoch          | 316      |\n",
      "|    l2_loss        | 0        |\n",
      "|    l2_norm        | 4.88e+03 |\n",
      "|    loss           | 2.05     |\n",
      "|    neglogp        | 2.05     |\n",
      "|    prob_true_act  | 0.495    |\n",
      "|    samples_so_far | 6471680  |\n",
      "--------------------------------\n"
     ]
    },
    {
     "name": "stderr",
     "output_type": "stream",
     "text": [
      "3170batch [19:17,  2.65batch/s]"
     ]
    },
    {
     "name": "stdout",
     "output_type": "stream",
     "text": [
      "--------------------------------\n",
      "| batch_size        | 2048     |\n",
      "| bc/               |          |\n",
      "|    batch          | 3169     |\n",
      "|    ent_loss       | 0.000232 |\n",
      "|    entropy        | -0.232   |\n",
      "|    epoch          | 317      |\n",
      "|    l2_loss        | 0        |\n",
      "|    l2_norm        | 4.88e+03 |\n",
      "|    loss           | 2.08     |\n",
      "|    neglogp        | 2.08     |\n",
      "|    prob_true_act  | 0.495    |\n",
      "|    samples_so_far | 6492160  |\n",
      "--------------------------------\n"
     ]
    },
    {
     "name": "stderr",
     "output_type": "stream",
     "text": [
      "3180batch [19:20,  2.93batch/s]"
     ]
    },
    {
     "name": "stdout",
     "output_type": "stream",
     "text": [
      "--------------------------------\n",
      "| batch_size        | 2048     |\n",
      "| bc/               |          |\n",
      "|    batch          | 3179     |\n",
      "|    ent_loss       | 0.000229 |\n",
      "|    entropy        | -0.229   |\n",
      "|    epoch          | 318      |\n",
      "|    l2_loss        | 0        |\n",
      "|    l2_norm        | 4.88e+03 |\n",
      "|    loss           | 1.91     |\n",
      "|    neglogp        | 1.91     |\n",
      "|    prob_true_act  | 0.503    |\n",
      "|    samples_so_far | 6512640  |\n",
      "--------------------------------\n"
     ]
    },
    {
     "name": "stderr",
     "output_type": "stream",
     "text": [
      "3190batch [19:24,  2.85batch/s]"
     ]
    },
    {
     "name": "stdout",
     "output_type": "stream",
     "text": [
      "--------------------------------\n",
      "| batch_size        | 2048     |\n",
      "| bc/               |          |\n",
      "|    batch          | 3189     |\n",
      "|    ent_loss       | 0.000225 |\n",
      "|    entropy        | -0.225   |\n",
      "|    epoch          | 319      |\n",
      "|    l2_loss        | 0        |\n",
      "|    l2_norm        | 4.88e+03 |\n",
      "|    loss           | 1.98     |\n",
      "|    neglogp        | 1.98     |\n",
      "|    prob_true_act  | 0.498    |\n",
      "|    samples_so_far | 6533120  |\n",
      "--------------------------------\n"
     ]
    },
    {
     "name": "stderr",
     "output_type": "stream",
     "text": [
      "3200batch [19:28,  2.92batch/s]"
     ]
    },
    {
     "name": "stdout",
     "output_type": "stream",
     "text": [
      "--------------------------------\n",
      "| batch_size        | 2048     |\n",
      "| bc/               |          |\n",
      "|    batch          | 3199     |\n",
      "|    ent_loss       | 0.000222 |\n",
      "|    entropy        | -0.222   |\n",
      "|    epoch          | 320      |\n",
      "|    l2_loss        | 0        |\n",
      "|    l2_norm        | 4.88e+03 |\n",
      "|    loss           | 2.06     |\n",
      "|    neglogp        | 2.06     |\n",
      "|    prob_true_act  | 0.508    |\n",
      "|    samples_so_far | 6553600  |\n",
      "--------------------------------\n"
     ]
    },
    {
     "name": "stderr",
     "output_type": "stream",
     "text": [
      "3210batch [19:31,  2.98batch/s]"
     ]
    },
    {
     "name": "stdout",
     "output_type": "stream",
     "text": [
      "--------------------------------\n",
      "| batch_size        | 2048     |\n",
      "| bc/               |          |\n",
      "|    batch          | 3209     |\n",
      "|    ent_loss       | 0.000219 |\n",
      "|    entropy        | -0.219   |\n",
      "|    epoch          | 321      |\n",
      "|    l2_loss        | 0        |\n",
      "|    l2_norm        | 4.88e+03 |\n",
      "|    loss           | 1.94     |\n",
      "|    neglogp        | 1.94     |\n",
      "|    prob_true_act  | 0.5      |\n",
      "|    samples_so_far | 6574080  |\n",
      "--------------------------------\n"
     ]
    },
    {
     "name": "stderr",
     "output_type": "stream",
     "text": [
      "3220batch [19:35,  2.97batch/s]"
     ]
    },
    {
     "name": "stdout",
     "output_type": "stream",
     "text": [
      "--------------------------------\n",
      "| batch_size        | 2048     |\n",
      "| bc/               |          |\n",
      "|    batch          | 3219     |\n",
      "|    ent_loss       | 0.000216 |\n",
      "|    entropy        | -0.216   |\n",
      "|    epoch          | 322      |\n",
      "|    l2_loss        | 0        |\n",
      "|    l2_norm        | 4.88e+03 |\n",
      "|    loss           | 2.02     |\n",
      "|    neglogp        | 2.02     |\n",
      "|    prob_true_act  | 0.503    |\n",
      "|    samples_so_far | 6594560  |\n",
      "--------------------------------\n"
     ]
    },
    {
     "name": "stderr",
     "output_type": "stream",
     "text": [
      "3230batch [19:38,  2.85batch/s]"
     ]
    },
    {
     "name": "stdout",
     "output_type": "stream",
     "text": [
      "--------------------------------\n",
      "| batch_size        | 2048     |\n",
      "| bc/               |          |\n",
      "|    batch          | 3229     |\n",
      "|    ent_loss       | 0.000212 |\n",
      "|    entropy        | -0.212   |\n",
      "|    epoch          | 323      |\n",
      "|    l2_loss        | 0        |\n",
      "|    l2_norm        | 4.88e+03 |\n",
      "|    loss           | 1.87     |\n",
      "|    neglogp        | 1.87     |\n",
      "|    prob_true_act  | 0.509    |\n",
      "|    samples_so_far | 6615040  |\n",
      "--------------------------------\n"
     ]
    },
    {
     "name": "stderr",
     "output_type": "stream",
     "text": [
      "3240batch [19:42,  3.00batch/s]"
     ]
    },
    {
     "name": "stdout",
     "output_type": "stream",
     "text": [
      "--------------------------------\n",
      "| batch_size        | 2048     |\n",
      "| bc/               |          |\n",
      "|    batch          | 3239     |\n",
      "|    ent_loss       | 0.000209 |\n",
      "|    entropy        | -0.209   |\n",
      "|    epoch          | 324      |\n",
      "|    l2_loss        | 0        |\n",
      "|    l2_norm        | 4.88e+03 |\n",
      "|    loss           | 1.89     |\n",
      "|    neglogp        | 1.89     |\n",
      "|    prob_true_act  | 0.523    |\n",
      "|    samples_so_far | 6635520  |\n",
      "--------------------------------\n"
     ]
    },
    {
     "name": "stderr",
     "output_type": "stream",
     "text": [
      "3250batch [19:46,  2.91batch/s]"
     ]
    },
    {
     "name": "stdout",
     "output_type": "stream",
     "text": [
      "--------------------------------\n",
      "| batch_size        | 2048     |\n",
      "| bc/               |          |\n",
      "|    batch          | 3249     |\n",
      "|    ent_loss       | 0.000206 |\n",
      "|    entropy        | -0.206   |\n",
      "|    epoch          | 325      |\n",
      "|    l2_loss        | 0        |\n",
      "|    l2_norm        | 4.88e+03 |\n",
      "|    loss           | 1.8      |\n",
      "|    neglogp        | 1.8      |\n",
      "|    prob_true_act  | 0.517    |\n",
      "|    samples_so_far | 6656000  |\n",
      "--------------------------------\n"
     ]
    },
    {
     "name": "stderr",
     "output_type": "stream",
     "text": [
      "3260batch [19:49,  3.00batch/s]"
     ]
    },
    {
     "name": "stdout",
     "output_type": "stream",
     "text": [
      "--------------------------------\n",
      "| batch_size        | 2048     |\n",
      "| bc/               |          |\n",
      "|    batch          | 3259     |\n",
      "|    ent_loss       | 0.000202 |\n",
      "|    entropy        | -0.202   |\n",
      "|    epoch          | 326      |\n",
      "|    l2_loss        | 0        |\n",
      "|    l2_norm        | 4.88e+03 |\n",
      "|    loss           | 2.02     |\n",
      "|    neglogp        | 2.02     |\n",
      "|    prob_true_act  | 0.515    |\n",
      "|    samples_so_far | 6676480  |\n",
      "--------------------------------\n"
     ]
    },
    {
     "name": "stderr",
     "output_type": "stream",
     "text": [
      "3270batch [19:53,  2.97batch/s]"
     ]
    },
    {
     "name": "stdout",
     "output_type": "stream",
     "text": [
      "--------------------------------\n",
      "| batch_size        | 2048     |\n",
      "| bc/               |          |\n",
      "|    batch          | 3269     |\n",
      "|    ent_loss       | 0.000199 |\n",
      "|    entropy        | -0.199   |\n",
      "|    epoch          | 327      |\n",
      "|    l2_loss        | 0        |\n",
      "|    l2_norm        | 4.88e+03 |\n",
      "|    loss           | 1.78     |\n",
      "|    neglogp        | 1.78     |\n",
      "|    prob_true_act  | 0.525    |\n",
      "|    samples_so_far | 6696960  |\n",
      "--------------------------------\n"
     ]
    },
    {
     "name": "stderr",
     "output_type": "stream",
     "text": [
      "3280batch [19:56,  2.95batch/s]"
     ]
    },
    {
     "name": "stdout",
     "output_type": "stream",
     "text": [
      "--------------------------------\n",
      "| batch_size        | 2048     |\n",
      "| bc/               |          |\n",
      "|    batch          | 3279     |\n",
      "|    ent_loss       | 0.000196 |\n",
      "|    entropy        | -0.196   |\n",
      "|    epoch          | 328      |\n",
      "|    l2_loss        | 0        |\n",
      "|    l2_norm        | 4.88e+03 |\n",
      "|    loss           | 1.85     |\n",
      "|    neglogp        | 1.85     |\n",
      "|    prob_true_act  | 0.523    |\n",
      "|    samples_so_far | 6717440  |\n",
      "--------------------------------\n"
     ]
    },
    {
     "name": "stderr",
     "output_type": "stream",
     "text": [
      "3290batch [20:00,  3.00batch/s]"
     ]
    },
    {
     "name": "stdout",
     "output_type": "stream",
     "text": [
      "--------------------------------\n",
      "| batch_size        | 2048     |\n",
      "| bc/               |          |\n",
      "|    batch          | 3289     |\n",
      "|    ent_loss       | 0.000193 |\n",
      "|    entropy        | -0.193   |\n",
      "|    epoch          | 329      |\n",
      "|    l2_loss        | 0        |\n",
      "|    l2_norm        | 4.88e+03 |\n",
      "|    loss           | 2.08     |\n",
      "|    neglogp        | 2.08     |\n",
      "|    prob_true_act  | 0.52     |\n",
      "|    samples_so_far | 6737920  |\n",
      "--------------------------------\n"
     ]
    },
    {
     "name": "stderr",
     "output_type": "stream",
     "text": [
      "3300batch [20:03,  2.99batch/s]"
     ]
    },
    {
     "name": "stdout",
     "output_type": "stream",
     "text": [
      "--------------------------------\n",
      "| batch_size        | 2048     |\n",
      "| bc/               |          |\n",
      "|    batch          | 3299     |\n",
      "|    ent_loss       | 0.000189 |\n",
      "|    entropy        | -0.189   |\n",
      "|    epoch          | 330      |\n",
      "|    l2_loss        | 0        |\n",
      "|    l2_norm        | 4.88e+03 |\n",
      "|    loss           | 1.85     |\n",
      "|    neglogp        | 1.85     |\n",
      "|    prob_true_act  | 0.533    |\n",
      "|    samples_so_far | 6758400  |\n",
      "--------------------------------\n"
     ]
    },
    {
     "name": "stderr",
     "output_type": "stream",
     "text": [
      "3310batch [20:07,  3.00batch/s]"
     ]
    },
    {
     "name": "stdout",
     "output_type": "stream",
     "text": [
      "--------------------------------\n",
      "| batch_size        | 2048     |\n",
      "| bc/               |          |\n",
      "|    batch          | 3309     |\n",
      "|    ent_loss       | 0.000186 |\n",
      "|    entropy        | -0.186   |\n",
      "|    epoch          | 331      |\n",
      "|    l2_loss        | 0        |\n",
      "|    l2_norm        | 4.88e+03 |\n",
      "|    loss           | 1.9      |\n",
      "|    neglogp        | 1.9      |\n",
      "|    prob_true_act  | 0.539    |\n",
      "|    samples_so_far | 6778880  |\n",
      "--------------------------------\n"
     ]
    },
    {
     "name": "stderr",
     "output_type": "stream",
     "text": [
      "3320batch [20:10,  3.00batch/s]"
     ]
    },
    {
     "name": "stdout",
     "output_type": "stream",
     "text": [
      "--------------------------------\n",
      "| batch_size        | 2048     |\n",
      "| bc/               |          |\n",
      "|    batch          | 3319     |\n",
      "|    ent_loss       | 0.000183 |\n",
      "|    entropy        | -0.183   |\n",
      "|    epoch          | 332      |\n",
      "|    l2_loss        | 0        |\n",
      "|    l2_norm        | 4.88e+03 |\n",
      "|    loss           | 1.87     |\n",
      "|    neglogp        | 1.87     |\n",
      "|    prob_true_act  | 0.533    |\n",
      "|    samples_so_far | 6799360  |\n",
      "--------------------------------\n"
     ]
    },
    {
     "name": "stderr",
     "output_type": "stream",
     "text": [
      "3330batch [20:14,  2.97batch/s]"
     ]
    },
    {
     "name": "stdout",
     "output_type": "stream",
     "text": [
      "--------------------------------\n",
      "| batch_size        | 2048     |\n",
      "| bc/               |          |\n",
      "|    batch          | 3329     |\n",
      "|    ent_loss       | 0.00018  |\n",
      "|    entropy        | -0.18    |\n",
      "|    epoch          | 333      |\n",
      "|    l2_loss        | 0        |\n",
      "|    l2_norm        | 4.88e+03 |\n",
      "|    loss           | 1.86     |\n",
      "|    neglogp        | 1.86     |\n",
      "|    prob_true_act  | 0.533    |\n",
      "|    samples_so_far | 6819840  |\n",
      "--------------------------------\n"
     ]
    },
    {
     "name": "stderr",
     "output_type": "stream",
     "text": [
      "3340batch [20:17,  2.69batch/s]"
     ]
    },
    {
     "name": "stdout",
     "output_type": "stream",
     "text": [
      "--------------------------------\n",
      "| batch_size        | 2048     |\n",
      "| bc/               |          |\n",
      "|    batch          | 3339     |\n",
      "|    ent_loss       | 0.000177 |\n",
      "|    entropy        | -0.177   |\n",
      "|    epoch          | 334      |\n",
      "|    l2_loss        | 0        |\n",
      "|    l2_norm        | 4.88e+03 |\n",
      "|    loss           | 1.73     |\n",
      "|    neglogp        | 1.73     |\n",
      "|    prob_true_act  | 0.538    |\n",
      "|    samples_so_far | 6840320  |\n",
      "--------------------------------\n"
     ]
    },
    {
     "name": "stderr",
     "output_type": "stream",
     "text": [
      "3350batch [20:21,  2.82batch/s]"
     ]
    },
    {
     "name": "stdout",
     "output_type": "stream",
     "text": [
      "--------------------------------\n",
      "| batch_size        | 2048     |\n",
      "| bc/               |          |\n",
      "|    batch          | 3349     |\n",
      "|    ent_loss       | 0.000174 |\n",
      "|    entropy        | -0.174   |\n",
      "|    epoch          | 335      |\n",
      "|    l2_loss        | 0        |\n",
      "|    l2_norm        | 4.88e+03 |\n",
      "|    loss           | 1.94     |\n",
      "|    neglogp        | 1.94     |\n",
      "|    prob_true_act  | 0.543    |\n",
      "|    samples_so_far | 6860800  |\n",
      "--------------------------------\n"
     ]
    },
    {
     "name": "stderr",
     "output_type": "stream",
     "text": [
      "3360batch [20:25,  2.93batch/s]"
     ]
    },
    {
     "name": "stdout",
     "output_type": "stream",
     "text": [
      "--------------------------------\n",
      "| batch_size        | 2048     |\n",
      "| bc/               |          |\n",
      "|    batch          | 3359     |\n",
      "|    ent_loss       | 0.00017  |\n",
      "|    entropy        | -0.17    |\n",
      "|    epoch          | 336      |\n",
      "|    l2_loss        | 0        |\n",
      "|    l2_norm        | 4.88e+03 |\n",
      "|    loss           | 1.74     |\n",
      "|    neglogp        | 1.74     |\n",
      "|    prob_true_act  | 0.553    |\n",
      "|    samples_so_far | 6881280  |\n",
      "--------------------------------\n"
     ]
    },
    {
     "name": "stderr",
     "output_type": "stream",
     "text": [
      "3370batch [20:28,  3.00batch/s]"
     ]
    },
    {
     "name": "stdout",
     "output_type": "stream",
     "text": [
      "--------------------------------\n",
      "| batch_size        | 2048     |\n",
      "| bc/               |          |\n",
      "|    batch          | 3369     |\n",
      "|    ent_loss       | 0.000167 |\n",
      "|    entropy        | -0.167   |\n",
      "|    epoch          | 337      |\n",
      "|    l2_loss        | 0        |\n",
      "|    l2_norm        | 4.88e+03 |\n",
      "|    loss           | 1.7      |\n",
      "|    neglogp        | 1.7      |\n",
      "|    prob_true_act  | 0.555    |\n",
      "|    samples_so_far | 6901760  |\n",
      "--------------------------------\n"
     ]
    },
    {
     "name": "stderr",
     "output_type": "stream",
     "text": [
      "3380batch [20:32,  3.03batch/s]"
     ]
    },
    {
     "name": "stdout",
     "output_type": "stream",
     "text": [
      "--------------------------------\n",
      "| batch_size        | 2048     |\n",
      "| bc/               |          |\n",
      "|    batch          | 3379     |\n",
      "|    ent_loss       | 0.000164 |\n",
      "|    entropy        | -0.164   |\n",
      "|    epoch          | 338      |\n",
      "|    l2_loss        | 0        |\n",
      "|    l2_norm        | 4.88e+03 |\n",
      "|    loss           | 1.86     |\n",
      "|    neglogp        | 1.86     |\n",
      "|    prob_true_act  | 0.545    |\n",
      "|    samples_so_far | 6922240  |\n",
      "--------------------------------\n"
     ]
    },
    {
     "name": "stderr",
     "output_type": "stream",
     "text": [
      "3390batch [20:36,  2.64batch/s]"
     ]
    },
    {
     "name": "stdout",
     "output_type": "stream",
     "text": [
      "--------------------------------\n",
      "| batch_size        | 2048     |\n",
      "| bc/               |          |\n",
      "|    batch          | 3389     |\n",
      "|    ent_loss       | 0.000161 |\n",
      "|    entropy        | -0.161   |\n",
      "|    epoch          | 339      |\n",
      "|    l2_loss        | 0        |\n",
      "|    l2_norm        | 4.88e+03 |\n",
      "|    loss           | 1.84     |\n",
      "|    neglogp        | 1.84     |\n",
      "|    prob_true_act  | 0.551    |\n",
      "|    samples_so_far | 6942720  |\n",
      "--------------------------------\n"
     ]
    },
    {
     "name": "stderr",
     "output_type": "stream",
     "text": [
      "3400batch [20:39,  3.00batch/s]"
     ]
    },
    {
     "name": "stdout",
     "output_type": "stream",
     "text": [
      "--------------------------------\n",
      "| batch_size        | 2048     |\n",
      "| bc/               |          |\n",
      "|    batch          | 3399     |\n",
      "|    ent_loss       | 0.000158 |\n",
      "|    entropy        | -0.158   |\n",
      "|    epoch          | 340      |\n",
      "|    l2_loss        | 0        |\n",
      "|    l2_norm        | 4.88e+03 |\n",
      "|    loss           | 1.78     |\n",
      "|    neglogp        | 1.78     |\n",
      "|    prob_true_act  | 0.554    |\n",
      "|    samples_so_far | 6963200  |\n",
      "--------------------------------\n"
     ]
    },
    {
     "name": "stderr",
     "output_type": "stream",
     "text": [
      "3410batch [20:43,  2.71batch/s]"
     ]
    },
    {
     "name": "stdout",
     "output_type": "stream",
     "text": [
      "--------------------------------\n",
      "| batch_size        | 2048     |\n",
      "| bc/               |          |\n",
      "|    batch          | 3409     |\n",
      "|    ent_loss       | 0.000155 |\n",
      "|    entropy        | -0.155   |\n",
      "|    epoch          | 341      |\n",
      "|    l2_loss        | 0        |\n",
      "|    l2_norm        | 4.88e+03 |\n",
      "|    loss           | 1.79     |\n",
      "|    neglogp        | 1.79     |\n",
      "|    prob_true_act  | 0.562    |\n",
      "|    samples_so_far | 6983680  |\n",
      "--------------------------------\n"
     ]
    },
    {
     "name": "stderr",
     "output_type": "stream",
     "text": [
      "3420batch [20:47,  3.00batch/s]"
     ]
    },
    {
     "name": "stdout",
     "output_type": "stream",
     "text": [
      "--------------------------------\n",
      "| batch_size        | 2048     |\n",
      "| bc/               |          |\n",
      "|    batch          | 3419     |\n",
      "|    ent_loss       | 0.000152 |\n",
      "|    entropy        | -0.152   |\n",
      "|    epoch          | 342      |\n",
      "|    l2_loss        | 0        |\n",
      "|    l2_norm        | 4.88e+03 |\n",
      "|    loss           | 1.59     |\n",
      "|    neglogp        | 1.59     |\n",
      "|    prob_true_act  | 0.578    |\n",
      "|    samples_so_far | 7004160  |\n",
      "--------------------------------\n"
     ]
    },
    {
     "name": "stderr",
     "output_type": "stream",
     "text": [
      "3430batch [20:50,  2.98batch/s]"
     ]
    },
    {
     "name": "stdout",
     "output_type": "stream",
     "text": [
      "--------------------------------\n",
      "| batch_size        | 2048     |\n",
      "| bc/               |          |\n",
      "|    batch          | 3429     |\n",
      "|    ent_loss       | 0.000149 |\n",
      "|    entropy        | -0.149   |\n",
      "|    epoch          | 343      |\n",
      "|    l2_loss        | 0        |\n",
      "|    l2_norm        | 4.88e+03 |\n",
      "|    loss           | 1.64     |\n",
      "|    neglogp        | 1.64     |\n",
      "|    prob_true_act  | 0.578    |\n",
      "|    samples_so_far | 7024640  |\n",
      "--------------------------------\n"
     ]
    },
    {
     "name": "stderr",
     "output_type": "stream",
     "text": [
      "3440batch [20:54,  2.94batch/s]"
     ]
    },
    {
     "name": "stdout",
     "output_type": "stream",
     "text": [
      "--------------------------------\n",
      "| batch_size        | 2048     |\n",
      "| bc/               |          |\n",
      "|    batch          | 3439     |\n",
      "|    ent_loss       | 0.000145 |\n",
      "|    entropy        | -0.145   |\n",
      "|    epoch          | 344      |\n",
      "|    l2_loss        | 0        |\n",
      "|    l2_norm        | 4.88e+03 |\n",
      "|    loss           | 1.71     |\n",
      "|    neglogp        | 1.71     |\n",
      "|    prob_true_act  | 0.568    |\n",
      "|    samples_so_far | 7045120  |\n",
      "--------------------------------\n"
     ]
    },
    {
     "name": "stderr",
     "output_type": "stream",
     "text": [
      "3450batch [20:57,  2.96batch/s]"
     ]
    },
    {
     "name": "stdout",
     "output_type": "stream",
     "text": [
      "--------------------------------\n",
      "| batch_size        | 2048     |\n",
      "| bc/               |          |\n",
      "|    batch          | 3449     |\n",
      "|    ent_loss       | 0.000142 |\n",
      "|    entropy        | -0.142   |\n",
      "|    epoch          | 345      |\n",
      "|    l2_loss        | 0        |\n",
      "|    l2_norm        | 4.88e+03 |\n",
      "|    loss           | 1.66     |\n",
      "|    neglogp        | 1.66     |\n",
      "|    prob_true_act  | 0.573    |\n",
      "|    samples_so_far | 7065600  |\n",
      "--------------------------------\n"
     ]
    },
    {
     "name": "stderr",
     "output_type": "stream",
     "text": [
      "3460batch [21:01,  2.97batch/s]"
     ]
    },
    {
     "name": "stdout",
     "output_type": "stream",
     "text": [
      "--------------------------------\n",
      "| batch_size        | 2048     |\n",
      "| bc/               |          |\n",
      "|    batch          | 3459     |\n",
      "|    ent_loss       | 0.000139 |\n",
      "|    entropy        | -0.139   |\n",
      "|    epoch          | 346      |\n",
      "|    l2_loss        | 0        |\n",
      "|    l2_norm        | 4.88e+03 |\n",
      "|    loss           | 1.76     |\n",
      "|    neglogp        | 1.76     |\n",
      "|    prob_true_act  | 0.573    |\n",
      "|    samples_so_far | 7086080  |\n",
      "--------------------------------\n"
     ]
    },
    {
     "name": "stderr",
     "output_type": "stream",
     "text": [
      "3470batch [21:04,  2.96batch/s]"
     ]
    },
    {
     "name": "stdout",
     "output_type": "stream",
     "text": [
      "--------------------------------\n",
      "| batch_size        | 2048     |\n",
      "| bc/               |          |\n",
      "|    batch          | 3469     |\n",
      "|    ent_loss       | 0.000136 |\n",
      "|    entropy        | -0.136   |\n",
      "|    epoch          | 347      |\n",
      "|    l2_loss        | 0        |\n",
      "|    l2_norm        | 4.88e+03 |\n",
      "|    loss           | 1.63     |\n",
      "|    neglogp        | 1.63     |\n",
      "|    prob_true_act  | 0.591    |\n",
      "|    samples_so_far | 7106560  |\n",
      "--------------------------------\n"
     ]
    },
    {
     "name": "stderr",
     "output_type": "stream",
     "text": [
      "3480batch [21:08,  2.95batch/s]"
     ]
    },
    {
     "name": "stdout",
     "output_type": "stream",
     "text": [
      "--------------------------------\n",
      "| batch_size        | 2048     |\n",
      "| bc/               |          |\n",
      "|    batch          | 3479     |\n",
      "|    ent_loss       | 0.000133 |\n",
      "|    entropy        | -0.133   |\n",
      "|    epoch          | 348      |\n",
      "|    l2_loss        | 0        |\n",
      "|    l2_norm        | 4.88e+03 |\n",
      "|    loss           | 1.69     |\n",
      "|    neglogp        | 1.69     |\n",
      "|    prob_true_act  | 0.582    |\n",
      "|    samples_so_far | 7127040  |\n",
      "--------------------------------\n"
     ]
    },
    {
     "name": "stderr",
     "output_type": "stream",
     "text": [
      "3490batch [21:11,  2.92batch/s]"
     ]
    },
    {
     "name": "stdout",
     "output_type": "stream",
     "text": [
      "--------------------------------\n",
      "| batch_size        | 2048     |\n",
      "| bc/               |          |\n",
      "|    batch          | 3489     |\n",
      "|    ent_loss       | 0.00013  |\n",
      "|    entropy        | -0.13    |\n",
      "|    epoch          | 349      |\n",
      "|    l2_loss        | 0        |\n",
      "|    l2_norm        | 4.88e+03 |\n",
      "|    loss           | 1.59     |\n",
      "|    neglogp        | 1.59     |\n",
      "|    prob_true_act  | 0.586    |\n",
      "|    samples_so_far | 7147520  |\n",
      "--------------------------------\n"
     ]
    },
    {
     "name": "stderr",
     "output_type": "stream",
     "text": [
      "3500batch [21:15,  2.93batch/s]"
     ]
    },
    {
     "name": "stdout",
     "output_type": "stream",
     "text": [
      "--------------------------------\n",
      "| batch_size        | 2048     |\n",
      "| bc/               |          |\n",
      "|    batch          | 3499     |\n",
      "|    ent_loss       | 0.000127 |\n",
      "|    entropy        | -0.127   |\n",
      "|    epoch          | 350      |\n",
      "|    l2_loss        | 0        |\n",
      "|    l2_norm        | 4.88e+03 |\n",
      "|    loss           | 1.58     |\n",
      "|    neglogp        | 1.58     |\n",
      "|    prob_true_act  | 0.581    |\n",
      "|    samples_so_far | 7168000  |\n",
      "--------------------------------\n"
     ]
    },
    {
     "name": "stderr",
     "output_type": "stream",
     "text": [
      "3510batch [21:19,  2.95batch/s]"
     ]
    },
    {
     "name": "stdout",
     "output_type": "stream",
     "text": [
      "--------------------------------\n",
      "| batch_size        | 2048     |\n",
      "| bc/               |          |\n",
      "|    batch          | 3509     |\n",
      "|    ent_loss       | 0.000124 |\n",
      "|    entropy        | -0.124   |\n",
      "|    epoch          | 351      |\n",
      "|    l2_loss        | 0        |\n",
      "|    l2_norm        | 4.88e+03 |\n",
      "|    loss           | 1.5      |\n",
      "|    neglogp        | 1.5      |\n",
      "|    prob_true_act  | 0.6      |\n",
      "|    samples_so_far | 7188480  |\n",
      "--------------------------------\n"
     ]
    },
    {
     "name": "stderr",
     "output_type": "stream",
     "text": [
      "3520batch [21:22,  3.00batch/s]"
     ]
    },
    {
     "name": "stdout",
     "output_type": "stream",
     "text": [
      "--------------------------------\n",
      "| batch_size        | 2048     |\n",
      "| bc/               |          |\n",
      "|    batch          | 3519     |\n",
      "|    ent_loss       | 0.000121 |\n",
      "|    entropy        | -0.121   |\n",
      "|    epoch          | 352      |\n",
      "|    l2_loss        | 0        |\n",
      "|    l2_norm        | 4.88e+03 |\n",
      "|    loss           | 1.62     |\n",
      "|    neglogp        | 1.62     |\n",
      "|    prob_true_act  | 0.584    |\n",
      "|    samples_so_far | 7208960  |\n",
      "--------------------------------\n"
     ]
    },
    {
     "name": "stderr",
     "output_type": "stream",
     "text": [
      "3530batch [21:26,  3.00batch/s]"
     ]
    },
    {
     "name": "stdout",
     "output_type": "stream",
     "text": [
      "--------------------------------\n",
      "| batch_size        | 2048     |\n",
      "| bc/               |          |\n",
      "|    batch          | 3529     |\n",
      "|    ent_loss       | 0.000118 |\n",
      "|    entropy        | -0.118   |\n",
      "|    epoch          | 353      |\n",
      "|    l2_loss        | 0        |\n",
      "|    l2_norm        | 4.88e+03 |\n",
      "|    loss           | 1.62     |\n",
      "|    neglogp        | 1.62     |\n",
      "|    prob_true_act  | 0.586    |\n",
      "|    samples_so_far | 7229440  |\n",
      "--------------------------------\n"
     ]
    },
    {
     "name": "stderr",
     "output_type": "stream",
     "text": [
      "3540batch [21:29,  3.00batch/s]"
     ]
    },
    {
     "name": "stdout",
     "output_type": "stream",
     "text": [
      "--------------------------------\n",
      "| batch_size        | 2048     |\n",
      "| bc/               |          |\n",
      "|    batch          | 3539     |\n",
      "|    ent_loss       | 0.000115 |\n",
      "|    entropy        | -0.115   |\n",
      "|    epoch          | 354      |\n",
      "|    l2_loss        | 0        |\n",
      "|    l2_norm        | 4.88e+03 |\n",
      "|    loss           | 1.61     |\n",
      "|    neglogp        | 1.61     |\n",
      "|    prob_true_act  | 0.597    |\n",
      "|    samples_so_far | 7249920  |\n",
      "--------------------------------\n"
     ]
    },
    {
     "name": "stderr",
     "output_type": "stream",
     "text": [
      "3550batch [21:33,  2.99batch/s]"
     ]
    },
    {
     "name": "stdout",
     "output_type": "stream",
     "text": [
      "--------------------------------\n",
      "| batch_size        | 2048     |\n",
      "| bc/               |          |\n",
      "|    batch          | 3549     |\n",
      "|    ent_loss       | 0.000112 |\n",
      "|    entropy        | -0.112   |\n",
      "|    epoch          | 355      |\n",
      "|    l2_loss        | 0        |\n",
      "|    l2_norm        | 4.88e+03 |\n",
      "|    loss           | 1.64     |\n",
      "|    neglogp        | 1.64     |\n",
      "|    prob_true_act  | 0.596    |\n",
      "|    samples_so_far | 7270400  |\n",
      "--------------------------------\n"
     ]
    },
    {
     "name": "stderr",
     "output_type": "stream",
     "text": [
      "3560batch [21:36,  2.86batch/s]"
     ]
    },
    {
     "name": "stdout",
     "output_type": "stream",
     "text": [
      "--------------------------------\n",
      "| batch_size        | 2048     |\n",
      "| bc/               |          |\n",
      "|    batch          | 3559     |\n",
      "|    ent_loss       | 0.000109 |\n",
      "|    entropy        | -0.109   |\n",
      "|    epoch          | 356      |\n",
      "|    l2_loss        | 0        |\n",
      "|    l2_norm        | 4.88e+03 |\n",
      "|    loss           | 1.56     |\n",
      "|    neglogp        | 1.56     |\n",
      "|    prob_true_act  | 0.608    |\n",
      "|    samples_so_far | 7290880  |\n",
      "--------------------------------\n"
     ]
    },
    {
     "name": "stderr",
     "output_type": "stream",
     "text": [
      "3570batch [21:40,  2.97batch/s]"
     ]
    },
    {
     "name": "stdout",
     "output_type": "stream",
     "text": [
      "--------------------------------\n",
      "| batch_size        | 2048     |\n",
      "| bc/               |          |\n",
      "|    batch          | 3569     |\n",
      "|    ent_loss       | 0.000106 |\n",
      "|    entropy        | -0.106   |\n",
      "|    epoch          | 357      |\n",
      "|    l2_loss        | 0        |\n",
      "|    l2_norm        | 4.88e+03 |\n",
      "|    loss           | 1.72     |\n",
      "|    neglogp        | 1.72     |\n",
      "|    prob_true_act  | 0.594    |\n",
      "|    samples_so_far | 7311360  |\n",
      "--------------------------------\n"
     ]
    },
    {
     "name": "stderr",
     "output_type": "stream",
     "text": [
      "3580batch [21:44,  2.82batch/s]"
     ]
    },
    {
     "name": "stdout",
     "output_type": "stream",
     "text": [
      "--------------------------------\n",
      "| batch_size        | 2048     |\n",
      "| bc/               |          |\n",
      "|    batch          | 3579     |\n",
      "|    ent_loss       | 0.000103 |\n",
      "|    entropy        | -0.103   |\n",
      "|    epoch          | 358      |\n",
      "|    l2_loss        | 0        |\n",
      "|    l2_norm        | 4.88e+03 |\n",
      "|    loss           | 1.46     |\n",
      "|    neglogp        | 1.46     |\n",
      "|    prob_true_act  | 0.611    |\n",
      "|    samples_so_far | 7331840  |\n",
      "--------------------------------\n"
     ]
    },
    {
     "name": "stderr",
     "output_type": "stream",
     "text": [
      "3590batch [21:47,  2.97batch/s]"
     ]
    },
    {
     "name": "stdout",
     "output_type": "stream",
     "text": [
      "--------------------------------\n",
      "| batch_size        | 2048     |\n",
      "| bc/               |          |\n",
      "|    batch          | 3589     |\n",
      "|    ent_loss       | 0.0001   |\n",
      "|    entropy        | -0.1     |\n",
      "|    epoch          | 359      |\n",
      "|    l2_loss        | 0        |\n",
      "|    l2_norm        | 4.88e+03 |\n",
      "|    loss           | 1.63     |\n",
      "|    neglogp        | 1.63     |\n",
      "|    prob_true_act  | 0.606    |\n",
      "|    samples_so_far | 7352320  |\n",
      "--------------------------------\n"
     ]
    },
    {
     "name": "stderr",
     "output_type": "stream",
     "text": [
      "3600batch [21:51,  2.97batch/s]"
     ]
    },
    {
     "name": "stdout",
     "output_type": "stream",
     "text": [
      "--------------------------------\n",
      "| batch_size        | 2048     |\n",
      "| bc/               |          |\n",
      "|    batch          | 3599     |\n",
      "|    ent_loss       | 9.75e-05 |\n",
      "|    entropy        | -0.0975  |\n",
      "|    epoch          | 360      |\n",
      "|    l2_loss        | 0        |\n",
      "|    l2_norm        | 4.88e+03 |\n",
      "|    loss           | 1.47     |\n",
      "|    neglogp        | 1.47     |\n",
      "|    prob_true_act  | 0.617    |\n",
      "|    samples_so_far | 7372800  |\n",
      "--------------------------------\n"
     ]
    },
    {
     "name": "stderr",
     "output_type": "stream",
     "text": [
      "3610batch [21:54,  2.96batch/s]"
     ]
    },
    {
     "name": "stdout",
     "output_type": "stream",
     "text": [
      "--------------------------------\n",
      "| batch_size        | 2048     |\n",
      "| bc/               |          |\n",
      "|    batch          | 3609     |\n",
      "|    ent_loss       | 9.45e-05 |\n",
      "|    entropy        | -0.0945  |\n",
      "|    epoch          | 361      |\n",
      "|    l2_loss        | 0        |\n",
      "|    l2_norm        | 4.88e+03 |\n",
      "|    loss           | 1.54     |\n",
      "|    neglogp        | 1.54     |\n",
      "|    prob_true_act  | 0.61     |\n",
      "|    samples_so_far | 7393280  |\n",
      "--------------------------------\n"
     ]
    },
    {
     "name": "stderr",
     "output_type": "stream",
     "text": [
      "3620batch [21:58,  2.97batch/s]"
     ]
    },
    {
     "name": "stdout",
     "output_type": "stream",
     "text": [
      "--------------------------------\n",
      "| batch_size        | 2048     |\n",
      "| bc/               |          |\n",
      "|    batch          | 3619     |\n",
      "|    ent_loss       | 9.16e-05 |\n",
      "|    entropy        | -0.0916  |\n",
      "|    epoch          | 362      |\n",
      "|    l2_loss        | 0        |\n",
      "|    l2_norm        | 4.88e+03 |\n",
      "|    loss           | 1.63     |\n",
      "|    neglogp        | 1.63     |\n",
      "|    prob_true_act  | 0.614    |\n",
      "|    samples_so_far | 7413760  |\n",
      "--------------------------------\n"
     ]
    },
    {
     "name": "stderr",
     "output_type": "stream",
     "text": [
      "3630batch [22:01,  2.99batch/s]"
     ]
    },
    {
     "name": "stdout",
     "output_type": "stream",
     "text": [
      "--------------------------------\n",
      "| batch_size        | 2048     |\n",
      "| bc/               |          |\n",
      "|    batch          | 3629     |\n",
      "|    ent_loss       | 8.87e-05 |\n",
      "|    entropy        | -0.0887  |\n",
      "|    epoch          | 363      |\n",
      "|    l2_loss        | 0        |\n",
      "|    l2_norm        | 4.88e+03 |\n",
      "|    loss           | 1.54     |\n",
      "|    neglogp        | 1.54     |\n",
      "|    prob_true_act  | 0.624    |\n",
      "|    samples_so_far | 7434240  |\n",
      "--------------------------------\n"
     ]
    },
    {
     "name": "stderr",
     "output_type": "stream",
     "text": [
      "3640batch [22:05,  2.98batch/s]"
     ]
    },
    {
     "name": "stdout",
     "output_type": "stream",
     "text": [
      "--------------------------------\n",
      "| batch_size        | 2048     |\n",
      "| bc/               |          |\n",
      "|    batch          | 3639     |\n",
      "|    ent_loss       | 8.58e-05 |\n",
      "|    entropy        | -0.0858  |\n",
      "|    epoch          | 364      |\n",
      "|    l2_loss        | 0        |\n",
      "|    l2_norm        | 4.88e+03 |\n",
      "|    loss           | 1.44     |\n",
      "|    neglogp        | 1.44     |\n",
      "|    prob_true_act  | 0.628    |\n",
      "|    samples_so_far | 7454720  |\n",
      "--------------------------------\n"
     ]
    },
    {
     "name": "stderr",
     "output_type": "stream",
     "text": [
      "3650batch [22:09,  2.70batch/s]"
     ]
    },
    {
     "name": "stdout",
     "output_type": "stream",
     "text": [
      "--------------------------------\n",
      "| batch_size        | 2048     |\n",
      "| bc/               |          |\n",
      "|    batch          | 3649     |\n",
      "|    ent_loss       | 8.29e-05 |\n",
      "|    entropy        | -0.0829  |\n",
      "|    epoch          | 365      |\n",
      "|    l2_loss        | 0        |\n",
      "|    l2_norm        | 4.88e+03 |\n",
      "|    loss           | 1.39     |\n",
      "|    neglogp        | 1.39     |\n",
      "|    prob_true_act  | 0.632    |\n",
      "|    samples_so_far | 7475200  |\n",
      "--------------------------------\n"
     ]
    },
    {
     "name": "stderr",
     "output_type": "stream",
     "text": [
      "3660batch [22:12,  2.98batch/s]"
     ]
    },
    {
     "name": "stdout",
     "output_type": "stream",
     "text": [
      "--------------------------------\n",
      "| batch_size        | 2048     |\n",
      "| bc/               |          |\n",
      "|    batch          | 3659     |\n",
      "|    ent_loss       | 8e-05    |\n",
      "|    entropy        | -0.08    |\n",
      "|    epoch          | 366      |\n",
      "|    l2_loss        | 0        |\n",
      "|    l2_norm        | 4.88e+03 |\n",
      "|    loss           | 1.44     |\n",
      "|    neglogp        | 1.44     |\n",
      "|    prob_true_act  | 0.626    |\n",
      "|    samples_so_far | 7495680  |\n",
      "--------------------------------\n"
     ]
    },
    {
     "name": "stderr",
     "output_type": "stream",
     "text": [
      "3670batch [22:16,  2.94batch/s]"
     ]
    },
    {
     "name": "stdout",
     "output_type": "stream",
     "text": [
      "--------------------------------\n",
      "| batch_size        | 2048     |\n",
      "| bc/               |          |\n",
      "|    batch          | 3669     |\n",
      "|    ent_loss       | 7.71e-05 |\n",
      "|    entropy        | -0.0771  |\n",
      "|    epoch          | 367      |\n",
      "|    l2_loss        | 0        |\n",
      "|    l2_norm        | 4.88e+03 |\n",
      "|    loss           | 1.45     |\n",
      "|    neglogp        | 1.45     |\n",
      "|    prob_true_act  | 0.624    |\n",
      "|    samples_so_far | 7516160  |\n",
      "--------------------------------\n"
     ]
    },
    {
     "name": "stderr",
     "output_type": "stream",
     "text": [
      "3680batch [22:19,  2.92batch/s]"
     ]
    },
    {
     "name": "stdout",
     "output_type": "stream",
     "text": [
      "--------------------------------\n",
      "| batch_size        | 2048     |\n",
      "| bc/               |          |\n",
      "|    batch          | 3679     |\n",
      "|    ent_loss       | 7.43e-05 |\n",
      "|    entropy        | -0.0743  |\n",
      "|    epoch          | 368      |\n",
      "|    l2_loss        | 0        |\n",
      "|    l2_norm        | 4.88e+03 |\n",
      "|    loss           | 1.53     |\n",
      "|    neglogp        | 1.53     |\n",
      "|    prob_true_act  | 0.616    |\n",
      "|    samples_so_far | 7536640  |\n",
      "--------------------------------\n"
     ]
    },
    {
     "name": "stderr",
     "output_type": "stream",
     "text": [
      "3690batch [22:23,  2.99batch/s]"
     ]
    },
    {
     "name": "stdout",
     "output_type": "stream",
     "text": [
      "--------------------------------\n",
      "| batch_size        | 2048     |\n",
      "| bc/               |          |\n",
      "|    batch          | 3689     |\n",
      "|    ent_loss       | 7.14e-05 |\n",
      "|    entropy        | -0.0714  |\n",
      "|    epoch          | 369      |\n",
      "|    l2_loss        | 0        |\n",
      "|    l2_norm        | 4.88e+03 |\n",
      "|    loss           | 1.39     |\n",
      "|    neglogp        | 1.39     |\n",
      "|    prob_true_act  | 0.638    |\n",
      "|    samples_so_far | 7557120  |\n",
      "--------------------------------\n"
     ]
    },
    {
     "name": "stderr",
     "output_type": "stream",
     "text": [
      "3700batch [22:26,  2.96batch/s]"
     ]
    },
    {
     "name": "stdout",
     "output_type": "stream",
     "text": [
      "--------------------------------\n",
      "| batch_size        | 2048     |\n",
      "| bc/               |          |\n",
      "|    batch          | 3699     |\n",
      "|    ent_loss       | 6.85e-05 |\n",
      "|    entropy        | -0.0685  |\n",
      "|    epoch          | 370      |\n",
      "|    l2_loss        | 0        |\n",
      "|    l2_norm        | 4.88e+03 |\n",
      "|    loss           | 1.49     |\n",
      "|    neglogp        | 1.49     |\n",
      "|    prob_true_act  | 0.622    |\n",
      "|    samples_so_far | 7577600  |\n",
      "--------------------------------\n"
     ]
    },
    {
     "name": "stderr",
     "output_type": "stream",
     "text": [
      "3710batch [22:30,  2.96batch/s]"
     ]
    },
    {
     "name": "stdout",
     "output_type": "stream",
     "text": [
      "--------------------------------\n",
      "| batch_size        | 2048     |\n",
      "| bc/               |          |\n",
      "|    batch          | 3709     |\n",
      "|    ent_loss       | 6.57e-05 |\n",
      "|    entropy        | -0.0657  |\n",
      "|    epoch          | 371      |\n",
      "|    l2_loss        | 0        |\n",
      "|    l2_norm        | 4.88e+03 |\n",
      "|    loss           | 1.39     |\n",
      "|    neglogp        | 1.39     |\n",
      "|    prob_true_act  | 0.64     |\n",
      "|    samples_so_far | 7598080  |\n",
      "--------------------------------\n"
     ]
    },
    {
     "name": "stderr",
     "output_type": "stream",
     "text": [
      "3720batch [22:34,  2.97batch/s]"
     ]
    },
    {
     "name": "stdout",
     "output_type": "stream",
     "text": [
      "--------------------------------\n",
      "| batch_size        | 2048     |\n",
      "| bc/               |          |\n",
      "|    batch          | 3719     |\n",
      "|    ent_loss       | 6.28e-05 |\n",
      "|    entropy        | -0.0628  |\n",
      "|    epoch          | 372      |\n",
      "|    l2_loss        | 0        |\n",
      "|    l2_norm        | 4.88e+03 |\n",
      "|    loss           | 1.48     |\n",
      "|    neglogp        | 1.48     |\n",
      "|    prob_true_act  | 0.633    |\n",
      "|    samples_so_far | 7618560  |\n",
      "--------------------------------\n"
     ]
    },
    {
     "name": "stderr",
     "output_type": "stream",
     "text": [
      "3730batch [22:37,  2.97batch/s]"
     ]
    },
    {
     "name": "stdout",
     "output_type": "stream",
     "text": [
      "--------------------------------\n",
      "| batch_size        | 2048     |\n",
      "| bc/               |          |\n",
      "|    batch          | 3729     |\n",
      "|    ent_loss       | 6e-05    |\n",
      "|    entropy        | -0.06    |\n",
      "|    epoch          | 373      |\n",
      "|    l2_loss        | 0        |\n",
      "|    l2_norm        | 4.88e+03 |\n",
      "|    loss           | 1.34     |\n",
      "|    neglogp        | 1.34     |\n",
      "|    prob_true_act  | 0.645    |\n",
      "|    samples_so_far | 7639040  |\n",
      "--------------------------------\n"
     ]
    },
    {
     "name": "stderr",
     "output_type": "stream",
     "text": [
      "3740batch [22:41,  3.00batch/s]"
     ]
    },
    {
     "name": "stdout",
     "output_type": "stream",
     "text": [
      "--------------------------------\n",
      "| batch_size        | 2048     |\n",
      "| bc/               |          |\n",
      "|    batch          | 3739     |\n",
      "|    ent_loss       | 5.72e-05 |\n",
      "|    entropy        | -0.0572  |\n",
      "|    epoch          | 374      |\n",
      "|    l2_loss        | 0        |\n",
      "|    l2_norm        | 4.88e+03 |\n",
      "|    loss           | 1.38     |\n",
      "|    neglogp        | 1.38     |\n",
      "|    prob_true_act  | 0.646    |\n",
      "|    samples_so_far | 7659520  |\n",
      "--------------------------------\n"
     ]
    },
    {
     "name": "stderr",
     "output_type": "stream",
     "text": [
      "3750batch [22:44,  2.99batch/s]"
     ]
    },
    {
     "name": "stdout",
     "output_type": "stream",
     "text": [
      "--------------------------------\n",
      "| batch_size        | 2048     |\n",
      "| bc/               |          |\n",
      "|    batch          | 3749     |\n",
      "|    ent_loss       | 5.43e-05 |\n",
      "|    entropy        | -0.0543  |\n",
      "|    epoch          | 375      |\n",
      "|    l2_loss        | 0        |\n",
      "|    l2_norm        | 4.88e+03 |\n",
      "|    loss           | 1.39     |\n",
      "|    neglogp        | 1.38     |\n",
      "|    prob_true_act  | 0.646    |\n",
      "|    samples_so_far | 7680000  |\n",
      "--------------------------------\n"
     ]
    },
    {
     "name": "stderr",
     "output_type": "stream",
     "text": [
      "3760batch [22:48,  2.96batch/s]"
     ]
    },
    {
     "name": "stdout",
     "output_type": "stream",
     "text": [
      "--------------------------------\n",
      "| batch_size        | 2048     |\n",
      "| bc/               |          |\n",
      "|    batch          | 3759     |\n",
      "|    ent_loss       | 5.15e-05 |\n",
      "|    entropy        | -0.0515  |\n",
      "|    epoch          | 376      |\n",
      "|    l2_loss        | 0        |\n",
      "|    l2_norm        | 4.88e+03 |\n",
      "|    loss           | 1.38     |\n",
      "|    neglogp        | 1.38     |\n",
      "|    prob_true_act  | 0.647    |\n",
      "|    samples_so_far | 7700480  |\n",
      "--------------------------------\n"
     ]
    },
    {
     "name": "stderr",
     "output_type": "stream",
     "text": [
      "3770batch [22:51,  2.98batch/s]"
     ]
    },
    {
     "name": "stdout",
     "output_type": "stream",
     "text": [
      "--------------------------------\n",
      "| batch_size        | 2048     |\n",
      "| bc/               |          |\n",
      "|    batch          | 3769     |\n",
      "|    ent_loss       | 4.87e-05 |\n",
      "|    entropy        | -0.0487  |\n",
      "|    epoch          | 377      |\n",
      "|    l2_loss        | 0        |\n",
      "|    l2_norm        | 4.88e+03 |\n",
      "|    loss           | 1.3      |\n",
      "|    neglogp        | 1.3      |\n",
      "|    prob_true_act  | 0.657    |\n",
      "|    samples_so_far | 7720960  |\n",
      "--------------------------------\n"
     ]
    },
    {
     "name": "stderr",
     "output_type": "stream",
     "text": [
      "3780batch [22:55,  2.93batch/s]"
     ]
    },
    {
     "name": "stdout",
     "output_type": "stream",
     "text": [
      "--------------------------------\n",
      "| batch_size        | 2048     |\n",
      "| bc/               |          |\n",
      "|    batch          | 3779     |\n",
      "|    ent_loss       | 4.59e-05 |\n",
      "|    entropy        | -0.0459  |\n",
      "|    epoch          | 378      |\n",
      "|    l2_loss        | 0        |\n",
      "|    l2_norm        | 4.88e+03 |\n",
      "|    loss           | 1.39     |\n",
      "|    neglogp        | 1.39     |\n",
      "|    prob_true_act  | 0.64     |\n",
      "|    samples_so_far | 7741440  |\n",
      "--------------------------------\n"
     ]
    },
    {
     "name": "stderr",
     "output_type": "stream",
     "text": [
      "3790batch [22:58,  2.99batch/s]"
     ]
    },
    {
     "name": "stdout",
     "output_type": "stream",
     "text": [
      "--------------------------------\n",
      "| batch_size        | 2048     |\n",
      "| bc/               |          |\n",
      "|    batch          | 3789     |\n",
      "|    ent_loss       | 4.31e-05 |\n",
      "|    entropy        | -0.0431  |\n",
      "|    epoch          | 379      |\n",
      "|    l2_loss        | 0        |\n",
      "|    l2_norm        | 4.88e+03 |\n",
      "|    loss           | 1.33     |\n",
      "|    neglogp        | 1.33     |\n",
      "|    prob_true_act  | 0.656    |\n",
      "|    samples_so_far | 7761920  |\n",
      "--------------------------------\n"
     ]
    },
    {
     "name": "stderr",
     "output_type": "stream",
     "text": [
      "3800batch [23:02,  2.88batch/s]"
     ]
    },
    {
     "name": "stdout",
     "output_type": "stream",
     "text": [
      "--------------------------------\n",
      "| batch_size        | 2048     |\n",
      "| bc/               |          |\n",
      "|    batch          | 3799     |\n",
      "|    ent_loss       | 4.04e-05 |\n",
      "|    entropy        | -0.0404  |\n",
      "|    epoch          | 380      |\n",
      "|    l2_loss        | 0        |\n",
      "|    l2_norm        | 4.88e+03 |\n",
      "|    loss           | 1.29     |\n",
      "|    neglogp        | 1.29     |\n",
      "|    prob_true_act  | 0.658    |\n",
      "|    samples_so_far | 7782400  |\n",
      "--------------------------------\n"
     ]
    },
    {
     "name": "stderr",
     "output_type": "stream",
     "text": [
      "3810batch [23:06,  3.02batch/s]"
     ]
    },
    {
     "name": "stdout",
     "output_type": "stream",
     "text": [
      "--------------------------------\n",
      "| batch_size        | 2048     |\n",
      "| bc/               |          |\n",
      "|    batch          | 3809     |\n",
      "|    ent_loss       | 3.76e-05 |\n",
      "|    entropy        | -0.0376  |\n",
      "|    epoch          | 381      |\n",
      "|    l2_loss        | 0        |\n",
      "|    l2_norm        | 4.88e+03 |\n",
      "|    loss           | 1.45     |\n",
      "|    neglogp        | 1.45     |\n",
      "|    prob_true_act  | 0.649    |\n",
      "|    samples_so_far | 7802880  |\n",
      "--------------------------------\n"
     ]
    },
    {
     "name": "stderr",
     "output_type": "stream",
     "text": [
      "3820batch [23:09,  2.99batch/s]"
     ]
    },
    {
     "name": "stdout",
     "output_type": "stream",
     "text": [
      "--------------------------------\n",
      "| batch_size        | 2048     |\n",
      "| bc/               |          |\n",
      "|    batch          | 3819     |\n",
      "|    ent_loss       | 3.48e-05 |\n",
      "|    entropy        | -0.0348  |\n",
      "|    epoch          | 382      |\n",
      "|    l2_loss        | 0        |\n",
      "|    l2_norm        | 4.88e+03 |\n",
      "|    loss           | 1.26     |\n",
      "|    neglogp        | 1.26     |\n",
      "|    prob_true_act  | 0.668    |\n",
      "|    samples_so_far | 7823360  |\n",
      "--------------------------------\n"
     ]
    },
    {
     "name": "stderr",
     "output_type": "stream",
     "text": [
      "3830batch [23:13,  2.93batch/s]"
     ]
    },
    {
     "name": "stdout",
     "output_type": "stream",
     "text": [
      "--------------------------------\n",
      "| batch_size        | 2048     |\n",
      "| bc/               |          |\n",
      "|    batch          | 3829     |\n",
      "|    ent_loss       | 3.2e-05  |\n",
      "|    entropy        | -0.032   |\n",
      "|    epoch          | 383      |\n",
      "|    l2_loss        | 0        |\n",
      "|    l2_norm        | 4.88e+03 |\n",
      "|    loss           | 1.41     |\n",
      "|    neglogp        | 1.41     |\n",
      "|    prob_true_act  | 0.651    |\n",
      "|    samples_so_far | 7843840  |\n",
      "--------------------------------\n"
     ]
    },
    {
     "name": "stderr",
     "output_type": "stream",
     "text": [
      "3840batch [23:16,  2.98batch/s]"
     ]
    },
    {
     "name": "stdout",
     "output_type": "stream",
     "text": [
      "--------------------------------\n",
      "| batch_size        | 2048     |\n",
      "| bc/               |          |\n",
      "|    batch          | 3839     |\n",
      "|    ent_loss       | 2.93e-05 |\n",
      "|    entropy        | -0.0293  |\n",
      "|    epoch          | 384      |\n",
      "|    l2_loss        | 0        |\n",
      "|    l2_norm        | 4.88e+03 |\n",
      "|    loss           | 1.42     |\n",
      "|    neglogp        | 1.41     |\n",
      "|    prob_true_act  | 0.653    |\n",
      "|    samples_so_far | 7864320  |\n",
      "--------------------------------\n"
     ]
    },
    {
     "name": "stderr",
     "output_type": "stream",
     "text": [
      "3850batch [23:20,  2.97batch/s]"
     ]
    },
    {
     "name": "stdout",
     "output_type": "stream",
     "text": [
      "--------------------------------\n",
      "| batch_size        | 2048     |\n",
      "| bc/               |          |\n",
      "|    batch          | 3849     |\n",
      "|    ent_loss       | 2.65e-05 |\n",
      "|    entropy        | -0.0265  |\n",
      "|    epoch          | 385      |\n",
      "|    l2_loss        | 0        |\n",
      "|    l2_norm        | 4.88e+03 |\n",
      "|    loss           | 1.31     |\n",
      "|    neglogp        | 1.31     |\n",
      "|    prob_true_act  | 0.663    |\n",
      "|    samples_so_far | 7884800  |\n",
      "--------------------------------\n"
     ]
    },
    {
     "name": "stderr",
     "output_type": "stream",
     "text": [
      "3860batch [23:23,  2.98batch/s]"
     ]
    },
    {
     "name": "stdout",
     "output_type": "stream",
     "text": [
      "--------------------------------\n",
      "| batch_size        | 2048     |\n",
      "| bc/               |          |\n",
      "|    batch          | 3859     |\n",
      "|    ent_loss       | 2.38e-05 |\n",
      "|    entropy        | -0.0238  |\n",
      "|    epoch          | 386      |\n",
      "|    l2_loss        | 0        |\n",
      "|    l2_norm        | 4.88e+03 |\n",
      "|    loss           | 1.3      |\n",
      "|    neglogp        | 1.3      |\n",
      "|    prob_true_act  | 0.666    |\n",
      "|    samples_so_far | 7905280  |\n",
      "--------------------------------\n"
     ]
    },
    {
     "name": "stderr",
     "output_type": "stream",
     "text": [
      "3870batch [23:27,  2.96batch/s]"
     ]
    },
    {
     "name": "stdout",
     "output_type": "stream",
     "text": [
      "--------------------------------\n",
      "| batch_size        | 2048     |\n",
      "| bc/               |          |\n",
      "|    batch          | 3869     |\n",
      "|    ent_loss       | 2.11e-05 |\n",
      "|    entropy        | -0.0211  |\n",
      "|    epoch          | 387      |\n",
      "|    l2_loss        | 0        |\n",
      "|    l2_norm        | 4.88e+03 |\n",
      "|    loss           | 1.32     |\n",
      "|    neglogp        | 1.32     |\n",
      "|    prob_true_act  | 0.676    |\n",
      "|    samples_so_far | 7925760  |\n",
      "--------------------------------\n"
     ]
    },
    {
     "name": "stderr",
     "output_type": "stream",
     "text": [
      "3880batch [23:30,  2.92batch/s]"
     ]
    },
    {
     "name": "stdout",
     "output_type": "stream",
     "text": [
      "--------------------------------\n",
      "| batch_size        | 2048     |\n",
      "| bc/               |          |\n",
      "|    batch          | 3879     |\n",
      "|    ent_loss       | 1.83e-05 |\n",
      "|    entropy        | -0.0183  |\n",
      "|    epoch          | 388      |\n",
      "|    l2_loss        | 0        |\n",
      "|    l2_norm        | 4.88e+03 |\n",
      "|    loss           | 1.27     |\n",
      "|    neglogp        | 1.27     |\n",
      "|    prob_true_act  | 0.671    |\n",
      "|    samples_so_far | 7946240  |\n",
      "--------------------------------\n"
     ]
    },
    {
     "name": "stderr",
     "output_type": "stream",
     "text": [
      "3890batch [23:34,  2.98batch/s]"
     ]
    },
    {
     "name": "stdout",
     "output_type": "stream",
     "text": [
      "--------------------------------\n",
      "| batch_size        | 2048     |\n",
      "| bc/               |          |\n",
      "|    batch          | 3889     |\n",
      "|    ent_loss       | 1.56e-05 |\n",
      "|    entropy        | -0.0156  |\n",
      "|    epoch          | 389      |\n",
      "|    l2_loss        | 0        |\n",
      "|    l2_norm        | 4.88e+03 |\n",
      "|    loss           | 1.18     |\n",
      "|    neglogp        | 1.18     |\n",
      "|    prob_true_act  | 0.676    |\n",
      "|    samples_so_far | 7966720  |\n",
      "--------------------------------\n"
     ]
    },
    {
     "name": "stderr",
     "output_type": "stream",
     "text": [
      "3900batch [23:38,  2.97batch/s]"
     ]
    },
    {
     "name": "stdout",
     "output_type": "stream",
     "text": [
      "--------------------------------\n",
      "| batch_size        | 2048     |\n",
      "| bc/               |          |\n",
      "|    batch          | 3899     |\n",
      "|    ent_loss       | 1.29e-05 |\n",
      "|    entropy        | -0.0129  |\n",
      "|    epoch          | 390      |\n",
      "|    l2_loss        | 0        |\n",
      "|    l2_norm        | 4.88e+03 |\n",
      "|    loss           | 1.38     |\n",
      "|    neglogp        | 1.38     |\n",
      "|    prob_true_act  | 0.666    |\n",
      "|    samples_so_far | 7987200  |\n",
      "--------------------------------\n"
     ]
    },
    {
     "name": "stderr",
     "output_type": "stream",
     "text": [
      "3910batch [23:41,  2.95batch/s]"
     ]
    },
    {
     "name": "stdout",
     "output_type": "stream",
     "text": [
      "--------------------------------\n",
      "| batch_size        | 2048     |\n",
      "| bc/               |          |\n",
      "|    batch          | 3909     |\n",
      "|    ent_loss       | 1.02e-05 |\n",
      "|    entropy        | -0.0102  |\n",
      "|    epoch          | 391      |\n",
      "|    l2_loss        | 0        |\n",
      "|    l2_norm        | 4.88e+03 |\n",
      "|    loss           | 1.4      |\n",
      "|    neglogp        | 1.4      |\n",
      "|    prob_true_act  | 0.669    |\n",
      "|    samples_so_far | 8007680  |\n",
      "--------------------------------\n"
     ]
    },
    {
     "name": "stderr",
     "output_type": "stream",
     "text": [
      "3920batch [23:45,  2.97batch/s]"
     ]
    },
    {
     "name": "stdout",
     "output_type": "stream",
     "text": [
      "--------------------------------\n",
      "| batch_size        | 2048     |\n",
      "| bc/               |          |\n",
      "|    batch          | 3919     |\n",
      "|    ent_loss       | 7.49e-06 |\n",
      "|    entropy        | -0.00749 |\n",
      "|    epoch          | 392      |\n",
      "|    l2_loss        | 0        |\n",
      "|    l2_norm        | 4.88e+03 |\n",
      "|    loss           | 1.19     |\n",
      "|    neglogp        | 1.19     |\n",
      "|    prob_true_act  | 0.689    |\n",
      "|    samples_so_far | 8028160  |\n",
      "--------------------------------\n"
     ]
    },
    {
     "name": "stderr",
     "output_type": "stream",
     "text": [
      "3930batch [23:49,  2.21batch/s]"
     ]
    },
    {
     "name": "stdout",
     "output_type": "stream",
     "text": [
      "--------------------------------\n",
      "| batch_size        | 2048     |\n",
      "| bc/               |          |\n",
      "|    batch          | 3929     |\n",
      "|    ent_loss       | 4.77e-06 |\n",
      "|    entropy        | -0.00477 |\n",
      "|    epoch          | 393      |\n",
      "|    l2_loss        | 0        |\n",
      "|    l2_norm        | 4.88e+03 |\n",
      "|    loss           | 1.19     |\n",
      "|    neglogp        | 1.19     |\n",
      "|    prob_true_act  | 0.687    |\n",
      "|    samples_so_far | 8048640  |\n",
      "--------------------------------\n"
     ]
    },
    {
     "name": "stderr",
     "output_type": "stream",
     "text": [
      "3940batch [23:53,  2.85batch/s]"
     ]
    },
    {
     "name": "stdout",
     "output_type": "stream",
     "text": [
      "--------------------------------\n",
      "| batch_size        | 2048     |\n",
      "| bc/               |          |\n",
      "|    batch          | 3939     |\n",
      "|    ent_loss       | 2.1e-06  |\n",
      "|    entropy        | -0.0021  |\n",
      "|    epoch          | 394      |\n",
      "|    l2_loss        | 0        |\n",
      "|    l2_norm        | 4.88e+03 |\n",
      "|    loss           | 1.25     |\n",
      "|    neglogp        | 1.25     |\n",
      "|    prob_true_act  | 0.679    |\n",
      "|    samples_so_far | 8069120  |\n",
      "--------------------------------\n"
     ]
    },
    {
     "name": "stderr",
     "output_type": "stream",
     "text": [
      "3950batch [23:57,  2.98batch/s]"
     ]
    },
    {
     "name": "stdout",
     "output_type": "stream",
     "text": [
      "---------------------------------\n",
      "| batch_size        | 2048      |\n",
      "| bc/               |           |\n",
      "|    batch          | 3949      |\n",
      "|    ent_loss       | -5.73e-07 |\n",
      "|    entropy        | 0.000573  |\n",
      "|    epoch          | 395       |\n",
      "|    l2_loss        | 0         |\n",
      "|    l2_norm        | 4.88e+03  |\n",
      "|    loss           | 1.25      |\n",
      "|    neglogp        | 1.25      |\n",
      "|    prob_true_act  | 0.684     |\n",
      "|    samples_so_far | 8089600   |\n",
      "---------------------------------\n"
     ]
    },
    {
     "name": "stderr",
     "output_type": "stream",
     "text": [
      "3960batch [24:00,  2.98batch/s]"
     ]
    },
    {
     "name": "stdout",
     "output_type": "stream",
     "text": [
      "---------------------------------\n",
      "| batch_size        | 2048      |\n",
      "| bc/               |           |\n",
      "|    batch          | 3959      |\n",
      "|    ent_loss       | -3.25e-06 |\n",
      "|    entropy        | 0.00325   |\n",
      "|    epoch          | 396       |\n",
      "|    l2_loss        | 0         |\n",
      "|    l2_norm        | 4.88e+03  |\n",
      "|    loss           | 1.22      |\n",
      "|    neglogp        | 1.22      |\n",
      "|    prob_true_act  | 0.691     |\n",
      "|    samples_so_far | 8110080   |\n",
      "---------------------------------\n"
     ]
    },
    {
     "name": "stderr",
     "output_type": "stream",
     "text": [
      "3970batch [24:04,  2.96batch/s]"
     ]
    },
    {
     "name": "stdout",
     "output_type": "stream",
     "text": [
      "---------------------------------\n",
      "| batch_size        | 2048      |\n",
      "| bc/               |           |\n",
      "|    batch          | 3969      |\n",
      "|    ent_loss       | -5.91e-06 |\n",
      "|    entropy        | 0.00591   |\n",
      "|    epoch          | 397       |\n",
      "|    l2_loss        | 0         |\n",
      "|    l2_norm        | 4.88e+03  |\n",
      "|    loss           | 1.29      |\n",
      "|    neglogp        | 1.29      |\n",
      "|    prob_true_act  | 0.682     |\n",
      "|    samples_so_far | 8130560   |\n",
      "---------------------------------\n"
     ]
    },
    {
     "name": "stderr",
     "output_type": "stream",
     "text": [
      "3980batch [24:07,  2.93batch/s]"
     ]
    },
    {
     "name": "stdout",
     "output_type": "stream",
     "text": [
      "---------------------------------\n",
      "| batch_size        | 2048      |\n",
      "| bc/               |           |\n",
      "|    batch          | 3979      |\n",
      "|    ent_loss       | -8.55e-06 |\n",
      "|    entropy        | 0.00855   |\n",
      "|    epoch          | 398       |\n",
      "|    l2_loss        | 0         |\n",
      "|    l2_norm        | 4.88e+03  |\n",
      "|    loss           | 1.27      |\n",
      "|    neglogp        | 1.27      |\n",
      "|    prob_true_act  | 0.679     |\n",
      "|    samples_so_far | 8151040   |\n",
      "---------------------------------\n"
     ]
    },
    {
     "name": "stderr",
     "output_type": "stream",
     "text": [
      "3990batch [24:11,  2.98batch/s]"
     ]
    },
    {
     "name": "stdout",
     "output_type": "stream",
     "text": [
      "---------------------------------\n",
      "| batch_size        | 2048      |\n",
      "| bc/               |           |\n",
      "|    batch          | 3989      |\n",
      "|    ent_loss       | -1.12e-05 |\n",
      "|    entropy        | 0.0112    |\n",
      "|    epoch          | 399       |\n",
      "|    l2_loss        | 0         |\n",
      "|    l2_norm        | 4.88e+03  |\n",
      "|    loss           | 1.31      |\n",
      "|    neglogp        | 1.31      |\n",
      "|    prob_true_act  | 0.68      |\n",
      "|    samples_so_far | 8171520   |\n",
      "---------------------------------\n"
     ]
    },
    {
     "name": "stderr",
     "output_type": "stream",
     "text": [
      "4000batch [24:14,  2.93batch/s]"
     ]
    },
    {
     "name": "stdout",
     "output_type": "stream",
     "text": [
      "---------------------------------\n",
      "| batch_size        | 2048      |\n",
      "| bc/               |           |\n",
      "|    batch          | 3999      |\n",
      "|    ent_loss       | -1.38e-05 |\n",
      "|    entropy        | 0.0138    |\n",
      "|    epoch          | 400       |\n",
      "|    l2_loss        | 0         |\n",
      "|    l2_norm        | 4.88e+03  |\n",
      "|    loss           | 1.14      |\n",
      "|    neglogp        | 1.14      |\n",
      "|    prob_true_act  | 0.703     |\n",
      "|    samples_so_far | 8192000   |\n",
      "---------------------------------\n"
     ]
    },
    {
     "name": "stderr",
     "output_type": "stream",
     "text": [
      "4010batch [24:18,  2.94batch/s]"
     ]
    },
    {
     "name": "stdout",
     "output_type": "stream",
     "text": [
      "---------------------------------\n",
      "| batch_size        | 2048      |\n",
      "| bc/               |           |\n",
      "|    batch          | 4009      |\n",
      "|    ent_loss       | -1.65e-05 |\n",
      "|    entropy        | 0.0165    |\n",
      "|    epoch          | 401       |\n",
      "|    l2_loss        | 0         |\n",
      "|    l2_norm        | 4.88e+03  |\n",
      "|    loss           | 1.21      |\n",
      "|    neglogp        | 1.21      |\n",
      "|    prob_true_act  | 0.693     |\n",
      "|    samples_so_far | 8212480   |\n",
      "---------------------------------\n"
     ]
    },
    {
     "name": "stderr",
     "output_type": "stream",
     "text": [
      "4020batch [24:22,  2.58batch/s]"
     ]
    },
    {
     "name": "stdout",
     "output_type": "stream",
     "text": [
      "---------------------------------\n",
      "| batch_size        | 2048      |\n",
      "| bc/               |           |\n",
      "|    batch          | 4019      |\n",
      "|    ent_loss       | -1.91e-05 |\n",
      "|    entropy        | 0.0191    |\n",
      "|    epoch          | 402       |\n",
      "|    l2_loss        | 0         |\n",
      "|    l2_norm        | 4.88e+03  |\n",
      "|    loss           | 1.18      |\n",
      "|    neglogp        | 1.18      |\n",
      "|    prob_true_act  | 0.694     |\n",
      "|    samples_so_far | 8232960   |\n",
      "---------------------------------\n"
     ]
    },
    {
     "name": "stderr",
     "output_type": "stream",
     "text": [
      "4030batch [24:25,  2.95batch/s]"
     ]
    },
    {
     "name": "stdout",
     "output_type": "stream",
     "text": [
      "---------------------------------\n",
      "| batch_size        | 2048      |\n",
      "| bc/               |           |\n",
      "|    batch          | 4029      |\n",
      "|    ent_loss       | -2.17e-05 |\n",
      "|    entropy        | 0.0217    |\n",
      "|    epoch          | 403       |\n",
      "|    l2_loss        | 0         |\n",
      "|    l2_norm        | 4.88e+03  |\n",
      "|    loss           | 1.22      |\n",
      "|    neglogp        | 1.22      |\n",
      "|    prob_true_act  | 0.686     |\n",
      "|    samples_so_far | 8253440   |\n",
      "---------------------------------\n"
     ]
    },
    {
     "name": "stderr",
     "output_type": "stream",
     "text": [
      "4040batch [24:29,  2.96batch/s]"
     ]
    },
    {
     "name": "stdout",
     "output_type": "stream",
     "text": [
      "---------------------------------\n",
      "| batch_size        | 2048      |\n",
      "| bc/               |           |\n",
      "|    batch          | 4039      |\n",
      "|    ent_loss       | -2.43e-05 |\n",
      "|    entropy        | 0.0243    |\n",
      "|    epoch          | 404       |\n",
      "|    l2_loss        | 0         |\n",
      "|    l2_norm        | 4.88e+03  |\n",
      "|    loss           | 1.33      |\n",
      "|    neglogp        | 1.33      |\n",
      "|    prob_true_act  | 0.677     |\n",
      "|    samples_so_far | 8273920   |\n",
      "---------------------------------\n"
     ]
    },
    {
     "name": "stderr",
     "output_type": "stream",
     "text": [
      "4050batch [24:32,  2.93batch/s]"
     ]
    },
    {
     "name": "stdout",
     "output_type": "stream",
     "text": [
      "--------------------------------\n",
      "| batch_size        | 2048     |\n",
      "| bc/               |          |\n",
      "|    batch          | 4049     |\n",
      "|    ent_loss       | -2.7e-05 |\n",
      "|    entropy        | 0.027    |\n",
      "|    epoch          | 405      |\n",
      "|    l2_loss        | 0        |\n",
      "|    l2_norm        | 4.88e+03 |\n",
      "|    loss           | 1.14     |\n",
      "|    neglogp        | 1.14     |\n",
      "|    prob_true_act  | 0.698    |\n",
      "|    samples_so_far | 8294400  |\n",
      "--------------------------------\n"
     ]
    },
    {
     "name": "stderr",
     "output_type": "stream",
     "text": [
      "4060batch [24:36,  2.93batch/s]"
     ]
    },
    {
     "name": "stdout",
     "output_type": "stream",
     "text": [
      "---------------------------------\n",
      "| batch_size        | 2048      |\n",
      "| bc/               |           |\n",
      "|    batch          | 4059      |\n",
      "|    ent_loss       | -2.96e-05 |\n",
      "|    entropy        | 0.0296    |\n",
      "|    epoch          | 406       |\n",
      "|    l2_loss        | 0         |\n",
      "|    l2_norm        | 4.88e+03  |\n",
      "|    loss           | 1.23      |\n",
      "|    neglogp        | 1.23      |\n",
      "|    prob_true_act  | 0.692     |\n",
      "|    samples_so_far | 8314880   |\n",
      "---------------------------------\n"
     ]
    },
    {
     "name": "stderr",
     "output_type": "stream",
     "text": [
      "4070batch [24:40,  2.96batch/s]"
     ]
    },
    {
     "name": "stdout",
     "output_type": "stream",
     "text": [
      "---------------------------------\n",
      "| batch_size        | 2048      |\n",
      "| bc/               |           |\n",
      "|    batch          | 4069      |\n",
      "|    ent_loss       | -3.22e-05 |\n",
      "|    entropy        | 0.0322    |\n",
      "|    epoch          | 407       |\n",
      "|    l2_loss        | 0         |\n",
      "|    l2_norm        | 4.88e+03  |\n",
      "|    loss           | 1.11      |\n",
      "|    neglogp        | 1.11      |\n",
      "|    prob_true_act  | 0.707     |\n",
      "|    samples_so_far | 8335360   |\n",
      "---------------------------------\n"
     ]
    },
    {
     "name": "stderr",
     "output_type": "stream",
     "text": [
      "4080batch [24:43,  2.96batch/s]"
     ]
    },
    {
     "name": "stdout",
     "output_type": "stream",
     "text": [
      "---------------------------------\n",
      "| batch_size        | 2048      |\n",
      "| bc/               |           |\n",
      "|    batch          | 4079      |\n",
      "|    ent_loss       | -3.47e-05 |\n",
      "|    entropy        | 0.0347    |\n",
      "|    epoch          | 408       |\n",
      "|    l2_loss        | 0         |\n",
      "|    l2_norm        | 4.88e+03  |\n",
      "|    loss           | 1.24      |\n",
      "|    neglogp        | 1.24      |\n",
      "|    prob_true_act  | 0.691     |\n",
      "|    samples_so_far | 8355840   |\n",
      "---------------------------------\n"
     ]
    },
    {
     "name": "stderr",
     "output_type": "stream",
     "text": [
      "4090batch [24:47,  2.52batch/s]"
     ]
    },
    {
     "name": "stdout",
     "output_type": "stream",
     "text": [
      "---------------------------------\n",
      "| batch_size        | 2048      |\n",
      "| bc/               |           |\n",
      "|    batch          | 4089      |\n",
      "|    ent_loss       | -3.73e-05 |\n",
      "|    entropy        | 0.0373    |\n",
      "|    epoch          | 409       |\n",
      "|    l2_loss        | 0         |\n",
      "|    l2_norm        | 4.88e+03  |\n",
      "|    loss           | 1.12      |\n",
      "|    neglogp        | 1.12      |\n",
      "|    prob_true_act  | 0.713     |\n",
      "|    samples_so_far | 8376320   |\n",
      "---------------------------------\n"
     ]
    },
    {
     "name": "stderr",
     "output_type": "stream",
     "text": [
      "4100batch [24:50,  2.96batch/s]"
     ]
    },
    {
     "name": "stdout",
     "output_type": "stream",
     "text": [
      "---------------------------------\n",
      "| batch_size        | 2048      |\n",
      "| bc/               |           |\n",
      "|    batch          | 4099      |\n",
      "|    ent_loss       | -3.99e-05 |\n",
      "|    entropy        | 0.0399    |\n",
      "|    epoch          | 410       |\n",
      "|    l2_loss        | 0         |\n",
      "|    l2_norm        | 4.88e+03  |\n",
      "|    loss           | 1.2       |\n",
      "|    neglogp        | 1.2       |\n",
      "|    prob_true_act  | 0.708     |\n",
      "|    samples_so_far | 8396800   |\n",
      "---------------------------------\n"
     ]
    },
    {
     "name": "stderr",
     "output_type": "stream",
     "text": [
      "4110batch [24:54,  2.94batch/s]"
     ]
    },
    {
     "name": "stdout",
     "output_type": "stream",
     "text": [
      "---------------------------------\n",
      "| batch_size        | 2048      |\n",
      "| bc/               |           |\n",
      "|    batch          | 4109      |\n",
      "|    ent_loss       | -4.25e-05 |\n",
      "|    entropy        | 0.0425    |\n",
      "|    epoch          | 411       |\n",
      "|    l2_loss        | 0         |\n",
      "|    l2_norm        | 4.88e+03  |\n",
      "|    loss           | 1.14      |\n",
      "|    neglogp        | 1.14      |\n",
      "|    prob_true_act  | 0.704     |\n",
      "|    samples_so_far | 8417280   |\n",
      "---------------------------------\n"
     ]
    },
    {
     "name": "stderr",
     "output_type": "stream",
     "text": [
      "4120batch [24:58,  2.98batch/s]"
     ]
    },
    {
     "name": "stdout",
     "output_type": "stream",
     "text": [
      "---------------------------------\n",
      "| batch_size        | 2048      |\n",
      "| bc/               |           |\n",
      "|    batch          | 4119      |\n",
      "|    ent_loss       | -4.51e-05 |\n",
      "|    entropy        | 0.0451    |\n",
      "|    epoch          | 412       |\n",
      "|    l2_loss        | 0         |\n",
      "|    l2_norm        | 4.88e+03  |\n",
      "|    loss           | 1.1       |\n",
      "|    neglogp        | 1.1       |\n",
      "|    prob_true_act  | 0.71      |\n",
      "|    samples_so_far | 8437760   |\n",
      "---------------------------------\n"
     ]
    },
    {
     "name": "stderr",
     "output_type": "stream",
     "text": [
      "4130batch [25:01,  2.97batch/s]"
     ]
    },
    {
     "name": "stdout",
     "output_type": "stream",
     "text": [
      "---------------------------------\n",
      "| batch_size        | 2048      |\n",
      "| bc/               |           |\n",
      "|    batch          | 4129      |\n",
      "|    ent_loss       | -4.76e-05 |\n",
      "|    entropy        | 0.0476    |\n",
      "|    epoch          | 413       |\n",
      "|    l2_loss        | 0         |\n",
      "|    l2_norm        | 4.88e+03  |\n",
      "|    loss           | 1.15      |\n",
      "|    neglogp        | 1.15      |\n",
      "|    prob_true_act  | 0.705     |\n",
      "|    samples_so_far | 8458240   |\n",
      "---------------------------------\n"
     ]
    },
    {
     "name": "stderr",
     "output_type": "stream",
     "text": [
      "4140batch [25:05,  2.96batch/s]"
     ]
    },
    {
     "name": "stdout",
     "output_type": "stream",
     "text": [
      "---------------------------------\n",
      "| batch_size        | 2048      |\n",
      "| bc/               |           |\n",
      "|    batch          | 4139      |\n",
      "|    ent_loss       | -5.02e-05 |\n",
      "|    entropy        | 0.0502    |\n",
      "|    epoch          | 414       |\n",
      "|    l2_loss        | 0         |\n",
      "|    l2_norm        | 4.88e+03  |\n",
      "|    loss           | 1.12      |\n",
      "|    neglogp        | 1.12      |\n",
      "|    prob_true_act  | 0.719     |\n",
      "|    samples_so_far | 8478720   |\n",
      "---------------------------------\n"
     ]
    },
    {
     "name": "stderr",
     "output_type": "stream",
     "text": [
      "4150batch [25:08,  2.95batch/s]"
     ]
    },
    {
     "name": "stdout",
     "output_type": "stream",
     "text": [
      "---------------------------------\n",
      "| batch_size        | 2048      |\n",
      "| bc/               |           |\n",
      "|    batch          | 4149      |\n",
      "|    ent_loss       | -5.27e-05 |\n",
      "|    entropy        | 0.0527    |\n",
      "|    epoch          | 415       |\n",
      "|    l2_loss        | 0         |\n",
      "|    l2_norm        | 4.88e+03  |\n",
      "|    loss           | 1.11      |\n",
      "|    neglogp        | 1.11      |\n",
      "|    prob_true_act  | 0.711     |\n",
      "|    samples_so_far | 8499200   |\n",
      "---------------------------------\n"
     ]
    },
    {
     "name": "stderr",
     "output_type": "stream",
     "text": [
      "4160batch [25:12,  2.96batch/s]"
     ]
    },
    {
     "name": "stdout",
     "output_type": "stream",
     "text": [
      "---------------------------------\n",
      "| batch_size        | 2048      |\n",
      "| bc/               |           |\n",
      "|    batch          | 4159      |\n",
      "|    ent_loss       | -5.52e-05 |\n",
      "|    entropy        | 0.0552    |\n",
      "|    epoch          | 416       |\n",
      "|    l2_loss        | 0         |\n",
      "|    l2_norm        | 4.88e+03  |\n",
      "|    loss           | 1.11      |\n",
      "|    neglogp        | 1.11      |\n",
      "|    prob_true_act  | 0.717     |\n",
      "|    samples_so_far | 8519680   |\n",
      "---------------------------------\n"
     ]
    },
    {
     "name": "stderr",
     "output_type": "stream",
     "text": [
      "4170batch [25:15,  2.91batch/s]"
     ]
    },
    {
     "name": "stdout",
     "output_type": "stream",
     "text": [
      "---------------------------------\n",
      "| batch_size        | 2048      |\n",
      "| bc/               |           |\n",
      "|    batch          | 4169      |\n",
      "|    ent_loss       | -5.78e-05 |\n",
      "|    entropy        | 0.0578    |\n",
      "|    epoch          | 417       |\n",
      "|    l2_loss        | 0         |\n",
      "|    l2_norm        | 4.88e+03  |\n",
      "|    loss           | 1.02      |\n",
      "|    neglogp        | 1.02      |\n",
      "|    prob_true_act  | 0.715     |\n",
      "|    samples_so_far | 8540160   |\n",
      "---------------------------------\n"
     ]
    },
    {
     "name": "stderr",
     "output_type": "stream",
     "text": [
      "4180batch [25:19,  2.99batch/s]"
     ]
    },
    {
     "name": "stdout",
     "output_type": "stream",
     "text": [
      "---------------------------------\n",
      "| batch_size        | 2048      |\n",
      "| bc/               |           |\n",
      "|    batch          | 4179      |\n",
      "|    ent_loss       | -6.03e-05 |\n",
      "|    entropy        | 0.0603    |\n",
      "|    epoch          | 418       |\n",
      "|    l2_loss        | 0         |\n",
      "|    l2_norm        | 4.88e+03  |\n",
      "|    loss           | 1.11      |\n",
      "|    neglogp        | 1.11      |\n",
      "|    prob_true_act  | 0.718     |\n",
      "|    samples_so_far | 8560640   |\n",
      "---------------------------------\n"
     ]
    },
    {
     "name": "stderr",
     "output_type": "stream",
     "text": [
      "4190batch [25:23,  2.64batch/s]"
     ]
    },
    {
     "name": "stdout",
     "output_type": "stream",
     "text": [
      "---------------------------------\n",
      "| batch_size        | 2048      |\n",
      "| bc/               |           |\n",
      "|    batch          | 4189      |\n",
      "|    ent_loss       | -6.28e-05 |\n",
      "|    entropy        | 0.0628    |\n",
      "|    epoch          | 419       |\n",
      "|    l2_loss        | 0         |\n",
      "|    l2_norm        | 4.88e+03  |\n",
      "|    loss           | 1.09      |\n",
      "|    neglogp        | 1.09      |\n",
      "|    prob_true_act  | 0.714     |\n",
      "|    samples_so_far | 8581120   |\n",
      "---------------------------------\n"
     ]
    },
    {
     "name": "stderr",
     "output_type": "stream",
     "text": [
      "4200batch [25:26,  2.97batch/s]"
     ]
    },
    {
     "name": "stdout",
     "output_type": "stream",
     "text": [
      "---------------------------------\n",
      "| batch_size        | 2048      |\n",
      "| bc/               |           |\n",
      "|    batch          | 4199      |\n",
      "|    ent_loss       | -6.53e-05 |\n",
      "|    entropy        | 0.0653    |\n",
      "|    epoch          | 420       |\n",
      "|    l2_loss        | 0         |\n",
      "|    l2_norm        | 4.88e+03  |\n",
      "|    loss           | 1.09      |\n",
      "|    neglogp        | 1.09      |\n",
      "|    prob_true_act  | 0.721     |\n",
      "|    samples_so_far | 8601600   |\n",
      "---------------------------------\n"
     ]
    },
    {
     "name": "stderr",
     "output_type": "stream",
     "text": [
      "4210batch [25:30,  2.97batch/s]"
     ]
    },
    {
     "name": "stdout",
     "output_type": "stream",
     "text": [
      "---------------------------------\n",
      "| batch_size        | 2048      |\n",
      "| bc/               |           |\n",
      "|    batch          | 4209      |\n",
      "|    ent_loss       | -6.78e-05 |\n",
      "|    entropy        | 0.0678    |\n",
      "|    epoch          | 421       |\n",
      "|    l2_loss        | 0         |\n",
      "|    l2_norm        | 4.88e+03  |\n",
      "|    loss           | 1.09      |\n",
      "|    neglogp        | 1.09      |\n",
      "|    prob_true_act  | 0.73      |\n",
      "|    samples_so_far | 8622080   |\n",
      "---------------------------------\n"
     ]
    },
    {
     "name": "stderr",
     "output_type": "stream",
     "text": [
      "4220batch [25:33,  2.95batch/s]"
     ]
    },
    {
     "name": "stdout",
     "output_type": "stream",
     "text": [
      "---------------------------------\n",
      "| batch_size        | 2048      |\n",
      "| bc/               |           |\n",
      "|    batch          | 4219      |\n",
      "|    ent_loss       | -7.03e-05 |\n",
      "|    entropy        | 0.0703    |\n",
      "|    epoch          | 422       |\n",
      "|    l2_loss        | 0         |\n",
      "|    l2_norm        | 4.88e+03  |\n",
      "|    loss           | 1.09      |\n",
      "|    neglogp        | 1.09      |\n",
      "|    prob_true_act  | 0.722     |\n",
      "|    samples_so_far | 8642560   |\n",
      "---------------------------------\n"
     ]
    },
    {
     "name": "stderr",
     "output_type": "stream",
     "text": [
      "4230batch [25:37,  2.76batch/s]"
     ]
    },
    {
     "name": "stdout",
     "output_type": "stream",
     "text": [
      "---------------------------------\n",
      "| batch_size        | 2048      |\n",
      "| bc/               |           |\n",
      "|    batch          | 4229      |\n",
      "|    ent_loss       | -7.28e-05 |\n",
      "|    entropy        | 0.0728    |\n",
      "|    epoch          | 423       |\n",
      "|    l2_loss        | 0         |\n",
      "|    l2_norm        | 4.88e+03  |\n",
      "|    loss           | 1.12      |\n",
      "|    neglogp        | 1.12      |\n",
      "|    prob_true_act  | 0.725     |\n",
      "|    samples_so_far | 8663040   |\n",
      "---------------------------------\n"
     ]
    },
    {
     "name": "stderr",
     "output_type": "stream",
     "text": [
      "4240batch [25:41,  2.84batch/s]"
     ]
    },
    {
     "name": "stdout",
     "output_type": "stream",
     "text": [
      "---------------------------------\n",
      "| batch_size        | 2048      |\n",
      "| bc/               |           |\n",
      "|    batch          | 4239      |\n",
      "|    ent_loss       | -7.53e-05 |\n",
      "|    entropy        | 0.0753    |\n",
      "|    epoch          | 424       |\n",
      "|    l2_loss        | 0         |\n",
      "|    l2_norm        | 4.88e+03  |\n",
      "|    loss           | 1.13      |\n",
      "|    neglogp        | 1.13      |\n",
      "|    prob_true_act  | 0.717     |\n",
      "|    samples_so_far | 8683520   |\n",
      "---------------------------------\n"
     ]
    },
    {
     "name": "stderr",
     "output_type": "stream",
     "text": [
      "4250batch [25:44,  2.95batch/s]"
     ]
    },
    {
     "name": "stdout",
     "output_type": "stream",
     "text": [
      "---------------------------------\n",
      "| batch_size        | 2048      |\n",
      "| bc/               |           |\n",
      "|    batch          | 4249      |\n",
      "|    ent_loss       | -7.78e-05 |\n",
      "|    entropy        | 0.0778    |\n",
      "|    epoch          | 425       |\n",
      "|    l2_loss        | 0         |\n",
      "|    l2_norm        | 4.88e+03  |\n",
      "|    loss           | 1.14      |\n",
      "|    neglogp        | 1.14      |\n",
      "|    prob_true_act  | 0.714     |\n",
      "|    samples_so_far | 8704000   |\n",
      "---------------------------------\n"
     ]
    },
    {
     "name": "stderr",
     "output_type": "stream",
     "text": [
      "4260batch [25:48,  2.97batch/s]"
     ]
    },
    {
     "name": "stdout",
     "output_type": "stream",
     "text": [
      "---------------------------------\n",
      "| batch_size        | 2048      |\n",
      "| bc/               |           |\n",
      "|    batch          | 4259      |\n",
      "|    ent_loss       | -8.03e-05 |\n",
      "|    entropy        | 0.0803    |\n",
      "|    epoch          | 426       |\n",
      "|    l2_loss        | 0         |\n",
      "|    l2_norm        | 4.88e+03  |\n",
      "|    loss           | 1.02      |\n",
      "|    neglogp        | 1.02      |\n",
      "|    prob_true_act  | 0.734     |\n",
      "|    samples_so_far | 8724480   |\n",
      "---------------------------------\n"
     ]
    },
    {
     "name": "stderr",
     "output_type": "stream",
     "text": [
      "4270batch [25:51,  2.95batch/s]"
     ]
    },
    {
     "name": "stdout",
     "output_type": "stream",
     "text": [
      "---------------------------------\n",
      "| batch_size        | 2048      |\n",
      "| bc/               |           |\n",
      "|    batch          | 4269      |\n",
      "|    ent_loss       | -8.27e-05 |\n",
      "|    entropy        | 0.0827    |\n",
      "|    epoch          | 427       |\n",
      "|    l2_loss        | 0         |\n",
      "|    l2_norm        | 4.88e+03  |\n",
      "|    loss           | 1         |\n",
      "|    neglogp        | 1         |\n",
      "|    prob_true_act  | 0.738     |\n",
      "|    samples_so_far | 8744960   |\n",
      "---------------------------------\n"
     ]
    },
    {
     "name": "stderr",
     "output_type": "stream",
     "text": [
      "4280batch [25:55,  2.88batch/s]"
     ]
    },
    {
     "name": "stdout",
     "output_type": "stream",
     "text": [
      "---------------------------------\n",
      "| batch_size        | 2048      |\n",
      "| bc/               |           |\n",
      "|    batch          | 4279      |\n",
      "|    ent_loss       | -8.52e-05 |\n",
      "|    entropy        | 0.0852    |\n",
      "|    epoch          | 428       |\n",
      "|    l2_loss        | 0         |\n",
      "|    l2_norm        | 4.88e+03  |\n",
      "|    loss           | 1.07      |\n",
      "|    neglogp        | 1.07      |\n",
      "|    prob_true_act  | 0.726     |\n",
      "|    samples_so_far | 8765440   |\n",
      "---------------------------------\n"
     ]
    },
    {
     "name": "stderr",
     "output_type": "stream",
     "text": [
      "4290batch [25:59,  2.98batch/s]"
     ]
    },
    {
     "name": "stdout",
     "output_type": "stream",
     "text": [
      "---------------------------------\n",
      "| batch_size        | 2048      |\n",
      "| bc/               |           |\n",
      "|    batch          | 4289      |\n",
      "|    ent_loss       | -8.76e-05 |\n",
      "|    entropy        | 0.0876    |\n",
      "|    epoch          | 429       |\n",
      "|    l2_loss        | 0         |\n",
      "|    l2_norm        | 4.88e+03  |\n",
      "|    loss           | 1.02      |\n",
      "|    neglogp        | 1.02      |\n",
      "|    prob_true_act  | 0.734     |\n",
      "|    samples_so_far | 8785920   |\n",
      "---------------------------------\n"
     ]
    },
    {
     "name": "stderr",
     "output_type": "stream",
     "text": [
      "4300batch [26:02,  2.92batch/s]"
     ]
    },
    {
     "name": "stdout",
     "output_type": "stream",
     "text": [
      "---------------------------------\n",
      "| batch_size        | 2048      |\n",
      "| bc/               |           |\n",
      "|    batch          | 4299      |\n",
      "|    ent_loss       | -9.01e-05 |\n",
      "|    entropy        | 0.0901    |\n",
      "|    epoch          | 430       |\n",
      "|    l2_loss        | 0         |\n",
      "|    l2_norm        | 4.88e+03  |\n",
      "|    loss           | 1.01      |\n",
      "|    neglogp        | 1.01      |\n",
      "|    prob_true_act  | 0.736     |\n",
      "|    samples_so_far | 8806400   |\n",
      "---------------------------------\n"
     ]
    },
    {
     "name": "stderr",
     "output_type": "stream",
     "text": [
      "4310batch [26:06,  2.95batch/s]"
     ]
    },
    {
     "name": "stdout",
     "output_type": "stream",
     "text": [
      "---------------------------------\n",
      "| batch_size        | 2048      |\n",
      "| bc/               |           |\n",
      "|    batch          | 4309      |\n",
      "|    ent_loss       | -9.25e-05 |\n",
      "|    entropy        | 0.0925    |\n",
      "|    epoch          | 431       |\n",
      "|    l2_loss        | 0         |\n",
      "|    l2_norm        | 4.88e+03  |\n",
      "|    loss           | 1.04      |\n",
      "|    neglogp        | 1.04      |\n",
      "|    prob_true_act  | 0.736     |\n",
      "|    samples_so_far | 8826880   |\n",
      "---------------------------------\n"
     ]
    },
    {
     "name": "stderr",
     "output_type": "stream",
     "text": [
      "4320batch [26:09,  2.96batch/s]"
     ]
    },
    {
     "name": "stdout",
     "output_type": "stream",
     "text": [
      "--------------------------------\n",
      "| batch_size        | 2048     |\n",
      "| bc/               |          |\n",
      "|    batch          | 4319     |\n",
      "|    ent_loss       | -9.5e-05 |\n",
      "|    entropy        | 0.095    |\n",
      "|    epoch          | 432      |\n",
      "|    l2_loss        | 0        |\n",
      "|    l2_norm        | 4.88e+03 |\n",
      "|    loss           | 1.08     |\n",
      "|    neglogp        | 1.08     |\n",
      "|    prob_true_act  | 0.727    |\n",
      "|    samples_so_far | 8847360  |\n",
      "--------------------------------\n"
     ]
    },
    {
     "name": "stderr",
     "output_type": "stream",
     "text": [
      "4330batch [26:13,  2.78batch/s]"
     ]
    },
    {
     "name": "stdout",
     "output_type": "stream",
     "text": [
      "---------------------------------\n",
      "| batch_size        | 2048      |\n",
      "| bc/               |           |\n",
      "|    batch          | 4329      |\n",
      "|    ent_loss       | -9.74e-05 |\n",
      "|    entropy        | 0.0974    |\n",
      "|    epoch          | 433       |\n",
      "|    l2_loss        | 0         |\n",
      "|    l2_norm        | 4.88e+03  |\n",
      "|    loss           | 1.11      |\n",
      "|    neglogp        | 1.11      |\n",
      "|    prob_true_act  | 0.727     |\n",
      "|    samples_so_far | 8867840   |\n",
      "---------------------------------\n"
     ]
    },
    {
     "name": "stderr",
     "output_type": "stream",
     "text": [
      "4340batch [26:17,  2.94batch/s]"
     ]
    },
    {
     "name": "stdout",
     "output_type": "stream",
     "text": [
      "---------------------------------\n",
      "| batch_size        | 2048      |\n",
      "| bc/               |           |\n",
      "|    batch          | 4339      |\n",
      "|    ent_loss       | -9.98e-05 |\n",
      "|    entropy        | 0.0998    |\n",
      "|    epoch          | 434       |\n",
      "|    l2_loss        | 0         |\n",
      "|    l2_norm        | 4.88e+03  |\n",
      "|    loss           | 1.06      |\n",
      "|    neglogp        | 1.06      |\n",
      "|    prob_true_act  | 0.738     |\n",
      "|    samples_so_far | 8888320   |\n",
      "---------------------------------\n"
     ]
    },
    {
     "name": "stderr",
     "output_type": "stream",
     "text": [
      "4350batch [26:20,  2.76batch/s]"
     ]
    },
    {
     "name": "stdout",
     "output_type": "stream",
     "text": [
      "---------------------------------\n",
      "| batch_size        | 2048      |\n",
      "| bc/               |           |\n",
      "|    batch          | 4349      |\n",
      "|    ent_loss       | -0.000102 |\n",
      "|    entropy        | 0.102     |\n",
      "|    epoch          | 435       |\n",
      "|    l2_loss        | 0         |\n",
      "|    l2_norm        | 4.88e+03  |\n",
      "|    loss           | 1.12      |\n",
      "|    neglogp        | 1.12      |\n",
      "|    prob_true_act  | 0.727     |\n",
      "|    samples_so_far | 8908800   |\n",
      "---------------------------------\n"
     ]
    },
    {
     "name": "stderr",
     "output_type": "stream",
     "text": [
      "4360batch [26:24,  2.95batch/s]"
     ]
    },
    {
     "name": "stdout",
     "output_type": "stream",
     "text": [
      "---------------------------------\n",
      "| batch_size        | 2048      |\n",
      "| bc/               |           |\n",
      "|    batch          | 4359      |\n",
      "|    ent_loss       | -0.000105 |\n",
      "|    entropy        | 0.105     |\n",
      "|    epoch          | 436       |\n",
      "|    l2_loss        | 0         |\n",
      "|    l2_norm        | 4.88e+03  |\n",
      "|    loss           | 1.03      |\n",
      "|    neglogp        | 1.03      |\n",
      "|    prob_true_act  | 0.744     |\n",
      "|    samples_so_far | 8929280   |\n",
      "---------------------------------\n"
     ]
    },
    {
     "name": "stderr",
     "output_type": "stream",
     "text": [
      "4370batch [26:27,  2.99batch/s]"
     ]
    },
    {
     "name": "stdout",
     "output_type": "stream",
     "text": [
      "---------------------------------\n",
      "| batch_size        | 2048      |\n",
      "| bc/               |           |\n",
      "|    batch          | 4369      |\n",
      "|    ent_loss       | -0.000107 |\n",
      "|    entropy        | 0.107     |\n",
      "|    epoch          | 437       |\n",
      "|    l2_loss        | 0         |\n",
      "|    l2_norm        | 4.88e+03  |\n",
      "|    loss           | 1.02      |\n",
      "|    neglogp        | 1.02      |\n",
      "|    prob_true_act  | 0.736     |\n",
      "|    samples_so_far | 8949760   |\n",
      "---------------------------------\n"
     ]
    },
    {
     "name": "stderr",
     "output_type": "stream",
     "text": [
      "4380batch [26:31,  2.94batch/s]"
     ]
    },
    {
     "name": "stdout",
     "output_type": "stream",
     "text": [
      "---------------------------------\n",
      "| batch_size        | 2048      |\n",
      "| bc/               |           |\n",
      "|    batch          | 4379      |\n",
      "|    ent_loss       | -0.000109 |\n",
      "|    entropy        | 0.109     |\n",
      "|    epoch          | 438       |\n",
      "|    l2_loss        | 0         |\n",
      "|    l2_norm        | 4.88e+03  |\n",
      "|    loss           | 1.02      |\n",
      "|    neglogp        | 1.02      |\n",
      "|    prob_true_act  | 0.737     |\n",
      "|    samples_so_far | 8970240   |\n",
      "---------------------------------\n"
     ]
    },
    {
     "name": "stderr",
     "output_type": "stream",
     "text": [
      "4390batch [26:35,  2.96batch/s]"
     ]
    },
    {
     "name": "stdout",
     "output_type": "stream",
     "text": [
      "---------------------------------\n",
      "| batch_size        | 2048      |\n",
      "| bc/               |           |\n",
      "|    batch          | 4389      |\n",
      "|    ent_loss       | -0.000112 |\n",
      "|    entropy        | 0.112     |\n",
      "|    epoch          | 439       |\n",
      "|    l2_loss        | 0         |\n",
      "|    l2_norm        | 4.88e+03  |\n",
      "|    loss           | 0.969     |\n",
      "|    neglogp        | 0.969     |\n",
      "|    prob_true_act  | 0.749     |\n",
      "|    samples_so_far | 8990720   |\n",
      "---------------------------------\n"
     ]
    },
    {
     "name": "stderr",
     "output_type": "stream",
     "text": [
      "4400batch [26:38,  2.95batch/s]"
     ]
    },
    {
     "name": "stdout",
     "output_type": "stream",
     "text": [
      "---------------------------------\n",
      "| batch_size        | 2048      |\n",
      "| bc/               |           |\n",
      "|    batch          | 4399      |\n",
      "|    ent_loss       | -0.000114 |\n",
      "|    entropy        | 0.114     |\n",
      "|    epoch          | 440       |\n",
      "|    l2_loss        | 0         |\n",
      "|    l2_norm        | 4.88e+03  |\n",
      "|    loss           | 0.987     |\n",
      "|    neglogp        | 0.987     |\n",
      "|    prob_true_act  | 0.745     |\n",
      "|    samples_so_far | 9011200   |\n",
      "---------------------------------\n"
     ]
    },
    {
     "name": "stderr",
     "output_type": "stream",
     "text": [
      "4410batch [26:42,  2.92batch/s]"
     ]
    },
    {
     "name": "stdout",
     "output_type": "stream",
     "text": [
      "---------------------------------\n",
      "| batch_size        | 2048      |\n",
      "| bc/               |           |\n",
      "|    batch          | 4409      |\n",
      "|    ent_loss       | -0.000117 |\n",
      "|    entropy        | 0.117     |\n",
      "|    epoch          | 441       |\n",
      "|    l2_loss        | 0         |\n",
      "|    l2_norm        | 4.88e+03  |\n",
      "|    loss           | 1.07      |\n",
      "|    neglogp        | 1.07      |\n",
      "|    prob_true_act  | 0.731     |\n",
      "|    samples_so_far | 9031680   |\n",
      "---------------------------------\n"
     ]
    },
    {
     "name": "stderr",
     "output_type": "stream",
     "text": [
      "4420batch [26:45,  2.97batch/s]"
     ]
    },
    {
     "name": "stdout",
     "output_type": "stream",
     "text": [
      "---------------------------------\n",
      "| batch_size        | 2048      |\n",
      "| bc/               |           |\n",
      "|    batch          | 4419      |\n",
      "|    ent_loss       | -0.000119 |\n",
      "|    entropy        | 0.119     |\n",
      "|    epoch          | 442       |\n",
      "|    l2_loss        | 0         |\n",
      "|    l2_norm        | 4.88e+03  |\n",
      "|    loss           | 1.08      |\n",
      "|    neglogp        | 1.08      |\n",
      "|    prob_true_act  | 0.731     |\n",
      "|    samples_so_far | 9052160   |\n",
      "---------------------------------\n"
     ]
    },
    {
     "name": "stderr",
     "output_type": "stream",
     "text": [
      "4430batch [26:49,  2.89batch/s]"
     ]
    },
    {
     "name": "stdout",
     "output_type": "stream",
     "text": [
      "---------------------------------\n",
      "| batch_size        | 2048      |\n",
      "| bc/               |           |\n",
      "|    batch          | 4429      |\n",
      "|    ent_loss       | -0.000121 |\n",
      "|    entropy        | 0.121     |\n",
      "|    epoch          | 443       |\n",
      "|    l2_loss        | 0         |\n",
      "|    l2_norm        | 4.88e+03  |\n",
      "|    loss           | 1.09      |\n",
      "|    neglogp        | 1.09      |\n",
      "|    prob_true_act  | 0.733     |\n",
      "|    samples_so_far | 9072640   |\n",
      "---------------------------------\n"
     ]
    },
    {
     "name": "stderr",
     "output_type": "stream",
     "text": [
      "4440batch [26:52,  2.99batch/s]"
     ]
    },
    {
     "name": "stdout",
     "output_type": "stream",
     "text": [
      "---------------------------------\n",
      "| batch_size        | 2048      |\n",
      "| bc/               |           |\n",
      "|    batch          | 4439      |\n",
      "|    ent_loss       | -0.000124 |\n",
      "|    entropy        | 0.124     |\n",
      "|    epoch          | 444       |\n",
      "|    l2_loss        | 0         |\n",
      "|    l2_norm        | 4.88e+03  |\n",
      "|    loss           | 1.03      |\n",
      "|    neglogp        | 1.03      |\n",
      "|    prob_true_act  | 0.739     |\n",
      "|    samples_so_far | 9093120   |\n",
      "---------------------------------\n"
     ]
    },
    {
     "name": "stderr",
     "output_type": "stream",
     "text": [
      "4450batch [26:56,  2.94batch/s]"
     ]
    },
    {
     "name": "stdout",
     "output_type": "stream",
     "text": [
      "---------------------------------\n",
      "| batch_size        | 2048      |\n",
      "| bc/               |           |\n",
      "|    batch          | 4449      |\n",
      "|    ent_loss       | -0.000126 |\n",
      "|    entropy        | 0.126     |\n",
      "|    epoch          | 445       |\n",
      "|    l2_loss        | 0         |\n",
      "|    l2_norm        | 4.88e+03  |\n",
      "|    loss           | 1.06      |\n",
      "|    neglogp        | 1.06      |\n",
      "|    prob_true_act  | 0.735     |\n",
      "|    samples_so_far | 9113600   |\n",
      "---------------------------------\n"
     ]
    },
    {
     "name": "stderr",
     "output_type": "stream",
     "text": [
      "4460batch [26:59,  2.96batch/s]"
     ]
    },
    {
     "name": "stdout",
     "output_type": "stream",
     "text": [
      "---------------------------------\n",
      "| batch_size        | 2048      |\n",
      "| bc/               |           |\n",
      "|    batch          | 4459      |\n",
      "|    ent_loss       | -0.000128 |\n",
      "|    entropy        | 0.128     |\n",
      "|    epoch          | 446       |\n",
      "|    l2_loss        | 0         |\n",
      "|    l2_norm        | 4.88e+03  |\n",
      "|    loss           | 1.05      |\n",
      "|    neglogp        | 1.06      |\n",
      "|    prob_true_act  | 0.738     |\n",
      "|    samples_so_far | 9134080   |\n",
      "---------------------------------\n"
     ]
    },
    {
     "name": "stderr",
     "output_type": "stream",
     "text": [
      "4470batch [27:03,  2.94batch/s]"
     ]
    },
    {
     "name": "stdout",
     "output_type": "stream",
     "text": [
      "---------------------------------\n",
      "| batch_size        | 2048      |\n",
      "| bc/               |           |\n",
      "|    batch          | 4469      |\n",
      "|    ent_loss       | -0.000131 |\n",
      "|    entropy        | 0.131     |\n",
      "|    epoch          | 447       |\n",
      "|    l2_loss        | 0         |\n",
      "|    l2_norm        | 4.88e+03  |\n",
      "|    loss           | 1.01      |\n",
      "|    neglogp        | 1.01      |\n",
      "|    prob_true_act  | 0.741     |\n",
      "|    samples_so_far | 9154560   |\n",
      "---------------------------------\n"
     ]
    },
    {
     "name": "stderr",
     "output_type": "stream",
     "text": [
      "4480batch [27:07,  2.55batch/s]"
     ]
    },
    {
     "name": "stdout",
     "output_type": "stream",
     "text": [
      "---------------------------------\n",
      "| batch_size        | 2048      |\n",
      "| bc/               |           |\n",
      "|    batch          | 4479      |\n",
      "|    ent_loss       | -0.000133 |\n",
      "|    entropy        | 0.133     |\n",
      "|    epoch          | 448       |\n",
      "|    l2_loss        | 0         |\n",
      "|    l2_norm        | 4.88e+03  |\n",
      "|    loss           | 1.07      |\n",
      "|    neglogp        | 1.07      |\n",
      "|    prob_true_act  | 0.733     |\n",
      "|    samples_so_far | 9175040   |\n",
      "---------------------------------\n"
     ]
    },
    {
     "name": "stderr",
     "output_type": "stream",
     "text": [
      "4490batch [27:10,  2.94batch/s]"
     ]
    },
    {
     "name": "stdout",
     "output_type": "stream",
     "text": [
      "---------------------------------\n",
      "| batch_size        | 2048      |\n",
      "| bc/               |           |\n",
      "|    batch          | 4489      |\n",
      "|    ent_loss       | -0.000135 |\n",
      "|    entropy        | 0.135     |\n",
      "|    epoch          | 449       |\n",
      "|    l2_loss        | 0         |\n",
      "|    l2_norm        | 4.88e+03  |\n",
      "|    loss           | 0.988     |\n",
      "|    neglogp        | 0.988     |\n",
      "|    prob_true_act  | 0.75      |\n",
      "|    samples_so_far | 9195520   |\n",
      "---------------------------------\n"
     ]
    },
    {
     "name": "stderr",
     "output_type": "stream",
     "text": [
      "4500batch [27:14,  2.97batch/s]"
     ]
    },
    {
     "name": "stdout",
     "output_type": "stream",
     "text": [
      "---------------------------------\n",
      "| batch_size        | 2048      |\n",
      "| bc/               |           |\n",
      "|    batch          | 4499      |\n",
      "|    ent_loss       | -0.000138 |\n",
      "|    entropy        | 0.138     |\n",
      "|    epoch          | 450       |\n",
      "|    l2_loss        | 0         |\n",
      "|    l2_norm        | 4.88e+03  |\n",
      "|    loss           | 0.981     |\n",
      "|    neglogp        | 0.981     |\n",
      "|    prob_true_act  | 0.748     |\n",
      "|    samples_so_far | 9216000   |\n",
      "---------------------------------\n"
     ]
    },
    {
     "name": "stderr",
     "output_type": "stream",
     "text": [
      "4510batch [27:17,  2.98batch/s]"
     ]
    },
    {
     "name": "stdout",
     "output_type": "stream",
     "text": [
      "--------------------------------\n",
      "| batch_size        | 2048     |\n",
      "| bc/               |          |\n",
      "|    batch          | 4509     |\n",
      "|    ent_loss       | -0.00014 |\n",
      "|    entropy        | 0.14     |\n",
      "|    epoch          | 451      |\n",
      "|    l2_loss        | 0        |\n",
      "|    l2_norm        | 4.88e+03 |\n",
      "|    loss           | 0.923    |\n",
      "|    neglogp        | 0.923    |\n",
      "|    prob_true_act  | 0.758    |\n",
      "|    samples_so_far | 9236480  |\n",
      "--------------------------------\n"
     ]
    },
    {
     "name": "stderr",
     "output_type": "stream",
     "text": [
      "4520batch [27:21,  2.99batch/s]"
     ]
    },
    {
     "name": "stdout",
     "output_type": "stream",
     "text": [
      "---------------------------------\n",
      "| batch_size        | 2048      |\n",
      "| bc/               |           |\n",
      "|    batch          | 4519      |\n",
      "|    ent_loss       | -0.000142 |\n",
      "|    entropy        | 0.142     |\n",
      "|    epoch          | 452       |\n",
      "|    l2_loss        | 0         |\n",
      "|    l2_norm        | 4.88e+03  |\n",
      "|    loss           | 0.948     |\n",
      "|    neglogp        | 0.948     |\n",
      "|    prob_true_act  | 0.753     |\n",
      "|    samples_so_far | 9256960   |\n",
      "---------------------------------\n"
     ]
    },
    {
     "name": "stderr",
     "output_type": "stream",
     "text": [
      "4530batch [27:24,  2.98batch/s]"
     ]
    },
    {
     "name": "stdout",
     "output_type": "stream",
     "text": [
      "---------------------------------\n",
      "| batch_size        | 2048      |\n",
      "| bc/               |           |\n",
      "|    batch          | 4529      |\n",
      "|    ent_loss       | -0.000145 |\n",
      "|    entropy        | 0.145     |\n",
      "|    epoch          | 453       |\n",
      "|    l2_loss        | 0         |\n",
      "|    l2_norm        | 4.88e+03  |\n",
      "|    loss           | 0.939     |\n",
      "|    neglogp        | 0.939     |\n",
      "|    prob_true_act  | 0.753     |\n",
      "|    samples_so_far | 9277440   |\n",
      "---------------------------------\n"
     ]
    },
    {
     "name": "stderr",
     "output_type": "stream",
     "text": [
      "4540batch [27:28,  2.97batch/s]"
     ]
    },
    {
     "name": "stdout",
     "output_type": "stream",
     "text": [
      "---------------------------------\n",
      "| batch_size        | 2048      |\n",
      "| bc/               |           |\n",
      "|    batch          | 4539      |\n",
      "|    ent_loss       | -0.000147 |\n",
      "|    entropy        | 0.147     |\n",
      "|    epoch          | 454       |\n",
      "|    l2_loss        | 0         |\n",
      "|    l2_norm        | 4.88e+03  |\n",
      "|    loss           | 0.921     |\n",
      "|    neglogp        | 0.921     |\n",
      "|    prob_true_act  | 0.755     |\n",
      "|    samples_so_far | 9297920   |\n",
      "---------------------------------\n"
     ]
    },
    {
     "name": "stderr",
     "output_type": "stream",
     "text": [
      "4550batch [27:32,  2.97batch/s]"
     ]
    },
    {
     "name": "stdout",
     "output_type": "stream",
     "text": [
      "---------------------------------\n",
      "| batch_size        | 2048      |\n",
      "| bc/               |           |\n",
      "|    batch          | 4549      |\n",
      "|    ent_loss       | -0.000149 |\n",
      "|    entropy        | 0.149     |\n",
      "|    epoch          | 455       |\n",
      "|    l2_loss        | 0         |\n",
      "|    l2_norm        | 4.88e+03  |\n",
      "|    loss           | 0.976     |\n",
      "|    neglogp        | 0.976     |\n",
      "|    prob_true_act  | 0.753     |\n",
      "|    samples_so_far | 9318400   |\n",
      "---------------------------------\n"
     ]
    },
    {
     "name": "stderr",
     "output_type": "stream",
     "text": [
      "4560batch [27:35,  2.94batch/s]"
     ]
    },
    {
     "name": "stdout",
     "output_type": "stream",
     "text": [
      "---------------------------------\n",
      "| batch_size        | 2048      |\n",
      "| bc/               |           |\n",
      "|    batch          | 4559      |\n",
      "|    ent_loss       | -0.000152 |\n",
      "|    entropy        | 0.152     |\n",
      "|    epoch          | 456       |\n",
      "|    l2_loss        | 0         |\n",
      "|    l2_norm        | 4.88e+03  |\n",
      "|    loss           | 0.89      |\n",
      "|    neglogp        | 0.89      |\n",
      "|    prob_true_act  | 0.764     |\n",
      "|    samples_so_far | 9338880   |\n",
      "---------------------------------\n"
     ]
    },
    {
     "name": "stderr",
     "output_type": "stream",
     "text": [
      "4570batch [27:39,  2.97batch/s]"
     ]
    },
    {
     "name": "stdout",
     "output_type": "stream",
     "text": [
      "---------------------------------\n",
      "| batch_size        | 2048      |\n",
      "| bc/               |           |\n",
      "|    batch          | 4569      |\n",
      "|    ent_loss       | -0.000154 |\n",
      "|    entropy        | 0.154     |\n",
      "|    epoch          | 457       |\n",
      "|    l2_loss        | 0         |\n",
      "|    l2_norm        | 4.88e+03  |\n",
      "|    loss           | 0.9       |\n",
      "|    neglogp        | 0.9       |\n",
      "|    prob_true_act  | 0.769     |\n",
      "|    samples_so_far | 9359360   |\n",
      "---------------------------------\n"
     ]
    },
    {
     "name": "stderr",
     "output_type": "stream",
     "text": [
      "4580batch [27:42,  3.00batch/s]"
     ]
    },
    {
     "name": "stdout",
     "output_type": "stream",
     "text": [
      "---------------------------------\n",
      "| batch_size        | 2048      |\n",
      "| bc/               |           |\n",
      "|    batch          | 4579      |\n",
      "|    ent_loss       | -0.000156 |\n",
      "|    entropy        | 0.156     |\n",
      "|    epoch          | 458       |\n",
      "|    l2_loss        | 0         |\n",
      "|    l2_norm        | 4.88e+03  |\n",
      "|    loss           | 0.926     |\n",
      "|    neglogp        | 0.926     |\n",
      "|    prob_true_act  | 0.752     |\n",
      "|    samples_so_far | 9379840   |\n",
      "---------------------------------\n"
     ]
    },
    {
     "name": "stderr",
     "output_type": "stream",
     "text": [
      "4590batch [27:46,  2.87batch/s]"
     ]
    },
    {
     "name": "stdout",
     "output_type": "stream",
     "text": [
      "---------------------------------\n",
      "| batch_size        | 2048      |\n",
      "| bc/               |           |\n",
      "|    batch          | 4589      |\n",
      "|    ent_loss       | -0.000159 |\n",
      "|    entropy        | 0.159     |\n",
      "|    epoch          | 459       |\n",
      "|    l2_loss        | 0         |\n",
      "|    l2_norm        | 4.88e+03  |\n",
      "|    loss           | 0.941     |\n",
      "|    neglogp        | 0.942     |\n",
      "|    prob_true_act  | 0.751     |\n",
      "|    samples_so_far | 9400320   |\n",
      "---------------------------------\n"
     ]
    },
    {
     "name": "stderr",
     "output_type": "stream",
     "text": [
      "4600batch [27:49,  2.84batch/s]"
     ]
    },
    {
     "name": "stdout",
     "output_type": "stream",
     "text": [
      "---------------------------------\n",
      "| batch_size        | 2048      |\n",
      "| bc/               |           |\n",
      "|    batch          | 4599      |\n",
      "|    ent_loss       | -0.000161 |\n",
      "|    entropy        | 0.161     |\n",
      "|    epoch          | 460       |\n",
      "|    l2_loss        | 0         |\n",
      "|    l2_norm        | 4.88e+03  |\n",
      "|    loss           | 1.02      |\n",
      "|    neglogp        | 1.02      |\n",
      "|    prob_true_act  | 0.747     |\n",
      "|    samples_so_far | 9420800   |\n",
      "---------------------------------\n"
     ]
    },
    {
     "name": "stderr",
     "output_type": "stream",
     "text": [
      "4610batch [27:53,  2.99batch/s]"
     ]
    },
    {
     "name": "stdout",
     "output_type": "stream",
     "text": [
      "---------------------------------\n",
      "| batch_size        | 2048      |\n",
      "| bc/               |           |\n",
      "|    batch          | 4609      |\n",
      "|    ent_loss       | -0.000163 |\n",
      "|    entropy        | 0.163     |\n",
      "|    epoch          | 461       |\n",
      "|    l2_loss        | 0         |\n",
      "|    l2_norm        | 4.88e+03  |\n",
      "|    loss           | 0.965     |\n",
      "|    neglogp        | 0.965     |\n",
      "|    prob_true_act  | 0.753     |\n",
      "|    samples_so_far | 9441280   |\n",
      "---------------------------------\n"
     ]
    },
    {
     "name": "stderr",
     "output_type": "stream",
     "text": [
      "4620batch [27:56,  3.01batch/s]"
     ]
    },
    {
     "name": "stdout",
     "output_type": "stream",
     "text": [
      "---------------------------------\n",
      "| batch_size        | 2048      |\n",
      "| bc/               |           |\n",
      "|    batch          | 4619      |\n",
      "|    ent_loss       | -0.000165 |\n",
      "|    entropy        | 0.165     |\n",
      "|    epoch          | 462       |\n",
      "|    l2_loss        | 0         |\n",
      "|    l2_norm        | 4.88e+03  |\n",
      "|    loss           | 0.968     |\n",
      "|    neglogp        | 0.968     |\n",
      "|    prob_true_act  | 0.75      |\n",
      "|    samples_so_far | 9461760   |\n",
      "---------------------------------\n"
     ]
    },
    {
     "name": "stderr",
     "output_type": "stream",
     "text": [
      "4630batch [28:00,  2.97batch/s]"
     ]
    },
    {
     "name": "stdout",
     "output_type": "stream",
     "text": [
      "---------------------------------\n",
      "| batch_size        | 2048      |\n",
      "| bc/               |           |\n",
      "|    batch          | 4629      |\n",
      "|    ent_loss       | -0.000168 |\n",
      "|    entropy        | 0.168     |\n",
      "|    epoch          | 463       |\n",
      "|    l2_loss        | 0         |\n",
      "|    l2_norm        | 4.88e+03  |\n",
      "|    loss           | 0.915     |\n",
      "|    neglogp        | 0.915     |\n",
      "|    prob_true_act  | 0.761     |\n",
      "|    samples_so_far | 9482240   |\n",
      "---------------------------------\n"
     ]
    },
    {
     "name": "stderr",
     "output_type": "stream",
     "text": [
      "4640batch [28:04,  2.71batch/s]"
     ]
    },
    {
     "name": "stdout",
     "output_type": "stream",
     "text": [
      "--------------------------------\n",
      "| batch_size        | 2048     |\n",
      "| bc/               |          |\n",
      "|    batch          | 4639     |\n",
      "|    ent_loss       | -0.00017 |\n",
      "|    entropy        | 0.17     |\n",
      "|    epoch          | 464      |\n",
      "|    l2_loss        | 0        |\n",
      "|    l2_norm        | 4.88e+03 |\n",
      "|    loss           | 1.03     |\n",
      "|    neglogp        | 1.03     |\n",
      "|    prob_true_act  | 0.734    |\n",
      "|    samples_so_far | 9502720  |\n",
      "--------------------------------\n"
     ]
    },
    {
     "name": "stderr",
     "output_type": "stream",
     "text": [
      "4650batch [28:07,  2.99batch/s]"
     ]
    },
    {
     "name": "stdout",
     "output_type": "stream",
     "text": [
      "---------------------------------\n",
      "| batch_size        | 2048      |\n",
      "| bc/               |           |\n",
      "|    batch          | 4649      |\n",
      "|    ent_loss       | -0.000172 |\n",
      "|    entropy        | 0.172     |\n",
      "|    epoch          | 465       |\n",
      "|    l2_loss        | 0         |\n",
      "|    l2_norm        | 4.88e+03  |\n",
      "|    loss           | 0.866     |\n",
      "|    neglogp        | 0.866     |\n",
      "|    prob_true_act  | 0.763     |\n",
      "|    samples_so_far | 9523200   |\n",
      "---------------------------------\n"
     ]
    },
    {
     "name": "stderr",
     "output_type": "stream",
     "text": [
      "4660batch [28:11,  2.99batch/s]"
     ]
    },
    {
     "name": "stdout",
     "output_type": "stream",
     "text": [
      "---------------------------------\n",
      "| batch_size        | 2048      |\n",
      "| bc/               |           |\n",
      "|    batch          | 4659      |\n",
      "|    ent_loss       | -0.000174 |\n",
      "|    entropy        | 0.174     |\n",
      "|    epoch          | 466       |\n",
      "|    l2_loss        | 0         |\n",
      "|    l2_norm        | 4.88e+03  |\n",
      "|    loss           | 0.921     |\n",
      "|    neglogp        | 0.921     |\n",
      "|    prob_true_act  | 0.758     |\n",
      "|    samples_so_far | 9543680   |\n",
      "---------------------------------\n"
     ]
    },
    {
     "name": "stderr",
     "output_type": "stream",
     "text": [
      "4670batch [28:15,  2.89batch/s]"
     ]
    },
    {
     "name": "stdout",
     "output_type": "stream",
     "text": [
      "---------------------------------\n",
      "| batch_size        | 2048      |\n",
      "| bc/               |           |\n",
      "|    batch          | 4669      |\n",
      "|    ent_loss       | -0.000177 |\n",
      "|    entropy        | 0.177     |\n",
      "|    epoch          | 467       |\n",
      "|    l2_loss        | 0         |\n",
      "|    l2_norm        | 4.88e+03  |\n",
      "|    loss           | 0.876     |\n",
      "|    neglogp        | 0.876     |\n",
      "|    prob_true_act  | 0.769     |\n",
      "|    samples_so_far | 9564160   |\n",
      "---------------------------------\n"
     ]
    },
    {
     "name": "stderr",
     "output_type": "stream",
     "text": [
      "4680batch [28:18,  2.97batch/s]"
     ]
    },
    {
     "name": "stdout",
     "output_type": "stream",
     "text": [
      "---------------------------------\n",
      "| batch_size        | 2048      |\n",
      "| bc/               |           |\n",
      "|    batch          | 4679      |\n",
      "|    ent_loss       | -0.000179 |\n",
      "|    entropy        | 0.179     |\n",
      "|    epoch          | 468       |\n",
      "|    l2_loss        | 0         |\n",
      "|    l2_norm        | 4.88e+03  |\n",
      "|    loss           | 0.992     |\n",
      "|    neglogp        | 0.992     |\n",
      "|    prob_true_act  | 0.756     |\n",
      "|    samples_so_far | 9584640   |\n",
      "---------------------------------\n"
     ]
    },
    {
     "name": "stderr",
     "output_type": "stream",
     "text": [
      "4690batch [28:22,  2.65batch/s]"
     ]
    },
    {
     "name": "stdout",
     "output_type": "stream",
     "text": [
      "---------------------------------\n",
      "| batch_size        | 2048      |\n",
      "| bc/               |           |\n",
      "|    batch          | 4689      |\n",
      "|    ent_loss       | -0.000181 |\n",
      "|    entropy        | 0.181     |\n",
      "|    epoch          | 469       |\n",
      "|    l2_loss        | 0         |\n",
      "|    l2_norm        | 4.88e+03  |\n",
      "|    loss           | 0.971     |\n",
      "|    neglogp        | 0.972     |\n",
      "|    prob_true_act  | 0.751     |\n",
      "|    samples_so_far | 9605120   |\n",
      "---------------------------------\n"
     ]
    },
    {
     "name": "stderr",
     "output_type": "stream",
     "text": [
      "4700batch [28:25,  2.97batch/s]"
     ]
    },
    {
     "name": "stdout",
     "output_type": "stream",
     "text": [
      "---------------------------------\n",
      "| batch_size        | 2048      |\n",
      "| bc/               |           |\n",
      "|    batch          | 4699      |\n",
      "|    ent_loss       | -0.000183 |\n",
      "|    entropy        | 0.183     |\n",
      "|    epoch          | 470       |\n",
      "|    l2_loss        | 0         |\n",
      "|    l2_norm        | 4.88e+03  |\n",
      "|    loss           | 0.802     |\n",
      "|    neglogp        | 0.802     |\n",
      "|    prob_true_act  | 0.783     |\n",
      "|    samples_so_far | 9625600   |\n",
      "---------------------------------\n"
     ]
    },
    {
     "name": "stderr",
     "output_type": "stream",
     "text": [
      "4710batch [28:29,  2.93batch/s]"
     ]
    },
    {
     "name": "stdout",
     "output_type": "stream",
     "text": [
      "---------------------------------\n",
      "| batch_size        | 2048      |\n",
      "| bc/               |           |\n",
      "|    batch          | 4709      |\n",
      "|    ent_loss       | -0.000186 |\n",
      "|    entropy        | 0.186     |\n",
      "|    epoch          | 471       |\n",
      "|    l2_loss        | 0         |\n",
      "|    l2_norm        | 4.88e+03  |\n",
      "|    loss           | 0.915     |\n",
      "|    neglogp        | 0.915     |\n",
      "|    prob_true_act  | 0.759     |\n",
      "|    samples_so_far | 9646080   |\n",
      "---------------------------------\n"
     ]
    },
    {
     "name": "stderr",
     "output_type": "stream",
     "text": [
      "4720batch [28:33,  3.01batch/s]"
     ]
    },
    {
     "name": "stdout",
     "output_type": "stream",
     "text": [
      "---------------------------------\n",
      "| batch_size        | 2048      |\n",
      "| bc/               |           |\n",
      "|    batch          | 4719      |\n",
      "|    ent_loss       | -0.000188 |\n",
      "|    entropy        | 0.188     |\n",
      "|    epoch          | 472       |\n",
      "|    l2_loss        | 0         |\n",
      "|    l2_norm        | 4.88e+03  |\n",
      "|    loss           | 0.899     |\n",
      "|    neglogp        | 0.899     |\n",
      "|    prob_true_act  | 0.766     |\n",
      "|    samples_so_far | 9666560   |\n",
      "---------------------------------\n"
     ]
    },
    {
     "name": "stderr",
     "output_type": "stream",
     "text": [
      "4730batch [28:36,  2.92batch/s]"
     ]
    },
    {
     "name": "stdout",
     "output_type": "stream",
     "text": [
      "--------------------------------\n",
      "| batch_size        | 2048     |\n",
      "| bc/               |          |\n",
      "|    batch          | 4729     |\n",
      "|    ent_loss       | -0.00019 |\n",
      "|    entropy        | 0.19     |\n",
      "|    epoch          | 473      |\n",
      "|    l2_loss        | 0        |\n",
      "|    l2_norm        | 4.88e+03 |\n",
      "|    loss           | 0.865    |\n",
      "|    neglogp        | 0.865    |\n",
      "|    prob_true_act  | 0.772    |\n",
      "|    samples_so_far | 9687040  |\n",
      "--------------------------------\n"
     ]
    },
    {
     "name": "stderr",
     "output_type": "stream",
     "text": [
      "4740batch [28:40,  2.99batch/s]"
     ]
    },
    {
     "name": "stdout",
     "output_type": "stream",
     "text": [
      "---------------------------------\n",
      "| batch_size        | 2048      |\n",
      "| bc/               |           |\n",
      "|    batch          | 4739      |\n",
      "|    ent_loss       | -0.000192 |\n",
      "|    entropy        | 0.192     |\n",
      "|    epoch          | 474       |\n",
      "|    l2_loss        | 0         |\n",
      "|    l2_norm        | 4.88e+03  |\n",
      "|    loss           | 0.866     |\n",
      "|    neglogp        | 0.866     |\n",
      "|    prob_true_act  | 0.772     |\n",
      "|    samples_so_far | 9707520   |\n",
      "---------------------------------\n"
     ]
    },
    {
     "name": "stderr",
     "output_type": "stream",
     "text": [
      "4750batch [28:43,  3.00batch/s]"
     ]
    },
    {
     "name": "stdout",
     "output_type": "stream",
     "text": [
      "---------------------------------\n",
      "| batch_size        | 2048      |\n",
      "| bc/               |           |\n",
      "|    batch          | 4749      |\n",
      "|    ent_loss       | -0.000194 |\n",
      "|    entropy        | 0.194     |\n",
      "|    epoch          | 475       |\n",
      "|    l2_loss        | 0         |\n",
      "|    l2_norm        | 4.88e+03  |\n",
      "|    loss           | 0.83      |\n",
      "|    neglogp        | 0.831     |\n",
      "|    prob_true_act  | 0.773     |\n",
      "|    samples_so_far | 9728000   |\n",
      "---------------------------------\n"
     ]
    },
    {
     "name": "stderr",
     "output_type": "stream",
     "text": [
      "4760batch [28:47,  2.80batch/s]"
     ]
    },
    {
     "name": "stdout",
     "output_type": "stream",
     "text": [
      "---------------------------------\n",
      "| batch_size        | 2048      |\n",
      "| bc/               |           |\n",
      "|    batch          | 4759      |\n",
      "|    ent_loss       | -0.000197 |\n",
      "|    entropy        | 0.197     |\n",
      "|    epoch          | 476       |\n",
      "|    l2_loss        | 0         |\n",
      "|    l2_norm        | 4.88e+03  |\n",
      "|    loss           | 0.932     |\n",
      "|    neglogp        | 0.932     |\n",
      "|    prob_true_act  | 0.762     |\n",
      "|    samples_so_far | 9748480   |\n",
      "---------------------------------\n"
     ]
    },
    {
     "name": "stderr",
     "output_type": "stream",
     "text": [
      "4770batch [28:51,  2.91batch/s]"
     ]
    },
    {
     "name": "stdout",
     "output_type": "stream",
     "text": [
      "---------------------------------\n",
      "| batch_size        | 2048      |\n",
      "| bc/               |           |\n",
      "|    batch          | 4769      |\n",
      "|    ent_loss       | -0.000199 |\n",
      "|    entropy        | 0.199     |\n",
      "|    epoch          | 477       |\n",
      "|    l2_loss        | 0         |\n",
      "|    l2_norm        | 4.88e+03  |\n",
      "|    loss           | 0.942     |\n",
      "|    neglogp        | 0.942     |\n",
      "|    prob_true_act  | 0.752     |\n",
      "|    samples_so_far | 9768960   |\n",
      "---------------------------------\n"
     ]
    },
    {
     "name": "stderr",
     "output_type": "stream",
     "text": [
      "4780batch [28:54,  3.01batch/s]"
     ]
    },
    {
     "name": "stdout",
     "output_type": "stream",
     "text": [
      "---------------------------------\n",
      "| batch_size        | 2048      |\n",
      "| bc/               |           |\n",
      "|    batch          | 4779      |\n",
      "|    ent_loss       | -0.000201 |\n",
      "|    entropy        | 0.201     |\n",
      "|    epoch          | 478       |\n",
      "|    l2_loss        | 0         |\n",
      "|    l2_norm        | 4.88e+03  |\n",
      "|    loss           | 0.911     |\n",
      "|    neglogp        | 0.912     |\n",
      "|    prob_true_act  | 0.767     |\n",
      "|    samples_so_far | 9789440   |\n",
      "---------------------------------\n"
     ]
    },
    {
     "name": "stderr",
     "output_type": "stream",
     "text": [
      "4790batch [28:58,  2.96batch/s]"
     ]
    },
    {
     "name": "stdout",
     "output_type": "stream",
     "text": [
      "---------------------------------\n",
      "| batch_size        | 2048      |\n",
      "| bc/               |           |\n",
      "|    batch          | 4789      |\n",
      "|    ent_loss       | -0.000203 |\n",
      "|    entropy        | 0.203     |\n",
      "|    epoch          | 479       |\n",
      "|    l2_loss        | 0         |\n",
      "|    l2_norm        | 4.88e+03  |\n",
      "|    loss           | 0.89      |\n",
      "|    neglogp        | 0.89      |\n",
      "|    prob_true_act  | 0.767     |\n",
      "|    samples_so_far | 9809920   |\n",
      "---------------------------------\n"
     ]
    },
    {
     "name": "stderr",
     "output_type": "stream",
     "text": [
      "4800batch [29:01,  2.96batch/s]"
     ]
    },
    {
     "name": "stdout",
     "output_type": "stream",
     "text": [
      "---------------------------------\n",
      "| batch_size        | 2048      |\n",
      "| bc/               |           |\n",
      "|    batch          | 4799      |\n",
      "|    ent_loss       | -0.000205 |\n",
      "|    entropy        | 0.205     |\n",
      "|    epoch          | 480       |\n",
      "|    l2_loss        | 0         |\n",
      "|    l2_norm        | 4.88e+03  |\n",
      "|    loss           | 0.944     |\n",
      "|    neglogp        | 0.944     |\n",
      "|    prob_true_act  | 0.768     |\n",
      "|    samples_so_far | 9830400   |\n",
      "---------------------------------\n"
     ]
    },
    {
     "name": "stderr",
     "output_type": "stream",
     "text": [
      "4810batch [29:05,  2.96batch/s]"
     ]
    },
    {
     "name": "stdout",
     "output_type": "stream",
     "text": [
      "---------------------------------\n",
      "| batch_size        | 2048      |\n",
      "| bc/               |           |\n",
      "|    batch          | 4809      |\n",
      "|    ent_loss       | -0.000207 |\n",
      "|    entropy        | 0.207     |\n",
      "|    epoch          | 481       |\n",
      "|    l2_loss        | 0         |\n",
      "|    l2_norm        | 4.88e+03  |\n",
      "|    loss           | 0.894     |\n",
      "|    neglogp        | 0.894     |\n",
      "|    prob_true_act  | 0.768     |\n",
      "|    samples_so_far | 9850880   |\n",
      "---------------------------------\n"
     ]
    },
    {
     "name": "stderr",
     "output_type": "stream",
     "text": [
      "4820batch [29:09,  3.00batch/s]"
     ]
    },
    {
     "name": "stdout",
     "output_type": "stream",
     "text": [
      "--------------------------------\n",
      "| batch_size        | 2048     |\n",
      "| bc/               |          |\n",
      "|    batch          | 4819     |\n",
      "|    ent_loss       | -0.00021 |\n",
      "|    entropy        | 0.21     |\n",
      "|    epoch          | 482      |\n",
      "|    l2_loss        | 0        |\n",
      "|    l2_norm        | 4.88e+03 |\n",
      "|    loss           | 0.896    |\n",
      "|    neglogp        | 0.896    |\n",
      "|    prob_true_act  | 0.768    |\n",
      "|    samples_so_far | 9871360  |\n",
      "--------------------------------\n"
     ]
    },
    {
     "name": "stderr",
     "output_type": "stream",
     "text": [
      "4830batch [29:12,  2.81batch/s]"
     ]
    },
    {
     "name": "stdout",
     "output_type": "stream",
     "text": [
      "---------------------------------\n",
      "| batch_size        | 2048      |\n",
      "| bc/               |           |\n",
      "|    batch          | 4829      |\n",
      "|    ent_loss       | -0.000212 |\n",
      "|    entropy        | 0.212     |\n",
      "|    epoch          | 483       |\n",
      "|    l2_loss        | 0         |\n",
      "|    l2_norm        | 4.88e+03  |\n",
      "|    loss           | 0.821     |\n",
      "|    neglogp        | 0.822     |\n",
      "|    prob_true_act  | 0.774     |\n",
      "|    samples_so_far | 9891840   |\n",
      "---------------------------------\n"
     ]
    },
    {
     "name": "stderr",
     "output_type": "stream",
     "text": [
      "4840batch [29:16,  2.97batch/s]"
     ]
    },
    {
     "name": "stdout",
     "output_type": "stream",
     "text": [
      "---------------------------------\n",
      "| batch_size        | 2048      |\n",
      "| bc/               |           |\n",
      "|    batch          | 4839      |\n",
      "|    ent_loss       | -0.000214 |\n",
      "|    entropy        | 0.214     |\n",
      "|    epoch          | 484       |\n",
      "|    l2_loss        | 0         |\n",
      "|    l2_norm        | 4.88e+03  |\n",
      "|    loss           | 0.821     |\n",
      "|    neglogp        | 0.821     |\n",
      "|    prob_true_act  | 0.778     |\n",
      "|    samples_so_far | 9912320   |\n",
      "---------------------------------\n"
     ]
    },
    {
     "name": "stderr",
     "output_type": "stream",
     "text": [
      "4850batch [29:19,  2.99batch/s]"
     ]
    },
    {
     "name": "stdout",
     "output_type": "stream",
     "text": [
      "---------------------------------\n",
      "| batch_size        | 2048      |\n",
      "| bc/               |           |\n",
      "|    batch          | 4849      |\n",
      "|    ent_loss       | -0.000216 |\n",
      "|    entropy        | 0.216     |\n",
      "|    epoch          | 485       |\n",
      "|    l2_loss        | 0         |\n",
      "|    l2_norm        | 4.88e+03  |\n",
      "|    loss           | 0.858     |\n",
      "|    neglogp        | 0.858     |\n",
      "|    prob_true_act  | 0.777     |\n",
      "|    samples_so_far | 9932800   |\n",
      "---------------------------------\n"
     ]
    },
    {
     "name": "stderr",
     "output_type": "stream",
     "text": [
      "4860batch [29:23,  2.99batch/s]"
     ]
    },
    {
     "name": "stdout",
     "output_type": "stream",
     "text": [
      "---------------------------------\n",
      "| batch_size        | 2048      |\n",
      "| bc/               |           |\n",
      "|    batch          | 4859      |\n",
      "|    ent_loss       | -0.000218 |\n",
      "|    entropy        | 0.218     |\n",
      "|    epoch          | 486       |\n",
      "|    l2_loss        | 0         |\n",
      "|    l2_norm        | 4.88e+03  |\n",
      "|    loss           | 0.9       |\n",
      "|    neglogp        | 0.9       |\n",
      "|    prob_true_act  | 0.772     |\n",
      "|    samples_so_far | 9953280   |\n",
      "---------------------------------\n"
     ]
    },
    {
     "name": "stderr",
     "output_type": "stream",
     "text": [
      "4870batch [29:26,  2.97batch/s]"
     ]
    },
    {
     "name": "stdout",
     "output_type": "stream",
     "text": [
      "--------------------------------\n",
      "| batch_size        | 2048     |\n",
      "| bc/               |          |\n",
      "|    batch          | 4869     |\n",
      "|    ent_loss       | -0.00022 |\n",
      "|    entropy        | 0.22     |\n",
      "|    epoch          | 487      |\n",
      "|    l2_loss        | 0        |\n",
      "|    l2_norm        | 4.88e+03 |\n",
      "|    loss           | 0.87     |\n",
      "|    neglogp        | 0.87     |\n",
      "|    prob_true_act  | 0.767    |\n",
      "|    samples_so_far | 9973760  |\n",
      "--------------------------------\n"
     ]
    },
    {
     "name": "stderr",
     "output_type": "stream",
     "text": [
      "4880batch [29:30,  3.02batch/s]"
     ]
    },
    {
     "name": "stdout",
     "output_type": "stream",
     "text": [
      "---------------------------------\n",
      "| batch_size        | 2048      |\n",
      "| bc/               |           |\n",
      "|    batch          | 4879      |\n",
      "|    ent_loss       | -0.000222 |\n",
      "|    entropy        | 0.222     |\n",
      "|    epoch          | 488       |\n",
      "|    l2_loss        | 0         |\n",
      "|    l2_norm        | 4.88e+03  |\n",
      "|    loss           | 0.842     |\n",
      "|    neglogp        | 0.842     |\n",
      "|    prob_true_act  | 0.78      |\n",
      "|    samples_so_far | 9994240   |\n",
      "---------------------------------\n"
     ]
    },
    {
     "name": "stderr",
     "output_type": "stream",
     "text": [
      "4890batch [29:33,  3.00batch/s]"
     ]
    },
    {
     "name": "stdout",
     "output_type": "stream",
     "text": [
      "---------------------------------\n",
      "| batch_size        | 2048      |\n",
      "| bc/               |           |\n",
      "|    batch          | 4889      |\n",
      "|    ent_loss       | -0.000225 |\n",
      "|    entropy        | 0.225     |\n",
      "|    epoch          | 489       |\n",
      "|    l2_loss        | 0         |\n",
      "|    l2_norm        | 4.88e+03  |\n",
      "|    loss           | 0.892     |\n",
      "|    neglogp        | 0.892     |\n",
      "|    prob_true_act  | 0.772     |\n",
      "|    samples_so_far | 10014720  |\n",
      "---------------------------------\n"
     ]
    },
    {
     "name": "stderr",
     "output_type": "stream",
     "text": [
      "4900batch [29:37,  2.96batch/s]"
     ]
    },
    {
     "name": "stdout",
     "output_type": "stream",
     "text": [
      "---------------------------------\n",
      "| batch_size        | 2048      |\n",
      "| bc/               |           |\n",
      "|    batch          | 4899      |\n",
      "|    ent_loss       | -0.000227 |\n",
      "|    entropy        | 0.227     |\n",
      "|    epoch          | 490       |\n",
      "|    l2_loss        | 0         |\n",
      "|    l2_norm        | 4.88e+03  |\n",
      "|    loss           | 0.855     |\n",
      "|    neglogp        | 0.855     |\n",
      "|    prob_true_act  | 0.782     |\n",
      "|    samples_so_far | 10035200  |\n",
      "---------------------------------\n"
     ]
    },
    {
     "name": "stderr",
     "output_type": "stream",
     "text": [
      "4910batch [29:40,  2.91batch/s]"
     ]
    },
    {
     "name": "stdout",
     "output_type": "stream",
     "text": [
      "---------------------------------\n",
      "| batch_size        | 2048      |\n",
      "| bc/               |           |\n",
      "|    batch          | 4909      |\n",
      "|    ent_loss       | -0.000229 |\n",
      "|    entropy        | 0.229     |\n",
      "|    epoch          | 491       |\n",
      "|    l2_loss        | 0         |\n",
      "|    l2_norm        | 4.88e+03  |\n",
      "|    loss           | 0.828     |\n",
      "|    neglogp        | 0.828     |\n",
      "|    prob_true_act  | 0.783     |\n",
      "|    samples_so_far | 10055680  |\n",
      "---------------------------------\n"
     ]
    },
    {
     "name": "stderr",
     "output_type": "stream",
     "text": [
      "4920batch [29:44,  2.61batch/s]"
     ]
    },
    {
     "name": "stdout",
     "output_type": "stream",
     "text": [
      "---------------------------------\n",
      "| batch_size        | 2048      |\n",
      "| bc/               |           |\n",
      "|    batch          | 4919      |\n",
      "|    ent_loss       | -0.000231 |\n",
      "|    entropy        | 0.231     |\n",
      "|    epoch          | 492       |\n",
      "|    l2_loss        | 0         |\n",
      "|    l2_norm        | 4.88e+03  |\n",
      "|    loss           | 0.823     |\n",
      "|    neglogp        | 0.823     |\n",
      "|    prob_true_act  | 0.78      |\n",
      "|    samples_so_far | 10076160  |\n",
      "---------------------------------\n"
     ]
    },
    {
     "name": "stderr",
     "output_type": "stream",
     "text": [
      "4930batch [29:48,  2.95batch/s]"
     ]
    },
    {
     "name": "stdout",
     "output_type": "stream",
     "text": [
      "---------------------------------\n",
      "| batch_size        | 2048      |\n",
      "| bc/               |           |\n",
      "|    batch          | 4929      |\n",
      "|    ent_loss       | -0.000233 |\n",
      "|    entropy        | 0.233     |\n",
      "|    epoch          | 493       |\n",
      "|    l2_loss        | 0         |\n",
      "|    l2_norm        | 4.88e+03  |\n",
      "|    loss           | 0.801     |\n",
      "|    neglogp        | 0.801     |\n",
      "|    prob_true_act  | 0.782     |\n",
      "|    samples_so_far | 10096640  |\n",
      "---------------------------------\n"
     ]
    },
    {
     "name": "stderr",
     "output_type": "stream",
     "text": [
      "4940batch [29:52,  2.89batch/s]"
     ]
    },
    {
     "name": "stdout",
     "output_type": "stream",
     "text": [
      "---------------------------------\n",
      "| batch_size        | 2048      |\n",
      "| bc/               |           |\n",
      "|    batch          | 4939      |\n",
      "|    ent_loss       | -0.000235 |\n",
      "|    entropy        | 0.235     |\n",
      "|    epoch          | 494       |\n",
      "|    l2_loss        | 0         |\n",
      "|    l2_norm        | 4.88e+03  |\n",
      "|    loss           | 0.808     |\n",
      "|    neglogp        | 0.808     |\n",
      "|    prob_true_act  | 0.783     |\n",
      "|    samples_so_far | 10117120  |\n",
      "---------------------------------\n"
     ]
    },
    {
     "name": "stderr",
     "output_type": "stream",
     "text": [
      "4950batch [29:55,  2.98batch/s]"
     ]
    },
    {
     "name": "stdout",
     "output_type": "stream",
     "text": [
      "---------------------------------\n",
      "| batch_size        | 2048      |\n",
      "| bc/               |           |\n",
      "|    batch          | 4949      |\n",
      "|    ent_loss       | -0.000237 |\n",
      "|    entropy        | 0.237     |\n",
      "|    epoch          | 495       |\n",
      "|    l2_loss        | 0         |\n",
      "|    l2_norm        | 4.88e+03  |\n",
      "|    loss           | 0.95      |\n",
      "|    neglogp        | 0.951     |\n",
      "|    prob_true_act  | 0.756     |\n",
      "|    samples_so_far | 10137600  |\n",
      "---------------------------------\n"
     ]
    },
    {
     "name": "stderr",
     "output_type": "stream",
     "text": [
      "4960batch [29:59,  2.95batch/s]"
     ]
    },
    {
     "name": "stdout",
     "output_type": "stream",
     "text": [
      "---------------------------------\n",
      "| batch_size        | 2048      |\n",
      "| bc/               |           |\n",
      "|    batch          | 4959      |\n",
      "|    ent_loss       | -0.000239 |\n",
      "|    entropy        | 0.239     |\n",
      "|    epoch          | 496       |\n",
      "|    l2_loss        | 0         |\n",
      "|    l2_norm        | 4.88e+03  |\n",
      "|    loss           | 0.802     |\n",
      "|    neglogp        | 0.802     |\n",
      "|    prob_true_act  | 0.78      |\n",
      "|    samples_so_far | 10158080  |\n",
      "---------------------------------\n"
     ]
    },
    {
     "name": "stderr",
     "output_type": "stream",
     "text": [
      "4970batch [30:02,  3.00batch/s]"
     ]
    },
    {
     "name": "stdout",
     "output_type": "stream",
     "text": [
      "---------------------------------\n",
      "| batch_size        | 2048      |\n",
      "| bc/               |           |\n",
      "|    batch          | 4969      |\n",
      "|    ent_loss       | -0.000241 |\n",
      "|    entropy        | 0.241     |\n",
      "|    epoch          | 497       |\n",
      "|    l2_loss        | 0         |\n",
      "|    l2_norm        | 4.88e+03  |\n",
      "|    loss           | 0.819     |\n",
      "|    neglogp        | 0.819     |\n",
      "|    prob_true_act  | 0.776     |\n",
      "|    samples_so_far | 10178560  |\n",
      "---------------------------------\n"
     ]
    },
    {
     "name": "stderr",
     "output_type": "stream",
     "text": [
      "4980batch [30:06,  2.94batch/s]"
     ]
    },
    {
     "name": "stdout",
     "output_type": "stream",
     "text": [
      "---------------------------------\n",
      "| batch_size        | 2048      |\n",
      "| bc/               |           |\n",
      "|    batch          | 4979      |\n",
      "|    ent_loss       | -0.000243 |\n",
      "|    entropy        | 0.243     |\n",
      "|    epoch          | 498       |\n",
      "|    l2_loss        | 0         |\n",
      "|    l2_norm        | 4.88e+03  |\n",
      "|    loss           | 0.829     |\n",
      "|    neglogp        | 0.829     |\n",
      "|    prob_true_act  | 0.783     |\n",
      "|    samples_so_far | 10199040  |\n",
      "---------------------------------\n"
     ]
    },
    {
     "name": "stderr",
     "output_type": "stream",
     "text": [
      "4990batch [30:10,  2.79batch/s]"
     ]
    },
    {
     "name": "stdout",
     "output_type": "stream",
     "text": [
      "---------------------------------\n",
      "| batch_size        | 2048      |\n",
      "| bc/               |           |\n",
      "|    batch          | 4989      |\n",
      "|    ent_loss       | -0.000246 |\n",
      "|    entropy        | 0.246     |\n",
      "|    epoch          | 499       |\n",
      "|    l2_loss        | 0         |\n",
      "|    l2_norm        | 4.88e+03  |\n",
      "|    loss           | 0.853     |\n",
      "|    neglogp        | 0.854     |\n",
      "|    prob_true_act  | 0.782     |\n",
      "|    samples_so_far | 10219520  |\n",
      "---------------------------------\n"
     ]
    },
    {
     "name": "stderr",
     "output_type": "stream",
     "text": [
      "5000batch [30:13,  2.90batch/s]"
     ]
    },
    {
     "name": "stdout",
     "output_type": "stream",
     "text": [
      "---------------------------------\n",
      "| batch_size        | 2048      |\n",
      "| bc/               |           |\n",
      "|    batch          | 4999      |\n",
      "|    ent_loss       | -0.000248 |\n",
      "|    entropy        | 0.248     |\n",
      "|    epoch          | 500       |\n",
      "|    l2_loss        | 0         |\n",
      "|    l2_norm        | 4.88e+03  |\n",
      "|    loss           | 0.791     |\n",
      "|    neglogp        | 0.791     |\n",
      "|    prob_true_act  | 0.786     |\n",
      "|    samples_so_far | 10240000  |\n",
      "---------------------------------\n"
     ]
    },
    {
     "name": "stderr",
     "output_type": "stream",
     "text": [
      "5010batch [30:17,  3.00batch/s]"
     ]
    },
    {
     "name": "stdout",
     "output_type": "stream",
     "text": [
      "--------------------------------\n",
      "| batch_size        | 2048     |\n",
      "| bc/               |          |\n",
      "|    batch          | 5009     |\n",
      "|    ent_loss       | -0.00025 |\n",
      "|    entropy        | 0.25     |\n",
      "|    epoch          | 501      |\n",
      "|    l2_loss        | 0        |\n",
      "|    l2_norm        | 4.88e+03 |\n",
      "|    loss           | 0.861    |\n",
      "|    neglogp        | 0.862    |\n",
      "|    prob_true_act  | 0.773    |\n",
      "|    samples_so_far | 10260480 |\n",
      "--------------------------------\n"
     ]
    },
    {
     "name": "stderr",
     "output_type": "stream",
     "text": [
      "5020batch [30:20,  2.98batch/s]"
     ]
    },
    {
     "name": "stdout",
     "output_type": "stream",
     "text": [
      "---------------------------------\n",
      "| batch_size        | 2048      |\n",
      "| bc/               |           |\n",
      "|    batch          | 5019      |\n",
      "|    ent_loss       | -0.000252 |\n",
      "|    entropy        | 0.252     |\n",
      "|    epoch          | 502       |\n",
      "|    l2_loss        | 0         |\n",
      "|    l2_norm        | 4.88e+03  |\n",
      "|    loss           | 0.792     |\n",
      "|    neglogp        | 0.792     |\n",
      "|    prob_true_act  | 0.782     |\n",
      "|    samples_so_far | 10280960  |\n",
      "---------------------------------\n"
     ]
    },
    {
     "name": "stderr",
     "output_type": "stream",
     "text": [
      "5030batch [30:24,  2.74batch/s]"
     ]
    },
    {
     "name": "stdout",
     "output_type": "stream",
     "text": [
      "---------------------------------\n",
      "| batch_size        | 2048      |\n",
      "| bc/               |           |\n",
      "|    batch          | 5029      |\n",
      "|    ent_loss       | -0.000254 |\n",
      "|    entropy        | 0.254     |\n",
      "|    epoch          | 503       |\n",
      "|    l2_loss        | 0         |\n",
      "|    l2_norm        | 4.88e+03  |\n",
      "|    loss           | 0.871     |\n",
      "|    neglogp        | 0.872     |\n",
      "|    prob_true_act  | 0.765     |\n",
      "|    samples_so_far | 10301440  |\n",
      "---------------------------------\n"
     ]
    },
    {
     "name": "stderr",
     "output_type": "stream",
     "text": [
      "5040batch [30:28,  2.97batch/s]"
     ]
    },
    {
     "name": "stdout",
     "output_type": "stream",
     "text": [
      "---------------------------------\n",
      "| batch_size        | 2048      |\n",
      "| bc/               |           |\n",
      "|    batch          | 5039      |\n",
      "|    ent_loss       | -0.000256 |\n",
      "|    entropy        | 0.256     |\n",
      "|    epoch          | 504       |\n",
      "|    l2_loss        | 0         |\n",
      "|    l2_norm        | 4.88e+03  |\n",
      "|    loss           | 0.779     |\n",
      "|    neglogp        | 0.779     |\n",
      "|    prob_true_act  | 0.787     |\n",
      "|    samples_so_far | 10321920  |\n",
      "---------------------------------\n"
     ]
    },
    {
     "name": "stderr",
     "output_type": "stream",
     "text": [
      "5050batch [30:31,  3.00batch/s]"
     ]
    },
    {
     "name": "stdout",
     "output_type": "stream",
     "text": [
      "---------------------------------\n",
      "| batch_size        | 2048      |\n",
      "| bc/               |           |\n",
      "|    batch          | 5049      |\n",
      "|    ent_loss       | -0.000258 |\n",
      "|    entropy        | 0.258     |\n",
      "|    epoch          | 505       |\n",
      "|    l2_loss        | 0         |\n",
      "|    l2_norm        | 4.88e+03  |\n",
      "|    loss           | 0.756     |\n",
      "|    neglogp        | 0.756     |\n",
      "|    prob_true_act  | 0.786     |\n",
      "|    samples_so_far | 10342400  |\n",
      "---------------------------------\n"
     ]
    },
    {
     "name": "stderr",
     "output_type": "stream",
     "text": [
      "5060batch [30:35,  3.00batch/s]"
     ]
    },
    {
     "name": "stdout",
     "output_type": "stream",
     "text": [
      "--------------------------------\n",
      "| batch_size        | 2048     |\n",
      "| bc/               |          |\n",
      "|    batch          | 5059     |\n",
      "|    ent_loss       | -0.00026 |\n",
      "|    entropy        | 0.26     |\n",
      "|    epoch          | 506      |\n",
      "|    l2_loss        | 0        |\n",
      "|    l2_norm        | 4.88e+03 |\n",
      "|    loss           | 0.788    |\n",
      "|    neglogp        | 0.788    |\n",
      "|    prob_true_act  | 0.787    |\n",
      "|    samples_so_far | 10362880 |\n",
      "--------------------------------\n"
     ]
    },
    {
     "name": "stderr",
     "output_type": "stream",
     "text": [
      "5070batch [30:38,  2.94batch/s]"
     ]
    },
    {
     "name": "stdout",
     "output_type": "stream",
     "text": [
      "---------------------------------\n",
      "| batch_size        | 2048      |\n",
      "| bc/               |           |\n",
      "|    batch          | 5069      |\n",
      "|    ent_loss       | -0.000262 |\n",
      "|    entropy        | 0.262     |\n",
      "|    epoch          | 507       |\n",
      "|    l2_loss        | 0         |\n",
      "|    l2_norm        | 4.88e+03  |\n",
      "|    loss           | 0.797     |\n",
      "|    neglogp        | 0.797     |\n",
      "|    prob_true_act  | 0.786     |\n",
      "|    samples_so_far | 10383360  |\n",
      "---------------------------------\n"
     ]
    },
    {
     "name": "stderr",
     "output_type": "stream",
     "text": [
      "5080batch [30:42,  3.00batch/s]"
     ]
    },
    {
     "name": "stdout",
     "output_type": "stream",
     "text": [
      "---------------------------------\n",
      "| batch_size        | 2048      |\n",
      "| bc/               |           |\n",
      "|    batch          | 5079      |\n",
      "|    ent_loss       | -0.000264 |\n",
      "|    entropy        | 0.264     |\n",
      "|    epoch          | 508       |\n",
      "|    l2_loss        | 0         |\n",
      "|    l2_norm        | 4.88e+03  |\n",
      "|    loss           | 0.813     |\n",
      "|    neglogp        | 0.813     |\n",
      "|    prob_true_act  | 0.777     |\n",
      "|    samples_so_far | 10403840  |\n",
      "---------------------------------\n"
     ]
    },
    {
     "name": "stderr",
     "output_type": "stream",
     "text": [
      "5090batch [30:45,  2.95batch/s]"
     ]
    },
    {
     "name": "stdout",
     "output_type": "stream",
     "text": [
      "---------------------------------\n",
      "| batch_size        | 2048      |\n",
      "| bc/               |           |\n",
      "|    batch          | 5089      |\n",
      "|    ent_loss       | -0.000266 |\n",
      "|    entropy        | 0.266     |\n",
      "|    epoch          | 509       |\n",
      "|    l2_loss        | 0         |\n",
      "|    l2_norm        | 4.88e+03  |\n",
      "|    loss           | 0.825     |\n",
      "|    neglogp        | 0.825     |\n",
      "|    prob_true_act  | 0.775     |\n",
      "|    samples_so_far | 10424320  |\n",
      "---------------------------------\n"
     ]
    },
    {
     "name": "stderr",
     "output_type": "stream",
     "text": [
      "5100batch [30:49,  2.97batch/s]"
     ]
    },
    {
     "name": "stdout",
     "output_type": "stream",
     "text": [
      "---------------------------------\n",
      "| batch_size        | 2048      |\n",
      "| bc/               |           |\n",
      "|    batch          | 5099      |\n",
      "|    ent_loss       | -0.000268 |\n",
      "|    entropy        | 0.268     |\n",
      "|    epoch          | 510       |\n",
      "|    l2_loss        | 0         |\n",
      "|    l2_norm        | 4.88e+03  |\n",
      "|    loss           | 0.851     |\n",
      "|    neglogp        | 0.852     |\n",
      "|    prob_true_act  | 0.779     |\n",
      "|    samples_so_far | 10444800  |\n",
      "---------------------------------\n"
     ]
    },
    {
     "name": "stderr",
     "output_type": "stream",
     "text": [
      "5110batch [30:53,  2.96batch/s]"
     ]
    },
    {
     "name": "stdout",
     "output_type": "stream",
     "text": [
      "--------------------------------\n",
      "| batch_size        | 2048     |\n",
      "| bc/               |          |\n",
      "|    batch          | 5109     |\n",
      "|    ent_loss       | -0.00027 |\n",
      "|    entropy        | 0.27     |\n",
      "|    epoch          | 511      |\n",
      "|    l2_loss        | 0        |\n",
      "|    l2_norm        | 4.88e+03 |\n",
      "|    loss           | 0.839    |\n",
      "|    neglogp        | 0.839    |\n",
      "|    prob_true_act  | 0.776    |\n",
      "|    samples_so_far | 10465280 |\n",
      "--------------------------------\n"
     ]
    },
    {
     "name": "stderr",
     "output_type": "stream",
     "text": [
      "5120batch [30:56,  2.99batch/s]"
     ]
    },
    {
     "name": "stdout",
     "output_type": "stream",
     "text": [
      "---------------------------------\n",
      "| batch_size        | 2048      |\n",
      "| bc/               |           |\n",
      "|    batch          | 5119      |\n",
      "|    ent_loss       | -0.000272 |\n",
      "|    entropy        | 0.272     |\n",
      "|    epoch          | 512       |\n",
      "|    l2_loss        | 0         |\n",
      "|    l2_norm        | 4.88e+03  |\n",
      "|    loss           | 0.761     |\n",
      "|    neglogp        | 0.761     |\n",
      "|    prob_true_act  | 0.783     |\n",
      "|    samples_so_far | 10485760  |\n",
      "---------------------------------\n"
     ]
    },
    {
     "name": "stderr",
     "output_type": "stream",
     "text": [
      "5130batch [31:00,  2.93batch/s]"
     ]
    },
    {
     "name": "stdout",
     "output_type": "stream",
     "text": [
      "---------------------------------\n",
      "| batch_size        | 2048      |\n",
      "| bc/               |           |\n",
      "|    batch          | 5129      |\n",
      "|    ent_loss       | -0.000274 |\n",
      "|    entropy        | 0.274     |\n",
      "|    epoch          | 513       |\n",
      "|    l2_loss        | 0         |\n",
      "|    l2_norm        | 4.88e+03  |\n",
      "|    loss           | 0.875     |\n",
      "|    neglogp        | 0.875     |\n",
      "|    prob_true_act  | 0.768     |\n",
      "|    samples_so_far | 10506240  |\n",
      "---------------------------------\n"
     ]
    },
    {
     "name": "stderr",
     "output_type": "stream",
     "text": [
      "5140batch [31:03,  2.97batch/s]"
     ]
    },
    {
     "name": "stdout",
     "output_type": "stream",
     "text": [
      "---------------------------------\n",
      "| batch_size        | 2048      |\n",
      "| bc/               |           |\n",
      "|    batch          | 5139      |\n",
      "|    ent_loss       | -0.000276 |\n",
      "|    entropy        | 0.276     |\n",
      "|    epoch          | 514       |\n",
      "|    l2_loss        | 0         |\n",
      "|    l2_norm        | 4.88e+03  |\n",
      "|    loss           | 0.77      |\n",
      "|    neglogp        | 0.771     |\n",
      "|    prob_true_act  | 0.781     |\n",
      "|    samples_so_far | 10526720  |\n",
      "---------------------------------\n"
     ]
    },
    {
     "name": "stderr",
     "output_type": "stream",
     "text": [
      "5150batch [31:07,  2.74batch/s]"
     ]
    },
    {
     "name": "stdout",
     "output_type": "stream",
     "text": [
      "---------------------------------\n",
      "| batch_size        | 2048      |\n",
      "| bc/               |           |\n",
      "|    batch          | 5149      |\n",
      "|    ent_loss       | -0.000278 |\n",
      "|    entropy        | 0.278     |\n",
      "|    epoch          | 515       |\n",
      "|    l2_loss        | 0         |\n",
      "|    l2_norm        | 4.88e+03  |\n",
      "|    loss           | 0.797     |\n",
      "|    neglogp        | 0.797     |\n",
      "|    prob_true_act  | 0.778     |\n",
      "|    samples_so_far | 10547200  |\n",
      "---------------------------------\n"
     ]
    },
    {
     "name": "stderr",
     "output_type": "stream",
     "text": [
      "5160batch [31:11,  2.94batch/s]"
     ]
    },
    {
     "name": "stdout",
     "output_type": "stream",
     "text": [
      "--------------------------------\n",
      "| batch_size        | 2048     |\n",
      "| bc/               |          |\n",
      "|    batch          | 5159     |\n",
      "|    ent_loss       | -0.00028 |\n",
      "|    entropy        | 0.28     |\n",
      "|    epoch          | 516      |\n",
      "|    l2_loss        | 0        |\n",
      "|    l2_norm        | 4.88e+03 |\n",
      "|    loss           | 0.838    |\n",
      "|    neglogp        | 0.838    |\n",
      "|    prob_true_act  | 0.774    |\n",
      "|    samples_so_far | 10567680 |\n",
      "--------------------------------\n"
     ]
    },
    {
     "name": "stderr",
     "output_type": "stream",
     "text": [
      "5170batch [31:14,  2.95batch/s]"
     ]
    },
    {
     "name": "stdout",
     "output_type": "stream",
     "text": [
      "---------------------------------\n",
      "| batch_size        | 2048      |\n",
      "| bc/               |           |\n",
      "|    batch          | 5169      |\n",
      "|    ent_loss       | -0.000282 |\n",
      "|    entropy        | 0.282     |\n",
      "|    epoch          | 517       |\n",
      "|    l2_loss        | 0         |\n",
      "|    l2_norm        | 4.88e+03  |\n",
      "|    loss           | 0.779     |\n",
      "|    neglogp        | 0.78      |\n",
      "|    prob_true_act  | 0.786     |\n",
      "|    samples_so_far | 10588160  |\n",
      "---------------------------------\n"
     ]
    },
    {
     "name": "stderr",
     "output_type": "stream",
     "text": [
      "5180batch [31:18,  2.91batch/s]"
     ]
    },
    {
     "name": "stdout",
     "output_type": "stream",
     "text": [
      "---------------------------------\n",
      "| batch_size        | 2048      |\n",
      "| bc/               |           |\n",
      "|    batch          | 5179      |\n",
      "|    ent_loss       | -0.000284 |\n",
      "|    entropy        | 0.284     |\n",
      "|    epoch          | 518       |\n",
      "|    l2_loss        | 0         |\n",
      "|    l2_norm        | 4.88e+03  |\n",
      "|    loss           | 0.854     |\n",
      "|    neglogp        | 0.854     |\n",
      "|    prob_true_act  | 0.773     |\n",
      "|    samples_so_far | 10608640  |\n",
      "---------------------------------\n"
     ]
    },
    {
     "name": "stderr",
     "output_type": "stream",
     "text": [
      "5190batch [31:21,  2.92batch/s]"
     ]
    },
    {
     "name": "stdout",
     "output_type": "stream",
     "text": [
      "---------------------------------\n",
      "| batch_size        | 2048      |\n",
      "| bc/               |           |\n",
      "|    batch          | 5189      |\n",
      "|    ent_loss       | -0.000286 |\n",
      "|    entropy        | 0.286     |\n",
      "|    epoch          | 519       |\n",
      "|    l2_loss        | 0         |\n",
      "|    l2_norm        | 4.88e+03  |\n",
      "|    loss           | 0.806     |\n",
      "|    neglogp        | 0.806     |\n",
      "|    prob_true_act  | 0.784     |\n",
      "|    samples_so_far | 10629120  |\n",
      "---------------------------------\n"
     ]
    },
    {
     "name": "stderr",
     "output_type": "stream",
     "text": [
      "5200batch [31:25,  2.97batch/s]"
     ]
    },
    {
     "name": "stdout",
     "output_type": "stream",
     "text": [
      "---------------------------------\n",
      "| batch_size        | 2048      |\n",
      "| bc/               |           |\n",
      "|    batch          | 5199      |\n",
      "|    ent_loss       | -0.000288 |\n",
      "|    entropy        | 0.288     |\n",
      "|    epoch          | 520       |\n",
      "|    l2_loss        | 0         |\n",
      "|    l2_norm        | 4.88e+03  |\n",
      "|    loss           | 0.748     |\n",
      "|    neglogp        | 0.748     |\n",
      "|    prob_true_act  | 0.793     |\n",
      "|    samples_so_far | 10649600  |\n",
      "---------------------------------\n"
     ]
    },
    {
     "name": "stderr",
     "output_type": "stream",
     "text": [
      "5210batch [31:28,  2.99batch/s]"
     ]
    },
    {
     "name": "stdout",
     "output_type": "stream",
     "text": [
      "--------------------------------\n",
      "| batch_size        | 2048     |\n",
      "| bc/               |          |\n",
      "|    batch          | 5209     |\n",
      "|    ent_loss       | -0.00029 |\n",
      "|    entropy        | 0.29     |\n",
      "|    epoch          | 521      |\n",
      "|    l2_loss        | 0        |\n",
      "|    l2_norm        | 4.88e+03 |\n",
      "|    loss           | 0.837    |\n",
      "|    neglogp        | 0.837    |\n",
      "|    prob_true_act  | 0.773    |\n",
      "|    samples_so_far | 10670080 |\n",
      "--------------------------------\n"
     ]
    },
    {
     "name": "stderr",
     "output_type": "stream",
     "text": [
      "5220batch [31:32,  2.97batch/s]"
     ]
    },
    {
     "name": "stdout",
     "output_type": "stream",
     "text": [
      "---------------------------------\n",
      "| batch_size        | 2048      |\n",
      "| bc/               |           |\n",
      "|    batch          | 5219      |\n",
      "|    ent_loss       | -0.000292 |\n",
      "|    entropy        | 0.292     |\n",
      "|    epoch          | 522       |\n",
      "|    l2_loss        | 0         |\n",
      "|    l2_norm        | 4.88e+03  |\n",
      "|    loss           | 0.801     |\n",
      "|    neglogp        | 0.801     |\n",
      "|    prob_true_act  | 0.782     |\n",
      "|    samples_so_far | 10690560  |\n",
      "---------------------------------\n"
     ]
    },
    {
     "name": "stderr",
     "output_type": "stream",
     "text": [
      "5230batch [31:36,  2.90batch/s]"
     ]
    },
    {
     "name": "stdout",
     "output_type": "stream",
     "text": [
      "---------------------------------\n",
      "| batch_size        | 2048      |\n",
      "| bc/               |           |\n",
      "|    batch          | 5229      |\n",
      "|    ent_loss       | -0.000294 |\n",
      "|    entropy        | 0.294     |\n",
      "|    epoch          | 523       |\n",
      "|    l2_loss        | 0         |\n",
      "|    l2_norm        | 4.88e+03  |\n",
      "|    loss           | 0.79      |\n",
      "|    neglogp        | 0.79      |\n",
      "|    prob_true_act  | 0.782     |\n",
      "|    samples_so_far | 10711040  |\n",
      "---------------------------------\n"
     ]
    },
    {
     "name": "stderr",
     "output_type": "stream",
     "text": [
      "5240batch [31:39,  2.96batch/s]"
     ]
    },
    {
     "name": "stdout",
     "output_type": "stream",
     "text": [
      "---------------------------------\n",
      "| batch_size        | 2048      |\n",
      "| bc/               |           |\n",
      "|    batch          | 5239      |\n",
      "|    ent_loss       | -0.000296 |\n",
      "|    entropy        | 0.296     |\n",
      "|    epoch          | 524       |\n",
      "|    l2_loss        | 0         |\n",
      "|    l2_norm        | 4.88e+03  |\n",
      "|    loss           | 0.841     |\n",
      "|    neglogp        | 0.842     |\n",
      "|    prob_true_act  | 0.778     |\n",
      "|    samples_so_far | 10731520  |\n",
      "---------------------------------\n"
     ]
    },
    {
     "name": "stderr",
     "output_type": "stream",
     "text": [
      "5250batch [31:43,  3.01batch/s]"
     ]
    },
    {
     "name": "stdout",
     "output_type": "stream",
     "text": [
      "---------------------------------\n",
      "| batch_size        | 2048      |\n",
      "| bc/               |           |\n",
      "|    batch          | 5249      |\n",
      "|    ent_loss       | -0.000297 |\n",
      "|    entropy        | 0.297     |\n",
      "|    epoch          | 525       |\n",
      "|    l2_loss        | 0         |\n",
      "|    l2_norm        | 4.88e+03  |\n",
      "|    loss           | 0.72      |\n",
      "|    neglogp        | 0.72      |\n",
      "|    prob_true_act  | 0.795     |\n",
      "|    samples_so_far | 10752000  |\n",
      "---------------------------------\n"
     ]
    },
    {
     "name": "stderr",
     "output_type": "stream",
     "text": [
      "5260batch [31:46,  2.97batch/s]"
     ]
    },
    {
     "name": "stdout",
     "output_type": "stream",
     "text": [
      "---------------------------------\n",
      "| batch_size        | 2048      |\n",
      "| bc/               |           |\n",
      "|    batch          | 5259      |\n",
      "|    ent_loss       | -0.000299 |\n",
      "|    entropy        | 0.299     |\n",
      "|    epoch          | 526       |\n",
      "|    l2_loss        | 0         |\n",
      "|    l2_norm        | 4.88e+03  |\n",
      "|    loss           | 0.81      |\n",
      "|    neglogp        | 0.811     |\n",
      "|    prob_true_act  | 0.772     |\n",
      "|    samples_so_far | 10772480  |\n",
      "---------------------------------\n"
     ]
    },
    {
     "name": "stderr",
     "output_type": "stream",
     "text": [
      "5270batch [31:50,  2.80batch/s]"
     ]
    },
    {
     "name": "stdout",
     "output_type": "stream",
     "text": [
      "---------------------------------\n",
      "| batch_size        | 2048      |\n",
      "| bc/               |           |\n",
      "|    batch          | 5269      |\n",
      "|    ent_loss       | -0.000301 |\n",
      "|    entropy        | 0.301     |\n",
      "|    epoch          | 527       |\n",
      "|    l2_loss        | 0         |\n",
      "|    l2_norm        | 4.88e+03  |\n",
      "|    loss           | 0.757     |\n",
      "|    neglogp        | 0.757     |\n",
      "|    prob_true_act  | 0.787     |\n",
      "|    samples_so_far | 10792960  |\n",
      "---------------------------------\n"
     ]
    },
    {
     "name": "stderr",
     "output_type": "stream",
     "text": [
      "5280batch [31:54,  2.95batch/s]"
     ]
    },
    {
     "name": "stdout",
     "output_type": "stream",
     "text": [
      "---------------------------------\n",
      "| batch_size        | 2048      |\n",
      "| bc/               |           |\n",
      "|    batch          | 5279      |\n",
      "|    ent_loss       | -0.000303 |\n",
      "|    entropy        | 0.303     |\n",
      "|    epoch          | 528       |\n",
      "|    l2_loss        | 0         |\n",
      "|    l2_norm        | 4.88e+03  |\n",
      "|    loss           | 0.713     |\n",
      "|    neglogp        | 0.713     |\n",
      "|    prob_true_act  | 0.793     |\n",
      "|    samples_so_far | 10813440  |\n",
      "---------------------------------\n"
     ]
    },
    {
     "name": "stderr",
     "output_type": "stream",
     "text": [
      "5290batch [31:57,  2.99batch/s]"
     ]
    },
    {
     "name": "stdout",
     "output_type": "stream",
     "text": [
      "---------------------------------\n",
      "| batch_size        | 2048      |\n",
      "| bc/               |           |\n",
      "|    batch          | 5289      |\n",
      "|    ent_loss       | -0.000305 |\n",
      "|    entropy        | 0.305     |\n",
      "|    epoch          | 529       |\n",
      "|    l2_loss        | 0         |\n",
      "|    l2_norm        | 4.88e+03  |\n",
      "|    loss           | 0.795     |\n",
      "|    neglogp        | 0.795     |\n",
      "|    prob_true_act  | 0.782     |\n",
      "|    samples_so_far | 10833920  |\n",
      "---------------------------------\n"
     ]
    },
    {
     "name": "stderr",
     "output_type": "stream",
     "text": [
      "5300batch [32:00,  2.99batch/s]"
     ]
    },
    {
     "name": "stdout",
     "output_type": "stream",
     "text": [
      "---------------------------------\n",
      "| batch_size        | 2048      |\n",
      "| bc/               |           |\n",
      "|    batch          | 5299      |\n",
      "|    ent_loss       | -0.000307 |\n",
      "|    entropy        | 0.307     |\n",
      "|    epoch          | 530       |\n",
      "|    l2_loss        | 0         |\n",
      "|    l2_norm        | 4.88e+03  |\n",
      "|    loss           | 0.813     |\n",
      "|    neglogp        | 0.813     |\n",
      "|    prob_true_act  | 0.781     |\n",
      "|    samples_so_far | 10854400  |\n",
      "---------------------------------\n"
     ]
    },
    {
     "name": "stderr",
     "output_type": "stream",
     "text": [
      "5310batch [32:04,  2.95batch/s]"
     ]
    },
    {
     "name": "stdout",
     "output_type": "stream",
     "text": [
      "---------------------------------\n",
      "| batch_size        | 2048      |\n",
      "| bc/               |           |\n",
      "|    batch          | 5309      |\n",
      "|    ent_loss       | -0.000309 |\n",
      "|    entropy        | 0.309     |\n",
      "|    epoch          | 531       |\n",
      "|    l2_loss        | 0         |\n",
      "|    l2_norm        | 4.88e+03  |\n",
      "|    loss           | 0.747     |\n",
      "|    neglogp        | 0.748     |\n",
      "|    prob_true_act  | 0.792     |\n",
      "|    samples_so_far | 10874880  |\n",
      "---------------------------------\n"
     ]
    },
    {
     "name": "stderr",
     "output_type": "stream",
     "text": [
      "5320batch [32:08,  2.91batch/s]"
     ]
    },
    {
     "name": "stdout",
     "output_type": "stream",
     "text": [
      "---------------------------------\n",
      "| batch_size        | 2048      |\n",
      "| bc/               |           |\n",
      "|    batch          | 5319      |\n",
      "|    ent_loss       | -0.000311 |\n",
      "|    entropy        | 0.311     |\n",
      "|    epoch          | 532       |\n",
      "|    l2_loss        | 0         |\n",
      "|    l2_norm        | 4.88e+03  |\n",
      "|    loss           | 0.752     |\n",
      "|    neglogp        | 0.752     |\n",
      "|    prob_true_act  | 0.786     |\n",
      "|    samples_so_far | 10895360  |\n",
      "---------------------------------\n"
     ]
    },
    {
     "name": "stderr",
     "output_type": "stream",
     "text": [
      "5330batch [32:11,  2.99batch/s]"
     ]
    },
    {
     "name": "stdout",
     "output_type": "stream",
     "text": [
      "---------------------------------\n",
      "| batch_size        | 2048      |\n",
      "| bc/               |           |\n",
      "|    batch          | 5329      |\n",
      "|    ent_loss       | -0.000313 |\n",
      "|    entropy        | 0.313     |\n",
      "|    epoch          | 533       |\n",
      "|    l2_loss        | 0         |\n",
      "|    l2_norm        | 4.88e+03  |\n",
      "|    loss           | 0.749     |\n",
      "|    neglogp        | 0.75      |\n",
      "|    prob_true_act  | 0.786     |\n",
      "|    samples_so_far | 10915840  |\n",
      "---------------------------------\n"
     ]
    },
    {
     "name": "stderr",
     "output_type": "stream",
     "text": [
      "5340batch [32:15,  2.97batch/s]"
     ]
    },
    {
     "name": "stdout",
     "output_type": "stream",
     "text": [
      "---------------------------------\n",
      "| batch_size        | 2048      |\n",
      "| bc/               |           |\n",
      "|    batch          | 5339      |\n",
      "|    ent_loss       | -0.000315 |\n",
      "|    entropy        | 0.315     |\n",
      "|    epoch          | 534       |\n",
      "|    l2_loss        | 0         |\n",
      "|    l2_norm        | 4.88e+03  |\n",
      "|    loss           | 0.784     |\n",
      "|    neglogp        | 0.785     |\n",
      "|    prob_true_act  | 0.781     |\n",
      "|    samples_so_far | 10936320  |\n",
      "---------------------------------\n"
     ]
    },
    {
     "name": "stderr",
     "output_type": "stream",
     "text": [
      "5350batch [32:18,  2.95batch/s]"
     ]
    },
    {
     "name": "stdout",
     "output_type": "stream",
     "text": [
      "---------------------------------\n",
      "| batch_size        | 2048      |\n",
      "| bc/               |           |\n",
      "|    batch          | 5349      |\n",
      "|    ent_loss       | -0.000316 |\n",
      "|    entropy        | 0.316     |\n",
      "|    epoch          | 535       |\n",
      "|    l2_loss        | 0         |\n",
      "|    l2_norm        | 4.88e+03  |\n",
      "|    loss           | 0.812     |\n",
      "|    neglogp        | 0.812     |\n",
      "|    prob_true_act  | 0.773     |\n",
      "|    samples_so_far | 10956800  |\n",
      "---------------------------------\n"
     ]
    },
    {
     "name": "stderr",
     "output_type": "stream",
     "text": [
      "5360batch [32:22,  2.62batch/s]"
     ]
    },
    {
     "name": "stdout",
     "output_type": "stream",
     "text": [
      "---------------------------------\n",
      "| batch_size        | 2048      |\n",
      "| bc/               |           |\n",
      "|    batch          | 5359      |\n",
      "|    ent_loss       | -0.000318 |\n",
      "|    entropy        | 0.318     |\n",
      "|    epoch          | 536       |\n",
      "|    l2_loss        | 0         |\n",
      "|    l2_norm        | 4.88e+03  |\n",
      "|    loss           | 0.757     |\n",
      "|    neglogp        | 0.757     |\n",
      "|    prob_true_act  | 0.789     |\n",
      "|    samples_so_far | 10977280  |\n",
      "---------------------------------\n"
     ]
    },
    {
     "name": "stderr",
     "output_type": "stream",
     "text": [
      "5370batch [32:26,  2.91batch/s]"
     ]
    },
    {
     "name": "stdout",
     "output_type": "stream",
     "text": [
      "--------------------------------\n",
      "| batch_size        | 2048     |\n",
      "| bc/               |          |\n",
      "|    batch          | 5369     |\n",
      "|    ent_loss       | -0.00032 |\n",
      "|    entropy        | 0.32     |\n",
      "|    epoch          | 537      |\n",
      "|    l2_loss        | 0        |\n",
      "|    l2_norm        | 4.88e+03 |\n",
      "|    loss           | 0.687    |\n",
      "|    neglogp        | 0.688    |\n",
      "|    prob_true_act  | 0.796    |\n",
      "|    samples_so_far | 10997760 |\n",
      "--------------------------------\n"
     ]
    },
    {
     "name": "stderr",
     "output_type": "stream",
     "text": [
      "5380batch [32:29,  3.00batch/s]"
     ]
    },
    {
     "name": "stdout",
     "output_type": "stream",
     "text": [
      "---------------------------------\n",
      "| batch_size        | 2048      |\n",
      "| bc/               |           |\n",
      "|    batch          | 5379      |\n",
      "|    ent_loss       | -0.000322 |\n",
      "|    entropy        | 0.322     |\n",
      "|    epoch          | 538       |\n",
      "|    l2_loss        | 0         |\n",
      "|    l2_norm        | 4.88e+03  |\n",
      "|    loss           | 0.762     |\n",
      "|    neglogp        | 0.763     |\n",
      "|    prob_true_act  | 0.781     |\n",
      "|    samples_so_far | 11018240  |\n",
      "---------------------------------\n"
     ]
    },
    {
     "name": "stderr",
     "output_type": "stream",
     "text": [
      "5390batch [32:33,  3.00batch/s]"
     ]
    },
    {
     "name": "stdout",
     "output_type": "stream",
     "text": [
      "---------------------------------\n",
      "| batch_size        | 2048      |\n",
      "| bc/               |           |\n",
      "|    batch          | 5389      |\n",
      "|    ent_loss       | -0.000324 |\n",
      "|    entropy        | 0.324     |\n",
      "|    epoch          | 539       |\n",
      "|    l2_loss        | 0         |\n",
      "|    l2_norm        | 4.88e+03  |\n",
      "|    loss           | 0.797     |\n",
      "|    neglogp        | 0.798     |\n",
      "|    prob_true_act  | 0.777     |\n",
      "|    samples_so_far | 11038720  |\n",
      "---------------------------------\n"
     ]
    },
    {
     "name": "stderr",
     "output_type": "stream",
     "text": [
      "5400batch [32:37,  2.92batch/s]"
     ]
    },
    {
     "name": "stdout",
     "output_type": "stream",
     "text": [
      "---------------------------------\n",
      "| batch_size        | 2048      |\n",
      "| bc/               |           |\n",
      "|    batch          | 5399      |\n",
      "|    ent_loss       | -0.000326 |\n",
      "|    entropy        | 0.326     |\n",
      "|    epoch          | 540       |\n",
      "|    l2_loss        | 0         |\n",
      "|    l2_norm        | 4.88e+03  |\n",
      "|    loss           | 0.813     |\n",
      "|    neglogp        | 0.813     |\n",
      "|    prob_true_act  | 0.775     |\n",
      "|    samples_so_far | 11059200  |\n",
      "---------------------------------\n"
     ]
    },
    {
     "name": "stderr",
     "output_type": "stream",
     "text": [
      "5410batch [32:40,  3.01batch/s]"
     ]
    },
    {
     "name": "stdout",
     "output_type": "stream",
     "text": [
      "---------------------------------\n",
      "| batch_size        | 2048      |\n",
      "| bc/               |           |\n",
      "|    batch          | 5409      |\n",
      "|    ent_loss       | -0.000328 |\n",
      "|    entropy        | 0.328     |\n",
      "|    epoch          | 541       |\n",
      "|    l2_loss        | 0         |\n",
      "|    l2_norm        | 4.88e+03  |\n",
      "|    loss           | 0.76      |\n",
      "|    neglogp        | 0.76      |\n",
      "|    prob_true_act  | 0.773     |\n",
      "|    samples_so_far | 11079680  |\n",
      "---------------------------------\n"
     ]
    },
    {
     "name": "stderr",
     "output_type": "stream",
     "text": [
      "5420batch [32:44,  3.00batch/s]"
     ]
    },
    {
     "name": "stdout",
     "output_type": "stream",
     "text": [
      "--------------------------------\n",
      "| batch_size        | 2048     |\n",
      "| bc/               |          |\n",
      "|    batch          | 5419     |\n",
      "|    ent_loss       | -0.00033 |\n",
      "|    entropy        | 0.33     |\n",
      "|    epoch          | 542      |\n",
      "|    l2_loss        | 0        |\n",
      "|    l2_norm        | 4.88e+03 |\n",
      "|    loss           | 0.707    |\n",
      "|    neglogp        | 0.707    |\n",
      "|    prob_true_act  | 0.802    |\n",
      "|    samples_so_far | 11100160 |\n",
      "--------------------------------\n"
     ]
    },
    {
     "name": "stderr",
     "output_type": "stream",
     "text": [
      "5430batch [32:47,  2.99batch/s]"
     ]
    },
    {
     "name": "stdout",
     "output_type": "stream",
     "text": [
      "---------------------------------\n",
      "| batch_size        | 2048      |\n",
      "| bc/               |           |\n",
      "|    batch          | 5429      |\n",
      "|    ent_loss       | -0.000331 |\n",
      "|    entropy        | 0.331     |\n",
      "|    epoch          | 543       |\n",
      "|    l2_loss        | 0         |\n",
      "|    l2_norm        | 4.88e+03  |\n",
      "|    loss           | 0.718     |\n",
      "|    neglogp        | 0.719     |\n",
      "|    prob_true_act  | 0.79      |\n",
      "|    samples_so_far | 11120640  |\n",
      "---------------------------------\n"
     ]
    },
    {
     "name": "stderr",
     "output_type": "stream",
     "text": [
      "5440batch [32:51,  2.96batch/s]"
     ]
    },
    {
     "name": "stdout",
     "output_type": "stream",
     "text": [
      "---------------------------------\n",
      "| batch_size        | 2048      |\n",
      "| bc/               |           |\n",
      "|    batch          | 5439      |\n",
      "|    ent_loss       | -0.000333 |\n",
      "|    entropy        | 0.333     |\n",
      "|    epoch          | 544       |\n",
      "|    l2_loss        | 0         |\n",
      "|    l2_norm        | 4.88e+03  |\n",
      "|    loss           | 0.8       |\n",
      "|    neglogp        | 0.8       |\n",
      "|    prob_true_act  | 0.777     |\n",
      "|    samples_so_far | 11141120  |\n",
      "---------------------------------\n"
     ]
    },
    {
     "name": "stderr",
     "output_type": "stream",
     "text": [
      "5450batch [32:54,  3.00batch/s]"
     ]
    },
    {
     "name": "stdout",
     "output_type": "stream",
     "text": [
      "---------------------------------\n",
      "| batch_size        | 2048      |\n",
      "| bc/               |           |\n",
      "|    batch          | 5449      |\n",
      "|    ent_loss       | -0.000335 |\n",
      "|    entropy        | 0.335     |\n",
      "|    epoch          | 545       |\n",
      "|    l2_loss        | 0         |\n",
      "|    l2_norm        | 4.88e+03  |\n",
      "|    loss           | 0.804     |\n",
      "|    neglogp        | 0.805     |\n",
      "|    prob_true_act  | 0.778     |\n",
      "|    samples_so_far | 11161600  |\n",
      "---------------------------------\n"
     ]
    },
    {
     "name": "stderr",
     "output_type": "stream",
     "text": [
      "5460batch [32:58,  2.94batch/s]"
     ]
    },
    {
     "name": "stdout",
     "output_type": "stream",
     "text": [
      "---------------------------------\n",
      "| batch_size        | 2048      |\n",
      "| bc/               |           |\n",
      "|    batch          | 5459      |\n",
      "|    ent_loss       | -0.000337 |\n",
      "|    entropy        | 0.337     |\n",
      "|    epoch          | 546       |\n",
      "|    l2_loss        | 0         |\n",
      "|    l2_norm        | 4.88e+03  |\n",
      "|    loss           | 0.758     |\n",
      "|    neglogp        | 0.758     |\n",
      "|    prob_true_act  | 0.778     |\n",
      "|    samples_so_far | 11182080  |\n",
      "---------------------------------\n"
     ]
    },
    {
     "name": "stderr",
     "output_type": "stream",
     "text": [
      "5470batch [33:01,  2.96batch/s]"
     ]
    },
    {
     "name": "stdout",
     "output_type": "stream",
     "text": [
      "---------------------------------\n",
      "| batch_size        | 2048      |\n",
      "| bc/               |           |\n",
      "|    batch          | 5469      |\n",
      "|    ent_loss       | -0.000339 |\n",
      "|    entropy        | 0.339     |\n",
      "|    epoch          | 547       |\n",
      "|    l2_loss        | 0         |\n",
      "|    l2_norm        | 4.88e+03  |\n",
      "|    loss           | 0.765     |\n",
      "|    neglogp        | 0.765     |\n",
      "|    prob_true_act  | 0.782     |\n",
      "|    samples_so_far | 11202560  |\n",
      "---------------------------------\n"
     ]
    },
    {
     "name": "stderr",
     "output_type": "stream",
     "text": [
      "5480batch [33:05,  3.02batch/s]"
     ]
    },
    {
     "name": "stdout",
     "output_type": "stream",
     "text": [
      "--------------------------------\n",
      "| batch_size        | 2048     |\n",
      "| bc/               |          |\n",
      "|    batch          | 5479     |\n",
      "|    ent_loss       | -0.00034 |\n",
      "|    entropy        | 0.34     |\n",
      "|    epoch          | 548      |\n",
      "|    l2_loss        | 0        |\n",
      "|    l2_norm        | 4.88e+03 |\n",
      "|    loss           | 0.769    |\n",
      "|    neglogp        | 0.769    |\n",
      "|    prob_true_act  | 0.778    |\n",
      "|    samples_so_far | 11223040 |\n",
      "--------------------------------\n"
     ]
    },
    {
     "name": "stderr",
     "output_type": "stream",
     "text": [
      "5490batch [33:08,  2.99batch/s]"
     ]
    },
    {
     "name": "stdout",
     "output_type": "stream",
     "text": [
      "---------------------------------\n",
      "| batch_size        | 2048      |\n",
      "| bc/               |           |\n",
      "|    batch          | 5489      |\n",
      "|    ent_loss       | -0.000342 |\n",
      "|    entropy        | 0.342     |\n",
      "|    epoch          | 549       |\n",
      "|    l2_loss        | 0         |\n",
      "|    l2_norm        | 4.88e+03  |\n",
      "|    loss           | 0.691     |\n",
      "|    neglogp        | 0.692     |\n",
      "|    prob_true_act  | 0.788     |\n",
      "|    samples_so_far | 11243520  |\n",
      "---------------------------------\n"
     ]
    },
    {
     "name": "stderr",
     "output_type": "stream",
     "text": [
      "5500batch [33:12,  2.92batch/s]"
     ]
    },
    {
     "name": "stdout",
     "output_type": "stream",
     "text": [
      "---------------------------------\n",
      "| batch_size        | 2048      |\n",
      "| bc/               |           |\n",
      "|    batch          | 5499      |\n",
      "|    ent_loss       | -0.000344 |\n",
      "|    entropy        | 0.344     |\n",
      "|    epoch          | 550       |\n",
      "|    l2_loss        | 0         |\n",
      "|    l2_norm        | 4.88e+03  |\n",
      "|    loss           | 0.65      |\n",
      "|    neglogp        | 0.65      |\n",
      "|    prob_true_act  | 0.799     |\n",
      "|    samples_so_far | 11264000  |\n",
      "---------------------------------\n"
     ]
    },
    {
     "name": "stderr",
     "output_type": "stream",
     "text": [
      "5510batch [33:16,  2.97batch/s]"
     ]
    },
    {
     "name": "stdout",
     "output_type": "stream",
     "text": [
      "---------------------------------\n",
      "| batch_size        | 2048      |\n",
      "| bc/               |           |\n",
      "|    batch          | 5509      |\n",
      "|    ent_loss       | -0.000346 |\n",
      "|    entropy        | 0.346     |\n",
      "|    epoch          | 551       |\n",
      "|    l2_loss        | 0         |\n",
      "|    l2_norm        | 4.88e+03  |\n",
      "|    loss           | 0.721     |\n",
      "|    neglogp        | 0.722     |\n",
      "|    prob_true_act  | 0.784     |\n",
      "|    samples_so_far | 11284480  |\n",
      "---------------------------------\n"
     ]
    },
    {
     "name": "stderr",
     "output_type": "stream",
     "text": [
      "5520batch [33:19,  2.97batch/s]"
     ]
    },
    {
     "name": "stdout",
     "output_type": "stream",
     "text": [
      "---------------------------------\n",
      "| batch_size        | 2048      |\n",
      "| bc/               |           |\n",
      "|    batch          | 5519      |\n",
      "|    ent_loss       | -0.000348 |\n",
      "|    entropy        | 0.348     |\n",
      "|    epoch          | 552       |\n",
      "|    l2_loss        | 0         |\n",
      "|    l2_norm        | 4.88e+03  |\n",
      "|    loss           | 0.709     |\n",
      "|    neglogp        | 0.71      |\n",
      "|    prob_true_act  | 0.784     |\n",
      "|    samples_so_far | 11304960  |\n",
      "---------------------------------\n"
     ]
    },
    {
     "name": "stderr",
     "output_type": "stream",
     "text": [
      "5530batch [33:23,  2.98batch/s]"
     ]
    },
    {
     "name": "stdout",
     "output_type": "stream",
     "text": [
      "---------------------------------\n",
      "| batch_size        | 2048      |\n",
      "| bc/               |           |\n",
      "|    batch          | 5529      |\n",
      "|    ent_loss       | -0.000349 |\n",
      "|    entropy        | 0.349     |\n",
      "|    epoch          | 553       |\n",
      "|    l2_loss        | 0         |\n",
      "|    l2_norm        | 4.88e+03  |\n",
      "|    loss           | 0.775     |\n",
      "|    neglogp        | 0.775     |\n",
      "|    prob_true_act  | 0.777     |\n",
      "|    samples_so_far | 11325440  |\n",
      "---------------------------------\n"
     ]
    },
    {
     "name": "stderr",
     "output_type": "stream",
     "text": [
      "5540batch [33:26,  3.00batch/s]"
     ]
    },
    {
     "name": "stdout",
     "output_type": "stream",
     "text": [
      "---------------------------------\n",
      "| batch_size        | 2048      |\n",
      "| bc/               |           |\n",
      "|    batch          | 5539      |\n",
      "|    ent_loss       | -0.000351 |\n",
      "|    entropy        | 0.351     |\n",
      "|    epoch          | 554       |\n",
      "|    l2_loss        | 0         |\n",
      "|    l2_norm        | 4.88e+03  |\n",
      "|    loss           | 0.717     |\n",
      "|    neglogp        | 0.717     |\n",
      "|    prob_true_act  | 0.789     |\n",
      "|    samples_so_far | 11345920  |\n",
      "---------------------------------\n"
     ]
    },
    {
     "name": "stderr",
     "output_type": "stream",
     "text": [
      "5550batch [33:30,  2.94batch/s]"
     ]
    },
    {
     "name": "stdout",
     "output_type": "stream",
     "text": [
      "---------------------------------\n",
      "| batch_size        | 2048      |\n",
      "| bc/               |           |\n",
      "|    batch          | 5549      |\n",
      "|    ent_loss       | -0.000353 |\n",
      "|    entropy        | 0.353     |\n",
      "|    epoch          | 555       |\n",
      "|    l2_loss        | 0         |\n",
      "|    l2_norm        | 4.88e+03  |\n",
      "|    loss           | 0.681     |\n",
      "|    neglogp        | 0.682     |\n",
      "|    prob_true_act  | 0.794     |\n",
      "|    samples_so_far | 11366400  |\n",
      "---------------------------------\n"
     ]
    },
    {
     "name": "stderr",
     "output_type": "stream",
     "text": [
      "5560batch [33:33,  3.00batch/s]"
     ]
    },
    {
     "name": "stdout",
     "output_type": "stream",
     "text": [
      "---------------------------------\n",
      "| batch_size        | 2048      |\n",
      "| bc/               |           |\n",
      "|    batch          | 5559      |\n",
      "|    ent_loss       | -0.000355 |\n",
      "|    entropy        | 0.355     |\n",
      "|    epoch          | 556       |\n",
      "|    l2_loss        | 0         |\n",
      "|    l2_norm        | 4.88e+03  |\n",
      "|    loss           | 0.748     |\n",
      "|    neglogp        | 0.748     |\n",
      "|    prob_true_act  | 0.782     |\n",
      "|    samples_so_far | 11386880  |\n",
      "---------------------------------\n"
     ]
    },
    {
     "name": "stderr",
     "output_type": "stream",
     "text": [
      "5570batch [33:37,  3.00batch/s]"
     ]
    },
    {
     "name": "stdout",
     "output_type": "stream",
     "text": [
      "---------------------------------\n",
      "| batch_size        | 2048      |\n",
      "| bc/               |           |\n",
      "|    batch          | 5569      |\n",
      "|    ent_loss       | -0.000356 |\n",
      "|    entropy        | 0.356     |\n",
      "|    epoch          | 557       |\n",
      "|    l2_loss        | 0         |\n",
      "|    l2_norm        | 4.88e+03  |\n",
      "|    loss           | 0.74      |\n",
      "|    neglogp        | 0.74      |\n",
      "|    prob_true_act  | 0.786     |\n",
      "|    samples_so_far | 11407360  |\n",
      "---------------------------------\n"
     ]
    },
    {
     "name": "stderr",
     "output_type": "stream",
     "text": [
      "5580batch [33:40,  3.00batch/s]"
     ]
    },
    {
     "name": "stdout",
     "output_type": "stream",
     "text": [
      "---------------------------------\n",
      "| batch_size        | 2048      |\n",
      "| bc/               |           |\n",
      "|    batch          | 5579      |\n",
      "|    ent_loss       | -0.000358 |\n",
      "|    entropy        | 0.358     |\n",
      "|    epoch          | 558       |\n",
      "|    l2_loss        | 0         |\n",
      "|    l2_norm        | 4.88e+03  |\n",
      "|    loss           | 0.748     |\n",
      "|    neglogp        | 0.748     |\n",
      "|    prob_true_act  | 0.786     |\n",
      "|    samples_so_far | 11427840  |\n",
      "---------------------------------\n"
     ]
    },
    {
     "name": "stderr",
     "output_type": "stream",
     "text": [
      "5590batch [33:44,  2.96batch/s]"
     ]
    },
    {
     "name": "stdout",
     "output_type": "stream",
     "text": [
      "--------------------------------\n",
      "| batch_size        | 2048     |\n",
      "| bc/               |          |\n",
      "|    batch          | 5589     |\n",
      "|    ent_loss       | -0.00036 |\n",
      "|    entropy        | 0.36     |\n",
      "|    epoch          | 559      |\n",
      "|    l2_loss        | 0        |\n",
      "|    l2_norm        | 4.88e+03 |\n",
      "|    loss           | 0.733    |\n",
      "|    neglogp        | 0.734    |\n",
      "|    prob_true_act  | 0.787    |\n",
      "|    samples_so_far | 11448320 |\n",
      "--------------------------------\n"
     ]
    },
    {
     "name": "stderr",
     "output_type": "stream",
     "text": [
      "5600batch [33:47,  3.02batch/s]"
     ]
    },
    {
     "name": "stdout",
     "output_type": "stream",
     "text": [
      "---------------------------------\n",
      "| batch_size        | 2048      |\n",
      "| bc/               |           |\n",
      "|    batch          | 5599      |\n",
      "|    ent_loss       | -0.000362 |\n",
      "|    entropy        | 0.362     |\n",
      "|    epoch          | 560       |\n",
      "|    l2_loss        | 0         |\n",
      "|    l2_norm        | 4.88e+03  |\n",
      "|    loss           | 0.744     |\n",
      "|    neglogp        | 0.745     |\n",
      "|    prob_true_act  | 0.782     |\n",
      "|    samples_so_far | 11468800  |\n",
      "---------------------------------\n"
     ]
    },
    {
     "name": "stderr",
     "output_type": "stream",
     "text": [
      "5610batch [33:51,  2.98batch/s]"
     ]
    },
    {
     "name": "stdout",
     "output_type": "stream",
     "text": [
      "---------------------------------\n",
      "| batch_size        | 2048      |\n",
      "| bc/               |           |\n",
      "|    batch          | 5609      |\n",
      "|    ent_loss       | -0.000363 |\n",
      "|    entropy        | 0.363     |\n",
      "|    epoch          | 561       |\n",
      "|    l2_loss        | 0         |\n",
      "|    l2_norm        | 4.88e+03  |\n",
      "|    loss           | 0.785     |\n",
      "|    neglogp        | 0.786     |\n",
      "|    prob_true_act  | 0.771     |\n",
      "|    samples_so_far | 11489280  |\n",
      "---------------------------------\n"
     ]
    },
    {
     "name": "stderr",
     "output_type": "stream",
     "text": [
      "5620batch [33:54,  2.97batch/s]"
     ]
    },
    {
     "name": "stdout",
     "output_type": "stream",
     "text": [
      "---------------------------------\n",
      "| batch_size        | 2048      |\n",
      "| bc/               |           |\n",
      "|    batch          | 5619      |\n",
      "|    ent_loss       | -0.000365 |\n",
      "|    entropy        | 0.365     |\n",
      "|    epoch          | 562       |\n",
      "|    l2_loss        | 0         |\n",
      "|    l2_norm        | 4.88e+03  |\n",
      "|    loss           | 0.669     |\n",
      "|    neglogp        | 0.669     |\n",
      "|    prob_true_act  | 0.79      |\n",
      "|    samples_so_far | 11509760  |\n",
      "---------------------------------\n"
     ]
    },
    {
     "name": "stderr",
     "output_type": "stream",
     "text": [
      "5630batch [33:58,  2.98batch/s]"
     ]
    },
    {
     "name": "stdout",
     "output_type": "stream",
     "text": [
      "---------------------------------\n",
      "| batch_size        | 2048      |\n",
      "| bc/               |           |\n",
      "|    batch          | 5629      |\n",
      "|    ent_loss       | -0.000367 |\n",
      "|    entropy        | 0.367     |\n",
      "|    epoch          | 563       |\n",
      "|    l2_loss        | 0         |\n",
      "|    l2_norm        | 4.88e+03  |\n",
      "|    loss           | 0.829     |\n",
      "|    neglogp        | 0.829     |\n",
      "|    prob_true_act  | 0.767     |\n",
      "|    samples_so_far | 11530240  |\n",
      "---------------------------------\n"
     ]
    },
    {
     "name": "stderr",
     "output_type": "stream",
     "text": [
      "5640batch [34:01,  2.90batch/s]"
     ]
    },
    {
     "name": "stdout",
     "output_type": "stream",
     "text": [
      "---------------------------------\n",
      "| batch_size        | 2048      |\n",
      "| bc/               |           |\n",
      "|    batch          | 5639      |\n",
      "|    ent_loss       | -0.000369 |\n",
      "|    entropy        | 0.369     |\n",
      "|    epoch          | 564       |\n",
      "|    l2_loss        | 0         |\n",
      "|    l2_norm        | 4.88e+03  |\n",
      "|    loss           | 0.726     |\n",
      "|    neglogp        | 0.726     |\n",
      "|    prob_true_act  | 0.778     |\n",
      "|    samples_so_far | 11550720  |\n",
      "---------------------------------\n"
     ]
    },
    {
     "name": "stderr",
     "output_type": "stream",
     "text": [
      "5650batch [34:05,  2.92batch/s]"
     ]
    },
    {
     "name": "stdout",
     "output_type": "stream",
     "text": [
      "--------------------------------\n",
      "| batch_size        | 2048     |\n",
      "| bc/               |          |\n",
      "|    batch          | 5649     |\n",
      "|    ent_loss       | -0.00037 |\n",
      "|    entropy        | 0.37     |\n",
      "|    epoch          | 565      |\n",
      "|    l2_loss        | 0        |\n",
      "|    l2_norm        | 4.88e+03 |\n",
      "|    loss           | 0.688    |\n",
      "|    neglogp        | 0.689    |\n",
      "|    prob_true_act  | 0.787    |\n",
      "|    samples_so_far | 11571200 |\n",
      "--------------------------------\n"
     ]
    },
    {
     "name": "stderr",
     "output_type": "stream",
     "text": [
      "5660batch [34:09,  2.97batch/s]"
     ]
    },
    {
     "name": "stdout",
     "output_type": "stream",
     "text": [
      "---------------------------------\n",
      "| batch_size        | 2048      |\n",
      "| bc/               |           |\n",
      "|    batch          | 5659      |\n",
      "|    ent_loss       | -0.000372 |\n",
      "|    entropy        | 0.372     |\n",
      "|    epoch          | 566       |\n",
      "|    l2_loss        | 0         |\n",
      "|    l2_norm        | 4.88e+03  |\n",
      "|    loss           | 0.638     |\n",
      "|    neglogp        | 0.639     |\n",
      "|    prob_true_act  | 0.803     |\n",
      "|    samples_so_far | 11591680  |\n",
      "---------------------------------\n"
     ]
    },
    {
     "name": "stderr",
     "output_type": "stream",
     "text": [
      "5670batch [34:12,  2.99batch/s]"
     ]
    },
    {
     "name": "stdout",
     "output_type": "stream",
     "text": [
      "---------------------------------\n",
      "| batch_size        | 2048      |\n",
      "| bc/               |           |\n",
      "|    batch          | 5669      |\n",
      "|    ent_loss       | -0.000374 |\n",
      "|    entropy        | 0.374     |\n",
      "|    epoch          | 567       |\n",
      "|    l2_loss        | 0         |\n",
      "|    l2_norm        | 4.88e+03  |\n",
      "|    loss           | 0.704     |\n",
      "|    neglogp        | 0.705     |\n",
      "|    prob_true_act  | 0.792     |\n",
      "|    samples_so_far | 11612160  |\n",
      "---------------------------------\n"
     ]
    },
    {
     "name": "stderr",
     "output_type": "stream",
     "text": [
      "5680batch [34:16,  2.97batch/s]"
     ]
    },
    {
     "name": "stdout",
     "output_type": "stream",
     "text": [
      "---------------------------------\n",
      "| batch_size        | 2048      |\n",
      "| bc/               |           |\n",
      "|    batch          | 5679      |\n",
      "|    ent_loss       | -0.000375 |\n",
      "|    entropy        | 0.375     |\n",
      "|    epoch          | 568       |\n",
      "|    l2_loss        | 0         |\n",
      "|    l2_norm        | 4.88e+03  |\n",
      "|    loss           | 0.748     |\n",
      "|    neglogp        | 0.748     |\n",
      "|    prob_true_act  | 0.78      |\n",
      "|    samples_so_far | 11632640  |\n",
      "---------------------------------\n"
     ]
    },
    {
     "name": "stderr",
     "output_type": "stream",
     "text": [
      "5690batch [34:19,  2.93batch/s]"
     ]
    },
    {
     "name": "stdout",
     "output_type": "stream",
     "text": [
      "---------------------------------\n",
      "| batch_size        | 2048      |\n",
      "| bc/               |           |\n",
      "|    batch          | 5689      |\n",
      "|    ent_loss       | -0.000377 |\n",
      "|    entropy        | 0.377     |\n",
      "|    epoch          | 569       |\n",
      "|    l2_loss        | 0         |\n",
      "|    l2_norm        | 4.88e+03  |\n",
      "|    loss           | 0.748     |\n",
      "|    neglogp        | 0.748     |\n",
      "|    prob_true_act  | 0.787     |\n",
      "|    samples_so_far | 11653120  |\n",
      "---------------------------------\n"
     ]
    },
    {
     "name": "stderr",
     "output_type": "stream",
     "text": [
      "5700batch [34:23,  2.99batch/s]"
     ]
    },
    {
     "name": "stdout",
     "output_type": "stream",
     "text": [
      "---------------------------------\n",
      "| batch_size        | 2048      |\n",
      "| bc/               |           |\n",
      "|    batch          | 5699      |\n",
      "|    ent_loss       | -0.000379 |\n",
      "|    entropy        | 0.379     |\n",
      "|    epoch          | 570       |\n",
      "|    l2_loss        | 0         |\n",
      "|    l2_norm        | 4.88e+03  |\n",
      "|    loss           | 0.645     |\n",
      "|    neglogp        | 0.646     |\n",
      "|    prob_true_act  | 0.798     |\n",
      "|    samples_so_far | 11673600  |\n",
      "---------------------------------\n"
     ]
    },
    {
     "name": "stderr",
     "output_type": "stream",
     "text": [
      "5710batch [34:26,  2.94batch/s]"
     ]
    },
    {
     "name": "stdout",
     "output_type": "stream",
     "text": [
      "---------------------------------\n",
      "| batch_size        | 2048      |\n",
      "| bc/               |           |\n",
      "|    batch          | 5709      |\n",
      "|    ent_loss       | -0.000381 |\n",
      "|    entropy        | 0.381     |\n",
      "|    epoch          | 571       |\n",
      "|    l2_loss        | 0         |\n",
      "|    l2_norm        | 4.88e+03  |\n",
      "|    loss           | 0.7       |\n",
      "|    neglogp        | 0.7       |\n",
      "|    prob_true_act  | 0.785     |\n",
      "|    samples_so_far | 11694080  |\n",
      "---------------------------------\n"
     ]
    },
    {
     "name": "stderr",
     "output_type": "stream",
     "text": [
      "5720batch [34:30,  3.01batch/s]"
     ]
    },
    {
     "name": "stdout",
     "output_type": "stream",
     "text": [
      "---------------------------------\n",
      "| batch_size        | 2048      |\n",
      "| bc/               |           |\n",
      "|    batch          | 5719      |\n",
      "|    ent_loss       | -0.000382 |\n",
      "|    entropy        | 0.382     |\n",
      "|    epoch          | 572       |\n",
      "|    l2_loss        | 0         |\n",
      "|    l2_norm        | 4.88e+03  |\n",
      "|    loss           | 0.656     |\n",
      "|    neglogp        | 0.657     |\n",
      "|    prob_true_act  | 0.798     |\n",
      "|    samples_so_far | 11714560  |\n",
      "---------------------------------\n"
     ]
    },
    {
     "name": "stderr",
     "output_type": "stream",
     "text": [
      "5730batch [34:33,  2.93batch/s]"
     ]
    },
    {
     "name": "stdout",
     "output_type": "stream",
     "text": [
      "---------------------------------\n",
      "| batch_size        | 2048      |\n",
      "| bc/               |           |\n",
      "|    batch          | 5729      |\n",
      "|    ent_loss       | -0.000384 |\n",
      "|    entropy        | 0.384     |\n",
      "|    epoch          | 573       |\n",
      "|    l2_loss        | 0         |\n",
      "|    l2_norm        | 4.88e+03  |\n",
      "|    loss           | 0.711     |\n",
      "|    neglogp        | 0.711     |\n",
      "|    prob_true_act  | 0.778     |\n",
      "|    samples_so_far | 11735040  |\n",
      "---------------------------------\n"
     ]
    },
    {
     "name": "stderr",
     "output_type": "stream",
     "text": [
      "5740batch [34:37,  2.95batch/s]"
     ]
    },
    {
     "name": "stdout",
     "output_type": "stream",
     "text": [
      "---------------------------------\n",
      "| batch_size        | 2048      |\n",
      "| bc/               |           |\n",
      "|    batch          | 5739      |\n",
      "|    ent_loss       | -0.000386 |\n",
      "|    entropy        | 0.386     |\n",
      "|    epoch          | 574       |\n",
      "|    l2_loss        | 0         |\n",
      "|    l2_norm        | 4.88e+03  |\n",
      "|    loss           | 0.713     |\n",
      "|    neglogp        | 0.713     |\n",
      "|    prob_true_act  | 0.787     |\n",
      "|    samples_so_far | 11755520  |\n",
      "---------------------------------\n"
     ]
    },
    {
     "name": "stderr",
     "output_type": "stream",
     "text": [
      "5750batch [34:41,  2.94batch/s]"
     ]
    },
    {
     "name": "stdout",
     "output_type": "stream",
     "text": [
      "---------------------------------\n",
      "| batch_size        | 2048      |\n",
      "| bc/               |           |\n",
      "|    batch          | 5749      |\n",
      "|    ent_loss       | -0.000387 |\n",
      "|    entropy        | 0.387     |\n",
      "|    epoch          | 575       |\n",
      "|    l2_loss        | 0         |\n",
      "|    l2_norm        | 4.88e+03  |\n",
      "|    loss           | 0.715     |\n",
      "|    neglogp        | 0.715     |\n",
      "|    prob_true_act  | 0.784     |\n",
      "|    samples_so_far | 11776000  |\n",
      "---------------------------------\n"
     ]
    },
    {
     "name": "stderr",
     "output_type": "stream",
     "text": [
      "5760batch [34:44,  2.72batch/s]"
     ]
    },
    {
     "name": "stdout",
     "output_type": "stream",
     "text": [
      "---------------------------------\n",
      "| batch_size        | 2048      |\n",
      "| bc/               |           |\n",
      "|    batch          | 5759      |\n",
      "|    ent_loss       | -0.000389 |\n",
      "|    entropy        | 0.389     |\n",
      "|    epoch          | 576       |\n",
      "|    l2_loss        | 0         |\n",
      "|    l2_norm        | 4.88e+03  |\n",
      "|    loss           | 0.69      |\n",
      "|    neglogp        | 0.691     |\n",
      "|    prob_true_act  | 0.787     |\n",
      "|    samples_so_far | 11796480  |\n",
      "---------------------------------\n"
     ]
    },
    {
     "name": "stderr",
     "output_type": "stream",
     "text": [
      "5770batch [34:48,  2.94batch/s]"
     ]
    },
    {
     "name": "stdout",
     "output_type": "stream",
     "text": [
      "---------------------------------\n",
      "| batch_size        | 2048      |\n",
      "| bc/               |           |\n",
      "|    batch          | 5769      |\n",
      "|    ent_loss       | -0.000391 |\n",
      "|    entropy        | 0.391     |\n",
      "|    epoch          | 577       |\n",
      "|    l2_loss        | 0         |\n",
      "|    l2_norm        | 4.88e+03  |\n",
      "|    loss           | 0.726     |\n",
      "|    neglogp        | 0.726     |\n",
      "|    prob_true_act  | 0.778     |\n",
      "|    samples_so_far | 11816960  |\n",
      "---------------------------------\n"
     ]
    },
    {
     "name": "stderr",
     "output_type": "stream",
     "text": [
      "5780batch [34:52,  2.99batch/s]"
     ]
    },
    {
     "name": "stdout",
     "output_type": "stream",
     "text": [
      "---------------------------------\n",
      "| batch_size        | 2048      |\n",
      "| bc/               |           |\n",
      "|    batch          | 5779      |\n",
      "|    ent_loss       | -0.000392 |\n",
      "|    entropy        | 0.392     |\n",
      "|    epoch          | 578       |\n",
      "|    l2_loss        | 0         |\n",
      "|    l2_norm        | 4.88e+03  |\n",
      "|    loss           | 0.73      |\n",
      "|    neglogp        | 0.731     |\n",
      "|    prob_true_act  | 0.777     |\n",
      "|    samples_so_far | 11837440  |\n",
      "---------------------------------\n"
     ]
    },
    {
     "name": "stderr",
     "output_type": "stream",
     "text": [
      "5790batch [34:55,  2.96batch/s]"
     ]
    },
    {
     "name": "stdout",
     "output_type": "stream",
     "text": [
      "---------------------------------\n",
      "| batch_size        | 2048      |\n",
      "| bc/               |           |\n",
      "|    batch          | 5789      |\n",
      "|    ent_loss       | -0.000394 |\n",
      "|    entropy        | 0.394     |\n",
      "|    epoch          | 579       |\n",
      "|    l2_loss        | 0         |\n",
      "|    l2_norm        | 4.88e+03  |\n",
      "|    loss           | 0.69      |\n",
      "|    neglogp        | 0.69      |\n",
      "|    prob_true_act  | 0.784     |\n",
      "|    samples_so_far | 11857920  |\n",
      "---------------------------------\n"
     ]
    },
    {
     "name": "stderr",
     "output_type": "stream",
     "text": [
      "5800batch [34:59,  2.89batch/s]"
     ]
    },
    {
     "name": "stdout",
     "output_type": "stream",
     "text": [
      "---------------------------------\n",
      "| batch_size        | 2048      |\n",
      "| bc/               |           |\n",
      "|    batch          | 5799      |\n",
      "|    ent_loss       | -0.000396 |\n",
      "|    entropy        | 0.396     |\n",
      "|    epoch          | 580       |\n",
      "|    l2_loss        | 0         |\n",
      "|    l2_norm        | 4.88e+03  |\n",
      "|    loss           | 0.697     |\n",
      "|    neglogp        | 0.697     |\n",
      "|    prob_true_act  | 0.79      |\n",
      "|    samples_so_far | 11878400  |\n",
      "---------------------------------\n"
     ]
    },
    {
     "name": "stderr",
     "output_type": "stream",
     "text": [
      "5810batch [35:02,  3.01batch/s]"
     ]
    },
    {
     "name": "stdout",
     "output_type": "stream",
     "text": [
      "---------------------------------\n",
      "| batch_size        | 2048      |\n",
      "| bc/               |           |\n",
      "|    batch          | 5809      |\n",
      "|    ent_loss       | -0.000397 |\n",
      "|    entropy        | 0.397     |\n",
      "|    epoch          | 581       |\n",
      "|    l2_loss        | 0         |\n",
      "|    l2_norm        | 4.88e+03  |\n",
      "|    loss           | 0.702     |\n",
      "|    neglogp        | 0.702     |\n",
      "|    prob_true_act  | 0.782     |\n",
      "|    samples_so_far | 11898880  |\n",
      "---------------------------------\n"
     ]
    },
    {
     "name": "stderr",
     "output_type": "stream",
     "text": [
      "5820batch [35:06,  2.93batch/s]"
     ]
    },
    {
     "name": "stdout",
     "output_type": "stream",
     "text": [
      "---------------------------------\n",
      "| batch_size        | 2048      |\n",
      "| bc/               |           |\n",
      "|    batch          | 5819      |\n",
      "|    ent_loss       | -0.000399 |\n",
      "|    entropy        | 0.399     |\n",
      "|    epoch          | 582       |\n",
      "|    l2_loss        | 0         |\n",
      "|    l2_norm        | 4.88e+03  |\n",
      "|    loss           | 0.673     |\n",
      "|    neglogp        | 0.674     |\n",
      "|    prob_true_act  | 0.784     |\n",
      "|    samples_so_far | 11919360  |\n",
      "---------------------------------\n"
     ]
    },
    {
     "name": "stderr",
     "output_type": "stream",
     "text": [
      "5830batch [35:10,  2.93batch/s]"
     ]
    },
    {
     "name": "stdout",
     "output_type": "stream",
     "text": [
      "--------------------------------\n",
      "| batch_size        | 2048     |\n",
      "| bc/               |          |\n",
      "|    batch          | 5829     |\n",
      "|    ent_loss       | -0.0004  |\n",
      "|    entropy        | 0.4      |\n",
      "|    epoch          | 583      |\n",
      "|    l2_loss        | 0        |\n",
      "|    l2_norm        | 4.88e+03 |\n",
      "|    loss           | 0.715    |\n",
      "|    neglogp        | 0.715    |\n",
      "|    prob_true_act  | 0.784    |\n",
      "|    samples_so_far | 11939840 |\n",
      "--------------------------------\n"
     ]
    },
    {
     "name": "stderr",
     "output_type": "stream",
     "text": [
      "5840batch [35:13,  2.96batch/s]"
     ]
    },
    {
     "name": "stdout",
     "output_type": "stream",
     "text": [
      "---------------------------------\n",
      "| batch_size        | 2048      |\n",
      "| bc/               |           |\n",
      "|    batch          | 5839      |\n",
      "|    ent_loss       | -0.000402 |\n",
      "|    entropy        | 0.402     |\n",
      "|    epoch          | 584       |\n",
      "|    l2_loss        | 0         |\n",
      "|    l2_norm        | 4.88e+03  |\n",
      "|    loss           | 0.724     |\n",
      "|    neglogp        | 0.725     |\n",
      "|    prob_true_act  | 0.778     |\n",
      "|    samples_so_far | 11960320  |\n",
      "---------------------------------\n"
     ]
    },
    {
     "name": "stderr",
     "output_type": "stream",
     "text": [
      "5850batch [35:17,  3.00batch/s]"
     ]
    },
    {
     "name": "stdout",
     "output_type": "stream",
     "text": [
      "---------------------------------\n",
      "| batch_size        | 2048      |\n",
      "| bc/               |           |\n",
      "|    batch          | 5849      |\n",
      "|    ent_loss       | -0.000404 |\n",
      "|    entropy        | 0.404     |\n",
      "|    epoch          | 585       |\n",
      "|    l2_loss        | 0         |\n",
      "|    l2_norm        | 4.88e+03  |\n",
      "|    loss           | 0.711     |\n",
      "|    neglogp        | 0.711     |\n",
      "|    prob_true_act  | 0.788     |\n",
      "|    samples_so_far | 11980800  |\n",
      "---------------------------------\n"
     ]
    },
    {
     "name": "stderr",
     "output_type": "stream",
     "text": [
      "5860batch [35:20,  2.96batch/s]"
     ]
    },
    {
     "name": "stdout",
     "output_type": "stream",
     "text": [
      "---------------------------------\n",
      "| batch_size        | 2048      |\n",
      "| bc/               |           |\n",
      "|    batch          | 5859      |\n",
      "|    ent_loss       | -0.000405 |\n",
      "|    entropy        | 0.405     |\n",
      "|    epoch          | 586       |\n",
      "|    l2_loss        | 0         |\n",
      "|    l2_norm        | 4.88e+03  |\n",
      "|    loss           | 0.797     |\n",
      "|    neglogp        | 0.798     |\n",
      "|    prob_true_act  | 0.764     |\n",
      "|    samples_so_far | 12001280  |\n",
      "---------------------------------\n"
     ]
    },
    {
     "name": "stderr",
     "output_type": "stream",
     "text": [
      "5870batch [35:24,  2.96batch/s]"
     ]
    },
    {
     "name": "stdout",
     "output_type": "stream",
     "text": [
      "---------------------------------\n",
      "| batch_size        | 2048      |\n",
      "| bc/               |           |\n",
      "|    batch          | 5869      |\n",
      "|    ent_loss       | -0.000407 |\n",
      "|    entropy        | 0.407     |\n",
      "|    epoch          | 587       |\n",
      "|    l2_loss        | 0         |\n",
      "|    l2_norm        | 4.88e+03  |\n",
      "|    loss           | 0.744     |\n",
      "|    neglogp        | 0.744     |\n",
      "|    prob_true_act  | 0.776     |\n",
      "|    samples_so_far | 12021760  |\n",
      "---------------------------------\n"
     ]
    },
    {
     "name": "stderr",
     "output_type": "stream",
     "text": [
      "5880batch [35:27,  2.99batch/s]"
     ]
    },
    {
     "name": "stdout",
     "output_type": "stream",
     "text": [
      "---------------------------------\n",
      "| batch_size        | 2048      |\n",
      "| bc/               |           |\n",
      "|    batch          | 5879      |\n",
      "|    ent_loss       | -0.000408 |\n",
      "|    entropy        | 0.408     |\n",
      "|    epoch          | 588       |\n",
      "|    l2_loss        | 0         |\n",
      "|    l2_norm        | 4.88e+03  |\n",
      "|    loss           | 0.684     |\n",
      "|    neglogp        | 0.684     |\n",
      "|    prob_true_act  | 0.789     |\n",
      "|    samples_so_far | 12042240  |\n",
      "---------------------------------\n"
     ]
    },
    {
     "name": "stderr",
     "output_type": "stream",
     "text": [
      "5890batch [35:31,  2.99batch/s]"
     ]
    },
    {
     "name": "stdout",
     "output_type": "stream",
     "text": [
      "--------------------------------\n",
      "| batch_size        | 2048     |\n",
      "| bc/               |          |\n",
      "|    batch          | 5889     |\n",
      "|    ent_loss       | -0.00041 |\n",
      "|    entropy        | 0.41     |\n",
      "|    epoch          | 589      |\n",
      "|    l2_loss        | 0        |\n",
      "|    l2_norm        | 4.88e+03 |\n",
      "|    loss           | 0.754    |\n",
      "|    neglogp        | 0.755    |\n",
      "|    prob_true_act  | 0.762    |\n",
      "|    samples_so_far | 12062720 |\n",
      "--------------------------------\n"
     ]
    },
    {
     "name": "stderr",
     "output_type": "stream",
     "text": [
      "5900batch [35:34,  2.94batch/s]"
     ]
    },
    {
     "name": "stdout",
     "output_type": "stream",
     "text": [
      "---------------------------------\n",
      "| batch_size        | 2048      |\n",
      "| bc/               |           |\n",
      "|    batch          | 5899      |\n",
      "|    ent_loss       | -0.000412 |\n",
      "|    entropy        | 0.412     |\n",
      "|    epoch          | 590       |\n",
      "|    l2_loss        | 0         |\n",
      "|    l2_norm        | 4.88e+03  |\n",
      "|    loss           | 0.701     |\n",
      "|    neglogp        | 0.702     |\n",
      "|    prob_true_act  | 0.784     |\n",
      "|    samples_so_far | 12083200  |\n",
      "---------------------------------\n"
     ]
    },
    {
     "name": "stderr",
     "output_type": "stream",
     "text": [
      "5910batch [35:38,  2.81batch/s]"
     ]
    },
    {
     "name": "stdout",
     "output_type": "stream",
     "text": [
      "---------------------------------\n",
      "| batch_size        | 2048      |\n",
      "| bc/               |           |\n",
      "|    batch          | 5909      |\n",
      "|    ent_loss       | -0.000413 |\n",
      "|    entropy        | 0.413     |\n",
      "|    epoch          | 591       |\n",
      "|    l2_loss        | 0         |\n",
      "|    l2_norm        | 4.88e+03  |\n",
      "|    loss           | 0.682     |\n",
      "|    neglogp        | 0.683     |\n",
      "|    prob_true_act  | 0.781     |\n",
      "|    samples_so_far | 12103680  |\n",
      "---------------------------------\n"
     ]
    },
    {
     "name": "stderr",
     "output_type": "stream",
     "text": [
      "5920batch [35:42,  2.82batch/s]"
     ]
    },
    {
     "name": "stdout",
     "output_type": "stream",
     "text": [
      "---------------------------------\n",
      "| batch_size        | 2048      |\n",
      "| bc/               |           |\n",
      "|    batch          | 5919      |\n",
      "|    ent_loss       | -0.000415 |\n",
      "|    entropy        | 0.415     |\n",
      "|    epoch          | 592       |\n",
      "|    l2_loss        | 0         |\n",
      "|    l2_norm        | 4.88e+03  |\n",
      "|    loss           | 0.679     |\n",
      "|    neglogp        | 0.68      |\n",
      "|    prob_true_act  | 0.786     |\n",
      "|    samples_so_far | 12124160  |\n",
      "---------------------------------\n"
     ]
    },
    {
     "name": "stderr",
     "output_type": "stream",
     "text": [
      "5930batch [35:45,  2.95batch/s]"
     ]
    },
    {
     "name": "stdout",
     "output_type": "stream",
     "text": [
      "---------------------------------\n",
      "| batch_size        | 2048      |\n",
      "| bc/               |           |\n",
      "|    batch          | 5929      |\n",
      "|    ent_loss       | -0.000416 |\n",
      "|    entropy        | 0.416     |\n",
      "|    epoch          | 593       |\n",
      "|    l2_loss        | 0         |\n",
      "|    l2_norm        | 4.88e+03  |\n",
      "|    loss           | 0.704     |\n",
      "|    neglogp        | 0.704     |\n",
      "|    prob_true_act  | 0.779     |\n",
      "|    samples_so_far | 12144640  |\n",
      "---------------------------------\n"
     ]
    },
    {
     "name": "stderr",
     "output_type": "stream",
     "text": [
      "5940batch [35:49,  2.96batch/s]"
     ]
    },
    {
     "name": "stdout",
     "output_type": "stream",
     "text": [
      "---------------------------------\n",
      "| batch_size        | 2048      |\n",
      "| bc/               |           |\n",
      "|    batch          | 5939      |\n",
      "|    ent_loss       | -0.000418 |\n",
      "|    entropy        | 0.418     |\n",
      "|    epoch          | 594       |\n",
      "|    l2_loss        | 0         |\n",
      "|    l2_norm        | 4.88e+03  |\n",
      "|    loss           | 0.679     |\n",
      "|    neglogp        | 0.68      |\n",
      "|    prob_true_act  | 0.784     |\n",
      "|    samples_so_far | 12165120  |\n",
      "---------------------------------\n"
     ]
    },
    {
     "name": "stderr",
     "output_type": "stream",
     "text": [
      "5950batch [35:52,  2.97batch/s]"
     ]
    },
    {
     "name": "stdout",
     "output_type": "stream",
     "text": [
      "---------------------------------\n",
      "| batch_size        | 2048      |\n",
      "| bc/               |           |\n",
      "|    batch          | 5949      |\n",
      "|    ent_loss       | -0.000419 |\n",
      "|    entropy        | 0.419     |\n",
      "|    epoch          | 595       |\n",
      "|    l2_loss        | 0         |\n",
      "|    l2_norm        | 4.88e+03  |\n",
      "|    loss           | 0.672     |\n",
      "|    neglogp        | 0.672     |\n",
      "|    prob_true_act  | 0.784     |\n",
      "|    samples_so_far | 12185600  |\n",
      "---------------------------------\n"
     ]
    },
    {
     "name": "stderr",
     "output_type": "stream",
     "text": [
      "5960batch [35:56,  2.63batch/s]"
     ]
    },
    {
     "name": "stdout",
     "output_type": "stream",
     "text": [
      "---------------------------------\n",
      "| batch_size        | 2048      |\n",
      "| bc/               |           |\n",
      "|    batch          | 5959      |\n",
      "|    ent_loss       | -0.000421 |\n",
      "|    entropy        | 0.421     |\n",
      "|    epoch          | 596       |\n",
      "|    l2_loss        | 0         |\n",
      "|    l2_norm        | 4.88e+03  |\n",
      "|    loss           | 0.683     |\n",
      "|    neglogp        | 0.683     |\n",
      "|    prob_true_act  | 0.792     |\n",
      "|    samples_so_far | 12206080  |\n",
      "---------------------------------\n"
     ]
    },
    {
     "name": "stderr",
     "output_type": "stream",
     "text": [
      "5970batch [36:00,  2.97batch/s]"
     ]
    },
    {
     "name": "stdout",
     "output_type": "stream",
     "text": [
      "---------------------------------\n",
      "| batch_size        | 2048      |\n",
      "| bc/               |           |\n",
      "|    batch          | 5969      |\n",
      "|    ent_loss       | -0.000422 |\n",
      "|    entropy        | 0.422     |\n",
      "|    epoch          | 597       |\n",
      "|    l2_loss        | 0         |\n",
      "|    l2_norm        | 4.88e+03  |\n",
      "|    loss           | 0.761     |\n",
      "|    neglogp        | 0.761     |\n",
      "|    prob_true_act  | 0.761     |\n",
      "|    samples_so_far | 12226560  |\n",
      "---------------------------------\n"
     ]
    },
    {
     "name": "stderr",
     "output_type": "stream",
     "text": [
      "5980batch [36:03,  2.95batch/s]"
     ]
    },
    {
     "name": "stdout",
     "output_type": "stream",
     "text": [
      "---------------------------------\n",
      "| batch_size        | 2048      |\n",
      "| bc/               |           |\n",
      "|    batch          | 5979      |\n",
      "|    ent_loss       | -0.000424 |\n",
      "|    entropy        | 0.424     |\n",
      "|    epoch          | 598       |\n",
      "|    l2_loss        | 0         |\n",
      "|    l2_norm        | 4.88e+03  |\n",
      "|    loss           | 0.73      |\n",
      "|    neglogp        | 0.73      |\n",
      "|    prob_true_act  | 0.77      |\n",
      "|    samples_so_far | 12247040  |\n",
      "---------------------------------\n"
     ]
    },
    {
     "name": "stderr",
     "output_type": "stream",
     "text": [
      "5990batch [36:07,  2.98batch/s]"
     ]
    },
    {
     "name": "stdout",
     "output_type": "stream",
     "text": [
      "---------------------------------\n",
      "| batch_size        | 2048      |\n",
      "| bc/               |           |\n",
      "|    batch          | 5989      |\n",
      "|    ent_loss       | -0.000426 |\n",
      "|    entropy        | 0.426     |\n",
      "|    epoch          | 599       |\n",
      "|    l2_loss        | 0         |\n",
      "|    l2_norm        | 4.88e+03  |\n",
      "|    loss           | 0.66      |\n",
      "|    neglogp        | 0.66      |\n",
      "|    prob_true_act  | 0.781     |\n",
      "|    samples_so_far | 12267520  |\n",
      "---------------------------------\n"
     ]
    },
    {
     "name": "stderr",
     "output_type": "stream",
     "text": [
      "6000batch [36:10,  2.99batch/s]"
     ]
    },
    {
     "name": "stdout",
     "output_type": "stream",
     "text": [
      "---------------------------------\n",
      "| batch_size        | 2048      |\n",
      "| bc/               |           |\n",
      "|    batch          | 5999      |\n",
      "|    ent_loss       | -0.000427 |\n",
      "|    entropy        | 0.427     |\n",
      "|    epoch          | 600       |\n",
      "|    l2_loss        | 0         |\n",
      "|    l2_norm        | 4.88e+03  |\n",
      "|    loss           | 0.718     |\n",
      "|    neglogp        | 0.718     |\n",
      "|    prob_true_act  | 0.774     |\n",
      "|    samples_so_far | 12288000  |\n",
      "---------------------------------\n"
     ]
    },
    {
     "name": "stderr",
     "output_type": "stream",
     "text": [
      "6010batch [36:14,  2.97batch/s]"
     ]
    },
    {
     "name": "stdout",
     "output_type": "stream",
     "text": [
      "---------------------------------\n",
      "| batch_size        | 2048      |\n",
      "| bc/               |           |\n",
      "|    batch          | 6009      |\n",
      "|    ent_loss       | -0.000429 |\n",
      "|    entropy        | 0.429     |\n",
      "|    epoch          | 601       |\n",
      "|    l2_loss        | 0         |\n",
      "|    l2_norm        | 4.88e+03  |\n",
      "|    loss           | 0.651     |\n",
      "|    neglogp        | 0.651     |\n",
      "|    prob_true_act  | 0.786     |\n",
      "|    samples_so_far | 12308480  |\n",
      "---------------------------------\n"
     ]
    },
    {
     "name": "stderr",
     "output_type": "stream",
     "text": [
      "6020batch [36:17,  2.86batch/s]"
     ]
    },
    {
     "name": "stdout",
     "output_type": "stream",
     "text": [
      "--------------------------------\n",
      "| batch_size        | 2048     |\n",
      "| bc/               |          |\n",
      "|    batch          | 6019     |\n",
      "|    ent_loss       | -0.00043 |\n",
      "|    entropy        | 0.43     |\n",
      "|    epoch          | 602      |\n",
      "|    l2_loss        | 0        |\n",
      "|    l2_norm        | 4.88e+03 |\n",
      "|    loss           | 0.693    |\n",
      "|    neglogp        | 0.693    |\n",
      "|    prob_true_act  | 0.777    |\n",
      "|    samples_so_far | 12328960 |\n",
      "--------------------------------\n"
     ]
    },
    {
     "name": "stderr",
     "output_type": "stream",
     "text": [
      "6030batch [36:21,  2.95batch/s]"
     ]
    },
    {
     "name": "stdout",
     "output_type": "stream",
     "text": [
      "---------------------------------\n",
      "| batch_size        | 2048      |\n",
      "| bc/               |           |\n",
      "|    batch          | 6029      |\n",
      "|    ent_loss       | -0.000432 |\n",
      "|    entropy        | 0.432     |\n",
      "|    epoch          | 603       |\n",
      "|    l2_loss        | 0         |\n",
      "|    l2_norm        | 4.88e+03  |\n",
      "|    loss           | 0.642     |\n",
      "|    neglogp        | 0.643     |\n",
      "|    prob_true_act  | 0.797     |\n",
      "|    samples_so_far | 12349440  |\n",
      "---------------------------------\n"
     ]
    },
    {
     "name": "stderr",
     "output_type": "stream",
     "text": [
      "6040batch [36:25,  2.93batch/s]"
     ]
    },
    {
     "name": "stdout",
     "output_type": "stream",
     "text": [
      "---------------------------------\n",
      "| batch_size        | 2048      |\n",
      "| bc/               |           |\n",
      "|    batch          | 6039      |\n",
      "|    ent_loss       | -0.000433 |\n",
      "|    entropy        | 0.433     |\n",
      "|    epoch          | 604       |\n",
      "|    l2_loss        | 0         |\n",
      "|    l2_norm        | 4.88e+03  |\n",
      "|    loss           | 0.667     |\n",
      "|    neglogp        | 0.667     |\n",
      "|    prob_true_act  | 0.781     |\n",
      "|    samples_so_far | 12369920  |\n",
      "---------------------------------\n"
     ]
    },
    {
     "name": "stderr",
     "output_type": "stream",
     "text": [
      "6050batch [36:29,  2.41batch/s]"
     ]
    },
    {
     "name": "stdout",
     "output_type": "stream",
     "text": [
      "---------------------------------\n",
      "| batch_size        | 2048      |\n",
      "| bc/               |           |\n",
      "|    batch          | 6049      |\n",
      "|    ent_loss       | -0.000435 |\n",
      "|    entropy        | 0.435     |\n",
      "|    epoch          | 605       |\n",
      "|    l2_loss        | 0         |\n",
      "|    l2_norm        | 4.88e+03  |\n",
      "|    loss           | 0.775     |\n",
      "|    neglogp        | 0.776     |\n",
      "|    prob_true_act  | 0.765     |\n",
      "|    samples_so_far | 12390400  |\n",
      "---------------------------------\n"
     ]
    },
    {
     "name": "stderr",
     "output_type": "stream",
     "text": [
      "6060batch [36:32,  2.85batch/s]"
     ]
    },
    {
     "name": "stdout",
     "output_type": "stream",
     "text": [
      "---------------------------------\n",
      "| batch_size        | 2048      |\n",
      "| bc/               |           |\n",
      "|    batch          | 6059      |\n",
      "|    ent_loss       | -0.000436 |\n",
      "|    entropy        | 0.436     |\n",
      "|    epoch          | 606       |\n",
      "|    l2_loss        | 0         |\n",
      "|    l2_norm        | 4.88e+03  |\n",
      "|    loss           | 0.739     |\n",
      "|    neglogp        | 0.74      |\n",
      "|    prob_true_act  | 0.767     |\n",
      "|    samples_so_far | 12410880  |\n",
      "---------------------------------\n"
     ]
    },
    {
     "name": "stderr",
     "output_type": "stream",
     "text": [
      "6070batch [36:36,  2.80batch/s]"
     ]
    },
    {
     "name": "stdout",
     "output_type": "stream",
     "text": [
      "---------------------------------\n",
      "| batch_size        | 2048      |\n",
      "| bc/               |           |\n",
      "|    batch          | 6069      |\n",
      "|    ent_loss       | -0.000438 |\n",
      "|    entropy        | 0.438     |\n",
      "|    epoch          | 607       |\n",
      "|    l2_loss        | 0         |\n",
      "|    l2_norm        | 4.88e+03  |\n",
      "|    loss           | 0.668     |\n",
      "|    neglogp        | 0.668     |\n",
      "|    prob_true_act  | 0.79      |\n",
      "|    samples_so_far | 12431360  |\n",
      "---------------------------------\n"
     ]
    },
    {
     "name": "stderr",
     "output_type": "stream",
     "text": [
      "6080batch [36:40,  2.95batch/s]"
     ]
    },
    {
     "name": "stdout",
     "output_type": "stream",
     "text": [
      "---------------------------------\n",
      "| batch_size        | 2048      |\n",
      "| bc/               |           |\n",
      "|    batch          | 6079      |\n",
      "|    ent_loss       | -0.000439 |\n",
      "|    entropy        | 0.439     |\n",
      "|    epoch          | 608       |\n",
      "|    l2_loss        | 0         |\n",
      "|    l2_norm        | 4.88e+03  |\n",
      "|    loss           | 0.742     |\n",
      "|    neglogp        | 0.742     |\n",
      "|    prob_true_act  | 0.765     |\n",
      "|    samples_so_far | 12451840  |\n",
      "---------------------------------\n"
     ]
    },
    {
     "name": "stderr",
     "output_type": "stream",
     "text": [
      "6090batch [36:43,  2.79batch/s]"
     ]
    },
    {
     "name": "stdout",
     "output_type": "stream",
     "text": [
      "---------------------------------\n",
      "| batch_size        | 2048      |\n",
      "| bc/               |           |\n",
      "|    batch          | 6089      |\n",
      "|    ent_loss       | -0.000441 |\n",
      "|    entropy        | 0.441     |\n",
      "|    epoch          | 609       |\n",
      "|    l2_loss        | 0         |\n",
      "|    l2_norm        | 4.88e+03  |\n",
      "|    loss           | 0.646     |\n",
      "|    neglogp        | 0.647     |\n",
      "|    prob_true_act  | 0.788     |\n",
      "|    samples_so_far | 12472320  |\n",
      "---------------------------------\n"
     ]
    },
    {
     "name": "stderr",
     "output_type": "stream",
     "text": [
      "6100batch [36:47,  2.86batch/s]"
     ]
    },
    {
     "name": "stdout",
     "output_type": "stream",
     "text": [
      "---------------------------------\n",
      "| batch_size        | 2048      |\n",
      "| bc/               |           |\n",
      "|    batch          | 6099      |\n",
      "|    ent_loss       | -0.000442 |\n",
      "|    entropy        | 0.442     |\n",
      "|    epoch          | 610       |\n",
      "|    l2_loss        | 0         |\n",
      "|    l2_norm        | 4.88e+03  |\n",
      "|    loss           | 0.702     |\n",
      "|    neglogp        | 0.703     |\n",
      "|    prob_true_act  | 0.778     |\n",
      "|    samples_so_far | 12492800  |\n",
      "---------------------------------\n"
     ]
    },
    {
     "name": "stderr",
     "output_type": "stream",
     "text": [
      "6110batch [36:51,  2.98batch/s]"
     ]
    },
    {
     "name": "stdout",
     "output_type": "stream",
     "text": [
      "---------------------------------\n",
      "| batch_size        | 2048      |\n",
      "| bc/               |           |\n",
      "|    batch          | 6109      |\n",
      "|    ent_loss       | -0.000444 |\n",
      "|    entropy        | 0.444     |\n",
      "|    epoch          | 611       |\n",
      "|    l2_loss        | 0         |\n",
      "|    l2_norm        | 4.88e+03  |\n",
      "|    loss           | 0.644     |\n",
      "|    neglogp        | 0.644     |\n",
      "|    prob_true_act  | 0.782     |\n",
      "|    samples_so_far | 12513280  |\n",
      "---------------------------------\n"
     ]
    },
    {
     "name": "stderr",
     "output_type": "stream",
     "text": [
      "6120batch [36:54,  2.95batch/s]"
     ]
    },
    {
     "name": "stdout",
     "output_type": "stream",
     "text": [
      "---------------------------------\n",
      "| batch_size        | 2048      |\n",
      "| bc/               |           |\n",
      "|    batch          | 6119      |\n",
      "|    ent_loss       | -0.000445 |\n",
      "|    entropy        | 0.445     |\n",
      "|    epoch          | 612       |\n",
      "|    l2_loss        | 0         |\n",
      "|    l2_norm        | 4.88e+03  |\n",
      "|    loss           | 0.706     |\n",
      "|    neglogp        | 0.706     |\n",
      "|    prob_true_act  | 0.774     |\n",
      "|    samples_so_far | 12533760  |\n",
      "---------------------------------\n"
     ]
    },
    {
     "name": "stderr",
     "output_type": "stream",
     "text": [
      "6130batch [36:58,  2.87batch/s]"
     ]
    },
    {
     "name": "stdout",
     "output_type": "stream",
     "text": [
      "---------------------------------\n",
      "| batch_size        | 2048      |\n",
      "| bc/               |           |\n",
      "|    batch          | 6129      |\n",
      "|    ent_loss       | -0.000447 |\n",
      "|    entropy        | 0.447     |\n",
      "|    epoch          | 613       |\n",
      "|    l2_loss        | 0         |\n",
      "|    l2_norm        | 4.88e+03  |\n",
      "|    loss           | 0.7       |\n",
      "|    neglogp        | 0.701     |\n",
      "|    prob_true_act  | 0.774     |\n",
      "|    samples_so_far | 12554240  |\n",
      "---------------------------------\n"
     ]
    },
    {
     "name": "stderr",
     "output_type": "stream",
     "text": [
      "6140batch [37:01,  2.98batch/s]"
     ]
    },
    {
     "name": "stdout",
     "output_type": "stream",
     "text": [
      "---------------------------------\n",
      "| batch_size        | 2048      |\n",
      "| bc/               |           |\n",
      "|    batch          | 6139      |\n",
      "|    ent_loss       | -0.000448 |\n",
      "|    entropy        | 0.448     |\n",
      "|    epoch          | 614       |\n",
      "|    l2_loss        | 0         |\n",
      "|    l2_norm        | 4.88e+03  |\n",
      "|    loss           | 0.713     |\n",
      "|    neglogp        | 0.714     |\n",
      "|    prob_true_act  | 0.773     |\n",
      "|    samples_so_far | 12574720  |\n",
      "---------------------------------\n"
     ]
    },
    {
     "name": "stderr",
     "output_type": "stream",
     "text": [
      "6150batch [37:05,  2.96batch/s]"
     ]
    },
    {
     "name": "stdout",
     "output_type": "stream",
     "text": [
      "---------------------------------\n",
      "| batch_size        | 2048      |\n",
      "| bc/               |           |\n",
      "|    batch          | 6149      |\n",
      "|    ent_loss       | -0.000449 |\n",
      "|    entropy        | 0.449     |\n",
      "|    epoch          | 615       |\n",
      "|    l2_loss        | 0         |\n",
      "|    l2_norm        | 4.88e+03  |\n",
      "|    loss           | 0.705     |\n",
      "|    neglogp        | 0.705     |\n",
      "|    prob_true_act  | 0.774     |\n",
      "|    samples_so_far | 12595200  |\n",
      "---------------------------------\n"
     ]
    },
    {
     "name": "stderr",
     "output_type": "stream",
     "text": [
      "6160batch [37:08,  2.99batch/s]"
     ]
    },
    {
     "name": "stdout",
     "output_type": "stream",
     "text": [
      "---------------------------------\n",
      "| batch_size        | 2048      |\n",
      "| bc/               |           |\n",
      "|    batch          | 6159      |\n",
      "|    ent_loss       | -0.000451 |\n",
      "|    entropy        | 0.451     |\n",
      "|    epoch          | 616       |\n",
      "|    l2_loss        | 0         |\n",
      "|    l2_norm        | 4.88e+03  |\n",
      "|    loss           | 0.682     |\n",
      "|    neglogp        | 0.682     |\n",
      "|    prob_true_act  | 0.778     |\n",
      "|    samples_so_far | 12615680  |\n",
      "---------------------------------\n"
     ]
    },
    {
     "name": "stderr",
     "output_type": "stream",
     "text": [
      "6170batch [37:12,  2.95batch/s]"
     ]
    },
    {
     "name": "stdout",
     "output_type": "stream",
     "text": [
      "---------------------------------\n",
      "| batch_size        | 2048      |\n",
      "| bc/               |           |\n",
      "|    batch          | 6169      |\n",
      "|    ent_loss       | -0.000452 |\n",
      "|    entropy        | 0.452     |\n",
      "|    epoch          | 617       |\n",
      "|    l2_loss        | 0         |\n",
      "|    l2_norm        | 4.88e+03  |\n",
      "|    loss           | 0.679     |\n",
      "|    neglogp        | 0.679     |\n",
      "|    prob_true_act  | 0.78      |\n",
      "|    samples_so_far | 12636160  |\n",
      "---------------------------------\n"
     ]
    },
    {
     "name": "stderr",
     "output_type": "stream",
     "text": [
      "6180batch [37:16,  2.10batch/s]"
     ]
    },
    {
     "name": "stdout",
     "output_type": "stream",
     "text": [
      "---------------------------------\n",
      "| batch_size        | 2048      |\n",
      "| bc/               |           |\n",
      "|    batch          | 6179      |\n",
      "|    ent_loss       | -0.000454 |\n",
      "|    entropy        | 0.454     |\n",
      "|    epoch          | 618       |\n",
      "|    l2_loss        | 0         |\n",
      "|    l2_norm        | 4.88e+03  |\n",
      "|    loss           | 0.723     |\n",
      "|    neglogp        | 0.724     |\n",
      "|    prob_true_act  | 0.769     |\n",
      "|    samples_so_far | 12656640  |\n",
      "---------------------------------\n"
     ]
    },
    {
     "name": "stderr",
     "output_type": "stream",
     "text": [
      "6190batch [37:20,  2.95batch/s]"
     ]
    },
    {
     "name": "stdout",
     "output_type": "stream",
     "text": [
      "---------------------------------\n",
      "| batch_size        | 2048      |\n",
      "| bc/               |           |\n",
      "|    batch          | 6189      |\n",
      "|    ent_loss       | -0.000455 |\n",
      "|    entropy        | 0.455     |\n",
      "|    epoch          | 619       |\n",
      "|    l2_loss        | 0         |\n",
      "|    l2_norm        | 4.88e+03  |\n",
      "|    loss           | 0.701     |\n",
      "|    neglogp        | 0.701     |\n",
      "|    prob_true_act  | 0.774     |\n",
      "|    samples_so_far | 12677120  |\n",
      "---------------------------------\n"
     ]
    },
    {
     "name": "stderr",
     "output_type": "stream",
     "text": [
      "6200batch [37:23,  3.01batch/s]"
     ]
    },
    {
     "name": "stdout",
     "output_type": "stream",
     "text": [
      "---------------------------------\n",
      "| batch_size        | 2048      |\n",
      "| bc/               |           |\n",
      "|    batch          | 6199      |\n",
      "|    ent_loss       | -0.000457 |\n",
      "|    entropy        | 0.457     |\n",
      "|    epoch          | 620       |\n",
      "|    l2_loss        | 0         |\n",
      "|    l2_norm        | 4.88e+03  |\n",
      "|    loss           | 0.69      |\n",
      "|    neglogp        | 0.69      |\n",
      "|    prob_true_act  | 0.772     |\n",
      "|    samples_so_far | 12697600  |\n",
      "---------------------------------\n"
     ]
    },
    {
     "name": "stderr",
     "output_type": "stream",
     "text": [
      "6210batch [37:27,  2.99batch/s]"
     ]
    },
    {
     "name": "stdout",
     "output_type": "stream",
     "text": [
      "---------------------------------\n",
      "| batch_size        | 2048      |\n",
      "| bc/               |           |\n",
      "|    batch          | 6209      |\n",
      "|    ent_loss       | -0.000458 |\n",
      "|    entropy        | 0.458     |\n",
      "|    epoch          | 621       |\n",
      "|    l2_loss        | 0         |\n",
      "|    l2_norm        | 4.88e+03  |\n",
      "|    loss           | 0.695     |\n",
      "|    neglogp        | 0.696     |\n",
      "|    prob_true_act  | 0.774     |\n",
      "|    samples_so_far | 12718080  |\n",
      "---------------------------------\n"
     ]
    },
    {
     "name": "stderr",
     "output_type": "stream",
     "text": [
      "6220batch [37:30,  3.00batch/s]"
     ]
    },
    {
     "name": "stdout",
     "output_type": "stream",
     "text": [
      "---------------------------------\n",
      "| batch_size        | 2048      |\n",
      "| bc/               |           |\n",
      "|    batch          | 6219      |\n",
      "|    ent_loss       | -0.000459 |\n",
      "|    entropy        | 0.459     |\n",
      "|    epoch          | 622       |\n",
      "|    l2_loss        | 0         |\n",
      "|    l2_norm        | 4.88e+03  |\n",
      "|    loss           | 0.722     |\n",
      "|    neglogp        | 0.722     |\n",
      "|    prob_true_act  | 0.772     |\n",
      "|    samples_so_far | 12738560  |\n",
      "---------------------------------\n"
     ]
    },
    {
     "name": "stderr",
     "output_type": "stream",
     "text": [
      "6230batch [37:34,  2.93batch/s]"
     ]
    },
    {
     "name": "stdout",
     "output_type": "stream",
     "text": [
      "---------------------------------\n",
      "| batch_size        | 2048      |\n",
      "| bc/               |           |\n",
      "|    batch          | 6229      |\n",
      "|    ent_loss       | -0.000461 |\n",
      "|    entropy        | 0.461     |\n",
      "|    epoch          | 623       |\n",
      "|    l2_loss        | 0         |\n",
      "|    l2_norm        | 4.88e+03  |\n",
      "|    loss           | 0.628     |\n",
      "|    neglogp        | 0.629     |\n",
      "|    prob_true_act  | 0.789     |\n",
      "|    samples_so_far | 12759040  |\n",
      "---------------------------------\n"
     ]
    },
    {
     "name": "stderr",
     "output_type": "stream",
     "text": [
      "6240batch [37:38,  3.00batch/s]"
     ]
    },
    {
     "name": "stdout",
     "output_type": "stream",
     "text": [
      "---------------------------------\n",
      "| batch_size        | 2048      |\n",
      "| bc/               |           |\n",
      "|    batch          | 6239      |\n",
      "|    ent_loss       | -0.000462 |\n",
      "|    entropy        | 0.462     |\n",
      "|    epoch          | 624       |\n",
      "|    l2_loss        | 0         |\n",
      "|    l2_norm        | 4.88e+03  |\n",
      "|    loss           | 0.655     |\n",
      "|    neglogp        | 0.656     |\n",
      "|    prob_true_act  | 0.776     |\n",
      "|    samples_so_far | 12779520  |\n",
      "---------------------------------\n"
     ]
    },
    {
     "name": "stderr",
     "output_type": "stream",
     "text": [
      "6250batch [37:41,  2.65batch/s]"
     ]
    },
    {
     "name": "stdout",
     "output_type": "stream",
     "text": [
      "---------------------------------\n",
      "| batch_size        | 2048      |\n",
      "| bc/               |           |\n",
      "|    batch          | 6249      |\n",
      "|    ent_loss       | -0.000464 |\n",
      "|    entropy        | 0.464     |\n",
      "|    epoch          | 625       |\n",
      "|    l2_loss        | 0         |\n",
      "|    l2_norm        | 4.88e+03  |\n",
      "|    loss           | 0.697     |\n",
      "|    neglogp        | 0.698     |\n",
      "|    prob_true_act  | 0.77      |\n",
      "|    samples_so_far | 12800000  |\n",
      "---------------------------------\n"
     ]
    },
    {
     "name": "stderr",
     "output_type": "stream",
     "text": [
      "6260batch [37:45,  2.92batch/s]"
     ]
    },
    {
     "name": "stdout",
     "output_type": "stream",
     "text": [
      "---------------------------------\n",
      "| batch_size        | 2048      |\n",
      "| bc/               |           |\n",
      "|    batch          | 6259      |\n",
      "|    ent_loss       | -0.000465 |\n",
      "|    entropy        | 0.465     |\n",
      "|    epoch          | 626       |\n",
      "|    l2_loss        | 0         |\n",
      "|    l2_norm        | 4.88e+03  |\n",
      "|    loss           | 0.704     |\n",
      "|    neglogp        | 0.704     |\n",
      "|    prob_true_act  | 0.768     |\n",
      "|    samples_so_far | 12820480  |\n",
      "---------------------------------\n"
     ]
    },
    {
     "name": "stderr",
     "output_type": "stream",
     "text": [
      "6270batch [37:48,  2.98batch/s]"
     ]
    },
    {
     "name": "stdout",
     "output_type": "stream",
     "text": [
      "---------------------------------\n",
      "| batch_size        | 2048      |\n",
      "| bc/               |           |\n",
      "|    batch          | 6269      |\n",
      "|    ent_loss       | -0.000466 |\n",
      "|    entropy        | 0.466     |\n",
      "|    epoch          | 627       |\n",
      "|    l2_loss        | 0         |\n",
      "|    l2_norm        | 4.88e+03  |\n",
      "|    loss           | 0.658     |\n",
      "|    neglogp        | 0.658     |\n",
      "|    prob_true_act  | 0.774     |\n",
      "|    samples_so_far | 12840960  |\n",
      "---------------------------------\n"
     ]
    },
    {
     "name": "stderr",
     "output_type": "stream",
     "text": [
      "6280batch [37:52,  2.69batch/s]"
     ]
    },
    {
     "name": "stdout",
     "output_type": "stream",
     "text": [
      "---------------------------------\n",
      "| batch_size        | 2048      |\n",
      "| bc/               |           |\n",
      "|    batch          | 6279      |\n",
      "|    ent_loss       | -0.000468 |\n",
      "|    entropy        | 0.468     |\n",
      "|    epoch          | 628       |\n",
      "|    l2_loss        | 0         |\n",
      "|    l2_norm        | 4.88e+03  |\n",
      "|    loss           | 0.742     |\n",
      "|    neglogp        | 0.743     |\n",
      "|    prob_true_act  | 0.758     |\n",
      "|    samples_so_far | 12861440  |\n",
      "---------------------------------\n"
     ]
    },
    {
     "name": "stderr",
     "output_type": "stream",
     "text": [
      "6290batch [37:56,  2.98batch/s]"
     ]
    },
    {
     "name": "stdout",
     "output_type": "stream",
     "text": [
      "---------------------------------\n",
      "| batch_size        | 2048      |\n",
      "| bc/               |           |\n",
      "|    batch          | 6289      |\n",
      "|    ent_loss       | -0.000469 |\n",
      "|    entropy        | 0.469     |\n",
      "|    epoch          | 629       |\n",
      "|    l2_loss        | 0         |\n",
      "|    l2_norm        | 4.88e+03  |\n",
      "|    loss           | 0.667     |\n",
      "|    neglogp        | 0.668     |\n",
      "|    prob_true_act  | 0.773     |\n",
      "|    samples_so_far | 12881920  |\n",
      "---------------------------------\n"
     ]
    },
    {
     "name": "stderr",
     "output_type": "stream",
     "text": [
      "6300batch [37:59,  2.93batch/s]"
     ]
    },
    {
     "name": "stdout",
     "output_type": "stream",
     "text": [
      "--------------------------------\n",
      "| batch_size        | 2048     |\n",
      "| bc/               |          |\n",
      "|    batch          | 6299     |\n",
      "|    ent_loss       | -0.00047 |\n",
      "|    entropy        | 0.47     |\n",
      "|    epoch          | 630      |\n",
      "|    l2_loss        | 0        |\n",
      "|    l2_norm        | 4.88e+03 |\n",
      "|    loss           | 0.659    |\n",
      "|    neglogp        | 0.659    |\n",
      "|    prob_true_act  | 0.78     |\n",
      "|    samples_so_far | 12902400 |\n",
      "--------------------------------\n"
     ]
    },
    {
     "name": "stderr",
     "output_type": "stream",
     "text": [
      "6310batch [38:03,  2.97batch/s]"
     ]
    },
    {
     "name": "stdout",
     "output_type": "stream",
     "text": [
      "---------------------------------\n",
      "| batch_size        | 2048      |\n",
      "| bc/               |           |\n",
      "|    batch          | 6309      |\n",
      "|    ent_loss       | -0.000472 |\n",
      "|    entropy        | 0.472     |\n",
      "|    epoch          | 631       |\n",
      "|    l2_loss        | 0         |\n",
      "|    l2_norm        | 4.88e+03  |\n",
      "|    loss           | 0.68      |\n",
      "|    neglogp        | 0.68      |\n",
      "|    prob_true_act  | 0.766     |\n",
      "|    samples_so_far | 12922880  |\n",
      "---------------------------------\n"
     ]
    },
    {
     "name": "stderr",
     "output_type": "stream",
     "text": [
      "6320batch [38:06,  3.00batch/s]"
     ]
    },
    {
     "name": "stdout",
     "output_type": "stream",
     "text": [
      "---------------------------------\n",
      "| batch_size        | 2048      |\n",
      "| bc/               |           |\n",
      "|    batch          | 6319      |\n",
      "|    ent_loss       | -0.000473 |\n",
      "|    entropy        | 0.473     |\n",
      "|    epoch          | 632       |\n",
      "|    l2_loss        | 0         |\n",
      "|    l2_norm        | 4.88e+03  |\n",
      "|    loss           | 0.634     |\n",
      "|    neglogp        | 0.634     |\n",
      "|    prob_true_act  | 0.774     |\n",
      "|    samples_so_far | 12943360  |\n",
      "---------------------------------\n"
     ]
    },
    {
     "name": "stderr",
     "output_type": "stream",
     "text": [
      "6330batch [38:10,  3.01batch/s]"
     ]
    },
    {
     "name": "stdout",
     "output_type": "stream",
     "text": [
      "---------------------------------\n",
      "| batch_size        | 2048      |\n",
      "| bc/               |           |\n",
      "|    batch          | 6329      |\n",
      "|    ent_loss       | -0.000475 |\n",
      "|    entropy        | 0.475     |\n",
      "|    epoch          | 633       |\n",
      "|    l2_loss        | 0         |\n",
      "|    l2_norm        | 4.88e+03  |\n",
      "|    loss           | 0.661     |\n",
      "|    neglogp        | 0.661     |\n",
      "|    prob_true_act  | 0.78      |\n",
      "|    samples_so_far | 12963840  |\n",
      "---------------------------------\n"
     ]
    },
    {
     "name": "stderr",
     "output_type": "stream",
     "text": [
      "6340batch [38:13,  2.98batch/s]"
     ]
    },
    {
     "name": "stdout",
     "output_type": "stream",
     "text": [
      "---------------------------------\n",
      "| batch_size        | 2048      |\n",
      "| bc/               |           |\n",
      "|    batch          | 6339      |\n",
      "|    ent_loss       | -0.000476 |\n",
      "|    entropy        | 0.476     |\n",
      "|    epoch          | 634       |\n",
      "|    l2_loss        | 0         |\n",
      "|    l2_norm        | 4.88e+03  |\n",
      "|    loss           | 0.683     |\n",
      "|    neglogp        | 0.683     |\n",
      "|    prob_true_act  | 0.771     |\n",
      "|    samples_so_far | 12984320  |\n",
      "---------------------------------\n"
     ]
    },
    {
     "name": "stderr",
     "output_type": "stream",
     "text": [
      "6350batch [38:17,  2.98batch/s]"
     ]
    },
    {
     "name": "stdout",
     "output_type": "stream",
     "text": [
      "---------------------------------\n",
      "| batch_size        | 2048      |\n",
      "| bc/               |           |\n",
      "|    batch          | 6349      |\n",
      "|    ent_loss       | -0.000477 |\n",
      "|    entropy        | 0.477     |\n",
      "|    epoch          | 635       |\n",
      "|    l2_loss        | 0         |\n",
      "|    l2_norm        | 4.88e+03  |\n",
      "|    loss           | 0.704     |\n",
      "|    neglogp        | 0.705     |\n",
      "|    prob_true_act  | 0.779     |\n",
      "|    samples_so_far | 13004800  |\n",
      "---------------------------------\n"
     ]
    },
    {
     "name": "stderr",
     "output_type": "stream",
     "text": [
      "6360batch [38:21,  2.97batch/s]"
     ]
    },
    {
     "name": "stdout",
     "output_type": "stream",
     "text": [
      "---------------------------------\n",
      "| batch_size        | 2048      |\n",
      "| bc/               |           |\n",
      "|    batch          | 6359      |\n",
      "|    ent_loss       | -0.000479 |\n",
      "|    entropy        | 0.479     |\n",
      "|    epoch          | 636       |\n",
      "|    l2_loss        | 0         |\n",
      "|    l2_norm        | 4.88e+03  |\n",
      "|    loss           | 0.659     |\n",
      "|    neglogp        | 0.659     |\n",
      "|    prob_true_act  | 0.777     |\n",
      "|    samples_so_far | 13025280  |\n",
      "---------------------------------\n"
     ]
    },
    {
     "name": "stderr",
     "output_type": "stream",
     "text": [
      "6370batch [38:24,  2.91batch/s]"
     ]
    },
    {
     "name": "stdout",
     "output_type": "stream",
     "text": [
      "--------------------------------\n",
      "| batch_size        | 2048     |\n",
      "| bc/               |          |\n",
      "|    batch          | 6369     |\n",
      "|    ent_loss       | -0.00048 |\n",
      "|    entropy        | 0.48     |\n",
      "|    epoch          | 637      |\n",
      "|    l2_loss        | 0        |\n",
      "|    l2_norm        | 4.88e+03 |\n",
      "|    loss           | 0.646    |\n",
      "|    neglogp        | 0.646    |\n",
      "|    prob_true_act  | 0.781    |\n",
      "|    samples_so_far | 13045760 |\n",
      "--------------------------------\n"
     ]
    },
    {
     "name": "stderr",
     "output_type": "stream",
     "text": [
      "6380batch [38:28,  2.97batch/s]"
     ]
    },
    {
     "name": "stdout",
     "output_type": "stream",
     "text": [
      "---------------------------------\n",
      "| batch_size        | 2048      |\n",
      "| bc/               |           |\n",
      "|    batch          | 6379      |\n",
      "|    ent_loss       | -0.000481 |\n",
      "|    entropy        | 0.481     |\n",
      "|    epoch          | 638       |\n",
      "|    l2_loss        | 0         |\n",
      "|    l2_norm        | 4.88e+03  |\n",
      "|    loss           | 0.683     |\n",
      "|    neglogp        | 0.684     |\n",
      "|    prob_true_act  | 0.771     |\n",
      "|    samples_so_far | 13066240  |\n",
      "---------------------------------\n"
     ]
    },
    {
     "name": "stderr",
     "output_type": "stream",
     "text": [
      "6390batch [38:31,  2.88batch/s]"
     ]
    },
    {
     "name": "stdout",
     "output_type": "stream",
     "text": [
      "---------------------------------\n",
      "| batch_size        | 2048      |\n",
      "| bc/               |           |\n",
      "|    batch          | 6389      |\n",
      "|    ent_loss       | -0.000482 |\n",
      "|    entropy        | 0.482     |\n",
      "|    epoch          | 639       |\n",
      "|    l2_loss        | 0         |\n",
      "|    l2_norm        | 4.88e+03  |\n",
      "|    loss           | 0.688     |\n",
      "|    neglogp        | 0.688     |\n",
      "|    prob_true_act  | 0.764     |\n",
      "|    samples_so_far | 13086720  |\n",
      "---------------------------------\n"
     ]
    },
    {
     "name": "stderr",
     "output_type": "stream",
     "text": [
      "6400batch [38:35,  3.00batch/s]"
     ]
    },
    {
     "name": "stdout",
     "output_type": "stream",
     "text": [
      "---------------------------------\n",
      "| batch_size        | 2048      |\n",
      "| bc/               |           |\n",
      "|    batch          | 6399      |\n",
      "|    ent_loss       | -0.000484 |\n",
      "|    entropy        | 0.484     |\n",
      "|    epoch          | 640       |\n",
      "|    l2_loss        | 0         |\n",
      "|    l2_norm        | 4.88e+03  |\n",
      "|    loss           | 0.673     |\n",
      "|    neglogp        | 0.673     |\n",
      "|    prob_true_act  | 0.769     |\n",
      "|    samples_so_far | 13107200  |\n",
      "---------------------------------\n"
     ]
    },
    {
     "name": "stderr",
     "output_type": "stream",
     "text": [
      "6410batch [38:38,  2.93batch/s]"
     ]
    },
    {
     "name": "stdout",
     "output_type": "stream",
     "text": [
      "---------------------------------\n",
      "| batch_size        | 2048      |\n",
      "| bc/               |           |\n",
      "|    batch          | 6409      |\n",
      "|    ent_loss       | -0.000485 |\n",
      "|    entropy        | 0.485     |\n",
      "|    epoch          | 641       |\n",
      "|    l2_loss        | 0         |\n",
      "|    l2_norm        | 4.88e+03  |\n",
      "|    loss           | 0.681     |\n",
      "|    neglogp        | 0.681     |\n",
      "|    prob_true_act  | 0.765     |\n",
      "|    samples_so_far | 13127680  |\n",
      "---------------------------------\n"
     ]
    },
    {
     "name": "stderr",
     "output_type": "stream",
     "text": [
      "6420batch [38:42,  2.99batch/s]"
     ]
    },
    {
     "name": "stdout",
     "output_type": "stream",
     "text": [
      "---------------------------------\n",
      "| batch_size        | 2048      |\n",
      "| bc/               |           |\n",
      "|    batch          | 6419      |\n",
      "|    ent_loss       | -0.000486 |\n",
      "|    entropy        | 0.486     |\n",
      "|    epoch          | 642       |\n",
      "|    l2_loss        | 0         |\n",
      "|    l2_norm        | 4.88e+03  |\n",
      "|    loss           | 0.696     |\n",
      "|    neglogp        | 0.697     |\n",
      "|    prob_true_act  | 0.763     |\n",
      "|    samples_so_far | 13148160  |\n",
      "---------------------------------\n"
     ]
    },
    {
     "name": "stderr",
     "output_type": "stream",
     "text": [
      "6430batch [38:45,  2.96batch/s]"
     ]
    },
    {
     "name": "stdout",
     "output_type": "stream",
     "text": [
      "---------------------------------\n",
      "| batch_size        | 2048      |\n",
      "| bc/               |           |\n",
      "|    batch          | 6429      |\n",
      "|    ent_loss       | -0.000488 |\n",
      "|    entropy        | 0.488     |\n",
      "|    epoch          | 643       |\n",
      "|    l2_loss        | 0         |\n",
      "|    l2_norm        | 4.88e+03  |\n",
      "|    loss           | 0.675     |\n",
      "|    neglogp        | 0.675     |\n",
      "|    prob_true_act  | 0.763     |\n",
      "|    samples_so_far | 13168640  |\n",
      "---------------------------------\n"
     ]
    },
    {
     "name": "stderr",
     "output_type": "stream",
     "text": [
      "6440batch [38:49,  2.85batch/s]"
     ]
    },
    {
     "name": "stdout",
     "output_type": "stream",
     "text": [
      "---------------------------------\n",
      "| batch_size        | 2048      |\n",
      "| bc/               |           |\n",
      "|    batch          | 6439      |\n",
      "|    ent_loss       | -0.000489 |\n",
      "|    entropy        | 0.489     |\n",
      "|    epoch          | 644       |\n",
      "|    l2_loss        | 0         |\n",
      "|    l2_norm        | 4.88e+03  |\n",
      "|    loss           | 0.668     |\n",
      "|    neglogp        | 0.668     |\n",
      "|    prob_true_act  | 0.771     |\n",
      "|    samples_so_far | 13189120  |\n",
      "---------------------------------\n"
     ]
    },
    {
     "name": "stderr",
     "output_type": "stream",
     "text": [
      "6450batch [38:53,  3.03batch/s]"
     ]
    },
    {
     "name": "stdout",
     "output_type": "stream",
     "text": [
      "--------------------------------\n",
      "| batch_size        | 2048     |\n",
      "| bc/               |          |\n",
      "|    batch          | 6449     |\n",
      "|    ent_loss       | -0.00049 |\n",
      "|    entropy        | 0.49     |\n",
      "|    epoch          | 645      |\n",
      "|    l2_loss        | 0        |\n",
      "|    l2_norm        | 4.88e+03 |\n",
      "|    loss           | 0.671    |\n",
      "|    neglogp        | 0.671    |\n",
      "|    prob_true_act  | 0.774    |\n",
      "|    samples_so_far | 13209600 |\n",
      "--------------------------------\n"
     ]
    },
    {
     "name": "stderr",
     "output_type": "stream",
     "text": [
      "6460batch [38:56,  3.04batch/s]"
     ]
    },
    {
     "name": "stdout",
     "output_type": "stream",
     "text": [
      "---------------------------------\n",
      "| batch_size        | 2048      |\n",
      "| bc/               |           |\n",
      "|    batch          | 6459      |\n",
      "|    ent_loss       | -0.000492 |\n",
      "|    entropy        | 0.492     |\n",
      "|    epoch          | 646       |\n",
      "|    l2_loss        | 0         |\n",
      "|    l2_norm        | 4.88e+03  |\n",
      "|    loss           | 0.651     |\n",
      "|    neglogp        | 0.651     |\n",
      "|    prob_true_act  | 0.772     |\n",
      "|    samples_so_far | 13230080  |\n",
      "---------------------------------\n"
     ]
    },
    {
     "name": "stderr",
     "output_type": "stream",
     "text": [
      "6470batch [39:00,  2.99batch/s]"
     ]
    },
    {
     "name": "stdout",
     "output_type": "stream",
     "text": [
      "---------------------------------\n",
      "| batch_size        | 2048      |\n",
      "| bc/               |           |\n",
      "|    batch          | 6469      |\n",
      "|    ent_loss       | -0.000493 |\n",
      "|    entropy        | 0.493     |\n",
      "|    epoch          | 647       |\n",
      "|    l2_loss        | 0         |\n",
      "|    l2_norm        | 4.88e+03  |\n",
      "|    loss           | 0.64      |\n",
      "|    neglogp        | 0.64      |\n",
      "|    prob_true_act  | 0.768     |\n",
      "|    samples_so_far | 13250560  |\n",
      "---------------------------------\n"
     ]
    },
    {
     "name": "stderr",
     "output_type": "stream",
     "text": [
      "6480batch [39:03,  2.96batch/s]"
     ]
    },
    {
     "name": "stdout",
     "output_type": "stream",
     "text": [
      "---------------------------------\n",
      "| batch_size        | 2048      |\n",
      "| bc/               |           |\n",
      "|    batch          | 6479      |\n",
      "|    ent_loss       | -0.000494 |\n",
      "|    entropy        | 0.494     |\n",
      "|    epoch          | 648       |\n",
      "|    l2_loss        | 0         |\n",
      "|    l2_norm        | 4.88e+03  |\n",
      "|    loss           | 0.7       |\n",
      "|    neglogp        | 0.701     |\n",
      "|    prob_true_act  | 0.766     |\n",
      "|    samples_so_far | 13271040  |\n",
      "---------------------------------\n"
     ]
    },
    {
     "name": "stderr",
     "output_type": "stream",
     "text": [
      "6490batch [39:07,  2.99batch/s]"
     ]
    },
    {
     "name": "stdout",
     "output_type": "stream",
     "text": [
      "---------------------------------\n",
      "| batch_size        | 2048      |\n",
      "| bc/               |           |\n",
      "|    batch          | 6489      |\n",
      "|    ent_loss       | -0.000495 |\n",
      "|    entropy        | 0.495     |\n",
      "|    epoch          | 649       |\n",
      "|    l2_loss        | 0         |\n",
      "|    l2_norm        | 4.88e+03  |\n",
      "|    loss           | 0.673     |\n",
      "|    neglogp        | 0.673     |\n",
      "|    prob_true_act  | 0.764     |\n",
      "|    samples_so_far | 13291520  |\n",
      "---------------------------------\n"
     ]
    },
    {
     "name": "stderr",
     "output_type": "stream",
     "text": [
      "6500batch [39:10,  2.98batch/s]"
     ]
    },
    {
     "name": "stdout",
     "output_type": "stream",
     "text": [
      "---------------------------------\n",
      "| batch_size        | 2048      |\n",
      "| bc/               |           |\n",
      "|    batch          | 6499      |\n",
      "|    ent_loss       | -0.000497 |\n",
      "|    entropy        | 0.497     |\n",
      "|    epoch          | 650       |\n",
      "|    l2_loss        | 0         |\n",
      "|    l2_norm        | 4.88e+03  |\n",
      "|    loss           | 0.639     |\n",
      "|    neglogp        | 0.64      |\n",
      "|    prob_true_act  | 0.769     |\n",
      "|    samples_so_far | 13312000  |\n",
      "---------------------------------\n"
     ]
    },
    {
     "name": "stderr",
     "output_type": "stream",
     "text": [
      "6510batch [39:14,  2.91batch/s]"
     ]
    },
    {
     "name": "stdout",
     "output_type": "stream",
     "text": [
      "---------------------------------\n",
      "| batch_size        | 2048      |\n",
      "| bc/               |           |\n",
      "|    batch          | 6509      |\n",
      "|    ent_loss       | -0.000498 |\n",
      "|    entropy        | 0.498     |\n",
      "|    epoch          | 651       |\n",
      "|    l2_loss        | 0         |\n",
      "|    l2_norm        | 4.88e+03  |\n",
      "|    loss           | 0.62      |\n",
      "|    neglogp        | 0.62      |\n",
      "|    prob_true_act  | 0.78      |\n",
      "|    samples_so_far | 13332480  |\n",
      "---------------------------------\n"
     ]
    },
    {
     "name": "stderr",
     "output_type": "stream",
     "text": [
      "6520batch [39:18,  2.44batch/s]"
     ]
    },
    {
     "name": "stdout",
     "output_type": "stream",
     "text": [
      "---------------------------------\n",
      "| batch_size        | 2048      |\n",
      "| bc/               |           |\n",
      "|    batch          | 6519      |\n",
      "|    ent_loss       | -0.000499 |\n",
      "|    entropy        | 0.499     |\n",
      "|    epoch          | 652       |\n",
      "|    l2_loss        | 0         |\n",
      "|    l2_norm        | 4.88e+03  |\n",
      "|    loss           | 0.669     |\n",
      "|    neglogp        | 0.669     |\n",
      "|    prob_true_act  | 0.77      |\n",
      "|    samples_so_far | 13352960  |\n",
      "---------------------------------\n"
     ]
    },
    {
     "name": "stderr",
     "output_type": "stream",
     "text": [
      "6530batch [39:21,  2.94batch/s]"
     ]
    },
    {
     "name": "stdout",
     "output_type": "stream",
     "text": [
      "--------------------------------\n",
      "| batch_size        | 2048     |\n",
      "| bc/               |          |\n",
      "|    batch          | 6529     |\n",
      "|    ent_loss       | -0.0005  |\n",
      "|    entropy        | 0.5      |\n",
      "|    epoch          | 653      |\n",
      "|    l2_loss        | 0        |\n",
      "|    l2_norm        | 4.88e+03 |\n",
      "|    loss           | 0.669    |\n",
      "|    neglogp        | 0.669    |\n",
      "|    prob_true_act  | 0.759    |\n",
      "|    samples_so_far | 13373440 |\n",
      "--------------------------------\n"
     ]
    },
    {
     "name": "stderr",
     "output_type": "stream",
     "text": [
      "6540batch [39:25,  3.01batch/s]"
     ]
    },
    {
     "name": "stdout",
     "output_type": "stream",
     "text": [
      "---------------------------------\n",
      "| batch_size        | 2048      |\n",
      "| bc/               |           |\n",
      "|    batch          | 6539      |\n",
      "|    ent_loss       | -0.000502 |\n",
      "|    entropy        | 0.502     |\n",
      "|    epoch          | 654       |\n",
      "|    l2_loss        | 0         |\n",
      "|    l2_norm        | 4.88e+03  |\n",
      "|    loss           | 0.608     |\n",
      "|    neglogp        | 0.609     |\n",
      "|    prob_true_act  | 0.79      |\n",
      "|    samples_so_far | 13393920  |\n",
      "---------------------------------\n"
     ]
    },
    {
     "name": "stderr",
     "output_type": "stream",
     "text": [
      "6550batch [39:29,  3.02batch/s]"
     ]
    },
    {
     "name": "stdout",
     "output_type": "stream",
     "text": [
      "---------------------------------\n",
      "| batch_size        | 2048      |\n",
      "| bc/               |           |\n",
      "|    batch          | 6549      |\n",
      "|    ent_loss       | -0.000503 |\n",
      "|    entropy        | 0.503     |\n",
      "|    epoch          | 655       |\n",
      "|    l2_loss        | 0         |\n",
      "|    l2_norm        | 4.88e+03  |\n",
      "|    loss           | 0.745     |\n",
      "|    neglogp        | 0.745     |\n",
      "|    prob_true_act  | 0.755     |\n",
      "|    samples_so_far | 13414400  |\n",
      "---------------------------------\n"
     ]
    },
    {
     "name": "stderr",
     "output_type": "stream",
     "text": [
      "6560batch [39:32,  2.89batch/s]"
     ]
    },
    {
     "name": "stdout",
     "output_type": "stream",
     "text": [
      "---------------------------------\n",
      "| batch_size        | 2048      |\n",
      "| bc/               |           |\n",
      "|    batch          | 6559      |\n",
      "|    ent_loss       | -0.000504 |\n",
      "|    entropy        | 0.504     |\n",
      "|    epoch          | 656       |\n",
      "|    l2_loss        | 0         |\n",
      "|    l2_norm        | 4.88e+03  |\n",
      "|    loss           | 0.7       |\n",
      "|    neglogp        | 0.7       |\n",
      "|    prob_true_act  | 0.762     |\n",
      "|    samples_so_far | 13434880  |\n",
      "---------------------------------\n"
     ]
    },
    {
     "name": "stderr",
     "output_type": "stream",
     "text": [
      "6570batch [39:36,  2.99batch/s]"
     ]
    },
    {
     "name": "stdout",
     "output_type": "stream",
     "text": [
      "---------------------------------\n",
      "| batch_size        | 2048      |\n",
      "| bc/               |           |\n",
      "|    batch          | 6569      |\n",
      "|    ent_loss       | -0.000505 |\n",
      "|    entropy        | 0.505     |\n",
      "|    epoch          | 657       |\n",
      "|    l2_loss        | 0         |\n",
      "|    l2_norm        | 4.88e+03  |\n",
      "|    loss           | 0.659     |\n",
      "|    neglogp        | 0.659     |\n",
      "|    prob_true_act  | 0.769     |\n",
      "|    samples_so_far | 13455360  |\n",
      "---------------------------------\n"
     ]
    },
    {
     "name": "stderr",
     "output_type": "stream",
     "text": [
      "6580batch [39:39,  2.96batch/s]"
     ]
    },
    {
     "name": "stdout",
     "output_type": "stream",
     "text": [
      "---------------------------------\n",
      "| batch_size        | 2048      |\n",
      "| bc/               |           |\n",
      "|    batch          | 6579      |\n",
      "|    ent_loss       | -0.000506 |\n",
      "|    entropy        | 0.506     |\n",
      "|    epoch          | 658       |\n",
      "|    l2_loss        | 0         |\n",
      "|    l2_norm        | 4.88e+03  |\n",
      "|    loss           | 0.667     |\n",
      "|    neglogp        | 0.668     |\n",
      "|    prob_true_act  | 0.768     |\n",
      "|    samples_so_far | 13475840  |\n",
      "---------------------------------\n"
     ]
    },
    {
     "name": "stderr",
     "output_type": "stream",
     "text": [
      "6590batch [39:43,  2.95batch/s]"
     ]
    },
    {
     "name": "stdout",
     "output_type": "stream",
     "text": [
      "---------------------------------\n",
      "| batch_size        | 2048      |\n",
      "| bc/               |           |\n",
      "|    batch          | 6589      |\n",
      "|    ent_loss       | -0.000508 |\n",
      "|    entropy        | 0.508     |\n",
      "|    epoch          | 659       |\n",
      "|    l2_loss        | 0         |\n",
      "|    l2_norm        | 4.88e+03  |\n",
      "|    loss           | 0.646     |\n",
      "|    neglogp        | 0.647     |\n",
      "|    prob_true_act  | 0.777     |\n",
      "|    samples_so_far | 13496320  |\n",
      "---------------------------------\n"
     ]
    },
    {
     "name": "stderr",
     "output_type": "stream",
     "text": [
      "6600batch [39:47,  2.94batch/s]"
     ]
    },
    {
     "name": "stdout",
     "output_type": "stream",
     "text": [
      "---------------------------------\n",
      "| batch_size        | 2048      |\n",
      "| bc/               |           |\n",
      "|    batch          | 6599      |\n",
      "|    ent_loss       | -0.000509 |\n",
      "|    entropy        | 0.509     |\n",
      "|    epoch          | 660       |\n",
      "|    l2_loss        | 0         |\n",
      "|    l2_norm        | 4.88e+03  |\n",
      "|    loss           | 0.626     |\n",
      "|    neglogp        | 0.627     |\n",
      "|    prob_true_act  | 0.777     |\n",
      "|    samples_so_far | 13516800  |\n",
      "---------------------------------\n"
     ]
    },
    {
     "name": "stderr",
     "output_type": "stream",
     "text": [
      "6610batch [39:50,  2.94batch/s]"
     ]
    },
    {
     "name": "stdout",
     "output_type": "stream",
     "text": [
      "--------------------------------\n",
      "| batch_size        | 2048     |\n",
      "| bc/               |          |\n",
      "|    batch          | 6609     |\n",
      "|    ent_loss       | -0.00051 |\n",
      "|    entropy        | 0.51     |\n",
      "|    epoch          | 661      |\n",
      "|    l2_loss        | 0        |\n",
      "|    l2_norm        | 4.88e+03 |\n",
      "|    loss           | 0.651    |\n",
      "|    neglogp        | 0.651    |\n",
      "|    prob_true_act  | 0.764    |\n",
      "|    samples_so_far | 13537280 |\n",
      "--------------------------------\n"
     ]
    },
    {
     "name": "stderr",
     "output_type": "stream",
     "text": [
      "6620batch [39:54,  2.82batch/s]"
     ]
    },
    {
     "name": "stdout",
     "output_type": "stream",
     "text": [
      "---------------------------------\n",
      "| batch_size        | 2048      |\n",
      "| bc/               |           |\n",
      "|    batch          | 6619      |\n",
      "|    ent_loss       | -0.000511 |\n",
      "|    entropy        | 0.511     |\n",
      "|    epoch          | 662       |\n",
      "|    l2_loss        | 0         |\n",
      "|    l2_norm        | 4.88e+03  |\n",
      "|    loss           | 0.578     |\n",
      "|    neglogp        | 0.579     |\n",
      "|    prob_true_act  | 0.784     |\n",
      "|    samples_so_far | 13557760  |\n",
      "---------------------------------\n"
     ]
    },
    {
     "name": "stderr",
     "output_type": "stream",
     "text": [
      "6630batch [39:58,  2.95batch/s]"
     ]
    },
    {
     "name": "stdout",
     "output_type": "stream",
     "text": [
      "---------------------------------\n",
      "| batch_size        | 2048      |\n",
      "| bc/               |           |\n",
      "|    batch          | 6629      |\n",
      "|    ent_loss       | -0.000512 |\n",
      "|    entropy        | 0.512     |\n",
      "|    epoch          | 663       |\n",
      "|    l2_loss        | 0         |\n",
      "|    l2_norm        | 4.88e+03  |\n",
      "|    loss           | 0.653     |\n",
      "|    neglogp        | 0.654     |\n",
      "|    prob_true_act  | 0.773     |\n",
      "|    samples_so_far | 13578240  |\n",
      "---------------------------------\n"
     ]
    },
    {
     "name": "stderr",
     "output_type": "stream",
     "text": [
      "6640batch [40:01,  2.94batch/s]"
     ]
    },
    {
     "name": "stdout",
     "output_type": "stream",
     "text": [
      "---------------------------------\n",
      "| batch_size        | 2048      |\n",
      "| bc/               |           |\n",
      "|    batch          | 6639      |\n",
      "|    ent_loss       | -0.000513 |\n",
      "|    entropy        | 0.513     |\n",
      "|    epoch          | 664       |\n",
      "|    l2_loss        | 0         |\n",
      "|    l2_norm        | 4.88e+03  |\n",
      "|    loss           | 0.68      |\n",
      "|    neglogp        | 0.681     |\n",
      "|    prob_true_act  | 0.757     |\n",
      "|    samples_so_far | 13598720  |\n",
      "---------------------------------\n"
     ]
    },
    {
     "name": "stderr",
     "output_type": "stream",
     "text": [
      "6650batch [40:05,  3.01batch/s]"
     ]
    },
    {
     "name": "stdout",
     "output_type": "stream",
     "text": [
      "---------------------------------\n",
      "| batch_size        | 2048      |\n",
      "| bc/               |           |\n",
      "|    batch          | 6649      |\n",
      "|    ent_loss       | -0.000515 |\n",
      "|    entropy        | 0.515     |\n",
      "|    epoch          | 665       |\n",
      "|    l2_loss        | 0         |\n",
      "|    l2_norm        | 4.88e+03  |\n",
      "|    loss           | 0.668     |\n",
      "|    neglogp        | 0.669     |\n",
      "|    prob_true_act  | 0.76      |\n",
      "|    samples_so_far | 13619200  |\n",
      "---------------------------------\n"
     ]
    },
    {
     "name": "stderr",
     "output_type": "stream",
     "text": [
      "6660batch [40:08,  2.97batch/s]"
     ]
    },
    {
     "name": "stdout",
     "output_type": "stream",
     "text": [
      "---------------------------------\n",
      "| batch_size        | 2048      |\n",
      "| bc/               |           |\n",
      "|    batch          | 6659      |\n",
      "|    ent_loss       | -0.000516 |\n",
      "|    entropy        | 0.516     |\n",
      "|    epoch          | 666       |\n",
      "|    l2_loss        | 0         |\n",
      "|    l2_norm        | 4.88e+03  |\n",
      "|    loss           | 0.656     |\n",
      "|    neglogp        | 0.657     |\n",
      "|    prob_true_act  | 0.762     |\n",
      "|    samples_so_far | 13639680  |\n",
      "---------------------------------\n"
     ]
    },
    {
     "name": "stderr",
     "output_type": "stream",
     "text": [
      "6670batch [40:12,  2.95batch/s]"
     ]
    },
    {
     "name": "stdout",
     "output_type": "stream",
     "text": [
      "---------------------------------\n",
      "| batch_size        | 2048      |\n",
      "| bc/               |           |\n",
      "|    batch          | 6669      |\n",
      "|    ent_loss       | -0.000517 |\n",
      "|    entropy        | 0.517     |\n",
      "|    epoch          | 667       |\n",
      "|    l2_loss        | 0         |\n",
      "|    l2_norm        | 4.88e+03  |\n",
      "|    loss           | 0.668     |\n",
      "|    neglogp        | 0.668     |\n",
      "|    prob_true_act  | 0.764     |\n",
      "|    samples_so_far | 13660160  |\n",
      "---------------------------------\n"
     ]
    },
    {
     "name": "stderr",
     "output_type": "stream",
     "text": [
      "6680batch [40:15,  2.90batch/s]"
     ]
    },
    {
     "name": "stdout",
     "output_type": "stream",
     "text": [
      "---------------------------------\n",
      "| batch_size        | 2048      |\n",
      "| bc/               |           |\n",
      "|    batch          | 6679      |\n",
      "|    ent_loss       | -0.000518 |\n",
      "|    entropy        | 0.518     |\n",
      "|    epoch          | 668       |\n",
      "|    l2_loss        | 0         |\n",
      "|    l2_norm        | 4.88e+03  |\n",
      "|    loss           | 0.639     |\n",
      "|    neglogp        | 0.64      |\n",
      "|    prob_true_act  | 0.772     |\n",
      "|    samples_so_far | 13680640  |\n",
      "---------------------------------\n"
     ]
    },
    {
     "name": "stderr",
     "output_type": "stream",
     "text": [
      "6690batch [40:19,  2.98batch/s]"
     ]
    },
    {
     "name": "stdout",
     "output_type": "stream",
     "text": [
      "---------------------------------\n",
      "| batch_size        | 2048      |\n",
      "| bc/               |           |\n",
      "|    batch          | 6689      |\n",
      "|    ent_loss       | -0.000519 |\n",
      "|    entropy        | 0.519     |\n",
      "|    epoch          | 669       |\n",
      "|    l2_loss        | 0         |\n",
      "|    l2_norm        | 4.88e+03  |\n",
      "|    loss           | 0.737     |\n",
      "|    neglogp        | 0.737     |\n",
      "|    prob_true_act  | 0.755     |\n",
      "|    samples_so_far | 13701120  |\n",
      "---------------------------------\n"
     ]
    },
    {
     "name": "stderr",
     "output_type": "stream",
     "text": [
      "6700batch [40:22,  2.93batch/s]"
     ]
    },
    {
     "name": "stdout",
     "output_type": "stream",
     "text": [
      "--------------------------------\n",
      "| batch_size        | 2048     |\n",
      "| bc/               |          |\n",
      "|    batch          | 6699     |\n",
      "|    ent_loss       | -0.00052 |\n",
      "|    entropy        | 0.52     |\n",
      "|    epoch          | 670      |\n",
      "|    l2_loss        | 0        |\n",
      "|    l2_norm        | 4.88e+03 |\n",
      "|    loss           | 0.726    |\n",
      "|    neglogp        | 0.726    |\n",
      "|    prob_true_act  | 0.754    |\n",
      "|    samples_so_far | 13721600 |\n",
      "--------------------------------\n"
     ]
    },
    {
     "name": "stderr",
     "output_type": "stream",
     "text": [
      "6710batch [40:26,  2.97batch/s]"
     ]
    },
    {
     "name": "stdout",
     "output_type": "stream",
     "text": [
      "---------------------------------\n",
      "| batch_size        | 2048      |\n",
      "| bc/               |           |\n",
      "|    batch          | 6709      |\n",
      "|    ent_loss       | -0.000521 |\n",
      "|    entropy        | 0.521     |\n",
      "|    epoch          | 671       |\n",
      "|    l2_loss        | 0         |\n",
      "|    l2_norm        | 4.88e+03  |\n",
      "|    loss           | 0.653     |\n",
      "|    neglogp        | 0.654     |\n",
      "|    prob_true_act  | 0.764     |\n",
      "|    samples_so_far | 13742080  |\n",
      "---------------------------------\n"
     ]
    },
    {
     "name": "stderr",
     "output_type": "stream",
     "text": [
      "6720batch [40:29,  2.96batch/s]"
     ]
    },
    {
     "name": "stdout",
     "output_type": "stream",
     "text": [
      "---------------------------------\n",
      "| batch_size        | 2048      |\n",
      "| bc/               |           |\n",
      "|    batch          | 6719      |\n",
      "|    ent_loss       | -0.000523 |\n",
      "|    entropy        | 0.523     |\n",
      "|    epoch          | 672       |\n",
      "|    l2_loss        | 0         |\n",
      "|    l2_norm        | 4.88e+03  |\n",
      "|    loss           | 0.686     |\n",
      "|    neglogp        | 0.687     |\n",
      "|    prob_true_act  | 0.76      |\n",
      "|    samples_so_far | 13762560  |\n",
      "---------------------------------\n"
     ]
    },
    {
     "name": "stderr",
     "output_type": "stream",
     "text": [
      "6730batch [40:33,  2.98batch/s]"
     ]
    },
    {
     "name": "stdout",
     "output_type": "stream",
     "text": [
      "---------------------------------\n",
      "| batch_size        | 2048      |\n",
      "| bc/               |           |\n",
      "|    batch          | 6729      |\n",
      "|    ent_loss       | -0.000524 |\n",
      "|    entropy        | 0.524     |\n",
      "|    epoch          | 673       |\n",
      "|    l2_loss        | 0         |\n",
      "|    l2_norm        | 4.88e+03  |\n",
      "|    loss           | 0.65      |\n",
      "|    neglogp        | 0.65      |\n",
      "|    prob_true_act  | 0.767     |\n",
      "|    samples_so_far | 13783040  |\n",
      "---------------------------------\n"
     ]
    },
    {
     "name": "stderr",
     "output_type": "stream",
     "text": [
      "6740batch [40:37,  2.12batch/s]"
     ]
    },
    {
     "name": "stdout",
     "output_type": "stream",
     "text": [
      "---------------------------------\n",
      "| batch_size        | 2048      |\n",
      "| bc/               |           |\n",
      "|    batch          | 6739      |\n",
      "|    ent_loss       | -0.000525 |\n",
      "|    entropy        | 0.525     |\n",
      "|    epoch          | 674       |\n",
      "|    l2_loss        | 0         |\n",
      "|    l2_norm        | 4.88e+03  |\n",
      "|    loss           | 0.642     |\n",
      "|    neglogp        | 0.643     |\n",
      "|    prob_true_act  | 0.769     |\n",
      "|    samples_so_far | 13803520  |\n",
      "---------------------------------\n"
     ]
    },
    {
     "name": "stderr",
     "output_type": "stream",
     "text": [
      "6750batch [40:41,  2.91batch/s]"
     ]
    },
    {
     "name": "stdout",
     "output_type": "stream",
     "text": [
      "---------------------------------\n",
      "| batch_size        | 2048      |\n",
      "| bc/               |           |\n",
      "|    batch          | 6749      |\n",
      "|    ent_loss       | -0.000526 |\n",
      "|    entropy        | 0.526     |\n",
      "|    epoch          | 675       |\n",
      "|    l2_loss        | 0         |\n",
      "|    l2_norm        | 4.88e+03  |\n",
      "|    loss           | 0.636     |\n",
      "|    neglogp        | 0.636     |\n",
      "|    prob_true_act  | 0.765     |\n",
      "|    samples_so_far | 13824000  |\n",
      "---------------------------------\n"
     ]
    },
    {
     "name": "stderr",
     "output_type": "stream",
     "text": [
      "6760batch [40:44,  2.94batch/s]"
     ]
    },
    {
     "name": "stdout",
     "output_type": "stream",
     "text": [
      "---------------------------------\n",
      "| batch_size        | 2048      |\n",
      "| bc/               |           |\n",
      "|    batch          | 6759      |\n",
      "|    ent_loss       | -0.000527 |\n",
      "|    entropy        | 0.527     |\n",
      "|    epoch          | 676       |\n",
      "|    l2_loss        | 0         |\n",
      "|    l2_norm        | 4.88e+03  |\n",
      "|    loss           | 0.644     |\n",
      "|    neglogp        | 0.644     |\n",
      "|    prob_true_act  | 0.768     |\n",
      "|    samples_so_far | 13844480  |\n",
      "---------------------------------\n"
     ]
    },
    {
     "name": "stderr",
     "output_type": "stream",
     "text": [
      "6770batch [40:48,  2.95batch/s]"
     ]
    },
    {
     "name": "stdout",
     "output_type": "stream",
     "text": [
      "---------------------------------\n",
      "| batch_size        | 2048      |\n",
      "| bc/               |           |\n",
      "|    batch          | 6769      |\n",
      "|    ent_loss       | -0.000528 |\n",
      "|    entropy        | 0.528     |\n",
      "|    epoch          | 677       |\n",
      "|    l2_loss        | 0         |\n",
      "|    l2_norm        | 4.88e+03  |\n",
      "|    loss           | 0.642     |\n",
      "|    neglogp        | 0.642     |\n",
      "|    prob_true_act  | 0.777     |\n",
      "|    samples_so_far | 13864960  |\n",
      "---------------------------------\n"
     ]
    },
    {
     "name": "stderr",
     "output_type": "stream",
     "text": [
      "6780batch [40:52,  2.80batch/s]"
     ]
    },
    {
     "name": "stdout",
     "output_type": "stream",
     "text": [
      "---------------------------------\n",
      "| batch_size        | 2048      |\n",
      "| bc/               |           |\n",
      "|    batch          | 6779      |\n",
      "|    ent_loss       | -0.000529 |\n",
      "|    entropy        | 0.529     |\n",
      "|    epoch          | 678       |\n",
      "|    l2_loss        | 0         |\n",
      "|    l2_norm        | 4.88e+03  |\n",
      "|    loss           | 0.613     |\n",
      "|    neglogp        | 0.613     |\n",
      "|    prob_true_act  | 0.776     |\n",
      "|    samples_so_far | 13885440  |\n",
      "---------------------------------\n"
     ]
    },
    {
     "name": "stderr",
     "output_type": "stream",
     "text": [
      "6790batch [40:55,  2.95batch/s]"
     ]
    },
    {
     "name": "stdout",
     "output_type": "stream",
     "text": [
      "--------------------------------\n",
      "| batch_size        | 2048     |\n",
      "| bc/               |          |\n",
      "|    batch          | 6789     |\n",
      "|    ent_loss       | -0.00053 |\n",
      "|    entropy        | 0.53     |\n",
      "|    epoch          | 679      |\n",
      "|    l2_loss        | 0        |\n",
      "|    l2_norm        | 4.88e+03 |\n",
      "|    loss           | 0.683    |\n",
      "|    neglogp        | 0.683    |\n",
      "|    prob_true_act  | 0.753    |\n",
      "|    samples_so_far | 13905920 |\n",
      "--------------------------------\n"
     ]
    },
    {
     "name": "stderr",
     "output_type": "stream",
     "text": [
      "6800batch [40:59,  2.93batch/s]"
     ]
    },
    {
     "name": "stdout",
     "output_type": "stream",
     "text": [
      "---------------------------------\n",
      "| batch_size        | 2048      |\n",
      "| bc/               |           |\n",
      "|    batch          | 6799      |\n",
      "|    ent_loss       | -0.000531 |\n",
      "|    entropy        | 0.531     |\n",
      "|    epoch          | 680       |\n",
      "|    l2_loss        | 0         |\n",
      "|    l2_norm        | 4.88e+03  |\n",
      "|    loss           | 0.694     |\n",
      "|    neglogp        | 0.695     |\n",
      "|    prob_true_act  | 0.754     |\n",
      "|    samples_so_far | 13926400  |\n",
      "---------------------------------\n"
     ]
    },
    {
     "name": "stderr",
     "output_type": "stream",
     "text": [
      "6810batch [41:02,  2.96batch/s]"
     ]
    },
    {
     "name": "stdout",
     "output_type": "stream",
     "text": [
      "---------------------------------\n",
      "| batch_size        | 2048      |\n",
      "| bc/               |           |\n",
      "|    batch          | 6809      |\n",
      "|    ent_loss       | -0.000532 |\n",
      "|    entropy        | 0.532     |\n",
      "|    epoch          | 681       |\n",
      "|    l2_loss        | 0         |\n",
      "|    l2_norm        | 4.88e+03  |\n",
      "|    loss           | 0.605     |\n",
      "|    neglogp        | 0.606     |\n",
      "|    prob_true_act  | 0.772     |\n",
      "|    samples_so_far | 13946880  |\n",
      "---------------------------------\n"
     ]
    },
    {
     "name": "stderr",
     "output_type": "stream",
     "text": [
      "6820batch [41:06,  2.95batch/s]"
     ]
    },
    {
     "name": "stdout",
     "output_type": "stream",
     "text": [
      "---------------------------------\n",
      "| batch_size        | 2048      |\n",
      "| bc/               |           |\n",
      "|    batch          | 6819      |\n",
      "|    ent_loss       | -0.000533 |\n",
      "|    entropy        | 0.533     |\n",
      "|    epoch          | 682       |\n",
      "|    l2_loss        | 0         |\n",
      "|    l2_norm        | 4.88e+03  |\n",
      "|    loss           | 0.633     |\n",
      "|    neglogp        | 0.633     |\n",
      "|    prob_true_act  | 0.773     |\n",
      "|    samples_so_far | 13967360  |\n",
      "---------------------------------\n"
     ]
    },
    {
     "name": "stderr",
     "output_type": "stream",
     "text": [
      "6830batch [41:10,  2.93batch/s]"
     ]
    },
    {
     "name": "stdout",
     "output_type": "stream",
     "text": [
      "---------------------------------\n",
      "| batch_size        | 2048      |\n",
      "| bc/               |           |\n",
      "|    batch          | 6829      |\n",
      "|    ent_loss       | -0.000535 |\n",
      "|    entropy        | 0.535     |\n",
      "|    epoch          | 683       |\n",
      "|    l2_loss        | 0         |\n",
      "|    l2_norm        | 4.88e+03  |\n",
      "|    loss           | 0.639     |\n",
      "|    neglogp        | 0.639     |\n",
      "|    prob_true_act  | 0.76      |\n",
      "|    samples_so_far | 13987840  |\n",
      "---------------------------------\n"
     ]
    },
    {
     "name": "stderr",
     "output_type": "stream",
     "text": [
      "6840batch [41:13,  2.91batch/s]"
     ]
    },
    {
     "name": "stdout",
     "output_type": "stream",
     "text": [
      "---------------------------------\n",
      "| batch_size        | 2048      |\n",
      "| bc/               |           |\n",
      "|    batch          | 6839      |\n",
      "|    ent_loss       | -0.000536 |\n",
      "|    entropy        | 0.536     |\n",
      "|    epoch          | 684       |\n",
      "|    l2_loss        | 0         |\n",
      "|    l2_norm        | 4.88e+03  |\n",
      "|    loss           | 0.637     |\n",
      "|    neglogp        | 0.638     |\n",
      "|    prob_true_act  | 0.761     |\n",
      "|    samples_so_far | 14008320  |\n",
      "---------------------------------\n"
     ]
    },
    {
     "name": "stderr",
     "output_type": "stream",
     "text": [
      "6850batch [41:17,  2.90batch/s]"
     ]
    },
    {
     "name": "stdout",
     "output_type": "stream",
     "text": [
      "---------------------------------\n",
      "| batch_size        | 2048      |\n",
      "| bc/               |           |\n",
      "|    batch          | 6849      |\n",
      "|    ent_loss       | -0.000537 |\n",
      "|    entropy        | 0.537     |\n",
      "|    epoch          | 685       |\n",
      "|    l2_loss        | 0         |\n",
      "|    l2_norm        | 4.88e+03  |\n",
      "|    loss           | 0.691     |\n",
      "|    neglogp        | 0.691     |\n",
      "|    prob_true_act  | 0.756     |\n",
      "|    samples_so_far | 14028800  |\n",
      "---------------------------------\n"
     ]
    },
    {
     "name": "stderr",
     "output_type": "stream",
     "text": [
      "6860batch [41:20,  2.96batch/s]"
     ]
    },
    {
     "name": "stdout",
     "output_type": "stream",
     "text": [
      "---------------------------------\n",
      "| batch_size        | 2048      |\n",
      "| bc/               |           |\n",
      "|    batch          | 6859      |\n",
      "|    ent_loss       | -0.000538 |\n",
      "|    entropy        | 0.538     |\n",
      "|    epoch          | 686       |\n",
      "|    l2_loss        | 0         |\n",
      "|    l2_norm        | 4.88e+03  |\n",
      "|    loss           | 0.627     |\n",
      "|    neglogp        | 0.628     |\n",
      "|    prob_true_act  | 0.774     |\n",
      "|    samples_so_far | 14049280  |\n",
      "---------------------------------\n"
     ]
    },
    {
     "name": "stderr",
     "output_type": "stream",
     "text": [
      "6870batch [41:24,  2.90batch/s]"
     ]
    },
    {
     "name": "stdout",
     "output_type": "stream",
     "text": [
      "---------------------------------\n",
      "| batch_size        | 2048      |\n",
      "| bc/               |           |\n",
      "|    batch          | 6869      |\n",
      "|    ent_loss       | -0.000539 |\n",
      "|    entropy        | 0.539     |\n",
      "|    epoch          | 687       |\n",
      "|    l2_loss        | 0         |\n",
      "|    l2_norm        | 4.88e+03  |\n",
      "|    loss           | 0.654     |\n",
      "|    neglogp        | 0.654     |\n",
      "|    prob_true_act  | 0.76      |\n",
      "|    samples_so_far | 14069760  |\n",
      "---------------------------------\n"
     ]
    },
    {
     "name": "stderr",
     "output_type": "stream",
     "text": [
      "6880batch [41:28,  2.83batch/s]"
     ]
    },
    {
     "name": "stdout",
     "output_type": "stream",
     "text": [
      "--------------------------------\n",
      "| batch_size        | 2048     |\n",
      "| bc/               |          |\n",
      "|    batch          | 6879     |\n",
      "|    ent_loss       | -0.00054 |\n",
      "|    entropy        | 0.54     |\n",
      "|    epoch          | 688      |\n",
      "|    l2_loss        | 0        |\n",
      "|    l2_norm        | 4.88e+03 |\n",
      "|    loss           | 0.681    |\n",
      "|    neglogp        | 0.681    |\n",
      "|    prob_true_act  | 0.756    |\n",
      "|    samples_so_far | 14090240 |\n",
      "--------------------------------\n"
     ]
    },
    {
     "name": "stderr",
     "output_type": "stream",
     "text": [
      "6890batch [41:31,  2.92batch/s]"
     ]
    },
    {
     "name": "stdout",
     "output_type": "stream",
     "text": [
      "---------------------------------\n",
      "| batch_size        | 2048      |\n",
      "| bc/               |           |\n",
      "|    batch          | 6889      |\n",
      "|    ent_loss       | -0.000541 |\n",
      "|    entropy        | 0.541     |\n",
      "|    epoch          | 689       |\n",
      "|    l2_loss        | 0         |\n",
      "|    l2_norm        | 4.88e+03  |\n",
      "|    loss           | 0.626     |\n",
      "|    neglogp        | 0.627     |\n",
      "|    prob_true_act  | 0.763     |\n",
      "|    samples_so_far | 14110720  |\n",
      "---------------------------------\n"
     ]
    },
    {
     "name": "stderr",
     "output_type": "stream",
     "text": [
      "6900batch [41:35,  2.95batch/s]"
     ]
    },
    {
     "name": "stdout",
     "output_type": "stream",
     "text": [
      "---------------------------------\n",
      "| batch_size        | 2048      |\n",
      "| bc/               |           |\n",
      "|    batch          | 6899      |\n",
      "|    ent_loss       | -0.000542 |\n",
      "|    entropy        | 0.542     |\n",
      "|    epoch          | 690       |\n",
      "|    l2_loss        | 0         |\n",
      "|    l2_norm        | 4.88e+03  |\n",
      "|    loss           | 0.643     |\n",
      "|    neglogp        | 0.643     |\n",
      "|    prob_true_act  | 0.767     |\n",
      "|    samples_so_far | 14131200  |\n",
      "---------------------------------\n"
     ]
    },
    {
     "name": "stderr",
     "output_type": "stream",
     "text": [
      "6910batch [41:39,  2.13batch/s]"
     ]
    },
    {
     "name": "stdout",
     "output_type": "stream",
     "text": [
      "---------------------------------\n",
      "| batch_size        | 2048      |\n",
      "| bc/               |           |\n",
      "|    batch          | 6909      |\n",
      "|    ent_loss       | -0.000543 |\n",
      "|    entropy        | 0.543     |\n",
      "|    epoch          | 691       |\n",
      "|    l2_loss        | 0         |\n",
      "|    l2_norm        | 4.88e+03  |\n",
      "|    loss           | 0.68      |\n",
      "|    neglogp        | 0.681     |\n",
      "|    prob_true_act  | 0.758     |\n",
      "|    samples_so_far | 14151680  |\n",
      "---------------------------------\n"
     ]
    },
    {
     "name": "stderr",
     "output_type": "stream",
     "text": [
      "6920batch [41:43,  2.93batch/s]"
     ]
    },
    {
     "name": "stdout",
     "output_type": "stream",
     "text": [
      "---------------------------------\n",
      "| batch_size        | 2048      |\n",
      "| bc/               |           |\n",
      "|    batch          | 6919      |\n",
      "|    ent_loss       | -0.000544 |\n",
      "|    entropy        | 0.544     |\n",
      "|    epoch          | 692       |\n",
      "|    l2_loss        | 0         |\n",
      "|    l2_norm        | 4.88e+03  |\n",
      "|    loss           | 0.666     |\n",
      "|    neglogp        | 0.667     |\n",
      "|    prob_true_act  | 0.746     |\n",
      "|    samples_so_far | 14172160  |\n",
      "---------------------------------\n"
     ]
    },
    {
     "name": "stderr",
     "output_type": "stream",
     "text": [
      "6930batch [41:46,  2.94batch/s]"
     ]
    },
    {
     "name": "stdout",
     "output_type": "stream",
     "text": [
      "---------------------------------\n",
      "| batch_size        | 2048      |\n",
      "| bc/               |           |\n",
      "|    batch          | 6929      |\n",
      "|    ent_loss       | -0.000545 |\n",
      "|    entropy        | 0.545     |\n",
      "|    epoch          | 693       |\n",
      "|    l2_loss        | 0         |\n",
      "|    l2_norm        | 4.88e+03  |\n",
      "|    loss           | 0.67      |\n",
      "|    neglogp        | 0.67      |\n",
      "|    prob_true_act  | 0.751     |\n",
      "|    samples_so_far | 14192640  |\n",
      "---------------------------------\n"
     ]
    },
    {
     "name": "stderr",
     "output_type": "stream",
     "text": [
      "6940batch [41:50,  2.87batch/s]"
     ]
    },
    {
     "name": "stdout",
     "output_type": "stream",
     "text": [
      "---------------------------------\n",
      "| batch_size        | 2048      |\n",
      "| bc/               |           |\n",
      "|    batch          | 6939      |\n",
      "|    ent_loss       | -0.000546 |\n",
      "|    entropy        | 0.546     |\n",
      "|    epoch          | 694       |\n",
      "|    l2_loss        | 0         |\n",
      "|    l2_norm        | 4.88e+03  |\n",
      "|    loss           | 0.661     |\n",
      "|    neglogp        | 0.662     |\n",
      "|    prob_true_act  | 0.761     |\n",
      "|    samples_so_far | 14213120  |\n",
      "---------------------------------\n"
     ]
    },
    {
     "name": "stderr",
     "output_type": "stream",
     "text": [
      "6950batch [41:53,  2.97batch/s]"
     ]
    },
    {
     "name": "stdout",
     "output_type": "stream",
     "text": [
      "---------------------------------\n",
      "| batch_size        | 2048      |\n",
      "| bc/               |           |\n",
      "|    batch          | 6949      |\n",
      "|    ent_loss       | -0.000547 |\n",
      "|    entropy        | 0.547     |\n",
      "|    epoch          | 695       |\n",
      "|    l2_loss        | 0         |\n",
      "|    l2_norm        | 4.88e+03  |\n",
      "|    loss           | 0.655     |\n",
      "|    neglogp        | 0.655     |\n",
      "|    prob_true_act  | 0.761     |\n",
      "|    samples_so_far | 14233600  |\n",
      "---------------------------------\n"
     ]
    },
    {
     "name": "stderr",
     "output_type": "stream",
     "text": [
      "6960batch [41:57,  3.00batch/s]"
     ]
    },
    {
     "name": "stdout",
     "output_type": "stream",
     "text": [
      "---------------------------------\n",
      "| batch_size        | 2048      |\n",
      "| bc/               |           |\n",
      "|    batch          | 6959      |\n",
      "|    ent_loss       | -0.000548 |\n",
      "|    entropy        | 0.548     |\n",
      "|    epoch          | 696       |\n",
      "|    l2_loss        | 0         |\n",
      "|    l2_norm        | 4.88e+03  |\n",
      "|    loss           | 0.667     |\n",
      "|    neglogp        | 0.667     |\n",
      "|    prob_true_act  | 0.761     |\n",
      "|    samples_so_far | 14254080  |\n",
      "---------------------------------\n"
     ]
    },
    {
     "name": "stderr",
     "output_type": "stream",
     "text": [
      "6970batch [42:00,  3.02batch/s]"
     ]
    },
    {
     "name": "stdout",
     "output_type": "stream",
     "text": [
      "---------------------------------\n",
      "| batch_size        | 2048      |\n",
      "| bc/               |           |\n",
      "|    batch          | 6969      |\n",
      "|    ent_loss       | -0.000549 |\n",
      "|    entropy        | 0.549     |\n",
      "|    epoch          | 697       |\n",
      "|    l2_loss        | 0         |\n",
      "|    l2_norm        | 4.88e+03  |\n",
      "|    loss           | 0.63      |\n",
      "|    neglogp        | 0.631     |\n",
      "|    prob_true_act  | 0.761     |\n",
      "|    samples_so_far | 14274560  |\n",
      "---------------------------------\n"
     ]
    },
    {
     "name": "stderr",
     "output_type": "stream",
     "text": [
      "6980batch [42:04,  3.00batch/s]"
     ]
    },
    {
     "name": "stdout",
     "output_type": "stream",
     "text": [
      "--------------------------------\n",
      "| batch_size        | 2048     |\n",
      "| bc/               |          |\n",
      "|    batch          | 6979     |\n",
      "|    ent_loss       | -0.00055 |\n",
      "|    entropy        | 0.55     |\n",
      "|    epoch          | 698      |\n",
      "|    l2_loss        | 0        |\n",
      "|    l2_norm        | 4.88e+03 |\n",
      "|    loss           | 0.66     |\n",
      "|    neglogp        | 0.661    |\n",
      "|    prob_true_act  | 0.761    |\n",
      "|    samples_so_far | 14295040 |\n",
      "--------------------------------\n"
     ]
    },
    {
     "name": "stderr",
     "output_type": "stream",
     "text": [
      "6990batch [42:08,  2.88batch/s]"
     ]
    },
    {
     "name": "stdout",
     "output_type": "stream",
     "text": [
      "---------------------------------\n",
      "| batch_size        | 2048      |\n",
      "| bc/               |           |\n",
      "|    batch          | 6989      |\n",
      "|    ent_loss       | -0.000551 |\n",
      "|    entropy        | 0.551     |\n",
      "|    epoch          | 699       |\n",
      "|    l2_loss        | 0         |\n",
      "|    l2_norm        | 4.88e+03  |\n",
      "|    loss           | 0.668     |\n",
      "|    neglogp        | 0.668     |\n",
      "|    prob_true_act  | 0.755     |\n",
      "|    samples_so_far | 14315520  |\n",
      "---------------------------------\n"
     ]
    },
    {
     "name": "stderr",
     "output_type": "stream",
     "text": [
      "7000batch [42:11,  2.98batch/s]"
     ]
    },
    {
     "name": "stdout",
     "output_type": "stream",
     "text": [
      "---------------------------------\n",
      "| batch_size        | 2048      |\n",
      "| bc/               |           |\n",
      "|    batch          | 6999      |\n",
      "|    ent_loss       | -0.000552 |\n",
      "|    entropy        | 0.552     |\n",
      "|    epoch          | 700       |\n",
      "|    l2_loss        | 0         |\n",
      "|    l2_norm        | 4.88e+03  |\n",
      "|    loss           | 0.626     |\n",
      "|    neglogp        | 0.626     |\n",
      "|    prob_true_act  | 0.763     |\n",
      "|    samples_so_far | 14336000  |\n",
      "---------------------------------\n"
     ]
    },
    {
     "name": "stderr",
     "output_type": "stream",
     "text": [
      "7010batch [42:15,  2.95batch/s]"
     ]
    },
    {
     "name": "stdout",
     "output_type": "stream",
     "text": [
      "---------------------------------\n",
      "| batch_size        | 2048      |\n",
      "| bc/               |           |\n",
      "|    batch          | 7009      |\n",
      "|    ent_loss       | -0.000553 |\n",
      "|    entropy        | 0.553     |\n",
      "|    epoch          | 701       |\n",
      "|    l2_loss        | 0         |\n",
      "|    l2_norm        | 4.88e+03  |\n",
      "|    loss           | 0.619     |\n",
      "|    neglogp        | 0.619     |\n",
      "|    prob_true_act  | 0.764     |\n",
      "|    samples_so_far | 14356480  |\n",
      "---------------------------------\n"
     ]
    },
    {
     "name": "stderr",
     "output_type": "stream",
     "text": [
      "7020batch [42:18,  2.97batch/s]"
     ]
    },
    {
     "name": "stdout",
     "output_type": "stream",
     "text": [
      "---------------------------------\n",
      "| batch_size        | 2048      |\n",
      "| bc/               |           |\n",
      "|    batch          | 7019      |\n",
      "|    ent_loss       | -0.000554 |\n",
      "|    entropy        | 0.554     |\n",
      "|    epoch          | 702       |\n",
      "|    l2_loss        | 0         |\n",
      "|    l2_norm        | 4.88e+03  |\n",
      "|    loss           | 0.626     |\n",
      "|    neglogp        | 0.627     |\n",
      "|    prob_true_act  | 0.767     |\n",
      "|    samples_so_far | 14376960  |\n",
      "---------------------------------\n"
     ]
    },
    {
     "name": "stderr",
     "output_type": "stream",
     "text": [
      "7030batch [42:22,  2.97batch/s]"
     ]
    },
    {
     "name": "stdout",
     "output_type": "stream",
     "text": [
      "---------------------------------\n",
      "| batch_size        | 2048      |\n",
      "| bc/               |           |\n",
      "|    batch          | 7029      |\n",
      "|    ent_loss       | -0.000555 |\n",
      "|    entropy        | 0.555     |\n",
      "|    epoch          | 703       |\n",
      "|    l2_loss        | 0         |\n",
      "|    l2_norm        | 4.88e+03  |\n",
      "|    loss           | 0.664     |\n",
      "|    neglogp        | 0.664     |\n",
      "|    prob_true_act  | 0.759     |\n",
      "|    samples_so_far | 14397440  |\n",
      "---------------------------------\n"
     ]
    },
    {
     "name": "stderr",
     "output_type": "stream",
     "text": [
      "7040batch [42:25,  2.96batch/s]"
     ]
    },
    {
     "name": "stdout",
     "output_type": "stream",
     "text": [
      "---------------------------------\n",
      "| batch_size        | 2048      |\n",
      "| bc/               |           |\n",
      "|    batch          | 7039      |\n",
      "|    ent_loss       | -0.000555 |\n",
      "|    entropy        | 0.555     |\n",
      "|    epoch          | 704       |\n",
      "|    l2_loss        | 0         |\n",
      "|    l2_norm        | 4.88e+03  |\n",
      "|    loss           | 0.624     |\n",
      "|    neglogp        | 0.625     |\n",
      "|    prob_true_act  | 0.76      |\n",
      "|    samples_so_far | 14417920  |\n",
      "---------------------------------\n"
     ]
    },
    {
     "name": "stderr",
     "output_type": "stream",
     "text": [
      "7050batch [42:29,  2.96batch/s]"
     ]
    },
    {
     "name": "stdout",
     "output_type": "stream",
     "text": [
      "---------------------------------\n",
      "| batch_size        | 2048      |\n",
      "| bc/               |           |\n",
      "|    batch          | 7049      |\n",
      "|    ent_loss       | -0.000556 |\n",
      "|    entropy        | 0.556     |\n",
      "|    epoch          | 705       |\n",
      "|    l2_loss        | 0         |\n",
      "|    l2_norm        | 4.88e+03  |\n",
      "|    loss           | 0.614     |\n",
      "|    neglogp        | 0.614     |\n",
      "|    prob_true_act  | 0.764     |\n",
      "|    samples_so_far | 14438400  |\n",
      "---------------------------------\n"
     ]
    },
    {
     "name": "stderr",
     "output_type": "stream",
     "text": [
      "7060batch [42:32,  3.00batch/s]"
     ]
    },
    {
     "name": "stdout",
     "output_type": "stream",
     "text": [
      "---------------------------------\n",
      "| batch_size        | 2048      |\n",
      "| bc/               |           |\n",
      "|    batch          | 7059      |\n",
      "|    ent_loss       | -0.000557 |\n",
      "|    entropy        | 0.557     |\n",
      "|    epoch          | 706       |\n",
      "|    l2_loss        | 0         |\n",
      "|    l2_norm        | 4.88e+03  |\n",
      "|    loss           | 0.641     |\n",
      "|    neglogp        | 0.642     |\n",
      "|    prob_true_act  | 0.759     |\n",
      "|    samples_so_far | 14458880  |\n",
      "---------------------------------\n"
     ]
    },
    {
     "name": "stderr",
     "output_type": "stream",
     "text": [
      "7070batch [42:36,  2.69batch/s]"
     ]
    },
    {
     "name": "stdout",
     "output_type": "stream",
     "text": [
      "---------------------------------\n",
      "| batch_size        | 2048      |\n",
      "| bc/               |           |\n",
      "|    batch          | 7069      |\n",
      "|    ent_loss       | -0.000558 |\n",
      "|    entropy        | 0.558     |\n",
      "|    epoch          | 707       |\n",
      "|    l2_loss        | 0         |\n",
      "|    l2_norm        | 4.88e+03  |\n",
      "|    loss           | 0.695     |\n",
      "|    neglogp        | 0.695     |\n",
      "|    prob_true_act  | 0.746     |\n",
      "|    samples_so_far | 14479360  |\n",
      "---------------------------------\n"
     ]
    },
    {
     "name": "stderr",
     "output_type": "stream",
     "text": [
      "7080batch [42:40,  2.98batch/s]"
     ]
    },
    {
     "name": "stdout",
     "output_type": "stream",
     "text": [
      "---------------------------------\n",
      "| batch_size        | 2048      |\n",
      "| bc/               |           |\n",
      "|    batch          | 7079      |\n",
      "|    ent_loss       | -0.000559 |\n",
      "|    entropy        | 0.559     |\n",
      "|    epoch          | 708       |\n",
      "|    l2_loss        | 0         |\n",
      "|    l2_norm        | 4.88e+03  |\n",
      "|    loss           | 0.624     |\n",
      "|    neglogp        | 0.624     |\n",
      "|    prob_true_act  | 0.764     |\n",
      "|    samples_so_far | 14499840  |\n",
      "---------------------------------\n"
     ]
    },
    {
     "name": "stderr",
     "output_type": "stream",
     "text": [
      "7090batch [42:43,  2.97batch/s]"
     ]
    },
    {
     "name": "stdout",
     "output_type": "stream",
     "text": [
      "--------------------------------\n",
      "| batch_size        | 2048     |\n",
      "| bc/               |          |\n",
      "|    batch          | 7089     |\n",
      "|    ent_loss       | -0.00056 |\n",
      "|    entropy        | 0.56     |\n",
      "|    epoch          | 709      |\n",
      "|    l2_loss        | 0        |\n",
      "|    l2_norm        | 4.88e+03 |\n",
      "|    loss           | 0.678    |\n",
      "|    neglogp        | 0.679    |\n",
      "|    prob_true_act  | 0.743    |\n",
      "|    samples_so_far | 14520320 |\n",
      "--------------------------------\n"
     ]
    },
    {
     "name": "stderr",
     "output_type": "stream",
     "text": [
      "7100batch [42:47,  2.99batch/s]"
     ]
    },
    {
     "name": "stdout",
     "output_type": "stream",
     "text": [
      "---------------------------------\n",
      "| batch_size        | 2048      |\n",
      "| bc/               |           |\n",
      "|    batch          | 7099      |\n",
      "|    ent_loss       | -0.000561 |\n",
      "|    entropy        | 0.561     |\n",
      "|    epoch          | 710       |\n",
      "|    l2_loss        | 0         |\n",
      "|    l2_norm        | 4.88e+03  |\n",
      "|    loss           | 0.662     |\n",
      "|    neglogp        | 0.663     |\n",
      "|    prob_true_act  | 0.753     |\n",
      "|    samples_so_far | 14540800  |\n",
      "---------------------------------\n"
     ]
    },
    {
     "name": "stderr",
     "output_type": "stream",
     "text": [
      "7110batch [42:50,  2.97batch/s]"
     ]
    },
    {
     "name": "stdout",
     "output_type": "stream",
     "text": [
      "---------------------------------\n",
      "| batch_size        | 2048      |\n",
      "| bc/               |           |\n",
      "|    batch          | 7109      |\n",
      "|    ent_loss       | -0.000562 |\n",
      "|    entropy        | 0.562     |\n",
      "|    epoch          | 711       |\n",
      "|    l2_loss        | 0         |\n",
      "|    l2_norm        | 4.88e+03  |\n",
      "|    loss           | 0.653     |\n",
      "|    neglogp        | 0.653     |\n",
      "|    prob_true_act  | 0.749     |\n",
      "|    samples_so_far | 14561280  |\n",
      "---------------------------------\n"
     ]
    },
    {
     "name": "stderr",
     "output_type": "stream",
     "text": [
      "7120batch [42:54,  2.98batch/s]"
     ]
    },
    {
     "name": "stdout",
     "output_type": "stream",
     "text": [
      "---------------------------------\n",
      "| batch_size        | 2048      |\n",
      "| bc/               |           |\n",
      "|    batch          | 7119      |\n",
      "|    ent_loss       | -0.000563 |\n",
      "|    entropy        | 0.563     |\n",
      "|    epoch          | 712       |\n",
      "|    l2_loss        | 0         |\n",
      "|    l2_norm        | 4.88e+03  |\n",
      "|    loss           | 0.667     |\n",
      "|    neglogp        | 0.667     |\n",
      "|    prob_true_act  | 0.759     |\n",
      "|    samples_so_far | 14581760  |\n",
      "---------------------------------\n"
     ]
    },
    {
     "name": "stderr",
     "output_type": "stream",
     "text": [
      "7130batch [42:57,  2.94batch/s]"
     ]
    },
    {
     "name": "stdout",
     "output_type": "stream",
     "text": [
      "---------------------------------\n",
      "| batch_size        | 2048      |\n",
      "| bc/               |           |\n",
      "|    batch          | 7129      |\n",
      "|    ent_loss       | -0.000564 |\n",
      "|    entropy        | 0.564     |\n",
      "|    epoch          | 713       |\n",
      "|    l2_loss        | 0         |\n",
      "|    l2_norm        | 4.88e+03  |\n",
      "|    loss           | 0.641     |\n",
      "|    neglogp        | 0.642     |\n",
      "|    prob_true_act  | 0.757     |\n",
      "|    samples_so_far | 14602240  |\n",
      "---------------------------------\n"
     ]
    },
    {
     "name": "stderr",
     "output_type": "stream",
     "text": [
      "7140batch [43:01,  2.97batch/s]"
     ]
    },
    {
     "name": "stdout",
     "output_type": "stream",
     "text": [
      "---------------------------------\n",
      "| batch_size        | 2048      |\n",
      "| bc/               |           |\n",
      "|    batch          | 7139      |\n",
      "|    ent_loss       | -0.000565 |\n",
      "|    entropy        | 0.565     |\n",
      "|    epoch          | 714       |\n",
      "|    l2_loss        | 0         |\n",
      "|    l2_norm        | 4.88e+03  |\n",
      "|    loss           | 0.637     |\n",
      "|    neglogp        | 0.637     |\n",
      "|    prob_true_act  | 0.76      |\n",
      "|    samples_so_far | 14622720  |\n",
      "---------------------------------\n"
     ]
    },
    {
     "name": "stderr",
     "output_type": "stream",
     "text": [
      "7150batch [43:04,  2.98batch/s]"
     ]
    },
    {
     "name": "stdout",
     "output_type": "stream",
     "text": [
      "---------------------------------\n",
      "| batch_size        | 2048      |\n",
      "| bc/               |           |\n",
      "|    batch          | 7149      |\n",
      "|    ent_loss       | -0.000565 |\n",
      "|    entropy        | 0.565     |\n",
      "|    epoch          | 715       |\n",
      "|    l2_loss        | 0         |\n",
      "|    l2_norm        | 4.88e+03  |\n",
      "|    loss           | 0.681     |\n",
      "|    neglogp        | 0.681     |\n",
      "|    prob_true_act  | 0.745     |\n",
      "|    samples_so_far | 14643200  |\n",
      "---------------------------------\n"
     ]
    },
    {
     "name": "stderr",
     "output_type": "stream",
     "text": [
      "7160batch [43:08,  3.00batch/s]"
     ]
    },
    {
     "name": "stdout",
     "output_type": "stream",
     "text": [
      "---------------------------------\n",
      "| batch_size        | 2048      |\n",
      "| bc/               |           |\n",
      "|    batch          | 7159      |\n",
      "|    ent_loss       | -0.000566 |\n",
      "|    entropy        | 0.566     |\n",
      "|    epoch          | 716       |\n",
      "|    l2_loss        | 0         |\n",
      "|    l2_norm        | 4.88e+03  |\n",
      "|    loss           | 0.631     |\n",
      "|    neglogp        | 0.631     |\n",
      "|    prob_true_act  | 0.755     |\n",
      "|    samples_so_far | 14663680  |\n",
      "---------------------------------\n"
     ]
    },
    {
     "name": "stderr",
     "output_type": "stream",
     "text": [
      "7170batch [43:11,  2.95batch/s]"
     ]
    },
    {
     "name": "stdout",
     "output_type": "stream",
     "text": [
      "---------------------------------\n",
      "| batch_size        | 2048      |\n",
      "| bc/               |           |\n",
      "|    batch          | 7169      |\n",
      "|    ent_loss       | -0.000567 |\n",
      "|    entropy        | 0.567     |\n",
      "|    epoch          | 717       |\n",
      "|    l2_loss        | 0         |\n",
      "|    l2_norm        | 4.88e+03  |\n",
      "|    loss           | 0.666     |\n",
      "|    neglogp        | 0.666     |\n",
      "|    prob_true_act  | 0.75      |\n",
      "|    samples_so_far | 14684160  |\n",
      "---------------------------------\n"
     ]
    },
    {
     "name": "stderr",
     "output_type": "stream",
     "text": [
      "7180batch [43:15,  2.99batch/s]"
     ]
    },
    {
     "name": "stdout",
     "output_type": "stream",
     "text": [
      "---------------------------------\n",
      "| batch_size        | 2048      |\n",
      "| bc/               |           |\n",
      "|    batch          | 7179      |\n",
      "|    ent_loss       | -0.000568 |\n",
      "|    entropy        | 0.568     |\n",
      "|    epoch          | 718       |\n",
      "|    l2_loss        | 0         |\n",
      "|    l2_norm        | 4.88e+03  |\n",
      "|    loss           | 0.656     |\n",
      "|    neglogp        | 0.656     |\n",
      "|    prob_true_act  | 0.756     |\n",
      "|    samples_so_far | 14704640  |\n",
      "---------------------------------\n"
     ]
    },
    {
     "name": "stderr",
     "output_type": "stream",
     "text": [
      "7190batch [43:19,  2.96batch/s]"
     ]
    },
    {
     "name": "stdout",
     "output_type": "stream",
     "text": [
      "---------------------------------\n",
      "| batch_size        | 2048      |\n",
      "| bc/               |           |\n",
      "|    batch          | 7189      |\n",
      "|    ent_loss       | -0.000569 |\n",
      "|    entropy        | 0.569     |\n",
      "|    epoch          | 719       |\n",
      "|    l2_loss        | 0         |\n",
      "|    l2_norm        | 4.88e+03  |\n",
      "|    loss           | 0.616     |\n",
      "|    neglogp        | 0.616     |\n",
      "|    prob_true_act  | 0.761     |\n",
      "|    samples_so_far | 14725120  |\n",
      "---------------------------------\n"
     ]
    },
    {
     "name": "stderr",
     "output_type": "stream",
     "text": [
      "7200batch [43:22,  3.00batch/s]"
     ]
    },
    {
     "name": "stdout",
     "output_type": "stream",
     "text": [
      "--------------------------------\n",
      "| batch_size        | 2048     |\n",
      "| bc/               |          |\n",
      "|    batch          | 7199     |\n",
      "|    ent_loss       | -0.00057 |\n",
      "|    entropy        | 0.57     |\n",
      "|    epoch          | 720      |\n",
      "|    l2_loss        | 0        |\n",
      "|    l2_norm        | 4.88e+03 |\n",
      "|    loss           | 0.609    |\n",
      "|    neglogp        | 0.609    |\n",
      "|    prob_true_act  | 0.761    |\n",
      "|    samples_so_far | 14745600 |\n",
      "--------------------------------\n"
     ]
    },
    {
     "name": "stderr",
     "output_type": "stream",
     "text": [
      "7210batch [43:26,  2.99batch/s]"
     ]
    },
    {
     "name": "stdout",
     "output_type": "stream",
     "text": [
      "---------------------------------\n",
      "| batch_size        | 2048      |\n",
      "| bc/               |           |\n",
      "|    batch          | 7209      |\n",
      "|    ent_loss       | -0.000571 |\n",
      "|    entropy        | 0.571     |\n",
      "|    epoch          | 721       |\n",
      "|    l2_loss        | 0         |\n",
      "|    l2_norm        | 4.88e+03  |\n",
      "|    loss           | 0.634     |\n",
      "|    neglogp        | 0.635     |\n",
      "|    prob_true_act  | 0.75      |\n",
      "|    samples_so_far | 14766080  |\n",
      "---------------------------------\n"
     ]
    },
    {
     "name": "stderr",
     "output_type": "stream",
     "text": [
      "7220batch [43:29,  2.97batch/s]"
     ]
    },
    {
     "name": "stdout",
     "output_type": "stream",
     "text": [
      "---------------------------------\n",
      "| batch_size        | 2048      |\n",
      "| bc/               |           |\n",
      "|    batch          | 7219      |\n",
      "|    ent_loss       | -0.000571 |\n",
      "|    entropy        | 0.571     |\n",
      "|    epoch          | 722       |\n",
      "|    l2_loss        | 0         |\n",
      "|    l2_norm        | 4.88e+03  |\n",
      "|    loss           | 0.632     |\n",
      "|    neglogp        | 0.633     |\n",
      "|    prob_true_act  | 0.756     |\n",
      "|    samples_so_far | 14786560  |\n",
      "---------------------------------\n"
     ]
    },
    {
     "name": "stderr",
     "output_type": "stream",
     "text": [
      "7230batch [43:33,  2.98batch/s]"
     ]
    },
    {
     "name": "stdout",
     "output_type": "stream",
     "text": [
      "---------------------------------\n",
      "| batch_size        | 2048      |\n",
      "| bc/               |           |\n",
      "|    batch          | 7229      |\n",
      "|    ent_loss       | -0.000572 |\n",
      "|    entropy        | 0.572     |\n",
      "|    epoch          | 723       |\n",
      "|    l2_loss        | 0         |\n",
      "|    l2_norm        | 4.88e+03  |\n",
      "|    loss           | 0.68      |\n",
      "|    neglogp        | 0.68      |\n",
      "|    prob_true_act  | 0.747     |\n",
      "|    samples_so_far | 14807040  |\n",
      "---------------------------------\n"
     ]
    },
    {
     "name": "stderr",
     "output_type": "stream",
     "text": [
      "7240batch [43:36,  2.98batch/s]"
     ]
    },
    {
     "name": "stdout",
     "output_type": "stream",
     "text": [
      "---------------------------------\n",
      "| batch_size        | 2048      |\n",
      "| bc/               |           |\n",
      "|    batch          | 7239      |\n",
      "|    ent_loss       | -0.000573 |\n",
      "|    entropy        | 0.573     |\n",
      "|    epoch          | 724       |\n",
      "|    l2_loss        | 0         |\n",
      "|    l2_norm        | 4.88e+03  |\n",
      "|    loss           | 0.66      |\n",
      "|    neglogp        | 0.66      |\n",
      "|    prob_true_act  | 0.75      |\n",
      "|    samples_so_far | 14827520  |\n",
      "---------------------------------\n"
     ]
    },
    {
     "name": "stderr",
     "output_type": "stream",
     "text": [
      "7250batch [43:40,  3.00batch/s]"
     ]
    },
    {
     "name": "stdout",
     "output_type": "stream",
     "text": [
      "---------------------------------\n",
      "| batch_size        | 2048      |\n",
      "| bc/               |           |\n",
      "|    batch          | 7249      |\n",
      "|    ent_loss       | -0.000574 |\n",
      "|    entropy        | 0.574     |\n",
      "|    epoch          | 725       |\n",
      "|    l2_loss        | 0         |\n",
      "|    l2_norm        | 4.88e+03  |\n",
      "|    loss           | 0.658     |\n",
      "|    neglogp        | 0.659     |\n",
      "|    prob_true_act  | 0.746     |\n",
      "|    samples_so_far | 14848000  |\n",
      "---------------------------------\n"
     ]
    },
    {
     "name": "stderr",
     "output_type": "stream",
     "text": [
      "7260batch [43:43,  2.98batch/s]"
     ]
    },
    {
     "name": "stdout",
     "output_type": "stream",
     "text": [
      "---------------------------------\n",
      "| batch_size        | 2048      |\n",
      "| bc/               |           |\n",
      "|    batch          | 7259      |\n",
      "|    ent_loss       | -0.000575 |\n",
      "|    entropy        | 0.575     |\n",
      "|    epoch          | 726       |\n",
      "|    l2_loss        | 0         |\n",
      "|    l2_norm        | 4.88e+03  |\n",
      "|    loss           | 0.642     |\n",
      "|    neglogp        | 0.642     |\n",
      "|    prob_true_act  | 0.751     |\n",
      "|    samples_so_far | 14868480  |\n",
      "---------------------------------\n"
     ]
    },
    {
     "name": "stderr",
     "output_type": "stream",
     "text": [
      "7270batch [43:47,  2.70batch/s]"
     ]
    },
    {
     "name": "stdout",
     "output_type": "stream",
     "text": [
      "---------------------------------\n",
      "| batch_size        | 2048      |\n",
      "| bc/               |           |\n",
      "|    batch          | 7269      |\n",
      "|    ent_loss       | -0.000576 |\n",
      "|    entropy        | 0.576     |\n",
      "|    epoch          | 727       |\n",
      "|    l2_loss        | 0         |\n",
      "|    l2_norm        | 4.88e+03  |\n",
      "|    loss           | 0.661     |\n",
      "|    neglogp        | 0.661     |\n",
      "|    prob_true_act  | 0.742     |\n",
      "|    samples_so_far | 14888960  |\n",
      "---------------------------------\n"
     ]
    },
    {
     "name": "stderr",
     "output_type": "stream",
     "text": [
      "7280batch [43:51,  2.97batch/s]"
     ]
    },
    {
     "name": "stdout",
     "output_type": "stream",
     "text": [
      "---------------------------------\n",
      "| batch_size        | 2048      |\n",
      "| bc/               |           |\n",
      "|    batch          | 7279      |\n",
      "|    ent_loss       | -0.000576 |\n",
      "|    entropy        | 0.576     |\n",
      "|    epoch          | 728       |\n",
      "|    l2_loss        | 0         |\n",
      "|    l2_norm        | 4.88e+03  |\n",
      "|    loss           | 0.646     |\n",
      "|    neglogp        | 0.647     |\n",
      "|    prob_true_act  | 0.747     |\n",
      "|    samples_so_far | 14909440  |\n",
      "---------------------------------\n"
     ]
    },
    {
     "name": "stderr",
     "output_type": "stream",
     "text": [
      "7290batch [43:54,  2.96batch/s]"
     ]
    },
    {
     "name": "stdout",
     "output_type": "stream",
     "text": [
      "---------------------------------\n",
      "| batch_size        | 2048      |\n",
      "| bc/               |           |\n",
      "|    batch          | 7289      |\n",
      "|    ent_loss       | -0.000577 |\n",
      "|    entropy        | 0.577     |\n",
      "|    epoch          | 729       |\n",
      "|    l2_loss        | 0         |\n",
      "|    l2_norm        | 4.88e+03  |\n",
      "|    loss           | 0.651     |\n",
      "|    neglogp        | 0.652     |\n",
      "|    prob_true_act  | 0.748     |\n",
      "|    samples_so_far | 14929920  |\n",
      "---------------------------------\n"
     ]
    },
    {
     "name": "stderr",
     "output_type": "stream",
     "text": [
      "7300batch [43:58,  2.92batch/s]"
     ]
    },
    {
     "name": "stdout",
     "output_type": "stream",
     "text": [
      "---------------------------------\n",
      "| batch_size        | 2048      |\n",
      "| bc/               |           |\n",
      "|    batch          | 7299      |\n",
      "|    ent_loss       | -0.000578 |\n",
      "|    entropy        | 0.578     |\n",
      "|    epoch          | 730       |\n",
      "|    l2_loss        | 0         |\n",
      "|    l2_norm        | 4.88e+03  |\n",
      "|    loss           | 0.649     |\n",
      "|    neglogp        | 0.65      |\n",
      "|    prob_true_act  | 0.753     |\n",
      "|    samples_so_far | 14950400  |\n",
      "---------------------------------\n"
     ]
    },
    {
     "name": "stderr",
     "output_type": "stream",
     "text": [
      "7310batch [44:02,  2.98batch/s]"
     ]
    },
    {
     "name": "stdout",
     "output_type": "stream",
     "text": [
      "---------------------------------\n",
      "| batch_size        | 2048      |\n",
      "| bc/               |           |\n",
      "|    batch          | 7309      |\n",
      "|    ent_loss       | -0.000579 |\n",
      "|    entropy        | 0.579     |\n",
      "|    epoch          | 731       |\n",
      "|    l2_loss        | 0         |\n",
      "|    l2_norm        | 4.88e+03  |\n",
      "|    loss           | 0.653     |\n",
      "|    neglogp        | 0.654     |\n",
      "|    prob_true_act  | 0.751     |\n",
      "|    samples_so_far | 14970880  |\n",
      "---------------------------------\n"
     ]
    },
    {
     "name": "stderr",
     "output_type": "stream",
     "text": [
      "7320batch [44:05,  2.58batch/s]"
     ]
    },
    {
     "name": "stdout",
     "output_type": "stream",
     "text": [
      "---------------------------------\n",
      "| batch_size        | 2048      |\n",
      "| bc/               |           |\n",
      "|    batch          | 7319      |\n",
      "|    ent_loss       | -0.000579 |\n",
      "|    entropy        | 0.579     |\n",
      "|    epoch          | 732       |\n",
      "|    l2_loss        | 0         |\n",
      "|    l2_norm        | 4.88e+03  |\n",
      "|    loss           | 0.653     |\n",
      "|    neglogp        | 0.654     |\n",
      "|    prob_true_act  | 0.754     |\n",
      "|    samples_so_far | 14991360  |\n",
      "---------------------------------\n"
     ]
    },
    {
     "name": "stderr",
     "output_type": "stream",
     "text": [
      "7330batch [44:09,  2.91batch/s]"
     ]
    },
    {
     "name": "stdout",
     "output_type": "stream",
     "text": [
      "--------------------------------\n",
      "| batch_size        | 2048     |\n",
      "| bc/               |          |\n",
      "|    batch          | 7329     |\n",
      "|    ent_loss       | -0.00058 |\n",
      "|    entropy        | 0.58     |\n",
      "|    epoch          | 733      |\n",
      "|    l2_loss        | 0        |\n",
      "|    l2_norm        | 4.88e+03 |\n",
      "|    loss           | 0.632    |\n",
      "|    neglogp        | 0.633    |\n",
      "|    prob_true_act  | 0.755    |\n",
      "|    samples_so_far | 15011840 |\n",
      "--------------------------------\n"
     ]
    },
    {
     "name": "stderr",
     "output_type": "stream",
     "text": [
      "7340batch [44:13,  2.99batch/s]"
     ]
    },
    {
     "name": "stdout",
     "output_type": "stream",
     "text": [
      "---------------------------------\n",
      "| batch_size        | 2048      |\n",
      "| bc/               |           |\n",
      "|    batch          | 7339      |\n",
      "|    ent_loss       | -0.000581 |\n",
      "|    entropy        | 0.581     |\n",
      "|    epoch          | 734       |\n",
      "|    l2_loss        | 0         |\n",
      "|    l2_norm        | 4.88e+03  |\n",
      "|    loss           | 0.642     |\n",
      "|    neglogp        | 0.642     |\n",
      "|    prob_true_act  | 0.76      |\n",
      "|    samples_so_far | 15032320  |\n",
      "---------------------------------\n"
     ]
    },
    {
     "name": "stderr",
     "output_type": "stream",
     "text": [
      "7350batch [44:16,  2.95batch/s]"
     ]
    },
    {
     "name": "stdout",
     "output_type": "stream",
     "text": [
      "---------------------------------\n",
      "| batch_size        | 2048      |\n",
      "| bc/               |           |\n",
      "|    batch          | 7349      |\n",
      "|    ent_loss       | -0.000582 |\n",
      "|    entropy        | 0.582     |\n",
      "|    epoch          | 735       |\n",
      "|    l2_loss        | 0         |\n",
      "|    l2_norm        | 4.88e+03  |\n",
      "|    loss           | 0.67      |\n",
      "|    neglogp        | 0.67      |\n",
      "|    prob_true_act  | 0.746     |\n",
      "|    samples_so_far | 15052800  |\n",
      "---------------------------------\n"
     ]
    },
    {
     "name": "stderr",
     "output_type": "stream",
     "text": [
      "7360batch [44:20,  2.98batch/s]"
     ]
    },
    {
     "name": "stdout",
     "output_type": "stream",
     "text": [
      "---------------------------------\n",
      "| batch_size        | 2048      |\n",
      "| bc/               |           |\n",
      "|    batch          | 7359      |\n",
      "|    ent_loss       | -0.000583 |\n",
      "|    entropy        | 0.583     |\n",
      "|    epoch          | 736       |\n",
      "|    l2_loss        | 0         |\n",
      "|    l2_norm        | 4.88e+03  |\n",
      "|    loss           | 0.67      |\n",
      "|    neglogp        | 0.671     |\n",
      "|    prob_true_act  | 0.739     |\n",
      "|    samples_so_far | 15073280  |\n",
      "---------------------------------\n"
     ]
    },
    {
     "name": "stderr",
     "output_type": "stream",
     "text": [
      "7370batch [44:23,  2.95batch/s]"
     ]
    },
    {
     "name": "stdout",
     "output_type": "stream",
     "text": [
      "---------------------------------\n",
      "| batch_size        | 2048      |\n",
      "| bc/               |           |\n",
      "|    batch          | 7369      |\n",
      "|    ent_loss       | -0.000583 |\n",
      "|    entropy        | 0.583     |\n",
      "|    epoch          | 737       |\n",
      "|    l2_loss        | 0         |\n",
      "|    l2_norm        | 4.88e+03  |\n",
      "|    loss           | 0.658     |\n",
      "|    neglogp        | 0.659     |\n",
      "|    prob_true_act  | 0.751     |\n",
      "|    samples_so_far | 15093760  |\n",
      "---------------------------------\n"
     ]
    },
    {
     "name": "stderr",
     "output_type": "stream",
     "text": [
      "7380batch [44:27,  2.83batch/s]"
     ]
    },
    {
     "name": "stdout",
     "output_type": "stream",
     "text": [
      "---------------------------------\n",
      "| batch_size        | 2048      |\n",
      "| bc/               |           |\n",
      "|    batch          | 7379      |\n",
      "|    ent_loss       | -0.000584 |\n",
      "|    entropy        | 0.584     |\n",
      "|    epoch          | 738       |\n",
      "|    l2_loss        | 0         |\n",
      "|    l2_norm        | 4.88e+03  |\n",
      "|    loss           | 0.634     |\n",
      "|    neglogp        | 0.635     |\n",
      "|    prob_true_act  | 0.752     |\n",
      "|    samples_so_far | 15114240  |\n",
      "---------------------------------\n"
     ]
    },
    {
     "name": "stderr",
     "output_type": "stream",
     "text": [
      "7390batch [44:31,  2.92batch/s]"
     ]
    },
    {
     "name": "stdout",
     "output_type": "stream",
     "text": [
      "---------------------------------\n",
      "| batch_size        | 2048      |\n",
      "| bc/               |           |\n",
      "|    batch          | 7389      |\n",
      "|    ent_loss       | -0.000585 |\n",
      "|    entropy        | 0.585     |\n",
      "|    epoch          | 739       |\n",
      "|    l2_loss        | 0         |\n",
      "|    l2_norm        | 4.88e+03  |\n",
      "|    loss           | 0.68      |\n",
      "|    neglogp        | 0.681     |\n",
      "|    prob_true_act  | 0.744     |\n",
      "|    samples_so_far | 15134720  |\n",
      "---------------------------------\n"
     ]
    },
    {
     "name": "stderr",
     "output_type": "stream",
     "text": [
      "7400batch [44:34,  2.98batch/s]"
     ]
    },
    {
     "name": "stdout",
     "output_type": "stream",
     "text": [
      "---------------------------------\n",
      "| batch_size        | 2048      |\n",
      "| bc/               |           |\n",
      "|    batch          | 7399      |\n",
      "|    ent_loss       | -0.000586 |\n",
      "|    entropy        | 0.586     |\n",
      "|    epoch          | 740       |\n",
      "|    l2_loss        | 0         |\n",
      "|    l2_norm        | 4.88e+03  |\n",
      "|    loss           | 0.63      |\n",
      "|    neglogp        | 0.63      |\n",
      "|    prob_true_act  | 0.759     |\n",
      "|    samples_so_far | 15155200  |\n",
      "---------------------------------\n"
     ]
    },
    {
     "name": "stderr",
     "output_type": "stream",
     "text": [
      "7410batch [44:38,  2.96batch/s]"
     ]
    },
    {
     "name": "stdout",
     "output_type": "stream",
     "text": [
      "---------------------------------\n",
      "| batch_size        | 2048      |\n",
      "| bc/               |           |\n",
      "|    batch          | 7409      |\n",
      "|    ent_loss       | -0.000586 |\n",
      "|    entropy        | 0.586     |\n",
      "|    epoch          | 741       |\n",
      "|    l2_loss        | 0         |\n",
      "|    l2_norm        | 4.88e+03  |\n",
      "|    loss           | 0.666     |\n",
      "|    neglogp        | 0.667     |\n",
      "|    prob_true_act  | 0.744     |\n",
      "|    samples_so_far | 15175680  |\n",
      "---------------------------------\n"
     ]
    },
    {
     "name": "stderr",
     "output_type": "stream",
     "text": [
      "7420batch [44:41,  2.97batch/s]"
     ]
    },
    {
     "name": "stdout",
     "output_type": "stream",
     "text": [
      "---------------------------------\n",
      "| batch_size        | 2048      |\n",
      "| bc/               |           |\n",
      "|    batch          | 7419      |\n",
      "|    ent_loss       | -0.000587 |\n",
      "|    entropy        | 0.587     |\n",
      "|    epoch          | 742       |\n",
      "|    l2_loss        | 0         |\n",
      "|    l2_norm        | 4.88e+03  |\n",
      "|    loss           | 0.639     |\n",
      "|    neglogp        | 0.64      |\n",
      "|    prob_true_act  | 0.756     |\n",
      "|    samples_so_far | 15196160  |\n",
      "---------------------------------\n"
     ]
    },
    {
     "name": "stderr",
     "output_type": "stream",
     "text": [
      "7430batch [44:45,  2.94batch/s]"
     ]
    },
    {
     "name": "stdout",
     "output_type": "stream",
     "text": [
      "---------------------------------\n",
      "| batch_size        | 2048      |\n",
      "| bc/               |           |\n",
      "|    batch          | 7429      |\n",
      "|    ent_loss       | -0.000588 |\n",
      "|    entropy        | 0.588     |\n",
      "|    epoch          | 743       |\n",
      "|    l2_loss        | 0         |\n",
      "|    l2_norm        | 4.88e+03  |\n",
      "|    loss           | 0.617     |\n",
      "|    neglogp        | 0.617     |\n",
      "|    prob_true_act  | 0.748     |\n",
      "|    samples_so_far | 15216640  |\n",
      "---------------------------------\n"
     ]
    },
    {
     "name": "stderr",
     "output_type": "stream",
     "text": [
      "7440batch [44:48,  2.67batch/s]"
     ]
    },
    {
     "name": "stdout",
     "output_type": "stream",
     "text": [
      "---------------------------------\n",
      "| batch_size        | 2048      |\n",
      "| bc/               |           |\n",
      "|    batch          | 7439      |\n",
      "|    ent_loss       | -0.000588 |\n",
      "|    entropy        | 0.588     |\n",
      "|    epoch          | 744       |\n",
      "|    l2_loss        | 0         |\n",
      "|    l2_norm        | 4.88e+03  |\n",
      "|    loss           | 0.645     |\n",
      "|    neglogp        | 0.646     |\n",
      "|    prob_true_act  | 0.751     |\n",
      "|    samples_so_far | 15237120  |\n",
      "---------------------------------\n"
     ]
    },
    {
     "name": "stderr",
     "output_type": "stream",
     "text": [
      "7450batch [44:52,  2.90batch/s]"
     ]
    },
    {
     "name": "stdout",
     "output_type": "stream",
     "text": [
      "---------------------------------\n",
      "| batch_size        | 2048      |\n",
      "| bc/               |           |\n",
      "|    batch          | 7449      |\n",
      "|    ent_loss       | -0.000589 |\n",
      "|    entropy        | 0.589     |\n",
      "|    epoch          | 745       |\n",
      "|    l2_loss        | 0         |\n",
      "|    l2_norm        | 4.88e+03  |\n",
      "|    loss           | 0.65      |\n",
      "|    neglogp        | 0.65      |\n",
      "|    prob_true_act  | 0.751     |\n",
      "|    samples_so_far | 15257600  |\n",
      "---------------------------------\n"
     ]
    },
    {
     "name": "stderr",
     "output_type": "stream",
     "text": [
      "7460batch [44:56,  2.95batch/s]"
     ]
    },
    {
     "name": "stdout",
     "output_type": "stream",
     "text": [
      "--------------------------------\n",
      "| batch_size        | 2048     |\n",
      "| bc/               |          |\n",
      "|    batch          | 7459     |\n",
      "|    ent_loss       | -0.00059 |\n",
      "|    entropy        | 0.59     |\n",
      "|    epoch          | 746      |\n",
      "|    l2_loss        | 0        |\n",
      "|    l2_norm        | 4.88e+03 |\n",
      "|    loss           | 0.66     |\n",
      "|    neglogp        | 0.661    |\n",
      "|    prob_true_act  | 0.738    |\n",
      "|    samples_so_far | 15278080 |\n",
      "--------------------------------\n"
     ]
    },
    {
     "name": "stderr",
     "output_type": "stream",
     "text": [
      "7470batch [45:00,  2.73batch/s]"
     ]
    },
    {
     "name": "stdout",
     "output_type": "stream",
     "text": [
      "---------------------------------\n",
      "| batch_size        | 2048      |\n",
      "| bc/               |           |\n",
      "|    batch          | 7469      |\n",
      "|    ent_loss       | -0.000591 |\n",
      "|    entropy        | 0.591     |\n",
      "|    epoch          | 747       |\n",
      "|    l2_loss        | 0         |\n",
      "|    l2_norm        | 4.88e+03  |\n",
      "|    loss           | 0.66      |\n",
      "|    neglogp        | 0.661     |\n",
      "|    prob_true_act  | 0.742     |\n",
      "|    samples_so_far | 15298560  |\n",
      "---------------------------------\n"
     ]
    },
    {
     "name": "stderr",
     "output_type": "stream",
     "text": [
      "7480batch [45:03,  2.98batch/s]"
     ]
    },
    {
     "name": "stdout",
     "output_type": "stream",
     "text": [
      "---------------------------------\n",
      "| batch_size        | 2048      |\n",
      "| bc/               |           |\n",
      "|    batch          | 7479      |\n",
      "|    ent_loss       | -0.000591 |\n",
      "|    entropy        | 0.591     |\n",
      "|    epoch          | 748       |\n",
      "|    l2_loss        | 0         |\n",
      "|    l2_norm        | 4.88e+03  |\n",
      "|    loss           | 0.656     |\n",
      "|    neglogp        | 0.657     |\n",
      "|    prob_true_act  | 0.751     |\n",
      "|    samples_so_far | 15319040  |\n",
      "---------------------------------\n"
     ]
    },
    {
     "name": "stderr",
     "output_type": "stream",
     "text": [
      "7490batch [45:07,  3.00batch/s]"
     ]
    },
    {
     "name": "stdout",
     "output_type": "stream",
     "text": [
      "---------------------------------\n",
      "| batch_size        | 2048      |\n",
      "| bc/               |           |\n",
      "|    batch          | 7489      |\n",
      "|    ent_loss       | -0.000592 |\n",
      "|    entropy        | 0.592     |\n",
      "|    epoch          | 749       |\n",
      "|    l2_loss        | 0         |\n",
      "|    l2_norm        | 4.88e+03  |\n",
      "|    loss           | 0.615     |\n",
      "|    neglogp        | 0.616     |\n",
      "|    prob_true_act  | 0.753     |\n",
      "|    samples_so_far | 15339520  |\n",
      "---------------------------------\n"
     ]
    },
    {
     "name": "stderr",
     "output_type": "stream",
     "text": [
      "7500batch [45:10,  2.88batch/s]"
     ]
    },
    {
     "name": "stdout",
     "output_type": "stream",
     "text": [
      "---------------------------------\n",
      "| batch_size        | 2048      |\n",
      "| bc/               |           |\n",
      "|    batch          | 7499      |\n",
      "|    ent_loss       | -0.000593 |\n",
      "|    entropy        | 0.593     |\n",
      "|    epoch          | 750       |\n",
      "|    l2_loss        | 0         |\n",
      "|    l2_norm        | 4.88e+03  |\n",
      "|    loss           | 0.662     |\n",
      "|    neglogp        | 0.662     |\n",
      "|    prob_true_act  | 0.748     |\n",
      "|    samples_so_far | 15360000  |\n",
      "---------------------------------\n"
     ]
    },
    {
     "name": "stderr",
     "output_type": "stream",
     "text": [
      "7510batch [45:14,  2.99batch/s]"
     ]
    },
    {
     "name": "stdout",
     "output_type": "stream",
     "text": [
      "---------------------------------\n",
      "| batch_size        | 2048      |\n",
      "| bc/               |           |\n",
      "|    batch          | 7509      |\n",
      "|    ent_loss       | -0.000593 |\n",
      "|    entropy        | 0.593     |\n",
      "|    epoch          | 751       |\n",
      "|    l2_loss        | 0         |\n",
      "|    l2_norm        | 4.88e+03  |\n",
      "|    loss           | 0.665     |\n",
      "|    neglogp        | 0.665     |\n",
      "|    prob_true_act  | 0.745     |\n",
      "|    samples_so_far | 15380480  |\n",
      "---------------------------------\n"
     ]
    },
    {
     "name": "stderr",
     "output_type": "stream",
     "text": [
      "7520batch [45:17,  2.63batch/s]"
     ]
    },
    {
     "name": "stdout",
     "output_type": "stream",
     "text": [
      "---------------------------------\n",
      "| batch_size        | 2048      |\n",
      "| bc/               |           |\n",
      "|    batch          | 7519      |\n",
      "|    ent_loss       | -0.000594 |\n",
      "|    entropy        | 0.594     |\n",
      "|    epoch          | 752       |\n",
      "|    l2_loss        | 0         |\n",
      "|    l2_norm        | 4.88e+03  |\n",
      "|    loss           | 0.599     |\n",
      "|    neglogp        | 0.6       |\n",
      "|    prob_true_act  | 0.751     |\n",
      "|    samples_so_far | 15400960  |\n",
      "---------------------------------\n"
     ]
    },
    {
     "name": "stderr",
     "output_type": "stream",
     "text": [
      "7530batch [45:21,  2.97batch/s]"
     ]
    },
    {
     "name": "stdout",
     "output_type": "stream",
     "text": [
      "---------------------------------\n",
      "| batch_size        | 2048      |\n",
      "| bc/               |           |\n",
      "|    batch          | 7529      |\n",
      "|    ent_loss       | -0.000595 |\n",
      "|    entropy        | 0.595     |\n",
      "|    epoch          | 753       |\n",
      "|    l2_loss        | 0         |\n",
      "|    l2_norm        | 4.88e+03  |\n",
      "|    loss           | 0.663     |\n",
      "|    neglogp        | 0.664     |\n",
      "|    prob_true_act  | 0.738     |\n",
      "|    samples_so_far | 15421440  |\n",
      "---------------------------------\n"
     ]
    },
    {
     "name": "stderr",
     "output_type": "stream",
     "text": [
      "7540batch [45:24,  2.99batch/s]"
     ]
    },
    {
     "name": "stdout",
     "output_type": "stream",
     "text": [
      "---------------------------------\n",
      "| batch_size        | 2048      |\n",
      "| bc/               |           |\n",
      "|    batch          | 7539      |\n",
      "|    ent_loss       | -0.000595 |\n",
      "|    entropy        | 0.595     |\n",
      "|    epoch          | 754       |\n",
      "|    l2_loss        | 0         |\n",
      "|    l2_norm        | 4.88e+03  |\n",
      "|    loss           | 0.662     |\n",
      "|    neglogp        | 0.663     |\n",
      "|    prob_true_act  | 0.744     |\n",
      "|    samples_so_far | 15441920  |\n",
      "---------------------------------\n"
     ]
    },
    {
     "name": "stderr",
     "output_type": "stream",
     "text": [
      "7550batch [45:28,  2.92batch/s]"
     ]
    },
    {
     "name": "stdout",
     "output_type": "stream",
     "text": [
      "---------------------------------\n",
      "| batch_size        | 2048      |\n",
      "| bc/               |           |\n",
      "|    batch          | 7549      |\n",
      "|    ent_loss       | -0.000596 |\n",
      "|    entropy        | 0.596     |\n",
      "|    epoch          | 755       |\n",
      "|    l2_loss        | 0         |\n",
      "|    l2_norm        | 4.88e+03  |\n",
      "|    loss           | 0.639     |\n",
      "|    neglogp        | 0.639     |\n",
      "|    prob_true_act  | 0.744     |\n",
      "|    samples_so_far | 15462400  |\n",
      "---------------------------------\n"
     ]
    },
    {
     "name": "stderr",
     "output_type": "stream",
     "text": [
      "7560batch [45:32,  2.96batch/s]"
     ]
    },
    {
     "name": "stdout",
     "output_type": "stream",
     "text": [
      "---------------------------------\n",
      "| batch_size        | 2048      |\n",
      "| bc/               |           |\n",
      "|    batch          | 7559      |\n",
      "|    ent_loss       | -0.000597 |\n",
      "|    entropy        | 0.597     |\n",
      "|    epoch          | 756       |\n",
      "|    l2_loss        | 0         |\n",
      "|    l2_norm        | 4.88e+03  |\n",
      "|    loss           | 0.674     |\n",
      "|    neglogp        | 0.674     |\n",
      "|    prob_true_act  | 0.74      |\n",
      "|    samples_so_far | 15482880  |\n",
      "---------------------------------\n"
     ]
    },
    {
     "name": "stderr",
     "output_type": "stream",
     "text": [
      "7570batch [45:35,  2.99batch/s]"
     ]
    },
    {
     "name": "stdout",
     "output_type": "stream",
     "text": [
      "---------------------------------\n",
      "| batch_size        | 2048      |\n",
      "| bc/               |           |\n",
      "|    batch          | 7569      |\n",
      "|    ent_loss       | -0.000597 |\n",
      "|    entropy        | 0.597     |\n",
      "|    epoch          | 757       |\n",
      "|    l2_loss        | 0         |\n",
      "|    l2_norm        | 4.88e+03  |\n",
      "|    loss           | 0.621     |\n",
      "|    neglogp        | 0.622     |\n",
      "|    prob_true_act  | 0.753     |\n",
      "|    samples_so_far | 15503360  |\n",
      "---------------------------------\n"
     ]
    },
    {
     "name": "stderr",
     "output_type": "stream",
     "text": [
      "7580batch [45:39,  2.98batch/s]"
     ]
    },
    {
     "name": "stdout",
     "output_type": "stream",
     "text": [
      "---------------------------------\n",
      "| batch_size        | 2048      |\n",
      "| bc/               |           |\n",
      "|    batch          | 7579      |\n",
      "|    ent_loss       | -0.000598 |\n",
      "|    entropy        | 0.598     |\n",
      "|    epoch          | 758       |\n",
      "|    l2_loss        | 0         |\n",
      "|    l2_norm        | 4.88e+03  |\n",
      "|    loss           | 0.635     |\n",
      "|    neglogp        | 0.636     |\n",
      "|    prob_true_act  | 0.746     |\n",
      "|    samples_so_far | 15523840  |\n",
      "---------------------------------\n"
     ]
    },
    {
     "name": "stderr",
     "output_type": "stream",
     "text": [
      "7590batch [45:42,  2.99batch/s]"
     ]
    },
    {
     "name": "stdout",
     "output_type": "stream",
     "text": [
      "---------------------------------\n",
      "| batch_size        | 2048      |\n",
      "| bc/               |           |\n",
      "|    batch          | 7589      |\n",
      "|    ent_loss       | -0.000598 |\n",
      "|    entropy        | 0.598     |\n",
      "|    epoch          | 759       |\n",
      "|    l2_loss        | 0         |\n",
      "|    l2_norm        | 4.88e+03  |\n",
      "|    loss           | 0.654     |\n",
      "|    neglogp        | 0.655     |\n",
      "|    prob_true_act  | 0.746     |\n",
      "|    samples_so_far | 15544320  |\n",
      "---------------------------------\n"
     ]
    },
    {
     "name": "stderr",
     "output_type": "stream",
     "text": [
      "7600batch [45:46,  2.97batch/s]"
     ]
    },
    {
     "name": "stdout",
     "output_type": "stream",
     "text": [
      "---------------------------------\n",
      "| batch_size        | 2048      |\n",
      "| bc/               |           |\n",
      "|    batch          | 7599      |\n",
      "|    ent_loss       | -0.000599 |\n",
      "|    entropy        | 0.599     |\n",
      "|    epoch          | 760       |\n",
      "|    l2_loss        | 0         |\n",
      "|    l2_norm        | 4.88e+03  |\n",
      "|    loss           | 0.625     |\n",
      "|    neglogp        | 0.626     |\n",
      "|    prob_true_act  | 0.751     |\n",
      "|    samples_so_far | 15564800  |\n",
      "---------------------------------\n"
     ]
    },
    {
     "name": "stderr",
     "output_type": "stream",
     "text": [
      "7610batch [45:49,  2.98batch/s]"
     ]
    },
    {
     "name": "stdout",
     "output_type": "stream",
     "text": [
      "--------------------------------\n",
      "| batch_size        | 2048     |\n",
      "| bc/               |          |\n",
      "|    batch          | 7609     |\n",
      "|    ent_loss       | -0.0006  |\n",
      "|    entropy        | 0.6      |\n",
      "|    epoch          | 761      |\n",
      "|    l2_loss        | 0        |\n",
      "|    l2_norm        | 4.88e+03 |\n",
      "|    loss           | 0.684    |\n",
      "|    neglogp        | 0.685    |\n",
      "|    prob_true_act  | 0.749    |\n",
      "|    samples_so_far | 15585280 |\n",
      "--------------------------------\n"
     ]
    },
    {
     "name": "stderr",
     "output_type": "stream",
     "text": [
      "7620batch [45:53,  3.01batch/s]"
     ]
    },
    {
     "name": "stdout",
     "output_type": "stream",
     "text": [
      "--------------------------------\n",
      "| batch_size        | 2048     |\n",
      "| bc/               |          |\n",
      "|    batch          | 7619     |\n",
      "|    ent_loss       | -0.0006  |\n",
      "|    entropy        | 0.6      |\n",
      "|    epoch          | 762      |\n",
      "|    l2_loss        | 0        |\n",
      "|    l2_norm        | 4.88e+03 |\n",
      "|    loss           | 0.665    |\n",
      "|    neglogp        | 0.666    |\n",
      "|    prob_true_act  | 0.736    |\n",
      "|    samples_so_far | 15605760 |\n",
      "--------------------------------\n"
     ]
    },
    {
     "name": "stderr",
     "output_type": "stream",
     "text": [
      "7630batch [45:56,  2.95batch/s]"
     ]
    },
    {
     "name": "stdout",
     "output_type": "stream",
     "text": [
      "---------------------------------\n",
      "| batch_size        | 2048      |\n",
      "| bc/               |           |\n",
      "|    batch          | 7629      |\n",
      "|    ent_loss       | -0.000601 |\n",
      "|    entropy        | 0.601     |\n",
      "|    epoch          | 763       |\n",
      "|    l2_loss        | 0         |\n",
      "|    l2_norm        | 4.88e+03  |\n",
      "|    loss           | 0.648     |\n",
      "|    neglogp        | 0.648     |\n",
      "|    prob_true_act  | 0.741     |\n",
      "|    samples_so_far | 15626240  |\n",
      "---------------------------------\n"
     ]
    },
    {
     "name": "stderr",
     "output_type": "stream",
     "text": [
      "7640batch [46:00,  2.99batch/s]"
     ]
    },
    {
     "name": "stdout",
     "output_type": "stream",
     "text": [
      "---------------------------------\n",
      "| batch_size        | 2048      |\n",
      "| bc/               |           |\n",
      "|    batch          | 7639      |\n",
      "|    ent_loss       | -0.000602 |\n",
      "|    entropy        | 0.602     |\n",
      "|    epoch          | 764       |\n",
      "|    l2_loss        | 0         |\n",
      "|    l2_norm        | 4.88e+03  |\n",
      "|    loss           | 0.641     |\n",
      "|    neglogp        | 0.642     |\n",
      "|    prob_true_act  | 0.75      |\n",
      "|    samples_so_far | 15646720  |\n",
      "---------------------------------\n"
     ]
    },
    {
     "name": "stderr",
     "output_type": "stream",
     "text": [
      "7650batch [46:04,  2.90batch/s]"
     ]
    },
    {
     "name": "stdout",
     "output_type": "stream",
     "text": [
      "---------------------------------\n",
      "| batch_size        | 2048      |\n",
      "| bc/               |           |\n",
      "|    batch          | 7649      |\n",
      "|    ent_loss       | -0.000602 |\n",
      "|    entropy        | 0.602     |\n",
      "|    epoch          | 765       |\n",
      "|    l2_loss        | 0         |\n",
      "|    l2_norm        | 4.88e+03  |\n",
      "|    loss           | 0.592     |\n",
      "|    neglogp        | 0.593     |\n",
      "|    prob_true_act  | 0.757     |\n",
      "|    samples_so_far | 15667200  |\n",
      "---------------------------------\n"
     ]
    },
    {
     "name": "stderr",
     "output_type": "stream",
     "text": [
      "7660batch [46:07,  3.02batch/s]"
     ]
    },
    {
     "name": "stdout",
     "output_type": "stream",
     "text": [
      "---------------------------------\n",
      "| batch_size        | 2048      |\n",
      "| bc/               |           |\n",
      "|    batch          | 7659      |\n",
      "|    ent_loss       | -0.000603 |\n",
      "|    entropy        | 0.603     |\n",
      "|    epoch          | 766       |\n",
      "|    l2_loss        | 0         |\n",
      "|    l2_norm        | 4.88e+03  |\n",
      "|    loss           | 0.635     |\n",
      "|    neglogp        | 0.635     |\n",
      "|    prob_true_act  | 0.743     |\n",
      "|    samples_so_far | 15687680  |\n",
      "---------------------------------\n"
     ]
    },
    {
     "name": "stderr",
     "output_type": "stream",
     "text": [
      "7670batch [46:11,  2.97batch/s]"
     ]
    },
    {
     "name": "stdout",
     "output_type": "stream",
     "text": [
      "---------------------------------\n",
      "| batch_size        | 2048      |\n",
      "| bc/               |           |\n",
      "|    batch          | 7669      |\n",
      "|    ent_loss       | -0.000603 |\n",
      "|    entropy        | 0.603     |\n",
      "|    epoch          | 767       |\n",
      "|    l2_loss        | 0         |\n",
      "|    l2_norm        | 4.88e+03  |\n",
      "|    loss           | 0.672     |\n",
      "|    neglogp        | 0.673     |\n",
      "|    prob_true_act  | 0.74      |\n",
      "|    samples_so_far | 15708160  |\n",
      "---------------------------------\n"
     ]
    },
    {
     "name": "stderr",
     "output_type": "stream",
     "text": [
      "7680batch [46:14,  2.92batch/s]"
     ]
    },
    {
     "name": "stdout",
     "output_type": "stream",
     "text": [
      "---------------------------------\n",
      "| batch_size        | 2048      |\n",
      "| bc/               |           |\n",
      "|    batch          | 7679      |\n",
      "|    ent_loss       | -0.000604 |\n",
      "|    entropy        | 0.604     |\n",
      "|    epoch          | 768       |\n",
      "|    l2_loss        | 0         |\n",
      "|    l2_norm        | 4.88e+03  |\n",
      "|    loss           | 0.675     |\n",
      "|    neglogp        | 0.675     |\n",
      "|    prob_true_act  | 0.743     |\n",
      "|    samples_so_far | 15728640  |\n",
      "---------------------------------\n"
     ]
    },
    {
     "name": "stderr",
     "output_type": "stream",
     "text": [
      "7690batch [46:18,  2.93batch/s]"
     ]
    },
    {
     "name": "stdout",
     "output_type": "stream",
     "text": [
      "---------------------------------\n",
      "| batch_size        | 2048      |\n",
      "| bc/               |           |\n",
      "|    batch          | 7689      |\n",
      "|    ent_loss       | -0.000605 |\n",
      "|    entropy        | 0.605     |\n",
      "|    epoch          | 769       |\n",
      "|    l2_loss        | 0         |\n",
      "|    l2_norm        | 4.88e+03  |\n",
      "|    loss           | 0.7       |\n",
      "|    neglogp        | 0.701     |\n",
      "|    prob_true_act  | 0.736     |\n",
      "|    samples_so_far | 15749120  |\n",
      "---------------------------------\n"
     ]
    },
    {
     "name": "stderr",
     "output_type": "stream",
     "text": [
      "7700batch [46:21,  2.93batch/s]"
     ]
    },
    {
     "name": "stdout",
     "output_type": "stream",
     "text": [
      "---------------------------------\n",
      "| batch_size        | 2048      |\n",
      "| bc/               |           |\n",
      "|    batch          | 7699      |\n",
      "|    ent_loss       | -0.000605 |\n",
      "|    entropy        | 0.605     |\n",
      "|    epoch          | 770       |\n",
      "|    l2_loss        | 0         |\n",
      "|    l2_norm        | 4.88e+03  |\n",
      "|    loss           | 0.654     |\n",
      "|    neglogp        | 0.655     |\n",
      "|    prob_true_act  | 0.747     |\n",
      "|    samples_so_far | 15769600  |\n",
      "---------------------------------\n"
     ]
    },
    {
     "name": "stderr",
     "output_type": "stream",
     "text": [
      "7710batch [46:25,  2.73batch/s]"
     ]
    },
    {
     "name": "stdout",
     "output_type": "stream",
     "text": [
      "---------------------------------\n",
      "| batch_size        | 2048      |\n",
      "| bc/               |           |\n",
      "|    batch          | 7709      |\n",
      "|    ent_loss       | -0.000606 |\n",
      "|    entropy        | 0.606     |\n",
      "|    epoch          | 771       |\n",
      "|    l2_loss        | 0         |\n",
      "|    l2_norm        | 4.88e+03  |\n",
      "|    loss           | 0.65      |\n",
      "|    neglogp        | 0.65      |\n",
      "|    prob_true_act  | 0.749     |\n",
      "|    samples_so_far | 15790080  |\n",
      "---------------------------------\n"
     ]
    },
    {
     "name": "stderr",
     "output_type": "stream",
     "text": [
      "7720batch [46:29,  2.95batch/s]"
     ]
    },
    {
     "name": "stdout",
     "output_type": "stream",
     "text": [
      "---------------------------------\n",
      "| batch_size        | 2048      |\n",
      "| bc/               |           |\n",
      "|    batch          | 7719      |\n",
      "|    ent_loss       | -0.000606 |\n",
      "|    entropy        | 0.606     |\n",
      "|    epoch          | 772       |\n",
      "|    l2_loss        | 0         |\n",
      "|    l2_norm        | 4.88e+03  |\n",
      "|    loss           | 0.618     |\n",
      "|    neglogp        | 0.619     |\n",
      "|    prob_true_act  | 0.756     |\n",
      "|    samples_so_far | 15810560  |\n",
      "---------------------------------\n"
     ]
    },
    {
     "name": "stderr",
     "output_type": "stream",
     "text": [
      "7730batch [46:32,  2.83batch/s]"
     ]
    },
    {
     "name": "stdout",
     "output_type": "stream",
     "text": [
      "---------------------------------\n",
      "| batch_size        | 2048      |\n",
      "| bc/               |           |\n",
      "|    batch          | 7729      |\n",
      "|    ent_loss       | -0.000607 |\n",
      "|    entropy        | 0.607     |\n",
      "|    epoch          | 773       |\n",
      "|    l2_loss        | 0         |\n",
      "|    l2_norm        | 4.88e+03  |\n",
      "|    loss           | 0.631     |\n",
      "|    neglogp        | 0.632     |\n",
      "|    prob_true_act  | 0.752     |\n",
      "|    samples_so_far | 15831040  |\n",
      "---------------------------------\n"
     ]
    },
    {
     "name": "stderr",
     "output_type": "stream",
     "text": [
      "7740batch [46:36,  2.95batch/s]"
     ]
    },
    {
     "name": "stdout",
     "output_type": "stream",
     "text": [
      "---------------------------------\n",
      "| batch_size        | 2048      |\n",
      "| bc/               |           |\n",
      "|    batch          | 7739      |\n",
      "|    ent_loss       | -0.000607 |\n",
      "|    entropy        | 0.607     |\n",
      "|    epoch          | 774       |\n",
      "|    l2_loss        | 0         |\n",
      "|    l2_norm        | 4.88e+03  |\n",
      "|    loss           | 0.677     |\n",
      "|    neglogp        | 0.678     |\n",
      "|    prob_true_act  | 0.73      |\n",
      "|    samples_so_far | 15851520  |\n",
      "---------------------------------\n"
     ]
    },
    {
     "name": "stderr",
     "output_type": "stream",
     "text": [
      "7750batch [46:40,  2.92batch/s]"
     ]
    },
    {
     "name": "stdout",
     "output_type": "stream",
     "text": [
      "---------------------------------\n",
      "| batch_size        | 2048      |\n",
      "| bc/               |           |\n",
      "|    batch          | 7749      |\n",
      "|    ent_loss       | -0.000608 |\n",
      "|    entropy        | 0.608     |\n",
      "|    epoch          | 775       |\n",
      "|    l2_loss        | 0         |\n",
      "|    l2_norm        | 4.88e+03  |\n",
      "|    loss           | 0.653     |\n",
      "|    neglogp        | 0.653     |\n",
      "|    prob_true_act  | 0.742     |\n",
      "|    samples_so_far | 15872000  |\n",
      "---------------------------------\n"
     ]
    },
    {
     "name": "stderr",
     "output_type": "stream",
     "text": [
      "7760batch [46:43,  2.91batch/s]"
     ]
    },
    {
     "name": "stdout",
     "output_type": "stream",
     "text": [
      "---------------------------------\n",
      "| batch_size        | 2048      |\n",
      "| bc/               |           |\n",
      "|    batch          | 7759      |\n",
      "|    ent_loss       | -0.000608 |\n",
      "|    entropy        | 0.608     |\n",
      "|    epoch          | 776       |\n",
      "|    l2_loss        | 0         |\n",
      "|    l2_norm        | 4.88e+03  |\n",
      "|    loss           | 0.656     |\n",
      "|    neglogp        | 0.656     |\n",
      "|    prob_true_act  | 0.74      |\n",
      "|    samples_so_far | 15892480  |\n",
      "---------------------------------\n"
     ]
    },
    {
     "name": "stderr",
     "output_type": "stream",
     "text": [
      "7770batch [46:47,  3.01batch/s]"
     ]
    },
    {
     "name": "stdout",
     "output_type": "stream",
     "text": [
      "---------------------------------\n",
      "| batch_size        | 2048      |\n",
      "| bc/               |           |\n",
      "|    batch          | 7769      |\n",
      "|    ent_loss       | -0.000609 |\n",
      "|    entropy        | 0.609     |\n",
      "|    epoch          | 777       |\n",
      "|    l2_loss        | 0         |\n",
      "|    l2_norm        | 4.88e+03  |\n",
      "|    loss           | 0.635     |\n",
      "|    neglogp        | 0.636     |\n",
      "|    prob_true_act  | 0.745     |\n",
      "|    samples_so_far | 15912960  |\n",
      "---------------------------------\n"
     ]
    },
    {
     "name": "stderr",
     "output_type": "stream",
     "text": [
      "7780batch [46:50,  3.00batch/s]"
     ]
    },
    {
     "name": "stdout",
     "output_type": "stream",
     "text": [
      "---------------------------------\n",
      "| batch_size        | 2048      |\n",
      "| bc/               |           |\n",
      "|    batch          | 7779      |\n",
      "|    ent_loss       | -0.000609 |\n",
      "|    entropy        | 0.609     |\n",
      "|    epoch          | 778       |\n",
      "|    l2_loss        | 0         |\n",
      "|    l2_norm        | 4.88e+03  |\n",
      "|    loss           | 0.655     |\n",
      "|    neglogp        | 0.656     |\n",
      "|    prob_true_act  | 0.746     |\n",
      "|    samples_so_far | 15933440  |\n",
      "---------------------------------\n"
     ]
    },
    {
     "name": "stderr",
     "output_type": "stream",
     "text": [
      "7790batch [46:54,  2.90batch/s]"
     ]
    },
    {
     "name": "stdout",
     "output_type": "stream",
     "text": [
      "--------------------------------\n",
      "| batch_size        | 2048     |\n",
      "| bc/               |          |\n",
      "|    batch          | 7789     |\n",
      "|    ent_loss       | -0.00061 |\n",
      "|    entropy        | 0.61     |\n",
      "|    epoch          | 779      |\n",
      "|    l2_loss        | 0        |\n",
      "|    l2_norm        | 4.88e+03 |\n",
      "|    loss           | 0.631    |\n",
      "|    neglogp        | 0.632    |\n",
      "|    prob_true_act  | 0.743    |\n",
      "|    samples_so_far | 15953920 |\n",
      "--------------------------------\n"
     ]
    },
    {
     "name": "stderr",
     "output_type": "stream",
     "text": [
      "7800batch [46:57,  2.97batch/s]"
     ]
    },
    {
     "name": "stdout",
     "output_type": "stream",
     "text": [
      "---------------------------------\n",
      "| batch_size        | 2048      |\n",
      "| bc/               |           |\n",
      "|    batch          | 7799      |\n",
      "|    ent_loss       | -0.000611 |\n",
      "|    entropy        | 0.611     |\n",
      "|    epoch          | 780       |\n",
      "|    l2_loss        | 0         |\n",
      "|    l2_norm        | 4.88e+03  |\n",
      "|    loss           | 0.628     |\n",
      "|    neglogp        | 0.629     |\n",
      "|    prob_true_act  | 0.748     |\n",
      "|    samples_so_far | 15974400  |\n",
      "---------------------------------\n"
     ]
    },
    {
     "name": "stderr",
     "output_type": "stream",
     "text": [
      "7810batch [47:01,  2.97batch/s]"
     ]
    },
    {
     "name": "stdout",
     "output_type": "stream",
     "text": [
      "---------------------------------\n",
      "| batch_size        | 2048      |\n",
      "| bc/               |           |\n",
      "|    batch          | 7809      |\n",
      "|    ent_loss       | -0.000611 |\n",
      "|    entropy        | 0.611     |\n",
      "|    epoch          | 781       |\n",
      "|    l2_loss        | 0         |\n",
      "|    l2_norm        | 4.88e+03  |\n",
      "|    loss           | 0.616     |\n",
      "|    neglogp        | 0.617     |\n",
      "|    prob_true_act  | 0.742     |\n",
      "|    samples_so_far | 15994880  |\n",
      "---------------------------------\n"
     ]
    },
    {
     "name": "stderr",
     "output_type": "stream",
     "text": [
      "7820batch [47:04,  2.98batch/s]"
     ]
    },
    {
     "name": "stdout",
     "output_type": "stream",
     "text": [
      "---------------------------------\n",
      "| batch_size        | 2048      |\n",
      "| bc/               |           |\n",
      "|    batch          | 7819      |\n",
      "|    ent_loss       | -0.000612 |\n",
      "|    entropy        | 0.612     |\n",
      "|    epoch          | 782       |\n",
      "|    l2_loss        | 0         |\n",
      "|    l2_norm        | 4.88e+03  |\n",
      "|    loss           | 0.678     |\n",
      "|    neglogp        | 0.678     |\n",
      "|    prob_true_act  | 0.74      |\n",
      "|    samples_so_far | 16015360  |\n",
      "---------------------------------\n"
     ]
    },
    {
     "name": "stderr",
     "output_type": "stream",
     "text": [
      "7830batch [47:08,  2.93batch/s]"
     ]
    },
    {
     "name": "stdout",
     "output_type": "stream",
     "text": [
      "---------------------------------\n",
      "| batch_size        | 2048      |\n",
      "| bc/               |           |\n",
      "|    batch          | 7829      |\n",
      "|    ent_loss       | -0.000612 |\n",
      "|    entropy        | 0.612     |\n",
      "|    epoch          | 783       |\n",
      "|    l2_loss        | 0         |\n",
      "|    l2_norm        | 4.88e+03  |\n",
      "|    loss           | 0.674     |\n",
      "|    neglogp        | 0.675     |\n",
      "|    prob_true_act  | 0.743     |\n",
      "|    samples_so_far | 16035840  |\n",
      "---------------------------------\n"
     ]
    },
    {
     "name": "stderr",
     "output_type": "stream",
     "text": [
      "7840batch [47:12,  3.02batch/s]"
     ]
    },
    {
     "name": "stdout",
     "output_type": "stream",
     "text": [
      "---------------------------------\n",
      "| batch_size        | 2048      |\n",
      "| bc/               |           |\n",
      "|    batch          | 7839      |\n",
      "|    ent_loss       | -0.000613 |\n",
      "|    entropy        | 0.613     |\n",
      "|    epoch          | 784       |\n",
      "|    l2_loss        | 0         |\n",
      "|    l2_norm        | 4.88e+03  |\n",
      "|    loss           | 0.654     |\n",
      "|    neglogp        | 0.655     |\n",
      "|    prob_true_act  | 0.746     |\n",
      "|    samples_so_far | 16056320  |\n",
      "---------------------------------\n"
     ]
    },
    {
     "name": "stderr",
     "output_type": "stream",
     "text": [
      "7850batch [47:15,  3.03batch/s]"
     ]
    },
    {
     "name": "stdout",
     "output_type": "stream",
     "text": [
      "---------------------------------\n",
      "| batch_size        | 2048      |\n",
      "| bc/               |           |\n",
      "|    batch          | 7849      |\n",
      "|    ent_loss       | -0.000613 |\n",
      "|    entropy        | 0.613     |\n",
      "|    epoch          | 785       |\n",
      "|    l2_loss        | 0         |\n",
      "|    l2_norm        | 4.88e+03  |\n",
      "|    loss           | 0.666     |\n",
      "|    neglogp        | 0.666     |\n",
      "|    prob_true_act  | 0.746     |\n",
      "|    samples_so_far | 16076800  |\n",
      "---------------------------------\n"
     ]
    },
    {
     "name": "stderr",
     "output_type": "stream",
     "text": [
      "7860batch [47:19,  2.99batch/s]"
     ]
    },
    {
     "name": "stdout",
     "output_type": "stream",
     "text": [
      "---------------------------------\n",
      "| batch_size        | 2048      |\n",
      "| bc/               |           |\n",
      "|    batch          | 7859      |\n",
      "|    ent_loss       | -0.000614 |\n",
      "|    entropy        | 0.614     |\n",
      "|    epoch          | 786       |\n",
      "|    l2_loss        | 0         |\n",
      "|    l2_norm        | 4.88e+03  |\n",
      "|    loss           | 0.682     |\n",
      "|    neglogp        | 0.683     |\n",
      "|    prob_true_act  | 0.742     |\n",
      "|    samples_so_far | 16097280  |\n",
      "---------------------------------\n"
     ]
    },
    {
     "name": "stderr",
     "output_type": "stream",
     "text": [
      "7870batch [47:22,  2.91batch/s]"
     ]
    },
    {
     "name": "stdout",
     "output_type": "stream",
     "text": [
      "---------------------------------\n",
      "| batch_size        | 2048      |\n",
      "| bc/               |           |\n",
      "|    batch          | 7869      |\n",
      "|    ent_loss       | -0.000614 |\n",
      "|    entropy        | 0.614     |\n",
      "|    epoch          | 787       |\n",
      "|    l2_loss        | 0         |\n",
      "|    l2_norm        | 4.88e+03  |\n",
      "|    loss           | 0.666     |\n",
      "|    neglogp        | 0.667     |\n",
      "|    prob_true_act  | 0.739     |\n",
      "|    samples_so_far | 16117760  |\n",
      "---------------------------------\n"
     ]
    },
    {
     "name": "stderr",
     "output_type": "stream",
     "text": [
      "7880batch [47:26,  2.88batch/s]"
     ]
    },
    {
     "name": "stdout",
     "output_type": "stream",
     "text": [
      "---------------------------------\n",
      "| batch_size        | 2048      |\n",
      "| bc/               |           |\n",
      "|    batch          | 7879      |\n",
      "|    ent_loss       | -0.000615 |\n",
      "|    entropy        | 0.615     |\n",
      "|    epoch          | 788       |\n",
      "|    l2_loss        | 0         |\n",
      "|    l2_norm        | 4.88e+03  |\n",
      "|    loss           | 0.728     |\n",
      "|    neglogp        | 0.729     |\n",
      "|    prob_true_act  | 0.727     |\n",
      "|    samples_so_far | 16138240  |\n",
      "---------------------------------\n"
     ]
    },
    {
     "name": "stderr",
     "output_type": "stream",
     "text": [
      "7890batch [47:29,  2.96batch/s]"
     ]
    },
    {
     "name": "stdout",
     "output_type": "stream",
     "text": [
      "---------------------------------\n",
      "| batch_size        | 2048      |\n",
      "| bc/               |           |\n",
      "|    batch          | 7889      |\n",
      "|    ent_loss       | -0.000615 |\n",
      "|    entropy        | 0.615     |\n",
      "|    epoch          | 789       |\n",
      "|    l2_loss        | 0         |\n",
      "|    l2_norm        | 4.88e+03  |\n",
      "|    loss           | 0.654     |\n",
      "|    neglogp        | 0.655     |\n",
      "|    prob_true_act  | 0.745     |\n",
      "|    samples_so_far | 16158720  |\n",
      "---------------------------------\n"
     ]
    },
    {
     "name": "stderr",
     "output_type": "stream",
     "text": [
      "7900batch [47:33,  2.99batch/s]"
     ]
    },
    {
     "name": "stdout",
     "output_type": "stream",
     "text": [
      "---------------------------------\n",
      "| batch_size        | 2048      |\n",
      "| bc/               |           |\n",
      "|    batch          | 7899      |\n",
      "|    ent_loss       | -0.000616 |\n",
      "|    entropy        | 0.616     |\n",
      "|    epoch          | 790       |\n",
      "|    l2_loss        | 0         |\n",
      "|    l2_norm        | 4.88e+03  |\n",
      "|    loss           | 0.647     |\n",
      "|    neglogp        | 0.648     |\n",
      "|    prob_true_act  | 0.745     |\n",
      "|    samples_so_far | 16179200  |\n",
      "---------------------------------\n"
     ]
    },
    {
     "name": "stderr",
     "output_type": "stream",
     "text": [
      "7910batch [47:36,  2.99batch/s]"
     ]
    },
    {
     "name": "stdout",
     "output_type": "stream",
     "text": [
      "---------------------------------\n",
      "| batch_size        | 2048      |\n",
      "| bc/               |           |\n",
      "|    batch          | 7909      |\n",
      "|    ent_loss       | -0.000616 |\n",
      "|    entropy        | 0.616     |\n",
      "|    epoch          | 791       |\n",
      "|    l2_loss        | 0         |\n",
      "|    l2_norm        | 4.88e+03  |\n",
      "|    loss           | 0.651     |\n",
      "|    neglogp        | 0.652     |\n",
      "|    prob_true_act  | 0.741     |\n",
      "|    samples_so_far | 16199680  |\n",
      "---------------------------------\n"
     ]
    },
    {
     "name": "stderr",
     "output_type": "stream",
     "text": [
      "7920batch [47:40,  2.99batch/s]"
     ]
    },
    {
     "name": "stdout",
     "output_type": "stream",
     "text": [
      "---------------------------------\n",
      "| batch_size        | 2048      |\n",
      "| bc/               |           |\n",
      "|    batch          | 7919      |\n",
      "|    ent_loss       | -0.000616 |\n",
      "|    entropy        | 0.616     |\n",
      "|    epoch          | 792       |\n",
      "|    l2_loss        | 0         |\n",
      "|    l2_norm        | 4.88e+03  |\n",
      "|    loss           | 0.66      |\n",
      "|    neglogp        | 0.661     |\n",
      "|    prob_true_act  | 0.731     |\n",
      "|    samples_so_far | 16220160  |\n",
      "---------------------------------\n"
     ]
    },
    {
     "name": "stderr",
     "output_type": "stream",
     "text": [
      "7930batch [47:43,  3.00batch/s]"
     ]
    },
    {
     "name": "stdout",
     "output_type": "stream",
     "text": [
      "---------------------------------\n",
      "| batch_size        | 2048      |\n",
      "| bc/               |           |\n",
      "|    batch          | 7929      |\n",
      "|    ent_loss       | -0.000617 |\n",
      "|    entropy        | 0.617     |\n",
      "|    epoch          | 793       |\n",
      "|    l2_loss        | 0         |\n",
      "|    l2_norm        | 4.88e+03  |\n",
      "|    loss           | 0.655     |\n",
      "|    neglogp        | 0.656     |\n",
      "|    prob_true_act  | 0.734     |\n",
      "|    samples_so_far | 16240640  |\n",
      "---------------------------------\n"
     ]
    },
    {
     "name": "stderr",
     "output_type": "stream",
     "text": [
      "7940batch [47:47,  2.96batch/s]"
     ]
    },
    {
     "name": "stdout",
     "output_type": "stream",
     "text": [
      "---------------------------------\n",
      "| batch_size        | 2048      |\n",
      "| bc/               |           |\n",
      "|    batch          | 7939      |\n",
      "|    ent_loss       | -0.000617 |\n",
      "|    entropy        | 0.617     |\n",
      "|    epoch          | 794       |\n",
      "|    l2_loss        | 0         |\n",
      "|    l2_norm        | 4.88e+03  |\n",
      "|    loss           | 0.659     |\n",
      "|    neglogp        | 0.66      |\n",
      "|    prob_true_act  | 0.738     |\n",
      "|    samples_so_far | 16261120  |\n",
      "---------------------------------\n"
     ]
    },
    {
     "name": "stderr",
     "output_type": "stream",
     "text": [
      "7950batch [47:51,  2.64batch/s]"
     ]
    },
    {
     "name": "stdout",
     "output_type": "stream",
     "text": [
      "---------------------------------\n",
      "| batch_size        | 2048      |\n",
      "| bc/               |           |\n",
      "|    batch          | 7949      |\n",
      "|    ent_loss       | -0.000618 |\n",
      "|    entropy        | 0.618     |\n",
      "|    epoch          | 795       |\n",
      "|    l2_loss        | 0         |\n",
      "|    l2_norm        | 4.88e+03  |\n",
      "|    loss           | 0.671     |\n",
      "|    neglogp        | 0.672     |\n",
      "|    prob_true_act  | 0.734     |\n",
      "|    samples_so_far | 16281600  |\n",
      "---------------------------------\n"
     ]
    },
    {
     "name": "stderr",
     "output_type": "stream",
     "text": [
      "7960batch [47:54,  2.99batch/s]"
     ]
    },
    {
     "name": "stdout",
     "output_type": "stream",
     "text": [
      "---------------------------------\n",
      "| batch_size        | 2048      |\n",
      "| bc/               |           |\n",
      "|    batch          | 7959      |\n",
      "|    ent_loss       | -0.000618 |\n",
      "|    entropy        | 0.618     |\n",
      "|    epoch          | 796       |\n",
      "|    l2_loss        | 0         |\n",
      "|    l2_norm        | 4.88e+03  |\n",
      "|    loss           | 0.611     |\n",
      "|    neglogp        | 0.611     |\n",
      "|    prob_true_act  | 0.746     |\n",
      "|    samples_so_far | 16302080  |\n",
      "---------------------------------\n"
     ]
    },
    {
     "name": "stderr",
     "output_type": "stream",
     "text": [
      "7970batch [47:58,  2.97batch/s]"
     ]
    },
    {
     "name": "stdout",
     "output_type": "stream",
     "text": [
      "---------------------------------\n",
      "| batch_size        | 2048      |\n",
      "| bc/               |           |\n",
      "|    batch          | 7969      |\n",
      "|    ent_loss       | -0.000619 |\n",
      "|    entropy        | 0.619     |\n",
      "|    epoch          | 797       |\n",
      "|    l2_loss        | 0         |\n",
      "|    l2_norm        | 4.88e+03  |\n",
      "|    loss           | 0.607     |\n",
      "|    neglogp        | 0.608     |\n",
      "|    prob_true_act  | 0.751     |\n",
      "|    samples_so_far | 16322560  |\n",
      "---------------------------------\n"
     ]
    },
    {
     "name": "stderr",
     "output_type": "stream",
     "text": [
      "7980batch [48:01,  3.01batch/s]"
     ]
    },
    {
     "name": "stdout",
     "output_type": "stream",
     "text": [
      "---------------------------------\n",
      "| batch_size        | 2048      |\n",
      "| bc/               |           |\n",
      "|    batch          | 7979      |\n",
      "|    ent_loss       | -0.000619 |\n",
      "|    entropy        | 0.619     |\n",
      "|    epoch          | 798       |\n",
      "|    l2_loss        | 0         |\n",
      "|    l2_norm        | 4.88e+03  |\n",
      "|    loss           | 0.703     |\n",
      "|    neglogp        | 0.704     |\n",
      "|    prob_true_act  | 0.736     |\n",
      "|    samples_so_far | 16343040  |\n",
      "---------------------------------\n"
     ]
    },
    {
     "name": "stderr",
     "output_type": "stream",
     "text": [
      "7990batch [48:05,  2.97batch/s]"
     ]
    },
    {
     "name": "stdout",
     "output_type": "stream",
     "text": [
      "--------------------------------\n",
      "| batch_size        | 2048     |\n",
      "| bc/               |          |\n",
      "|    batch          | 7989     |\n",
      "|    ent_loss       | -0.00062 |\n",
      "|    entropy        | 0.62     |\n",
      "|    epoch          | 799      |\n",
      "|    l2_loss        | 0        |\n",
      "|    l2_norm        | 4.88e+03 |\n",
      "|    loss           | 0.653    |\n",
      "|    neglogp        | 0.654    |\n",
      "|    prob_true_act  | 0.736    |\n",
      "|    samples_so_far | 16363520 |\n",
      "--------------------------------\n"
     ]
    },
    {
     "name": "stderr",
     "output_type": "stream",
     "text": [
      "8000batch [48:08,  2.98batch/s]"
     ]
    },
    {
     "name": "stdout",
     "output_type": "stream",
     "text": [
      "--------------------------------\n",
      "| batch_size        | 2048     |\n",
      "| bc/               |          |\n",
      "|    batch          | 7999     |\n",
      "|    ent_loss       | -0.00062 |\n",
      "|    entropy        | 0.62     |\n",
      "|    epoch          | 800      |\n",
      "|    l2_loss        | 0        |\n",
      "|    l2_norm        | 4.88e+03 |\n",
      "|    loss           | 0.676    |\n",
      "|    neglogp        | 0.677    |\n",
      "|    prob_true_act  | 0.733    |\n",
      "|    samples_so_far | 16384000 |\n",
      "--------------------------------\n"
     ]
    },
    {
     "name": "stderr",
     "output_type": "stream",
     "text": [
      "8010batch [48:12,  2.85batch/s]"
     ]
    },
    {
     "name": "stdout",
     "output_type": "stream",
     "text": [
      "--------------------------------\n",
      "| batch_size        | 2048     |\n",
      "| bc/               |          |\n",
      "|    batch          | 8009     |\n",
      "|    ent_loss       | -0.00062 |\n",
      "|    entropy        | 0.62     |\n",
      "|    epoch          | 801      |\n",
      "|    l2_loss        | 0        |\n",
      "|    l2_norm        | 4.88e+03 |\n",
      "|    loss           | 0.674    |\n",
      "|    neglogp        | 0.675    |\n",
      "|    prob_true_act  | 0.735    |\n",
      "|    samples_so_far | 16404480 |\n",
      "--------------------------------\n"
     ]
    },
    {
     "name": "stderr",
     "output_type": "stream",
     "text": [
      "8020batch [48:16,  2.98batch/s]"
     ]
    },
    {
     "name": "stdout",
     "output_type": "stream",
     "text": [
      "---------------------------------\n",
      "| batch_size        | 2048      |\n",
      "| bc/               |           |\n",
      "|    batch          | 8019      |\n",
      "|    ent_loss       | -0.000621 |\n",
      "|    entropy        | 0.621     |\n",
      "|    epoch          | 802       |\n",
      "|    l2_loss        | 0         |\n",
      "|    l2_norm        | 4.88e+03  |\n",
      "|    loss           | 0.633     |\n",
      "|    neglogp        | 0.633     |\n",
      "|    prob_true_act  | 0.73      |\n",
      "|    samples_so_far | 16424960  |\n",
      "---------------------------------\n"
     ]
    },
    {
     "name": "stderr",
     "output_type": "stream",
     "text": [
      "8030batch [48:19,  2.95batch/s]"
     ]
    },
    {
     "name": "stdout",
     "output_type": "stream",
     "text": [
      "---------------------------------\n",
      "| batch_size        | 2048      |\n",
      "| bc/               |           |\n",
      "|    batch          | 8029      |\n",
      "|    ent_loss       | -0.000621 |\n",
      "|    entropy        | 0.621     |\n",
      "|    epoch          | 803       |\n",
      "|    l2_loss        | 0         |\n",
      "|    l2_norm        | 4.88e+03  |\n",
      "|    loss           | 0.671     |\n",
      "|    neglogp        | 0.671     |\n",
      "|    prob_true_act  | 0.727     |\n",
      "|    samples_so_far | 16445440  |\n",
      "---------------------------------\n"
     ]
    },
    {
     "name": "stderr",
     "output_type": "stream",
     "text": [
      "8040batch [48:23,  2.90batch/s]"
     ]
    },
    {
     "name": "stdout",
     "output_type": "stream",
     "text": [
      "---------------------------------\n",
      "| batch_size        | 2048      |\n",
      "| bc/               |           |\n",
      "|    batch          | 8039      |\n",
      "|    ent_loss       | -0.000622 |\n",
      "|    entropy        | 0.622     |\n",
      "|    epoch          | 804       |\n",
      "|    l2_loss        | 0         |\n",
      "|    l2_norm        | 4.88e+03  |\n",
      "|    loss           | 0.629     |\n",
      "|    neglogp        | 0.63      |\n",
      "|    prob_true_act  | 0.745     |\n",
      "|    samples_so_far | 16465920  |\n",
      "---------------------------------\n"
     ]
    },
    {
     "name": "stderr",
     "output_type": "stream",
     "text": [
      "8050batch [48:26,  2.98batch/s]"
     ]
    },
    {
     "name": "stdout",
     "output_type": "stream",
     "text": [
      "---------------------------------\n",
      "| batch_size        | 2048      |\n",
      "| bc/               |           |\n",
      "|    batch          | 8049      |\n",
      "|    ent_loss       | -0.000622 |\n",
      "|    entropy        | 0.622     |\n",
      "|    epoch          | 805       |\n",
      "|    l2_loss        | 0         |\n",
      "|    l2_norm        | 4.88e+03  |\n",
      "|    loss           | 0.658     |\n",
      "|    neglogp        | 0.658     |\n",
      "|    prob_true_act  | 0.738     |\n",
      "|    samples_so_far | 16486400  |\n",
      "---------------------------------\n"
     ]
    },
    {
     "name": "stderr",
     "output_type": "stream",
     "text": [
      "8060batch [48:30,  2.98batch/s]"
     ]
    },
    {
     "name": "stdout",
     "output_type": "stream",
     "text": [
      "---------------------------------\n",
      "| batch_size        | 2048      |\n",
      "| bc/               |           |\n",
      "|    batch          | 8059      |\n",
      "|    ent_loss       | -0.000622 |\n",
      "|    entropy        | 0.622     |\n",
      "|    epoch          | 806       |\n",
      "|    l2_loss        | 0         |\n",
      "|    l2_norm        | 4.88e+03  |\n",
      "|    loss           | 0.626     |\n",
      "|    neglogp        | 0.626     |\n",
      "|    prob_true_act  | 0.741     |\n",
      "|    samples_so_far | 16506880  |\n",
      "---------------------------------\n"
     ]
    },
    {
     "name": "stderr",
     "output_type": "stream",
     "text": [
      "8070batch [48:34,  2.96batch/s]"
     ]
    },
    {
     "name": "stdout",
     "output_type": "stream",
     "text": [
      "---------------------------------\n",
      "| batch_size        | 2048      |\n",
      "| bc/               |           |\n",
      "|    batch          | 8069      |\n",
      "|    ent_loss       | -0.000623 |\n",
      "|    entropy        | 0.623     |\n",
      "|    epoch          | 807       |\n",
      "|    l2_loss        | 0         |\n",
      "|    l2_norm        | 4.88e+03  |\n",
      "|    loss           | 0.676     |\n",
      "|    neglogp        | 0.677     |\n",
      "|    prob_true_act  | 0.732     |\n",
      "|    samples_so_far | 16527360  |\n",
      "---------------------------------\n"
     ]
    },
    {
     "name": "stderr",
     "output_type": "stream",
     "text": [
      "8080batch [48:37,  2.99batch/s]"
     ]
    },
    {
     "name": "stdout",
     "output_type": "stream",
     "text": [
      "---------------------------------\n",
      "| batch_size        | 2048      |\n",
      "| bc/               |           |\n",
      "|    batch          | 8079      |\n",
      "|    ent_loss       | -0.000623 |\n",
      "|    entropy        | 0.623     |\n",
      "|    epoch          | 808       |\n",
      "|    l2_loss        | 0         |\n",
      "|    l2_norm        | 4.88e+03  |\n",
      "|    loss           | 0.683     |\n",
      "|    neglogp        | 0.684     |\n",
      "|    prob_true_act  | 0.724     |\n",
      "|    samples_so_far | 16547840  |\n",
      "---------------------------------\n"
     ]
    },
    {
     "name": "stderr",
     "output_type": "stream",
     "text": [
      "8090batch [48:41,  3.00batch/s]"
     ]
    },
    {
     "name": "stdout",
     "output_type": "stream",
     "text": [
      "---------------------------------\n",
      "| batch_size        | 2048      |\n",
      "| bc/               |           |\n",
      "|    batch          | 8089      |\n",
      "|    ent_loss       | -0.000623 |\n",
      "|    entropy        | 0.623     |\n",
      "|    epoch          | 809       |\n",
      "|    l2_loss        | 0         |\n",
      "|    l2_norm        | 4.88e+03  |\n",
      "|    loss           | 0.666     |\n",
      "|    neglogp        | 0.666     |\n",
      "|    prob_true_act  | 0.738     |\n",
      "|    samples_so_far | 16568320  |\n",
      "---------------------------------\n"
     ]
    },
    {
     "name": "stderr",
     "output_type": "stream",
     "text": [
      "8100batch [48:44,  2.99batch/s]"
     ]
    },
    {
     "name": "stdout",
     "output_type": "stream",
     "text": [
      "---------------------------------\n",
      "| batch_size        | 2048      |\n",
      "| bc/               |           |\n",
      "|    batch          | 8099      |\n",
      "|    ent_loss       | -0.000624 |\n",
      "|    entropy        | 0.624     |\n",
      "|    epoch          | 810       |\n",
      "|    l2_loss        | 0         |\n",
      "|    l2_norm        | 4.88e+03  |\n",
      "|    loss           | 0.661     |\n",
      "|    neglogp        | 0.662     |\n",
      "|    prob_true_act  | 0.736     |\n",
      "|    samples_so_far | 16588800  |\n",
      "---------------------------------\n"
     ]
    },
    {
     "name": "stderr",
     "output_type": "stream",
     "text": [
      "8110batch [48:48,  2.93batch/s]"
     ]
    },
    {
     "name": "stdout",
     "output_type": "stream",
     "text": [
      "---------------------------------\n",
      "| batch_size        | 2048      |\n",
      "| bc/               |           |\n",
      "|    batch          | 8109      |\n",
      "|    ent_loss       | -0.000624 |\n",
      "|    entropy        | 0.624     |\n",
      "|    epoch          | 811       |\n",
      "|    l2_loss        | 0         |\n",
      "|    l2_norm        | 4.88e+03  |\n",
      "|    loss           | 0.617     |\n",
      "|    neglogp        | 0.618     |\n",
      "|    prob_true_act  | 0.744     |\n",
      "|    samples_so_far | 16609280  |\n",
      "---------------------------------\n"
     ]
    },
    {
     "name": "stderr",
     "output_type": "stream",
     "text": [
      "8120batch [48:52,  2.58batch/s]"
     ]
    },
    {
     "name": "stdout",
     "output_type": "stream",
     "text": [
      "---------------------------------\n",
      "| batch_size        | 2048      |\n",
      "| bc/               |           |\n",
      "|    batch          | 8119      |\n",
      "|    ent_loss       | -0.000625 |\n",
      "|    entropy        | 0.625     |\n",
      "|    epoch          | 812       |\n",
      "|    l2_loss        | 0         |\n",
      "|    l2_norm        | 4.88e+03  |\n",
      "|    loss           | 0.615     |\n",
      "|    neglogp        | 0.616     |\n",
      "|    prob_true_act  | 0.745     |\n",
      "|    samples_so_far | 16629760  |\n",
      "---------------------------------\n"
     ]
    },
    {
     "name": "stderr",
     "output_type": "stream",
     "text": [
      "8130batch [48:55,  2.92batch/s]"
     ]
    },
    {
     "name": "stdout",
     "output_type": "stream",
     "text": [
      "---------------------------------\n",
      "| batch_size        | 2048      |\n",
      "| bc/               |           |\n",
      "|    batch          | 8129      |\n",
      "|    ent_loss       | -0.000625 |\n",
      "|    entropy        | 0.625     |\n",
      "|    epoch          | 813       |\n",
      "|    l2_loss        | 0         |\n",
      "|    l2_norm        | 4.88e+03  |\n",
      "|    loss           | 0.631     |\n",
      "|    neglogp        | 0.631     |\n",
      "|    prob_true_act  | 0.739     |\n",
      "|    samples_so_far | 16650240  |\n",
      "---------------------------------\n"
     ]
    },
    {
     "name": "stderr",
     "output_type": "stream",
     "text": [
      "8140batch [48:59,  3.02batch/s]"
     ]
    },
    {
     "name": "stdout",
     "output_type": "stream",
     "text": [
      "---------------------------------\n",
      "| batch_size        | 2048      |\n",
      "| bc/               |           |\n",
      "|    batch          | 8139      |\n",
      "|    ent_loss       | -0.000625 |\n",
      "|    entropy        | 0.625     |\n",
      "|    epoch          | 814       |\n",
      "|    l2_loss        | 0         |\n",
      "|    l2_norm        | 4.88e+03  |\n",
      "|    loss           | 0.62      |\n",
      "|    neglogp        | 0.621     |\n",
      "|    prob_true_act  | 0.745     |\n",
      "|    samples_so_far | 16670720  |\n",
      "---------------------------------\n"
     ]
    },
    {
     "name": "stderr",
     "output_type": "stream",
     "text": [
      "8150batch [49:02,  2.96batch/s]"
     ]
    },
    {
     "name": "stdout",
     "output_type": "stream",
     "text": [
      "---------------------------------\n",
      "| batch_size        | 2048      |\n",
      "| bc/               |           |\n",
      "|    batch          | 8149      |\n",
      "|    ent_loss       | -0.000626 |\n",
      "|    entropy        | 0.626     |\n",
      "|    epoch          | 815       |\n",
      "|    l2_loss        | 0         |\n",
      "|    l2_norm        | 4.88e+03  |\n",
      "|    loss           | 0.657     |\n",
      "|    neglogp        | 0.657     |\n",
      "|    prob_true_act  | 0.733     |\n",
      "|    samples_so_far | 16691200  |\n",
      "---------------------------------\n"
     ]
    },
    {
     "name": "stderr",
     "output_type": "stream",
     "text": [
      "8160batch [49:06,  2.94batch/s]"
     ]
    },
    {
     "name": "stdout",
     "output_type": "stream",
     "text": [
      "---------------------------------\n",
      "| batch_size        | 2048      |\n",
      "| bc/               |           |\n",
      "|    batch          | 8159      |\n",
      "|    ent_loss       | -0.000626 |\n",
      "|    entropy        | 0.626     |\n",
      "|    epoch          | 816       |\n",
      "|    l2_loss        | 0         |\n",
      "|    l2_norm        | 4.88e+03  |\n",
      "|    loss           | 0.651     |\n",
      "|    neglogp        | 0.652     |\n",
      "|    prob_true_act  | 0.742     |\n",
      "|    samples_so_far | 16711680  |\n",
      "---------------------------------\n"
     ]
    },
    {
     "name": "stderr",
     "output_type": "stream",
     "text": [
      "8170batch [49:09,  2.99batch/s]"
     ]
    },
    {
     "name": "stdout",
     "output_type": "stream",
     "text": [
      "---------------------------------\n",
      "| batch_size        | 2048      |\n",
      "| bc/               |           |\n",
      "|    batch          | 8169      |\n",
      "|    ent_loss       | -0.000626 |\n",
      "|    entropy        | 0.626     |\n",
      "|    epoch          | 817       |\n",
      "|    l2_loss        | 0         |\n",
      "|    l2_norm        | 4.88e+03  |\n",
      "|    loss           | 0.62      |\n",
      "|    neglogp        | 0.621     |\n",
      "|    prob_true_act  | 0.736     |\n",
      "|    samples_so_far | 16732160  |\n",
      "---------------------------------\n"
     ]
    },
    {
     "name": "stderr",
     "output_type": "stream",
     "text": [
      "8180batch [49:13,  2.97batch/s]"
     ]
    },
    {
     "name": "stdout",
     "output_type": "stream",
     "text": [
      "---------------------------------\n",
      "| batch_size        | 2048      |\n",
      "| bc/               |           |\n",
      "|    batch          | 8179      |\n",
      "|    ent_loss       | -0.000627 |\n",
      "|    entropy        | 0.627     |\n",
      "|    epoch          | 818       |\n",
      "|    l2_loss        | 0         |\n",
      "|    l2_norm        | 4.88e+03  |\n",
      "|    loss           | 0.653     |\n",
      "|    neglogp        | 0.653     |\n",
      "|    prob_true_act  | 0.744     |\n",
      "|    samples_so_far | 16752640  |\n",
      "---------------------------------\n"
     ]
    },
    {
     "name": "stderr",
     "output_type": "stream",
     "text": [
      "8190batch [49:16,  2.97batch/s]"
     ]
    },
    {
     "name": "stdout",
     "output_type": "stream",
     "text": [
      "---------------------------------\n",
      "| batch_size        | 2048      |\n",
      "| bc/               |           |\n",
      "|    batch          | 8189      |\n",
      "|    ent_loss       | -0.000627 |\n",
      "|    entropy        | 0.627     |\n",
      "|    epoch          | 819       |\n",
      "|    l2_loss        | 0         |\n",
      "|    l2_norm        | 4.88e+03  |\n",
      "|    loss           | 0.685     |\n",
      "|    neglogp        | 0.686     |\n",
      "|    prob_true_act  | 0.734     |\n",
      "|    samples_so_far | 16773120  |\n",
      "---------------------------------\n"
     ]
    },
    {
     "name": "stderr",
     "output_type": "stream",
     "text": [
      "8200batch [49:20,  2.70batch/s]"
     ]
    },
    {
     "name": "stdout",
     "output_type": "stream",
     "text": [
      "---------------------------------\n",
      "| batch_size        | 2048      |\n",
      "| bc/               |           |\n",
      "|    batch          | 8199      |\n",
      "|    ent_loss       | -0.000627 |\n",
      "|    entropy        | 0.627     |\n",
      "|    epoch          | 820       |\n",
      "|    l2_loss        | 0         |\n",
      "|    l2_norm        | 4.88e+03  |\n",
      "|    loss           | 0.64      |\n",
      "|    neglogp        | 0.64      |\n",
      "|    prob_true_act  | 0.736     |\n",
      "|    samples_so_far | 16793600  |\n",
      "---------------------------------\n"
     ]
    },
    {
     "name": "stderr",
     "output_type": "stream",
     "text": [
      "8210batch [49:24,  2.96batch/s]"
     ]
    },
    {
     "name": "stdout",
     "output_type": "stream",
     "text": [
      "---------------------------------\n",
      "| batch_size        | 2048      |\n",
      "| bc/               |           |\n",
      "|    batch          | 8209      |\n",
      "|    ent_loss       | -0.000628 |\n",
      "|    entropy        | 0.628     |\n",
      "|    epoch          | 821       |\n",
      "|    l2_loss        | 0         |\n",
      "|    l2_norm        | 4.88e+03  |\n",
      "|    loss           | 0.659     |\n",
      "|    neglogp        | 0.659     |\n",
      "|    prob_true_act  | 0.738     |\n",
      "|    samples_so_far | 16814080  |\n",
      "---------------------------------\n"
     ]
    },
    {
     "name": "stderr",
     "output_type": "stream",
     "text": [
      "8220batch [49:27,  2.96batch/s]"
     ]
    },
    {
     "name": "stdout",
     "output_type": "stream",
     "text": [
      "---------------------------------\n",
      "| batch_size        | 2048      |\n",
      "| bc/               |           |\n",
      "|    batch          | 8219      |\n",
      "|    ent_loss       | -0.000628 |\n",
      "|    entropy        | 0.628     |\n",
      "|    epoch          | 822       |\n",
      "|    l2_loss        | 0         |\n",
      "|    l2_norm        | 4.88e+03  |\n",
      "|    loss           | 0.661     |\n",
      "|    neglogp        | 0.661     |\n",
      "|    prob_true_act  | 0.735     |\n",
      "|    samples_so_far | 16834560  |\n",
      "---------------------------------\n"
     ]
    },
    {
     "name": "stderr",
     "output_type": "stream",
     "text": [
      "8230batch [49:31,  2.56batch/s]"
     ]
    },
    {
     "name": "stdout",
     "output_type": "stream",
     "text": [
      "---------------------------------\n",
      "| batch_size        | 2048      |\n",
      "| bc/               |           |\n",
      "|    batch          | 8229      |\n",
      "|    ent_loss       | -0.000628 |\n",
      "|    entropy        | 0.628     |\n",
      "|    epoch          | 823       |\n",
      "|    l2_loss        | 0         |\n",
      "|    l2_norm        | 4.88e+03  |\n",
      "|    loss           | 0.624     |\n",
      "|    neglogp        | 0.624     |\n",
      "|    prob_true_act  | 0.746     |\n",
      "|    samples_so_far | 16855040  |\n",
      "---------------------------------\n"
     ]
    },
    {
     "name": "stderr",
     "output_type": "stream",
     "text": [
      "8240batch [49:35,  2.91batch/s]"
     ]
    },
    {
     "name": "stdout",
     "output_type": "stream",
     "text": [
      "---------------------------------\n",
      "| batch_size        | 2048      |\n",
      "| bc/               |           |\n",
      "|    batch          | 8239      |\n",
      "|    ent_loss       | -0.000629 |\n",
      "|    entropy        | 0.629     |\n",
      "|    epoch          | 824       |\n",
      "|    l2_loss        | 0         |\n",
      "|    l2_norm        | 4.88e+03  |\n",
      "|    loss           | 0.679     |\n",
      "|    neglogp        | 0.679     |\n",
      "|    prob_true_act  | 0.732     |\n",
      "|    samples_so_far | 16875520  |\n",
      "---------------------------------\n"
     ]
    },
    {
     "name": "stderr",
     "output_type": "stream",
     "text": [
      "8250batch [49:38,  3.01batch/s]"
     ]
    },
    {
     "name": "stdout",
     "output_type": "stream",
     "text": [
      "---------------------------------\n",
      "| batch_size        | 2048      |\n",
      "| bc/               |           |\n",
      "|    batch          | 8249      |\n",
      "|    ent_loss       | -0.000629 |\n",
      "|    entropy        | 0.629     |\n",
      "|    epoch          | 825       |\n",
      "|    l2_loss        | 0         |\n",
      "|    l2_norm        | 4.88e+03  |\n",
      "|    loss           | 0.609     |\n",
      "|    neglogp        | 0.61      |\n",
      "|    prob_true_act  | 0.742     |\n",
      "|    samples_so_far | 16896000  |\n",
      "---------------------------------\n"
     ]
    },
    {
     "name": "stderr",
     "output_type": "stream",
     "text": [
      "8260batch [49:42,  2.94batch/s]"
     ]
    },
    {
     "name": "stdout",
     "output_type": "stream",
     "text": [
      "---------------------------------\n",
      "| batch_size        | 2048      |\n",
      "| bc/               |           |\n",
      "|    batch          | 8259      |\n",
      "|    ent_loss       | -0.000629 |\n",
      "|    entropy        | 0.629     |\n",
      "|    epoch          | 826       |\n",
      "|    l2_loss        | 0         |\n",
      "|    l2_norm        | 4.88e+03  |\n",
      "|    loss           | 0.618     |\n",
      "|    neglogp        | 0.619     |\n",
      "|    prob_true_act  | 0.737     |\n",
      "|    samples_so_far | 16916480  |\n",
      "---------------------------------\n"
     ]
    },
    {
     "name": "stderr",
     "output_type": "stream",
     "text": [
      "8270batch [49:45,  2.97batch/s]"
     ]
    },
    {
     "name": "stdout",
     "output_type": "stream",
     "text": [
      "--------------------------------\n",
      "| batch_size        | 2048     |\n",
      "| bc/               |          |\n",
      "|    batch          | 8269     |\n",
      "|    ent_loss       | -0.00063 |\n",
      "|    entropy        | 0.63     |\n",
      "|    epoch          | 827      |\n",
      "|    l2_loss        | 0        |\n",
      "|    l2_norm        | 4.88e+03 |\n",
      "|    loss           | 0.627    |\n",
      "|    neglogp        | 0.627    |\n",
      "|    prob_true_act  | 0.746    |\n",
      "|    samples_so_far | 16936960 |\n",
      "--------------------------------\n"
     ]
    },
    {
     "name": "stderr",
     "output_type": "stream",
     "text": [
      "8280batch [49:49,  2.97batch/s]"
     ]
    },
    {
     "name": "stdout",
     "output_type": "stream",
     "text": [
      "--------------------------------\n",
      "| batch_size        | 2048     |\n",
      "| bc/               |          |\n",
      "|    batch          | 8279     |\n",
      "|    ent_loss       | -0.00063 |\n",
      "|    entropy        | 0.63     |\n",
      "|    epoch          | 828      |\n",
      "|    l2_loss        | 0        |\n",
      "|    l2_norm        | 4.88e+03 |\n",
      "|    loss           | 0.65     |\n",
      "|    neglogp        | 0.651    |\n",
      "|    prob_true_act  | 0.737    |\n",
      "|    samples_so_far | 16957440 |\n",
      "--------------------------------\n"
     ]
    },
    {
     "name": "stderr",
     "output_type": "stream",
     "text": [
      "8290batch [49:53,  2.93batch/s]"
     ]
    },
    {
     "name": "stdout",
     "output_type": "stream",
     "text": [
      "--------------------------------\n",
      "| batch_size        | 2048     |\n",
      "| bc/               |          |\n",
      "|    batch          | 8289     |\n",
      "|    ent_loss       | -0.00063 |\n",
      "|    entropy        | 0.63     |\n",
      "|    epoch          | 829      |\n",
      "|    l2_loss        | 0        |\n",
      "|    l2_norm        | 4.88e+03 |\n",
      "|    loss           | 0.638    |\n",
      "|    neglogp        | 0.639    |\n",
      "|    prob_true_act  | 0.743    |\n",
      "|    samples_so_far | 16977920 |\n",
      "--------------------------------\n"
     ]
    },
    {
     "name": "stderr",
     "output_type": "stream",
     "text": [
      "8300batch [49:56,  2.97batch/s]"
     ]
    },
    {
     "name": "stdout",
     "output_type": "stream",
     "text": [
      "--------------------------------\n",
      "| batch_size        | 2048     |\n",
      "| bc/               |          |\n",
      "|    batch          | 8299     |\n",
      "|    ent_loss       | -0.00063 |\n",
      "|    entropy        | 0.63     |\n",
      "|    epoch          | 830      |\n",
      "|    l2_loss        | 0        |\n",
      "|    l2_norm        | 4.88e+03 |\n",
      "|    loss           | 0.674    |\n",
      "|    neglogp        | 0.674    |\n",
      "|    prob_true_act  | 0.734    |\n",
      "|    samples_so_far | 16998400 |\n",
      "--------------------------------\n"
     ]
    },
    {
     "name": "stderr",
     "output_type": "stream",
     "text": [
      "8310batch [50:00,  3.01batch/s]"
     ]
    },
    {
     "name": "stdout",
     "output_type": "stream",
     "text": [
      "---------------------------------\n",
      "| batch_size        | 2048      |\n",
      "| bc/               |           |\n",
      "|    batch          | 8309      |\n",
      "|    ent_loss       | -0.000631 |\n",
      "|    entropy        | 0.631     |\n",
      "|    epoch          | 831       |\n",
      "|    l2_loss        | 0         |\n",
      "|    l2_norm        | 4.88e+03  |\n",
      "|    loss           | 0.654     |\n",
      "|    neglogp        | 0.654     |\n",
      "|    prob_true_act  | 0.736     |\n",
      "|    samples_so_far | 17018880  |\n",
      "---------------------------------\n"
     ]
    },
    {
     "name": "stderr",
     "output_type": "stream",
     "text": [
      "8320batch [50:03,  3.01batch/s]"
     ]
    },
    {
     "name": "stdout",
     "output_type": "stream",
     "text": [
      "---------------------------------\n",
      "| batch_size        | 2048      |\n",
      "| bc/               |           |\n",
      "|    batch          | 8319      |\n",
      "|    ent_loss       | -0.000631 |\n",
      "|    entropy        | 0.631     |\n",
      "|    epoch          | 832       |\n",
      "|    l2_loss        | 0         |\n",
      "|    l2_norm        | 4.88e+03  |\n",
      "|    loss           | 0.696     |\n",
      "|    neglogp        | 0.696     |\n",
      "|    prob_true_act  | 0.725     |\n",
      "|    samples_so_far | 17039360  |\n",
      "---------------------------------\n"
     ]
    },
    {
     "name": "stderr",
     "output_type": "stream",
     "text": [
      "8330batch [50:07,  2.98batch/s]"
     ]
    },
    {
     "name": "stdout",
     "output_type": "stream",
     "text": [
      "---------------------------------\n",
      "| batch_size        | 2048      |\n",
      "| bc/               |           |\n",
      "|    batch          | 8329      |\n",
      "|    ent_loss       | -0.000631 |\n",
      "|    entropy        | 0.631     |\n",
      "|    epoch          | 833       |\n",
      "|    l2_loss        | 0         |\n",
      "|    l2_norm        | 4.88e+03  |\n",
      "|    loss           | 0.616     |\n",
      "|    neglogp        | 0.617     |\n",
      "|    prob_true_act  | 0.738     |\n",
      "|    samples_so_far | 17059840  |\n",
      "---------------------------------\n"
     ]
    },
    {
     "name": "stderr",
     "output_type": "stream",
     "text": [
      "8340batch [50:10,  2.89batch/s]"
     ]
    },
    {
     "name": "stdout",
     "output_type": "stream",
     "text": [
      "---------------------------------\n",
      "| batch_size        | 2048      |\n",
      "| bc/               |           |\n",
      "|    batch          | 8339      |\n",
      "|    ent_loss       | -0.000632 |\n",
      "|    entropy        | 0.632     |\n",
      "|    epoch          | 834       |\n",
      "|    l2_loss        | 0         |\n",
      "|    l2_norm        | 4.88e+03  |\n",
      "|    loss           | 0.623     |\n",
      "|    neglogp        | 0.623     |\n",
      "|    prob_true_act  | 0.737     |\n",
      "|    samples_so_far | 17080320  |\n",
      "---------------------------------\n"
     ]
    },
    {
     "name": "stderr",
     "output_type": "stream",
     "text": [
      "8350batch [50:14,  3.00batch/s]"
     ]
    },
    {
     "name": "stdout",
     "output_type": "stream",
     "text": [
      "---------------------------------\n",
      "| batch_size        | 2048      |\n",
      "| bc/               |           |\n",
      "|    batch          | 8349      |\n",
      "|    ent_loss       | -0.000632 |\n",
      "|    entropy        | 0.632     |\n",
      "|    epoch          | 835       |\n",
      "|    l2_loss        | 0         |\n",
      "|    l2_norm        | 4.88e+03  |\n",
      "|    loss           | 0.591     |\n",
      "|    neglogp        | 0.592     |\n",
      "|    prob_true_act  | 0.749     |\n",
      "|    samples_so_far | 17100800  |\n",
      "---------------------------------\n"
     ]
    },
    {
     "name": "stderr",
     "output_type": "stream",
     "text": [
      "8360batch [50:17,  2.94batch/s]"
     ]
    },
    {
     "name": "stdout",
     "output_type": "stream",
     "text": [
      "---------------------------------\n",
      "| batch_size        | 2048      |\n",
      "| bc/               |           |\n",
      "|    batch          | 8359      |\n",
      "|    ent_loss       | -0.000632 |\n",
      "|    entropy        | 0.632     |\n",
      "|    epoch          | 836       |\n",
      "|    l2_loss        | 0         |\n",
      "|    l2_norm        | 4.88e+03  |\n",
      "|    loss           | 0.638     |\n",
      "|    neglogp        | 0.639     |\n",
      "|    prob_true_act  | 0.733     |\n",
      "|    samples_so_far | 17121280  |\n",
      "---------------------------------\n"
     ]
    },
    {
     "name": "stderr",
     "output_type": "stream",
     "text": [
      "8370batch [50:21,  2.96batch/s]"
     ]
    },
    {
     "name": "stdout",
     "output_type": "stream",
     "text": [
      "---------------------------------\n",
      "| batch_size        | 2048      |\n",
      "| bc/               |           |\n",
      "|    batch          | 8369      |\n",
      "|    ent_loss       | -0.000632 |\n",
      "|    entropy        | 0.632     |\n",
      "|    epoch          | 837       |\n",
      "|    l2_loss        | 0         |\n",
      "|    l2_norm        | 4.88e+03  |\n",
      "|    loss           | 0.619     |\n",
      "|    neglogp        | 0.62      |\n",
      "|    prob_true_act  | 0.742     |\n",
      "|    samples_so_far | 17141760  |\n",
      "---------------------------------\n"
     ]
    },
    {
     "name": "stderr",
     "output_type": "stream",
     "text": [
      "8380batch [50:24,  2.98batch/s]"
     ]
    },
    {
     "name": "stdout",
     "output_type": "stream",
     "text": [
      "---------------------------------\n",
      "| batch_size        | 2048      |\n",
      "| bc/               |           |\n",
      "|    batch          | 8379      |\n",
      "|    ent_loss       | -0.000633 |\n",
      "|    entropy        | 0.633     |\n",
      "|    epoch          | 838       |\n",
      "|    l2_loss        | 0         |\n",
      "|    l2_norm        | 4.88e+03  |\n",
      "|    loss           | 0.64      |\n",
      "|    neglogp        | 0.64      |\n",
      "|    prob_true_act  | 0.74      |\n",
      "|    samples_so_far | 17162240  |\n",
      "---------------------------------\n"
     ]
    },
    {
     "name": "stderr",
     "output_type": "stream",
     "text": [
      "8390batch [50:28,  2.71batch/s]"
     ]
    },
    {
     "name": "stdout",
     "output_type": "stream",
     "text": [
      "---------------------------------\n",
      "| batch_size        | 2048      |\n",
      "| bc/               |           |\n",
      "|    batch          | 8389      |\n",
      "|    ent_loss       | -0.000633 |\n",
      "|    entropy        | 0.633     |\n",
      "|    epoch          | 839       |\n",
      "|    l2_loss        | 0         |\n",
      "|    l2_norm        | 4.88e+03  |\n",
      "|    loss           | 0.669     |\n",
      "|    neglogp        | 0.669     |\n",
      "|    prob_true_act  | 0.74      |\n",
      "|    samples_so_far | 17182720  |\n",
      "---------------------------------\n"
     ]
    },
    {
     "name": "stderr",
     "output_type": "stream",
     "text": [
      "8400batch [50:32,  2.94batch/s]"
     ]
    },
    {
     "name": "stdout",
     "output_type": "stream",
     "text": [
      "---------------------------------\n",
      "| batch_size        | 2048      |\n",
      "| bc/               |           |\n",
      "|    batch          | 8399      |\n",
      "|    ent_loss       | -0.000633 |\n",
      "|    entropy        | 0.633     |\n",
      "|    epoch          | 840       |\n",
      "|    l2_loss        | 0         |\n",
      "|    l2_norm        | 4.88e+03  |\n",
      "|    loss           | 0.698     |\n",
      "|    neglogp        | 0.698     |\n",
      "|    prob_true_act  | 0.728     |\n",
      "|    samples_so_far | 17203200  |\n",
      "---------------------------------\n"
     ]
    },
    {
     "name": "stderr",
     "output_type": "stream",
     "text": [
      "8410batch [50:35,  2.98batch/s]"
     ]
    },
    {
     "name": "stdout",
     "output_type": "stream",
     "text": [
      "---------------------------------\n",
      "| batch_size        | 2048      |\n",
      "| bc/               |           |\n",
      "|    batch          | 8409      |\n",
      "|    ent_loss       | -0.000633 |\n",
      "|    entropy        | 0.633     |\n",
      "|    epoch          | 841       |\n",
      "|    l2_loss        | 0         |\n",
      "|    l2_norm        | 4.88e+03  |\n",
      "|    loss           | 0.653     |\n",
      "|    neglogp        | 0.654     |\n",
      "|    prob_true_act  | 0.735     |\n",
      "|    samples_so_far | 17223680  |\n",
      "---------------------------------\n"
     ]
    },
    {
     "name": "stderr",
     "output_type": "stream",
     "text": [
      "8420batch [50:39,  2.97batch/s]"
     ]
    },
    {
     "name": "stdout",
     "output_type": "stream",
     "text": [
      "---------------------------------\n",
      "| batch_size        | 2048      |\n",
      "| bc/               |           |\n",
      "|    batch          | 8419      |\n",
      "|    ent_loss       | -0.000634 |\n",
      "|    entropy        | 0.634     |\n",
      "|    epoch          | 842       |\n",
      "|    l2_loss        | 0         |\n",
      "|    l2_norm        | 4.88e+03  |\n",
      "|    loss           | 0.647     |\n",
      "|    neglogp        | 0.647     |\n",
      "|    prob_true_act  | 0.738     |\n",
      "|    samples_so_far | 17244160  |\n",
      "---------------------------------\n"
     ]
    },
    {
     "name": "stderr",
     "output_type": "stream",
     "text": [
      "8430batch [50:43,  2.82batch/s]"
     ]
    },
    {
     "name": "stdout",
     "output_type": "stream",
     "text": [
      "---------------------------------\n",
      "| batch_size        | 2048      |\n",
      "| bc/               |           |\n",
      "|    batch          | 8429      |\n",
      "|    ent_loss       | -0.000634 |\n",
      "|    entropy        | 0.634     |\n",
      "|    epoch          | 843       |\n",
      "|    l2_loss        | 0         |\n",
      "|    l2_norm        | 4.88e+03  |\n",
      "|    loss           | 0.626     |\n",
      "|    neglogp        | 0.626     |\n",
      "|    prob_true_act  | 0.742     |\n",
      "|    samples_so_far | 17264640  |\n",
      "---------------------------------\n"
     ]
    },
    {
     "name": "stderr",
     "output_type": "stream",
     "text": [
      "8440batch [50:46,  2.99batch/s]"
     ]
    },
    {
     "name": "stdout",
     "output_type": "stream",
     "text": [
      "---------------------------------\n",
      "| batch_size        | 2048      |\n",
      "| bc/               |           |\n",
      "|    batch          | 8439      |\n",
      "|    ent_loss       | -0.000634 |\n",
      "|    entropy        | 0.634     |\n",
      "|    epoch          | 844       |\n",
      "|    l2_loss        | 0         |\n",
      "|    l2_norm        | 4.88e+03  |\n",
      "|    loss           | 0.661     |\n",
      "|    neglogp        | 0.661     |\n",
      "|    prob_true_act  | 0.73      |\n",
      "|    samples_so_far | 17285120  |\n",
      "---------------------------------\n"
     ]
    },
    {
     "name": "stderr",
     "output_type": "stream",
     "text": [
      "8450batch [50:50,  2.55batch/s]"
     ]
    },
    {
     "name": "stdout",
     "output_type": "stream",
     "text": [
      "---------------------------------\n",
      "| batch_size        | 2048      |\n",
      "| bc/               |           |\n",
      "|    batch          | 8449      |\n",
      "|    ent_loss       | -0.000634 |\n",
      "|    entropy        | 0.634     |\n",
      "|    epoch          | 845       |\n",
      "|    l2_loss        | 0         |\n",
      "|    l2_norm        | 4.88e+03  |\n",
      "|    loss           | 0.646     |\n",
      "|    neglogp        | 0.647     |\n",
      "|    prob_true_act  | 0.735     |\n",
      "|    samples_so_far | 17305600  |\n",
      "---------------------------------\n"
     ]
    },
    {
     "name": "stderr",
     "output_type": "stream",
     "text": [
      "8460batch [50:53,  2.97batch/s]"
     ]
    },
    {
     "name": "stdout",
     "output_type": "stream",
     "text": [
      "---------------------------------\n",
      "| batch_size        | 2048      |\n",
      "| bc/               |           |\n",
      "|    batch          | 8459      |\n",
      "|    ent_loss       | -0.000635 |\n",
      "|    entropy        | 0.635     |\n",
      "|    epoch          | 846       |\n",
      "|    l2_loss        | 0         |\n",
      "|    l2_norm        | 4.88e+03  |\n",
      "|    loss           | 0.631     |\n",
      "|    neglogp        | 0.631     |\n",
      "|    prob_true_act  | 0.736     |\n",
      "|    samples_so_far | 17326080  |\n",
      "---------------------------------\n"
     ]
    },
    {
     "name": "stderr",
     "output_type": "stream",
     "text": [
      "8470batch [50:57,  2.99batch/s]"
     ]
    },
    {
     "name": "stdout",
     "output_type": "stream",
     "text": [
      "---------------------------------\n",
      "| batch_size        | 2048      |\n",
      "| bc/               |           |\n",
      "|    batch          | 8469      |\n",
      "|    ent_loss       | -0.000635 |\n",
      "|    entropy        | 0.635     |\n",
      "|    epoch          | 847       |\n",
      "|    l2_loss        | 0         |\n",
      "|    l2_norm        | 4.88e+03  |\n",
      "|    loss           | 0.679     |\n",
      "|    neglogp        | 0.679     |\n",
      "|    prob_true_act  | 0.731     |\n",
      "|    samples_so_far | 17346560  |\n",
      "---------------------------------\n"
     ]
    },
    {
     "name": "stderr",
     "output_type": "stream",
     "text": [
      "8480batch [51:01,  2.98batch/s]"
     ]
    },
    {
     "name": "stdout",
     "output_type": "stream",
     "text": [
      "---------------------------------\n",
      "| batch_size        | 2048      |\n",
      "| bc/               |           |\n",
      "|    batch          | 8479      |\n",
      "|    ent_loss       | -0.000635 |\n",
      "|    entropy        | 0.635     |\n",
      "|    epoch          | 848       |\n",
      "|    l2_loss        | 0         |\n",
      "|    l2_norm        | 4.88e+03  |\n",
      "|    loss           | 0.649     |\n",
      "|    neglogp        | 0.649     |\n",
      "|    prob_true_act  | 0.733     |\n",
      "|    samples_so_far | 17367040  |\n",
      "---------------------------------\n"
     ]
    },
    {
     "name": "stderr",
     "output_type": "stream",
     "text": [
      "8490batch [51:04,  2.71batch/s]"
     ]
    },
    {
     "name": "stdout",
     "output_type": "stream",
     "text": [
      "---------------------------------\n",
      "| batch_size        | 2048      |\n",
      "| bc/               |           |\n",
      "|    batch          | 8489      |\n",
      "|    ent_loss       | -0.000635 |\n",
      "|    entropy        | 0.635     |\n",
      "|    epoch          | 849       |\n",
      "|    l2_loss        | 0         |\n",
      "|    l2_norm        | 4.88e+03  |\n",
      "|    loss           | 0.667     |\n",
      "|    neglogp        | 0.668     |\n",
      "|    prob_true_act  | 0.73      |\n",
      "|    samples_so_far | 17387520  |\n",
      "---------------------------------\n"
     ]
    },
    {
     "name": "stderr",
     "output_type": "stream",
     "text": [
      "8500batch [51:08,  2.93batch/s]"
     ]
    },
    {
     "name": "stdout",
     "output_type": "stream",
     "text": [
      "---------------------------------\n",
      "| batch_size        | 2048      |\n",
      "| bc/               |           |\n",
      "|    batch          | 8499      |\n",
      "|    ent_loss       | -0.000636 |\n",
      "|    entropy        | 0.636     |\n",
      "|    epoch          | 850       |\n",
      "|    l2_loss        | 0         |\n",
      "|    l2_norm        | 4.88e+03  |\n",
      "|    loss           | 0.611     |\n",
      "|    neglogp        | 0.611     |\n",
      "|    prob_true_act  | 0.739     |\n",
      "|    samples_so_far | 17408000  |\n",
      "---------------------------------\n"
     ]
    },
    {
     "name": "stderr",
     "output_type": "stream",
     "text": [
      "8510batch [51:11,  2.95batch/s]"
     ]
    },
    {
     "name": "stdout",
     "output_type": "stream",
     "text": [
      "---------------------------------\n",
      "| batch_size        | 2048      |\n",
      "| bc/               |           |\n",
      "|    batch          | 8509      |\n",
      "|    ent_loss       | -0.000636 |\n",
      "|    entropy        | 0.636     |\n",
      "|    epoch          | 851       |\n",
      "|    l2_loss        | 0         |\n",
      "|    l2_norm        | 4.88e+03  |\n",
      "|    loss           | 0.603     |\n",
      "|    neglogp        | 0.604     |\n",
      "|    prob_true_act  | 0.743     |\n",
      "|    samples_so_far | 17428480  |\n",
      "---------------------------------\n"
     ]
    },
    {
     "name": "stderr",
     "output_type": "stream",
     "text": [
      "8520batch [51:15,  3.02batch/s]"
     ]
    },
    {
     "name": "stdout",
     "output_type": "stream",
     "text": [
      "---------------------------------\n",
      "| batch_size        | 2048      |\n",
      "| bc/               |           |\n",
      "|    batch          | 8519      |\n",
      "|    ent_loss       | -0.000636 |\n",
      "|    entropy        | 0.636     |\n",
      "|    epoch          | 852       |\n",
      "|    l2_loss        | 0         |\n",
      "|    l2_norm        | 4.88e+03  |\n",
      "|    loss           | 0.657     |\n",
      "|    neglogp        | 0.657     |\n",
      "|    prob_true_act  | 0.734     |\n",
      "|    samples_so_far | 17448960  |\n",
      "---------------------------------\n"
     ]
    },
    {
     "name": "stderr",
     "output_type": "stream",
     "text": [
      "8530batch [51:18,  2.96batch/s]"
     ]
    },
    {
     "name": "stdout",
     "output_type": "stream",
     "text": [
      "---------------------------------\n",
      "| batch_size        | 2048      |\n",
      "| bc/               |           |\n",
      "|    batch          | 8529      |\n",
      "|    ent_loss       | -0.000636 |\n",
      "|    entropy        | 0.636     |\n",
      "|    epoch          | 853       |\n",
      "|    l2_loss        | 0         |\n",
      "|    l2_norm        | 4.88e+03  |\n",
      "|    loss           | 0.632     |\n",
      "|    neglogp        | 0.633     |\n",
      "|    prob_true_act  | 0.748     |\n",
      "|    samples_so_far | 17469440  |\n",
      "---------------------------------\n"
     ]
    },
    {
     "name": "stderr",
     "output_type": "stream",
     "text": [
      "8540batch [51:22,  2.99batch/s]"
     ]
    },
    {
     "name": "stdout",
     "output_type": "stream",
     "text": [
      "---------------------------------\n",
      "| batch_size        | 2048      |\n",
      "| bc/               |           |\n",
      "|    batch          | 8539      |\n",
      "|    ent_loss       | -0.000637 |\n",
      "|    entropy        | 0.637     |\n",
      "|    epoch          | 854       |\n",
      "|    l2_loss        | 0         |\n",
      "|    l2_norm        | 4.88e+03  |\n",
      "|    loss           | 0.641     |\n",
      "|    neglogp        | 0.642     |\n",
      "|    prob_true_act  | 0.732     |\n",
      "|    samples_so_far | 17489920  |\n",
      "---------------------------------\n"
     ]
    },
    {
     "name": "stderr",
     "output_type": "stream",
     "text": [
      "8550batch [51:26,  2.79batch/s]"
     ]
    },
    {
     "name": "stdout",
     "output_type": "stream",
     "text": [
      "---------------------------------\n",
      "| batch_size        | 2048      |\n",
      "| bc/               |           |\n",
      "|    batch          | 8549      |\n",
      "|    ent_loss       | -0.000637 |\n",
      "|    entropy        | 0.637     |\n",
      "|    epoch          | 855       |\n",
      "|    l2_loss        | 0         |\n",
      "|    l2_norm        | 4.88e+03  |\n",
      "|    loss           | 0.631     |\n",
      "|    neglogp        | 0.632     |\n",
      "|    prob_true_act  | 0.732     |\n",
      "|    samples_so_far | 17510400  |\n",
      "---------------------------------\n"
     ]
    },
    {
     "name": "stderr",
     "output_type": "stream",
     "text": [
      "8560batch [51:29,  2.94batch/s]"
     ]
    },
    {
     "name": "stdout",
     "output_type": "stream",
     "text": [
      "---------------------------------\n",
      "| batch_size        | 2048      |\n",
      "| bc/               |           |\n",
      "|    batch          | 8559      |\n",
      "|    ent_loss       | -0.000637 |\n",
      "|    entropy        | 0.637     |\n",
      "|    epoch          | 856       |\n",
      "|    l2_loss        | 0         |\n",
      "|    l2_norm        | 4.88e+03  |\n",
      "|    loss           | 0.611     |\n",
      "|    neglogp        | 0.612     |\n",
      "|    prob_true_act  | 0.741     |\n",
      "|    samples_so_far | 17530880  |\n",
      "---------------------------------\n"
     ]
    },
    {
     "name": "stderr",
     "output_type": "stream",
     "text": [
      "8570batch [51:33,  2.95batch/s]"
     ]
    },
    {
     "name": "stdout",
     "output_type": "stream",
     "text": [
      "---------------------------------\n",
      "| batch_size        | 2048      |\n",
      "| bc/               |           |\n",
      "|    batch          | 8569      |\n",
      "|    ent_loss       | -0.000637 |\n",
      "|    entropy        | 0.637     |\n",
      "|    epoch          | 857       |\n",
      "|    l2_loss        | 0         |\n",
      "|    l2_norm        | 4.88e+03  |\n",
      "|    loss           | 0.646     |\n",
      "|    neglogp        | 0.647     |\n",
      "|    prob_true_act  | 0.746     |\n",
      "|    samples_so_far | 17551360  |\n",
      "---------------------------------\n"
     ]
    },
    {
     "name": "stderr",
     "output_type": "stream",
     "text": [
      "8580batch [51:36,  2.97batch/s]"
     ]
    },
    {
     "name": "stdout",
     "output_type": "stream",
     "text": [
      "---------------------------------\n",
      "| batch_size        | 2048      |\n",
      "| bc/               |           |\n",
      "|    batch          | 8579      |\n",
      "|    ent_loss       | -0.000637 |\n",
      "|    entropy        | 0.637     |\n",
      "|    epoch          | 858       |\n",
      "|    l2_loss        | 0         |\n",
      "|    l2_norm        | 4.88e+03  |\n",
      "|    loss           | 0.666     |\n",
      "|    neglogp        | 0.666     |\n",
      "|    prob_true_act  | 0.732     |\n",
      "|    samples_so_far | 17571840  |\n",
      "---------------------------------\n"
     ]
    },
    {
     "name": "stderr",
     "output_type": "stream",
     "text": [
      "8590batch [51:40,  2.93batch/s]"
     ]
    },
    {
     "name": "stdout",
     "output_type": "stream",
     "text": [
      "---------------------------------\n",
      "| batch_size        | 2048      |\n",
      "| bc/               |           |\n",
      "|    batch          | 8589      |\n",
      "|    ent_loss       | -0.000638 |\n",
      "|    entropy        | 0.638     |\n",
      "|    epoch          | 859       |\n",
      "|    l2_loss        | 0         |\n",
      "|    l2_norm        | 4.88e+03  |\n",
      "|    loss           | 0.617     |\n",
      "|    neglogp        | 0.618     |\n",
      "|    prob_true_act  | 0.733     |\n",
      "|    samples_so_far | 17592320  |\n",
      "---------------------------------\n"
     ]
    },
    {
     "name": "stderr",
     "output_type": "stream",
     "text": [
      "8600batch [51:44,  2.99batch/s]"
     ]
    },
    {
     "name": "stdout",
     "output_type": "stream",
     "text": [
      "---------------------------------\n",
      "| batch_size        | 2048      |\n",
      "| bc/               |           |\n",
      "|    batch          | 8599      |\n",
      "|    ent_loss       | -0.000638 |\n",
      "|    entropy        | 0.638     |\n",
      "|    epoch          | 860       |\n",
      "|    l2_loss        | 0         |\n",
      "|    l2_norm        | 4.88e+03  |\n",
      "|    loss           | 0.671     |\n",
      "|    neglogp        | 0.671     |\n",
      "|    prob_true_act  | 0.734     |\n",
      "|    samples_so_far | 17612800  |\n",
      "---------------------------------\n"
     ]
    },
    {
     "name": "stderr",
     "output_type": "stream",
     "text": [
      "8610batch [51:47,  3.01batch/s]"
     ]
    },
    {
     "name": "stdout",
     "output_type": "stream",
     "text": [
      "---------------------------------\n",
      "| batch_size        | 2048      |\n",
      "| bc/               |           |\n",
      "|    batch          | 8609      |\n",
      "|    ent_loss       | -0.000638 |\n",
      "|    entropy        | 0.638     |\n",
      "|    epoch          | 861       |\n",
      "|    l2_loss        | 0         |\n",
      "|    l2_norm        | 4.88e+03  |\n",
      "|    loss           | 0.655     |\n",
      "|    neglogp        | 0.655     |\n",
      "|    prob_true_act  | 0.739     |\n",
      "|    samples_so_far | 17633280  |\n",
      "---------------------------------\n"
     ]
    },
    {
     "name": "stderr",
     "output_type": "stream",
     "text": [
      "8620batch [51:51,  2.70batch/s]"
     ]
    },
    {
     "name": "stdout",
     "output_type": "stream",
     "text": [
      "---------------------------------\n",
      "| batch_size        | 2048      |\n",
      "| bc/               |           |\n",
      "|    batch          | 8619      |\n",
      "|    ent_loss       | -0.000638 |\n",
      "|    entropy        | 0.638     |\n",
      "|    epoch          | 862       |\n",
      "|    l2_loss        | 0         |\n",
      "|    l2_norm        | 4.88e+03  |\n",
      "|    loss           | 0.62      |\n",
      "|    neglogp        | 0.621     |\n",
      "|    prob_true_act  | 0.739     |\n",
      "|    samples_so_far | 17653760  |\n",
      "---------------------------------\n"
     ]
    },
    {
     "name": "stderr",
     "output_type": "stream",
     "text": [
      "8630batch [51:54,  2.91batch/s]"
     ]
    },
    {
     "name": "stdout",
     "output_type": "stream",
     "text": [
      "---------------------------------\n",
      "| batch_size        | 2048      |\n",
      "| bc/               |           |\n",
      "|    batch          | 8629      |\n",
      "|    ent_loss       | -0.000638 |\n",
      "|    entropy        | 0.638     |\n",
      "|    epoch          | 863       |\n",
      "|    l2_loss        | 0         |\n",
      "|    l2_norm        | 4.88e+03  |\n",
      "|    loss           | 0.609     |\n",
      "|    neglogp        | 0.609     |\n",
      "|    prob_true_act  | 0.746     |\n",
      "|    samples_so_far | 17674240  |\n",
      "---------------------------------\n"
     ]
    },
    {
     "name": "stderr",
     "output_type": "stream",
     "text": [
      "8640batch [51:58,  3.00batch/s]"
     ]
    },
    {
     "name": "stdout",
     "output_type": "stream",
     "text": [
      "---------------------------------\n",
      "| batch_size        | 2048      |\n",
      "| bc/               |           |\n",
      "|    batch          | 8639      |\n",
      "|    ent_loss       | -0.000639 |\n",
      "|    entropy        | 0.639     |\n",
      "|    epoch          | 864       |\n",
      "|    l2_loss        | 0         |\n",
      "|    l2_norm        | 4.88e+03  |\n",
      "|    loss           | 0.623     |\n",
      "|    neglogp        | 0.624     |\n",
      "|    prob_true_act  | 0.742     |\n",
      "|    samples_so_far | 17694720  |\n",
      "---------------------------------\n"
     ]
    },
    {
     "name": "stderr",
     "output_type": "stream",
     "text": [
      "8650batch [52:02,  2.98batch/s]"
     ]
    },
    {
     "name": "stdout",
     "output_type": "stream",
     "text": [
      "---------------------------------\n",
      "| batch_size        | 2048      |\n",
      "| bc/               |           |\n",
      "|    batch          | 8649      |\n",
      "|    ent_loss       | -0.000639 |\n",
      "|    entropy        | 0.639     |\n",
      "|    epoch          | 865       |\n",
      "|    l2_loss        | 0         |\n",
      "|    l2_norm        | 4.88e+03  |\n",
      "|    loss           | 0.666     |\n",
      "|    neglogp        | 0.667     |\n",
      "|    prob_true_act  | 0.728     |\n",
      "|    samples_so_far | 17715200  |\n",
      "---------------------------------\n"
     ]
    },
    {
     "name": "stderr",
     "output_type": "stream",
     "text": [
      "8660batch [52:05,  2.97batch/s]"
     ]
    },
    {
     "name": "stdout",
     "output_type": "stream",
     "text": [
      "---------------------------------\n",
      "| batch_size        | 2048      |\n",
      "| bc/               |           |\n",
      "|    batch          | 8659      |\n",
      "|    ent_loss       | -0.000639 |\n",
      "|    entropy        | 0.639     |\n",
      "|    epoch          | 866       |\n",
      "|    l2_loss        | 0         |\n",
      "|    l2_norm        | 4.88e+03  |\n",
      "|    loss           | 0.641     |\n",
      "|    neglogp        | 0.642     |\n",
      "|    prob_true_act  | 0.733     |\n",
      "|    samples_so_far | 17735680  |\n",
      "---------------------------------\n"
     ]
    },
    {
     "name": "stderr",
     "output_type": "stream",
     "text": [
      "8670batch [52:09,  2.89batch/s]"
     ]
    },
    {
     "name": "stdout",
     "output_type": "stream",
     "text": [
      "---------------------------------\n",
      "| batch_size        | 2048      |\n",
      "| bc/               |           |\n",
      "|    batch          | 8669      |\n",
      "|    ent_loss       | -0.000639 |\n",
      "|    entropy        | 0.639     |\n",
      "|    epoch          | 867       |\n",
      "|    l2_loss        | 0         |\n",
      "|    l2_norm        | 4.88e+03  |\n",
      "|    loss           | 0.643     |\n",
      "|    neglogp        | 0.644     |\n",
      "|    prob_true_act  | 0.742     |\n",
      "|    samples_so_far | 17756160  |\n",
      "---------------------------------\n"
     ]
    },
    {
     "name": "stderr",
     "output_type": "stream",
     "text": [
      "8680batch [52:12,  3.01batch/s]"
     ]
    },
    {
     "name": "stdout",
     "output_type": "stream",
     "text": [
      "---------------------------------\n",
      "| batch_size        | 2048      |\n",
      "| bc/               |           |\n",
      "|    batch          | 8679      |\n",
      "|    ent_loss       | -0.000639 |\n",
      "|    entropy        | 0.639     |\n",
      "|    epoch          | 868       |\n",
      "|    l2_loss        | 0         |\n",
      "|    l2_norm        | 4.88e+03  |\n",
      "|    loss           | 0.658     |\n",
      "|    neglogp        | 0.659     |\n",
      "|    prob_true_act  | 0.735     |\n",
      "|    samples_so_far | 17776640  |\n",
      "---------------------------------\n"
     ]
    },
    {
     "name": "stderr",
     "output_type": "stream",
     "text": [
      "8690batch [52:16,  2.97batch/s]"
     ]
    },
    {
     "name": "stdout",
     "output_type": "stream",
     "text": [
      "---------------------------------\n",
      "| batch_size        | 2048      |\n",
      "| bc/               |           |\n",
      "|    batch          | 8689      |\n",
      "|    ent_loss       | -0.000639 |\n",
      "|    entropy        | 0.639     |\n",
      "|    epoch          | 869       |\n",
      "|    l2_loss        | 0         |\n",
      "|    l2_norm        | 4.88e+03  |\n",
      "|    loss           | 0.619     |\n",
      "|    neglogp        | 0.62      |\n",
      "|    prob_true_act  | 0.745     |\n",
      "|    samples_so_far | 17797120  |\n",
      "---------------------------------\n"
     ]
    },
    {
     "name": "stderr",
     "output_type": "stream",
     "text": [
      "8700batch [52:19,  3.02batch/s]"
     ]
    },
    {
     "name": "stdout",
     "output_type": "stream",
     "text": [
      "---------------------------------\n",
      "| batch_size        | 2048      |\n",
      "| bc/               |           |\n",
      "|    batch          | 8699      |\n",
      "|    ent_loss       | -0.000639 |\n",
      "|    entropy        | 0.639     |\n",
      "|    epoch          | 870       |\n",
      "|    l2_loss        | 0         |\n",
      "|    l2_norm        | 4.88e+03  |\n",
      "|    loss           | 0.649     |\n",
      "|    neglogp        | 0.65      |\n",
      "|    prob_true_act  | 0.736     |\n",
      "|    samples_so_far | 17817600  |\n",
      "---------------------------------\n"
     ]
    },
    {
     "name": "stderr",
     "output_type": "stream",
     "text": [
      "8710batch [52:23,  2.85batch/s]"
     ]
    },
    {
     "name": "stdout",
     "output_type": "stream",
     "text": [
      "--------------------------------\n",
      "| batch_size        | 2048     |\n",
      "| bc/               |          |\n",
      "|    batch          | 8709     |\n",
      "|    ent_loss       | -0.00064 |\n",
      "|    entropy        | 0.64     |\n",
      "|    epoch          | 871      |\n",
      "|    l2_loss        | 0        |\n",
      "|    l2_norm        | 4.88e+03 |\n",
      "|    loss           | 0.682    |\n",
      "|    neglogp        | 0.683    |\n",
      "|    prob_true_act  | 0.73     |\n",
      "|    samples_so_far | 17838080 |\n",
      "--------------------------------\n"
     ]
    },
    {
     "name": "stderr",
     "output_type": "stream",
     "text": [
      "8720batch [52:26,  2.95batch/s]"
     ]
    },
    {
     "name": "stdout",
     "output_type": "stream",
     "text": [
      "--------------------------------\n",
      "| batch_size        | 2048     |\n",
      "| bc/               |          |\n",
      "|    batch          | 8719     |\n",
      "|    ent_loss       | -0.00064 |\n",
      "|    entropy        | 0.64     |\n",
      "|    epoch          | 872      |\n",
      "|    l2_loss        | 0        |\n",
      "|    l2_norm        | 4.88e+03 |\n",
      "|    loss           | 0.677    |\n",
      "|    neglogp        | 0.678    |\n",
      "|    prob_true_act  | 0.734    |\n",
      "|    samples_so_far | 17858560 |\n",
      "--------------------------------\n"
     ]
    },
    {
     "name": "stderr",
     "output_type": "stream",
     "text": [
      "8730batch [52:30,  3.03batch/s]"
     ]
    },
    {
     "name": "stdout",
     "output_type": "stream",
     "text": [
      "--------------------------------\n",
      "| batch_size        | 2048     |\n",
      "| bc/               |          |\n",
      "|    batch          | 8729     |\n",
      "|    ent_loss       | -0.00064 |\n",
      "|    entropy        | 0.64     |\n",
      "|    epoch          | 873      |\n",
      "|    l2_loss        | 0        |\n",
      "|    l2_norm        | 4.88e+03 |\n",
      "|    loss           | 0.663    |\n",
      "|    neglogp        | 0.663    |\n",
      "|    prob_true_act  | 0.732    |\n",
      "|    samples_so_far | 17879040 |\n",
      "--------------------------------\n"
     ]
    },
    {
     "name": "stderr",
     "output_type": "stream",
     "text": [
      "8740batch [52:33,  2.91batch/s]"
     ]
    },
    {
     "name": "stdout",
     "output_type": "stream",
     "text": [
      "--------------------------------\n",
      "| batch_size        | 2048     |\n",
      "| bc/               |          |\n",
      "|    batch          | 8739     |\n",
      "|    ent_loss       | -0.00064 |\n",
      "|    entropy        | 0.64     |\n",
      "|    epoch          | 874      |\n",
      "|    l2_loss        | 0        |\n",
      "|    l2_norm        | 4.88e+03 |\n",
      "|    loss           | 0.648    |\n",
      "|    neglogp        | 0.649    |\n",
      "|    prob_true_act  | 0.736    |\n",
      "|    samples_so_far | 17899520 |\n",
      "--------------------------------\n"
     ]
    },
    {
     "name": "stderr",
     "output_type": "stream",
     "text": [
      "8750batch [52:37,  3.00batch/s]"
     ]
    },
    {
     "name": "stdout",
     "output_type": "stream",
     "text": [
      "--------------------------------\n",
      "| batch_size        | 2048     |\n",
      "| bc/               |          |\n",
      "|    batch          | 8749     |\n",
      "|    ent_loss       | -0.00064 |\n",
      "|    entropy        | 0.64     |\n",
      "|    epoch          | 875      |\n",
      "|    l2_loss        | 0        |\n",
      "|    l2_norm        | 4.88e+03 |\n",
      "|    loss           | 0.697    |\n",
      "|    neglogp        | 0.697    |\n",
      "|    prob_true_act  | 0.723    |\n",
      "|    samples_so_far | 17920000 |\n",
      "--------------------------------\n"
     ]
    },
    {
     "name": "stderr",
     "output_type": "stream",
     "text": [
      "8760batch [52:41,  3.00batch/s]"
     ]
    },
    {
     "name": "stdout",
     "output_type": "stream",
     "text": [
      "--------------------------------\n",
      "| batch_size        | 2048     |\n",
      "| bc/               |          |\n",
      "|    batch          | 8759     |\n",
      "|    ent_loss       | -0.00064 |\n",
      "|    entropy        | 0.64     |\n",
      "|    epoch          | 876      |\n",
      "|    l2_loss        | 0        |\n",
      "|    l2_norm        | 4.88e+03 |\n",
      "|    loss           | 0.636    |\n",
      "|    neglogp        | 0.637    |\n",
      "|    prob_true_act  | 0.739    |\n",
      "|    samples_so_far | 17940480 |\n",
      "--------------------------------\n"
     ]
    },
    {
     "name": "stderr",
     "output_type": "stream",
     "text": [
      "8770batch [52:44,  3.02batch/s]"
     ]
    },
    {
     "name": "stdout",
     "output_type": "stream",
     "text": [
      "---------------------------------\n",
      "| batch_size        | 2048      |\n",
      "| bc/               |           |\n",
      "|    batch          | 8769      |\n",
      "|    ent_loss       | -0.000641 |\n",
      "|    entropy        | 0.641     |\n",
      "|    epoch          | 877       |\n",
      "|    l2_loss        | 0         |\n",
      "|    l2_norm        | 4.88e+03  |\n",
      "|    loss           | 0.659     |\n",
      "|    neglogp        | 0.659     |\n",
      "|    prob_true_act  | 0.731     |\n",
      "|    samples_so_far | 17960960  |\n",
      "---------------------------------\n"
     ]
    },
    {
     "name": "stderr",
     "output_type": "stream",
     "text": [
      "8780batch [52:48,  2.97batch/s]"
     ]
    },
    {
     "name": "stdout",
     "output_type": "stream",
     "text": [
      "---------------------------------\n",
      "| batch_size        | 2048      |\n",
      "| bc/               |           |\n",
      "|    batch          | 8779      |\n",
      "|    ent_loss       | -0.000641 |\n",
      "|    entropy        | 0.641     |\n",
      "|    epoch          | 878       |\n",
      "|    l2_loss        | 0         |\n",
      "|    l2_norm        | 4.88e+03  |\n",
      "|    loss           | 0.65      |\n",
      "|    neglogp        | 0.651     |\n",
      "|    prob_true_act  | 0.728     |\n",
      "|    samples_so_far | 17981440  |\n",
      "---------------------------------\n"
     ]
    },
    {
     "name": "stderr",
     "output_type": "stream",
     "text": [
      "8790batch [52:51,  2.82batch/s]"
     ]
    },
    {
     "name": "stdout",
     "output_type": "stream",
     "text": [
      "---------------------------------\n",
      "| batch_size        | 2048      |\n",
      "| bc/               |           |\n",
      "|    batch          | 8789      |\n",
      "|    ent_loss       | -0.000641 |\n",
      "|    entropy        | 0.641     |\n",
      "|    epoch          | 879       |\n",
      "|    l2_loss        | 0         |\n",
      "|    l2_norm        | 4.88e+03  |\n",
      "|    loss           | 0.626     |\n",
      "|    neglogp        | 0.627     |\n",
      "|    prob_true_act  | 0.739     |\n",
      "|    samples_so_far | 18001920  |\n",
      "---------------------------------\n"
     ]
    },
    {
     "name": "stderr",
     "output_type": "stream",
     "text": [
      "8800batch [52:55,  2.97batch/s]"
     ]
    },
    {
     "name": "stdout",
     "output_type": "stream",
     "text": [
      "---------------------------------\n",
      "| batch_size        | 2048      |\n",
      "| bc/               |           |\n",
      "|    batch          | 8799      |\n",
      "|    ent_loss       | -0.000641 |\n",
      "|    entropy        | 0.641     |\n",
      "|    epoch          | 880       |\n",
      "|    l2_loss        | 0         |\n",
      "|    l2_norm        | 4.88e+03  |\n",
      "|    loss           | 0.602     |\n",
      "|    neglogp        | 0.603     |\n",
      "|    prob_true_act  | 0.74      |\n",
      "|    samples_so_far | 18022400  |\n",
      "---------------------------------\n"
     ]
    },
    {
     "name": "stderr",
     "output_type": "stream",
     "text": [
      "8810batch [52:58,  2.97batch/s]"
     ]
    },
    {
     "name": "stdout",
     "output_type": "stream",
     "text": [
      "---------------------------------\n",
      "| batch_size        | 2048      |\n",
      "| bc/               |           |\n",
      "|    batch          | 8809      |\n",
      "|    ent_loss       | -0.000641 |\n",
      "|    entropy        | 0.641     |\n",
      "|    epoch          | 881       |\n",
      "|    l2_loss        | 0         |\n",
      "|    l2_norm        | 4.88e+03  |\n",
      "|    loss           | 0.674     |\n",
      "|    neglogp        | 0.675     |\n",
      "|    prob_true_act  | 0.733     |\n",
      "|    samples_so_far | 18042880  |\n",
      "---------------------------------\n"
     ]
    },
    {
     "name": "stderr",
     "output_type": "stream",
     "text": [
      "8820batch [53:02,  3.01batch/s]"
     ]
    },
    {
     "name": "stdout",
     "output_type": "stream",
     "text": [
      "---------------------------------\n",
      "| batch_size        | 2048      |\n",
      "| bc/               |           |\n",
      "|    batch          | 8819      |\n",
      "|    ent_loss       | -0.000641 |\n",
      "|    entropy        | 0.641     |\n",
      "|    epoch          | 882       |\n",
      "|    l2_loss        | 0         |\n",
      "|    l2_norm        | 4.88e+03  |\n",
      "|    loss           | 0.671     |\n",
      "|    neglogp        | 0.672     |\n",
      "|    prob_true_act  | 0.725     |\n",
      "|    samples_so_far | 18063360  |\n",
      "---------------------------------\n"
     ]
    },
    {
     "name": "stderr",
     "output_type": "stream",
     "text": [
      "8830batch [53:06,  2.77batch/s]"
     ]
    },
    {
     "name": "stdout",
     "output_type": "stream",
     "text": [
      "---------------------------------\n",
      "| batch_size        | 2048      |\n",
      "| bc/               |           |\n",
      "|    batch          | 8829      |\n",
      "|    ent_loss       | -0.000641 |\n",
      "|    entropy        | 0.641     |\n",
      "|    epoch          | 883       |\n",
      "|    l2_loss        | 0         |\n",
      "|    l2_norm        | 4.88e+03  |\n",
      "|    loss           | 0.659     |\n",
      "|    neglogp        | 0.66      |\n",
      "|    prob_true_act  | 0.738     |\n",
      "|    samples_so_far | 18083840  |\n",
      "---------------------------------\n"
     ]
    },
    {
     "name": "stderr",
     "output_type": "stream",
     "text": [
      "8840batch [53:09,  3.01batch/s]"
     ]
    },
    {
     "name": "stdout",
     "output_type": "stream",
     "text": [
      "---------------------------------\n",
      "| batch_size        | 2048      |\n",
      "| bc/               |           |\n",
      "|    batch          | 8839      |\n",
      "|    ent_loss       | -0.000642 |\n",
      "|    entropy        | 0.642     |\n",
      "|    epoch          | 884       |\n",
      "|    l2_loss        | 0         |\n",
      "|    l2_norm        | 4.88e+03  |\n",
      "|    loss           | 0.605     |\n",
      "|    neglogp        | 0.605     |\n",
      "|    prob_true_act  | 0.737     |\n",
      "|    samples_so_far | 18104320  |\n",
      "---------------------------------\n"
     ]
    },
    {
     "name": "stderr",
     "output_type": "stream",
     "text": [
      "8850batch [53:13,  2.99batch/s]"
     ]
    },
    {
     "name": "stdout",
     "output_type": "stream",
     "text": [
      "---------------------------------\n",
      "| batch_size        | 2048      |\n",
      "| bc/               |           |\n",
      "|    batch          | 8849      |\n",
      "|    ent_loss       | -0.000642 |\n",
      "|    entropy        | 0.642     |\n",
      "|    epoch          | 885       |\n",
      "|    l2_loss        | 0         |\n",
      "|    l2_norm        | 4.88e+03  |\n",
      "|    loss           | 0.707     |\n",
      "|    neglogp        | 0.708     |\n",
      "|    prob_true_act  | 0.728     |\n",
      "|    samples_so_far | 18124800  |\n",
      "---------------------------------\n"
     ]
    },
    {
     "name": "stderr",
     "output_type": "stream",
     "text": [
      "8860batch [53:16,  3.01batch/s]"
     ]
    },
    {
     "name": "stdout",
     "output_type": "stream",
     "text": [
      "---------------------------------\n",
      "| batch_size        | 2048      |\n",
      "| bc/               |           |\n",
      "|    batch          | 8859      |\n",
      "|    ent_loss       | -0.000642 |\n",
      "|    entropy        | 0.642     |\n",
      "|    epoch          | 886       |\n",
      "|    l2_loss        | 0         |\n",
      "|    l2_norm        | 4.88e+03  |\n",
      "|    loss           | 0.649     |\n",
      "|    neglogp        | 0.65      |\n",
      "|    prob_true_act  | 0.739     |\n",
      "|    samples_so_far | 18145280  |\n",
      "---------------------------------\n"
     ]
    },
    {
     "name": "stderr",
     "output_type": "stream",
     "text": [
      "8870batch [53:20,  3.01batch/s]"
     ]
    },
    {
     "name": "stdout",
     "output_type": "stream",
     "text": [
      "---------------------------------\n",
      "| batch_size        | 2048      |\n",
      "| bc/               |           |\n",
      "|    batch          | 8869      |\n",
      "|    ent_loss       | -0.000642 |\n",
      "|    entropy        | 0.642     |\n",
      "|    epoch          | 887       |\n",
      "|    l2_loss        | 0         |\n",
      "|    l2_norm        | 4.88e+03  |\n",
      "|    loss           | 0.635     |\n",
      "|    neglogp        | 0.635     |\n",
      "|    prob_true_act  | 0.74      |\n",
      "|    samples_so_far | 18165760  |\n",
      "---------------------------------\n"
     ]
    },
    {
     "name": "stderr",
     "output_type": "stream",
     "text": [
      "8880batch [53:23,  2.88batch/s]"
     ]
    },
    {
     "name": "stdout",
     "output_type": "stream",
     "text": [
      "---------------------------------\n",
      "| batch_size        | 2048      |\n",
      "| bc/               |           |\n",
      "|    batch          | 8879      |\n",
      "|    ent_loss       | -0.000642 |\n",
      "|    entropy        | 0.642     |\n",
      "|    epoch          | 888       |\n",
      "|    l2_loss        | 0         |\n",
      "|    l2_norm        | 4.88e+03  |\n",
      "|    loss           | 0.679     |\n",
      "|    neglogp        | 0.679     |\n",
      "|    prob_true_act  | 0.728     |\n",
      "|    samples_so_far | 18186240  |\n",
      "---------------------------------\n"
     ]
    },
    {
     "name": "stderr",
     "output_type": "stream",
     "text": [
      "8890batch [53:27,  2.99batch/s]"
     ]
    },
    {
     "name": "stdout",
     "output_type": "stream",
     "text": [
      "---------------------------------\n",
      "| batch_size        | 2048      |\n",
      "| bc/               |           |\n",
      "|    batch          | 8889      |\n",
      "|    ent_loss       | -0.000642 |\n",
      "|    entropy        | 0.642     |\n",
      "|    epoch          | 889       |\n",
      "|    l2_loss        | 0         |\n",
      "|    l2_norm        | 4.88e+03  |\n",
      "|    loss           | 0.647     |\n",
      "|    neglogp        | 0.648     |\n",
      "|    prob_true_act  | 0.734     |\n",
      "|    samples_so_far | 18206720  |\n",
      "---------------------------------\n"
     ]
    },
    {
     "name": "stderr",
     "output_type": "stream",
     "text": [
      "8900batch [53:30,  2.96batch/s]"
     ]
    },
    {
     "name": "stdout",
     "output_type": "stream",
     "text": [
      "---------------------------------\n",
      "| batch_size        | 2048      |\n",
      "| bc/               |           |\n",
      "|    batch          | 8899      |\n",
      "|    ent_loss       | -0.000642 |\n",
      "|    entropy        | 0.642     |\n",
      "|    epoch          | 890       |\n",
      "|    l2_loss        | 0         |\n",
      "|    l2_norm        | 4.88e+03  |\n",
      "|    loss           | 0.65      |\n",
      "|    neglogp        | 0.651     |\n",
      "|    prob_true_act  | 0.738     |\n",
      "|    samples_so_far | 18227200  |\n",
      "---------------------------------\n"
     ]
    },
    {
     "name": "stderr",
     "output_type": "stream",
     "text": [
      "8910batch [53:34,  2.96batch/s]"
     ]
    },
    {
     "name": "stdout",
     "output_type": "stream",
     "text": [
      "---------------------------------\n",
      "| batch_size        | 2048      |\n",
      "| bc/               |           |\n",
      "|    batch          | 8909      |\n",
      "|    ent_loss       | -0.000642 |\n",
      "|    entropy        | 0.642     |\n",
      "|    epoch          | 891       |\n",
      "|    l2_loss        | 0         |\n",
      "|    l2_norm        | 4.88e+03  |\n",
      "|    loss           | 0.639     |\n",
      "|    neglogp        | 0.639     |\n",
      "|    prob_true_act  | 0.734     |\n",
      "|    samples_so_far | 18247680  |\n",
      "---------------------------------\n"
     ]
    },
    {
     "name": "stderr",
     "output_type": "stream",
     "text": [
      "8920batch [53:37,  2.93batch/s]"
     ]
    },
    {
     "name": "stdout",
     "output_type": "stream",
     "text": [
      "---------------------------------\n",
      "| batch_size        | 2048      |\n",
      "| bc/               |           |\n",
      "|    batch          | 8919      |\n",
      "|    ent_loss       | -0.000643 |\n",
      "|    entropy        | 0.643     |\n",
      "|    epoch          | 892       |\n",
      "|    l2_loss        | 0         |\n",
      "|    l2_norm        | 4.88e+03  |\n",
      "|    loss           | 0.618     |\n",
      "|    neglogp        | 0.619     |\n",
      "|    prob_true_act  | 0.744     |\n",
      "|    samples_so_far | 18268160  |\n",
      "---------------------------------\n"
     ]
    },
    {
     "name": "stderr",
     "output_type": "stream",
     "text": [
      "8930batch [53:41,  2.92batch/s]"
     ]
    },
    {
     "name": "stdout",
     "output_type": "stream",
     "text": [
      "---------------------------------\n",
      "| batch_size        | 2048      |\n",
      "| bc/               |           |\n",
      "|    batch          | 8929      |\n",
      "|    ent_loss       | -0.000643 |\n",
      "|    entropy        | 0.643     |\n",
      "|    epoch          | 893       |\n",
      "|    l2_loss        | 0         |\n",
      "|    l2_norm        | 4.88e+03  |\n",
      "|    loss           | 0.633     |\n",
      "|    neglogp        | 0.634     |\n",
      "|    prob_true_act  | 0.739     |\n",
      "|    samples_so_far | 18288640  |\n",
      "---------------------------------\n"
     ]
    },
    {
     "name": "stderr",
     "output_type": "stream",
     "text": [
      "8940batch [53:45,  2.95batch/s]"
     ]
    },
    {
     "name": "stdout",
     "output_type": "stream",
     "text": [
      "---------------------------------\n",
      "| batch_size        | 2048      |\n",
      "| bc/               |           |\n",
      "|    batch          | 8939      |\n",
      "|    ent_loss       | -0.000643 |\n",
      "|    entropy        | 0.643     |\n",
      "|    epoch          | 894       |\n",
      "|    l2_loss        | 0         |\n",
      "|    l2_norm        | 4.88e+03  |\n",
      "|    loss           | 0.682     |\n",
      "|    neglogp        | 0.683     |\n",
      "|    prob_true_act  | 0.727     |\n",
      "|    samples_so_far | 18309120  |\n",
      "---------------------------------\n"
     ]
    },
    {
     "name": "stderr",
     "output_type": "stream",
     "text": [
      "8950batch [53:48,  2.96batch/s]"
     ]
    },
    {
     "name": "stdout",
     "output_type": "stream",
     "text": [
      "---------------------------------\n",
      "| batch_size        | 2048      |\n",
      "| bc/               |           |\n",
      "|    batch          | 8949      |\n",
      "|    ent_loss       | -0.000643 |\n",
      "|    entropy        | 0.643     |\n",
      "|    epoch          | 895       |\n",
      "|    l2_loss        | 0         |\n",
      "|    l2_norm        | 4.88e+03  |\n",
      "|    loss           | 0.629     |\n",
      "|    neglogp        | 0.63      |\n",
      "|    prob_true_act  | 0.739     |\n",
      "|    samples_so_far | 18329600  |\n",
      "---------------------------------\n"
     ]
    },
    {
     "name": "stderr",
     "output_type": "stream",
     "text": [
      "8960batch [53:52,  2.78batch/s]"
     ]
    },
    {
     "name": "stdout",
     "output_type": "stream",
     "text": [
      "---------------------------------\n",
      "| batch_size        | 2048      |\n",
      "| bc/               |           |\n",
      "|    batch          | 8959      |\n",
      "|    ent_loss       | -0.000643 |\n",
      "|    entropy        | 0.643     |\n",
      "|    epoch          | 896       |\n",
      "|    l2_loss        | 0         |\n",
      "|    l2_norm        | 4.88e+03  |\n",
      "|    loss           | 0.665     |\n",
      "|    neglogp        | 0.665     |\n",
      "|    prob_true_act  | 0.73      |\n",
      "|    samples_so_far | 18350080  |\n",
      "---------------------------------\n"
     ]
    },
    {
     "name": "stderr",
     "output_type": "stream",
     "text": [
      "8970batch [53:56,  2.95batch/s]"
     ]
    },
    {
     "name": "stdout",
     "output_type": "stream",
     "text": [
      "---------------------------------\n",
      "| batch_size        | 2048      |\n",
      "| bc/               |           |\n",
      "|    batch          | 8969      |\n",
      "|    ent_loss       | -0.000643 |\n",
      "|    entropy        | 0.643     |\n",
      "|    epoch          | 897       |\n",
      "|    l2_loss        | 0         |\n",
      "|    l2_norm        | 4.88e+03  |\n",
      "|    loss           | 0.697     |\n",
      "|    neglogp        | 0.698     |\n",
      "|    prob_true_act  | 0.728     |\n",
      "|    samples_so_far | 18370560  |\n",
      "---------------------------------\n"
     ]
    },
    {
     "name": "stderr",
     "output_type": "stream",
     "text": [
      "8980batch [53:59,  2.75batch/s]"
     ]
    },
    {
     "name": "stdout",
     "output_type": "stream",
     "text": [
      "---------------------------------\n",
      "| batch_size        | 2048      |\n",
      "| bc/               |           |\n",
      "|    batch          | 8979      |\n",
      "|    ent_loss       | -0.000643 |\n",
      "|    entropy        | 0.643     |\n",
      "|    epoch          | 898       |\n",
      "|    l2_loss        | 0         |\n",
      "|    l2_norm        | 4.88e+03  |\n",
      "|    loss           | 0.66      |\n",
      "|    neglogp        | 0.66      |\n",
      "|    prob_true_act  | 0.728     |\n",
      "|    samples_so_far | 18391040  |\n",
      "---------------------------------\n"
     ]
    },
    {
     "name": "stderr",
     "output_type": "stream",
     "text": [
      "8990batch [54:03,  2.91batch/s]"
     ]
    },
    {
     "name": "stdout",
     "output_type": "stream",
     "text": [
      "---------------------------------\n",
      "| batch_size        | 2048      |\n",
      "| bc/               |           |\n",
      "|    batch          | 8989      |\n",
      "|    ent_loss       | -0.000643 |\n",
      "|    entropy        | 0.643     |\n",
      "|    epoch          | 899       |\n",
      "|    l2_loss        | 0         |\n",
      "|    l2_norm        | 4.88e+03  |\n",
      "|    loss           | 0.64      |\n",
      "|    neglogp        | 0.64      |\n",
      "|    prob_true_act  | 0.733     |\n",
      "|    samples_so_far | 18411520  |\n",
      "---------------------------------\n"
     ]
    },
    {
     "name": "stderr",
     "output_type": "stream",
     "text": [
      "9000batch [54:06,  2.94batch/s]"
     ]
    },
    {
     "name": "stdout",
     "output_type": "stream",
     "text": [
      "---------------------------------\n",
      "| batch_size        | 2048      |\n",
      "| bc/               |           |\n",
      "|    batch          | 8999      |\n",
      "|    ent_loss       | -0.000643 |\n",
      "|    entropy        | 0.643     |\n",
      "|    epoch          | 900       |\n",
      "|    l2_loss        | 0         |\n",
      "|    l2_norm        | 4.88e+03  |\n",
      "|    loss           | 0.601     |\n",
      "|    neglogp        | 0.601     |\n",
      "|    prob_true_act  | 0.737     |\n",
      "|    samples_so_far | 18432000  |\n",
      "---------------------------------\n"
     ]
    },
    {
     "name": "stderr",
     "output_type": "stream",
     "text": [
      "9010batch [54:10,  2.95batch/s]"
     ]
    },
    {
     "name": "stdout",
     "output_type": "stream",
     "text": [
      "---------------------------------\n",
      "| batch_size        | 2048      |\n",
      "| bc/               |           |\n",
      "|    batch          | 9009      |\n",
      "|    ent_loss       | -0.000643 |\n",
      "|    entropy        | 0.643     |\n",
      "|    epoch          | 901       |\n",
      "|    l2_loss        | 0         |\n",
      "|    l2_norm        | 4.88e+03  |\n",
      "|    loss           | 0.67      |\n",
      "|    neglogp        | 0.671     |\n",
      "|    prob_true_act  | 0.732     |\n",
      "|    samples_so_far | 18452480  |\n",
      "---------------------------------\n"
     ]
    },
    {
     "name": "stderr",
     "output_type": "stream",
     "text": [
      "9020batch [54:14,  2.69batch/s]"
     ]
    },
    {
     "name": "stdout",
     "output_type": "stream",
     "text": [
      "---------------------------------\n",
      "| batch_size        | 2048      |\n",
      "| bc/               |           |\n",
      "|    batch          | 9019      |\n",
      "|    ent_loss       | -0.000643 |\n",
      "|    entropy        | 0.643     |\n",
      "|    epoch          | 902       |\n",
      "|    l2_loss        | 0         |\n",
      "|    l2_norm        | 4.88e+03  |\n",
      "|    loss           | 0.594     |\n",
      "|    neglogp        | 0.595     |\n",
      "|    prob_true_act  | 0.747     |\n",
      "|    samples_so_far | 18472960  |\n",
      "---------------------------------\n"
     ]
    },
    {
     "name": "stderr",
     "output_type": "stream",
     "text": [
      "9030batch [54:17,  2.93batch/s]"
     ]
    },
    {
     "name": "stdout",
     "output_type": "stream",
     "text": [
      "---------------------------------\n",
      "| batch_size        | 2048      |\n",
      "| bc/               |           |\n",
      "|    batch          | 9029      |\n",
      "|    ent_loss       | -0.000644 |\n",
      "|    entropy        | 0.644     |\n",
      "|    epoch          | 903       |\n",
      "|    l2_loss        | 0         |\n",
      "|    l2_norm        | 4.88e+03  |\n",
      "|    loss           | 0.677     |\n",
      "|    neglogp        | 0.678     |\n",
      "|    prob_true_act  | 0.722     |\n",
      "|    samples_so_far | 18493440  |\n",
      "---------------------------------\n"
     ]
    },
    {
     "name": "stderr",
     "output_type": "stream",
     "text": [
      "9040batch [54:21,  3.00batch/s]"
     ]
    },
    {
     "name": "stdout",
     "output_type": "stream",
     "text": [
      "---------------------------------\n",
      "| batch_size        | 2048      |\n",
      "| bc/               |           |\n",
      "|    batch          | 9039      |\n",
      "|    ent_loss       | -0.000644 |\n",
      "|    entropy        | 0.644     |\n",
      "|    epoch          | 904       |\n",
      "|    l2_loss        | 0         |\n",
      "|    l2_norm        | 4.88e+03  |\n",
      "|    loss           | 0.645     |\n",
      "|    neglogp        | 0.646     |\n",
      "|    prob_true_act  | 0.741     |\n",
      "|    samples_so_far | 18513920  |\n",
      "---------------------------------\n"
     ]
    },
    {
     "name": "stderr",
     "output_type": "stream",
     "text": [
      "9050batch [54:24,  3.00batch/s]"
     ]
    },
    {
     "name": "stdout",
     "output_type": "stream",
     "text": [
      "---------------------------------\n",
      "| batch_size        | 2048      |\n",
      "| bc/               |           |\n",
      "|    batch          | 9049      |\n",
      "|    ent_loss       | -0.000644 |\n",
      "|    entropy        | 0.644     |\n",
      "|    epoch          | 905       |\n",
      "|    l2_loss        | 0         |\n",
      "|    l2_norm        | 4.88e+03  |\n",
      "|    loss           | 0.613     |\n",
      "|    neglogp        | 0.613     |\n",
      "|    prob_true_act  | 0.736     |\n",
      "|    samples_so_far | 18534400  |\n",
      "---------------------------------\n"
     ]
    },
    {
     "name": "stderr",
     "output_type": "stream",
     "text": [
      "9060batch [54:28,  2.93batch/s]"
     ]
    },
    {
     "name": "stdout",
     "output_type": "stream",
     "text": [
      "---------------------------------\n",
      "| batch_size        | 2048      |\n",
      "| bc/               |           |\n",
      "|    batch          | 9059      |\n",
      "|    ent_loss       | -0.000644 |\n",
      "|    entropy        | 0.644     |\n",
      "|    epoch          | 906       |\n",
      "|    l2_loss        | 0         |\n",
      "|    l2_norm        | 4.88e+03  |\n",
      "|    loss           | 0.614     |\n",
      "|    neglogp        | 0.614     |\n",
      "|    prob_true_act  | 0.751     |\n",
      "|    samples_so_far | 18554880  |\n",
      "---------------------------------\n"
     ]
    },
    {
     "name": "stderr",
     "output_type": "stream",
     "text": [
      "9070batch [54:32,  2.89batch/s]"
     ]
    },
    {
     "name": "stdout",
     "output_type": "stream",
     "text": [
      "---------------------------------\n",
      "| batch_size        | 2048      |\n",
      "| bc/               |           |\n",
      "|    batch          | 9069      |\n",
      "|    ent_loss       | -0.000644 |\n",
      "|    entropy        | 0.644     |\n",
      "|    epoch          | 907       |\n",
      "|    l2_loss        | 0         |\n",
      "|    l2_norm        | 4.88e+03  |\n",
      "|    loss           | 0.649     |\n",
      "|    neglogp        | 0.65      |\n",
      "|    prob_true_act  | 0.737     |\n",
      "|    samples_so_far | 18575360  |\n",
      "---------------------------------\n"
     ]
    },
    {
     "name": "stderr",
     "output_type": "stream",
     "text": [
      "9080batch [54:35,  2.87batch/s]"
     ]
    },
    {
     "name": "stdout",
     "output_type": "stream",
     "text": [
      "---------------------------------\n",
      "| batch_size        | 2048      |\n",
      "| bc/               |           |\n",
      "|    batch          | 9079      |\n",
      "|    ent_loss       | -0.000644 |\n",
      "|    entropy        | 0.644     |\n",
      "|    epoch          | 908       |\n",
      "|    l2_loss        | 0         |\n",
      "|    l2_norm        | 4.88e+03  |\n",
      "|    loss           | 0.615     |\n",
      "|    neglogp        | 0.616     |\n",
      "|    prob_true_act  | 0.738     |\n",
      "|    samples_so_far | 18595840  |\n",
      "---------------------------------\n"
     ]
    },
    {
     "name": "stderr",
     "output_type": "stream",
     "text": [
      "9090batch [54:39,  2.95batch/s]"
     ]
    },
    {
     "name": "stdout",
     "output_type": "stream",
     "text": [
      "---------------------------------\n",
      "| batch_size        | 2048      |\n",
      "| bc/               |           |\n",
      "|    batch          | 9089      |\n",
      "|    ent_loss       | -0.000644 |\n",
      "|    entropy        | 0.644     |\n",
      "|    epoch          | 909       |\n",
      "|    l2_loss        | 0         |\n",
      "|    l2_norm        | 4.88e+03  |\n",
      "|    loss           | 0.658     |\n",
      "|    neglogp        | 0.658     |\n",
      "|    prob_true_act  | 0.736     |\n",
      "|    samples_so_far | 18616320  |\n",
      "---------------------------------\n"
     ]
    },
    {
     "name": "stderr",
     "output_type": "stream",
     "text": [
      "9100batch [54:42,  3.00batch/s]"
     ]
    },
    {
     "name": "stdout",
     "output_type": "stream",
     "text": [
      "---------------------------------\n",
      "| batch_size        | 2048      |\n",
      "| bc/               |           |\n",
      "|    batch          | 9099      |\n",
      "|    ent_loss       | -0.000644 |\n",
      "|    entropy        | 0.644     |\n",
      "|    epoch          | 910       |\n",
      "|    l2_loss        | 0         |\n",
      "|    l2_norm        | 4.88e+03  |\n",
      "|    loss           | 0.68      |\n",
      "|    neglogp        | 0.681     |\n",
      "|    prob_true_act  | 0.72      |\n",
      "|    samples_so_far | 18636800  |\n",
      "---------------------------------\n"
     ]
    },
    {
     "name": "stderr",
     "output_type": "stream",
     "text": [
      "9110batch [54:46,  2.95batch/s]"
     ]
    },
    {
     "name": "stdout",
     "output_type": "stream",
     "text": [
      "---------------------------------\n",
      "| batch_size        | 2048      |\n",
      "| bc/               |           |\n",
      "|    batch          | 9109      |\n",
      "|    ent_loss       | -0.000644 |\n",
      "|    entropy        | 0.644     |\n",
      "|    epoch          | 911       |\n",
      "|    l2_loss        | 0         |\n",
      "|    l2_norm        | 4.88e+03  |\n",
      "|    loss           | 0.566     |\n",
      "|    neglogp        | 0.567     |\n",
      "|    prob_true_act  | 0.747     |\n",
      "|    samples_so_far | 18657280  |\n",
      "---------------------------------\n"
     ]
    },
    {
     "name": "stderr",
     "output_type": "stream",
     "text": [
      "9120batch [54:49,  2.98batch/s]"
     ]
    },
    {
     "name": "stdout",
     "output_type": "stream",
     "text": [
      "---------------------------------\n",
      "| batch_size        | 2048      |\n",
      "| bc/               |           |\n",
      "|    batch          | 9119      |\n",
      "|    ent_loss       | -0.000644 |\n",
      "|    entropy        | 0.644     |\n",
      "|    epoch          | 912       |\n",
      "|    l2_loss        | 0         |\n",
      "|    l2_norm        | 4.88e+03  |\n",
      "|    loss           | 0.679     |\n",
      "|    neglogp        | 0.68      |\n",
      "|    prob_true_act  | 0.727     |\n",
      "|    samples_so_far | 18677760  |\n",
      "---------------------------------\n"
     ]
    },
    {
     "name": "stderr",
     "output_type": "stream",
     "text": [
      "9130batch [54:53,  2.66batch/s]"
     ]
    },
    {
     "name": "stdout",
     "output_type": "stream",
     "text": [
      "---------------------------------\n",
      "| batch_size        | 2048      |\n",
      "| bc/               |           |\n",
      "|    batch          | 9129      |\n",
      "|    ent_loss       | -0.000644 |\n",
      "|    entropy        | 0.644     |\n",
      "|    epoch          | 913       |\n",
      "|    l2_loss        | 0         |\n",
      "|    l2_norm        | 4.88e+03  |\n",
      "|    loss           | 0.611     |\n",
      "|    neglogp        | 0.612     |\n",
      "|    prob_true_act  | 0.735     |\n",
      "|    samples_so_far | 18698240  |\n",
      "---------------------------------\n"
     ]
    },
    {
     "name": "stderr",
     "output_type": "stream",
     "text": [
      "9140batch [54:57,  2.98batch/s]"
     ]
    },
    {
     "name": "stdout",
     "output_type": "stream",
     "text": [
      "---------------------------------\n",
      "| batch_size        | 2048      |\n",
      "| bc/               |           |\n",
      "|    batch          | 9139      |\n",
      "|    ent_loss       | -0.000644 |\n",
      "|    entropy        | 0.644     |\n",
      "|    epoch          | 914       |\n",
      "|    l2_loss        | 0         |\n",
      "|    l2_norm        | 4.88e+03  |\n",
      "|    loss           | 0.638     |\n",
      "|    neglogp        | 0.638     |\n",
      "|    prob_true_act  | 0.73      |\n",
      "|    samples_so_far | 18718720  |\n",
      "---------------------------------\n"
     ]
    },
    {
     "name": "stderr",
     "output_type": "stream",
     "text": [
      "9150batch [55:00,  2.96batch/s]"
     ]
    },
    {
     "name": "stdout",
     "output_type": "stream",
     "text": [
      "---------------------------------\n",
      "| batch_size        | 2048      |\n",
      "| bc/               |           |\n",
      "|    batch          | 9149      |\n",
      "|    ent_loss       | -0.000645 |\n",
      "|    entropy        | 0.645     |\n",
      "|    epoch          | 915       |\n",
      "|    l2_loss        | 0         |\n",
      "|    l2_norm        | 4.88e+03  |\n",
      "|    loss           | 0.602     |\n",
      "|    neglogp        | 0.603     |\n",
      "|    prob_true_act  | 0.737     |\n",
      "|    samples_so_far | 18739200  |\n",
      "---------------------------------\n"
     ]
    },
    {
     "name": "stderr",
     "output_type": "stream",
     "text": [
      "9160batch [55:04,  2.99batch/s]"
     ]
    },
    {
     "name": "stdout",
     "output_type": "stream",
     "text": [
      "---------------------------------\n",
      "| batch_size        | 2048      |\n",
      "| bc/               |           |\n",
      "|    batch          | 9159      |\n",
      "|    ent_loss       | -0.000645 |\n",
      "|    entropy        | 0.645     |\n",
      "|    epoch          | 916       |\n",
      "|    l2_loss        | 0         |\n",
      "|    l2_norm        | 4.88e+03  |\n",
      "|    loss           | 0.61      |\n",
      "|    neglogp        | 0.611     |\n",
      "|    prob_true_act  | 0.742     |\n",
      "|    samples_so_far | 18759680  |\n",
      "---------------------------------\n"
     ]
    },
    {
     "name": "stderr",
     "output_type": "stream",
     "text": [
      "9170batch [55:07,  2.98batch/s]"
     ]
    },
    {
     "name": "stdout",
     "output_type": "stream",
     "text": [
      "---------------------------------\n",
      "| batch_size        | 2048      |\n",
      "| bc/               |           |\n",
      "|    batch          | 9169      |\n",
      "|    ent_loss       | -0.000645 |\n",
      "|    entropy        | 0.645     |\n",
      "|    epoch          | 917       |\n",
      "|    l2_loss        | 0         |\n",
      "|    l2_norm        | 4.88e+03  |\n",
      "|    loss           | 0.654     |\n",
      "|    neglogp        | 0.655     |\n",
      "|    prob_true_act  | 0.735     |\n",
      "|    samples_so_far | 18780160  |\n",
      "---------------------------------\n"
     ]
    },
    {
     "name": "stderr",
     "output_type": "stream",
     "text": [
      "9180batch [55:11,  2.80batch/s]"
     ]
    },
    {
     "name": "stdout",
     "output_type": "stream",
     "text": [
      "---------------------------------\n",
      "| batch_size        | 2048      |\n",
      "| bc/               |           |\n",
      "|    batch          | 9179      |\n",
      "|    ent_loss       | -0.000645 |\n",
      "|    entropy        | 0.645     |\n",
      "|    epoch          | 918       |\n",
      "|    l2_loss        | 0         |\n",
      "|    l2_norm        | 4.88e+03  |\n",
      "|    loss           | 0.64      |\n",
      "|    neglogp        | 0.641     |\n",
      "|    prob_true_act  | 0.736     |\n",
      "|    samples_so_far | 18800640  |\n",
      "---------------------------------\n"
     ]
    },
    {
     "name": "stderr",
     "output_type": "stream",
     "text": [
      "9190batch [55:15,  2.96batch/s]"
     ]
    },
    {
     "name": "stdout",
     "output_type": "stream",
     "text": [
      "---------------------------------\n",
      "| batch_size        | 2048      |\n",
      "| bc/               |           |\n",
      "|    batch          | 9189      |\n",
      "|    ent_loss       | -0.000645 |\n",
      "|    entropy        | 0.645     |\n",
      "|    epoch          | 919       |\n",
      "|    l2_loss        | 0         |\n",
      "|    l2_norm        | 4.88e+03  |\n",
      "|    loss           | 0.673     |\n",
      "|    neglogp        | 0.674     |\n",
      "|    prob_true_act  | 0.719     |\n",
      "|    samples_so_far | 18821120  |\n",
      "---------------------------------\n"
     ]
    },
    {
     "name": "stderr",
     "output_type": "stream",
     "text": [
      "9200batch [55:18,  2.70batch/s]"
     ]
    },
    {
     "name": "stdout",
     "output_type": "stream",
     "text": [
      "---------------------------------\n",
      "| batch_size        | 2048      |\n",
      "| bc/               |           |\n",
      "|    batch          | 9199      |\n",
      "|    ent_loss       | -0.000645 |\n",
      "|    entropy        | 0.645     |\n",
      "|    epoch          | 920       |\n",
      "|    l2_loss        | 0         |\n",
      "|    l2_norm        | 4.88e+03  |\n",
      "|    loss           | 0.588     |\n",
      "|    neglogp        | 0.589     |\n",
      "|    prob_true_act  | 0.748     |\n",
      "|    samples_so_far | 18841600  |\n",
      "---------------------------------\n"
     ]
    },
    {
     "name": "stderr",
     "output_type": "stream",
     "text": [
      "9210batch [55:22,  2.97batch/s]"
     ]
    },
    {
     "name": "stdout",
     "output_type": "stream",
     "text": [
      "---------------------------------\n",
      "| batch_size        | 2048      |\n",
      "| bc/               |           |\n",
      "|    batch          | 9209      |\n",
      "|    ent_loss       | -0.000645 |\n",
      "|    entropy        | 0.645     |\n",
      "|    epoch          | 921       |\n",
      "|    l2_loss        | 0         |\n",
      "|    l2_norm        | 4.88e+03  |\n",
      "|    loss           | 0.65      |\n",
      "|    neglogp        | 0.651     |\n",
      "|    prob_true_act  | 0.734     |\n",
      "|    samples_so_far | 18862080  |\n",
      "---------------------------------\n"
     ]
    },
    {
     "name": "stderr",
     "output_type": "stream",
     "text": [
      "9220batch [55:26,  2.92batch/s]"
     ]
    },
    {
     "name": "stdout",
     "output_type": "stream",
     "text": [
      "---------------------------------\n",
      "| batch_size        | 2048      |\n",
      "| bc/               |           |\n",
      "|    batch          | 9219      |\n",
      "|    ent_loss       | -0.000645 |\n",
      "|    entropy        | 0.645     |\n",
      "|    epoch          | 922       |\n",
      "|    l2_loss        | 0         |\n",
      "|    l2_norm        | 4.88e+03  |\n",
      "|    loss           | 0.599     |\n",
      "|    neglogp        | 0.6       |\n",
      "|    prob_true_act  | 0.74      |\n",
      "|    samples_so_far | 18882560  |\n",
      "---------------------------------\n"
     ]
    },
    {
     "name": "stderr",
     "output_type": "stream",
     "text": [
      "9230batch [55:29,  2.86batch/s]"
     ]
    },
    {
     "name": "stdout",
     "output_type": "stream",
     "text": [
      "---------------------------------\n",
      "| batch_size        | 2048      |\n",
      "| bc/               |           |\n",
      "|    batch          | 9229      |\n",
      "|    ent_loss       | -0.000645 |\n",
      "|    entropy        | 0.645     |\n",
      "|    epoch          | 923       |\n",
      "|    l2_loss        | 0         |\n",
      "|    l2_norm        | 4.88e+03  |\n",
      "|    loss           | 0.666     |\n",
      "|    neglogp        | 0.666     |\n",
      "|    prob_true_act  | 0.726     |\n",
      "|    samples_so_far | 18903040  |\n",
      "---------------------------------\n"
     ]
    },
    {
     "name": "stderr",
     "output_type": "stream",
     "text": [
      "9240batch [55:33,  2.99batch/s]"
     ]
    },
    {
     "name": "stdout",
     "output_type": "stream",
     "text": [
      "---------------------------------\n",
      "| batch_size        | 2048      |\n",
      "| bc/               |           |\n",
      "|    batch          | 9239      |\n",
      "|    ent_loss       | -0.000645 |\n",
      "|    entropy        | 0.645     |\n",
      "|    epoch          | 924       |\n",
      "|    l2_loss        | 0         |\n",
      "|    l2_norm        | 4.88e+03  |\n",
      "|    loss           | 0.607     |\n",
      "|    neglogp        | 0.608     |\n",
      "|    prob_true_act  | 0.75      |\n",
      "|    samples_so_far | 18923520  |\n",
      "---------------------------------\n"
     ]
    },
    {
     "name": "stderr",
     "output_type": "stream",
     "text": [
      "9250batch [55:36,  2.97batch/s]"
     ]
    },
    {
     "name": "stdout",
     "output_type": "stream",
     "text": [
      "---------------------------------\n",
      "| batch_size        | 2048      |\n",
      "| bc/               |           |\n",
      "|    batch          | 9249      |\n",
      "|    ent_loss       | -0.000645 |\n",
      "|    entropy        | 0.645     |\n",
      "|    epoch          | 925       |\n",
      "|    l2_loss        | 0         |\n",
      "|    l2_norm        | 4.88e+03  |\n",
      "|    loss           | 0.656     |\n",
      "|    neglogp        | 0.657     |\n",
      "|    prob_true_act  | 0.73      |\n",
      "|    samples_so_far | 18944000  |\n",
      "---------------------------------\n"
     ]
    },
    {
     "name": "stderr",
     "output_type": "stream",
     "text": [
      "9260batch [55:40,  2.97batch/s]"
     ]
    },
    {
     "name": "stdout",
     "output_type": "stream",
     "text": [
      "---------------------------------\n",
      "| batch_size        | 2048      |\n",
      "| bc/               |           |\n",
      "|    batch          | 9259      |\n",
      "|    ent_loss       | -0.000645 |\n",
      "|    entropy        | 0.645     |\n",
      "|    epoch          | 926       |\n",
      "|    l2_loss        | 0         |\n",
      "|    l2_norm        | 4.88e+03  |\n",
      "|    loss           | 0.606     |\n",
      "|    neglogp        | 0.607     |\n",
      "|    prob_true_act  | 0.743     |\n",
      "|    samples_so_far | 18964480  |\n",
      "---------------------------------\n"
     ]
    },
    {
     "name": "stderr",
     "output_type": "stream",
     "text": [
      "9270batch [55:43,  2.94batch/s]"
     ]
    },
    {
     "name": "stdout",
     "output_type": "stream",
     "text": [
      "---------------------------------\n",
      "| batch_size        | 2048      |\n",
      "| bc/               |           |\n",
      "|    batch          | 9269      |\n",
      "|    ent_loss       | -0.000645 |\n",
      "|    entropy        | 0.645     |\n",
      "|    epoch          | 927       |\n",
      "|    l2_loss        | 0         |\n",
      "|    l2_norm        | 4.88e+03  |\n",
      "|    loss           | 0.638     |\n",
      "|    neglogp        | 0.639     |\n",
      "|    prob_true_act  | 0.725     |\n",
      "|    samples_so_far | 18984960  |\n",
      "---------------------------------\n"
     ]
    },
    {
     "name": "stderr",
     "output_type": "stream",
     "text": [
      "9280batch [55:47,  3.01batch/s]"
     ]
    },
    {
     "name": "stdout",
     "output_type": "stream",
     "text": [
      "---------------------------------\n",
      "| batch_size        | 2048      |\n",
      "| bc/               |           |\n",
      "|    batch          | 9279      |\n",
      "|    ent_loss       | -0.000645 |\n",
      "|    entropy        | 0.645     |\n",
      "|    epoch          | 928       |\n",
      "|    l2_loss        | 0         |\n",
      "|    l2_norm        | 4.88e+03  |\n",
      "|    loss           | 0.689     |\n",
      "|    neglogp        | 0.69      |\n",
      "|    prob_true_act  | 0.733     |\n",
      "|    samples_so_far | 19005440  |\n",
      "---------------------------------\n"
     ]
    },
    {
     "name": "stderr",
     "output_type": "stream",
     "text": [
      "9290batch [55:50,  2.95batch/s]"
     ]
    },
    {
     "name": "stdout",
     "output_type": "stream",
     "text": [
      "---------------------------------\n",
      "| batch_size        | 2048      |\n",
      "| bc/               |           |\n",
      "|    batch          | 9289      |\n",
      "|    ent_loss       | -0.000646 |\n",
      "|    entropy        | 0.646     |\n",
      "|    epoch          | 929       |\n",
      "|    l2_loss        | 0         |\n",
      "|    l2_norm        | 4.88e+03  |\n",
      "|    loss           | 0.648     |\n",
      "|    neglogp        | 0.648     |\n",
      "|    prob_true_act  | 0.726     |\n",
      "|    samples_so_far | 19025920  |\n",
      "---------------------------------\n"
     ]
    },
    {
     "name": "stderr",
     "output_type": "stream",
     "text": [
      "9300batch [55:54,  2.92batch/s]"
     ]
    },
    {
     "name": "stdout",
     "output_type": "stream",
     "text": [
      "---------------------------------\n",
      "| batch_size        | 2048      |\n",
      "| bc/               |           |\n",
      "|    batch          | 9299      |\n",
      "|    ent_loss       | -0.000646 |\n",
      "|    entropy        | 0.646     |\n",
      "|    epoch          | 930       |\n",
      "|    l2_loss        | 0         |\n",
      "|    l2_norm        | 4.88e+03  |\n",
      "|    loss           | 0.687     |\n",
      "|    neglogp        | 0.688     |\n",
      "|    prob_true_act  | 0.718     |\n",
      "|    samples_so_far | 19046400  |\n",
      "---------------------------------\n"
     ]
    },
    {
     "name": "stderr",
     "output_type": "stream",
     "text": [
      "9310batch [55:58,  3.00batch/s]"
     ]
    },
    {
     "name": "stdout",
     "output_type": "stream",
     "text": [
      "---------------------------------\n",
      "| batch_size        | 2048      |\n",
      "| bc/               |           |\n",
      "|    batch          | 9309      |\n",
      "|    ent_loss       | -0.000646 |\n",
      "|    entropy        | 0.646     |\n",
      "|    epoch          | 931       |\n",
      "|    l2_loss        | 0         |\n",
      "|    l2_norm        | 4.88e+03  |\n",
      "|    loss           | 0.633     |\n",
      "|    neglogp        | 0.634     |\n",
      "|    prob_true_act  | 0.736     |\n",
      "|    samples_so_far | 19066880  |\n",
      "---------------------------------\n"
     ]
    },
    {
     "name": "stderr",
     "output_type": "stream",
     "text": [
      "9320batch [56:01,  2.99batch/s]"
     ]
    },
    {
     "name": "stdout",
     "output_type": "stream",
     "text": [
      "---------------------------------\n",
      "| batch_size        | 2048      |\n",
      "| bc/               |           |\n",
      "|    batch          | 9319      |\n",
      "|    ent_loss       | -0.000646 |\n",
      "|    entropy        | 0.646     |\n",
      "|    epoch          | 932       |\n",
      "|    l2_loss        | 0         |\n",
      "|    l2_norm        | 4.88e+03  |\n",
      "|    loss           | 0.675     |\n",
      "|    neglogp        | 0.676     |\n",
      "|    prob_true_act  | 0.726     |\n",
      "|    samples_so_far | 19087360  |\n",
      "---------------------------------\n"
     ]
    },
    {
     "name": "stderr",
     "output_type": "stream",
     "text": [
      "9330batch [56:05,  2.94batch/s]"
     ]
    },
    {
     "name": "stdout",
     "output_type": "stream",
     "text": [
      "---------------------------------\n",
      "| batch_size        | 2048      |\n",
      "| bc/               |           |\n",
      "|    batch          | 9329      |\n",
      "|    ent_loss       | -0.000646 |\n",
      "|    entropy        | 0.646     |\n",
      "|    epoch          | 933       |\n",
      "|    l2_loss        | 0         |\n",
      "|    l2_norm        | 4.88e+03  |\n",
      "|    loss           | 0.675     |\n",
      "|    neglogp        | 0.676     |\n",
      "|    prob_true_act  | 0.727     |\n",
      "|    samples_so_far | 19107840  |\n",
      "---------------------------------\n"
     ]
    },
    {
     "name": "stderr",
     "output_type": "stream",
     "text": [
      "9340batch [56:08,  2.97batch/s]"
     ]
    },
    {
     "name": "stdout",
     "output_type": "stream",
     "text": [
      "---------------------------------\n",
      "| batch_size        | 2048      |\n",
      "| bc/               |           |\n",
      "|    batch          | 9339      |\n",
      "|    ent_loss       | -0.000646 |\n",
      "|    entropy        | 0.646     |\n",
      "|    epoch          | 934       |\n",
      "|    l2_loss        | 0         |\n",
      "|    l2_norm        | 4.88e+03  |\n",
      "|    loss           | 0.634     |\n",
      "|    neglogp        | 0.635     |\n",
      "|    prob_true_act  | 0.731     |\n",
      "|    samples_so_far | 19128320  |\n",
      "---------------------------------\n"
     ]
    },
    {
     "name": "stderr",
     "output_type": "stream",
     "text": [
      "9350batch [56:12,  2.98batch/s]"
     ]
    },
    {
     "name": "stdout",
     "output_type": "stream",
     "text": [
      "---------------------------------\n",
      "| batch_size        | 2048      |\n",
      "| bc/               |           |\n",
      "|    batch          | 9349      |\n",
      "|    ent_loss       | -0.000646 |\n",
      "|    entropy        | 0.646     |\n",
      "|    epoch          | 935       |\n",
      "|    l2_loss        | 0         |\n",
      "|    l2_norm        | 4.88e+03  |\n",
      "|    loss           | 0.639     |\n",
      "|    neglogp        | 0.64      |\n",
      "|    prob_true_act  | 0.735     |\n",
      "|    samples_so_far | 19148800  |\n",
      "---------------------------------\n"
     ]
    },
    {
     "name": "stderr",
     "output_type": "stream",
     "text": [
      "9360batch [56:16,  2.97batch/s]"
     ]
    },
    {
     "name": "stdout",
     "output_type": "stream",
     "text": [
      "---------------------------------\n",
      "| batch_size        | 2048      |\n",
      "| bc/               |           |\n",
      "|    batch          | 9359      |\n",
      "|    ent_loss       | -0.000646 |\n",
      "|    entropy        | 0.646     |\n",
      "|    epoch          | 936       |\n",
      "|    l2_loss        | 0         |\n",
      "|    l2_norm        | 4.88e+03  |\n",
      "|    loss           | 0.638     |\n",
      "|    neglogp        | 0.638     |\n",
      "|    prob_true_act  | 0.734     |\n",
      "|    samples_so_far | 19169280  |\n",
      "---------------------------------\n"
     ]
    },
    {
     "name": "stderr",
     "output_type": "stream",
     "text": [
      "9370batch [56:19,  2.95batch/s]"
     ]
    },
    {
     "name": "stdout",
     "output_type": "stream",
     "text": [
      "---------------------------------\n",
      "| batch_size        | 2048      |\n",
      "| bc/               |           |\n",
      "|    batch          | 9369      |\n",
      "|    ent_loss       | -0.000646 |\n",
      "|    entropy        | 0.646     |\n",
      "|    epoch          | 937       |\n",
      "|    l2_loss        | 0         |\n",
      "|    l2_norm        | 4.88e+03  |\n",
      "|    loss           | 0.584     |\n",
      "|    neglogp        | 0.585     |\n",
      "|    prob_true_act  | 0.751     |\n",
      "|    samples_so_far | 19189760  |\n",
      "---------------------------------\n"
     ]
    },
    {
     "name": "stderr",
     "output_type": "stream",
     "text": [
      "9380batch [56:23,  2.66batch/s]"
     ]
    },
    {
     "name": "stdout",
     "output_type": "stream",
     "text": [
      "---------------------------------\n",
      "| batch_size        | 2048      |\n",
      "| bc/               |           |\n",
      "|    batch          | 9379      |\n",
      "|    ent_loss       | -0.000646 |\n",
      "|    entropy        | 0.646     |\n",
      "|    epoch          | 938       |\n",
      "|    l2_loss        | 0         |\n",
      "|    l2_norm        | 4.88e+03  |\n",
      "|    loss           | 0.647     |\n",
      "|    neglogp        | 0.648     |\n",
      "|    prob_true_act  | 0.733     |\n",
      "|    samples_so_far | 19210240  |\n",
      "---------------------------------\n"
     ]
    },
    {
     "name": "stderr",
     "output_type": "stream",
     "text": [
      "9390batch [56:27,  2.97batch/s]"
     ]
    },
    {
     "name": "stdout",
     "output_type": "stream",
     "text": [
      "---------------------------------\n",
      "| batch_size        | 2048      |\n",
      "| bc/               |           |\n",
      "|    batch          | 9389      |\n",
      "|    ent_loss       | -0.000646 |\n",
      "|    entropy        | 0.646     |\n",
      "|    epoch          | 939       |\n",
      "|    l2_loss        | 0         |\n",
      "|    l2_norm        | 4.88e+03  |\n",
      "|    loss           | 0.678     |\n",
      "|    neglogp        | 0.679     |\n",
      "|    prob_true_act  | 0.729     |\n",
      "|    samples_so_far | 19230720  |\n",
      "---------------------------------\n"
     ]
    },
    {
     "name": "stderr",
     "output_type": "stream",
     "text": [
      "9400batch [56:30,  3.01batch/s]"
     ]
    },
    {
     "name": "stdout",
     "output_type": "stream",
     "text": [
      "---------------------------------\n",
      "| batch_size        | 2048      |\n",
      "| bc/               |           |\n",
      "|    batch          | 9399      |\n",
      "|    ent_loss       | -0.000646 |\n",
      "|    entropy        | 0.646     |\n",
      "|    epoch          | 940       |\n",
      "|    l2_loss        | 0         |\n",
      "|    l2_norm        | 4.88e+03  |\n",
      "|    loss           | 0.671     |\n",
      "|    neglogp        | 0.671     |\n",
      "|    prob_true_act  | 0.724     |\n",
      "|    samples_so_far | 19251200  |\n",
      "---------------------------------\n"
     ]
    },
    {
     "name": "stderr",
     "output_type": "stream",
     "text": [
      "9410batch [56:34,  2.95batch/s]"
     ]
    },
    {
     "name": "stdout",
     "output_type": "stream",
     "text": [
      "---------------------------------\n",
      "| batch_size        | 2048      |\n",
      "| bc/               |           |\n",
      "|    batch          | 9409      |\n",
      "|    ent_loss       | -0.000646 |\n",
      "|    entropy        | 0.646     |\n",
      "|    epoch          | 941       |\n",
      "|    l2_loss        | 0         |\n",
      "|    l2_norm        | 4.88e+03  |\n",
      "|    loss           | 0.626     |\n",
      "|    neglogp        | 0.627     |\n",
      "|    prob_true_act  | 0.738     |\n",
      "|    samples_so_far | 19271680  |\n",
      "---------------------------------\n"
     ]
    },
    {
     "name": "stderr",
     "output_type": "stream",
     "text": [
      "9420batch [56:37,  2.99batch/s]"
     ]
    },
    {
     "name": "stdout",
     "output_type": "stream",
     "text": [
      "---------------------------------\n",
      "| batch_size        | 2048      |\n",
      "| bc/               |           |\n",
      "|    batch          | 9419      |\n",
      "|    ent_loss       | -0.000646 |\n",
      "|    entropy        | 0.646     |\n",
      "|    epoch          | 942       |\n",
      "|    l2_loss        | 0         |\n",
      "|    l2_norm        | 4.88e+03  |\n",
      "|    loss           | 0.608     |\n",
      "|    neglogp        | 0.609     |\n",
      "|    prob_true_act  | 0.732     |\n",
      "|    samples_so_far | 19292160  |\n",
      "---------------------------------\n"
     ]
    },
    {
     "name": "stderr",
     "output_type": "stream",
     "text": [
      "9430batch [56:41,  2.94batch/s]"
     ]
    },
    {
     "name": "stdout",
     "output_type": "stream",
     "text": [
      "---------------------------------\n",
      "| batch_size        | 2048      |\n",
      "| bc/               |           |\n",
      "|    batch          | 9429      |\n",
      "|    ent_loss       | -0.000646 |\n",
      "|    entropy        | 0.646     |\n",
      "|    epoch          | 943       |\n",
      "|    l2_loss        | 0         |\n",
      "|    l2_norm        | 4.88e+03  |\n",
      "|    loss           | 0.679     |\n",
      "|    neglogp        | 0.68      |\n",
      "|    prob_true_act  | 0.729     |\n",
      "|    samples_so_far | 19312640  |\n",
      "---------------------------------\n"
     ]
    },
    {
     "name": "stderr",
     "output_type": "stream",
     "text": [
      "9440batch [56:44,  3.01batch/s]"
     ]
    },
    {
     "name": "stdout",
     "output_type": "stream",
     "text": [
      "---------------------------------\n",
      "| batch_size        | 2048      |\n",
      "| bc/               |           |\n",
      "|    batch          | 9439      |\n",
      "|    ent_loss       | -0.000646 |\n",
      "|    entropy        | 0.646     |\n",
      "|    epoch          | 944       |\n",
      "|    l2_loss        | 0         |\n",
      "|    l2_norm        | 4.88e+03  |\n",
      "|    loss           | 0.617     |\n",
      "|    neglogp        | 0.617     |\n",
      "|    prob_true_act  | 0.737     |\n",
      "|    samples_so_far | 19333120  |\n",
      "---------------------------------\n"
     ]
    },
    {
     "name": "stderr",
     "output_type": "stream",
     "text": [
      "9450batch [56:48,  2.97batch/s]"
     ]
    },
    {
     "name": "stdout",
     "output_type": "stream",
     "text": [
      "---------------------------------\n",
      "| batch_size        | 2048      |\n",
      "| bc/               |           |\n",
      "|    batch          | 9449      |\n",
      "|    ent_loss       | -0.000646 |\n",
      "|    entropy        | 0.646     |\n",
      "|    epoch          | 945       |\n",
      "|    l2_loss        | 0         |\n",
      "|    l2_norm        | 4.88e+03  |\n",
      "|    loss           | 0.655     |\n",
      "|    neglogp        | 0.655     |\n",
      "|    prob_true_act  | 0.729     |\n",
      "|    samples_so_far | 19353600  |\n",
      "---------------------------------\n"
     ]
    },
    {
     "name": "stderr",
     "output_type": "stream",
     "text": [
      "9460batch [56:51,  2.90batch/s]"
     ]
    },
    {
     "name": "stdout",
     "output_type": "stream",
     "text": [
      "---------------------------------\n",
      "| batch_size        | 2048      |\n",
      "| bc/               |           |\n",
      "|    batch          | 9459      |\n",
      "|    ent_loss       | -0.000646 |\n",
      "|    entropy        | 0.646     |\n",
      "|    epoch          | 946       |\n",
      "|    l2_loss        | 0         |\n",
      "|    l2_norm        | 4.88e+03  |\n",
      "|    loss           | 0.61      |\n",
      "|    neglogp        | 0.611     |\n",
      "|    prob_true_act  | 0.739     |\n",
      "|    samples_so_far | 19374080  |\n",
      "---------------------------------\n"
     ]
    },
    {
     "name": "stderr",
     "output_type": "stream",
     "text": [
      "9470batch [56:55,  2.92batch/s]"
     ]
    },
    {
     "name": "stdout",
     "output_type": "stream",
     "text": [
      "---------------------------------\n",
      "| batch_size        | 2048      |\n",
      "| bc/               |           |\n",
      "|    batch          | 9469      |\n",
      "|    ent_loss       | -0.000646 |\n",
      "|    entropy        | 0.646     |\n",
      "|    epoch          | 947       |\n",
      "|    l2_loss        | 0         |\n",
      "|    l2_norm        | 4.88e+03  |\n",
      "|    loss           | 0.622     |\n",
      "|    neglogp        | 0.623     |\n",
      "|    prob_true_act  | 0.725     |\n",
      "|    samples_so_far | 19394560  |\n",
      "---------------------------------\n"
     ]
    },
    {
     "name": "stderr",
     "output_type": "stream",
     "text": [
      "9480batch [56:59,  2.99batch/s]"
     ]
    },
    {
     "name": "stdout",
     "output_type": "stream",
     "text": [
      "---------------------------------\n",
      "| batch_size        | 2048      |\n",
      "| bc/               |           |\n",
      "|    batch          | 9479      |\n",
      "|    ent_loss       | -0.000646 |\n",
      "|    entropy        | 0.646     |\n",
      "|    epoch          | 948       |\n",
      "|    l2_loss        | 0         |\n",
      "|    l2_norm        | 4.88e+03  |\n",
      "|    loss           | 0.639     |\n",
      "|    neglogp        | 0.64      |\n",
      "|    prob_true_act  | 0.733     |\n",
      "|    samples_so_far | 19415040  |\n",
      "---------------------------------\n"
     ]
    },
    {
     "name": "stderr",
     "output_type": "stream",
     "text": [
      "9490batch [57:02,  2.64batch/s]"
     ]
    },
    {
     "name": "stdout",
     "output_type": "stream",
     "text": [
      "---------------------------------\n",
      "| batch_size        | 2048      |\n",
      "| bc/               |           |\n",
      "|    batch          | 9489      |\n",
      "|    ent_loss       | -0.000646 |\n",
      "|    entropy        | 0.646     |\n",
      "|    epoch          | 949       |\n",
      "|    l2_loss        | 0         |\n",
      "|    l2_norm        | 4.88e+03  |\n",
      "|    loss           | 0.651     |\n",
      "|    neglogp        | 0.652     |\n",
      "|    prob_true_act  | 0.72      |\n",
      "|    samples_so_far | 19435520  |\n",
      "---------------------------------\n"
     ]
    },
    {
     "name": "stderr",
     "output_type": "stream",
     "text": [
      "9500batch [57:06,  2.94batch/s]"
     ]
    },
    {
     "name": "stdout",
     "output_type": "stream",
     "text": [
      "---------------------------------\n",
      "| batch_size        | 2048      |\n",
      "| bc/               |           |\n",
      "|    batch          | 9499      |\n",
      "|    ent_loss       | -0.000646 |\n",
      "|    entropy        | 0.646     |\n",
      "|    epoch          | 950       |\n",
      "|    l2_loss        | 0         |\n",
      "|    l2_norm        | 4.88e+03  |\n",
      "|    loss           | 0.631     |\n",
      "|    neglogp        | 0.632     |\n",
      "|    prob_true_act  | 0.735     |\n",
      "|    samples_so_far | 19456000  |\n",
      "---------------------------------\n"
     ]
    },
    {
     "name": "stderr",
     "output_type": "stream",
     "text": [
      "9510batch [57:09,  2.97batch/s]"
     ]
    },
    {
     "name": "stdout",
     "output_type": "stream",
     "text": [
      "---------------------------------\n",
      "| batch_size        | 2048      |\n",
      "| bc/               |           |\n",
      "|    batch          | 9509      |\n",
      "|    ent_loss       | -0.000646 |\n",
      "|    entropy        | 0.646     |\n",
      "|    epoch          | 951       |\n",
      "|    l2_loss        | 0         |\n",
      "|    l2_norm        | 4.88e+03  |\n",
      "|    loss           | 0.631     |\n",
      "|    neglogp        | 0.632     |\n",
      "|    prob_true_act  | 0.733     |\n",
      "|    samples_so_far | 19476480  |\n",
      "---------------------------------\n"
     ]
    },
    {
     "name": "stderr",
     "output_type": "stream",
     "text": [
      "9520batch [57:13,  2.97batch/s]"
     ]
    },
    {
     "name": "stdout",
     "output_type": "stream",
     "text": [
      "---------------------------------\n",
      "| batch_size        | 2048      |\n",
      "| bc/               |           |\n",
      "|    batch          | 9519      |\n",
      "|    ent_loss       | -0.000646 |\n",
      "|    entropy        | 0.646     |\n",
      "|    epoch          | 952       |\n",
      "|    l2_loss        | 0         |\n",
      "|    l2_norm        | 4.88e+03  |\n",
      "|    loss           | 0.652     |\n",
      "|    neglogp        | 0.653     |\n",
      "|    prob_true_act  | 0.728     |\n",
      "|    samples_so_far | 19496960  |\n",
      "---------------------------------\n"
     ]
    },
    {
     "name": "stderr",
     "output_type": "stream",
     "text": [
      "9530batch [57:16,  2.95batch/s]"
     ]
    },
    {
     "name": "stdout",
     "output_type": "stream",
     "text": [
      "---------------------------------\n",
      "| batch_size        | 2048      |\n",
      "| bc/               |           |\n",
      "|    batch          | 9529      |\n",
      "|    ent_loss       | -0.000646 |\n",
      "|    entropy        | 0.646     |\n",
      "|    epoch          | 953       |\n",
      "|    l2_loss        | 0         |\n",
      "|    l2_norm        | 4.88e+03  |\n",
      "|    loss           | 0.633     |\n",
      "|    neglogp        | 0.633     |\n",
      "|    prob_true_act  | 0.735     |\n",
      "|    samples_so_far | 19517440  |\n",
      "---------------------------------\n"
     ]
    },
    {
     "name": "stderr",
     "output_type": "stream",
     "text": [
      "9540batch [57:20,  2.80batch/s]"
     ]
    },
    {
     "name": "stdout",
     "output_type": "stream",
     "text": [
      "---------------------------------\n",
      "| batch_size        | 2048      |\n",
      "| bc/               |           |\n",
      "|    batch          | 9539      |\n",
      "|    ent_loss       | -0.000646 |\n",
      "|    entropy        | 0.646     |\n",
      "|    epoch          | 954       |\n",
      "|    l2_loss        | 0         |\n",
      "|    l2_norm        | 4.88e+03  |\n",
      "|    loss           | 0.647     |\n",
      "|    neglogp        | 0.647     |\n",
      "|    prob_true_act  | 0.732     |\n",
      "|    samples_so_far | 19537920  |\n",
      "---------------------------------\n"
     ]
    },
    {
     "name": "stderr",
     "output_type": "stream",
     "text": [
      "9550batch [57:24,  2.95batch/s]"
     ]
    },
    {
     "name": "stdout",
     "output_type": "stream",
     "text": [
      "---------------------------------\n",
      "| batch_size        | 2048      |\n",
      "| bc/               |           |\n",
      "|    batch          | 9549      |\n",
      "|    ent_loss       | -0.000646 |\n",
      "|    entropy        | 0.646     |\n",
      "|    epoch          | 955       |\n",
      "|    l2_loss        | 0         |\n",
      "|    l2_norm        | 4.88e+03  |\n",
      "|    loss           | 0.617     |\n",
      "|    neglogp        | 0.618     |\n",
      "|    prob_true_act  | 0.741     |\n",
      "|    samples_so_far | 19558400  |\n",
      "---------------------------------\n"
     ]
    },
    {
     "name": "stderr",
     "output_type": "stream",
     "text": [
      "9560batch [57:27,  2.97batch/s]"
     ]
    },
    {
     "name": "stdout",
     "output_type": "stream",
     "text": [
      "---------------------------------\n",
      "| batch_size        | 2048      |\n",
      "| bc/               |           |\n",
      "|    batch          | 9559      |\n",
      "|    ent_loss       | -0.000646 |\n",
      "|    entropy        | 0.646     |\n",
      "|    epoch          | 956       |\n",
      "|    l2_loss        | 0         |\n",
      "|    l2_norm        | 4.88e+03  |\n",
      "|    loss           | 0.635     |\n",
      "|    neglogp        | 0.635     |\n",
      "|    prob_true_act  | 0.734     |\n",
      "|    samples_so_far | 19578880  |\n",
      "---------------------------------\n"
     ]
    },
    {
     "name": "stderr",
     "output_type": "stream",
     "text": [
      "9570batch [57:31,  2.83batch/s]"
     ]
    },
    {
     "name": "stdout",
     "output_type": "stream",
     "text": [
      "---------------------------------\n",
      "| batch_size        | 2048      |\n",
      "| bc/               |           |\n",
      "|    batch          | 9569      |\n",
      "|    ent_loss       | -0.000646 |\n",
      "|    entropy        | 0.646     |\n",
      "|    epoch          | 957       |\n",
      "|    l2_loss        | 0         |\n",
      "|    l2_norm        | 4.88e+03  |\n",
      "|    loss           | 0.601     |\n",
      "|    neglogp        | 0.601     |\n",
      "|    prob_true_act  | 0.745     |\n",
      "|    samples_so_far | 19599360  |\n",
      "---------------------------------\n"
     ]
    },
    {
     "name": "stderr",
     "output_type": "stream",
     "text": [
      "9580batch [57:34,  2.97batch/s]"
     ]
    },
    {
     "name": "stdout",
     "output_type": "stream",
     "text": [
      "---------------------------------\n",
      "| batch_size        | 2048      |\n",
      "| bc/               |           |\n",
      "|    batch          | 9579      |\n",
      "|    ent_loss       | -0.000646 |\n",
      "|    entropy        | 0.646     |\n",
      "|    epoch          | 958       |\n",
      "|    l2_loss        | 0         |\n",
      "|    l2_norm        | 4.88e+03  |\n",
      "|    loss           | 0.694     |\n",
      "|    neglogp        | 0.695     |\n",
      "|    prob_true_act  | 0.728     |\n",
      "|    samples_so_far | 19619840  |\n",
      "---------------------------------\n"
     ]
    },
    {
     "name": "stderr",
     "output_type": "stream",
     "text": [
      "9590batch [57:38,  2.97batch/s]"
     ]
    },
    {
     "name": "stdout",
     "output_type": "stream",
     "text": [
      "---------------------------------\n",
      "| batch_size        | 2048      |\n",
      "| bc/               |           |\n",
      "|    batch          | 9589      |\n",
      "|    ent_loss       | -0.000646 |\n",
      "|    entropy        | 0.646     |\n",
      "|    epoch          | 959       |\n",
      "|    l2_loss        | 0         |\n",
      "|    l2_norm        | 4.88e+03  |\n",
      "|    loss           | 0.603     |\n",
      "|    neglogp        | 0.603     |\n",
      "|    prob_true_act  | 0.743     |\n",
      "|    samples_so_far | 19640320  |\n",
      "---------------------------------\n"
     ]
    },
    {
     "name": "stderr",
     "output_type": "stream",
     "text": [
      "9600batch [57:42,  2.98batch/s]"
     ]
    },
    {
     "name": "stdout",
     "output_type": "stream",
     "text": [
      "---------------------------------\n",
      "| batch_size        | 2048      |\n",
      "| bc/               |           |\n",
      "|    batch          | 9599      |\n",
      "|    ent_loss       | -0.000646 |\n",
      "|    entropy        | 0.646     |\n",
      "|    epoch          | 960       |\n",
      "|    l2_loss        | 0         |\n",
      "|    l2_norm        | 4.88e+03  |\n",
      "|    loss           | 0.629     |\n",
      "|    neglogp        | 0.63      |\n",
      "|    prob_true_act  | 0.732     |\n",
      "|    samples_so_far | 19660800  |\n",
      "---------------------------------\n"
     ]
    },
    {
     "name": "stderr",
     "output_type": "stream",
     "text": [
      "9610batch [57:45,  3.00batch/s]"
     ]
    },
    {
     "name": "stdout",
     "output_type": "stream",
     "text": [
      "---------------------------------\n",
      "| batch_size        | 2048      |\n",
      "| bc/               |           |\n",
      "|    batch          | 9609      |\n",
      "|    ent_loss       | -0.000646 |\n",
      "|    entropy        | 0.646     |\n",
      "|    epoch          | 961       |\n",
      "|    l2_loss        | 0         |\n",
      "|    l2_norm        | 4.88e+03  |\n",
      "|    loss           | 0.629     |\n",
      "|    neglogp        | 0.629     |\n",
      "|    prob_true_act  | 0.734     |\n",
      "|    samples_so_far | 19681280  |\n",
      "---------------------------------\n"
     ]
    },
    {
     "name": "stderr",
     "output_type": "stream",
     "text": [
      "9620batch [57:49,  2.90batch/s]"
     ]
    },
    {
     "name": "stdout",
     "output_type": "stream",
     "text": [
      "---------------------------------\n",
      "| batch_size        | 2048      |\n",
      "| bc/               |           |\n",
      "|    batch          | 9619      |\n",
      "|    ent_loss       | -0.000646 |\n",
      "|    entropy        | 0.646     |\n",
      "|    epoch          | 962       |\n",
      "|    l2_loss        | 0         |\n",
      "|    l2_norm        | 4.88e+03  |\n",
      "|    loss           | 0.634     |\n",
      "|    neglogp        | 0.635     |\n",
      "|    prob_true_act  | 0.734     |\n",
      "|    samples_so_far | 19701760  |\n",
      "---------------------------------\n"
     ]
    },
    {
     "name": "stderr",
     "output_type": "stream",
     "text": [
      "9630batch [57:52,  2.98batch/s]"
     ]
    },
    {
     "name": "stdout",
     "output_type": "stream",
     "text": [
      "---------------------------------\n",
      "| batch_size        | 2048      |\n",
      "| bc/               |           |\n",
      "|    batch          | 9629      |\n",
      "|    ent_loss       | -0.000646 |\n",
      "|    entropy        | 0.646     |\n",
      "|    epoch          | 963       |\n",
      "|    l2_loss        | 0         |\n",
      "|    l2_norm        | 4.88e+03  |\n",
      "|    loss           | 0.641     |\n",
      "|    neglogp        | 0.642     |\n",
      "|    prob_true_act  | 0.729     |\n",
      "|    samples_so_far | 19722240  |\n",
      "---------------------------------\n"
     ]
    },
    {
     "name": "stderr",
     "output_type": "stream",
     "text": [
      "9640batch [57:56,  2.94batch/s]"
     ]
    },
    {
     "name": "stdout",
     "output_type": "stream",
     "text": [
      "---------------------------------\n",
      "| batch_size        | 2048      |\n",
      "| bc/               |           |\n",
      "|    batch          | 9639      |\n",
      "|    ent_loss       | -0.000646 |\n",
      "|    entropy        | 0.646     |\n",
      "|    epoch          | 964       |\n",
      "|    l2_loss        | 0         |\n",
      "|    l2_norm        | 4.88e+03  |\n",
      "|    loss           | 0.722     |\n",
      "|    neglogp        | 0.722     |\n",
      "|    prob_true_act  | 0.719     |\n",
      "|    samples_so_far | 19742720  |\n",
      "---------------------------------\n"
     ]
    },
    {
     "name": "stderr",
     "output_type": "stream",
     "text": [
      "9650batch [57:59,  2.96batch/s]"
     ]
    },
    {
     "name": "stdout",
     "output_type": "stream",
     "text": [
      "---------------------------------\n",
      "| batch_size        | 2048      |\n",
      "| bc/               |           |\n",
      "|    batch          | 9649      |\n",
      "|    ent_loss       | -0.000646 |\n",
      "|    entropy        | 0.646     |\n",
      "|    epoch          | 965       |\n",
      "|    l2_loss        | 0         |\n",
      "|    l2_norm        | 4.88e+03  |\n",
      "|    loss           | 0.622     |\n",
      "|    neglogp        | 0.623     |\n",
      "|    prob_true_act  | 0.738     |\n",
      "|    samples_so_far | 19763200  |\n",
      "---------------------------------\n"
     ]
    },
    {
     "name": "stderr",
     "output_type": "stream",
     "text": [
      "9660batch [58:03,  3.00batch/s]"
     ]
    },
    {
     "name": "stdout",
     "output_type": "stream",
     "text": [
      "---------------------------------\n",
      "| batch_size        | 2048      |\n",
      "| bc/               |           |\n",
      "|    batch          | 9659      |\n",
      "|    ent_loss       | -0.000646 |\n",
      "|    entropy        | 0.646     |\n",
      "|    epoch          | 966       |\n",
      "|    l2_loss        | 0         |\n",
      "|    l2_norm        | 4.88e+03  |\n",
      "|    loss           | 0.671     |\n",
      "|    neglogp        | 0.672     |\n",
      "|    prob_true_act  | 0.728     |\n",
      "|    samples_so_far | 19783680  |\n",
      "---------------------------------\n"
     ]
    },
    {
     "name": "stderr",
     "output_type": "stream",
     "text": [
      "9670batch [58:07,  2.98batch/s]"
     ]
    },
    {
     "name": "stdout",
     "output_type": "stream",
     "text": [
      "---------------------------------\n",
      "| batch_size        | 2048      |\n",
      "| bc/               |           |\n",
      "|    batch          | 9669      |\n",
      "|    ent_loss       | -0.000646 |\n",
      "|    entropy        | 0.646     |\n",
      "|    epoch          | 967       |\n",
      "|    l2_loss        | 0         |\n",
      "|    l2_norm        | 4.88e+03  |\n",
      "|    loss           | 0.667     |\n",
      "|    neglogp        | 0.667     |\n",
      "|    prob_true_act  | 0.738     |\n",
      "|    samples_so_far | 19804160  |\n",
      "---------------------------------\n"
     ]
    },
    {
     "name": "stderr",
     "output_type": "stream",
     "text": [
      "9680batch [58:10,  2.90batch/s]"
     ]
    },
    {
     "name": "stdout",
     "output_type": "stream",
     "text": [
      "---------------------------------\n",
      "| batch_size        | 2048      |\n",
      "| bc/               |           |\n",
      "|    batch          | 9679      |\n",
      "|    ent_loss       | -0.000646 |\n",
      "|    entropy        | 0.646     |\n",
      "|    epoch          | 968       |\n",
      "|    l2_loss        | 0         |\n",
      "|    l2_norm        | 4.88e+03  |\n",
      "|    loss           | 0.642     |\n",
      "|    neglogp        | 0.642     |\n",
      "|    prob_true_act  | 0.723     |\n",
      "|    samples_so_far | 19824640  |\n",
      "---------------------------------\n"
     ]
    },
    {
     "name": "stderr",
     "output_type": "stream",
     "text": [
      "9690batch [58:14,  3.01batch/s]"
     ]
    },
    {
     "name": "stdout",
     "output_type": "stream",
     "text": [
      "---------------------------------\n",
      "| batch_size        | 2048      |\n",
      "| bc/               |           |\n",
      "|    batch          | 9689      |\n",
      "|    ent_loss       | -0.000646 |\n",
      "|    entropy        | 0.646     |\n",
      "|    epoch          | 969       |\n",
      "|    l2_loss        | 0         |\n",
      "|    l2_norm        | 4.88e+03  |\n",
      "|    loss           | 0.668     |\n",
      "|    neglogp        | 0.669     |\n",
      "|    prob_true_act  | 0.725     |\n",
      "|    samples_so_far | 19845120  |\n",
      "---------------------------------\n"
     ]
    },
    {
     "name": "stderr",
     "output_type": "stream",
     "text": [
      "9700batch [58:17,  2.86batch/s]"
     ]
    },
    {
     "name": "stdout",
     "output_type": "stream",
     "text": [
      "---------------------------------\n",
      "| batch_size        | 2048      |\n",
      "| bc/               |           |\n",
      "|    batch          | 9699      |\n",
      "|    ent_loss       | -0.000646 |\n",
      "|    entropy        | 0.646     |\n",
      "|    epoch          | 970       |\n",
      "|    l2_loss        | 0         |\n",
      "|    l2_norm        | 4.88e+03  |\n",
      "|    loss           | 0.591     |\n",
      "|    neglogp        | 0.592     |\n",
      "|    prob_true_act  | 0.741     |\n",
      "|    samples_so_far | 19865600  |\n",
      "---------------------------------\n"
     ]
    },
    {
     "name": "stderr",
     "output_type": "stream",
     "text": [
      "9710batch [58:21,  3.01batch/s]"
     ]
    },
    {
     "name": "stdout",
     "output_type": "stream",
     "text": [
      "---------------------------------\n",
      "| batch_size        | 2048      |\n",
      "| bc/               |           |\n",
      "|    batch          | 9709      |\n",
      "|    ent_loss       | -0.000647 |\n",
      "|    entropy        | 0.647     |\n",
      "|    epoch          | 971       |\n",
      "|    l2_loss        | 0         |\n",
      "|    l2_norm        | 4.88e+03  |\n",
      "|    loss           | 0.631     |\n",
      "|    neglogp        | 0.632     |\n",
      "|    prob_true_act  | 0.734     |\n",
      "|    samples_so_far | 19886080  |\n",
      "---------------------------------\n"
     ]
    },
    {
     "name": "stderr",
     "output_type": "stream",
     "text": [
      "9720batch [58:24,  2.99batch/s]"
     ]
    },
    {
     "name": "stdout",
     "output_type": "stream",
     "text": [
      "---------------------------------\n",
      "| batch_size        | 2048      |\n",
      "| bc/               |           |\n",
      "|    batch          | 9719      |\n",
      "|    ent_loss       | -0.000646 |\n",
      "|    entropy        | 0.646     |\n",
      "|    epoch          | 972       |\n",
      "|    l2_loss        | 0         |\n",
      "|    l2_norm        | 4.88e+03  |\n",
      "|    loss           | 0.662     |\n",
      "|    neglogp        | 0.662     |\n",
      "|    prob_true_act  | 0.734     |\n",
      "|    samples_so_far | 19906560  |\n",
      "---------------------------------\n"
     ]
    },
    {
     "name": "stderr",
     "output_type": "stream",
     "text": [
      "9730batch [58:28,  2.97batch/s]"
     ]
    },
    {
     "name": "stdout",
     "output_type": "stream",
     "text": [
      "---------------------------------\n",
      "| batch_size        | 2048      |\n",
      "| bc/               |           |\n",
      "|    batch          | 9729      |\n",
      "|    ent_loss       | -0.000646 |\n",
      "|    entropy        | 0.646     |\n",
      "|    epoch          | 973       |\n",
      "|    l2_loss        | 0         |\n",
      "|    l2_norm        | 4.88e+03  |\n",
      "|    loss           | 0.719     |\n",
      "|    neglogp        | 0.72      |\n",
      "|    prob_true_act  | 0.719     |\n",
      "|    samples_so_far | 19927040  |\n",
      "---------------------------------\n"
     ]
    },
    {
     "name": "stderr",
     "output_type": "stream",
     "text": [
      "9740batch [58:32,  2.98batch/s]"
     ]
    },
    {
     "name": "stdout",
     "output_type": "stream",
     "text": [
      "---------------------------------\n",
      "| batch_size        | 2048      |\n",
      "| bc/               |           |\n",
      "|    batch          | 9739      |\n",
      "|    ent_loss       | -0.000646 |\n",
      "|    entropy        | 0.646     |\n",
      "|    epoch          | 974       |\n",
      "|    l2_loss        | 0         |\n",
      "|    l2_norm        | 4.88e+03  |\n",
      "|    loss           | 0.66      |\n",
      "|    neglogp        | 0.66      |\n",
      "|    prob_true_act  | 0.731     |\n",
      "|    samples_so_far | 19947520  |\n",
      "---------------------------------\n"
     ]
    },
    {
     "name": "stderr",
     "output_type": "stream",
     "text": [
      "9750batch [58:35,  2.62batch/s]"
     ]
    },
    {
     "name": "stdout",
     "output_type": "stream",
     "text": [
      "---------------------------------\n",
      "| batch_size        | 2048      |\n",
      "| bc/               |           |\n",
      "|    batch          | 9749      |\n",
      "|    ent_loss       | -0.000647 |\n",
      "|    entropy        | 0.647     |\n",
      "|    epoch          | 975       |\n",
      "|    l2_loss        | 0         |\n",
      "|    l2_norm        | 4.88e+03  |\n",
      "|    loss           | 0.625     |\n",
      "|    neglogp        | 0.625     |\n",
      "|    prob_true_act  | 0.727     |\n",
      "|    samples_so_far | 19968000  |\n",
      "---------------------------------\n"
     ]
    },
    {
     "name": "stderr",
     "output_type": "stream",
     "text": [
      "9760batch [58:39,  2.93batch/s]"
     ]
    },
    {
     "name": "stdout",
     "output_type": "stream",
     "text": [
      "---------------------------------\n",
      "| batch_size        | 2048      |\n",
      "| bc/               |           |\n",
      "|    batch          | 9759      |\n",
      "|    ent_loss       | -0.000647 |\n",
      "|    entropy        | 0.647     |\n",
      "|    epoch          | 976       |\n",
      "|    l2_loss        | 0         |\n",
      "|    l2_norm        | 4.88e+03  |\n",
      "|    loss           | 0.627     |\n",
      "|    neglogp        | 0.628     |\n",
      "|    prob_true_act  | 0.733     |\n",
      "|    samples_so_far | 19988480  |\n",
      "---------------------------------\n"
     ]
    },
    {
     "name": "stderr",
     "output_type": "stream",
     "text": [
      "9770batch [58:43,  2.95batch/s]"
     ]
    },
    {
     "name": "stdout",
     "output_type": "stream",
     "text": [
      "---------------------------------\n",
      "| batch_size        | 2048      |\n",
      "| bc/               |           |\n",
      "|    batch          | 9769      |\n",
      "|    ent_loss       | -0.000647 |\n",
      "|    entropy        | 0.647     |\n",
      "|    epoch          | 977       |\n",
      "|    l2_loss        | 0         |\n",
      "|    l2_norm        | 4.88e+03  |\n",
      "|    loss           | 0.627     |\n",
      "|    neglogp        | 0.628     |\n",
      "|    prob_true_act  | 0.736     |\n",
      "|    samples_so_far | 20008960  |\n",
      "---------------------------------\n"
     ]
    },
    {
     "name": "stderr",
     "output_type": "stream",
     "text": [
      "9780batch [58:46,  2.97batch/s]"
     ]
    },
    {
     "name": "stdout",
     "output_type": "stream",
     "text": [
      "---------------------------------\n",
      "| batch_size        | 2048      |\n",
      "| bc/               |           |\n",
      "|    batch          | 9779      |\n",
      "|    ent_loss       | -0.000647 |\n",
      "|    entropy        | 0.647     |\n",
      "|    epoch          | 978       |\n",
      "|    l2_loss        | 0         |\n",
      "|    l2_norm        | 4.88e+03  |\n",
      "|    loss           | 0.621     |\n",
      "|    neglogp        | 0.622     |\n",
      "|    prob_true_act  | 0.728     |\n",
      "|    samples_so_far | 20029440  |\n",
      "---------------------------------\n"
     ]
    },
    {
     "name": "stderr",
     "output_type": "stream",
     "text": [
      "9790batch [58:50,  2.95batch/s]"
     ]
    },
    {
     "name": "stdout",
     "output_type": "stream",
     "text": [
      "---------------------------------\n",
      "| batch_size        | 2048      |\n",
      "| bc/               |           |\n",
      "|    batch          | 9789      |\n",
      "|    ent_loss       | -0.000646 |\n",
      "|    entropy        | 0.646     |\n",
      "|    epoch          | 979       |\n",
      "|    l2_loss        | 0         |\n",
      "|    l2_norm        | 4.88e+03  |\n",
      "|    loss           | 0.605     |\n",
      "|    neglogp        | 0.605     |\n",
      "|    prob_true_act  | 0.742     |\n",
      "|    samples_so_far | 20049920  |\n",
      "---------------------------------\n"
     ]
    },
    {
     "name": "stderr",
     "output_type": "stream",
     "text": [
      "9800batch [58:53,  2.84batch/s]"
     ]
    },
    {
     "name": "stdout",
     "output_type": "stream",
     "text": [
      "---------------------------------\n",
      "| batch_size        | 2048      |\n",
      "| bc/               |           |\n",
      "|    batch          | 9799      |\n",
      "|    ent_loss       | -0.000646 |\n",
      "|    entropy        | 0.646     |\n",
      "|    epoch          | 980       |\n",
      "|    l2_loss        | 0         |\n",
      "|    l2_norm        | 4.88e+03  |\n",
      "|    loss           | 0.68      |\n",
      "|    neglogp        | 0.68      |\n",
      "|    prob_true_act  | 0.736     |\n",
      "|    samples_so_far | 20070400  |\n",
      "---------------------------------\n"
     ]
    },
    {
     "name": "stderr",
     "output_type": "stream",
     "text": [
      "9810batch [58:57,  2.94batch/s]"
     ]
    },
    {
     "name": "stdout",
     "output_type": "stream",
     "text": [
      "---------------------------------\n",
      "| batch_size        | 2048      |\n",
      "| bc/               |           |\n",
      "|    batch          | 9809      |\n",
      "|    ent_loss       | -0.000646 |\n",
      "|    entropy        | 0.646     |\n",
      "|    epoch          | 981       |\n",
      "|    l2_loss        | 0         |\n",
      "|    l2_norm        | 4.88e+03  |\n",
      "|    loss           | 0.645     |\n",
      "|    neglogp        | 0.646     |\n",
      "|    prob_true_act  | 0.724     |\n",
      "|    samples_so_far | 20090880  |\n",
      "---------------------------------\n"
     ]
    },
    {
     "name": "stderr",
     "output_type": "stream",
     "text": [
      "9820batch [59:00,  3.00batch/s]"
     ]
    },
    {
     "name": "stdout",
     "output_type": "stream",
     "text": [
      "---------------------------------\n",
      "| batch_size        | 2048      |\n",
      "| bc/               |           |\n",
      "|    batch          | 9819      |\n",
      "|    ent_loss       | -0.000646 |\n",
      "|    entropy        | 0.646     |\n",
      "|    epoch          | 982       |\n",
      "|    l2_loss        | 0         |\n",
      "|    l2_norm        | 4.88e+03  |\n",
      "|    loss           | 0.679     |\n",
      "|    neglogp        | 0.68      |\n",
      "|    prob_true_act  | 0.729     |\n",
      "|    samples_so_far | 20111360  |\n",
      "---------------------------------\n"
     ]
    },
    {
     "name": "stderr",
     "output_type": "stream",
     "text": [
      "9830batch [59:04,  2.94batch/s]"
     ]
    },
    {
     "name": "stdout",
     "output_type": "stream",
     "text": [
      "---------------------------------\n",
      "| batch_size        | 2048      |\n",
      "| bc/               |           |\n",
      "|    batch          | 9829      |\n",
      "|    ent_loss       | -0.000647 |\n",
      "|    entropy        | 0.647     |\n",
      "|    epoch          | 983       |\n",
      "|    l2_loss        | 0         |\n",
      "|    l2_norm        | 4.88e+03  |\n",
      "|    loss           | 0.65      |\n",
      "|    neglogp        | 0.651     |\n",
      "|    prob_true_act  | 0.727     |\n",
      "|    samples_so_far | 20131840  |\n",
      "---------------------------------\n"
     ]
    },
    {
     "name": "stderr",
     "output_type": "stream",
     "text": [
      "9840batch [59:07,  2.96batch/s]"
     ]
    },
    {
     "name": "stdout",
     "output_type": "stream",
     "text": [
      "---------------------------------\n",
      "| batch_size        | 2048      |\n",
      "| bc/               |           |\n",
      "|    batch          | 9839      |\n",
      "|    ent_loss       | -0.000647 |\n",
      "|    entropy        | 0.647     |\n",
      "|    epoch          | 984       |\n",
      "|    l2_loss        | 0         |\n",
      "|    l2_norm        | 4.88e+03  |\n",
      "|    loss           | 0.639     |\n",
      "|    neglogp        | 0.64      |\n",
      "|    prob_true_act  | 0.742     |\n",
      "|    samples_so_far | 20152320  |\n",
      "---------------------------------\n"
     ]
    },
    {
     "name": "stderr",
     "output_type": "stream",
     "text": [
      "9850batch [59:11,  2.95batch/s]"
     ]
    },
    {
     "name": "stdout",
     "output_type": "stream",
     "text": [
      "---------------------------------\n",
      "| batch_size        | 2048      |\n",
      "| bc/               |           |\n",
      "|    batch          | 9849      |\n",
      "|    ent_loss       | -0.000647 |\n",
      "|    entropy        | 0.647     |\n",
      "|    epoch          | 985       |\n",
      "|    l2_loss        | 0         |\n",
      "|    l2_norm        | 4.88e+03  |\n",
      "|    loss           | 0.592     |\n",
      "|    neglogp        | 0.593     |\n",
      "|    prob_true_act  | 0.737     |\n",
      "|    samples_so_far | 20172800  |\n",
      "---------------------------------\n"
     ]
    },
    {
     "name": "stderr",
     "output_type": "stream",
     "text": [
      "9860batch [59:14,  3.00batch/s]"
     ]
    },
    {
     "name": "stdout",
     "output_type": "stream",
     "text": [
      "---------------------------------\n",
      "| batch_size        | 2048      |\n",
      "| bc/               |           |\n",
      "|    batch          | 9859      |\n",
      "|    ent_loss       | -0.000647 |\n",
      "|    entropy        | 0.647     |\n",
      "|    epoch          | 986       |\n",
      "|    l2_loss        | 0         |\n",
      "|    l2_norm        | 4.88e+03  |\n",
      "|    loss           | 0.593     |\n",
      "|    neglogp        | 0.593     |\n",
      "|    prob_true_act  | 0.745     |\n",
      "|    samples_so_far | 20193280  |\n",
      "---------------------------------\n"
     ]
    },
    {
     "name": "stderr",
     "output_type": "stream",
     "text": [
      "9870batch [59:18,  2.93batch/s]"
     ]
    },
    {
     "name": "stdout",
     "output_type": "stream",
     "text": [
      "---------------------------------\n",
      "| batch_size        | 2048      |\n",
      "| bc/               |           |\n",
      "|    batch          | 9869      |\n",
      "|    ent_loss       | -0.000647 |\n",
      "|    entropy        | 0.647     |\n",
      "|    epoch          | 987       |\n",
      "|    l2_loss        | 0         |\n",
      "|    l2_norm        | 4.88e+03  |\n",
      "|    loss           | 0.611     |\n",
      "|    neglogp        | 0.612     |\n",
      "|    prob_true_act  | 0.741     |\n",
      "|    samples_so_far | 20213760  |\n",
      "---------------------------------\n"
     ]
    },
    {
     "name": "stderr",
     "output_type": "stream",
     "text": [
      "9880batch [59:22,  2.88batch/s]"
     ]
    },
    {
     "name": "stdout",
     "output_type": "stream",
     "text": [
      "---------------------------------\n",
      "| batch_size        | 2048      |\n",
      "| bc/               |           |\n",
      "|    batch          | 9879      |\n",
      "|    ent_loss       | -0.000647 |\n",
      "|    entropy        | 0.647     |\n",
      "|    epoch          | 988       |\n",
      "|    l2_loss        | 0         |\n",
      "|    l2_norm        | 4.88e+03  |\n",
      "|    loss           | 0.679     |\n",
      "|    neglogp        | 0.68      |\n",
      "|    prob_true_act  | 0.726     |\n",
      "|    samples_so_far | 20234240  |\n",
      "---------------------------------\n"
     ]
    },
    {
     "name": "stderr",
     "output_type": "stream",
     "text": [
      "9890batch [59:25,  2.99batch/s]"
     ]
    },
    {
     "name": "stdout",
     "output_type": "stream",
     "text": [
      "---------------------------------\n",
      "| batch_size        | 2048      |\n",
      "| bc/               |           |\n",
      "|    batch          | 9889      |\n",
      "|    ent_loss       | -0.000647 |\n",
      "|    entropy        | 0.647     |\n",
      "|    epoch          | 989       |\n",
      "|    l2_loss        | 0         |\n",
      "|    l2_norm        | 4.88e+03  |\n",
      "|    loss           | 0.65      |\n",
      "|    neglogp        | 0.651     |\n",
      "|    prob_true_act  | 0.723     |\n",
      "|    samples_so_far | 20254720  |\n",
      "---------------------------------\n"
     ]
    },
    {
     "name": "stderr",
     "output_type": "stream",
     "text": [
      "9900batch [59:29,  2.93batch/s]"
     ]
    },
    {
     "name": "stdout",
     "output_type": "stream",
     "text": [
      "---------------------------------\n",
      "| batch_size        | 2048      |\n",
      "| bc/               |           |\n",
      "|    batch          | 9899      |\n",
      "|    ent_loss       | -0.000647 |\n",
      "|    entropy        | 0.647     |\n",
      "|    epoch          | 990       |\n",
      "|    l2_loss        | 0         |\n",
      "|    l2_norm        | 4.88e+03  |\n",
      "|    loss           | 0.602     |\n",
      "|    neglogp        | 0.603     |\n",
      "|    prob_true_act  | 0.737     |\n",
      "|    samples_so_far | 20275200  |\n",
      "---------------------------------\n"
     ]
    },
    {
     "name": "stderr",
     "output_type": "stream",
     "text": [
      "9910batch [59:32,  3.01batch/s]"
     ]
    },
    {
     "name": "stdout",
     "output_type": "stream",
     "text": [
      "---------------------------------\n",
      "| batch_size        | 2048      |\n",
      "| bc/               |           |\n",
      "|    batch          | 9909      |\n",
      "|    ent_loss       | -0.000647 |\n",
      "|    entropy        | 0.647     |\n",
      "|    epoch          | 991       |\n",
      "|    l2_loss        | 0         |\n",
      "|    l2_norm        | 4.88e+03  |\n",
      "|    loss           | 0.668     |\n",
      "|    neglogp        | 0.668     |\n",
      "|    prob_true_act  | 0.718     |\n",
      "|    samples_so_far | 20295680  |\n",
      "---------------------------------\n"
     ]
    },
    {
     "name": "stderr",
     "output_type": "stream",
     "text": [
      "9920batch [59:36,  3.00batch/s]"
     ]
    },
    {
     "name": "stdout",
     "output_type": "stream",
     "text": [
      "---------------------------------\n",
      "| batch_size        | 2048      |\n",
      "| bc/               |           |\n",
      "|    batch          | 9919      |\n",
      "|    ent_loss       | -0.000647 |\n",
      "|    entropy        | 0.647     |\n",
      "|    epoch          | 992       |\n",
      "|    l2_loss        | 0         |\n",
      "|    l2_norm        | 4.88e+03  |\n",
      "|    loss           | 0.689     |\n",
      "|    neglogp        | 0.69      |\n",
      "|    prob_true_act  | 0.726     |\n",
      "|    samples_so_far | 20316160  |\n",
      "---------------------------------\n"
     ]
    },
    {
     "name": "stderr",
     "output_type": "stream",
     "text": [
      "9930batch [59:39,  2.99batch/s]"
     ]
    },
    {
     "name": "stdout",
     "output_type": "stream",
     "text": [
      "---------------------------------\n",
      "| batch_size        | 2048      |\n",
      "| bc/               |           |\n",
      "|    batch          | 9929      |\n",
      "|    ent_loss       | -0.000647 |\n",
      "|    entropy        | 0.647     |\n",
      "|    epoch          | 993       |\n",
      "|    l2_loss        | 0         |\n",
      "|    l2_norm        | 4.88e+03  |\n",
      "|    loss           | 0.68      |\n",
      "|    neglogp        | 0.68      |\n",
      "|    prob_true_act  | 0.719     |\n",
      "|    samples_so_far | 20336640  |\n",
      "---------------------------------\n"
     ]
    },
    {
     "name": "stderr",
     "output_type": "stream",
     "text": [
      "9940batch [59:43,  2.96batch/s]"
     ]
    },
    {
     "name": "stdout",
     "output_type": "stream",
     "text": [
      "---------------------------------\n",
      "| batch_size        | 2048      |\n",
      "| bc/               |           |\n",
      "|    batch          | 9939      |\n",
      "|    ent_loss       | -0.000647 |\n",
      "|    entropy        | 0.647     |\n",
      "|    epoch          | 994       |\n",
      "|    l2_loss        | 0         |\n",
      "|    l2_norm        | 4.88e+03  |\n",
      "|    loss           | 0.667     |\n",
      "|    neglogp        | 0.667     |\n",
      "|    prob_true_act  | 0.735     |\n",
      "|    samples_so_far | 20357120  |\n",
      "---------------------------------\n"
     ]
    },
    {
     "name": "stderr",
     "output_type": "stream",
     "text": [
      "9950batch [59:46,  2.96batch/s]"
     ]
    },
    {
     "name": "stdout",
     "output_type": "stream",
     "text": [
      "---------------------------------\n",
      "| batch_size        | 2048      |\n",
      "| bc/               |           |\n",
      "|    batch          | 9949      |\n",
      "|    ent_loss       | -0.000647 |\n",
      "|    entropy        | 0.647     |\n",
      "|    epoch          | 995       |\n",
      "|    l2_loss        | 0         |\n",
      "|    l2_norm        | 4.88e+03  |\n",
      "|    loss           | 0.65      |\n",
      "|    neglogp        | 0.651     |\n",
      "|    prob_true_act  | 0.728     |\n",
      "|    samples_so_far | 20377600  |\n",
      "---------------------------------\n"
     ]
    },
    {
     "name": "stderr",
     "output_type": "stream",
     "text": [
      "9960batch [59:50,  2.99batch/s]"
     ]
    },
    {
     "name": "stdout",
     "output_type": "stream",
     "text": [
      "---------------------------------\n",
      "| batch_size        | 2048      |\n",
      "| bc/               |           |\n",
      "|    batch          | 9959      |\n",
      "|    ent_loss       | -0.000647 |\n",
      "|    entropy        | 0.647     |\n",
      "|    epoch          | 996       |\n",
      "|    l2_loss        | 0         |\n",
      "|    l2_norm        | 4.88e+03  |\n",
      "|    loss           | 0.667     |\n",
      "|    neglogp        | 0.668     |\n",
      "|    prob_true_act  | 0.731     |\n",
      "|    samples_so_far | 20398080  |\n",
      "---------------------------------\n"
     ]
    },
    {
     "name": "stderr",
     "output_type": "stream",
     "text": [
      "9970batch [59:53,  2.99batch/s]"
     ]
    },
    {
     "name": "stdout",
     "output_type": "stream",
     "text": [
      "---------------------------------\n",
      "| batch_size        | 2048      |\n",
      "| bc/               |           |\n",
      "|    batch          | 9969      |\n",
      "|    ent_loss       | -0.000647 |\n",
      "|    entropy        | 0.647     |\n",
      "|    epoch          | 997       |\n",
      "|    l2_loss        | 0         |\n",
      "|    l2_norm        | 4.88e+03  |\n",
      "|    loss           | 0.613     |\n",
      "|    neglogp        | 0.613     |\n",
      "|    prob_true_act  | 0.739     |\n",
      "|    samples_so_far | 20418560  |\n",
      "---------------------------------\n"
     ]
    },
    {
     "name": "stderr",
     "output_type": "stream",
     "text": [
      "9980batch [59:57,  2.99batch/s]"
     ]
    },
    {
     "name": "stdout",
     "output_type": "stream",
     "text": [
      "---------------------------------\n",
      "| batch_size        | 2048      |\n",
      "| bc/               |           |\n",
      "|    batch          | 9979      |\n",
      "|    ent_loss       | -0.000647 |\n",
      "|    entropy        | 0.647     |\n",
      "|    epoch          | 998       |\n",
      "|    l2_loss        | 0         |\n",
      "|    l2_norm        | 4.88e+03  |\n",
      "|    loss           | 0.665     |\n",
      "|    neglogp        | 0.666     |\n",
      "|    prob_true_act  | 0.726     |\n",
      "|    samples_so_far | 20439040  |\n",
      "---------------------------------\n"
     ]
    },
    {
     "name": "stderr",
     "output_type": "stream",
     "text": [
      "9990batch [1:00:00,  2.96batch/s]"
     ]
    },
    {
     "name": "stdout",
     "output_type": "stream",
     "text": [
      "---------------------------------\n",
      "| batch_size        | 2048      |\n",
      "| bc/               |           |\n",
      "|    batch          | 9989      |\n",
      "|    ent_loss       | -0.000647 |\n",
      "|    entropy        | 0.647     |\n",
      "|    epoch          | 999       |\n",
      "|    l2_loss        | 0         |\n",
      "|    l2_norm        | 4.88e+03  |\n",
      "|    loss           | 0.678     |\n",
      "|    neglogp        | 0.679     |\n",
      "|    prob_true_act  | 0.729     |\n",
      "|    samples_so_far | 20459520  |\n",
      "---------------------------------\n"
     ]
    },
    {
     "name": "stderr",
     "output_type": "stream",
     "text": [
      "10000batch [1:00:04,  3.00batch/s]"
     ]
    },
    {
     "name": "stdout",
     "output_type": "stream",
     "text": [
      "---------------------------------\n",
      "| batch_size        | 2048      |\n",
      "| bc/               |           |\n",
      "|    batch          | 9999      |\n",
      "|    ent_loss       | -0.000647 |\n",
      "|    entropy        | 0.647     |\n",
      "|    epoch          | 1000      |\n",
      "|    l2_loss        | 0         |\n",
      "|    l2_norm        | 4.88e+03  |\n",
      "|    loss           | 0.659     |\n",
      "|    neglogp        | 0.659     |\n",
      "|    prob_true_act  | 0.736     |\n",
      "|    samples_so_far | 20480000  |\n",
      "---------------------------------\n"
     ]
    },
    {
     "name": "stderr",
     "output_type": "stream",
     "text": [
      "10000batch [1:00:04,  2.77batch/s]\n"
     ]
    },
    {
     "name": "stdout",
     "output_type": "stream",
     "text": [
      "0\n",
      "19\n",
      "19\n",
      "13\n",
      "18\n",
      "8\n",
      "15\n",
      "18\n",
      "8\n",
      "17\n",
      "12\n",
      "21\n",
      "3\n",
      "1\n",
      "16\n",
      "6\n",
      "18\n",
      "16\n",
      "20\n",
      "Reward after training: 727.5918171882629\n"
     ]
    }
   ],
   "source": [
    "bc_trainer.train(n_epochs=1000, log_interval=1)\n",
    "reward_after_training, _ = evaluate_policy(bc_trainer.policy, venv1, 10)\n",
    "print(f\"Reward after training: {reward_after_training}\")"
   ]
  },
  {
   "cell_type": "code",
   "execution_count": 13,
   "metadata": {},
   "outputs": [
    {
     "name": "stdout",
     "output_type": "stream",
     "text": [
      "Reward before training: 431.148552107811\n",
      "Reward after training: 727.5918171882629\n"
     ]
    }
   ],
   "source": [
    "print(f\"Reward before training: {reward_before_training}\")\n",
    "print(f\"Reward after training: {reward_after_training}\")"
   ]
  },
  {
   "cell_type": "code",
   "execution_count": 14,
   "metadata": {},
   "outputs": [
    {
     "name": "stdout",
     "output_type": "stream",
     "text": [
      "['bc/ent_loss', 'bc/neglogp', 'bc/epoch', 'bc/loss', 'bc/samples_so_far', 'bc/entropy', 'bc/prob_true_act', 'bc/l2_loss', 'batch_size', 'bc/l2_norm', 'bc/batch']\n",
      "(1000, 11)\n"
     ]
    }
   ],
   "source": [
    "# read csv\n",
    "with open('./log/progress.csv', 'r') as f:\n",
    "    \n",
    "    # read header\n",
    "    header = f.readline().strip().split(',')\n",
    "    print(header)\n",
    "    \n",
    "    # read data\n",
    "    data = []\n",
    "    for line in f:\n",
    "        data.append(list(map(float, line.strip().split(','))))\n",
    "    data = np.array(data)\n",
    "    print(data.shape)"
   ]
  },
  {
   "cell_type": "code",
   "execution_count": 15,
   "metadata": {},
   "outputs": [
    {
     "data": {
      "image/png": "[encoded data removed]",
      "text/plain": [
       "<Figure size 1000x1000 with 1 Axes>"
      ]
     },
     "metadata": {},
     "output_type": "display_data"
    },
    {
     "data": {
      "text/plain": [
       "<Figure size 640x480 with 0 Axes>"
      ]
     },
     "metadata": {},
     "output_type": "display_data"
    }
   ],
   "source": [
    "import matplotlib.pyplot as plt\n",
    "\n",
    "y_data = data[:, 5]\n",
    "x_data = range(0, len(y_data)*2, 2)\n",
    "plt.figure(figsize=(10, 10))\n",
    "plt.subplot(2, 2, 1)\n",
    "plt.plot(data[:, 3])\n",
    "# plt.plot(x_data, y_data)\n",
    "plt.title(\"training bc/loss\")\n",
    "plt.show()\n",
    "\n",
    "# グラフを保存\n",
    "plt.savefig('bc_loss.png')\n"
   ]
  },
  {
   "cell_type": "code",
   "execution_count": 16,
   "metadata": {},
   "outputs": [],
   "source": [
    "import os\n",
    "\n",
    "new_name = '24-02-08_e200_cnn_nono_S1_direct_1'\n",
    "# 新しいファイル名\n",
    "new_csv_filename = './log/progress_' + new_name + '.csv'\n",
    "new_txt_filename = './log/log_' + new_name + '.txt'\n",
    "\n",
    "# 旧ファイル名から新ファイル名への変更\n",
    "os.rename('./log/progress.csv', new_csv_filename)\n",
    "os.rename('./log/log.txt', new_txt_filename)\n",
    "\n",
    "# グラフを保存\n",
    "# plt.savefig('./log/bc_loss_' + new_name + '.png')\n",
    "\n",
    "from imitation.util import util\n",
    "util.save_policy(bc_trainer.policy, './model/bc_policy_' + new_name)\n",
    "bc_trainer.policy.save('./model/bc_policy' + new_name + '.zip')\n"
   ]
  },
  {
   "cell_type": "code",
   "execution_count": 50,
   "metadata": {},
   "outputs": [
    {
     "data": {
      "text/plain": [
       "<Figure size 640x480 with 0 Axes>"
      ]
     },
     "metadata": {},
     "output_type": "display_data"
    }
   ],
   "source": [
    "# グラフを保存\n",
    "plt.savefig('./log/bc_loss_' + new_name + '.png')"
   ]
  },
  {
   "cell_type": "code",
   "execution_count": null,
   "metadata": {},
   "outputs": [],
   "source": []
  }
 ],
 "metadata": {
  "kernelspec": {
   "display_name": "env38",
   "language": "python",
   "name": "python3"
  },
  "language_info": {
   "codemirror_mode": {
    "name": "ipython",
    "version": 3
   },
   "file_extension": ".py",
   "mimetype": "text/x-python",
   "name": "python",
   "nbconvert_exporter": "python",
   "pygments_lexer": "ipython3",
   "version": "3.8.18"
  }
 },
 "nbformat": 4,
 "nbformat_minor": 2
}
