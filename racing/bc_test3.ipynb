{
 "cells": [
  {
   "cell_type": "code",
   "execution_count": 1,
   "metadata": {},
   "outputs": [
    {
     "name": "stderr",
     "output_type": "stream",
     "text": [
      "/home/anubis/miniconda3/envs/env38/lib/python3.8/site-packages/tqdm/auto.py:21: TqdmWarning: IProgress not found. Please update jupyter and ipywidgets. See https://ipywidgets.readthedocs.io/en/stable/user_install.html\n",
      "  from .autonotebook import tqdm as notebook_tqdm\n"
     ]
    }
   ],
   "source": [
    "import numpy as np\n",
    "import gymnasium\n",
    "from gymnasium.wrappers import TimeLimit\n",
    "from imitation.data import rollout\n",
    "from imitation.policies.serialize import load_policy\n",
    "from imitation.util.util import make_vec_env\n",
    "from imitation.data.wrappers import RolloutInfoWrapper\n",
    "from stable_baselines3.common.vec_env import VecVideoRecorder, DummyVecEnv\n",
    "from stable_baselines3.common.policies import ActorCriticCnnPolicy\n",
    "\n",
    "from gymnasium.spaces import Box\n",
    "from gymnasium.envs.registration import register\n",
    "import racing_gym\n",
    "import os\n",
    "import json\n",
    "from PIL import Image\n",
    "import torch\n",
    "import time\n"
   ]
  },
  {
   "cell_type": "code",
   "execution_count": 2,
   "metadata": {},
   "outputs": [],
   "source": [
    "import os\n",
    "import json\n",
    "import numpy as np\n",
    "from PIL import Image\n",
    "\n",
    "def load_expert_data_directory(parent_directory):\n",
    "    # parent_directory内のすべてのディレクトリを取得\n",
    "    subdirectories = [os.path.join(parent_directory, d) for d in os.listdir(parent_directory) if os.path.isdir(os.path.join(parent_directory, d))]\n",
    "    \n",
    "    all_expert_data = []  # すべてのディレクトリのexpert_dataを格納するリスト\n",
    "\n",
    "    for data_path in subdirectories:\n",
    "        # ディレクトリごとにexpert_dataの初期化\n",
    "        expert_data = {'images': [], 'actions': []}\n",
    "\n",
    "        # 画像ファイルに対応するJSONファイルを取得\n",
    "        json_file_list = [json_file for json_file in os.listdir(data_path) if json_file.startswith('record_') and json_file.endswith('.json')]\n",
    "\n",
    "        for json_file in json_file_list:\n",
    "            # レコードのファイルパスを構築\n",
    "            json_path = os.path.join(data_path, json_file)\n",
    "\n",
    "            # レコードの読み込み\n",
    "            try:\n",
    "                with open(json_path, 'r') as json_file:\n",
    "                    record_data = json.load(json_file)\n",
    "            except FileNotFoundError:\n",
    "                print(f\"エラー：{json_path} でJSONファイルが見つかりませんでした。\")\n",
    "                continue\n",
    "            except json.JSONDecodeError:\n",
    "                print(f\"エラー：{json_path} のJSONファイルのデコードに失敗しました。\")\n",
    "                continue\n",
    "\n",
    "            # 画像データの読み込み\n",
    "            image_file = record_data.get('cam/image_array', '')  # 画像ファイル名をJSONから取得\n",
    "            image_path = os.path.join(data_path, image_file)\n",
    "            try:\n",
    "                image_data = np.array(Image.open(image_path))\n",
    "            except FileNotFoundError:\n",
    "                print(f\"エラー：{image_path} で画像ファイルが見つかりませんでした。\")\n",
    "                continue\n",
    "\n",
    "            # expert_dataに追加\n",
    "            expert_data['images'].append(image_data)\n",
    "            expert_data['actions'].append([record_data.get('user/angle', 0), record_data.get('user/throttle', 0)])\n",
    "        \n",
    "        # すべてのディレクトリのexpert_dataをリストに追加\n",
    "        all_expert_data.append(expert_data)\n",
    "\n",
    "\n",
    "    return all_expert_data\n"
   ]
  },
  {
   "cell_type": "code",
   "execution_count": 36,
   "metadata": {},
   "outputs": [],
   "source": [
    "all_expert_data = load_expert_data_directory('../../autorace/data/S1/')"
   ]
  },
  {
   "cell_type": "code",
   "execution_count": 56,
   "metadata": {},
   "outputs": [
    {
     "name": "stdout",
     "output_type": "stream",
     "text": [
      "dict_keys(['images', 'actions'])\n",
      "224\n",
      "793\n",
      "(49621, 3, 224, 224)\n",
      "(49621,)\n"
     ]
    }
   ],
   "source": [
    "\n",
    "print(all_expert_data[0].keys())\n",
    "x, y, z = all_expert_data[0]['images'][0].shape\n",
    "print(x)\n",
    "print(len(all_expert_data[0]['images']))\n",
    "\n",
    "print(transitions.obs.shape)\n",
    "print(transitions.dones.shape)\n"
   ]
  },
  {
   "cell_type": "code",
   "execution_count": 62,
   "metadata": {},
   "outputs": [],
   "source": [
    "from imitation.data.types import Transitions\n",
    "\n",
    "def convert_to_transitions(expert_data):\n",
    "    obs_array = []\n",
    "    next_obs_array = []\n",
    "    action_array = []\n",
    "    done_array = []\n",
    "    info_array = []\n",
    "    # expert_dataの画像と行動をTrajectoryに変換\n",
    "    for data in expert_data:\n",
    "        data_size = len(data['images'])\n",
    "        obs_array+=data['images']\n",
    "        n_obs = data['images'].copy()\n",
    "        n_obs.pop(0)\n",
    "        x, y, z = data['images'][-1].shape\n",
    "        n_obs.append(np.zeros((x, y, z), dtype=np.uint8))\n",
    "        next_obs_array+=(n_obs)\n",
    "        action_array+=data['actions']\n",
    "        done_array+=[False]*(data_size-1)+[True]\n",
    "        info_array+=[{}]*data_size\n",
    "    transitions=Transitions( \n",
    "        obs=np.array(obs_array),\n",
    "        acts=np.array(action_array),\n",
    "        next_obs=np.array(next_obs_array),\n",
    "        dones=np.array(done_array),\n",
    "        infos=np.array(info_array))\n",
    "\n",
    "\n",
    "    return transitions"
   ]
  },
  {
   "cell_type": "code",
   "execution_count": 63,
   "metadata": {},
   "outputs": [
    {
     "name": "stdout",
     "output_type": "stream",
     "text": [
      "Transitions(obs=array([[[[158, 103,  73],\n",
      "         [155, 100,  70],\n",
      "         [154,  99,  69],\n",
      "         ...,\n",
      "         [143, 141, 154],\n",
      "         [137, 135, 148],\n",
      "         [128, 126, 139]],\n",
      "\n",
      "        [[156, 101,  71],\n",
      "         [156, 101,  71],\n",
      "         [156, 101,  71],\n",
      "         ...,\n",
      "         [139, 137, 150],\n",
      "         [135, 133, 146],\n",
      "         [127, 125, 138]],\n",
      "\n",
      "        [[154,  99,  69],\n",
      "         [156, 101,  71],\n",
      "         [158, 103,  73],\n",
      "         ...,\n",
      "         [136, 134, 147],\n",
      "         [133, 131, 144],\n",
      "         [127, 125, 138]],\n",
      "\n",
      "        ...,\n",
      "\n",
      "        [[106,  55,  34],\n",
      "         [109,  58,  37],\n",
      "         [112,  61,  40],\n",
      "         ...,\n",
      "         [113, 116, 135],\n",
      "         [112, 115, 134],\n",
      "         [112, 115, 134]],\n",
      "\n",
      "        [[108,  57,  36],\n",
      "         [111,  60,  39],\n",
      "         [113,  62,  41],\n",
      "         ...,\n",
      "         [113, 116, 135],\n",
      "         [112, 115, 134],\n",
      "         [114, 117, 136]],\n",
      "\n",
      "        [[111,  60,  39],\n",
      "         [113,  62,  41],\n",
      "         [115,  64,  43],\n",
      "         ...,\n",
      "         [113, 116, 135],\n",
      "         [112, 115, 134],\n",
      "         [114, 117, 136]]],\n",
      "\n",
      "\n",
      "       [[[169, 110,  78],\n",
      "         [170, 111,  79],\n",
      "         [171, 112,  80],\n",
      "         ...,\n",
      "         [138, 123, 126],\n",
      "         [145, 130, 133],\n",
      "         [150, 135, 138]],\n",
      "\n",
      "        [[170, 111,  79],\n",
      "         [171, 112,  80],\n",
      "         [172, 113,  81],\n",
      "         ...,\n",
      "         [135, 120, 123],\n",
      "         [140, 125, 128],\n",
      "         [143, 128, 131]],\n",
      "\n",
      "        [[171, 112,  80],\n",
      "         [171, 112,  80],\n",
      "         [173, 114,  82],\n",
      "         ...,\n",
      "         [134, 119, 122],\n",
      "         [137, 122, 125],\n",
      "         [138, 123, 126]],\n",
      "\n",
      "        ...,\n",
      "\n",
      "        [[ 86,  50,  38],\n",
      "         [ 84,  48,  36],\n",
      "         [ 83,  47,  35],\n",
      "         ...,\n",
      "         [124, 125, 146],\n",
      "         [129, 130, 151],\n",
      "         [122, 123, 144]],\n",
      "\n",
      "        [[ 84,  48,  36],\n",
      "         [ 84,  48,  36],\n",
      "         [ 83,  47,  35],\n",
      "         ...,\n",
      "         [121, 122, 143],\n",
      "         [125, 126, 147],\n",
      "         [116, 117, 138]],\n",
      "\n",
      "        [[ 83,  46,  37],\n",
      "         [ 83,  46,  37],\n",
      "         [ 83,  46,  37],\n",
      "         ...,\n",
      "         [118, 119, 140],\n",
      "         [120, 121, 142],\n",
      "         [110, 111, 132]]],\n",
      "\n",
      "\n",
      "       [[[141, 148, 154],\n",
      "         [145, 152, 158],\n",
      "         [144, 153, 158],\n",
      "         ...,\n",
      "         [254, 255, 255],\n",
      "         [254, 255, 255],\n",
      "         [254, 255, 255]],\n",
      "\n",
      "        [[145, 152, 158],\n",
      "         [148, 155, 161],\n",
      "         [147, 156, 161],\n",
      "         ...,\n",
      "         [254, 255, 255],\n",
      "         [254, 255, 255],\n",
      "         [254, 255, 255]],\n",
      "\n",
      "        [[150, 157, 163],\n",
      "         [151, 158, 164],\n",
      "         [149, 158, 163],\n",
      "         ...,\n",
      "         [254, 255, 255],\n",
      "         [254, 255, 255],\n",
      "         [254, 255, 255]],\n",
      "\n",
      "        ...,\n",
      "\n",
      "        [[ 78,  80,  92],\n",
      "         [ 79,  81,  93],\n",
      "         [ 80,  82,  94],\n",
      "         ...,\n",
      "         [127, 130, 161],\n",
      "         [127, 130, 161],\n",
      "         [127, 130, 161]],\n",
      "\n",
      "        [[ 78,  80,  92],\n",
      "         [ 79,  81,  93],\n",
      "         [ 80,  82,  94],\n",
      "         ...,\n",
      "         [126, 129, 160],\n",
      "         [128, 131, 164],\n",
      "         [131, 134, 167]],\n",
      "\n",
      "        [[ 78,  80,  92],\n",
      "         [ 79,  81,  93],\n",
      "         [ 80,  82,  94],\n",
      "         ...,\n",
      "         [124, 127, 158],\n",
      "         [128, 131, 164],\n",
      "         [133, 136, 169]]],\n",
      "\n",
      "\n",
      "       ...,\n",
      "\n",
      "\n",
      "       [[[ 91,  64,  53],\n",
      "         [ 89,  62,  51],\n",
      "         [ 88,  61,  50],\n",
      "         ...,\n",
      "         [124, 109, 102],\n",
      "         [123, 110, 102],\n",
      "         [129, 116, 108]],\n",
      "\n",
      "        [[ 99,  71,  60],\n",
      "         [ 97,  69,  58],\n",
      "         [ 94,  66,  55],\n",
      "         ...,\n",
      "         [130, 115, 108],\n",
      "         [131, 116, 109],\n",
      "         [136, 121, 114]],\n",
      "\n",
      "        [[104,  74,  63],\n",
      "         [102,  72,  61],\n",
      "         [ 99,  69,  58],\n",
      "         ...,\n",
      "         [139, 122, 114],\n",
      "         [139, 122, 114],\n",
      "         [142, 125, 117]],\n",
      "\n",
      "        ...,\n",
      "\n",
      "        [[ 29,  26,  19],\n",
      "         [ 33,  30,  23],\n",
      "         [ 30,  25,  19],\n",
      "         ...,\n",
      "         [103,  94,  99],\n",
      "         [104,  95, 100],\n",
      "         [106,  97, 102]],\n",
      "\n",
      "        [[ 30,  25,  19],\n",
      "         [ 38,  33,  27],\n",
      "         [ 39,  34,  28],\n",
      "         ...,\n",
      "         [101,  92,  97],\n",
      "         [102,  93,  98],\n",
      "         [103,  94,  99]],\n",
      "\n",
      "        [[ 31,  26,  20],\n",
      "         [ 42,  37,  31],\n",
      "         [ 46,  41,  37],\n",
      "         ...,\n",
      "         [ 97,  88,  93],\n",
      "         [ 97,  88,  93],\n",
      "         [ 98,  89,  94]]],\n",
      "\n",
      "\n",
      "       [[[140, 130, 131],\n",
      "         [140, 130, 129],\n",
      "         [138, 130, 128],\n",
      "         ...,\n",
      "         [137, 140, 155],\n",
      "         [142, 146, 158],\n",
      "         [146, 148, 161]],\n",
      "\n",
      "        [[141, 131, 132],\n",
      "         [141, 131, 130],\n",
      "         [139, 131, 129],\n",
      "         ...,\n",
      "         [144, 147, 162],\n",
      "         [146, 150, 162],\n",
      "         [148, 150, 163]],\n",
      "\n",
      "        [[142, 132, 133],\n",
      "         [142, 132, 131],\n",
      "         [139, 131, 129],\n",
      "         ...,\n",
      "         [148, 151, 166],\n",
      "         [148, 152, 164],\n",
      "         [149, 151, 164]],\n",
      "\n",
      "        ...,\n",
      "\n",
      "        [[ 76,  85, 102],\n",
      "         [ 77,  86, 103],\n",
      "         [ 79,  88, 105],\n",
      "         ...,\n",
      "         [118, 133, 166],\n",
      "         [116, 131, 164],\n",
      "         [112, 127, 160]],\n",
      "\n",
      "        [[ 77,  86, 103],\n",
      "         [ 77,  86, 103],\n",
      "         [ 77,  86, 103],\n",
      "         ...,\n",
      "         [117, 132, 165],\n",
      "         [116, 131, 164],\n",
      "         [111, 126, 159]],\n",
      "\n",
      "        [[ 75,  84, 101],\n",
      "         [ 75,  84, 101],\n",
      "         [ 74,  83, 100],\n",
      "         ...,\n",
      "         [117, 132, 165],\n",
      "         [116, 131, 164],\n",
      "         [110, 125, 158]]],\n",
      "\n",
      "\n",
      "       [[[139,  76,  45],\n",
      "         [148,  85,  52],\n",
      "         [154,  91,  58],\n",
      "         ...,\n",
      "         [177, 166, 172],\n",
      "         [181, 170, 174],\n",
      "         [176, 165, 169]],\n",
      "\n",
      "        [[143,  80,  47],\n",
      "         [151,  88,  55],\n",
      "         [157,  94,  61],\n",
      "         ...,\n",
      "         [178, 167, 173],\n",
      "         [181, 170, 174],\n",
      "         [175, 164, 168]],\n",
      "\n",
      "        [[145,  82,  49],\n",
      "         [152,  89,  56],\n",
      "         [157,  94,  59],\n",
      "         ...,\n",
      "         [180, 169, 175],\n",
      "         [182, 171, 175],\n",
      "         [174, 163, 167]],\n",
      "\n",
      "        ...,\n",
      "\n",
      "        [[116,  70,  46],\n",
      "         [115,  69,  45],\n",
      "         [115,  69,  45],\n",
      "         ...,\n",
      "         [102, 100, 113],\n",
      "         [101,  99, 112],\n",
      "         [100,  98, 111]],\n",
      "\n",
      "        [[116,  70,  46],\n",
      "         [115,  69,  45],\n",
      "         [114,  68,  44],\n",
      "         ...,\n",
      "         [105, 103, 116],\n",
      "         [102, 100, 113],\n",
      "         [ 99,  97, 110]],\n",
      "\n",
      "        [[117,  71,  47],\n",
      "         [115,  69,  45],\n",
      "         [114,  68,  44],\n",
      "         ...,\n",
      "         [107, 105, 118],\n",
      "         [103, 101, 114],\n",
      "         [ 99,  97, 110]]]], dtype=uint8), acts=array([[0.        , 0.74230171],\n",
      "       [1.        , 0.74230171],\n",
      "       [1.        , 0.73198645],\n",
      "       ...,\n",
      "       [1.        , 1.        ],\n",
      "       [1.        , 1.        ],\n",
      "       [1.        , 1.        ]]), infos=array([{}, {}, {}, ..., {}, {}, {}], dtype=object), next_obs=array([[[[169, 110,  78],\n",
      "         [170, 111,  79],\n",
      "         [171, 112,  80],\n",
      "         ...,\n",
      "         [138, 123, 126],\n",
      "         [145, 130, 133],\n",
      "         [150, 135, 138]],\n",
      "\n",
      "        [[170, 111,  79],\n",
      "         [171, 112,  80],\n",
      "         [172, 113,  81],\n",
      "         ...,\n",
      "         [135, 120, 123],\n",
      "         [140, 125, 128],\n",
      "         [143, 128, 131]],\n",
      "\n",
      "        [[171, 112,  80],\n",
      "         [171, 112,  80],\n",
      "         [173, 114,  82],\n",
      "         ...,\n",
      "         [134, 119, 122],\n",
      "         [137, 122, 125],\n",
      "         [138, 123, 126]],\n",
      "\n",
      "        ...,\n",
      "\n",
      "        [[ 86,  50,  38],\n",
      "         [ 84,  48,  36],\n",
      "         [ 83,  47,  35],\n",
      "         ...,\n",
      "         [124, 125, 146],\n",
      "         [129, 130, 151],\n",
      "         [122, 123, 144]],\n",
      "\n",
      "        [[ 84,  48,  36],\n",
      "         [ 84,  48,  36],\n",
      "         [ 83,  47,  35],\n",
      "         ...,\n",
      "         [121, 122, 143],\n",
      "         [125, 126, 147],\n",
      "         [116, 117, 138]],\n",
      "\n",
      "        [[ 83,  46,  37],\n",
      "         [ 83,  46,  37],\n",
      "         [ 83,  46,  37],\n",
      "         ...,\n",
      "         [118, 119, 140],\n",
      "         [120, 121, 142],\n",
      "         [110, 111, 132]]],\n",
      "\n",
      "\n",
      "       [[[141, 148, 154],\n",
      "         [145, 152, 158],\n",
      "         [144, 153, 158],\n",
      "         ...,\n",
      "         [254, 255, 255],\n",
      "         [254, 255, 255],\n",
      "         [254, 255, 255]],\n",
      "\n",
      "        [[145, 152, 158],\n",
      "         [148, 155, 161],\n",
      "         [147, 156, 161],\n",
      "         ...,\n",
      "         [254, 255, 255],\n",
      "         [254, 255, 255],\n",
      "         [254, 255, 255]],\n",
      "\n",
      "        [[150, 157, 163],\n",
      "         [151, 158, 164],\n",
      "         [149, 158, 163],\n",
      "         ...,\n",
      "         [254, 255, 255],\n",
      "         [254, 255, 255],\n",
      "         [254, 255, 255]],\n",
      "\n",
      "        ...,\n",
      "\n",
      "        [[ 78,  80,  92],\n",
      "         [ 79,  81,  93],\n",
      "         [ 80,  82,  94],\n",
      "         ...,\n",
      "         [127, 130, 161],\n",
      "         [127, 130, 161],\n",
      "         [127, 130, 161]],\n",
      "\n",
      "        [[ 78,  80,  92],\n",
      "         [ 79,  81,  93],\n",
      "         [ 80,  82,  94],\n",
      "         ...,\n",
      "         [126, 129, 160],\n",
      "         [128, 131, 164],\n",
      "         [131, 134, 167]],\n",
      "\n",
      "        [[ 78,  80,  92],\n",
      "         [ 79,  81,  93],\n",
      "         [ 80,  82,  94],\n",
      "         ...,\n",
      "         [124, 127, 158],\n",
      "         [128, 131, 164],\n",
      "         [133, 136, 169]]],\n",
      "\n",
      "\n",
      "       [[[149, 128, 109],\n",
      "         [152, 131, 112],\n",
      "         [156, 135, 114],\n",
      "         ...,\n",
      "         [217, 187, 163],\n",
      "         [214, 183, 162],\n",
      "         [212, 181, 160]],\n",
      "\n",
      "        [[149, 128, 109],\n",
      "         [152, 131, 112],\n",
      "         [156, 135, 114],\n",
      "         ...,\n",
      "         [211, 181, 157],\n",
      "         [210, 179, 158],\n",
      "         [210, 179, 158]],\n",
      "\n",
      "        [[148, 127, 108],\n",
      "         [151, 130, 109],\n",
      "         [155, 134, 113],\n",
      "         ...,\n",
      "         [208, 178, 154],\n",
      "         [209, 178, 157],\n",
      "         [210, 179, 158]],\n",
      "\n",
      "        ...,\n",
      "\n",
      "        [[ 77,  69,  67],\n",
      "         [ 82,  74,  72],\n",
      "         [ 87,  79,  77],\n",
      "         ...,\n",
      "         [123, 117, 121],\n",
      "         [122, 116, 120],\n",
      "         [121, 115, 119]],\n",
      "\n",
      "        [[ 81,  73,  71],\n",
      "         [ 86,  78,  76],\n",
      "         [ 93,  85,  83],\n",
      "         ...,\n",
      "         [124, 118, 122],\n",
      "         [122, 116, 120],\n",
      "         [121, 115, 119]],\n",
      "\n",
      "        [[ 84,  76,  74],\n",
      "         [ 90,  82,  80],\n",
      "         [ 97,  89,  87],\n",
      "         ...,\n",
      "         [125, 119, 123],\n",
      "         [123, 117, 121],\n",
      "         [121, 115, 119]]],\n",
      "\n",
      "\n",
      "       ...,\n",
      "\n",
      "\n",
      "       [[[140, 130, 131],\n",
      "         [140, 130, 129],\n",
      "         [138, 130, 128],\n",
      "         ...,\n",
      "         [137, 140, 155],\n",
      "         [142, 146, 158],\n",
      "         [146, 148, 161]],\n",
      "\n",
      "        [[141, 131, 132],\n",
      "         [141, 131, 130],\n",
      "         [139, 131, 129],\n",
      "         ...,\n",
      "         [144, 147, 162],\n",
      "         [146, 150, 162],\n",
      "         [148, 150, 163]],\n",
      "\n",
      "        [[142, 132, 133],\n",
      "         [142, 132, 131],\n",
      "         [139, 131, 129],\n",
      "         ...,\n",
      "         [148, 151, 166],\n",
      "         [148, 152, 164],\n",
      "         [149, 151, 164]],\n",
      "\n",
      "        ...,\n",
      "\n",
      "        [[ 76,  85, 102],\n",
      "         [ 77,  86, 103],\n",
      "         [ 79,  88, 105],\n",
      "         ...,\n",
      "         [118, 133, 166],\n",
      "         [116, 131, 164],\n",
      "         [112, 127, 160]],\n",
      "\n",
      "        [[ 77,  86, 103],\n",
      "         [ 77,  86, 103],\n",
      "         [ 77,  86, 103],\n",
      "         ...,\n",
      "         [117, 132, 165],\n",
      "         [116, 131, 164],\n",
      "         [111, 126, 159]],\n",
      "\n",
      "        [[ 75,  84, 101],\n",
      "         [ 75,  84, 101],\n",
      "         [ 74,  83, 100],\n",
      "         ...,\n",
      "         [117, 132, 165],\n",
      "         [116, 131, 164],\n",
      "         [110, 125, 158]]],\n",
      "\n",
      "\n",
      "       [[[139,  76,  45],\n",
      "         [148,  85,  52],\n",
      "         [154,  91,  58],\n",
      "         ...,\n",
      "         [177, 166, 172],\n",
      "         [181, 170, 174],\n",
      "         [176, 165, 169]],\n",
      "\n",
      "        [[143,  80,  47],\n",
      "         [151,  88,  55],\n",
      "         [157,  94,  61],\n",
      "         ...,\n",
      "         [178, 167, 173],\n",
      "         [181, 170, 174],\n",
      "         [175, 164, 168]],\n",
      "\n",
      "        [[145,  82,  49],\n",
      "         [152,  89,  56],\n",
      "         [157,  94,  59],\n",
      "         ...,\n",
      "         [180, 169, 175],\n",
      "         [182, 171, 175],\n",
      "         [174, 163, 167]],\n",
      "\n",
      "        ...,\n",
      "\n",
      "        [[116,  70,  46],\n",
      "         [115,  69,  45],\n",
      "         [115,  69,  45],\n",
      "         ...,\n",
      "         [102, 100, 113],\n",
      "         [101,  99, 112],\n",
      "         [100,  98, 111]],\n",
      "\n",
      "        [[116,  70,  46],\n",
      "         [115,  69,  45],\n",
      "         [114,  68,  44],\n",
      "         ...,\n",
      "         [105, 103, 116],\n",
      "         [102, 100, 113],\n",
      "         [ 99,  97, 110]],\n",
      "\n",
      "        [[117,  71,  47],\n",
      "         [115,  69,  45],\n",
      "         [114,  68,  44],\n",
      "         ...,\n",
      "         [107, 105, 118],\n",
      "         [103, 101, 114],\n",
      "         [ 99,  97, 110]]],\n",
      "\n",
      "\n",
      "       [[[  0,   0,   0],\n",
      "         [  0,   0,   0],\n",
      "         [  0,   0,   0],\n",
      "         ...,\n",
      "         [  0,   0,   0],\n",
      "         [  0,   0,   0],\n",
      "         [  0,   0,   0]],\n",
      "\n",
      "        [[  0,   0,   0],\n",
      "         [  0,   0,   0],\n",
      "         [  0,   0,   0],\n",
      "         ...,\n",
      "         [  0,   0,   0],\n",
      "         [  0,   0,   0],\n",
      "         [  0,   0,   0]],\n",
      "\n",
      "        [[  0,   0,   0],\n",
      "         [  0,   0,   0],\n",
      "         [  0,   0,   0],\n",
      "         ...,\n",
      "         [  0,   0,   0],\n",
      "         [  0,   0,   0],\n",
      "         [  0,   0,   0]],\n",
      "\n",
      "        ...,\n",
      "\n",
      "        [[  0,   0,   0],\n",
      "         [  0,   0,   0],\n",
      "         [  0,   0,   0],\n",
      "         ...,\n",
      "         [  0,   0,   0],\n",
      "         [  0,   0,   0],\n",
      "         [  0,   0,   0]],\n",
      "\n",
      "        [[  0,   0,   0],\n",
      "         [  0,   0,   0],\n",
      "         [  0,   0,   0],\n",
      "         ...,\n",
      "         [  0,   0,   0],\n",
      "         [  0,   0,   0],\n",
      "         [  0,   0,   0]],\n",
      "\n",
      "        [[  0,   0,   0],\n",
      "         [  0,   0,   0],\n",
      "         [  0,   0,   0],\n",
      "         ...,\n",
      "         [  0,   0,   0],\n",
      "         [  0,   0,   0],\n",
      "         [  0,   0,   0]]]], dtype=uint8), dones=array([False, False, False, ..., False, False,  True]))\n"
     ]
    }
   ],
   "source": [
    "test_trajectory = convert_to_transitions(all_expert_data)\n",
    "print(test_trajectory)"
   ]
  },
  {
   "cell_type": "code",
   "execution_count": 4,
   "metadata": {},
   "outputs": [
    {
     "name": "stdout",
     "output_type": "stream",
     "text": [
      "(3, 224, 224)\n"
     ]
    }
   ],
   "source": [
    "reshaped_all_expert_data = all_expert_data.copy()\n",
    "# すべてのディレクトリに対して\n",
    "for i in range(len(reshaped_all_expert_data)):\n",
    "    # すべての画像を変換\n",
    "    for j in range(len(reshaped_all_expert_data[i]['images'])):\n",
    "        # 画像の軸の順序を変更\n",
    "        reshaped_image = np.transpose(reshaped_all_expert_data[i]['images'][j], (2, 0, 1))\n",
    "        \n",
    "        # expert_dataに変更を反映\n",
    "        reshaped_all_expert_data[i]['images'][j] = reshaped_image.copy()\n",
    "\n",
    "# 形状を確認\n",
    "print(reshaped_all_expert_data[0]['images'][0].shape)\n",
    "\n",
    "for i in range(len(reshaped_all_expert_data)):\n",
    "    for j in range(len(reshaped_all_expert_data[i]['images'])):\n",
    "        if reshaped_all_expert_data[i]['images'][j].shape != (3, 224, 224):\n",
    "            print(i, j)"
   ]
  },
  {
   "cell_type": "code",
   "execution_count": 5,
   "metadata": {},
   "outputs": [
    {
     "name": "stdout",
     "output_type": "stream",
     "text": [
      "1\n",
      "Environment 'RacingEnv-v1' is successfully registered.\n"
     ]
    },
    {
     "name": "stderr",
     "output_type": "stream",
     "text": [
      "/home/anubis/miniconda3/envs/env38/lib/python3.8/site-packages/gymnasium/envs/registration.py:513: DeprecationWarning: \u001b[33mWARN: The environment RacingEnv-v1 is out of date. You should consider upgrading to version `v4`.\u001b[0m\n",
      "  logger.deprecation(\n"
     ]
    }
   ],
   "source": [
    "env_id1 = 'RacingEnv-v1'  # あなたの環境の名前に変更してください\n",
    "try:\n",
    "    env1 = gymnasium.make(env_id1, expert_data=reshaped_all_expert_data)\n",
    "    print(f\"Environment '{env_id1}' is successfully registered.\")\n",
    "except gymnasium.error.Error as e:\n",
    "    print(f\"Error: {e}\")"
   ]
  },
  {
   "cell_type": "code",
   "execution_count": 6,
   "metadata": {},
   "outputs": [
    {
     "name": "stdout",
     "output_type": "stream",
     "text": [
      "1\n",
      "9\n",
      "12\n",
      "13\n"
     ]
    }
   ],
   "source": [
    "def _make_env():\n",
    "    \"\"\"Helper function to create a single environment. Put any logic here, but make sure to return a RolloutInfoWrapper.\"\"\"\n",
    "    _env1 = gymnasium.make(\"RacingEnv-v1\", expert_data=reshaped_all_expert_data)\n",
    "    _env1 = RolloutInfoWrapper(_env1)\n",
    "    return _env1\n",
    "\n",
    "venv1 = DummyVecEnv([_make_env for _ in range(4)])"
   ]
  },
  {
   "cell_type": "code",
   "execution_count": 7,
   "metadata": {},
   "outputs": [
    {
     "name": "stderr",
     "output_type": "stream",
     "text": [
      "/home/anubis/miniconda3/envs/env38/lib/python3.8/site-packages/stable_baselines3/common/evaluation.py:67: UserWarning: Evaluation environment is not wrapped with a ``Monitor`` wrapper. This may result in reporting modified episode lengths and rewards, if other wrappers happen to modify these. Consider wrapping environment first with ``Monitor`` wrapper.\n",
      "  warnings.warn(\n"
     ]
    },
    {
     "name": "stdout",
     "output_type": "stream",
     "text": [
      "12\n",
      "15\n",
      "21\n",
      "0\n",
      "3\n",
      "3\n",
      "7\n",
      "9\n",
      "19\n",
      "21\n",
      "18\n",
      "Reward before training: 394.39006341695784\n",
      "4\n",
      "18\n",
      "6\n",
      "15\n",
      "17\n",
      "15\n",
      "0\n",
      "20\n",
      "14\n",
      "12\n",
      "20\n",
      "0\n",
      "4\n",
      "6\n",
      "3\n",
      "4\n",
      "3\n",
      "16\n",
      "16\n",
      "9\n",
      "8\n",
      "11\n",
      "4\n",
      "16\n",
      "1\n",
      "2\n",
      "2\n",
      "18\n",
      "6\n",
      "16\n",
      "17\n",
      "11\n",
      "10\n",
      "8\n",
      "7\n",
      "11\n",
      "7\n",
      "19\n",
      "0\n",
      "10\n",
      "1\n",
      "5\n",
      "13\n",
      "17\n",
      "7\n",
      "13\n",
      "7\n",
      "0\n",
      "17\n",
      "14\n",
      "1\n",
      "9\n",
      "9\n",
      "11\n",
      "15\n",
      "2\n",
      "15\n",
      "5\n",
      "20\n",
      "21\n",
      "5\n",
      "18\n",
      "13\n",
      "0\n",
      "8\n",
      "0\n",
      "20\n",
      "11\n",
      "3\n",
      "16\n",
      "5\n",
      "21\n",
      "9\n",
      "19\n",
      "9\n",
      "12\n",
      "0\n",
      "8\n",
      "0\n",
      "18\n",
      "19\n",
      "5\n",
      "7\n",
      "4\n",
      "5\n",
      "10\n",
      "10\n",
      "9\n",
      "7\n",
      "5\n",
      "0\n",
      "17\n",
      "6\n",
      "9\n",
      "5\n",
      "7\n",
      "6\n",
      "3\n",
      "9\n",
      "18\n",
      "14\n",
      "2\n",
      "6\n",
      "1\n",
      "0\n",
      "3\n",
      "3\n",
      "9\n",
      "18\n",
      "9\n",
      "14\n",
      "5\n",
      "3\n",
      "3\n",
      "6\n",
      "7\n",
      "7\n",
      "5\n",
      "13\n",
      "Expert reward: 675.0185958999999\n"
     ]
    }
   ],
   "source": [
    "from stable_baselines3 import PPO\n",
    "from stable_baselines3.ppo import MlpPolicy\n",
    "from stable_baselines3.ppo import CnnPolicy\n",
    "from stable_baselines3.common.evaluation import evaluate_policy\n",
    "\n",
    "\n",
    "expert = PPO(\n",
    "    policy=CnnPolicy,\n",
    "    env=env1,\n",
    "    seed=0,\n",
    "    batch_size=64,\n",
    "    ent_coef=0.0,\n",
    "    learning_rate=0.0003,\n",
    "    n_epochs=10,\n",
    "    n_steps=64,\n",
    "    device='cuda:1'\n",
    ")\n",
    "reward, _ = evaluate_policy(expert, env1, 10)\n",
    "print(f\"Reward before training: {reward}\")\n",
    "\n",
    "\n",
    "# Note: if you followed step 2a, i.e. registered the environment, you can use the environment name directly\n",
    "\n",
    "# expert = PPO(\n",
    "#     policy=MlpPolicy,\n",
    "#     env=\"custom/ObservationMatching-v0\",\n",
    "#     seed=0,\n",
    "#     batch_size=64,\n",
    "#     ent_coef=0.0,\n",
    "#     learning_rate=0.0003,\n",
    "#     n_epochs=10,\n",
    "#     n_steps=64,\n",
    "# )\n",
    "expert.learn(100000)  # Note: set to 100000 to train a proficient expert\n",
    "reward, _ = evaluate_policy(expert, expert.get_env(), 10)\n",
    "print(f\"Expert reward: {reward}\")"
   ]
  },
  {
   "cell_type": "code",
   "execution_count": 8,
   "metadata": {},
   "outputs": [
    {
     "name": "stdout",
     "output_type": "stream",
     "text": [
      "19\n",
      "14\n",
      "19\n",
      "21\n",
      "0\n",
      "6\n",
      "3\n",
      "0\n",
      "17\n",
      "2\n",
      "21\n",
      "0\n",
      "1\n",
      "19\n",
      "15\n",
      "6\n",
      "5\n",
      "19\n",
      "7\n",
      "16\n",
      "12\n",
      "18\n",
      "8\n",
      "12\n",
      "4\n",
      "16\n",
      "11\n",
      "4\n",
      "20\n",
      "17\n",
      "3\n",
      "1\n",
      "21\n",
      "2\n",
      "4\n",
      "17\n",
      "19\n",
      "5\n",
      "6\n",
      "8\n",
      "3\n",
      "11\n",
      "5\n",
      "6\n",
      "5\n",
      "9\n",
      "11\n",
      "10\n",
      "10\n",
      "3\n",
      "11\n",
      "6\n",
      "21\n",
      "16\n",
      "12\n",
      "18\n",
      "1\n",
      "18\n",
      "13\n"
     ]
    }
   ],
   "source": [
    "rng = np.random.default_rng()\n",
    "rollouts = rollout.rollout(\n",
    "    expert,\n",
    "    venv1,\n",
    "    rollout.make_sample_until(min_timesteps=None, min_episodes=50),\n",
    "    rng=rng,\n",
    ")\n",
    "transitions = rollout.flatten_trajectories(rollouts)"
   ]
  },
  {
   "cell_type": "code",
   "execution_count": 9,
   "metadata": {},
   "outputs": [],
   "source": [
    "from imitation.algorithms import bc\n",
    "from imitation.util import logger\n",
    "\n",
    "bc_logger = logger.configure('./log/')\n",
    "bc_trainer = bc.BC(\n",
    "    observation_space=env1.observation_space,\n",
    "    action_space=env1.action_space,\n",
    "    demonstrations=transitions,\n",
    "    rng=rng,\n",
    "    policy=ActorCriticCnnPolicy(\n",
    "        observation_space=env1.observation_space,\n",
    "        action_space=env1.action_space,\n",
    "        features_extractor_kwargs=dict(features_dim=256),\n",
    "        lr_schedule=lambda _: 0.0003,\n",
    "        ),\n",
    "    batch_size=2048,\n",
    "    device=\"cuda:1\",\n",
    "    custom_logger=bc_logger\n",
    ")"
   ]
  },
  {
   "cell_type": "code",
   "execution_count": 10,
   "metadata": {},
   "outputs": [
    {
     "name": "stdout",
     "output_type": "stream",
     "text": [
      "2\n",
      "13\n",
      "13\n",
      "20\n",
      "7\n",
      "5\n",
      "7\n",
      "6\n",
      "13\n",
      "5\n",
      "0\n",
      "10\n",
      "11\n",
      "9\n",
      "11\n",
      "12\n",
      "Reward before training: 341.26125118732455\n"
     ]
    }
   ],
   "source": [
    "reward_before_training, _ = evaluate_policy(bc_trainer.policy, venv1, 10)\n",
    "print(f\"Reward before training: {reward_before_training}\")"
   ]
  },
  {
   "cell_type": "code",
   "execution_count": 11,
   "metadata": {},
   "outputs": [
    {
     "name": "stderr",
     "output_type": "stream",
     "text": [
      "24batch [00:08,  3.02batch/s]"
     ]
    },
    {
     "name": "stdout",
     "output_type": "stream",
     "text": [
      "--------------------------------\n",
      "| batch_size        | 2048     |\n",
      "| bc/               |          |\n",
      "|    batch          | 23       |\n",
      "|    ent_loss       | -0.00279 |\n",
      "|    entropy        | 2.79     |\n",
      "|    epoch          | 1        |\n",
      "|    l2_loss        | 0        |\n",
      "|    l2_norm        | 470      |\n",
      "|    loss           | 1.87     |\n",
      "|    neglogp        | 1.87     |\n",
      "|    prob_true_act  | 0.155    |\n",
      "|    samples_so_far | 49152    |\n",
      "--------------------------------\n"
     ]
    },
    {
     "name": "stderr",
     "output_type": "stream",
     "text": [
      "48batch [00:16,  3.04batch/s]"
     ]
    },
    {
     "name": "stdout",
     "output_type": "stream",
     "text": [
      "--------------------------------\n",
      "| batch_size        | 2048     |\n",
      "| bc/               |          |\n",
      "|    batch          | 47       |\n",
      "|    ent_loss       | -0.00274 |\n",
      "|    entropy        | 2.74     |\n",
      "|    epoch          | 2        |\n",
      "|    l2_loss        | 0        |\n",
      "|    l2_norm        | 488      |\n",
      "|    loss           | 1.81     |\n",
      "|    neglogp        | 1.82     |\n",
      "|    prob_true_act  | 0.164    |\n",
      "|    samples_so_far | 98304    |\n",
      "--------------------------------\n"
     ]
    },
    {
     "name": "stderr",
     "output_type": "stream",
     "text": [
      "72batch [00:24,  3.01batch/s]"
     ]
    },
    {
     "name": "stdout",
     "output_type": "stream",
     "text": [
      "--------------------------------\n",
      "| batch_size        | 2048     |\n",
      "| bc/               |          |\n",
      "|    batch          | 71       |\n",
      "|    ent_loss       | -0.00269 |\n",
      "|    entropy        | 2.69     |\n",
      "|    epoch          | 3        |\n",
      "|    l2_loss        | 0        |\n",
      "|    l2_norm        | 497      |\n",
      "|    loss           | 1.77     |\n",
      "|    neglogp        | 1.77     |\n",
      "|    prob_true_act  | 0.172    |\n",
      "|    samples_so_far | 147456   |\n",
      "--------------------------------\n"
     ]
    },
    {
     "name": "stderr",
     "output_type": "stream",
     "text": [
      "96batch [00:33,  2.98batch/s]"
     ]
    },
    {
     "name": "stdout",
     "output_type": "stream",
     "text": [
      "--------------------------------\n",
      "| batch_size        | 2048     |\n",
      "| bc/               |          |\n",
      "|    batch          | 95       |\n",
      "|    ent_loss       | -0.00264 |\n",
      "|    entropy        | 2.64     |\n",
      "|    epoch          | 4        |\n",
      "|    l2_loss        | 0        |\n",
      "|    l2_norm        | 503      |\n",
      "|    loss           | 1.72     |\n",
      "|    neglogp        | 1.72     |\n",
      "|    prob_true_act  | 0.18     |\n",
      "|    samples_so_far | 196608   |\n",
      "--------------------------------\n"
     ]
    },
    {
     "name": "stderr",
     "output_type": "stream",
     "text": [
      "120batch [00:41,  2.97batch/s]"
     ]
    },
    {
     "name": "stdout",
     "output_type": "stream",
     "text": [
      "--------------------------------\n",
      "| batch_size        | 2048     |\n",
      "| bc/               |          |\n",
      "|    batch          | 119      |\n",
      "|    ent_loss       | -0.00259 |\n",
      "|    entropy        | 2.59     |\n",
      "|    epoch          | 5        |\n",
      "|    l2_loss        | 0        |\n",
      "|    l2_norm        | 508      |\n",
      "|    loss           | 1.67     |\n",
      "|    neglogp        | 1.67     |\n",
      "|    prob_true_act  | 0.19     |\n",
      "|    samples_so_far | 245760   |\n",
      "--------------------------------\n"
     ]
    },
    {
     "name": "stderr",
     "output_type": "stream",
     "text": [
      "144batch [00:49,  2.98batch/s]"
     ]
    },
    {
     "name": "stdout",
     "output_type": "stream",
     "text": [
      "--------------------------------\n",
      "| batch_size        | 2048     |\n",
      "| bc/               |          |\n",
      "|    batch          | 143      |\n",
      "|    ent_loss       | -0.00254 |\n",
      "|    entropy        | 2.54     |\n",
      "|    epoch          | 6        |\n",
      "|    l2_loss        | 0        |\n",
      "|    l2_norm        | 512      |\n",
      "|    loss           | 1.62     |\n",
      "|    neglogp        | 1.63     |\n",
      "|    prob_true_act  | 0.199    |\n",
      "|    samples_so_far | 294912   |\n",
      "--------------------------------\n"
     ]
    },
    {
     "name": "stderr",
     "output_type": "stream",
     "text": [
      "168batch [00:57,  2.98batch/s]"
     ]
    },
    {
     "name": "stdout",
     "output_type": "stream",
     "text": [
      "--------------------------------\n",
      "| batch_size        | 2048     |\n",
      "| bc/               |          |\n",
      "|    batch          | 167      |\n",
      "|    ent_loss       | -0.00249 |\n",
      "|    entropy        | 2.49     |\n",
      "|    epoch          | 7        |\n",
      "|    l2_loss        | 0        |\n",
      "|    l2_norm        | 516      |\n",
      "|    loss           | 1.59     |\n",
      "|    neglogp        | 1.59     |\n",
      "|    prob_true_act  | 0.207    |\n",
      "|    samples_so_far | 344064   |\n",
      "--------------------------------\n"
     ]
    },
    {
     "name": "stderr",
     "output_type": "stream",
     "text": [
      "192batch [01:06,  3.01batch/s]"
     ]
    },
    {
     "name": "stdout",
     "output_type": "stream",
     "text": [
      "--------------------------------\n",
      "| batch_size        | 2048     |\n",
      "| bc/               |          |\n",
      "|    batch          | 191      |\n",
      "|    ent_loss       | -0.00244 |\n",
      "|    entropy        | 2.44     |\n",
      "|    epoch          | 8        |\n",
      "|    l2_loss        | 0        |\n",
      "|    l2_norm        | 520      |\n",
      "|    loss           | 1.54     |\n",
      "|    neglogp        | 1.54     |\n",
      "|    prob_true_act  | 0.217    |\n",
      "|    samples_so_far | 393216   |\n",
      "--------------------------------\n"
     ]
    },
    {
     "name": "stderr",
     "output_type": "stream",
     "text": [
      "216batch [01:14,  2.92batch/s]"
     ]
    },
    {
     "name": "stdout",
     "output_type": "stream",
     "text": [
      "--------------------------------\n",
      "| batch_size        | 2048     |\n",
      "| bc/               |          |\n",
      "|    batch          | 215      |\n",
      "|    ent_loss       | -0.0024  |\n",
      "|    entropy        | 2.4      |\n",
      "|    epoch          | 9        |\n",
      "|    l2_loss        | 0        |\n",
      "|    l2_norm        | 524      |\n",
      "|    loss           | 1.48     |\n",
      "|    neglogp        | 1.48     |\n",
      "|    prob_true_act  | 0.23     |\n",
      "|    samples_so_far | 442368   |\n",
      "--------------------------------\n"
     ]
    },
    {
     "name": "stderr",
     "output_type": "stream",
     "text": [
      "240batch [01:22,  2.91batch/s]"
     ]
    },
    {
     "name": "stdout",
     "output_type": "stream",
     "text": [
      "--------------------------------\n",
      "| batch_size        | 2048     |\n",
      "| bc/               |          |\n",
      "|    batch          | 239      |\n",
      "|    ent_loss       | -0.00235 |\n",
      "|    entropy        | 2.35     |\n",
      "|    epoch          | 10       |\n",
      "|    l2_loss        | 0        |\n",
      "|    l2_norm        | 530      |\n",
      "|    loss           | 1.45     |\n",
      "|    neglogp        | 1.45     |\n",
      "|    prob_true_act  | 0.237    |\n",
      "|    samples_so_far | 491520   |\n",
      "--------------------------------\n"
     ]
    },
    {
     "name": "stderr",
     "output_type": "stream",
     "text": [
      "264batch [01:31,  2.93batch/s]"
     ]
    },
    {
     "name": "stdout",
     "output_type": "stream",
     "text": [
      "--------------------------------\n",
      "| batch_size        | 2048     |\n",
      "| bc/               |          |\n",
      "|    batch          | 263      |\n",
      "|    ent_loss       | -0.0023  |\n",
      "|    entropy        | 2.3      |\n",
      "|    epoch          | 11       |\n",
      "|    l2_loss        | 0        |\n",
      "|    l2_norm        | 535      |\n",
      "|    loss           | 1.41     |\n",
      "|    neglogp        | 1.41     |\n",
      "|    prob_true_act  | 0.248    |\n",
      "|    samples_so_far | 540672   |\n",
      "--------------------------------\n"
     ]
    },
    {
     "name": "stderr",
     "output_type": "stream",
     "text": [
      "288batch [01:39,  2.99batch/s]"
     ]
    },
    {
     "name": "stdout",
     "output_type": "stream",
     "text": [
      "--------------------------------\n",
      "| batch_size        | 2048     |\n",
      "| bc/               |          |\n",
      "|    batch          | 287      |\n",
      "|    ent_loss       | -0.00225 |\n",
      "|    entropy        | 2.25     |\n",
      "|    epoch          | 12       |\n",
      "|    l2_loss        | 0        |\n",
      "|    l2_norm        | 543      |\n",
      "|    loss           | 1.36     |\n",
      "|    neglogp        | 1.36     |\n",
      "|    prob_true_act  | 0.261    |\n",
      "|    samples_so_far | 589824   |\n",
      "--------------------------------\n"
     ]
    },
    {
     "name": "stderr",
     "output_type": "stream",
     "text": [
      "312batch [01:48,  3.00batch/s]"
     ]
    },
    {
     "name": "stdout",
     "output_type": "stream",
     "text": [
      "--------------------------------\n",
      "| batch_size        | 2048     |\n",
      "| bc/               |          |\n",
      "|    batch          | 311      |\n",
      "|    ent_loss       | -0.00221 |\n",
      "|    entropy        | 2.21     |\n",
      "|    epoch          | 13       |\n",
      "|    l2_loss        | 0        |\n",
      "|    l2_norm        | 549      |\n",
      "|    loss           | 1.33     |\n",
      "|    neglogp        | 1.34     |\n",
      "|    prob_true_act  | 0.271    |\n",
      "|    samples_so_far | 638976   |\n",
      "--------------------------------\n"
     ]
    },
    {
     "name": "stderr",
     "output_type": "stream",
     "text": [
      "336batch [01:56,  2.97batch/s]"
     ]
    },
    {
     "name": "stdout",
     "output_type": "stream",
     "text": [
      "--------------------------------\n",
      "| batch_size        | 2048     |\n",
      "| bc/               |          |\n",
      "|    batch          | 335      |\n",
      "|    ent_loss       | -0.00216 |\n",
      "|    entropy        | 2.16     |\n",
      "|    epoch          | 14       |\n",
      "|    l2_loss        | 0        |\n",
      "|    l2_norm        | 556      |\n",
      "|    loss           | 1.28     |\n",
      "|    neglogp        | 1.28     |\n",
      "|    prob_true_act  | 0.282    |\n",
      "|    samples_so_far | 688128   |\n",
      "--------------------------------\n"
     ]
    },
    {
     "name": "stderr",
     "output_type": "stream",
     "text": [
      "360batch [02:04,  2.96batch/s]"
     ]
    },
    {
     "name": "stdout",
     "output_type": "stream",
     "text": [
      "--------------------------------\n",
      "| batch_size        | 2048     |\n",
      "| bc/               |          |\n",
      "|    batch          | 359      |\n",
      "|    ent_loss       | -0.00211 |\n",
      "|    entropy        | 2.11     |\n",
      "|    epoch          | 15       |\n",
      "|    l2_loss        | 0        |\n",
      "|    l2_norm        | 563      |\n",
      "|    loss           | 1.24     |\n",
      "|    neglogp        | 1.24     |\n",
      "|    prob_true_act  | 0.295    |\n",
      "|    samples_so_far | 737280   |\n",
      "--------------------------------\n"
     ]
    },
    {
     "name": "stderr",
     "output_type": "stream",
     "text": [
      "384batch [02:13,  2.96batch/s]"
     ]
    },
    {
     "name": "stdout",
     "output_type": "stream",
     "text": [
      "--------------------------------\n",
      "| batch_size        | 2048     |\n",
      "| bc/               |          |\n",
      "|    batch          | 383      |\n",
      "|    ent_loss       | -0.00207 |\n",
      "|    entropy        | 2.07     |\n",
      "|    epoch          | 16       |\n",
      "|    l2_loss        | 0        |\n",
      "|    l2_norm        | 573      |\n",
      "|    loss           | 1.2      |\n",
      "|    neglogp        | 1.21     |\n",
      "|    prob_true_act  | 0.309    |\n",
      "|    samples_so_far | 786432   |\n",
      "--------------------------------\n"
     ]
    },
    {
     "name": "stderr",
     "output_type": "stream",
     "text": [
      "408batch [02:21,  2.97batch/s]"
     ]
    },
    {
     "name": "stdout",
     "output_type": "stream",
     "text": [
      "--------------------------------\n",
      "| batch_size        | 2048     |\n",
      "| bc/               |          |\n",
      "|    batch          | 407      |\n",
      "|    ent_loss       | -0.00202 |\n",
      "|    entropy        | 2.02     |\n",
      "|    epoch          | 17       |\n",
      "|    l2_loss        | 0        |\n",
      "|    l2_norm        | 584      |\n",
      "|    loss           | 1.16     |\n",
      "|    neglogp        | 1.16     |\n",
      "|    prob_true_act  | 0.321    |\n",
      "|    samples_so_far | 835584   |\n",
      "--------------------------------\n"
     ]
    },
    {
     "name": "stderr",
     "output_type": "stream",
     "text": [
      "432batch [02:29,  2.85batch/s]"
     ]
    },
    {
     "name": "stdout",
     "output_type": "stream",
     "text": [
      "--------------------------------\n",
      "| batch_size        | 2048     |\n",
      "| bc/               |          |\n",
      "|    batch          | 431      |\n",
      "|    ent_loss       | -0.00197 |\n",
      "|    entropy        | 1.97     |\n",
      "|    epoch          | 18       |\n",
      "|    l2_loss        | 0        |\n",
      "|    l2_norm        | 597      |\n",
      "|    loss           | 1.11     |\n",
      "|    neglogp        | 1.11     |\n",
      "|    prob_true_act  | 0.336    |\n",
      "|    samples_so_far | 884736   |\n",
      "--------------------------------\n"
     ]
    },
    {
     "name": "stderr",
     "output_type": "stream",
     "text": [
      "456batch [02:38,  2.96batch/s]"
     ]
    },
    {
     "name": "stdout",
     "output_type": "stream",
     "text": [
      "--------------------------------\n",
      "| batch_size        | 2048     |\n",
      "| bc/               |          |\n",
      "|    batch          | 455      |\n",
      "|    ent_loss       | -0.00193 |\n",
      "|    entropy        | 1.93     |\n",
      "|    epoch          | 19       |\n",
      "|    l2_loss        | 0        |\n",
      "|    l2_norm        | 608      |\n",
      "|    loss           | 1.08     |\n",
      "|    neglogp        | 1.09     |\n",
      "|    prob_true_act  | 0.349    |\n",
      "|    samples_so_far | 933888   |\n",
      "--------------------------------\n"
     ]
    },
    {
     "name": "stderr",
     "output_type": "stream",
     "text": [
      "480batch [02:46,  2.98batch/s]"
     ]
    },
    {
     "name": "stdout",
     "output_type": "stream",
     "text": [
      "--------------------------------\n",
      "| batch_size        | 2048     |\n",
      "| bc/               |          |\n",
      "|    batch          | 479      |\n",
      "|    ent_loss       | -0.00188 |\n",
      "|    entropy        | 1.88     |\n",
      "|    epoch          | 20       |\n",
      "|    l2_loss        | 0        |\n",
      "|    l2_norm        | 621      |\n",
      "|    loss           | 1.04     |\n",
      "|    neglogp        | 1.05     |\n",
      "|    prob_true_act  | 0.362    |\n",
      "|    samples_so_far | 983040   |\n",
      "--------------------------------\n"
     ]
    },
    {
     "name": "stderr",
     "output_type": "stream",
     "text": [
      "504batch [02:54,  2.97batch/s]"
     ]
    },
    {
     "name": "stdout",
     "output_type": "stream",
     "text": [
      "--------------------------------\n",
      "| batch_size        | 2048     |\n",
      "| bc/               |          |\n",
      "|    batch          | 503      |\n",
      "|    ent_loss       | -0.00184 |\n",
      "|    entropy        | 1.84     |\n",
      "|    epoch          | 21       |\n",
      "|    l2_loss        | 0        |\n",
      "|    l2_norm        | 637      |\n",
      "|    loss           | 0.985    |\n",
      "|    neglogp        | 0.987    |\n",
      "|    prob_true_act  | 0.383    |\n",
      "|    samples_so_far | 1032192  |\n",
      "--------------------------------\n"
     ]
    },
    {
     "name": "stderr",
     "output_type": "stream",
     "text": [
      "528batch [03:03,  3.02batch/s]"
     ]
    },
    {
     "name": "stdout",
     "output_type": "stream",
     "text": [
      "--------------------------------\n",
      "| batch_size        | 2048     |\n",
      "| bc/               |          |\n",
      "|    batch          | 527      |\n",
      "|    ent_loss       | -0.00179 |\n",
      "|    entropy        | 1.79     |\n",
      "|    epoch          | 22       |\n",
      "|    l2_loss        | 0        |\n",
      "|    l2_norm        | 655      |\n",
      "|    loss           | 0.956    |\n",
      "|    neglogp        | 0.958    |\n",
      "|    prob_true_act  | 0.396    |\n",
      "|    samples_so_far | 1081344  |\n",
      "--------------------------------\n"
     ]
    },
    {
     "name": "stderr",
     "output_type": "stream",
     "text": [
      "552batch [03:11,  2.74batch/s]"
     ]
    },
    {
     "name": "stdout",
     "output_type": "stream",
     "text": [
      "--------------------------------\n",
      "| batch_size        | 2048     |\n",
      "| bc/               |          |\n",
      "|    batch          | 551      |\n",
      "|    ent_loss       | -0.00175 |\n",
      "|    entropy        | 1.75     |\n",
      "|    epoch          | 23       |\n",
      "|    l2_loss        | 0        |\n",
      "|    l2_norm        | 675      |\n",
      "|    loss           | 0.934    |\n",
      "|    neglogp        | 0.935    |\n",
      "|    prob_true_act  | 0.407    |\n",
      "|    samples_so_far | 1130496  |\n",
      "--------------------------------\n"
     ]
    },
    {
     "name": "stderr",
     "output_type": "stream",
     "text": [
      "576batch [03:20,  2.67batch/s]"
     ]
    },
    {
     "name": "stdout",
     "output_type": "stream",
     "text": [
      "--------------------------------\n",
      "| batch_size        | 2048     |\n",
      "| bc/               |          |\n",
      "|    batch          | 575      |\n",
      "|    ent_loss       | -0.0017  |\n",
      "|    entropy        | 1.7      |\n",
      "|    epoch          | 24       |\n",
      "|    l2_loss        | 0        |\n",
      "|    l2_norm        | 694      |\n",
      "|    loss           | 0.884    |\n",
      "|    neglogp        | 0.885    |\n",
      "|    prob_true_act  | 0.431    |\n",
      "|    samples_so_far | 1179648  |\n",
      "--------------------------------\n"
     ]
    },
    {
     "name": "stderr",
     "output_type": "stream",
     "text": [
      "600batch [03:28,  2.95batch/s]"
     ]
    },
    {
     "name": "stdout",
     "output_type": "stream",
     "text": [
      "--------------------------------\n",
      "| batch_size        | 2048     |\n",
      "| bc/               |          |\n",
      "|    batch          | 599      |\n",
      "|    ent_loss       | -0.00166 |\n",
      "|    entropy        | 1.66     |\n",
      "|    epoch          | 25       |\n",
      "|    l2_loss        | 0        |\n",
      "|    l2_norm        | 710      |\n",
      "|    loss           | 0.861    |\n",
      "|    neglogp        | 0.863    |\n",
      "|    prob_true_act  | 0.444    |\n",
      "|    samples_so_far | 1228800  |\n",
      "--------------------------------\n"
     ]
    },
    {
     "name": "stderr",
     "output_type": "stream",
     "text": [
      "624batch [03:37,  2.04batch/s]"
     ]
    },
    {
     "name": "stdout",
     "output_type": "stream",
     "text": [
      "--------------------------------\n",
      "| batch_size        | 2048     |\n",
      "| bc/               |          |\n",
      "|    batch          | 623      |\n",
      "|    ent_loss       | -0.00162 |\n",
      "|    entropy        | 1.62     |\n",
      "|    epoch          | 26       |\n",
      "|    l2_loss        | 0        |\n",
      "|    l2_norm        | 715      |\n",
      "|    loss           | 0.834    |\n",
      "|    neglogp        | 0.836    |\n",
      "|    prob_true_act  | 0.457    |\n",
      "|    samples_so_far | 1277952  |\n",
      "--------------------------------\n"
     ]
    },
    {
     "name": "stderr",
     "output_type": "stream",
     "text": [
      "648batch [03:46,  2.96batch/s]"
     ]
    },
    {
     "name": "stdout",
     "output_type": "stream",
     "text": [
      "--------------------------------\n",
      "| batch_size        | 2048     |\n",
      "| bc/               |          |\n",
      "|    batch          | 647      |\n",
      "|    ent_loss       | -0.00158 |\n",
      "|    entropy        | 1.58     |\n",
      "|    epoch          | 27       |\n",
      "|    l2_loss        | 0        |\n",
      "|    l2_norm        | 719      |\n",
      "|    loss           | 0.797    |\n",
      "|    neglogp        | 0.799    |\n",
      "|    prob_true_act  | 0.478    |\n",
      "|    samples_so_far | 1327104  |\n",
      "--------------------------------\n"
     ]
    },
    {
     "name": "stderr",
     "output_type": "stream",
     "text": [
      "672batch [03:54,  2.98batch/s]"
     ]
    },
    {
     "name": "stdout",
     "output_type": "stream",
     "text": [
      "--------------------------------\n",
      "| batch_size        | 2048     |\n",
      "| bc/               |          |\n",
      "|    batch          | 671      |\n",
      "|    ent_loss       | -0.00153 |\n",
      "|    entropy        | 1.53     |\n",
      "|    epoch          | 28       |\n",
      "|    l2_loss        | 0        |\n",
      "|    l2_norm        | 722      |\n",
      "|    loss           | 0.751    |\n",
      "|    neglogp        | 0.752    |\n",
      "|    prob_true_act  | 0.501    |\n",
      "|    samples_so_far | 1376256  |\n",
      "--------------------------------\n"
     ]
    },
    {
     "name": "stderr",
     "output_type": "stream",
     "text": [
      "696batch [04:02,  2.96batch/s]"
     ]
    },
    {
     "name": "stdout",
     "output_type": "stream",
     "text": [
      "--------------------------------\n",
      "| batch_size        | 2048     |\n",
      "| bc/               |          |\n",
      "|    batch          | 695      |\n",
      "|    ent_loss       | -0.00149 |\n",
      "|    entropy        | 1.49     |\n",
      "|    epoch          | 29       |\n",
      "|    l2_loss        | 0        |\n",
      "|    l2_norm        | 726      |\n",
      "|    loss           | 0.706    |\n",
      "|    neglogp        | 0.707    |\n",
      "|    prob_true_act  | 0.522    |\n",
      "|    samples_so_far | 1425408  |\n",
      "--------------------------------\n"
     ]
    },
    {
     "name": "stderr",
     "output_type": "stream",
     "text": [
      "720batch [04:11,  3.00batch/s]"
     ]
    },
    {
     "name": "stdout",
     "output_type": "stream",
     "text": [
      "--------------------------------\n",
      "| batch_size        | 2048     |\n",
      "| bc/               |          |\n",
      "|    batch          | 719      |\n",
      "|    ent_loss       | -0.00145 |\n",
      "|    entropy        | 1.45     |\n",
      "|    epoch          | 30       |\n",
      "|    l2_loss        | 0        |\n",
      "|    l2_norm        | 731      |\n",
      "|    loss           | 0.69     |\n",
      "|    neglogp        | 0.691    |\n",
      "|    prob_true_act  | 0.535    |\n",
      "|    samples_so_far | 1474560  |\n",
      "--------------------------------\n"
     ]
    },
    {
     "name": "stderr",
     "output_type": "stream",
     "text": [
      "744batch [04:19,  2.97batch/s]"
     ]
    },
    {
     "name": "stdout",
     "output_type": "stream",
     "text": [
      "--------------------------------\n",
      "| batch_size        | 2048     |\n",
      "| bc/               |          |\n",
      "|    batch          | 743      |\n",
      "|    ent_loss       | -0.0014  |\n",
      "|    entropy        | 1.4      |\n",
      "|    epoch          | 31       |\n",
      "|    l2_loss        | 0        |\n",
      "|    l2_norm        | 736      |\n",
      "|    loss           | 0.67     |\n",
      "|    neglogp        | 0.671    |\n",
      "|    prob_true_act  | 0.55     |\n",
      "|    samples_so_far | 1523712  |\n",
      "--------------------------------\n"
     ]
    },
    {
     "name": "stderr",
     "output_type": "stream",
     "text": [
      "768batch [04:29,  2.89batch/s]"
     ]
    },
    {
     "name": "stdout",
     "output_type": "stream",
     "text": [
      "--------------------------------\n",
      "| batch_size        | 2048     |\n",
      "| bc/               |          |\n",
      "|    batch          | 767      |\n",
      "|    ent_loss       | -0.00136 |\n",
      "|    entropy        | 1.36     |\n",
      "|    epoch          | 32       |\n",
      "|    l2_loss        | 0        |\n",
      "|    l2_norm        | 743      |\n",
      "|    loss           | 0.608    |\n",
      "|    neglogp        | 0.609    |\n",
      "|    prob_true_act  | 0.58     |\n",
      "|    samples_so_far | 1572864  |\n",
      "--------------------------------\n"
     ]
    },
    {
     "name": "stderr",
     "output_type": "stream",
     "text": [
      "792batch [04:37,  3.01batch/s]"
     ]
    },
    {
     "name": "stdout",
     "output_type": "stream",
     "text": [
      "--------------------------------\n",
      "| batch_size        | 2048     |\n",
      "| bc/               |          |\n",
      "|    batch          | 791      |\n",
      "|    ent_loss       | -0.00132 |\n",
      "|    entropy        | 1.32     |\n",
      "|    epoch          | 33       |\n",
      "|    l2_loss        | 0        |\n",
      "|    l2_norm        | 751      |\n",
      "|    loss           | 0.585    |\n",
      "|    neglogp        | 0.586    |\n",
      "|    prob_true_act  | 0.606    |\n",
      "|    samples_so_far | 1622016  |\n",
      "--------------------------------\n"
     ]
    },
    {
     "name": "stderr",
     "output_type": "stream",
     "text": [
      "816batch [04:45,  2.94batch/s]"
     ]
    },
    {
     "name": "stdout",
     "output_type": "stream",
     "text": [
      "--------------------------------\n",
      "| batch_size        | 2048     |\n",
      "| bc/               |          |\n",
      "|    batch          | 815      |\n",
      "|    ent_loss       | -0.00128 |\n",
      "|    entropy        | 1.28     |\n",
      "|    epoch          | 34       |\n",
      "|    l2_loss        | 0        |\n",
      "|    l2_norm        | 761      |\n",
      "|    loss           | 0.578    |\n",
      "|    neglogp        | 0.579    |\n",
      "|    prob_true_act  | 0.615    |\n",
      "|    samples_so_far | 1671168  |\n",
      "--------------------------------\n"
     ]
    },
    {
     "name": "stderr",
     "output_type": "stream",
     "text": [
      "840batch [04:53,  2.98batch/s]"
     ]
    },
    {
     "name": "stdout",
     "output_type": "stream",
     "text": [
      "--------------------------------\n",
      "| batch_size        | 2048     |\n",
      "| bc/               |          |\n",
      "|    batch          | 839      |\n",
      "|    ent_loss       | -0.00124 |\n",
      "|    entropy        | 1.24     |\n",
      "|    epoch          | 35       |\n",
      "|    l2_loss        | 0        |\n",
      "|    l2_norm        | 770      |\n",
      "|    loss           | 0.526    |\n",
      "|    neglogp        | 0.527    |\n",
      "|    prob_true_act  | 0.648    |\n",
      "|    samples_so_far | 1720320  |\n",
      "--------------------------------\n"
     ]
    },
    {
     "name": "stderr",
     "output_type": "stream",
     "text": [
      "864batch [05:02,  2.96batch/s]"
     ]
    },
    {
     "name": "stdout",
     "output_type": "stream",
     "text": [
      "--------------------------------\n",
      "| batch_size        | 2048     |\n",
      "| bc/               |          |\n",
      "|    batch          | 863      |\n",
      "|    ent_loss       | -0.0012  |\n",
      "|    entropy        | 1.2      |\n",
      "|    epoch          | 36       |\n",
      "|    l2_loss        | 0        |\n",
      "|    l2_norm        | 781      |\n",
      "|    loss           | 0.495    |\n",
      "|    neglogp        | 0.496    |\n",
      "|    prob_true_act  | 0.654    |\n",
      "|    samples_so_far | 1769472  |\n",
      "--------------------------------\n"
     ]
    },
    {
     "name": "stderr",
     "output_type": "stream",
     "text": [
      "888batch [05:10,  2.94batch/s]"
     ]
    },
    {
     "name": "stdout",
     "output_type": "stream",
     "text": [
      "--------------------------------\n",
      "| batch_size        | 2048     |\n",
      "| bc/               |          |\n",
      "|    batch          | 887      |\n",
      "|    ent_loss       | -0.00116 |\n",
      "|    entropy        | 1.16     |\n",
      "|    epoch          | 37       |\n",
      "|    l2_loss        | 0        |\n",
      "|    l2_norm        | 792      |\n",
      "|    loss           | 0.466    |\n",
      "|    neglogp        | 0.468    |\n",
      "|    prob_true_act  | 0.692    |\n",
      "|    samples_so_far | 1818624  |\n",
      "--------------------------------\n"
     ]
    },
    {
     "name": "stderr",
     "output_type": "stream",
     "text": [
      "912batch [05:20,  2.52batch/s]"
     ]
    },
    {
     "name": "stdout",
     "output_type": "stream",
     "text": [
      "--------------------------------\n",
      "| batch_size        | 2048     |\n",
      "| bc/               |          |\n",
      "|    batch          | 911      |\n",
      "|    ent_loss       | -0.00112 |\n",
      "|    entropy        | 1.12     |\n",
      "|    epoch          | 38       |\n",
      "|    l2_loss        | 0        |\n",
      "|    l2_norm        | 806      |\n",
      "|    loss           | 0.438    |\n",
      "|    neglogp        | 0.439    |\n",
      "|    prob_true_act  | 0.706    |\n",
      "|    samples_so_far | 1867776  |\n",
      "--------------------------------\n"
     ]
    },
    {
     "name": "stderr",
     "output_type": "stream",
     "text": [
      "936batch [05:28,  2.96batch/s]"
     ]
    },
    {
     "name": "stdout",
     "output_type": "stream",
     "text": [
      "--------------------------------\n",
      "| batch_size        | 2048     |\n",
      "| bc/               |          |\n",
      "|    batch          | 935      |\n",
      "|    ent_loss       | -0.00108 |\n",
      "|    entropy        | 1.08     |\n",
      "|    epoch          | 39       |\n",
      "|    l2_loss        | 0        |\n",
      "|    l2_norm        | 822      |\n",
      "|    loss           | 0.434    |\n",
      "|    neglogp        | 0.435    |\n",
      "|    prob_true_act  | 0.733    |\n",
      "|    samples_so_far | 1916928  |\n",
      "--------------------------------\n"
     ]
    },
    {
     "name": "stderr",
     "output_type": "stream",
     "text": [
      "960batch [05:36,  2.93batch/s]"
     ]
    },
    {
     "name": "stdout",
     "output_type": "stream",
     "text": [
      "--------------------------------\n",
      "| batch_size        | 2048     |\n",
      "| bc/               |          |\n",
      "|    batch          | 959      |\n",
      "|    ent_loss       | -0.00104 |\n",
      "|    entropy        | 1.04     |\n",
      "|    epoch          | 40       |\n",
      "|    l2_loss        | 0        |\n",
      "|    l2_norm        | 842      |\n",
      "|    loss           | 0.379    |\n",
      "|    neglogp        | 0.38     |\n",
      "|    prob_true_act  | 0.759    |\n",
      "|    samples_so_far | 1966080  |\n",
      "--------------------------------\n"
     ]
    },
    {
     "name": "stderr",
     "output_type": "stream",
     "text": [
      "984batch [05:45,  2.99batch/s]"
     ]
    },
    {
     "name": "stdout",
     "output_type": "stream",
     "text": [
      "--------------------------------\n",
      "| batch_size        | 2048     |\n",
      "| bc/               |          |\n",
      "|    batch          | 983      |\n",
      "|    ent_loss       | -0.00101 |\n",
      "|    entropy        | 1.01     |\n",
      "|    epoch          | 41       |\n",
      "|    l2_loss        | 0        |\n",
      "|    l2_norm        | 863      |\n",
      "|    loss           | 0.339    |\n",
      "|    neglogp        | 0.34     |\n",
      "|    prob_true_act  | 0.795    |\n",
      "|    samples_so_far | 2015232  |\n",
      "--------------------------------\n"
     ]
    },
    {
     "name": "stderr",
     "output_type": "stream",
     "text": [
      "1008batch [05:53,  3.02batch/s]"
     ]
    },
    {
     "name": "stdout",
     "output_type": "stream",
     "text": [
      "---------------------------------\n",
      "| batch_size        | 2048      |\n",
      "| bc/               |           |\n",
      "|    batch          | 1007      |\n",
      "|    ent_loss       | -0.000968 |\n",
      "|    entropy        | 0.968     |\n",
      "|    epoch          | 42        |\n",
      "|    l2_loss        | 0         |\n",
      "|    l2_norm        | 889       |\n",
      "|    loss           | 0.323     |\n",
      "|    neglogp        | 0.324     |\n",
      "|    prob_true_act  | 0.818     |\n",
      "|    samples_so_far | 2064384   |\n",
      "---------------------------------\n"
     ]
    },
    {
     "name": "stderr",
     "output_type": "stream",
     "text": [
      "1032batch [06:01,  3.03batch/s]"
     ]
    },
    {
     "name": "stdout",
     "output_type": "stream",
     "text": [
      "---------------------------------\n",
      "| batch_size        | 2048      |\n",
      "| bc/               |           |\n",
      "|    batch          | 1031      |\n",
      "|    ent_loss       | -0.000931 |\n",
      "|    entropy        | 0.931     |\n",
      "|    epoch          | 43        |\n",
      "|    l2_loss        | 0         |\n",
      "|    l2_norm        | 918       |\n",
      "|    loss           | 0.309     |\n",
      "|    neglogp        | 0.31      |\n",
      "|    prob_true_act  | 0.832     |\n",
      "|    samples_so_far | 2113536   |\n",
      "---------------------------------\n"
     ]
    },
    {
     "name": "stderr",
     "output_type": "stream",
     "text": [
      "1056batch [06:10,  2.95batch/s]"
     ]
    },
    {
     "name": "stdout",
     "output_type": "stream",
     "text": [
      "---------------------------------\n",
      "| batch_size        | 2048      |\n",
      "| bc/               |           |\n",
      "|    batch          | 1055      |\n",
      "|    ent_loss       | -0.000895 |\n",
      "|    entropy        | 0.895     |\n",
      "|    epoch          | 44        |\n",
      "|    l2_loss        | 0         |\n",
      "|    l2_norm        | 949       |\n",
      "|    loss           | 0.269     |\n",
      "|    neglogp        | 0.27      |\n",
      "|    prob_true_act  | 0.861     |\n",
      "|    samples_so_far | 2162688   |\n",
      "---------------------------------\n"
     ]
    },
    {
     "name": "stderr",
     "output_type": "stream",
     "text": [
      "1080batch [06:18,  3.00batch/s]"
     ]
    },
    {
     "name": "stdout",
     "output_type": "stream",
     "text": [
      "---------------------------------\n",
      "| batch_size        | 2048      |\n",
      "| bc/               |           |\n",
      "|    batch          | 1079      |\n",
      "|    ent_loss       | -0.000859 |\n",
      "|    entropy        | 0.859     |\n",
      "|    epoch          | 45        |\n",
      "|    l2_loss        | 0         |\n",
      "|    l2_norm        | 986       |\n",
      "|    loss           | 0.248     |\n",
      "|    neglogp        | 0.248     |\n",
      "|    prob_true_act  | 0.89      |\n",
      "|    samples_so_far | 2211840   |\n",
      "---------------------------------\n"
     ]
    },
    {
     "name": "stderr",
     "output_type": "stream",
     "text": [
      "1104batch [06:27,  2.98batch/s]"
     ]
    },
    {
     "name": "stdout",
     "output_type": "stream",
     "text": [
      "---------------------------------\n",
      "| batch_size        | 2048      |\n",
      "| bc/               |           |\n",
      "|    batch          | 1103      |\n",
      "|    ent_loss       | -0.000823 |\n",
      "|    entropy        | 0.823     |\n",
      "|    epoch          | 46        |\n",
      "|    l2_loss        | 0         |\n",
      "|    l2_norm        | 1.02e+03  |\n",
      "|    loss           | 0.208     |\n",
      "|    neglogp        | 0.209     |\n",
      "|    prob_true_act  | 0.916     |\n",
      "|    samples_so_far | 2260992   |\n",
      "---------------------------------\n"
     ]
    },
    {
     "name": "stderr",
     "output_type": "stream",
     "text": [
      "1128batch [06:35,  2.98batch/s]"
     ]
    },
    {
     "name": "stdout",
     "output_type": "stream",
     "text": [
      "---------------------------------\n",
      "| batch_size        | 2048      |\n",
      "| bc/               |           |\n",
      "|    batch          | 1127      |\n",
      "|    ent_loss       | -0.000789 |\n",
      "|    entropy        | 0.789     |\n",
      "|    epoch          | 47        |\n",
      "|    l2_loss        | 0         |\n",
      "|    l2_norm        | 1.06e+03  |\n",
      "|    loss           | 0.223     |\n",
      "|    neglogp        | 0.224     |\n",
      "|    prob_true_act  | 0.949     |\n",
      "|    samples_so_far | 2310144   |\n",
      "---------------------------------\n"
     ]
    },
    {
     "name": "stderr",
     "output_type": "stream",
     "text": [
      "1152batch [06:44,  2.15batch/s]"
     ]
    },
    {
     "name": "stdout",
     "output_type": "stream",
     "text": [
      "---------------------------------\n",
      "| batch_size        | 2048      |\n",
      "| bc/               |           |\n",
      "|    batch          | 1151      |\n",
      "|    ent_loss       | -0.000754 |\n",
      "|    entropy        | 0.754     |\n",
      "|    epoch          | 48        |\n",
      "|    l2_loss        | 0         |\n",
      "|    l2_norm        | 1.1e+03   |\n",
      "|    loss           | 0.147     |\n",
      "|    neglogp        | 0.148     |\n",
      "|    prob_true_act  | 0.99      |\n",
      "|    samples_so_far | 2359296   |\n",
      "---------------------------------\n"
     ]
    },
    {
     "name": "stderr",
     "output_type": "stream",
     "text": [
      "1176batch [06:52,  2.96batch/s]"
     ]
    },
    {
     "name": "stdout",
     "output_type": "stream",
     "text": [
      "--------------------------------\n",
      "| batch_size        | 2048     |\n",
      "| bc/               |          |\n",
      "|    batch          | 1175     |\n",
      "|    ent_loss       | -0.00072 |\n",
      "|    entropy        | 0.72     |\n",
      "|    epoch          | 49       |\n",
      "|    l2_loss        | 0        |\n",
      "|    l2_norm        | 1.13e+03 |\n",
      "|    loss           | 0.14     |\n",
      "|    neglogp        | 0.141    |\n",
      "|    prob_true_act  | 1        |\n",
      "|    samples_so_far | 2408448  |\n",
      "--------------------------------\n"
     ]
    },
    {
     "name": "stderr",
     "output_type": "stream",
     "text": [
      "1200batch [07:01,  2.68batch/s]"
     ]
    },
    {
     "name": "stdout",
     "output_type": "stream",
     "text": [
      "---------------------------------\n",
      "| batch_size        | 2048      |\n",
      "| bc/               |           |\n",
      "|    batch          | 1199      |\n",
      "|    ent_loss       | -0.000687 |\n",
      "|    entropy        | 0.687     |\n",
      "|    epoch          | 50        |\n",
      "|    l2_loss        | 0         |\n",
      "|    l2_norm        | 1.18e+03  |\n",
      "|    loss           | 0.128     |\n",
      "|    neglogp        | 0.129     |\n",
      "|    prob_true_act  | 1.02      |\n",
      "|    samples_so_far | 2457600   |\n",
      "---------------------------------\n"
     ]
    },
    {
     "name": "stderr",
     "output_type": "stream",
     "text": [
      "1224batch [07:09,  2.93batch/s]"
     ]
    },
    {
     "name": "stdout",
     "output_type": "stream",
     "text": [
      "---------------------------------\n",
      "| batch_size        | 2048      |\n",
      "| bc/               |           |\n",
      "|    batch          | 1223      |\n",
      "|    ent_loss       | -0.000655 |\n",
      "|    entropy        | 0.655     |\n",
      "|    epoch          | 51        |\n",
      "|    l2_loss        | 0         |\n",
      "|    l2_norm        | 1.22e+03  |\n",
      "|    loss           | 0.101     |\n",
      "|    neglogp        | 0.102     |\n",
      "|    prob_true_act  | 1.06      |\n",
      "|    samples_so_far | 2506752   |\n",
      "---------------------------------\n"
     ]
    },
    {
     "name": "stderr",
     "output_type": "stream",
     "text": [
      "1248batch [07:17,  2.93batch/s]"
     ]
    },
    {
     "name": "stdout",
     "output_type": "stream",
     "text": [
      "---------------------------------\n",
      "| batch_size        | 2048      |\n",
      "| bc/               |           |\n",
      "|    batch          | 1247      |\n",
      "|    ent_loss       | -0.000622 |\n",
      "|    entropy        | 0.622     |\n",
      "|    epoch          | 52        |\n",
      "|    l2_loss        | 0         |\n",
      "|    l2_norm        | 1.26e+03  |\n",
      "|    loss           | 0.079     |\n",
      "|    neglogp        | 0.0796    |\n",
      "|    prob_true_act  | 1.08      |\n",
      "|    samples_so_far | 2555904   |\n",
      "---------------------------------\n"
     ]
    },
    {
     "name": "stderr",
     "output_type": "stream",
     "text": [
      "1272batch [07:26,  2.98batch/s]"
     ]
    },
    {
     "name": "stdout",
     "output_type": "stream",
     "text": [
      "--------------------------------\n",
      "| batch_size        | 2048     |\n",
      "| bc/               |          |\n",
      "|    batch          | 1271     |\n",
      "|    ent_loss       | -0.00059 |\n",
      "|    entropy        | 0.59     |\n",
      "|    epoch          | 53       |\n",
      "|    l2_loss        | 0        |\n",
      "|    l2_norm        | 1.3e+03  |\n",
      "|    loss           | 0.0703   |\n",
      "|    neglogp        | 0.0709   |\n",
      "|    prob_true_act  | 1.15     |\n",
      "|    samples_so_far | 2605056  |\n",
      "--------------------------------\n"
     ]
    },
    {
     "name": "stderr",
     "output_type": "stream",
     "text": [
      "1296batch [07:34,  2.96batch/s]"
     ]
    },
    {
     "name": "stdout",
     "output_type": "stream",
     "text": [
      "---------------------------------\n",
      "| batch_size        | 2048      |\n",
      "| bc/               |           |\n",
      "|    batch          | 1295      |\n",
      "|    ent_loss       | -0.000559 |\n",
      "|    entropy        | 0.559     |\n",
      "|    epoch          | 54        |\n",
      "|    l2_loss        | 0         |\n",
      "|    l2_norm        | 1.34e+03  |\n",
      "|    loss           | 0.0112    |\n",
      "|    neglogp        | 0.0118    |\n",
      "|    prob_true_act  | 1.17      |\n",
      "|    samples_so_far | 2654208   |\n",
      "---------------------------------\n"
     ]
    },
    {
     "name": "stderr",
     "output_type": "stream",
     "text": [
      "1320batch [07:43,  2.96batch/s]"
     ]
    },
    {
     "name": "stdout",
     "output_type": "stream",
     "text": [
      "---------------------------------\n",
      "| batch_size        | 2048      |\n",
      "| bc/               |           |\n",
      "|    batch          | 1319      |\n",
      "|    ent_loss       | -0.000528 |\n",
      "|    entropy        | 0.528     |\n",
      "|    epoch          | 55        |\n",
      "|    l2_loss        | 0         |\n",
      "|    l2_norm        | 1.39e+03  |\n",
      "|    loss           | 0.0103    |\n",
      "|    neglogp        | 0.0108    |\n",
      "|    prob_true_act  | 1.19      |\n",
      "|    samples_so_far | 2703360   |\n",
      "---------------------------------\n"
     ]
    },
    {
     "name": "stderr",
     "output_type": "stream",
     "text": [
      "1344batch [07:51,  2.92batch/s]"
     ]
    },
    {
     "name": "stdout",
     "output_type": "stream",
     "text": [
      "---------------------------------\n",
      "| batch_size        | 2048      |\n",
      "| bc/               |           |\n",
      "|    batch          | 1343      |\n",
      "|    ent_loss       | -0.000497 |\n",
      "|    entropy        | 0.497     |\n",
      "|    epoch          | 56        |\n",
      "|    l2_loss        | 0         |\n",
      "|    l2_norm        | 1.44e+03  |\n",
      "|    loss           | -0.00371  |\n",
      "|    neglogp        | -0.00321  |\n",
      "|    prob_true_act  | 1.21      |\n",
      "|    samples_so_far | 2752512   |\n",
      "---------------------------------\n"
     ]
    },
    {
     "name": "stderr",
     "output_type": "stream",
     "text": [
      "1368batch [08:00,  2.93batch/s]"
     ]
    },
    {
     "name": "stdout",
     "output_type": "stream",
     "text": [
      "---------------------------------\n",
      "| batch_size        | 2048      |\n",
      "| bc/               |           |\n",
      "|    batch          | 1367      |\n",
      "|    ent_loss       | -0.000466 |\n",
      "|    entropy        | 0.466     |\n",
      "|    epoch          | 57        |\n",
      "|    l2_loss        | 0         |\n",
      "|    l2_norm        | 1.49e+03  |\n",
      "|    loss           | -0.0634   |\n",
      "|    neglogp        | -0.0629   |\n",
      "|    prob_true_act  | 1.28      |\n",
      "|    samples_so_far | 2801664   |\n",
      "---------------------------------\n"
     ]
    },
    {
     "name": "stderr",
     "output_type": "stream",
     "text": [
      "1392batch [08:08,  3.01batch/s]"
     ]
    },
    {
     "name": "stdout",
     "output_type": "stream",
     "text": [
      "---------------------------------\n",
      "| batch_size        | 2048      |\n",
      "| bc/               |           |\n",
      "|    batch          | 1391      |\n",
      "|    ent_loss       | -0.000436 |\n",
      "|    entropy        | 0.436     |\n",
      "|    epoch          | 58        |\n",
      "|    l2_loss        | 0         |\n",
      "|    l2_norm        | 1.53e+03  |\n",
      "|    loss           | -0.0809   |\n",
      "|    neglogp        | -0.0804   |\n",
      "|    prob_true_act  | 1.31      |\n",
      "|    samples_so_far | 2850816   |\n",
      "---------------------------------\n"
     ]
    },
    {
     "name": "stderr",
     "output_type": "stream",
     "text": [
      "1416batch [08:16,  2.99batch/s]"
     ]
    },
    {
     "name": "stdout",
     "output_type": "stream",
     "text": [
      "---------------------------------\n",
      "| batch_size        | 2048      |\n",
      "| bc/               |           |\n",
      "|    batch          | 1415      |\n",
      "|    ent_loss       | -0.000406 |\n",
      "|    entropy        | 0.406     |\n",
      "|    epoch          | 59        |\n",
      "|    l2_loss        | 0         |\n",
      "|    l2_norm        | 1.59e+03  |\n",
      "|    loss           | -0.105    |\n",
      "|    neglogp        | -0.104    |\n",
      "|    prob_true_act  | 1.35      |\n",
      "|    samples_so_far | 2899968   |\n",
      "---------------------------------\n"
     ]
    },
    {
     "name": "stderr",
     "output_type": "stream",
     "text": [
      "1440batch [08:25,  2.97batch/s]"
     ]
    },
    {
     "name": "stdout",
     "output_type": "stream",
     "text": [
      "---------------------------------\n",
      "| batch_size        | 2048      |\n",
      "| bc/               |           |\n",
      "|    batch          | 1439      |\n",
      "|    ent_loss       | -0.000376 |\n",
      "|    entropy        | 0.376     |\n",
      "|    epoch          | 60        |\n",
      "|    l2_loss        | 0         |\n",
      "|    l2_norm        | 1.64e+03  |\n",
      "|    loss           | -0.113    |\n",
      "|    neglogp        | -0.112    |\n",
      "|    prob_true_act  | 1.39      |\n",
      "|    samples_so_far | 2949120   |\n",
      "---------------------------------\n"
     ]
    },
    {
     "name": "stderr",
     "output_type": "stream",
     "text": [
      "1464batch [08:33,  3.01batch/s]"
     ]
    },
    {
     "name": "stdout",
     "output_type": "stream",
     "text": [
      "---------------------------------\n",
      "| batch_size        | 2048      |\n",
      "| bc/               |           |\n",
      "|    batch          | 1463      |\n",
      "|    ent_loss       | -0.000347 |\n",
      "|    entropy        | 0.347     |\n",
      "|    epoch          | 61        |\n",
      "|    l2_loss        | 0         |\n",
      "|    l2_norm        | 1.69e+03  |\n",
      "|    loss           | -0.127    |\n",
      "|    neglogp        | -0.126    |\n",
      "|    prob_true_act  | 1.37      |\n",
      "|    samples_so_far | 2998272   |\n",
      "---------------------------------\n"
     ]
    },
    {
     "name": "stderr",
     "output_type": "stream",
     "text": [
      "1488batch [08:42,  3.04batch/s]"
     ]
    },
    {
     "name": "stdout",
     "output_type": "stream",
     "text": [
      "---------------------------------\n",
      "| batch_size        | 2048      |\n",
      "| bc/               |           |\n",
      "|    batch          | 1487      |\n",
      "|    ent_loss       | -0.000318 |\n",
      "|    entropy        | 0.318     |\n",
      "|    epoch          | 62        |\n",
      "|    l2_loss        | 0         |\n",
      "|    l2_norm        | 1.75e+03  |\n",
      "|    loss           | -0.122    |\n",
      "|    neglogp        | -0.122    |\n",
      "|    prob_true_act  | 1.38      |\n",
      "|    samples_so_far | 3047424   |\n",
      "---------------------------------\n"
     ]
    },
    {
     "name": "stderr",
     "output_type": "stream",
     "text": [
      "1512batch [08:50,  3.00batch/s]"
     ]
    },
    {
     "name": "stdout",
     "output_type": "stream",
     "text": [
      "--------------------------------\n",
      "| batch_size        | 2048     |\n",
      "| bc/               |          |\n",
      "|    batch          | 1511     |\n",
      "|    ent_loss       | -0.00029 |\n",
      "|    entropy        | 0.29     |\n",
      "|    epoch          | 63       |\n",
      "|    l2_loss        | 0        |\n",
      "|    l2_norm        | 1.8e+03  |\n",
      "|    loss           | -0.162   |\n",
      "|    neglogp        | -0.162   |\n",
      "|    prob_true_act  | 1.46     |\n",
      "|    samples_so_far | 3096576  |\n",
      "--------------------------------\n"
     ]
    },
    {
     "name": "stderr",
     "output_type": "stream",
     "text": [
      "1536batch [08:58,  3.02batch/s]"
     ]
    },
    {
     "name": "stdout",
     "output_type": "stream",
     "text": [
      "---------------------------------\n",
      "| batch_size        | 2048      |\n",
      "| bc/               |           |\n",
      "|    batch          | 1535      |\n",
      "|    ent_loss       | -0.000261 |\n",
      "|    entropy        | 0.261     |\n",
      "|    epoch          | 64        |\n",
      "|    l2_loss        | 0         |\n",
      "|    l2_norm        | 1.85e+03  |\n",
      "|    loss           | -0.239    |\n",
      "|    neglogp        | -0.239    |\n",
      "|    prob_true_act  | 1.55      |\n",
      "|    samples_so_far | 3145728   |\n",
      "---------------------------------\n"
     ]
    },
    {
     "name": "stderr",
     "output_type": "stream",
     "text": [
      "1560batch [09:06,  2.76batch/s]"
     ]
    },
    {
     "name": "stdout",
     "output_type": "stream",
     "text": [
      "---------------------------------\n",
      "| batch_size        | 2048      |\n",
      "| bc/               |           |\n",
      "|    batch          | 1559      |\n",
      "|    ent_loss       | -0.000233 |\n",
      "|    entropy        | 0.233     |\n",
      "|    epoch          | 65        |\n",
      "|    l2_loss        | 0         |\n",
      "|    l2_norm        | 1.9e+03   |\n",
      "|    loss           | -0.268    |\n",
      "|    neglogp        | -0.268    |\n",
      "|    prob_true_act  | 1.59      |\n",
      "|    samples_so_far | 3194880   |\n",
      "---------------------------------\n"
     ]
    },
    {
     "name": "stderr",
     "output_type": "stream",
     "text": [
      "1584batch [09:15,  3.02batch/s]"
     ]
    },
    {
     "name": "stdout",
     "output_type": "stream",
     "text": [
      "---------------------------------\n",
      "| batch_size        | 2048      |\n",
      "| bc/               |           |\n",
      "|    batch          | 1583      |\n",
      "|    ent_loss       | -0.000205 |\n",
      "|    entropy        | 0.205     |\n",
      "|    epoch          | 66        |\n",
      "|    l2_loss        | 0         |\n",
      "|    l2_norm        | 1.96e+03  |\n",
      "|    loss           | -0.266    |\n",
      "|    neglogp        | -0.266    |\n",
      "|    prob_true_act  | 1.6       |\n",
      "|    samples_so_far | 3244032   |\n",
      "---------------------------------\n"
     ]
    },
    {
     "name": "stderr",
     "output_type": "stream",
     "text": [
      "1608batch [09:23,  3.04batch/s]"
     ]
    },
    {
     "name": "stdout",
     "output_type": "stream",
     "text": [
      "---------------------------------\n",
      "| batch_size        | 2048      |\n",
      "| bc/               |           |\n",
      "|    batch          | 1607      |\n",
      "|    ent_loss       | -0.000176 |\n",
      "|    entropy        | 0.176     |\n",
      "|    epoch          | 67        |\n",
      "|    l2_loss        | 0         |\n",
      "|    l2_norm        | 2.01e+03  |\n",
      "|    loss           | -0.299    |\n",
      "|    neglogp        | -0.299    |\n",
      "|    prob_true_act  | 1.63      |\n",
      "|    samples_so_far | 3293184   |\n",
      "---------------------------------\n"
     ]
    },
    {
     "name": "stderr",
     "output_type": "stream",
     "text": [
      "1632batch [09:32,  2.99batch/s]"
     ]
    },
    {
     "name": "stdout",
     "output_type": "stream",
     "text": [
      "---------------------------------\n",
      "| batch_size        | 2048      |\n",
      "| bc/               |           |\n",
      "|    batch          | 1631      |\n",
      "|    ent_loss       | -0.000148 |\n",
      "|    entropy        | 0.148     |\n",
      "|    epoch          | 68        |\n",
      "|    l2_loss        | 0         |\n",
      "|    l2_norm        | 2.06e+03  |\n",
      "|    loss           | -0.269    |\n",
      "|    neglogp        | -0.269    |\n",
      "|    prob_true_act  | 1.65      |\n",
      "|    samples_so_far | 3342336   |\n",
      "---------------------------------\n"
     ]
    },
    {
     "name": "stderr",
     "output_type": "stream",
     "text": [
      "1656batch [09:40,  2.96batch/s]"
     ]
    },
    {
     "name": "stdout",
     "output_type": "stream",
     "text": [
      "--------------------------------\n",
      "| batch_size        | 2048     |\n",
      "| bc/               |          |\n",
      "|    batch          | 1655     |\n",
      "|    ent_loss       | -0.00012 |\n",
      "|    entropy        | 0.12     |\n",
      "|    epoch          | 69       |\n",
      "|    l2_loss        | 0        |\n",
      "|    l2_norm        | 2.11e+03 |\n",
      "|    loss           | -0.327   |\n",
      "|    neglogp        | -0.327   |\n",
      "|    prob_true_act  | 1.72     |\n",
      "|    samples_so_far | 3391488  |\n",
      "--------------------------------\n"
     ]
    },
    {
     "name": "stderr",
     "output_type": "stream",
     "text": [
      "1680batch [09:48,  3.01batch/s]"
     ]
    },
    {
     "name": "stdout",
     "output_type": "stream",
     "text": [
      "---------------------------------\n",
      "| batch_size        | 2048      |\n",
      "| bc/               |           |\n",
      "|    batch          | 1679      |\n",
      "|    ent_loss       | -9.28e-05 |\n",
      "|    entropy        | 0.0928    |\n",
      "|    epoch          | 70        |\n",
      "|    l2_loss        | 0         |\n",
      "|    l2_norm        | 2.17e+03  |\n",
      "|    loss           | -0.336    |\n",
      "|    neglogp        | -0.336    |\n",
      "|    prob_true_act  | 1.81      |\n",
      "|    samples_so_far | 3440640   |\n",
      "---------------------------------\n"
     ]
    },
    {
     "name": "stderr",
     "output_type": "stream",
     "text": [
      "1704batch [09:57,  2.99batch/s]"
     ]
    },
    {
     "name": "stdout",
     "output_type": "stream",
     "text": [
      "---------------------------------\n",
      "| batch_size        | 2048      |\n",
      "| bc/               |           |\n",
      "|    batch          | 1703      |\n",
      "|    ent_loss       | -6.56e-05 |\n",
      "|    entropy        | 0.0656    |\n",
      "|    epoch          | 71        |\n",
      "|    l2_loss        | 0         |\n",
      "|    l2_norm        | 2.22e+03  |\n",
      "|    loss           | -0.329    |\n",
      "|    neglogp        | -0.328    |\n",
      "|    prob_true_act  | 1.8       |\n",
      "|    samples_so_far | 3489792   |\n",
      "---------------------------------\n"
     ]
    },
    {
     "name": "stderr",
     "output_type": "stream",
     "text": [
      "1728batch [10:05,  2.95batch/s]"
     ]
    },
    {
     "name": "stdout",
     "output_type": "stream",
     "text": [
      "---------------------------------\n",
      "| batch_size        | 2048      |\n",
      "| bc/               |           |\n",
      "|    batch          | 1727      |\n",
      "|    ent_loss       | -3.93e-05 |\n",
      "|    entropy        | 0.0393    |\n",
      "|    epoch          | 72        |\n",
      "|    l2_loss        | 0         |\n",
      "|    l2_norm        | 2.27e+03  |\n",
      "|    loss           | -0.268    |\n",
      "|    neglogp        | -0.268    |\n",
      "|    prob_true_act  | 1.76      |\n",
      "|    samples_so_far | 3538944   |\n",
      "---------------------------------\n"
     ]
    },
    {
     "name": "stderr",
     "output_type": "stream",
     "text": [
      "1752batch [10:13,  2.98batch/s]"
     ]
    },
    {
     "name": "stdout",
     "output_type": "stream",
     "text": [
      "---------------------------------\n",
      "| batch_size        | 2048      |\n",
      "| bc/               |           |\n",
      "|    batch          | 1751      |\n",
      "|    ent_loss       | -1.43e-05 |\n",
      "|    entropy        | 0.0143    |\n",
      "|    epoch          | 73        |\n",
      "|    l2_loss        | 0         |\n",
      "|    l2_norm        | 2.33e+03  |\n",
      "|    loss           | -0.382    |\n",
      "|    neglogp        | -0.382    |\n",
      "|    prob_true_act  | 1.86      |\n",
      "|    samples_so_far | 3588096   |\n",
      "---------------------------------\n"
     ]
    },
    {
     "name": "stderr",
     "output_type": "stream",
     "text": [
      "1776batch [10:22,  2.93batch/s]"
     ]
    },
    {
     "name": "stdout",
     "output_type": "stream",
     "text": [
      "--------------------------------\n",
      "| batch_size        | 2048     |\n",
      "| bc/               |          |\n",
      "|    batch          | 1775     |\n",
      "|    ent_loss       | 1.15e-05 |\n",
      "|    entropy        | -0.0115  |\n",
      "|    epoch          | 74       |\n",
      "|    l2_loss        | 0        |\n",
      "|    l2_norm        | 2.38e+03 |\n",
      "|    loss           | -0.422   |\n",
      "|    neglogp        | -0.422   |\n",
      "|    prob_true_act  | 1.96     |\n",
      "|    samples_so_far | 3637248  |\n",
      "--------------------------------\n"
     ]
    },
    {
     "name": "stderr",
     "output_type": "stream",
     "text": [
      "1800batch [10:30,  2.98batch/s]"
     ]
    },
    {
     "name": "stdout",
     "output_type": "stream",
     "text": [
      "--------------------------------\n",
      "| batch_size        | 2048     |\n",
      "| bc/               |          |\n",
      "|    batch          | 1799     |\n",
      "|    ent_loss       | 3.79e-05 |\n",
      "|    entropy        | -0.0379  |\n",
      "|    epoch          | 75       |\n",
      "|    l2_loss        | 0        |\n",
      "|    l2_norm        | 2.42e+03 |\n",
      "|    loss           | -0.515   |\n",
      "|    neglogp        | -0.515   |\n",
      "|    prob_true_act  | 2.06     |\n",
      "|    samples_so_far | 3686400  |\n",
      "--------------------------------\n"
     ]
    },
    {
     "name": "stderr",
     "output_type": "stream",
     "text": [
      "1824batch [10:38,  2.96batch/s]"
     ]
    },
    {
     "name": "stdout",
     "output_type": "stream",
     "text": [
      "--------------------------------\n",
      "| batch_size        | 2048     |\n",
      "| bc/               |          |\n",
      "|    batch          | 1823     |\n",
      "|    ent_loss       | 6.4e-05  |\n",
      "|    entropy        | -0.064   |\n",
      "|    epoch          | 76       |\n",
      "|    l2_loss        | 0        |\n",
      "|    l2_norm        | 2.47e+03 |\n",
      "|    loss           | -0.466   |\n",
      "|    neglogp        | -0.467   |\n",
      "|    prob_true_act  | 2.04     |\n",
      "|    samples_so_far | 3735552  |\n",
      "--------------------------------\n"
     ]
    },
    {
     "name": "stderr",
     "output_type": "stream",
     "text": [
      "1848batch [10:48,  2.72batch/s]"
     ]
    },
    {
     "name": "stdout",
     "output_type": "stream",
     "text": [
      "--------------------------------\n",
      "| batch_size        | 2048     |\n",
      "| bc/               |          |\n",
      "|    batch          | 1847     |\n",
      "|    ent_loss       | 8.98e-05 |\n",
      "|    entropy        | -0.0898  |\n",
      "|    epoch          | 77       |\n",
      "|    l2_loss        | 0        |\n",
      "|    l2_norm        | 2.51e+03 |\n",
      "|    loss           | -0.432   |\n",
      "|    neglogp        | -0.432   |\n",
      "|    prob_true_act  | 2.14     |\n",
      "|    samples_so_far | 3784704  |\n",
      "--------------------------------\n"
     ]
    },
    {
     "name": "stderr",
     "output_type": "stream",
     "text": [
      "1872batch [10:56,  2.99batch/s]"
     ]
    },
    {
     "name": "stdout",
     "output_type": "stream",
     "text": [
      "--------------------------------\n",
      "| batch_size        | 2048     |\n",
      "| bc/               |          |\n",
      "|    batch          | 1871     |\n",
      "|    ent_loss       | 0.000115 |\n",
      "|    entropy        | -0.115   |\n",
      "|    epoch          | 78       |\n",
      "|    l2_loss        | 0        |\n",
      "|    l2_norm        | 2.56e+03 |\n",
      "|    loss           | -0.5     |\n",
      "|    neglogp        | -0.5     |\n",
      "|    prob_true_act  | 2.15     |\n",
      "|    samples_so_far | 3833856  |\n",
      "--------------------------------\n"
     ]
    },
    {
     "name": "stderr",
     "output_type": "stream",
     "text": [
      "1896batch [11:04,  2.97batch/s]"
     ]
    },
    {
     "name": "stdout",
     "output_type": "stream",
     "text": [
      "--------------------------------\n",
      "| batch_size        | 2048     |\n",
      "| bc/               |          |\n",
      "|    batch          | 1895     |\n",
      "|    ent_loss       | 0.000141 |\n",
      "|    entropy        | -0.141   |\n",
      "|    epoch          | 79       |\n",
      "|    l2_loss        | 0        |\n",
      "|    l2_norm        | 2.61e+03 |\n",
      "|    loss           | -0.485   |\n",
      "|    neglogp        | -0.485   |\n",
      "|    prob_true_act  | 2.26     |\n",
      "|    samples_so_far | 3883008  |\n",
      "--------------------------------\n"
     ]
    },
    {
     "name": "stderr",
     "output_type": "stream",
     "text": [
      "1920batch [11:13,  3.02batch/s]"
     ]
    },
    {
     "name": "stdout",
     "output_type": "stream",
     "text": [
      "--------------------------------\n",
      "| batch_size        | 2048     |\n",
      "| bc/               |          |\n",
      "|    batch          | 1919     |\n",
      "|    ent_loss       | 0.000165 |\n",
      "|    entropy        | -0.165   |\n",
      "|    epoch          | 80       |\n",
      "|    l2_loss        | 0        |\n",
      "|    l2_norm        | 2.65e+03 |\n",
      "|    loss           | -0.497   |\n",
      "|    neglogp        | -0.497   |\n",
      "|    prob_true_act  | 2.3      |\n",
      "|    samples_so_far | 3932160  |\n",
      "--------------------------------\n"
     ]
    },
    {
     "name": "stderr",
     "output_type": "stream",
     "text": [
      "1944batch [11:21,  2.96batch/s]"
     ]
    },
    {
     "name": "stdout",
     "output_type": "stream",
     "text": [
      "--------------------------------\n",
      "| batch_size        | 2048     |\n",
      "| bc/               |          |\n",
      "|    batch          | 1943     |\n",
      "|    ent_loss       | 0.00019  |\n",
      "|    entropy        | -0.19    |\n",
      "|    epoch          | 81       |\n",
      "|    l2_loss        | 0        |\n",
      "|    l2_norm        | 2.7e+03  |\n",
      "|    loss           | -0.57    |\n",
      "|    neglogp        | -0.57    |\n",
      "|    prob_true_act  | 2.32     |\n",
      "|    samples_so_far | 3981312  |\n",
      "--------------------------------\n"
     ]
    },
    {
     "name": "stderr",
     "output_type": "stream",
     "text": [
      "1968batch [11:29,  2.99batch/s]"
     ]
    },
    {
     "name": "stdout",
     "output_type": "stream",
     "text": [
      "--------------------------------\n",
      "| batch_size        | 2048     |\n",
      "| bc/               |          |\n",
      "|    batch          | 1967     |\n",
      "|    ent_loss       | 0.000214 |\n",
      "|    entropy        | -0.214   |\n",
      "|    epoch          | 82       |\n",
      "|    l2_loss        | 0        |\n",
      "|    l2_norm        | 2.75e+03 |\n",
      "|    loss           | -0.577   |\n",
      "|    neglogp        | -0.578   |\n",
      "|    prob_true_act  | 2.36     |\n",
      "|    samples_so_far | 4030464  |\n",
      "--------------------------------\n"
     ]
    },
    {
     "name": "stderr",
     "output_type": "stream",
     "text": [
      "1992batch [11:38,  2.98batch/s]"
     ]
    },
    {
     "name": "stdout",
     "output_type": "stream",
     "text": [
      "--------------------------------\n",
      "| batch_size        | 2048     |\n",
      "| bc/               |          |\n",
      "|    batch          | 1991     |\n",
      "|    ent_loss       | 0.000239 |\n",
      "|    entropy        | -0.239   |\n",
      "|    epoch          | 83       |\n",
      "|    l2_loss        | 0        |\n",
      "|    l2_norm        | 2.8e+03  |\n",
      "|    loss           | -0.571   |\n",
      "|    neglogp        | -0.571   |\n",
      "|    prob_true_act  | 2.42     |\n",
      "|    samples_so_far | 4079616  |\n",
      "--------------------------------\n"
     ]
    },
    {
     "name": "stderr",
     "output_type": "stream",
     "text": [
      "2016batch [11:46,  2.94batch/s]"
     ]
    },
    {
     "name": "stdout",
     "output_type": "stream",
     "text": [
      "--------------------------------\n",
      "| batch_size        | 2048     |\n",
      "| bc/               |          |\n",
      "|    batch          | 2015     |\n",
      "|    ent_loss       | 0.000263 |\n",
      "|    entropy        | -0.263   |\n",
      "|    epoch          | 84       |\n",
      "|    l2_loss        | 0        |\n",
      "|    l2_norm        | 2.84e+03 |\n",
      "|    loss           | -0.614   |\n",
      "|    neglogp        | -0.614   |\n",
      "|    prob_true_act  | 2.54     |\n",
      "|    samples_so_far | 4128768  |\n",
      "--------------------------------\n"
     ]
    },
    {
     "name": "stderr",
     "output_type": "stream",
     "text": [
      "2040batch [11:56,  2.72batch/s]"
     ]
    },
    {
     "name": "stdout",
     "output_type": "stream",
     "text": [
      "--------------------------------\n",
      "| batch_size        | 2048     |\n",
      "| bc/               |          |\n",
      "|    batch          | 2039     |\n",
      "|    ent_loss       | 0.000287 |\n",
      "|    entropy        | -0.287   |\n",
      "|    epoch          | 85       |\n",
      "|    l2_loss        | 0        |\n",
      "|    l2_norm        | 2.88e+03 |\n",
      "|    loss           | -0.636   |\n",
      "|    neglogp        | -0.636   |\n",
      "|    prob_true_act  | 2.54     |\n",
      "|    samples_so_far | 4177920  |\n",
      "--------------------------------\n"
     ]
    },
    {
     "name": "stderr",
     "output_type": "stream",
     "text": [
      "2064batch [12:04,  2.98batch/s]"
     ]
    },
    {
     "name": "stdout",
     "output_type": "stream",
     "text": [
      "--------------------------------\n",
      "| batch_size        | 2048     |\n",
      "| bc/               |          |\n",
      "|    batch          | 2063     |\n",
      "|    ent_loss       | 0.00031  |\n",
      "|    entropy        | -0.31    |\n",
      "|    epoch          | 86       |\n",
      "|    l2_loss        | 0        |\n",
      "|    l2_norm        | 2.92e+03 |\n",
      "|    loss           | -0.587   |\n",
      "|    neglogp        | -0.587   |\n",
      "|    prob_true_act  | 2.53     |\n",
      "|    samples_so_far | 4227072  |\n",
      "--------------------------------\n"
     ]
    },
    {
     "name": "stderr",
     "output_type": "stream",
     "text": [
      "2088batch [12:12,  2.91batch/s]"
     ]
    },
    {
     "name": "stdout",
     "output_type": "stream",
     "text": [
      "--------------------------------\n",
      "| batch_size        | 2048     |\n",
      "| bc/               |          |\n",
      "|    batch          | 2087     |\n",
      "|    ent_loss       | 0.00033  |\n",
      "|    entropy        | -0.33    |\n",
      "|    epoch          | 87       |\n",
      "|    l2_loss        | 0        |\n",
      "|    l2_norm        | 2.97e+03 |\n",
      "|    loss           | -0.673   |\n",
      "|    neglogp        | -0.673   |\n",
      "|    prob_true_act  | 2.63     |\n",
      "|    samples_so_far | 4276224  |\n",
      "--------------------------------\n"
     ]
    },
    {
     "name": "stderr",
     "output_type": "stream",
     "text": [
      "2112batch [12:21,  3.00batch/s]"
     ]
    },
    {
     "name": "stdout",
     "output_type": "stream",
     "text": [
      "--------------------------------\n",
      "| batch_size        | 2048     |\n",
      "| bc/               |          |\n",
      "|    batch          | 2111     |\n",
      "|    ent_loss       | 0.000353 |\n",
      "|    entropy        | -0.353   |\n",
      "|    epoch          | 88       |\n",
      "|    l2_loss        | 0        |\n",
      "|    l2_norm        | 3.01e+03 |\n",
      "|    loss           | -0.704   |\n",
      "|    neglogp        | -0.704   |\n",
      "|    prob_true_act  | 2.68     |\n",
      "|    samples_so_far | 4325376  |\n",
      "--------------------------------\n"
     ]
    },
    {
     "name": "stderr",
     "output_type": "stream",
     "text": [
      "2136batch [12:29,  2.94batch/s]"
     ]
    },
    {
     "name": "stdout",
     "output_type": "stream",
     "text": [
      "--------------------------------\n",
      "| batch_size        | 2048     |\n",
      "| bc/               |          |\n",
      "|    batch          | 2135     |\n",
      "|    ent_loss       | 0.000375 |\n",
      "|    entropy        | -0.375   |\n",
      "|    epoch          | 89       |\n",
      "|    l2_loss        | 0        |\n",
      "|    l2_norm        | 3.05e+03 |\n",
      "|    loss           | -0.692   |\n",
      "|    neglogp        | -0.693   |\n",
      "|    prob_true_act  | 2.79     |\n",
      "|    samples_so_far | 4374528  |\n",
      "--------------------------------\n"
     ]
    },
    {
     "name": "stderr",
     "output_type": "stream",
     "text": [
      "2160batch [12:38,  2.95batch/s]"
     ]
    },
    {
     "name": "stdout",
     "output_type": "stream",
     "text": [
      "--------------------------------\n",
      "| batch_size        | 2048     |\n",
      "| bc/               |          |\n",
      "|    batch          | 2159     |\n",
      "|    ent_loss       | 0.000397 |\n",
      "|    entropy        | -0.397   |\n",
      "|    epoch          | 90       |\n",
      "|    l2_loss        | 0        |\n",
      "|    l2_norm        | 3.08e+03 |\n",
      "|    loss           | -0.665   |\n",
      "|    neglogp        | -0.665   |\n",
      "|    prob_true_act  | 2.7      |\n",
      "|    samples_so_far | 4423680  |\n",
      "--------------------------------\n"
     ]
    },
    {
     "name": "stderr",
     "output_type": "stream",
     "text": [
      "2184batch [12:46,  2.99batch/s]"
     ]
    },
    {
     "name": "stdout",
     "output_type": "stream",
     "text": [
      "--------------------------------\n",
      "| batch_size        | 2048     |\n",
      "| bc/               |          |\n",
      "|    batch          | 2183     |\n",
      "|    ent_loss       | 0.000417 |\n",
      "|    entropy        | -0.417   |\n",
      "|    epoch          | 91       |\n",
      "|    l2_loss        | 0        |\n",
      "|    l2_norm        | 3.12e+03 |\n",
      "|    loss           | -0.715   |\n",
      "|    neglogp        | -0.715   |\n",
      "|    prob_true_act  | 2.81     |\n",
      "|    samples_so_far | 4472832  |\n",
      "--------------------------------\n"
     ]
    },
    {
     "name": "stderr",
     "output_type": "stream",
     "text": [
      "2208batch [12:55,  2.93batch/s]"
     ]
    },
    {
     "name": "stdout",
     "output_type": "stream",
     "text": [
      "--------------------------------\n",
      "| batch_size        | 2048     |\n",
      "| bc/               |          |\n",
      "|    batch          | 2207     |\n",
      "|    ent_loss       | 0.000438 |\n",
      "|    entropy        | -0.438   |\n",
      "|    epoch          | 92       |\n",
      "|    l2_loss        | 0        |\n",
      "|    l2_norm        | 3.16e+03 |\n",
      "|    loss           | -0.756   |\n",
      "|    neglogp        | -0.756   |\n",
      "|    prob_true_act  | 2.9      |\n",
      "|    samples_so_far | 4521984  |\n",
      "--------------------------------\n"
     ]
    },
    {
     "name": "stderr",
     "output_type": "stream",
     "text": [
      "2232batch [13:03,  2.99batch/s]"
     ]
    },
    {
     "name": "stdout",
     "output_type": "stream",
     "text": [
      "--------------------------------\n",
      "| batch_size        | 2048     |\n",
      "| bc/               |          |\n",
      "|    batch          | 2231     |\n",
      "|    ent_loss       | 0.000459 |\n",
      "|    entropy        | -0.459   |\n",
      "|    epoch          | 93       |\n",
      "|    l2_loss        | 0        |\n",
      "|    l2_norm        | 3.2e+03  |\n",
      "|    loss           | -0.79    |\n",
      "|    neglogp        | -0.791   |\n",
      "|    prob_true_act  | 2.92     |\n",
      "|    samples_so_far | 4571136  |\n",
      "--------------------------------\n"
     ]
    },
    {
     "name": "stderr",
     "output_type": "stream",
     "text": [
      "2256batch [13:12,  2.94batch/s]"
     ]
    },
    {
     "name": "stdout",
     "output_type": "stream",
     "text": [
      "--------------------------------\n",
      "| batch_size        | 2048     |\n",
      "| bc/               |          |\n",
      "|    batch          | 2255     |\n",
      "|    ent_loss       | 0.000479 |\n",
      "|    entropy        | -0.479   |\n",
      "|    epoch          | 94       |\n",
      "|    l2_loss        | 0        |\n",
      "|    l2_norm        | 3.24e+03 |\n",
      "|    loss           | -0.71    |\n",
      "|    neglogp        | -0.71    |\n",
      "|    prob_true_act  | 2.93     |\n",
      "|    samples_so_far | 4620288  |\n",
      "--------------------------------\n"
     ]
    },
    {
     "name": "stderr",
     "output_type": "stream",
     "text": [
      "2280batch [13:20,  2.98batch/s]"
     ]
    },
    {
     "name": "stdout",
     "output_type": "stream",
     "text": [
      "--------------------------------\n",
      "| batch_size        | 2048     |\n",
      "| bc/               |          |\n",
      "|    batch          | 2279     |\n",
      "|    ent_loss       | 0.000497 |\n",
      "|    entropy        | -0.497   |\n",
      "|    epoch          | 95       |\n",
      "|    l2_loss        | 0        |\n",
      "|    l2_norm        | 3.29e+03 |\n",
      "|    loss           | -0.829   |\n",
      "|    neglogp        | -0.83    |\n",
      "|    prob_true_act  | 3.09     |\n",
      "|    samples_so_far | 4669440  |\n",
      "--------------------------------\n"
     ]
    },
    {
     "name": "stderr",
     "output_type": "stream",
     "text": [
      "2304batch [13:28,  2.97batch/s]"
     ]
    },
    {
     "name": "stdout",
     "output_type": "stream",
     "text": [
      "--------------------------------\n",
      "| batch_size        | 2048     |\n",
      "| bc/               |          |\n",
      "|    batch          | 2303     |\n",
      "|    ent_loss       | 0.000517 |\n",
      "|    entropy        | -0.517   |\n",
      "|    epoch          | 96       |\n",
      "|    l2_loss        | 0        |\n",
      "|    l2_norm        | 3.32e+03 |\n",
      "|    loss           | -0.763   |\n",
      "|    neglogp        | -0.764   |\n",
      "|    prob_true_act  | 3.11     |\n",
      "|    samples_so_far | 4718592  |\n",
      "--------------------------------\n"
     ]
    },
    {
     "name": "stderr",
     "output_type": "stream",
     "text": [
      "2328batch [13:37,  3.04batch/s]"
     ]
    },
    {
     "name": "stdout",
     "output_type": "stream",
     "text": [
      "--------------------------------\n",
      "| batch_size        | 2048     |\n",
      "| bc/               |          |\n",
      "|    batch          | 2327     |\n",
      "|    ent_loss       | 0.000538 |\n",
      "|    entropy        | -0.538   |\n",
      "|    epoch          | 97       |\n",
      "|    l2_loss        | 0        |\n",
      "|    l2_norm        | 3.35e+03 |\n",
      "|    loss           | -0.772   |\n",
      "|    neglogp        | -0.772   |\n",
      "|    prob_true_act  | 3.22     |\n",
      "|    samples_so_far | 4767744  |\n",
      "--------------------------------\n"
     ]
    },
    {
     "name": "stderr",
     "output_type": "stream",
     "text": [
      "2352batch [13:45,  2.94batch/s]"
     ]
    },
    {
     "name": "stdout",
     "output_type": "stream",
     "text": [
      "--------------------------------\n",
      "| batch_size        | 2048     |\n",
      "| bc/               |          |\n",
      "|    batch          | 2351     |\n",
      "|    ent_loss       | 0.000557 |\n",
      "|    entropy        | -0.557   |\n",
      "|    epoch          | 98       |\n",
      "|    l2_loss        | 0        |\n",
      "|    l2_norm        | 3.38e+03 |\n",
      "|    loss           | -0.847   |\n",
      "|    neglogp        | -0.848   |\n",
      "|    prob_true_act  | 3.27     |\n",
      "|    samples_so_far | 4816896  |\n",
      "--------------------------------\n"
     ]
    },
    {
     "name": "stderr",
     "output_type": "stream",
     "text": [
      "2376batch [13:53,  2.98batch/s]"
     ]
    },
    {
     "name": "stdout",
     "output_type": "stream",
     "text": [
      "--------------------------------\n",
      "| batch_size        | 2048     |\n",
      "| bc/               |          |\n",
      "|    batch          | 2375     |\n",
      "|    ent_loss       | 0.000574 |\n",
      "|    entropy        | -0.574   |\n",
      "|    epoch          | 99       |\n",
      "|    l2_loss        | 0        |\n",
      "|    l2_norm        | 3.42e+03 |\n",
      "|    loss           | -0.818   |\n",
      "|    neglogp        | -0.818   |\n",
      "|    prob_true_act  | 3.3      |\n",
      "|    samples_so_far | 4866048  |\n",
      "--------------------------------\n"
     ]
    },
    {
     "name": "stderr",
     "output_type": "stream",
     "text": [
      "2400batch [14:02,  2.78batch/s]"
     ]
    },
    {
     "name": "stdout",
     "output_type": "stream",
     "text": [
      "--------------------------------\n",
      "| batch_size        | 2048     |\n",
      "| bc/               |          |\n",
      "|    batch          | 2399     |\n",
      "|    ent_loss       | 0.000592 |\n",
      "|    entropy        | -0.592   |\n",
      "|    epoch          | 100      |\n",
      "|    l2_loss        | 0        |\n",
      "|    l2_norm        | 3.45e+03 |\n",
      "|    loss           | -0.796   |\n",
      "|    neglogp        | -0.797   |\n",
      "|    prob_true_act  | 3.32     |\n",
      "|    samples_so_far | 4915200  |\n",
      "--------------------------------\n"
     ]
    },
    {
     "name": "stderr",
     "output_type": "stream",
     "text": [
      "2424batch [14:11,  2.98batch/s]"
     ]
    },
    {
     "name": "stdout",
     "output_type": "stream",
     "text": [
      "--------------------------------\n",
      "| batch_size        | 2048     |\n",
      "| bc/               |          |\n",
      "|    batch          | 2423     |\n",
      "|    ent_loss       | 0.000611 |\n",
      "|    entropy        | -0.611   |\n",
      "|    epoch          | 101      |\n",
      "|    l2_loss        | 0        |\n",
      "|    l2_norm        | 3.48e+03 |\n",
      "|    loss           | -0.72    |\n",
      "|    neglogp        | -0.721   |\n",
      "|    prob_true_act  | 3.33     |\n",
      "|    samples_so_far | 4964352  |\n",
      "--------------------------------\n"
     ]
    },
    {
     "name": "stderr",
     "output_type": "stream",
     "text": [
      "2448batch [14:19,  2.98batch/s]"
     ]
    },
    {
     "name": "stdout",
     "output_type": "stream",
     "text": [
      "--------------------------------\n",
      "| batch_size        | 2048     |\n",
      "| bc/               |          |\n",
      "|    batch          | 2447     |\n",
      "|    ent_loss       | 0.000628 |\n",
      "|    entropy        | -0.628   |\n",
      "|    epoch          | 102      |\n",
      "|    l2_loss        | 0        |\n",
      "|    l2_norm        | 3.51e+03 |\n",
      "|    loss           | -0.858   |\n",
      "|    neglogp        | -0.858   |\n",
      "|    prob_true_act  | 3.44     |\n",
      "|    samples_so_far | 5013504  |\n",
      "--------------------------------\n"
     ]
    },
    {
     "name": "stderr",
     "output_type": "stream",
     "text": [
      "2472batch [14:27,  2.99batch/s]"
     ]
    },
    {
     "name": "stdout",
     "output_type": "stream",
     "text": [
      "--------------------------------\n",
      "| batch_size        | 2048     |\n",
      "| bc/               |          |\n",
      "|    batch          | 2471     |\n",
      "|    ent_loss       | 0.000645 |\n",
      "|    entropy        | -0.645   |\n",
      "|    epoch          | 103      |\n",
      "|    l2_loss        | 0        |\n",
      "|    l2_norm        | 3.55e+03 |\n",
      "|    loss           | -0.931   |\n",
      "|    neglogp        | -0.932   |\n",
      "|    prob_true_act  | 3.54     |\n",
      "|    samples_so_far | 5062656  |\n",
      "--------------------------------\n"
     ]
    },
    {
     "name": "stderr",
     "output_type": "stream",
     "text": [
      "2496batch [14:36,  2.95batch/s]"
     ]
    },
    {
     "name": "stdout",
     "output_type": "stream",
     "text": [
      "--------------------------------\n",
      "| batch_size        | 2048     |\n",
      "| bc/               |          |\n",
      "|    batch          | 2495     |\n",
      "|    ent_loss       | 0.000662 |\n",
      "|    entropy        | -0.662   |\n",
      "|    epoch          | 104      |\n",
      "|    l2_loss        | 0        |\n",
      "|    l2_norm        | 3.58e+03 |\n",
      "|    loss           | -0.854   |\n",
      "|    neglogp        | -0.855   |\n",
      "|    prob_true_act  | 3.36     |\n",
      "|    samples_so_far | 5111808  |\n",
      "--------------------------------\n"
     ]
    },
    {
     "name": "stderr",
     "output_type": "stream",
     "text": [
      "2520batch [14:44,  2.90batch/s]"
     ]
    },
    {
     "name": "stdout",
     "output_type": "stream",
     "text": [
      "--------------------------------\n",
      "| batch_size        | 2048     |\n",
      "| bc/               |          |\n",
      "|    batch          | 2519     |\n",
      "|    ent_loss       | 0.000676 |\n",
      "|    entropy        | -0.676   |\n",
      "|    epoch          | 105      |\n",
      "|    l2_loss        | 0        |\n",
      "|    l2_norm        | 3.61e+03 |\n",
      "|    loss           | -0.929   |\n",
      "|    neglogp        | -0.929   |\n",
      "|    prob_true_act  | 3.65     |\n",
      "|    samples_so_far | 5160960  |\n",
      "--------------------------------\n"
     ]
    },
    {
     "name": "stderr",
     "output_type": "stream",
     "text": [
      "2544batch [14:53,  3.00batch/s]"
     ]
    },
    {
     "name": "stdout",
     "output_type": "stream",
     "text": [
      "--------------------------------\n",
      "| batch_size        | 2048     |\n",
      "| bc/               |          |\n",
      "|    batch          | 2543     |\n",
      "|    ent_loss       | 0.000692 |\n",
      "|    entropy        | -0.692   |\n",
      "|    epoch          | 106      |\n",
      "|    l2_loss        | 0        |\n",
      "|    l2_norm        | 3.64e+03 |\n",
      "|    loss           | -0.837   |\n",
      "|    neglogp        | -0.838   |\n",
      "|    prob_true_act  | 3.64     |\n",
      "|    samples_so_far | 5210112  |\n",
      "--------------------------------\n"
     ]
    },
    {
     "name": "stderr",
     "output_type": "stream",
     "text": [
      "2568batch [15:01,  2.98batch/s]"
     ]
    },
    {
     "name": "stdout",
     "output_type": "stream",
     "text": [
      "--------------------------------\n",
      "| batch_size        | 2048     |\n",
      "| bc/               |          |\n",
      "|    batch          | 2567     |\n",
      "|    ent_loss       | 0.000707 |\n",
      "|    entropy        | -0.707   |\n",
      "|    epoch          | 107      |\n",
      "|    l2_loss        | 0        |\n",
      "|    l2_norm        | 3.67e+03 |\n",
      "|    loss           | -0.88    |\n",
      "|    neglogp        | -0.88    |\n",
      "|    prob_true_act  | 3.65     |\n",
      "|    samples_so_far | 5259264  |\n",
      "--------------------------------\n"
     ]
    },
    {
     "name": "stderr",
     "output_type": "stream",
     "text": [
      "2592batch [15:09,  2.96batch/s]"
     ]
    },
    {
     "name": "stdout",
     "output_type": "stream",
     "text": [
      "--------------------------------\n",
      "| batch_size        | 2048     |\n",
      "| bc/               |          |\n",
      "|    batch          | 2591     |\n",
      "|    ent_loss       | 0.000723 |\n",
      "|    entropy        | -0.723   |\n",
      "|    epoch          | 108      |\n",
      "|    l2_loss        | 0        |\n",
      "|    l2_norm        | 3.7e+03  |\n",
      "|    loss           | -0.902   |\n",
      "|    neglogp        | -0.903   |\n",
      "|    prob_true_act  | 3.79     |\n",
      "|    samples_so_far | 5308416  |\n",
      "--------------------------------\n"
     ]
    },
    {
     "name": "stderr",
     "output_type": "stream",
     "text": [
      "2616batch [15:18,  2.93batch/s]"
     ]
    },
    {
     "name": "stdout",
     "output_type": "stream",
     "text": [
      "--------------------------------\n",
      "| batch_size        | 2048     |\n",
      "| bc/               |          |\n",
      "|    batch          | 2615     |\n",
      "|    ent_loss       | 0.000737 |\n",
      "|    entropy        | -0.737   |\n",
      "|    epoch          | 109      |\n",
      "|    l2_loss        | 0        |\n",
      "|    l2_norm        | 3.73e+03 |\n",
      "|    loss           | -0.883   |\n",
      "|    neglogp        | -0.884   |\n",
      "|    prob_true_act  | 3.68     |\n",
      "|    samples_so_far | 5357568  |\n",
      "--------------------------------\n"
     ]
    },
    {
     "name": "stderr",
     "output_type": "stream",
     "text": [
      "2640batch [15:26,  2.96batch/s]"
     ]
    },
    {
     "name": "stdout",
     "output_type": "stream",
     "text": [
      "--------------------------------\n",
      "| batch_size        | 2048     |\n",
      "| bc/               |          |\n",
      "|    batch          | 2639     |\n",
      "|    ent_loss       | 0.000751 |\n",
      "|    entropy        | -0.751   |\n",
      "|    epoch          | 110      |\n",
      "|    l2_loss        | 0        |\n",
      "|    l2_norm        | 3.75e+03 |\n",
      "|    loss           | -0.854   |\n",
      "|    neglogp        | -0.854   |\n",
      "|    prob_true_act  | 3.84     |\n",
      "|    samples_so_far | 5406720  |\n",
      "--------------------------------\n"
     ]
    },
    {
     "name": "stderr",
     "output_type": "stream",
     "text": [
      "2664batch [15:34,  2.99batch/s]"
     ]
    },
    {
     "name": "stdout",
     "output_type": "stream",
     "text": [
      "--------------------------------\n",
      "| batch_size        | 2048     |\n",
      "| bc/               |          |\n",
      "|    batch          | 2663     |\n",
      "|    ent_loss       | 0.000763 |\n",
      "|    entropy        | -0.763   |\n",
      "|    epoch          | 111      |\n",
      "|    l2_loss        | 0        |\n",
      "|    l2_norm        | 3.78e+03 |\n",
      "|    loss           | -0.831   |\n",
      "|    neglogp        | -0.832   |\n",
      "|    prob_true_act  | 3.53     |\n",
      "|    samples_so_far | 5455872  |\n",
      "--------------------------------\n"
     ]
    },
    {
     "name": "stderr",
     "output_type": "stream",
     "text": [
      "2688batch [15:42,  2.99batch/s]"
     ]
    },
    {
     "name": "stdout",
     "output_type": "stream",
     "text": [
      "--------------------------------\n",
      "| batch_size        | 2048     |\n",
      "| bc/               |          |\n",
      "|    batch          | 2687     |\n",
      "|    ent_loss       | 0.000775 |\n",
      "|    entropy        | -0.775   |\n",
      "|    epoch          | 112      |\n",
      "|    l2_loss        | 0        |\n",
      "|    l2_norm        | 3.82e+03 |\n",
      "|    loss           | -0.951   |\n",
      "|    neglogp        | -0.952   |\n",
      "|    prob_true_act  | 4.03     |\n",
      "|    samples_so_far | 5505024  |\n",
      "--------------------------------\n"
     ]
    },
    {
     "name": "stderr",
     "output_type": "stream",
     "text": [
      "2712batch [15:52,  3.01batch/s]"
     ]
    },
    {
     "name": "stdout",
     "output_type": "stream",
     "text": [
      "--------------------------------\n",
      "| batch_size        | 2048     |\n",
      "| bc/               |          |\n",
      "|    batch          | 2711     |\n",
      "|    ent_loss       | 0.000788 |\n",
      "|    entropy        | -0.788   |\n",
      "|    epoch          | 113      |\n",
      "|    l2_loss        | 0        |\n",
      "|    l2_norm        | 3.84e+03 |\n",
      "|    loss           | -0.845   |\n",
      "|    neglogp        | -0.846   |\n",
      "|    prob_true_act  | 4.04     |\n",
      "|    samples_so_far | 5554176  |\n",
      "--------------------------------\n"
     ]
    },
    {
     "name": "stderr",
     "output_type": "stream",
     "text": [
      "2736batch [16:00,  2.93batch/s]"
     ]
    },
    {
     "name": "stdout",
     "output_type": "stream",
     "text": [
      "--------------------------------\n",
      "| batch_size        | 2048     |\n",
      "| bc/               |          |\n",
      "|    batch          | 2735     |\n",
      "|    ent_loss       | 0.000801 |\n",
      "|    entropy        | -0.801   |\n",
      "|    epoch          | 114      |\n",
      "|    l2_loss        | 0        |\n",
      "|    l2_norm        | 3.86e+03 |\n",
      "|    loss           | -1       |\n",
      "|    neglogp        | -1       |\n",
      "|    prob_true_act  | 4.06     |\n",
      "|    samples_so_far | 5603328  |\n",
      "--------------------------------\n"
     ]
    },
    {
     "name": "stderr",
     "output_type": "stream",
     "text": [
      "2760batch [16:09,  3.02batch/s]"
     ]
    },
    {
     "name": "stdout",
     "output_type": "stream",
     "text": [
      "--------------------------------\n",
      "| batch_size        | 2048     |\n",
      "| bc/               |          |\n",
      "|    batch          | 2759     |\n",
      "|    ent_loss       | 0.000813 |\n",
      "|    entropy        | -0.813   |\n",
      "|    epoch          | 115      |\n",
      "|    l2_loss        | 0        |\n",
      "|    l2_norm        | 3.88e+03 |\n",
      "|    loss           | -0.987   |\n",
      "|    neglogp        | -0.988   |\n",
      "|    prob_true_act  | 4.17     |\n",
      "|    samples_so_far | 5652480  |\n",
      "--------------------------------\n"
     ]
    },
    {
     "name": "stderr",
     "output_type": "stream",
     "text": [
      "2784batch [16:17,  2.97batch/s]"
     ]
    },
    {
     "name": "stdout",
     "output_type": "stream",
     "text": [
      "--------------------------------\n",
      "| batch_size        | 2048     |\n",
      "| bc/               |          |\n",
      "|    batch          | 2783     |\n",
      "|    ent_loss       | 0.000825 |\n",
      "|    entropy        | -0.825   |\n",
      "|    epoch          | 116      |\n",
      "|    l2_loss        | 0        |\n",
      "|    l2_norm        | 3.9e+03  |\n",
      "|    loss           | -0.891   |\n",
      "|    neglogp        | -0.892   |\n",
      "|    prob_true_act  | 4.15     |\n",
      "|    samples_so_far | 5701632  |\n",
      "--------------------------------\n"
     ]
    },
    {
     "name": "stderr",
     "output_type": "stream",
     "text": [
      "2808batch [16:25,  2.95batch/s]"
     ]
    },
    {
     "name": "stdout",
     "output_type": "stream",
     "text": [
      "--------------------------------\n",
      "| batch_size        | 2048     |\n",
      "| bc/               |          |\n",
      "|    batch          | 2807     |\n",
      "|    ent_loss       | 0.000836 |\n",
      "|    entropy        | -0.836   |\n",
      "|    epoch          | 117      |\n",
      "|    l2_loss        | 0        |\n",
      "|    l2_norm        | 3.92e+03 |\n",
      "|    loss           | -1       |\n",
      "|    neglogp        | -1       |\n",
      "|    prob_true_act  | 4.26     |\n",
      "|    samples_so_far | 5750784  |\n",
      "--------------------------------\n"
     ]
    },
    {
     "name": "stderr",
     "output_type": "stream",
     "text": [
      "2832batch [16:34,  3.01batch/s]"
     ]
    },
    {
     "name": "stdout",
     "output_type": "stream",
     "text": [
      "--------------------------------\n",
      "| batch_size        | 2048     |\n",
      "| bc/               |          |\n",
      "|    batch          | 2831     |\n",
      "|    ent_loss       | 0.000846 |\n",
      "|    entropy        | -0.846   |\n",
      "|    epoch          | 118      |\n",
      "|    l2_loss        | 0        |\n",
      "|    l2_norm        | 3.95e+03 |\n",
      "|    loss           | -1.08    |\n",
      "|    neglogp        | -1.08    |\n",
      "|    prob_true_act  | 4.26     |\n",
      "|    samples_so_far | 5799936  |\n",
      "--------------------------------\n"
     ]
    },
    {
     "name": "stderr",
     "output_type": "stream",
     "text": [
      "2856batch [16:43,  2.93batch/s]"
     ]
    },
    {
     "name": "stdout",
     "output_type": "stream",
     "text": [
      "--------------------------------\n",
      "| batch_size        | 2048     |\n",
      "| bc/               |          |\n",
      "|    batch          | 2855     |\n",
      "|    ent_loss       | 0.000857 |\n",
      "|    entropy        | -0.857   |\n",
      "|    epoch          | 119      |\n",
      "|    l2_loss        | 0        |\n",
      "|    l2_norm        | 3.97e+03 |\n",
      "|    loss           | -0.974   |\n",
      "|    neglogp        | -0.975   |\n",
      "|    prob_true_act  | 4.24     |\n",
      "|    samples_so_far | 5849088  |\n",
      "--------------------------------\n"
     ]
    },
    {
     "name": "stderr",
     "output_type": "stream",
     "text": [
      "2880batch [16:51,  3.02batch/s]"
     ]
    },
    {
     "name": "stdout",
     "output_type": "stream",
     "text": [
      "--------------------------------\n",
      "| batch_size        | 2048     |\n",
      "| bc/               |          |\n",
      "|    batch          | 2879     |\n",
      "|    ent_loss       | 0.000868 |\n",
      "|    entropy        | -0.868   |\n",
      "|    epoch          | 120      |\n",
      "|    l2_loss        | 0        |\n",
      "|    l2_norm        | 3.99e+03 |\n",
      "|    loss           | -0.985   |\n",
      "|    neglogp        | -0.986   |\n",
      "|    prob_true_act  | 4.35     |\n",
      "|    samples_so_far | 5898240  |\n",
      "--------------------------------\n"
     ]
    },
    {
     "name": "stderr",
     "output_type": "stream",
     "text": [
      "2904batch [16:59,  2.97batch/s]"
     ]
    },
    {
     "name": "stdout",
     "output_type": "stream",
     "text": [
      "--------------------------------\n",
      "| batch_size        | 2048     |\n",
      "| bc/               |          |\n",
      "|    batch          | 2903     |\n",
      "|    ent_loss       | 0.000876 |\n",
      "|    entropy        | -0.876   |\n",
      "|    epoch          | 121      |\n",
      "|    l2_loss        | 0        |\n",
      "|    l2_norm        | 4.01e+03 |\n",
      "|    loss           | -1.07    |\n",
      "|    neglogp        | -1.07    |\n",
      "|    prob_true_act  | 4.39     |\n",
      "|    samples_so_far | 5947392  |\n",
      "--------------------------------\n"
     ]
    },
    {
     "name": "stderr",
     "output_type": "stream",
     "text": [
      "2928batch [17:08,  2.63batch/s]"
     ]
    },
    {
     "name": "stdout",
     "output_type": "stream",
     "text": [
      "--------------------------------\n",
      "| batch_size        | 2048     |\n",
      "| bc/               |          |\n",
      "|    batch          | 2927     |\n",
      "|    ent_loss       | 0.000886 |\n",
      "|    entropy        | -0.886   |\n",
      "|    epoch          | 122      |\n",
      "|    l2_loss        | 0        |\n",
      "|    l2_norm        | 4.03e+03 |\n",
      "|    loss           | -0.875   |\n",
      "|    neglogp        | -0.875   |\n",
      "|    prob_true_act  | 4.12     |\n",
      "|    samples_so_far | 5996544  |\n",
      "--------------------------------\n"
     ]
    },
    {
     "name": "stderr",
     "output_type": "stream",
     "text": [
      "2952batch [17:16,  3.02batch/s]"
     ]
    },
    {
     "name": "stdout",
     "output_type": "stream",
     "text": [
      "--------------------------------\n",
      "| batch_size        | 2048     |\n",
      "| bc/               |          |\n",
      "|    batch          | 2951     |\n",
      "|    ent_loss       | 0.000894 |\n",
      "|    entropy        | -0.894   |\n",
      "|    epoch          | 123      |\n",
      "|    l2_loss        | 0        |\n",
      "|    l2_norm        | 4.05e+03 |\n",
      "|    loss           | -1.01    |\n",
      "|    neglogp        | -1.01    |\n",
      "|    prob_true_act  | 4.47     |\n",
      "|    samples_so_far | 6045696  |\n",
      "--------------------------------\n"
     ]
    },
    {
     "name": "stderr",
     "output_type": "stream",
     "text": [
      "2976batch [17:25,  2.95batch/s]"
     ]
    },
    {
     "name": "stdout",
     "output_type": "stream",
     "text": [
      "--------------------------------\n",
      "| batch_size        | 2048     |\n",
      "| bc/               |          |\n",
      "|    batch          | 2975     |\n",
      "|    ent_loss       | 0.000904 |\n",
      "|    entropy        | -0.904   |\n",
      "|    epoch          | 124      |\n",
      "|    l2_loss        | 0        |\n",
      "|    l2_norm        | 4.07e+03 |\n",
      "|    loss           | -1.01    |\n",
      "|    neglogp        | -1.01    |\n",
      "|    prob_true_act  | 4.51     |\n",
      "|    samples_so_far | 6094848  |\n",
      "--------------------------------\n"
     ]
    },
    {
     "name": "stderr",
     "output_type": "stream",
     "text": [
      "3000batch [17:33,  2.98batch/s]"
     ]
    },
    {
     "name": "stdout",
     "output_type": "stream",
     "text": [
      "--------------------------------\n",
      "| batch_size        | 2048     |\n",
      "| bc/               |          |\n",
      "|    batch          | 2999     |\n",
      "|    ent_loss       | 0.000912 |\n",
      "|    entropy        | -0.912   |\n",
      "|    epoch          | 125      |\n",
      "|    l2_loss        | 0        |\n",
      "|    l2_norm        | 4.09e+03 |\n",
      "|    loss           | -0.951   |\n",
      "|    neglogp        | -0.952   |\n",
      "|    prob_true_act  | 4.45     |\n",
      "|    samples_so_far | 6144000  |\n",
      "--------------------------------\n"
     ]
    },
    {
     "name": "stderr",
     "output_type": "stream",
     "text": [
      "3024batch [17:41,  2.98batch/s]"
     ]
    },
    {
     "name": "stdout",
     "output_type": "stream",
     "text": [
      "--------------------------------\n",
      "| batch_size        | 2048     |\n",
      "| bc/               |          |\n",
      "|    batch          | 3023     |\n",
      "|    ent_loss       | 0.000921 |\n",
      "|    entropy        | -0.921   |\n",
      "|    epoch          | 126      |\n",
      "|    l2_loss        | 0        |\n",
      "|    l2_norm        | 4.11e+03 |\n",
      "|    loss           | -1.07    |\n",
      "|    neglogp        | -1.08    |\n",
      "|    prob_true_act  | 4.57     |\n",
      "|    samples_so_far | 6193152  |\n",
      "--------------------------------\n"
     ]
    },
    {
     "name": "stderr",
     "output_type": "stream",
     "text": [
      "3048batch [17:49,  3.01batch/s]"
     ]
    },
    {
     "name": "stdout",
     "output_type": "stream",
     "text": [
      "--------------------------------\n",
      "| batch_size        | 2048     |\n",
      "| bc/               |          |\n",
      "|    batch          | 3047     |\n",
      "|    ent_loss       | 0.000929 |\n",
      "|    entropy        | -0.929   |\n",
      "|    epoch          | 127      |\n",
      "|    l2_loss        | 0        |\n",
      "|    l2_norm        | 4.12e+03 |\n",
      "|    loss           | -1.03    |\n",
      "|    neglogp        | -1.03    |\n",
      "|    prob_true_act  | 4.69     |\n",
      "|    samples_so_far | 6242304  |\n",
      "--------------------------------\n"
     ]
    },
    {
     "name": "stderr",
     "output_type": "stream",
     "text": [
      "3072batch [17:58,  2.99batch/s]"
     ]
    },
    {
     "name": "stdout",
     "output_type": "stream",
     "text": [
      "--------------------------------\n",
      "| batch_size        | 2048     |\n",
      "| bc/               |          |\n",
      "|    batch          | 3071     |\n",
      "|    ent_loss       | 0.000935 |\n",
      "|    entropy        | -0.935   |\n",
      "|    epoch          | 128      |\n",
      "|    l2_loss        | 0        |\n",
      "|    l2_norm        | 4.14e+03 |\n",
      "|    loss           | -0.861   |\n",
      "|    neglogp        | -0.862   |\n",
      "|    prob_true_act  | 4.01     |\n",
      "|    samples_so_far | 6291456  |\n",
      "--------------------------------\n"
     ]
    },
    {
     "name": "stderr",
     "output_type": "stream",
     "text": [
      "3096batch [18:06,  2.91batch/s]"
     ]
    },
    {
     "name": "stdout",
     "output_type": "stream",
     "text": [
      "--------------------------------\n",
      "| batch_size        | 2048     |\n",
      "| bc/               |          |\n",
      "|    batch          | 3095     |\n",
      "|    ent_loss       | 0.000942 |\n",
      "|    entropy        | -0.942   |\n",
      "|    epoch          | 129      |\n",
      "|    l2_loss        | 0        |\n",
      "|    l2_norm        | 4.16e+03 |\n",
      "|    loss           | -0.934   |\n",
      "|    neglogp        | -0.935   |\n",
      "|    prob_true_act  | 4.58     |\n",
      "|    samples_so_far | 6340608  |\n",
      "--------------------------------\n"
     ]
    },
    {
     "name": "stderr",
     "output_type": "stream",
     "text": [
      "3120batch [18:15,  2.97batch/s]"
     ]
    },
    {
     "name": "stdout",
     "output_type": "stream",
     "text": [
      "--------------------------------\n",
      "| batch_size        | 2048     |\n",
      "| bc/               |          |\n",
      "|    batch          | 3119     |\n",
      "|    ent_loss       | 0.000948 |\n",
      "|    entropy        | -0.948   |\n",
      "|    epoch          | 130      |\n",
      "|    l2_loss        | 0        |\n",
      "|    l2_norm        | 4.18e+03 |\n",
      "|    loss           | -0.994   |\n",
      "|    neglogp        | -0.995   |\n",
      "|    prob_true_act  | 4.52     |\n",
      "|    samples_so_far | 6389760  |\n",
      "--------------------------------\n"
     ]
    },
    {
     "name": "stderr",
     "output_type": "stream",
     "text": [
      "3144batch [18:23,  3.02batch/s]"
     ]
    },
    {
     "name": "stdout",
     "output_type": "stream",
     "text": [
      "--------------------------------\n",
      "| batch_size        | 2048     |\n",
      "| bc/               |          |\n",
      "|    batch          | 3143     |\n",
      "|    ent_loss       | 0.000954 |\n",
      "|    entropy        | -0.954   |\n",
      "|    epoch          | 131      |\n",
      "|    l2_loss        | 0        |\n",
      "|    l2_norm        | 4.19e+03 |\n",
      "|    loss           | -1.01    |\n",
      "|    neglogp        | -1.02    |\n",
      "|    prob_true_act  | 4.66     |\n",
      "|    samples_so_far | 6438912  |\n",
      "--------------------------------\n"
     ]
    },
    {
     "name": "stderr",
     "output_type": "stream",
     "text": [
      "3168batch [18:31,  2.95batch/s]"
     ]
    },
    {
     "name": "stdout",
     "output_type": "stream",
     "text": [
      "--------------------------------\n",
      "| batch_size        | 2048     |\n",
      "| bc/               |          |\n",
      "|    batch          | 3167     |\n",
      "|    ent_loss       | 0.00096  |\n",
      "|    entropy        | -0.96    |\n",
      "|    epoch          | 132      |\n",
      "|    l2_loss        | 0        |\n",
      "|    l2_norm        | 4.21e+03 |\n",
      "|    loss           | -1.05    |\n",
      "|    neglogp        | -1.05    |\n",
      "|    prob_true_act  | 4.7      |\n",
      "|    samples_so_far | 6488064  |\n",
      "--------------------------------\n"
     ]
    },
    {
     "name": "stderr",
     "output_type": "stream",
     "text": [
      "3192batch [18:40,  2.98batch/s]"
     ]
    },
    {
     "name": "stdout",
     "output_type": "stream",
     "text": [
      "--------------------------------\n",
      "| batch_size        | 2048     |\n",
      "| bc/               |          |\n",
      "|    batch          | 3191     |\n",
      "|    ent_loss       | 0.000967 |\n",
      "|    entropy        | -0.967   |\n",
      "|    epoch          | 133      |\n",
      "|    l2_loss        | 0        |\n",
      "|    l2_norm        | 4.23e+03 |\n",
      "|    loss           | -0.988   |\n",
      "|    neglogp        | -0.989   |\n",
      "|    prob_true_act  | 4.67     |\n",
      "|    samples_so_far | 6537216  |\n",
      "--------------------------------\n"
     ]
    },
    {
     "name": "stderr",
     "output_type": "stream",
     "text": [
      "3216batch [18:48,  2.97batch/s]"
     ]
    },
    {
     "name": "stdout",
     "output_type": "stream",
     "text": [
      "--------------------------------\n",
      "| batch_size        | 2048     |\n",
      "| bc/               |          |\n",
      "|    batch          | 3215     |\n",
      "|    ent_loss       | 0.000974 |\n",
      "|    entropy        | -0.974   |\n",
      "|    epoch          | 134      |\n",
      "|    l2_loss        | 0        |\n",
      "|    l2_norm        | 4.24e+03 |\n",
      "|    loss           | -0.888   |\n",
      "|    neglogp        | -0.889   |\n",
      "|    prob_true_act  | 4.88     |\n",
      "|    samples_so_far | 6586368  |\n",
      "--------------------------------\n"
     ]
    },
    {
     "name": "stderr",
     "output_type": "stream",
     "text": [
      "3240batch [18:57,  2.85batch/s]"
     ]
    },
    {
     "name": "stdout",
     "output_type": "stream",
     "text": [
      "--------------------------------\n",
      "| batch_size        | 2048     |\n",
      "| bc/               |          |\n",
      "|    batch          | 3239     |\n",
      "|    ent_loss       | 0.000979 |\n",
      "|    entropy        | -0.979   |\n",
      "|    epoch          | 135      |\n",
      "|    l2_loss        | 0        |\n",
      "|    l2_norm        | 4.26e+03 |\n",
      "|    loss           | -0.934   |\n",
      "|    neglogp        | -0.935   |\n",
      "|    prob_true_act  | 4.53     |\n",
      "|    samples_so_far | 6635520  |\n",
      "--------------------------------\n"
     ]
    },
    {
     "name": "stderr",
     "output_type": "stream",
     "text": [
      "3264batch [19:05,  2.96batch/s]"
     ]
    },
    {
     "name": "stdout",
     "output_type": "stream",
     "text": [
      "--------------------------------\n",
      "| batch_size        | 2048     |\n",
      "| bc/               |          |\n",
      "|    batch          | 3263     |\n",
      "|    ent_loss       | 0.000982 |\n",
      "|    entropy        | -0.982   |\n",
      "|    epoch          | 136      |\n",
      "|    l2_loss        | 0        |\n",
      "|    l2_norm        | 4.28e+03 |\n",
      "|    loss           | -0.927   |\n",
      "|    neglogp        | -0.928   |\n",
      "|    prob_true_act  | 4.71     |\n",
      "|    samples_so_far | 6684672  |\n",
      "--------------------------------\n"
     ]
    },
    {
     "name": "stderr",
     "output_type": "stream",
     "text": [
      "3288batch [19:13,  2.99batch/s]"
     ]
    },
    {
     "name": "stdout",
     "output_type": "stream",
     "text": [
      "--------------------------------\n",
      "| batch_size        | 2048     |\n",
      "| bc/               |          |\n",
      "|    batch          | 3287     |\n",
      "|    ent_loss       | 0.000985 |\n",
      "|    entropy        | -0.985   |\n",
      "|    epoch          | 137      |\n",
      "|    l2_loss        | 0        |\n",
      "|    l2_norm        | 4.29e+03 |\n",
      "|    loss           | -0.983   |\n",
      "|    neglogp        | -0.984   |\n",
      "|    prob_true_act  | 4.89     |\n",
      "|    samples_so_far | 6733824  |\n",
      "--------------------------------\n"
     ]
    },
    {
     "name": "stderr",
     "output_type": "stream",
     "text": [
      "3312batch [19:22,  2.78batch/s]"
     ]
    },
    {
     "name": "stdout",
     "output_type": "stream",
     "text": [
      "--------------------------------\n",
      "| batch_size        | 2048     |\n",
      "| bc/               |          |\n",
      "|    batch          | 3311     |\n",
      "|    ent_loss       | 0.000989 |\n",
      "|    entropy        | -0.989   |\n",
      "|    epoch          | 138      |\n",
      "|    l2_loss        | 0        |\n",
      "|    l2_norm        | 4.31e+03 |\n",
      "|    loss           | -1.01    |\n",
      "|    neglogp        | -1.01    |\n",
      "|    prob_true_act  | 4.87     |\n",
      "|    samples_so_far | 6782976  |\n",
      "--------------------------------\n"
     ]
    },
    {
     "name": "stderr",
     "output_type": "stream",
     "text": [
      "3336batch [19:30,  2.96batch/s]"
     ]
    },
    {
     "name": "stdout",
     "output_type": "stream",
     "text": [
      "--------------------------------\n",
      "| batch_size        | 2048     |\n",
      "| bc/               |          |\n",
      "|    batch          | 3335     |\n",
      "|    ent_loss       | 0.000993 |\n",
      "|    entropy        | -0.993   |\n",
      "|    epoch          | 139      |\n",
      "|    l2_loss        | 0        |\n",
      "|    l2_norm        | 4.33e+03 |\n",
      "|    loss           | -1.03    |\n",
      "|    neglogp        | -1.04    |\n",
      "|    prob_true_act  | 4.87     |\n",
      "|    samples_so_far | 6832128  |\n",
      "--------------------------------\n"
     ]
    },
    {
     "name": "stderr",
     "output_type": "stream",
     "text": [
      "3360batch [19:39,  2.96batch/s]"
     ]
    },
    {
     "name": "stdout",
     "output_type": "stream",
     "text": [
      "--------------------------------\n",
      "| batch_size        | 2048     |\n",
      "| bc/               |          |\n",
      "|    batch          | 3359     |\n",
      "|    ent_loss       | 0.000998 |\n",
      "|    entropy        | -0.998   |\n",
      "|    epoch          | 140      |\n",
      "|    l2_loss        | 0        |\n",
      "|    l2_norm        | 4.35e+03 |\n",
      "|    loss           | -0.977   |\n",
      "|    neglogp        | -0.978   |\n",
      "|    prob_true_act  | 5        |\n",
      "|    samples_so_far | 6881280  |\n",
      "--------------------------------\n"
     ]
    },
    {
     "name": "stderr",
     "output_type": "stream",
     "text": [
      "3384batch [19:47,  3.01batch/s]"
     ]
    },
    {
     "name": "stdout",
     "output_type": "stream",
     "text": [
      "--------------------------------\n",
      "| batch_size        | 2048     |\n",
      "| bc/               |          |\n",
      "|    batch          | 3383     |\n",
      "|    ent_loss       | 0.001    |\n",
      "|    entropy        | -1       |\n",
      "|    epoch          | 141      |\n",
      "|    l2_loss        | 0        |\n",
      "|    l2_norm        | 4.36e+03 |\n",
      "|    loss           | -1       |\n",
      "|    neglogp        | -1       |\n",
      "|    prob_true_act  | 4.82     |\n",
      "|    samples_so_far | 6930432  |\n",
      "--------------------------------\n"
     ]
    },
    {
     "name": "stderr",
     "output_type": "stream",
     "text": [
      "3408batch [19:56,  2.49batch/s]"
     ]
    },
    {
     "name": "stdout",
     "output_type": "stream",
     "text": [
      "--------------------------------\n",
      "| batch_size        | 2048     |\n",
      "| bc/               |          |\n",
      "|    batch          | 3407     |\n",
      "|    ent_loss       | 0.00101  |\n",
      "|    entropy        | -1.01    |\n",
      "|    epoch          | 142      |\n",
      "|    l2_loss        | 0        |\n",
      "|    l2_norm        | 4.37e+03 |\n",
      "|    loss           | -1.05    |\n",
      "|    neglogp        | -1.05    |\n",
      "|    prob_true_act  | 5.01     |\n",
      "|    samples_so_far | 6979584  |\n",
      "--------------------------------\n"
     ]
    },
    {
     "name": "stderr",
     "output_type": "stream",
     "text": [
      "3432batch [20:04,  3.03batch/s]"
     ]
    },
    {
     "name": "stdout",
     "output_type": "stream",
     "text": [
      "--------------------------------\n",
      "| batch_size        | 2048     |\n",
      "| bc/               |          |\n",
      "|    batch          | 3431     |\n",
      "|    ent_loss       | 0.00101  |\n",
      "|    entropy        | -1.01    |\n",
      "|    epoch          | 143      |\n",
      "|    l2_loss        | 0        |\n",
      "|    l2_norm        | 4.39e+03 |\n",
      "|    loss           | -0.989   |\n",
      "|    neglogp        | -0.99    |\n",
      "|    prob_true_act  | 5.01     |\n",
      "|    samples_so_far | 7028736  |\n",
      "--------------------------------\n"
     ]
    },
    {
     "name": "stderr",
     "output_type": "stream",
     "text": [
      "3456batch [20:12,  2.96batch/s]"
     ]
    },
    {
     "name": "stdout",
     "output_type": "stream",
     "text": [
      "--------------------------------\n",
      "| batch_size        | 2048     |\n",
      "| bc/               |          |\n",
      "|    batch          | 3455     |\n",
      "|    ent_loss       | 0.00102  |\n",
      "|    entropy        | -1.02    |\n",
      "|    epoch          | 144      |\n",
      "|    l2_loss        | 0        |\n",
      "|    l2_norm        | 4.4e+03  |\n",
      "|    loss           | -0.981   |\n",
      "|    neglogp        | -0.982   |\n",
      "|    prob_true_act  | 4.89     |\n",
      "|    samples_so_far | 7077888  |\n",
      "--------------------------------\n"
     ]
    },
    {
     "name": "stderr",
     "output_type": "stream",
     "text": [
      "3480batch [20:21,  2.83batch/s]"
     ]
    },
    {
     "name": "stdout",
     "output_type": "stream",
     "text": [
      "--------------------------------\n",
      "| batch_size        | 2048     |\n",
      "| bc/               |          |\n",
      "|    batch          | 3479     |\n",
      "|    ent_loss       | 0.00102  |\n",
      "|    entropy        | -1.02    |\n",
      "|    epoch          | 145      |\n",
      "|    l2_loss        | 0        |\n",
      "|    l2_norm        | 4.41e+03 |\n",
      "|    loss           | -1.02    |\n",
      "|    neglogp        | -1.02    |\n",
      "|    prob_true_act  | 5.02     |\n",
      "|    samples_so_far | 7127040  |\n",
      "--------------------------------\n"
     ]
    },
    {
     "name": "stderr",
     "output_type": "stream",
     "text": [
      "3504batch [20:29,  3.00batch/s]"
     ]
    },
    {
     "name": "stdout",
     "output_type": "stream",
     "text": [
      "--------------------------------\n",
      "| batch_size        | 2048     |\n",
      "| bc/               |          |\n",
      "|    batch          | 3503     |\n",
      "|    ent_loss       | 0.00102  |\n",
      "|    entropy        | -1.02    |\n",
      "|    epoch          | 146      |\n",
      "|    l2_loss        | 0        |\n",
      "|    l2_norm        | 4.43e+03 |\n",
      "|    loss           | -0.913   |\n",
      "|    neglogp        | -0.914   |\n",
      "|    prob_true_act  | 4.98     |\n",
      "|    samples_so_far | 7176192  |\n",
      "--------------------------------\n"
     ]
    },
    {
     "name": "stderr",
     "output_type": "stream",
     "text": [
      "3528batch [20:39,  1.55batch/s]"
     ]
    },
    {
     "name": "stdout",
     "output_type": "stream",
     "text": [
      "--------------------------------\n",
      "| batch_size        | 2048     |\n",
      "| bc/               |          |\n",
      "|    batch          | 3527     |\n",
      "|    ent_loss       | 0.00102  |\n",
      "|    entropy        | -1.02    |\n",
      "|    epoch          | 147      |\n",
      "|    l2_loss        | 0        |\n",
      "|    l2_norm        | 4.45e+03 |\n",
      "|    loss           | -1.01    |\n",
      "|    neglogp        | -1.01    |\n",
      "|    prob_true_act  | 5.1      |\n",
      "|    samples_so_far | 7225344  |\n",
      "--------------------------------\n"
     ]
    },
    {
     "name": "stderr",
     "output_type": "stream",
     "text": [
      "3552batch [20:47,  3.03batch/s]"
     ]
    },
    {
     "name": "stdout",
     "output_type": "stream",
     "text": [
      "--------------------------------\n",
      "| batch_size        | 2048     |\n",
      "| bc/               |          |\n",
      "|    batch          | 3551     |\n",
      "|    ent_loss       | 0.00103  |\n",
      "|    entropy        | -1.03    |\n",
      "|    epoch          | 148      |\n",
      "|    l2_loss        | 0        |\n",
      "|    l2_norm        | 4.46e+03 |\n",
      "|    loss           | -1.07    |\n",
      "|    neglogp        | -1.07    |\n",
      "|    prob_true_act  | 4.86     |\n",
      "|    samples_so_far | 7274496  |\n",
      "--------------------------------\n"
     ]
    },
    {
     "name": "stderr",
     "output_type": "stream",
     "text": [
      "3576batch [20:55,  2.93batch/s]"
     ]
    },
    {
     "name": "stdout",
     "output_type": "stream",
     "text": [
      "--------------------------------\n",
      "| batch_size        | 2048     |\n",
      "| bc/               |          |\n",
      "|    batch          | 3575     |\n",
      "|    ent_loss       | 0.00103  |\n",
      "|    entropy        | -1.03    |\n",
      "|    epoch          | 149      |\n",
      "|    l2_loss        | 0        |\n",
      "|    l2_norm        | 4.47e+03 |\n",
      "|    loss           | -0.929   |\n",
      "|    neglogp        | -0.93    |\n",
      "|    prob_true_act  | 4.8      |\n",
      "|    samples_so_far | 7323648  |\n",
      "--------------------------------\n"
     ]
    },
    {
     "name": "stderr",
     "output_type": "stream",
     "text": [
      "3600batch [21:03,  2.99batch/s]"
     ]
    },
    {
     "name": "stdout",
     "output_type": "stream",
     "text": [
      "--------------------------------\n",
      "| batch_size        | 2048     |\n",
      "| bc/               |          |\n",
      "|    batch          | 3599     |\n",
      "|    ent_loss       | 0.00103  |\n",
      "|    entropy        | -1.03    |\n",
      "|    epoch          | 150      |\n",
      "|    l2_loss        | 0        |\n",
      "|    l2_norm        | 4.49e+03 |\n",
      "|    loss           | -0.874   |\n",
      "|    neglogp        | -0.875   |\n",
      "|    prob_true_act  | 5.04     |\n",
      "|    samples_so_far | 7372800  |\n",
      "--------------------------------\n"
     ]
    },
    {
     "name": "stderr",
     "output_type": "stream",
     "text": [
      "3600batch [21:04,  2.85batch/s]\n"
     ]
    },
    {
     "name": "stdout",
     "output_type": "stream",
     "text": [
      "13\n",
      "15\n",
      "1\n",
      "20\n",
      "4\n",
      "15\n",
      "8\n",
      "9\n",
      "16\n",
      "12\n",
      "0\n",
      "13\n",
      "15\n",
      "16\n",
      "13\n",
      "Reward after training: 700.7854387789964\n"
     ]
    }
   ],
   "source": [
    "bc_trainer.train(n_epochs=150, log_interval=1)\n",
    "reward_after_training, _ = evaluate_policy(bc_trainer.policy, venv1, 10)\n",
    "print(f\"Reward after training: {reward_after_training}\")"
   ]
  },
  {
   "cell_type": "code",
   "execution_count": 12,
   "metadata": {},
   "outputs": [
    {
     "name": "stdout",
     "output_type": "stream",
     "text": [
      "Reward before training: 341.26125118732455\n",
      "Reward after training: 700.7854387789964\n"
     ]
    }
   ],
   "source": [
    "print(f\"Reward before training: {reward_before_training}\")\n",
    "print(f\"Reward after training: {reward_after_training}\")"
   ]
  },
  {
   "cell_type": "code",
   "execution_count": 13,
   "metadata": {},
   "outputs": [
    {
     "name": "stdout",
     "output_type": "stream",
     "text": [
      "['batch_size', 'bc/loss', 'bc/samples_so_far', 'bc/epoch', 'bc/ent_loss', 'bc/l2_norm', 'bc/entropy', 'bc/batch', 'bc/prob_true_act', 'bc/neglogp', 'bc/l2_loss']\n",
      "(150, 11)\n"
     ]
    }
   ],
   "source": [
    "# read csv\n",
    "with open('./log/progress.csv', 'r') as f:\n",
    "    \n",
    "    # read header\n",
    "    header = f.readline().strip().split(',')\n",
    "    print(header)\n",
    "    \n",
    "    # read data\n",
    "    data = []\n",
    "    for line in f:\n",
    "        data.append(list(map(float, line.strip().split(','))))\n",
    "    data = np.array(data)\n",
    "    print(data.shape)"
   ]
  },
  {
   "cell_type": "code",
   "execution_count": 16,
   "metadata": {},
   "outputs": [
    {
     "data": {
      "image/png": "[encoded data removed]",
      "text/plain": [
       "<Figure size 1000x1000 with 1 Axes>"
      ]
     },
     "metadata": {},
     "output_type": "display_data"
    },
    {
     "data": {
      "text/plain": [
       "<Figure size 640x480 with 0 Axes>"
      ]
     },
     "metadata": {},
     "output_type": "display_data"
    }
   ],
   "source": [
    "import matplotlib.pyplot as plt\n",
    "\n",
    "y_data = data[:, 5]\n",
    "x_data = range(0, len(y_data)*2, 2)\n",
    "plt.figure(figsize=(10, 10))\n",
    "plt.subplot(2, 2, 1)\n",
    "plt.plot(data[:, 1])\n",
    "# plt.plot(x_data, y_data)\n",
    "plt.title(\"training bc/loss\")\n",
    "plt.show()\n",
    "\n",
    "# グラフを保存\n",
    "plt.savefig('bc_loss.png')\n"
   ]
  },
  {
   "cell_type": "code",
   "execution_count": 15,
   "metadata": {},
   "outputs": [
    {
     "data": {
      "text/plain": [
       "<Figure size 640x480 with 0 Axes>"
      ]
     },
     "metadata": {},
     "output_type": "display_data"
    }
   ],
   "source": [
    "import os\n",
    "\n",
    "new_name = '24-02-08_e150_cnn_7_nono_S1'\n",
    "# 新しいファイル名\n",
    "new_csv_filename = './log/progress_' + new_name + '.csv'\n",
    "new_txt_filename = './log/log_' + new_name + '.txt'\n",
    "\n",
    "# 旧ファイル名から新ファイル名への変更\n",
    "os.rename('./log/progress.csv', new_csv_filename)\n",
    "os.rename('./log/log.txt', new_txt_filename)\n",
    "\n",
    "# グラフを保存\n",
    "plt.savefig('bc_loss_' + new_name + '.png')\n",
    "\n",
    "from imitation.util import util\n",
    "util.save_policy(bc_trainer.policy, './model/bc_policy_' + new_name)\n",
    "bc_trainer.policy.save('./model/bc_policy' + new_name + '.zip')\n"
   ]
  },
  {
   "cell_type": "code",
   "execution_count": 17,
   "metadata": {},
   "outputs": [
    {
     "data": {
      "text/plain": [
       "<Figure size 640x480 with 0 Axes>"
      ]
     },
     "metadata": {},
     "output_type": "display_data"
    }
   ],
   "source": []
  },
  {
   "cell_type": "code",
   "execution_count": null,
   "metadata": {},
   "outputs": [],
   "source": []
  }
 ],
 "metadata": {
  "kernelspec": {
   "display_name": "env38",
   "language": "python",
   "name": "python3"
  },
  "language_info": {
   "codemirror_mode": {
    "name": "ipython",
    "version": 3
   },
   "file_extension": ".py",
   "mimetype": "text/x-python",
   "name": "python",
   "nbconvert_exporter": "python",
   "pygments_lexer": "ipython3",
   "version": "3.8.18"
  }
 },
 "nbformat": 4,
 "nbformat_minor": 2
}
